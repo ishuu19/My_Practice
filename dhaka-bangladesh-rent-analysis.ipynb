{
 "cells": [
  {
   "cell_type": "code",
   "execution_count": 1,
   "id": "243ab539",
   "metadata": {
    "_cell_guid": "b1076dfc-b9ad-4769-8c92-a6c4dae69d19",
    "_uuid": "8f2839f25d086af736a60e9eeb907d3b93b6e0e5",
    "execution": {
     "iopub.execute_input": "2025-01-12T10:28:05.661309Z",
     "iopub.status.busy": "2025-01-12T10:28:05.660954Z",
     "iopub.status.idle": "2025-01-12T10:28:08.427470Z",
     "shell.execute_reply": "2025-01-12T10:28:08.426155Z"
    },
    "papermill": {
     "duration": 2.779995,
     "end_time": "2025-01-12T10:28:08.429292",
     "exception": false,
     "start_time": "2025-01-12T10:28:05.649297",
     "status": "completed"
    },
    "tags": []
   },
   "outputs": [
    {
     "name": "stdout",
     "output_type": "stream",
     "text": [
      "/kaggle/input/house-price-bangladesh/house_price_bd.csv\n",
      "/kaggle/input/locations-dhaka-rent4/locations.json\n"
     ]
    }
   ],
   "source": [
    "# This Python 3 environment comes with many helpful analytics libraries installed\n",
    "# It is defined by the kaggle/python Docker image: https://github.com/kaggle/docker-python\n",
    "# For example, here's several helpful packages to load\n",
    "\n",
    "import numpy as np # linear algebra\n",
    "import pandas as pd # data processing, CSV file I/O (e.g. pd.read_csv)\n",
    "from sklearn.impute import KNNImputer\n",
    "import plotly.express as px\n",
    "import pandas as pd\n",
    "import matplotlib.pyplot as plt\n",
    "import seaborn as sns\n",
    "\n",
    "\n",
    "# Input data files are available in the read-only \"../input/\" directory\n",
    "# For example, running this (by clicking run or pressing Shift+Enter) will list all files under the input directory\n",
    "\n",
    "import os\n",
    "for dirname, _, filenames in os.walk('/kaggle/input'):\n",
    "    for filename in filenames:\n",
    "        print(os.path.join(dirname, filename))\n",
    "\n",
    "# You can write up to 20GB to the current directory (/kaggle/working/) that gets preserved as output when you create a version using \"Save & Run All\" \n",
    "# You can also write temporary files to /kaggle/temp/, but they won't be saved outside of the current session"
   ]
  },
  {
   "cell_type": "code",
   "execution_count": 2,
   "id": "7003470d",
   "metadata": {
    "execution": {
     "iopub.execute_input": "2025-01-12T10:28:08.451285Z",
     "iopub.status.busy": "2025-01-12T10:28:08.450777Z",
     "iopub.status.idle": "2025-01-12T10:28:08.513707Z",
     "shell.execute_reply": "2025-01-12T10:28:08.512639Z"
    },
    "papermill": {
     "duration": 0.075543,
     "end_time": "2025-01-12T10:28:08.515589",
     "exception": false,
     "start_time": "2025-01-12T10:28:08.440046",
     "status": "completed"
    },
    "tags": []
   },
   "outputs": [
    {
     "data": {
      "text/html": [
       "<div>\n",
       "<style scoped>\n",
       "    .dataframe tbody tr th:only-of-type {\n",
       "        vertical-align: middle;\n",
       "    }\n",
       "\n",
       "    .dataframe tbody tr th {\n",
       "        vertical-align: top;\n",
       "    }\n",
       "\n",
       "    .dataframe thead th {\n",
       "        text-align: right;\n",
       "    }\n",
       "</style>\n",
       "<table border=\"1\" class=\"dataframe\">\n",
       "  <thead>\n",
       "    <tr style=\"text-align: right;\">\n",
       "      <th></th>\n",
       "      <th>Title</th>\n",
       "      <th>Bedrooms</th>\n",
       "      <th>Bathrooms</th>\n",
       "      <th>Floor_no</th>\n",
       "      <th>Occupancy_status</th>\n",
       "      <th>Floor_area</th>\n",
       "      <th>City</th>\n",
       "      <th>Price_in_taka</th>\n",
       "      <th>Location</th>\n",
       "    </tr>\n",
       "  </thead>\n",
       "  <tbody>\n",
       "    <tr>\n",
       "      <th>0</th>\n",
       "      <td>We Are Offering You A Very Spacious 1960 Sq Ft...</td>\n",
       "      <td>3.0</td>\n",
       "      <td>4.0</td>\n",
       "      <td>3</td>\n",
       "      <td>vacant</td>\n",
       "      <td>1960.0</td>\n",
       "      <td>dhaka</td>\n",
       "      <td>৳39,000,000</td>\n",
       "      <td>Gulshan 1, Gulshan</td>\n",
       "    </tr>\n",
       "    <tr>\n",
       "      <th>1</th>\n",
       "      <td>Valuable 1705 Square Feet Apartment Is Ready T...</td>\n",
       "      <td>3.0</td>\n",
       "      <td>3.0</td>\n",
       "      <td>1</td>\n",
       "      <td>vacant</td>\n",
       "      <td>1705.0</td>\n",
       "      <td>dhaka</td>\n",
       "      <td>৳16,900,000</td>\n",
       "      <td>Lake Circus Road, Kalabagan</td>\n",
       "    </tr>\n",
       "    <tr>\n",
       "      <th>2</th>\n",
       "      <td>1370 square feet apartment is ready to sale in...</td>\n",
       "      <td>3.0</td>\n",
       "      <td>3.0</td>\n",
       "      <td>6</td>\n",
       "      <td>vacant</td>\n",
       "      <td>1370.0</td>\n",
       "      <td>dhaka</td>\n",
       "      <td>৳12,500,000</td>\n",
       "      <td>Shukrabad, Dhanmondi</td>\n",
       "    </tr>\n",
       "    <tr>\n",
       "      <th>3</th>\n",
       "      <td>2125 Square Feet Apartment For Sale In Bashund...</td>\n",
       "      <td>3.0</td>\n",
       "      <td>3.0</td>\n",
       "      <td>4</td>\n",
       "      <td>vacant</td>\n",
       "      <td>2125.0</td>\n",
       "      <td>dhaka</td>\n",
       "      <td>৳20,000,000</td>\n",
       "      <td>Block L, Bashundhara R-A</td>\n",
       "    </tr>\n",
       "    <tr>\n",
       "      <th>4</th>\n",
       "      <td>Buy This 2687 Square Feet Flat In The Nice Are...</td>\n",
       "      <td>3.0</td>\n",
       "      <td>3.0</td>\n",
       "      <td>4</td>\n",
       "      <td>vacant</td>\n",
       "      <td>2687.0</td>\n",
       "      <td>dhaka</td>\n",
       "      <td>৳47,500,000</td>\n",
       "      <td>Road No 25, Banani</td>\n",
       "    </tr>\n",
       "  </tbody>\n",
       "</table>\n",
       "</div>"
      ],
      "text/plain": [
       "                                               Title  Bedrooms  Bathrooms  \\\n",
       "0  We Are Offering You A Very Spacious 1960 Sq Ft...       3.0        4.0   \n",
       "1  Valuable 1705 Square Feet Apartment Is Ready T...       3.0        3.0   \n",
       "2  1370 square feet apartment is ready to sale in...       3.0        3.0   \n",
       "3  2125 Square Feet Apartment For Sale In Bashund...       3.0        3.0   \n",
       "4  Buy This 2687 Square Feet Flat In The Nice Are...       3.0        3.0   \n",
       "\n",
       "  Floor_no Occupancy_status  Floor_area   City Price_in_taka  \\\n",
       "0        3           vacant      1960.0  dhaka   ৳39,000,000   \n",
       "1        1           vacant      1705.0  dhaka   ৳16,900,000   \n",
       "2        6           vacant      1370.0  dhaka   ৳12,500,000   \n",
       "3        4           vacant      2125.0  dhaka   ৳20,000,000   \n",
       "4        4           vacant      2687.0  dhaka   ৳47,500,000   \n",
       "\n",
       "                      Location  \n",
       "0           Gulshan 1, Gulshan  \n",
       "1  Lake Circus Road, Kalabagan  \n",
       "2         Shukrabad, Dhanmondi  \n",
       "3     Block L, Bashundhara R-A  \n",
       "4           Road No 25, Banani  "
      ]
     },
     "execution_count": 2,
     "metadata": {},
     "output_type": "execute_result"
    }
   ],
   "source": [
    "data = pd.read_csv(\"/kaggle/input/house-price-bangladesh/house_price_bd.csv\")\n",
    "data.head(5)"
   ]
  },
  {
   "cell_type": "code",
   "execution_count": 3,
   "id": "2fc24649",
   "metadata": {
    "execution": {
     "iopub.execute_input": "2025-01-12T10:28:08.536671Z",
     "iopub.status.busy": "2025-01-12T10:28:08.536209Z",
     "iopub.status.idle": "2025-01-12T10:28:08.542180Z",
     "shell.execute_reply": "2025-01-12T10:28:08.541142Z"
    },
    "papermill": {
     "duration": 0.018325,
     "end_time": "2025-01-12T10:28:08.543869",
     "exception": false,
     "start_time": "2025-01-12T10:28:08.525544",
     "status": "completed"
    },
    "tags": []
   },
   "outputs": [
    {
     "data": {
      "text/plain": [
       "(3865, 9)"
      ]
     },
     "execution_count": 3,
     "metadata": {},
     "output_type": "execute_result"
    }
   ],
   "source": [
    "data.shape"
   ]
  },
  {
   "cell_type": "code",
   "execution_count": 4,
   "id": "b9bb2aa6",
   "metadata": {
    "execution": {
     "iopub.execute_input": "2025-01-12T10:28:08.564924Z",
     "iopub.status.busy": "2025-01-12T10:28:08.564543Z",
     "iopub.status.idle": "2025-01-12T10:28:08.585590Z",
     "shell.execute_reply": "2025-01-12T10:28:08.584551Z"
    },
    "papermill": {
     "duration": 0.033355,
     "end_time": "2025-01-12T10:28:08.587182",
     "exception": false,
     "start_time": "2025-01-12T10:28:08.553827",
     "status": "completed"
    },
    "tags": []
   },
   "outputs": [
    {
     "data": {
      "text/html": [
       "<div>\n",
       "<style scoped>\n",
       "    .dataframe tbody tr th:only-of-type {\n",
       "        vertical-align: middle;\n",
       "    }\n",
       "\n",
       "    .dataframe tbody tr th {\n",
       "        vertical-align: top;\n",
       "    }\n",
       "\n",
       "    .dataframe thead th {\n",
       "        text-align: right;\n",
       "    }\n",
       "</style>\n",
       "<table border=\"1\" class=\"dataframe\">\n",
       "  <thead>\n",
       "    <tr style=\"text-align: right;\">\n",
       "      <th></th>\n",
       "      <th>Bedrooms</th>\n",
       "      <th>Bathrooms</th>\n",
       "      <th>Floor_area</th>\n",
       "    </tr>\n",
       "  </thead>\n",
       "  <tbody>\n",
       "    <tr>\n",
       "      <th>count</th>\n",
       "      <td>2864.000000</td>\n",
       "      <td>2864.000000</td>\n",
       "      <td>3766.000000</td>\n",
       "    </tr>\n",
       "    <tr>\n",
       "      <th>mean</th>\n",
       "      <td>3.133031</td>\n",
       "      <td>2.992668</td>\n",
       "      <td>1940.299522</td>\n",
       "    </tr>\n",
       "    <tr>\n",
       "      <th>std</th>\n",
       "      <td>2.215457</td>\n",
       "      <td>0.978434</td>\n",
       "      <td>6024.921935</td>\n",
       "    </tr>\n",
       "    <tr>\n",
       "      <th>min</th>\n",
       "      <td>1.000000</td>\n",
       "      <td>1.000000</td>\n",
       "      <td>84.000000</td>\n",
       "    </tr>\n",
       "    <tr>\n",
       "      <th>25%</th>\n",
       "      <td>3.000000</td>\n",
       "      <td>3.000000</td>\n",
       "      <td>1100.000000</td>\n",
       "    </tr>\n",
       "    <tr>\n",
       "      <th>50%</th>\n",
       "      <td>3.000000</td>\n",
       "      <td>3.000000</td>\n",
       "      <td>1380.000000</td>\n",
       "    </tr>\n",
       "    <tr>\n",
       "      <th>75%</th>\n",
       "      <td>3.000000</td>\n",
       "      <td>3.000000</td>\n",
       "      <td>1860.000000</td>\n",
       "    </tr>\n",
       "    <tr>\n",
       "      <th>max</th>\n",
       "      <td>50.000000</td>\n",
       "      <td>10.000000</td>\n",
       "      <td>195840.000000</td>\n",
       "    </tr>\n",
       "  </tbody>\n",
       "</table>\n",
       "</div>"
      ],
      "text/plain": [
       "          Bedrooms    Bathrooms     Floor_area\n",
       "count  2864.000000  2864.000000    3766.000000\n",
       "mean      3.133031     2.992668    1940.299522\n",
       "std       2.215457     0.978434    6024.921935\n",
       "min       1.000000     1.000000      84.000000\n",
       "25%       3.000000     3.000000    1100.000000\n",
       "50%       3.000000     3.000000    1380.000000\n",
       "75%       3.000000     3.000000    1860.000000\n",
       "max      50.000000    10.000000  195840.000000"
      ]
     },
     "execution_count": 4,
     "metadata": {},
     "output_type": "execute_result"
    }
   ],
   "source": [
    "data.describe()"
   ]
  },
  {
   "cell_type": "code",
   "execution_count": 5,
   "id": "e0025cec",
   "metadata": {
    "execution": {
     "iopub.execute_input": "2025-01-12T10:28:08.609216Z",
     "iopub.status.busy": "2025-01-12T10:28:08.608887Z",
     "iopub.status.idle": "2025-01-12T10:28:08.637598Z",
     "shell.execute_reply": "2025-01-12T10:28:08.636504Z"
    },
    "papermill": {
     "duration": 0.041468,
     "end_time": "2025-01-12T10:28:08.639160",
     "exception": false,
     "start_time": "2025-01-12T10:28:08.597692",
     "status": "completed"
    },
    "tags": []
   },
   "outputs": [
    {
     "name": "stdout",
     "output_type": "stream",
     "text": [
      "<class 'pandas.core.frame.DataFrame'>\n",
      "RangeIndex: 3865 entries, 0 to 3864\n",
      "Data columns (total 9 columns):\n",
      " #   Column            Non-Null Count  Dtype  \n",
      "---  ------            --------------  -----  \n",
      " 0   Title             3865 non-null   object \n",
      " 1   Bedrooms          2864 non-null   float64\n",
      " 2   Bathrooms         2864 non-null   float64\n",
      " 3   Floor_no          3181 non-null   object \n",
      " 4   Occupancy_status  3766 non-null   object \n",
      " 5   Floor_area        3766 non-null   float64\n",
      " 6   City              3865 non-null   object \n",
      " 7   Price_in_taka     3865 non-null   object \n",
      " 8   Location          3859 non-null   object \n",
      "dtypes: float64(3), object(6)\n",
      "memory usage: 271.9+ KB\n"
     ]
    }
   ],
   "source": [
    "data.info()"
   ]
  },
  {
   "cell_type": "code",
   "execution_count": 6,
   "id": "11296db0",
   "metadata": {
    "execution": {
     "iopub.execute_input": "2025-01-12T10:28:08.660383Z",
     "iopub.status.busy": "2025-01-12T10:28:08.659989Z",
     "iopub.status.idle": "2025-01-12T10:28:08.666894Z",
     "shell.execute_reply": "2025-01-12T10:28:08.666009Z"
    },
    "papermill": {
     "duration": 0.019039,
     "end_time": "2025-01-12T10:28:08.668257",
     "exception": false,
     "start_time": "2025-01-12T10:28:08.649218",
     "status": "completed"
    },
    "tags": []
   },
   "outputs": [
    {
     "data": {
      "text/plain": [
       "Title                object\n",
       "Bedrooms            float64\n",
       "Bathrooms           float64\n",
       "Floor_no             object\n",
       "Occupancy_status     object\n",
       "Floor_area          float64\n",
       "City                 object\n",
       "Price_in_taka        object\n",
       "Location             object\n",
       "dtype: object"
      ]
     },
     "execution_count": 6,
     "metadata": {},
     "output_type": "execute_result"
    }
   ],
   "source": [
    "data.dtypes"
   ]
  },
  {
   "cell_type": "code",
   "execution_count": 7,
   "id": "2bbcdfb5",
   "metadata": {
    "execution": {
     "iopub.execute_input": "2025-01-12T10:28:08.689767Z",
     "iopub.status.busy": "2025-01-12T10:28:08.689413Z",
     "iopub.status.idle": "2025-01-12T10:28:08.698603Z",
     "shell.execute_reply": "2025-01-12T10:28:08.697450Z"
    },
    "papermill": {
     "duration": 0.02188,
     "end_time": "2025-01-12T10:28:08.700298",
     "exception": false,
     "start_time": "2025-01-12T10:28:08.678418",
     "status": "completed"
    },
    "tags": []
   },
   "outputs": [
    {
     "data": {
      "text/plain": [
       "Title                  0\n",
       "Bedrooms            1001\n",
       "Bathrooms           1001\n",
       "Floor_no             684\n",
       "Occupancy_status      99\n",
       "Floor_area            99\n",
       "City                   0\n",
       "Price_in_taka          0\n",
       "Location               6\n",
       "dtype: int64"
      ]
     },
     "execution_count": 7,
     "metadata": {},
     "output_type": "execute_result"
    }
   ],
   "source": [
    "data.isna().sum()"
   ]
  },
  {
   "cell_type": "code",
   "execution_count": 8,
   "id": "7cc87c97",
   "metadata": {
    "execution": {
     "iopub.execute_input": "2025-01-12T10:28:08.722349Z",
     "iopub.status.busy": "2025-01-12T10:28:08.721985Z",
     "iopub.status.idle": "2025-01-12T10:28:08.732442Z",
     "shell.execute_reply": "2025-01-12T10:28:08.731461Z"
    },
    "papermill": {
     "duration": 0.023428,
     "end_time": "2025-01-12T10:28:08.734189",
     "exception": false,
     "start_time": "2025-01-12T10:28:08.710761",
     "status": "completed"
    },
    "tags": []
   },
   "outputs": [
    {
     "data": {
      "text/plain": [
       "934"
      ]
     },
     "execution_count": 8,
     "metadata": {},
     "output_type": "execute_result"
    }
   ],
   "source": [
    "# check duplicates\n",
    "data.duplicated().sum()"
   ]
  },
  {
   "cell_type": "code",
   "execution_count": 9,
   "id": "2a8d5733",
   "metadata": {
    "execution": {
     "iopub.execute_input": "2025-01-12T10:28:08.756290Z",
     "iopub.status.busy": "2025-01-12T10:28:08.755935Z",
     "iopub.status.idle": "2025-01-12T10:28:08.765656Z",
     "shell.execute_reply": "2025-01-12T10:28:08.764752Z"
    },
    "papermill": {
     "duration": 0.022882,
     "end_time": "2025-01-12T10:28:08.767490",
     "exception": false,
     "start_time": "2025-01-12T10:28:08.744608",
     "status": "completed"
    },
    "tags": []
   },
   "outputs": [],
   "source": [
    "# Drop duplicate rows\n",
    "data.drop_duplicates(inplace=True)"
   ]
  },
  {
   "cell_type": "code",
   "execution_count": 10,
   "id": "fe9b0d5a",
   "metadata": {
    "execution": {
     "iopub.execute_input": "2025-01-12T10:28:08.789202Z",
     "iopub.status.busy": "2025-01-12T10:28:08.788878Z",
     "iopub.status.idle": "2025-01-12T10:28:08.797610Z",
     "shell.execute_reply": "2025-01-12T10:28:08.796732Z"
    },
    "papermill": {
     "duration": 0.021197,
     "end_time": "2025-01-12T10:28:08.799125",
     "exception": false,
     "start_time": "2025-01-12T10:28:08.777928",
     "status": "completed"
    },
    "tags": []
   },
   "outputs": [
    {
     "data": {
      "text/plain": [
       "0"
      ]
     },
     "execution_count": 10,
     "metadata": {},
     "output_type": "execute_result"
    }
   ],
   "source": [
    "# check again\n",
    "data.duplicated().sum()"
   ]
  },
  {
   "cell_type": "code",
   "execution_count": 11,
   "id": "6a7ee702",
   "metadata": {
    "execution": {
     "iopub.execute_input": "2025-01-12T10:28:08.820999Z",
     "iopub.status.busy": "2025-01-12T10:28:08.820651Z",
     "iopub.status.idle": "2025-01-12T10:28:08.828019Z",
     "shell.execute_reply": "2025-01-12T10:28:08.826953Z"
    },
    "papermill": {
     "duration": 0.020223,
     "end_time": "2025-01-12T10:28:08.829660",
     "exception": false,
     "start_time": "2025-01-12T10:28:08.809437",
     "status": "completed"
    },
    "tags": []
   },
   "outputs": [
    {
     "name": "stdout",
     "output_type": "stream",
     "text": [
      "Column 'Bedrooms' unique values: [ 3.  4.  2. nan 16.  8.  5.  1.  6. 18. 46.  7. 13. 33. 50. 23. 21. 22.\n",
      " 20. 27. 15.]\n",
      "Column 'Bathrooms' unique values: [ 4.  3.  2. nan  5. 10.  1.  6.  8.]\n",
      "Column 'Floor_no' unique values: ['3' '1' '6' '4' '8' '2' '5' '7' '9' '8th' nan '10' '14' 'G+7' '13' '12'\n",
      " '1st' '11' 'A1,A2,A3,A4,A5,A6,A7' '0+7' '1F' '4th to 8th Backside' '18'\n",
      " '5th' '17' 'Merin City - Purbach']\n",
      "Column 'Occupancy_status' unique values: ['vacant' 'occupied' nan]\n"
     ]
    }
   ],
   "source": [
    "# Columns of interest\n",
    "columns_of_interest = ['Bedrooms', 'Bathrooms', 'Floor_no', 'Occupancy_status']\n",
    "\n",
    "# Extract and analyze specific columns\n",
    "for col in columns_of_interest:\n",
    "    if col in data.columns:\n",
    "        unique_values = data[col].unique()\n",
    "        print(f\"Column '{col}' unique values: {unique_values}\")"
   ]
  },
  {
   "cell_type": "code",
   "execution_count": 12,
   "id": "14445780",
   "metadata": {
    "execution": {
     "iopub.execute_input": "2025-01-12T10:28:08.851584Z",
     "iopub.status.busy": "2025-01-12T10:28:08.851167Z",
     "iopub.status.idle": "2025-01-12T10:28:08.862589Z",
     "shell.execute_reply": "2025-01-12T10:28:08.861552Z"
    },
    "papermill": {
     "duration": 0.02428,
     "end_time": "2025-01-12T10:28:08.864258",
     "exception": false,
     "start_time": "2025-01-12T10:28:08.839978",
     "status": "completed"
    },
    "tags": []
   },
   "outputs": [],
   "source": [
    "data['Price_in_taka'] = data['Price_in_taka'].str.replace(',', '').str.replace('৳', '').astype(\"int64\")"
   ]
  },
  {
   "cell_type": "code",
   "execution_count": 13,
   "id": "75a7da67",
   "metadata": {
    "execution": {
     "iopub.execute_input": "2025-01-12T10:28:08.888770Z",
     "iopub.status.busy": "2025-01-12T10:28:08.888371Z",
     "iopub.status.idle": "2025-01-12T10:28:08.893450Z",
     "shell.execute_reply": "2025-01-12T10:28:08.892193Z"
    },
    "papermill": {
     "duration": 0.020184,
     "end_time": "2025-01-12T10:28:08.895149",
     "exception": false,
     "start_time": "2025-01-12T10:28:08.874965",
     "status": "completed"
    },
    "tags": []
   },
   "outputs": [],
   "source": [
    "data['Price_in_taka'] = data['Price_in_taka'] / 1_000_000"
   ]
  },
  {
   "cell_type": "code",
   "execution_count": 14,
   "id": "de4e04c0",
   "metadata": {
    "execution": {
     "iopub.execute_input": "2025-01-12T10:28:08.917622Z",
     "iopub.status.busy": "2025-01-12T10:28:08.917190Z",
     "iopub.status.idle": "2025-01-12T10:28:08.921801Z",
     "shell.execute_reply": "2025-01-12T10:28:08.920891Z"
    },
    "papermill": {
     "duration": 0.017548,
     "end_time": "2025-01-12T10:28:08.923187",
     "exception": false,
     "start_time": "2025-01-12T10:28:08.905639",
     "status": "completed"
    },
    "tags": []
   },
   "outputs": [],
   "source": [
    "data.rename(columns={'Price_in_taka': 'Price_in_taka(M)'}, inplace=True)"
   ]
  },
  {
   "cell_type": "code",
   "execution_count": 15,
   "id": "067ee92d",
   "metadata": {
    "execution": {
     "iopub.execute_input": "2025-01-12T10:28:08.945017Z",
     "iopub.status.busy": "2025-01-12T10:28:08.944674Z",
     "iopub.status.idle": "2025-01-12T10:28:08.959298Z",
     "shell.execute_reply": "2025-01-12T10:28:08.958296Z"
    },
    "papermill": {
     "duration": 0.027479,
     "end_time": "2025-01-12T10:28:08.960997",
     "exception": false,
     "start_time": "2025-01-12T10:28:08.933518",
     "status": "completed"
    },
    "tags": []
   },
   "outputs": [
    {
     "data": {
      "text/html": [
       "<div>\n",
       "<style scoped>\n",
       "    .dataframe tbody tr th:only-of-type {\n",
       "        vertical-align: middle;\n",
       "    }\n",
       "\n",
       "    .dataframe tbody tr th {\n",
       "        vertical-align: top;\n",
       "    }\n",
       "\n",
       "    .dataframe thead th {\n",
       "        text-align: right;\n",
       "    }\n",
       "</style>\n",
       "<table border=\"1\" class=\"dataframe\">\n",
       "  <thead>\n",
       "    <tr style=\"text-align: right;\">\n",
       "      <th></th>\n",
       "      <th>Title</th>\n",
       "      <th>Bedrooms</th>\n",
       "      <th>Bathrooms</th>\n",
       "      <th>Floor_no</th>\n",
       "      <th>Occupancy_status</th>\n",
       "      <th>Floor_area</th>\n",
       "      <th>City</th>\n",
       "      <th>Price_in_taka(M)</th>\n",
       "      <th>Location</th>\n",
       "    </tr>\n",
       "  </thead>\n",
       "  <tbody>\n",
       "    <tr>\n",
       "      <th>0</th>\n",
       "      <td>We Are Offering You A Very Spacious 1960 Sq Ft...</td>\n",
       "      <td>3.0</td>\n",
       "      <td>4.0</td>\n",
       "      <td>3</td>\n",
       "      <td>vacant</td>\n",
       "      <td>1960.0</td>\n",
       "      <td>dhaka</td>\n",
       "      <td>39.0</td>\n",
       "      <td>Gulshan 1, Gulshan</td>\n",
       "    </tr>\n",
       "    <tr>\n",
       "      <th>1</th>\n",
       "      <td>Valuable 1705 Square Feet Apartment Is Ready T...</td>\n",
       "      <td>3.0</td>\n",
       "      <td>3.0</td>\n",
       "      <td>1</td>\n",
       "      <td>vacant</td>\n",
       "      <td>1705.0</td>\n",
       "      <td>dhaka</td>\n",
       "      <td>16.9</td>\n",
       "      <td>Lake Circus Road, Kalabagan</td>\n",
       "    </tr>\n",
       "    <tr>\n",
       "      <th>2</th>\n",
       "      <td>1370 square feet apartment is ready to sale in...</td>\n",
       "      <td>3.0</td>\n",
       "      <td>3.0</td>\n",
       "      <td>6</td>\n",
       "      <td>vacant</td>\n",
       "      <td>1370.0</td>\n",
       "      <td>dhaka</td>\n",
       "      <td>12.5</td>\n",
       "      <td>Shukrabad, Dhanmondi</td>\n",
       "    </tr>\n",
       "    <tr>\n",
       "      <th>3</th>\n",
       "      <td>2125 Square Feet Apartment For Sale In Bashund...</td>\n",
       "      <td>3.0</td>\n",
       "      <td>3.0</td>\n",
       "      <td>4</td>\n",
       "      <td>vacant</td>\n",
       "      <td>2125.0</td>\n",
       "      <td>dhaka</td>\n",
       "      <td>20.0</td>\n",
       "      <td>Block L, Bashundhara R-A</td>\n",
       "    </tr>\n",
       "    <tr>\n",
       "      <th>4</th>\n",
       "      <td>Buy This 2687 Square Feet Flat In The Nice Are...</td>\n",
       "      <td>3.0</td>\n",
       "      <td>3.0</td>\n",
       "      <td>4</td>\n",
       "      <td>vacant</td>\n",
       "      <td>2687.0</td>\n",
       "      <td>dhaka</td>\n",
       "      <td>47.5</td>\n",
       "      <td>Road No 25, Banani</td>\n",
       "    </tr>\n",
       "  </tbody>\n",
       "</table>\n",
       "</div>"
      ],
      "text/plain": [
       "                                               Title  Bedrooms  Bathrooms  \\\n",
       "0  We Are Offering You A Very Spacious 1960 Sq Ft...       3.0        4.0   \n",
       "1  Valuable 1705 Square Feet Apartment Is Ready T...       3.0        3.0   \n",
       "2  1370 square feet apartment is ready to sale in...       3.0        3.0   \n",
       "3  2125 Square Feet Apartment For Sale In Bashund...       3.0        3.0   \n",
       "4  Buy This 2687 Square Feet Flat In The Nice Are...       3.0        3.0   \n",
       "\n",
       "  Floor_no Occupancy_status  Floor_area   City  Price_in_taka(M)  \\\n",
       "0        3           vacant      1960.0  dhaka              39.0   \n",
       "1        1           vacant      1705.0  dhaka              16.9   \n",
       "2        6           vacant      1370.0  dhaka              12.5   \n",
       "3        4           vacant      2125.0  dhaka              20.0   \n",
       "4        4           vacant      2687.0  dhaka              47.5   \n",
       "\n",
       "                      Location  \n",
       "0           Gulshan 1, Gulshan  \n",
       "1  Lake Circus Road, Kalabagan  \n",
       "2         Shukrabad, Dhanmondi  \n",
       "3     Block L, Bashundhara R-A  \n",
       "4           Road No 25, Banani  "
      ]
     },
     "execution_count": 15,
     "metadata": {},
     "output_type": "execute_result"
    }
   ],
   "source": [
    "data.head()"
   ]
  },
  {
   "cell_type": "code",
   "execution_count": 16,
   "id": "8d814256",
   "metadata": {
    "execution": {
     "iopub.execute_input": "2025-01-12T10:28:08.984298Z",
     "iopub.status.busy": "2025-01-12T10:28:08.983935Z",
     "iopub.status.idle": "2025-01-12T10:28:08.990062Z",
     "shell.execute_reply": "2025-01-12T10:28:08.989274Z"
    },
    "papermill": {
     "duration": 0.019836,
     "end_time": "2025-01-12T10:28:08.991735",
     "exception": false,
     "start_time": "2025-01-12T10:28:08.971899",
     "status": "completed"
    },
    "tags": []
   },
   "outputs": [
    {
     "data": {
      "text/plain": [
       "array(['3', '1', '6', '4', '8', '2', '5', '7', '9', '8th', nan, '10',\n",
       "       '14', 'G+7', '13', '12', '1st', '11', 'A1,A2,A3,A4,A5,A6,A7',\n",
       "       '0+7', '1F', '4th to 8th Backside', '18', '5th', '17',\n",
       "       'Merin City - Purbach'], dtype=object)"
      ]
     },
     "execution_count": 16,
     "metadata": {},
     "output_type": "execute_result"
    }
   ],
   "source": [
    "data['Floor_no'].unique()"
   ]
  },
  {
   "cell_type": "code",
   "execution_count": 17,
   "id": "04971be2",
   "metadata": {
    "execution": {
     "iopub.execute_input": "2025-01-12T10:28:09.014938Z",
     "iopub.status.busy": "2025-01-12T10:28:09.014599Z",
     "iopub.status.idle": "2025-01-12T10:28:09.029190Z",
     "shell.execute_reply": "2025-01-12T10:28:09.028286Z"
    },
    "papermill": {
     "duration": 0.027693,
     "end_time": "2025-01-12T10:28:09.030635",
     "exception": false,
     "start_time": "2025-01-12T10:28:09.002942",
     "status": "completed"
    },
    "tags": []
   },
   "outputs": [
    {
     "data": {
      "text/html": [
       "<div>\n",
       "<style scoped>\n",
       "    .dataframe tbody tr th:only-of-type {\n",
       "        vertical-align: middle;\n",
       "    }\n",
       "\n",
       "    .dataframe tbody tr th {\n",
       "        vertical-align: top;\n",
       "    }\n",
       "\n",
       "    .dataframe thead th {\n",
       "        text-align: right;\n",
       "    }\n",
       "</style>\n",
       "<table border=\"1\" class=\"dataframe\">\n",
       "  <thead>\n",
       "    <tr style=\"text-align: right;\">\n",
       "      <th></th>\n",
       "      <th>Title</th>\n",
       "      <th>Bedrooms</th>\n",
       "      <th>Bathrooms</th>\n",
       "      <th>Floor_no</th>\n",
       "      <th>Occupancy_status</th>\n",
       "      <th>Floor_area</th>\n",
       "      <th>City</th>\n",
       "      <th>Price_in_taka(M)</th>\n",
       "      <th>Location</th>\n",
       "    </tr>\n",
       "  </thead>\n",
       "  <tbody>\n",
       "    <tr>\n",
       "      <th>3313</th>\n",
       "      <td>Plot For Sale In A Suitable Place In Bproperty...</td>\n",
       "      <td>NaN</td>\n",
       "      <td>NaN</td>\n",
       "      <td>Merin City - Purbach</td>\n",
       "      <td>vacant</td>\n",
       "      <td>2160.0</td>\n",
       "      <td>narayanganj-city</td>\n",
       "      <td>4.575</td>\n",
       "      <td>Rupganj, Narayanganj</td>\n",
       "    </tr>\n",
       "    <tr>\n",
       "      <th>3388</th>\n",
       "      <td>For Sale, Residential Plot Is Situated In Bpro...</td>\n",
       "      <td>NaN</td>\n",
       "      <td>NaN</td>\n",
       "      <td>Merin City - Purbach</td>\n",
       "      <td>vacant</td>\n",
       "      <td>2160.0</td>\n",
       "      <td>narayanganj-city</td>\n",
       "      <td>4.575</td>\n",
       "      <td>Rupganj, Narayanganj</td>\n",
       "    </tr>\n",
       "    <tr>\n",
       "      <th>3392</th>\n",
       "      <td>Plot For Sale In A Suitable Place In Bproperty...</td>\n",
       "      <td>NaN</td>\n",
       "      <td>NaN</td>\n",
       "      <td>Merin City - Purbach</td>\n",
       "      <td>vacant</td>\n",
       "      <td>2160.0</td>\n",
       "      <td>narayanganj-city</td>\n",
       "      <td>4.575</td>\n",
       "      <td>Rupganj, Narayanganj</td>\n",
       "    </tr>\n",
       "    <tr>\n",
       "      <th>3393</th>\n",
       "      <td>Plot For Sale In A Suitable Place In Bproperty...</td>\n",
       "      <td>NaN</td>\n",
       "      <td>NaN</td>\n",
       "      <td>Merin City - Purbach</td>\n",
       "      <td>vacant</td>\n",
       "      <td>2160.0</td>\n",
       "      <td>narayanganj-city</td>\n",
       "      <td>4.575</td>\n",
       "      <td>Rupganj, Narayanganj</td>\n",
       "    </tr>\n",
       "    <tr>\n",
       "      <th>3432</th>\n",
       "      <td>In The Beautiful Location Of Bproperty Village...</td>\n",
       "      <td>NaN</td>\n",
       "      <td>NaN</td>\n",
       "      <td>Merin City - Purbach</td>\n",
       "      <td>vacant</td>\n",
       "      <td>2160.0</td>\n",
       "      <td>narayanganj-city</td>\n",
       "      <td>4.575</td>\n",
       "      <td>Rupganj, Narayanganj</td>\n",
       "    </tr>\n",
       "    <tr>\n",
       "      <th>3492</th>\n",
       "      <td>Plot For Sale In A Suitable Place In Narayanga...</td>\n",
       "      <td>NaN</td>\n",
       "      <td>NaN</td>\n",
       "      <td>Merin City - Purbach</td>\n",
       "      <td>vacant</td>\n",
       "      <td>2160.0</td>\n",
       "      <td>narayanganj-city</td>\n",
       "      <td>4.575</td>\n",
       "      <td>Rupganj, Narayanganj</td>\n",
       "    </tr>\n",
       "  </tbody>\n",
       "</table>\n",
       "</div>"
      ],
      "text/plain": [
       "                                                  Title  Bedrooms  Bathrooms  \\\n",
       "3313  Plot For Sale In A Suitable Place In Bproperty...       NaN        NaN   \n",
       "3388  For Sale, Residential Plot Is Situated In Bpro...       NaN        NaN   \n",
       "3392  Plot For Sale In A Suitable Place In Bproperty...       NaN        NaN   \n",
       "3393  Plot For Sale In A Suitable Place In Bproperty...       NaN        NaN   \n",
       "3432  In The Beautiful Location Of Bproperty Village...       NaN        NaN   \n",
       "3492  Plot For Sale In A Suitable Place In Narayanga...       NaN        NaN   \n",
       "\n",
       "                  Floor_no Occupancy_status  Floor_area              City  \\\n",
       "3313  Merin City - Purbach           vacant      2160.0  narayanganj-city   \n",
       "3388  Merin City - Purbach           vacant      2160.0  narayanganj-city   \n",
       "3392  Merin City - Purbach           vacant      2160.0  narayanganj-city   \n",
       "3393  Merin City - Purbach           vacant      2160.0  narayanganj-city   \n",
       "3432  Merin City - Purbach           vacant      2160.0  narayanganj-city   \n",
       "3492  Merin City - Purbach           vacant      2160.0  narayanganj-city   \n",
       "\n",
       "      Price_in_taka(M)              Location  \n",
       "3313             4.575  Rupganj, Narayanganj  \n",
       "3388             4.575  Rupganj, Narayanganj  \n",
       "3392             4.575  Rupganj, Narayanganj  \n",
       "3393             4.575  Rupganj, Narayanganj  \n",
       "3432             4.575  Rupganj, Narayanganj  \n",
       "3492             4.575  Rupganj, Narayanganj  "
      ]
     },
     "execution_count": 17,
     "metadata": {},
     "output_type": "execute_result"
    }
   ],
   "source": [
    "data[data['Floor_no'] == 'Merin City - Purbach']"
   ]
  },
  {
   "cell_type": "code",
   "execution_count": 18,
   "id": "1986e0c2",
   "metadata": {
    "execution": {
     "iopub.execute_input": "2025-01-12T10:28:09.053564Z",
     "iopub.status.busy": "2025-01-12T10:28:09.053171Z",
     "iopub.status.idle": "2025-01-12T10:28:09.065793Z",
     "shell.execute_reply": "2025-01-12T10:28:09.064853Z"
    },
    "papermill": {
     "duration": 0.025783,
     "end_time": "2025-01-12T10:28:09.067390",
     "exception": false,
     "start_time": "2025-01-12T10:28:09.041607",
     "status": "completed"
    },
    "tags": []
   },
   "outputs": [
    {
     "data": {
      "text/html": [
       "<div>\n",
       "<style scoped>\n",
       "    .dataframe tbody tr th:only-of-type {\n",
       "        vertical-align: middle;\n",
       "    }\n",
       "\n",
       "    .dataframe tbody tr th {\n",
       "        vertical-align: top;\n",
       "    }\n",
       "\n",
       "    .dataframe thead th {\n",
       "        text-align: right;\n",
       "    }\n",
       "</style>\n",
       "<table border=\"1\" class=\"dataframe\">\n",
       "  <thead>\n",
       "    <tr style=\"text-align: right;\">\n",
       "      <th></th>\n",
       "      <th>Title</th>\n",
       "      <th>Bedrooms</th>\n",
       "      <th>Bathrooms</th>\n",
       "      <th>Floor_no</th>\n",
       "      <th>Occupancy_status</th>\n",
       "      <th>Floor_area</th>\n",
       "      <th>City</th>\n",
       "      <th>Price_in_taka(M)</th>\n",
       "      <th>Location</th>\n",
       "    </tr>\n",
       "  </thead>\n",
       "  <tbody>\n",
       "    <tr>\n",
       "      <th>1663</th>\n",
       "      <td>A Full Building Is For Sale In Sugandha Reside...</td>\n",
       "      <td>18.0</td>\n",
       "      <td>10.0</td>\n",
       "      <td>A1,A2,A3,A4,A5,A6,A7</td>\n",
       "      <td>vacant</td>\n",
       "      <td>10890.0</td>\n",
       "      <td>chattogram</td>\n",
       "      <td>105.0</td>\n",
       "      <td>Sugandha Residential Area, Panchlaish</td>\n",
       "    </tr>\n",
       "  </tbody>\n",
       "</table>\n",
       "</div>"
      ],
      "text/plain": [
       "                                                  Title  Bedrooms  Bathrooms  \\\n",
       "1663  A Full Building Is For Sale In Sugandha Reside...      18.0       10.0   \n",
       "\n",
       "                  Floor_no Occupancy_status  Floor_area        City  \\\n",
       "1663  A1,A2,A3,A4,A5,A6,A7           vacant     10890.0  chattogram   \n",
       "\n",
       "      Price_in_taka(M)                               Location  \n",
       "1663             105.0  Sugandha Residential Area, Panchlaish  "
      ]
     },
     "execution_count": 18,
     "metadata": {},
     "output_type": "execute_result"
    }
   ],
   "source": [
    "data[data['Floor_no'] == 'A1,A2,A3,A4,A5,A6,A7']"
   ]
  },
  {
   "cell_type": "code",
   "execution_count": 19,
   "id": "9867578a",
   "metadata": {
    "execution": {
     "iopub.execute_input": "2025-01-12T10:28:09.091203Z",
     "iopub.status.busy": "2025-01-12T10:28:09.090842Z",
     "iopub.status.idle": "2025-01-12T10:28:09.104970Z",
     "shell.execute_reply": "2025-01-12T10:28:09.103932Z"
    },
    "papermill": {
     "duration": 0.028332,
     "end_time": "2025-01-12T10:28:09.106638",
     "exception": false,
     "start_time": "2025-01-12T10:28:09.078306",
     "status": "completed"
    },
    "tags": []
   },
   "outputs": [
    {
     "data": {
      "text/html": [
       "<div>\n",
       "<style scoped>\n",
       "    .dataframe tbody tr th:only-of-type {\n",
       "        vertical-align: middle;\n",
       "    }\n",
       "\n",
       "    .dataframe tbody tr th {\n",
       "        vertical-align: top;\n",
       "    }\n",
       "\n",
       "    .dataframe thead th {\n",
       "        text-align: right;\n",
       "    }\n",
       "</style>\n",
       "<table border=\"1\" class=\"dataframe\">\n",
       "  <thead>\n",
       "    <tr style=\"text-align: right;\">\n",
       "      <th></th>\n",
       "      <th>Title</th>\n",
       "      <th>Bedrooms</th>\n",
       "      <th>Bathrooms</th>\n",
       "      <th>Floor_no</th>\n",
       "      <th>Occupancy_status</th>\n",
       "      <th>Floor_area</th>\n",
       "      <th>City</th>\n",
       "      <th>Price_in_taka(M)</th>\n",
       "      <th>Location</th>\n",
       "    </tr>\n",
       "  </thead>\n",
       "  <tbody>\n",
       "    <tr>\n",
       "      <th>2674</th>\n",
       "      <td>An Apartment Is Up For Sale In Dakshin Kattali...</td>\n",
       "      <td>3.0</td>\n",
       "      <td>3.0</td>\n",
       "      <td>4th to 8th Backside</td>\n",
       "      <td>vacant</td>\n",
       "      <td>1250.0</td>\n",
       "      <td>chattogram</td>\n",
       "      <td>3.8</td>\n",
       "      <td>Dakshin Kattali, 11 No. South Kattali Ward</td>\n",
       "    </tr>\n",
       "  </tbody>\n",
       "</table>\n",
       "</div>"
      ],
      "text/plain": [
       "                                                  Title  Bedrooms  Bathrooms  \\\n",
       "2674  An Apartment Is Up For Sale In Dakshin Kattali...       3.0        3.0   \n",
       "\n",
       "                 Floor_no Occupancy_status  Floor_area        City  \\\n",
       "2674  4th to 8th Backside           vacant      1250.0  chattogram   \n",
       "\n",
       "      Price_in_taka(M)                                    Location  \n",
       "2674               3.8  Dakshin Kattali, 11 No. South Kattali Ward  "
      ]
     },
     "execution_count": 19,
     "metadata": {},
     "output_type": "execute_result"
    }
   ],
   "source": [
    "data[data['Floor_no'] == '4th to 8th Backside']"
   ]
  },
  {
   "cell_type": "code",
   "execution_count": 20,
   "id": "bf9aedb3",
   "metadata": {
    "execution": {
     "iopub.execute_input": "2025-01-12T10:28:09.130567Z",
     "iopub.status.busy": "2025-01-12T10:28:09.130145Z",
     "iopub.status.idle": "2025-01-12T10:28:09.135060Z",
     "shell.execute_reply": "2025-01-12T10:28:09.133859Z"
    },
    "papermill": {
     "duration": 0.018522,
     "end_time": "2025-01-12T10:28:09.136484",
     "exception": false,
     "start_time": "2025-01-12T10:28:09.117962",
     "status": "completed"
    },
    "tags": []
   },
   "outputs": [
    {
     "name": "stdout",
     "output_type": "stream",
     "text": [
      "(2931, 9)\n"
     ]
    }
   ],
   "source": [
    "print(data.shape)"
   ]
  },
  {
   "cell_type": "code",
   "execution_count": 21,
   "id": "66c9f36d",
   "metadata": {
    "execution": {
     "iopub.execute_input": "2025-01-12T10:28:09.160152Z",
     "iopub.status.busy": "2025-01-12T10:28:09.159819Z",
     "iopub.status.idle": "2025-01-12T10:28:09.170056Z",
     "shell.execute_reply": "2025-01-12T10:28:09.168753Z"
    },
    "papermill": {
     "duration": 0.02423,
     "end_time": "2025-01-12T10:28:09.171865",
     "exception": false,
     "start_time": "2025-01-12T10:28:09.147635",
     "status": "completed"
    },
    "tags": []
   },
   "outputs": [],
   "source": [
    "# Step 1: Fix `Floor_no` values\n",
    "def clean_floor_no(value):\n",
    "    if pd.isna(value):\n",
    "        return value\n",
    "    value = str(value).strip().lower()\n",
    "    if value.endswith('th') or value.endswith('st') or value.endswith('f'):\n",
    "        return int(''.join(filter(str.isdigit, value)))\n",
    "    if value == 'g+7' or value == '0+7':\n",
    "        return 7\n",
    "    if value == 'a1,a2,a3,a4,a5,a6,a7':\n",
    "        return 'A1-A7'  # Placeholder for later row expansion\n",
    "    if value == '4th to 8th backside':\n",
    "        return '4-8'  # Placeholder for later row expansion\n",
    "    if value == 'Merin City - Purbach':\n",
    "        return np.nan\n",
    "    return value\n",
    "\n",
    "data['Floor_no'] = data['Floor_no'].apply(clean_floor_no)\n"
   ]
  },
  {
   "cell_type": "code",
   "execution_count": 22,
   "id": "56909b3a",
   "metadata": {
    "execution": {
     "iopub.execute_input": "2025-01-12T10:28:09.196376Z",
     "iopub.status.busy": "2025-01-12T10:28:09.195965Z",
     "iopub.status.idle": "2025-01-12T10:28:09.209737Z",
     "shell.execute_reply": "2025-01-12T10:28:09.208237Z"
    },
    "papermill": {
     "duration": 0.02837,
     "end_time": "2025-01-12T10:28:09.211854",
     "exception": false,
     "start_time": "2025-01-12T10:28:09.183484",
     "status": "completed"
    },
    "tags": []
   },
   "outputs": [],
   "source": [
    "# Step 2: Expand rows for specific cases\n",
    "# Case: 'A1,A2,A3,A4,A5,A6,A7'\n",
    "a1_a7_data = data[data['Floor_no'] == 'A1-A7'].copy()\n",
    "a1_a7_expanded = pd.DataFrame()\n",
    "\n",
    "for i in range(1, 8):\n",
    "    temp = a1_a7_data.copy()\n",
    "    temp['Floor_no'] = i\n",
    "    a1_a7_expanded = pd.concat([a1_a7_expanded, temp], ignore_index=True)"
   ]
  },
  {
   "cell_type": "code",
   "execution_count": 23,
   "id": "264d53ff",
   "metadata": {
    "execution": {
     "iopub.execute_input": "2025-01-12T10:28:09.235965Z",
     "iopub.status.busy": "2025-01-12T10:28:09.235617Z",
     "iopub.status.idle": "2025-01-12T10:28:09.245830Z",
     "shell.execute_reply": "2025-01-12T10:28:09.244930Z"
    },
    "papermill": {
     "duration": 0.024254,
     "end_time": "2025-01-12T10:28:09.247560",
     "exception": false,
     "start_time": "2025-01-12T10:28:09.223306",
     "status": "completed"
    },
    "tags": []
   },
   "outputs": [],
   "source": [
    "# Case: '4th to 8th Backside'\n",
    "four_to_eight_data = data[data['Floor_no'] == '4-8'].copy()\n",
    "four_to_eight_expanded = pd.DataFrame()\n",
    "\n",
    "for i in range(4, 9):\n",
    "    temp = four_to_eight_data.copy()\n",
    "    temp['Floor_no'] = i\n",
    "    four_to_eight_expanded = pd.concat([four_to_eight_expanded, temp], ignore_index=True)"
   ]
  },
  {
   "cell_type": "code",
   "execution_count": 24,
   "id": "c54bd30b",
   "metadata": {
    "execution": {
     "iopub.execute_input": "2025-01-12T10:28:09.272416Z",
     "iopub.status.busy": "2025-01-12T10:28:09.272033Z",
     "iopub.status.idle": "2025-01-12T10:28:09.280575Z",
     "shell.execute_reply": "2025-01-12T10:28:09.279701Z"
    },
    "papermill": {
     "duration": 0.022888,
     "end_time": "2025-01-12T10:28:09.282100",
     "exception": false,
     "start_time": "2025-01-12T10:28:09.259212",
     "status": "completed"
    },
    "tags": []
   },
   "outputs": [],
   "source": [
    "# Remove rows with placeholders and add expanded rows\n",
    "data = data[~data['Floor_no'].isin(['A1-A7', '4-8'])]\n",
    "data = pd.concat([data, a1_a7_expanded, four_to_eight_expanded], ignore_index=True)\n",
    "\n",
    "# Convert `Floor_no` to numeric\n",
    "data['Floor_no'] = pd.to_numeric(data['Floor_no'], errors='coerce')"
   ]
  },
  {
   "cell_type": "code",
   "execution_count": 25,
   "id": "8bab9388",
   "metadata": {
    "execution": {
     "iopub.execute_input": "2025-01-12T10:28:09.305733Z",
     "iopub.status.busy": "2025-01-12T10:28:09.305312Z",
     "iopub.status.idle": "2025-01-12T10:28:09.319306Z",
     "shell.execute_reply": "2025-01-12T10:28:09.318426Z"
    },
    "papermill": {
     "duration": 0.027442,
     "end_time": "2025-01-12T10:28:09.320920",
     "exception": false,
     "start_time": "2025-01-12T10:28:09.293478",
     "status": "completed"
    },
    "tags": []
   },
   "outputs": [
    {
     "data": {
      "text/html": [
       "<div>\n",
       "<style scoped>\n",
       "    .dataframe tbody tr th:only-of-type {\n",
       "        vertical-align: middle;\n",
       "    }\n",
       "\n",
       "    .dataframe tbody tr th {\n",
       "        vertical-align: top;\n",
       "    }\n",
       "\n",
       "    .dataframe thead th {\n",
       "        text-align: right;\n",
       "    }\n",
       "</style>\n",
       "<table border=\"1\" class=\"dataframe\">\n",
       "  <thead>\n",
       "    <tr style=\"text-align: right;\">\n",
       "      <th></th>\n",
       "      <th>Title</th>\n",
       "      <th>Bedrooms</th>\n",
       "      <th>Bathrooms</th>\n",
       "      <th>Floor_no</th>\n",
       "      <th>Occupancy_status</th>\n",
       "      <th>Floor_area</th>\n",
       "      <th>City</th>\n",
       "      <th>Price_in_taka(M)</th>\n",
       "      <th>Location</th>\n",
       "    </tr>\n",
       "  </thead>\n",
       "  <tbody>\n",
       "    <tr>\n",
       "      <th>0</th>\n",
       "      <td>We Are Offering You A Very Spacious 1960 Sq Ft...</td>\n",
       "      <td>3.0</td>\n",
       "      <td>4.0</td>\n",
       "      <td>3.0</td>\n",
       "      <td>vacant</td>\n",
       "      <td>1960.0</td>\n",
       "      <td>dhaka</td>\n",
       "      <td>39.0</td>\n",
       "      <td>Gulshan 1, Gulshan</td>\n",
       "    </tr>\n",
       "    <tr>\n",
       "      <th>1</th>\n",
       "      <td>Valuable 1705 Square Feet Apartment Is Ready T...</td>\n",
       "      <td>3.0</td>\n",
       "      <td>3.0</td>\n",
       "      <td>1.0</td>\n",
       "      <td>vacant</td>\n",
       "      <td>1705.0</td>\n",
       "      <td>dhaka</td>\n",
       "      <td>16.9</td>\n",
       "      <td>Lake Circus Road, Kalabagan</td>\n",
       "    </tr>\n",
       "    <tr>\n",
       "      <th>2</th>\n",
       "      <td>1370 square feet apartment is ready to sale in...</td>\n",
       "      <td>3.0</td>\n",
       "      <td>3.0</td>\n",
       "      <td>6.0</td>\n",
       "      <td>vacant</td>\n",
       "      <td>1370.0</td>\n",
       "      <td>dhaka</td>\n",
       "      <td>12.5</td>\n",
       "      <td>Shukrabad, Dhanmondi</td>\n",
       "    </tr>\n",
       "    <tr>\n",
       "      <th>3</th>\n",
       "      <td>2125 Square Feet Apartment For Sale In Bashund...</td>\n",
       "      <td>3.0</td>\n",
       "      <td>3.0</td>\n",
       "      <td>4.0</td>\n",
       "      <td>vacant</td>\n",
       "      <td>2125.0</td>\n",
       "      <td>dhaka</td>\n",
       "      <td>20.0</td>\n",
       "      <td>Block L, Bashundhara R-A</td>\n",
       "    </tr>\n",
       "    <tr>\n",
       "      <th>4</th>\n",
       "      <td>Buy This 2687 Square Feet Flat In The Nice Are...</td>\n",
       "      <td>3.0</td>\n",
       "      <td>3.0</td>\n",
       "      <td>4.0</td>\n",
       "      <td>vacant</td>\n",
       "      <td>2687.0</td>\n",
       "      <td>dhaka</td>\n",
       "      <td>47.5</td>\n",
       "      <td>Road No 25, Banani</td>\n",
       "    </tr>\n",
       "  </tbody>\n",
       "</table>\n",
       "</div>"
      ],
      "text/plain": [
       "                                               Title  Bedrooms  Bathrooms  \\\n",
       "0  We Are Offering You A Very Spacious 1960 Sq Ft...       3.0        4.0   \n",
       "1  Valuable 1705 Square Feet Apartment Is Ready T...       3.0        3.0   \n",
       "2  1370 square feet apartment is ready to sale in...       3.0        3.0   \n",
       "3  2125 Square Feet Apartment For Sale In Bashund...       3.0        3.0   \n",
       "4  Buy This 2687 Square Feet Flat In The Nice Are...       3.0        3.0   \n",
       "\n",
       "   Floor_no Occupancy_status  Floor_area   City  Price_in_taka(M)  \\\n",
       "0       3.0           vacant      1960.0  dhaka              39.0   \n",
       "1       1.0           vacant      1705.0  dhaka              16.9   \n",
       "2       6.0           vacant      1370.0  dhaka              12.5   \n",
       "3       4.0           vacant      2125.0  dhaka              20.0   \n",
       "4       4.0           vacant      2687.0  dhaka              47.5   \n",
       "\n",
       "                      Location  \n",
       "0           Gulshan 1, Gulshan  \n",
       "1  Lake Circus Road, Kalabagan  \n",
       "2         Shukrabad, Dhanmondi  \n",
       "3     Block L, Bashundhara R-A  \n",
       "4           Road No 25, Banani  "
      ]
     },
     "execution_count": 25,
     "metadata": {},
     "output_type": "execute_result"
    }
   ],
   "source": [
    "data.head()"
   ]
  },
  {
   "cell_type": "code",
   "execution_count": 26,
   "id": "1bc3bee5",
   "metadata": {
    "execution": {
     "iopub.execute_input": "2025-01-12T10:28:09.345699Z",
     "iopub.status.busy": "2025-01-12T10:28:09.345260Z",
     "iopub.status.idle": "2025-01-12T10:28:09.350697Z",
     "shell.execute_reply": "2025-01-12T10:28:09.349739Z"
    },
    "papermill": {
     "duration": 0.019364,
     "end_time": "2025-01-12T10:28:09.352301",
     "exception": false,
     "start_time": "2025-01-12T10:28:09.332937",
     "status": "completed"
    },
    "tags": []
   },
   "outputs": [
    {
     "data": {
      "text/plain": [
       "(2941, 9)"
      ]
     },
     "execution_count": 26,
     "metadata": {},
     "output_type": "execute_result"
    }
   ],
   "source": [
    "data.shape"
   ]
  },
  {
   "cell_type": "code",
   "execution_count": 27,
   "id": "61c4a1ec",
   "metadata": {
    "execution": {
     "iopub.execute_input": "2025-01-12T10:28:09.377692Z",
     "iopub.status.busy": "2025-01-12T10:28:09.377305Z",
     "iopub.status.idle": "2025-01-12T10:28:09.392933Z",
     "shell.execute_reply": "2025-01-12T10:28:09.392044Z"
    },
    "papermill": {
     "duration": 0.030106,
     "end_time": "2025-01-12T10:28:09.394522",
     "exception": false,
     "start_time": "2025-01-12T10:28:09.364416",
     "status": "completed"
    },
    "tags": []
   },
   "outputs": [
    {
     "data": {
      "text/html": [
       "<div>\n",
       "<style scoped>\n",
       "    .dataframe tbody tr th:only-of-type {\n",
       "        vertical-align: middle;\n",
       "    }\n",
       "\n",
       "    .dataframe tbody tr th {\n",
       "        vertical-align: top;\n",
       "    }\n",
       "\n",
       "    .dataframe thead th {\n",
       "        text-align: right;\n",
       "    }\n",
       "</style>\n",
       "<table border=\"1\" class=\"dataframe\">\n",
       "  <thead>\n",
       "    <tr style=\"text-align: right;\">\n",
       "      <th></th>\n",
       "      <th>Title</th>\n",
       "      <th>Bedrooms</th>\n",
       "      <th>Bathrooms</th>\n",
       "      <th>Floor_no</th>\n",
       "      <th>Occupancy_status</th>\n",
       "      <th>Floor_area</th>\n",
       "      <th>City</th>\n",
       "      <th>Price_in_taka(M)</th>\n",
       "      <th>Location</th>\n",
       "    </tr>\n",
       "  </thead>\n",
       "  <tbody>\n",
       "    <tr>\n",
       "      <th>1243</th>\n",
       "      <td>Start Your New Home, In This Reasonable And Co...</td>\n",
       "      <td>4.0</td>\n",
       "      <td>3.0</td>\n",
       "      <td>5.0</td>\n",
       "      <td>vacant</td>\n",
       "      <td>1500.0</td>\n",
       "      <td>chattogram</td>\n",
       "      <td>6.0</td>\n",
       "      <td>Dakshin Kattali, 11 No. South Kattali Ward</td>\n",
       "    </tr>\n",
       "    <tr>\n",
       "      <th>1258</th>\n",
       "      <td>Visit This 825 Sq Ft Flat For Sale In Dakshin ...</td>\n",
       "      <td>3.0</td>\n",
       "      <td>3.0</td>\n",
       "      <td>3.0</td>\n",
       "      <td>vacant</td>\n",
       "      <td>825.0</td>\n",
       "      <td>chattogram</td>\n",
       "      <td>3.7</td>\n",
       "      <td>Dakshin Kattali, 11 No. South Kattali Ward</td>\n",
       "    </tr>\n",
       "    <tr>\n",
       "      <th>1981</th>\n",
       "      <td>1200 Sq Ft Flat With Great Residential Service...</td>\n",
       "      <td>3.0</td>\n",
       "      <td>3.0</td>\n",
       "      <td>4.0</td>\n",
       "      <td>vacant</td>\n",
       "      <td>1200.0</td>\n",
       "      <td>chattogram</td>\n",
       "      <td>8.0</td>\n",
       "      <td>Dakshin Kattali, 11 No. South Kattali Ward</td>\n",
       "    </tr>\n",
       "    <tr>\n",
       "      <th>2936</th>\n",
       "      <td>An Apartment Is Up For Sale In Dakshin Kattali...</td>\n",
       "      <td>3.0</td>\n",
       "      <td>3.0</td>\n",
       "      <td>4.0</td>\n",
       "      <td>vacant</td>\n",
       "      <td>1250.0</td>\n",
       "      <td>chattogram</td>\n",
       "      <td>3.8</td>\n",
       "      <td>Dakshin Kattali, 11 No. South Kattali Ward</td>\n",
       "    </tr>\n",
       "    <tr>\n",
       "      <th>2937</th>\n",
       "      <td>An Apartment Is Up For Sale In Dakshin Kattali...</td>\n",
       "      <td>3.0</td>\n",
       "      <td>3.0</td>\n",
       "      <td>5.0</td>\n",
       "      <td>vacant</td>\n",
       "      <td>1250.0</td>\n",
       "      <td>chattogram</td>\n",
       "      <td>3.8</td>\n",
       "      <td>Dakshin Kattali, 11 No. South Kattali Ward</td>\n",
       "    </tr>\n",
       "  </tbody>\n",
       "</table>\n",
       "</div>"
      ],
      "text/plain": [
       "                                                  Title  Bedrooms  Bathrooms  \\\n",
       "1243  Start Your New Home, In This Reasonable And Co...       4.0        3.0   \n",
       "1258  Visit This 825 Sq Ft Flat For Sale In Dakshin ...       3.0        3.0   \n",
       "1981  1200 Sq Ft Flat With Great Residential Service...       3.0        3.0   \n",
       "2936  An Apartment Is Up For Sale In Dakshin Kattali...       3.0        3.0   \n",
       "2937  An Apartment Is Up For Sale In Dakshin Kattali...       3.0        3.0   \n",
       "\n",
       "      Floor_no Occupancy_status  Floor_area        City  Price_in_taka(M)  \\\n",
       "1243       5.0           vacant      1500.0  chattogram               6.0   \n",
       "1258       3.0           vacant       825.0  chattogram               3.7   \n",
       "1981       4.0           vacant      1200.0  chattogram               8.0   \n",
       "2936       4.0           vacant      1250.0  chattogram               3.8   \n",
       "2937       5.0           vacant      1250.0  chattogram               3.8   \n",
       "\n",
       "                                        Location  \n",
       "1243  Dakshin Kattali, 11 No. South Kattali Ward  \n",
       "1258  Dakshin Kattali, 11 No. South Kattali Ward  \n",
       "1981  Dakshin Kattali, 11 No. South Kattali Ward  \n",
       "2936  Dakshin Kattali, 11 No. South Kattali Ward  \n",
       "2937  Dakshin Kattali, 11 No. South Kattali Ward  "
      ]
     },
     "execution_count": 27,
     "metadata": {},
     "output_type": "execute_result"
    }
   ],
   "source": [
    "data[data['Location']=='Dakshin Kattali, 11 No. South Kattali Ward'].head(5)"
   ]
  },
  {
   "cell_type": "code",
   "execution_count": 28,
   "id": "650f8982",
   "metadata": {
    "execution": {
     "iopub.execute_input": "2025-01-12T10:28:09.419426Z",
     "iopub.status.busy": "2025-01-12T10:28:09.419009Z",
     "iopub.status.idle": "2025-01-12T10:28:09.425956Z",
     "shell.execute_reply": "2025-01-12T10:28:09.424682Z"
    },
    "papermill": {
     "duration": 0.021354,
     "end_time": "2025-01-12T10:28:09.427742",
     "exception": false,
     "start_time": "2025-01-12T10:28:09.406388",
     "status": "completed"
    },
    "tags": []
   },
   "outputs": [
    {
     "data": {
      "text/plain": [
       "array([ 3.,  1.,  6.,  4.,  8.,  2.,  5.,  7.,  9., nan, 10., 14., 13.,\n",
       "       12., 11., 18., 17.])"
      ]
     },
     "execution_count": 28,
     "metadata": {},
     "output_type": "execute_result"
    }
   ],
   "source": [
    "data['Floor_no'].unique()"
   ]
  },
  {
   "cell_type": "code",
   "execution_count": 29,
   "id": "c44f83c2",
   "metadata": {
    "execution": {
     "iopub.execute_input": "2025-01-12T10:28:09.453155Z",
     "iopub.status.busy": "2025-01-12T10:28:09.452825Z",
     "iopub.status.idle": "2025-01-12T10:28:09.461167Z",
     "shell.execute_reply": "2025-01-12T10:28:09.460038Z"
    },
    "papermill": {
     "duration": 0.022651,
     "end_time": "2025-01-12T10:28:09.462692",
     "exception": false,
     "start_time": "2025-01-12T10:28:09.440041",
     "status": "completed"
    },
    "tags": []
   },
   "outputs": [
    {
     "data": {
      "text/plain": [
       "Title                 0\n",
       "Bedrooms            831\n",
       "Bathrooms           831\n",
       "Floor_no            581\n",
       "Occupancy_status     89\n",
       "Floor_area           89\n",
       "City                  0\n",
       "Price_in_taka(M)      0\n",
       "Location              6\n",
       "dtype: int64"
      ]
     },
     "execution_count": 29,
     "metadata": {},
     "output_type": "execute_result"
    }
   ],
   "source": [
    "data.isna().sum()"
   ]
  },
  {
   "cell_type": "code",
   "execution_count": 30,
   "id": "46a0be6c",
   "metadata": {
    "execution": {
     "iopub.execute_input": "2025-01-12T10:28:09.489473Z",
     "iopub.status.busy": "2025-01-12T10:28:09.489048Z",
     "iopub.status.idle": "2025-01-12T10:28:09.495270Z",
     "shell.execute_reply": "2025-01-12T10:28:09.494406Z"
    },
    "papermill": {
     "duration": 0.021159,
     "end_time": "2025-01-12T10:28:09.497008",
     "exception": false,
     "start_time": "2025-01-12T10:28:09.475849",
     "status": "completed"
    },
    "tags": []
   },
   "outputs": [
    {
     "data": {
      "text/plain": [
       "array(['dhaka', 'chattogram', 'cumilla', 'narayanganj-city', 'gazipur'],\n",
       "      dtype=object)"
      ]
     },
     "execution_count": 30,
     "metadata": {},
     "output_type": "execute_result"
    }
   ],
   "source": [
    "# unique values of \"City\"\n",
    "data[\"City\"].unique()"
   ]
  },
  {
   "cell_type": "code",
   "execution_count": 31,
   "id": "46175189",
   "metadata": {
    "execution": {
     "iopub.execute_input": "2025-01-12T10:28:09.522333Z",
     "iopub.status.busy": "2025-01-12T10:28:09.521926Z",
     "iopub.status.idle": "2025-01-12T10:28:09.533719Z",
     "shell.execute_reply": "2025-01-12T10:28:09.532444Z"
    },
    "papermill": {
     "duration": 0.02652,
     "end_time": "2025-01-12T10:28:09.535556",
     "exception": false,
     "start_time": "2025-01-12T10:28:09.509036",
     "status": "completed"
    },
    "tags": []
   },
   "outputs": [
    {
     "name": "stdout",
     "output_type": "stream",
     "text": [
      "Title                 0\n",
      "Bedrooms            270\n",
      "Bathrooms           270\n",
      "Floor_no              0\n",
      "Occupancy_status      0\n",
      "Floor_area            0\n",
      "City                  0\n",
      "Price_in_taka(M)      0\n",
      "Location              0\n",
      "dtype: int64\n"
     ]
    }
   ],
   "source": [
    "columns_to_drop_miising_values = ['Occupancy_status', 'Floor_area', 'Location', 'Floor_no']\n",
    "\n",
    "# Remove rows with missing values in the specified columns\n",
    "data = data.dropna(subset=columns_to_drop_miising_values, axis = 0)\n",
    "# verify the result\n",
    "print(data.isnull().sum())"
   ]
  },
  {
   "cell_type": "code",
   "execution_count": 32,
   "id": "76b781e5",
   "metadata": {
    "execution": {
     "iopub.execute_input": "2025-01-12T10:28:09.561651Z",
     "iopub.status.busy": "2025-01-12T10:28:09.561237Z",
     "iopub.status.idle": "2025-01-12T10:28:09.663572Z",
     "shell.execute_reply": "2025-01-12T10:28:09.662163Z"
    },
    "papermill": {
     "duration": 0.119174,
     "end_time": "2025-01-12T10:28:09.667157",
     "exception": false,
     "start_time": "2025-01-12T10:28:09.547983",
     "status": "completed"
    },
    "tags": []
   },
   "outputs": [],
   "source": [
    "# Impute the missing values in Bathrooms and Bedrooms using Floor area\n",
    "features = ['Floor_area', 'Bedrooms', 'Bathrooms']\n",
    "\n",
    "imputer = KNNImputer(n_neighbors=5, weights='distance')\n",
    "data[features] = imputer.fit_transform(data[features])"
   ]
  },
  {
   "cell_type": "code",
   "execution_count": 33,
   "id": "8595e427",
   "metadata": {
    "execution": {
     "iopub.execute_input": "2025-01-12T10:28:09.726125Z",
     "iopub.status.busy": "2025-01-12T10:28:09.725762Z",
     "iopub.status.idle": "2025-01-12T10:28:09.734490Z",
     "shell.execute_reply": "2025-01-12T10:28:09.733429Z"
    },
    "papermill": {
     "duration": 0.033012,
     "end_time": "2025-01-12T10:28:09.736208",
     "exception": false,
     "start_time": "2025-01-12T10:28:09.703196",
     "status": "completed"
    },
    "tags": []
   },
   "outputs": [
    {
     "data": {
      "text/plain": [
       "Title               0\n",
       "Bedrooms            0\n",
       "Bathrooms           0\n",
       "Floor_no            0\n",
       "Occupancy_status    0\n",
       "Floor_area          0\n",
       "City                0\n",
       "Price_in_taka(M)    0\n",
       "Location            0\n",
       "dtype: int64"
      ]
     },
     "execution_count": 33,
     "metadata": {},
     "output_type": "execute_result"
    }
   ],
   "source": [
    "data.isna().sum()"
   ]
  },
  {
   "cell_type": "code",
   "execution_count": 34,
   "id": "ae694af1",
   "metadata": {
    "execution": {
     "iopub.execute_input": "2025-01-12T10:28:09.762101Z",
     "iopub.status.busy": "2025-01-12T10:28:09.761761Z",
     "iopub.status.idle": "2025-01-12T10:28:09.783063Z",
     "shell.execute_reply": "2025-01-12T10:28:09.781472Z"
    },
    "papermill": {
     "duration": 0.03609,
     "end_time": "2025-01-12T10:28:09.784853",
     "exception": false,
     "start_time": "2025-01-12T10:28:09.748763",
     "status": "completed"
    },
    "tags": []
   },
   "outputs": [
    {
     "name": "stdout",
     "output_type": "stream",
     "text": [
      "Top 5 largest values in 'Bedrooms':\n",
      "217     46.000000\n",
      "99      27.803983\n",
      "2250    27.000000\n",
      "1625    22.000000\n",
      "1457    21.000000\n",
      "Name: Bedrooms, dtype: float64\n",
      "Top 5 largest values in 'Bathrooms':\n",
      "2047    10.0\n",
      "206     10.0\n",
      "217     10.0\n",
      "986     10.0\n",
      "999     10.0\n",
      "Name: Bathrooms, dtype: float64\n",
      "Top 5 largest values in 'Floor_no':\n",
      "2110    18.0\n",
      "2161    17.0\n",
      "198     14.0\n",
      "1560    14.0\n",
      "230     13.0\n",
      "Name: Floor_no, dtype: float64\n",
      "Top 5 largest values in 'Floor_area':\n",
      "1489    24000.0\n",
      "99      21500.0\n",
      "217     19200.0\n",
      "40      16000.0\n",
      "510     15120.0\n",
      "Name: Floor_area, dtype: float64\n",
      "Top 5 largest values in 'Price_in_taka(M)':\n",
      "1602    363.2\n",
      "1910    363.2\n",
      "2023    363.2\n",
      "1245    350.0\n",
      "2128    350.0\n",
      "Name: Price_in_taka(M), dtype: float64\n"
     ]
    }
   ],
   "source": [
    "for col in data.columns:\n",
    "    if pd.api.types.is_numeric_dtype(data[col]):\n",
    "        print(f\"Top 5 largest values in '{col}':\")\n",
    "        print(data[col].nlargest(5))"
   ]
  },
  {
   "cell_type": "code",
   "execution_count": 35,
   "id": "49df3603",
   "metadata": {
    "execution": {
     "iopub.execute_input": "2025-01-12T10:28:09.810930Z",
     "iopub.status.busy": "2025-01-12T10:28:09.810562Z",
     "iopub.status.idle": "2025-01-12T10:28:09.831388Z",
     "shell.execute_reply": "2025-01-12T10:28:09.829798Z"
    },
    "papermill": {
     "duration": 0.035874,
     "end_time": "2025-01-12T10:28:09.833129",
     "exception": false,
     "start_time": "2025-01-12T10:28:09.797255",
     "status": "completed"
    },
    "tags": []
   },
   "outputs": [
    {
     "name": "stdout",
     "output_type": "stream",
     "text": [
      "Title\n",
      "A Full Building Is For Sale In Sugandha Residential Area, Panchlaish.           7\n",
      "An Apartment Is Up For Sale In Dakshin Kattali, Near Anandomoyee Kali Temple    5\n",
      "Buy This 240 Sq Ft Shop At Bakalia                                              2\n",
      "1445 Sq Ft Residential Apartment Is Available For Sale In Chotora, Cumilla      2\n",
      "Visit This Apartment For Sale In Bakalia Near Haji Eqbal Jame Masjid            1\n",
      "Name: count, dtype: int64\n",
      "Bedrooms\n",
      "3.000000    1622\n",
      "2.000000     294\n",
      "4.000000     167\n",
      "1.316456      16\n",
      "1.227586      15\n",
      "Name: count, dtype: int64\n",
      "Bathrooms\n",
      "3.0     1320\n",
      "2.0      465\n",
      "4.0      235\n",
      "5.0       55\n",
      "10.0      18\n",
      "Name: count, dtype: int64\n",
      "Floor_no\n",
      "1.0    382\n",
      "4.0    308\n",
      "5.0    296\n",
      "2.0    275\n",
      "3.0    262\n",
      "Name: count, dtype: int64\n",
      "Occupancy_status\n",
      "vacant      2357\n",
      "occupied       2\n",
      "Name: count, dtype: int64\n",
      "Floor_area\n",
      "1300.0    69\n",
      "1500.0    68\n",
      "1250.0    62\n",
      "1200.0    59\n",
      "1400.0    56\n",
      "Name: count, dtype: int64\n",
      "City\n",
      "chattogram          1077\n",
      "dhaka               1006\n",
      "gazipur              141\n",
      "cumilla              130\n",
      "narayanganj-city       5\n",
      "Name: count, dtype: int64\n",
      "Price_in_taka(M)\n",
      "6.0    69\n",
      "5.0    62\n",
      "6.5    59\n",
      "7.0    53\n",
      "5.5    50\n",
      "Name: count, dtype: int64\n",
      "Location\n",
      "Dewan Bazar, Bakalia                            74\n",
      "Joydebpur, Gazipur Sadar Upazila                63\n",
      "Dhaka Trunk Road, 9 No. North Pahartali Ward    58\n",
      "Tongi, Gazipur Sadar Upazila                    43\n",
      "24 No. North Agrabad Ward, Double Mooring       37\n",
      "Name: count, dtype: int64\n"
     ]
    }
   ],
   "source": [
    "for col in data.columns:\n",
    "    print(data[col].value_counts().head(5))"
   ]
  },
  {
   "cell_type": "code",
   "execution_count": 36,
   "id": "815181a8",
   "metadata": {
    "execution": {
     "iopub.execute_input": "2025-01-12T10:28:09.859250Z",
     "iopub.status.busy": "2025-01-12T10:28:09.858922Z",
     "iopub.status.idle": "2025-01-12T10:28:09.866201Z",
     "shell.execute_reply": "2025-01-12T10:28:09.865141Z"
    },
    "papermill": {
     "duration": 0.022284,
     "end_time": "2025-01-12T10:28:09.867768",
     "exception": false,
     "start_time": "2025-01-12T10:28:09.845484",
     "status": "completed"
    },
    "tags": []
   },
   "outputs": [
    {
     "data": {
      "text/plain": [
       "City\n",
       "chattogram          1077\n",
       "dhaka               1006\n",
       "gazipur              141\n",
       "cumilla              130\n",
       "narayanganj-city       5\n",
       "Name: count, dtype: int64"
      ]
     },
     "execution_count": 36,
     "metadata": {},
     "output_type": "execute_result"
    }
   ],
   "source": [
    "data['City'].value_counts()"
   ]
  },
  {
   "cell_type": "code",
   "execution_count": 37,
   "id": "fa3cd5b1",
   "metadata": {
    "execution": {
     "iopub.execute_input": "2025-01-12T10:28:09.895824Z",
     "iopub.status.busy": "2025-01-12T10:28:09.895475Z",
     "iopub.status.idle": "2025-01-12T10:28:09.910112Z",
     "shell.execute_reply": "2025-01-12T10:28:09.909230Z"
    },
    "papermill": {
     "duration": 0.031229,
     "end_time": "2025-01-12T10:28:09.911621",
     "exception": false,
     "start_time": "2025-01-12T10:28:09.880392",
     "status": "completed"
    },
    "tags": []
   },
   "outputs": [
    {
     "data": {
      "text/html": [
       "<div>\n",
       "<style scoped>\n",
       "    .dataframe tbody tr th:only-of-type {\n",
       "        vertical-align: middle;\n",
       "    }\n",
       "\n",
       "    .dataframe tbody tr th {\n",
       "        vertical-align: top;\n",
       "    }\n",
       "\n",
       "    .dataframe thead th {\n",
       "        text-align: right;\n",
       "    }\n",
       "</style>\n",
       "<table border=\"1\" class=\"dataframe\">\n",
       "  <thead>\n",
       "    <tr style=\"text-align: right;\">\n",
       "      <th></th>\n",
       "      <th>Title</th>\n",
       "      <th>Bedrooms</th>\n",
       "      <th>Bathrooms</th>\n",
       "      <th>Floor_no</th>\n",
       "      <th>Occupancy_status</th>\n",
       "      <th>Floor_area</th>\n",
       "      <th>City</th>\n",
       "      <th>Price_in_taka(M)</th>\n",
       "      <th>Location</th>\n",
       "      <th>Avg Unit Price</th>\n",
       "    </tr>\n",
       "  </thead>\n",
       "  <tbody>\n",
       "    <tr>\n",
       "      <th>0</th>\n",
       "      <td>We Are Offering You A Very Spacious 1960 Sq Ft...</td>\n",
       "      <td>3.0</td>\n",
       "      <td>4.0</td>\n",
       "      <td>3.0</td>\n",
       "      <td>vacant</td>\n",
       "      <td>1960.0</td>\n",
       "      <td>dhaka</td>\n",
       "      <td>39.0</td>\n",
       "      <td>Gulshan 1, Gulshan</td>\n",
       "      <td>19898.0</td>\n",
       "    </tr>\n",
       "    <tr>\n",
       "      <th>1</th>\n",
       "      <td>Valuable 1705 Square Feet Apartment Is Ready T...</td>\n",
       "      <td>3.0</td>\n",
       "      <td>3.0</td>\n",
       "      <td>1.0</td>\n",
       "      <td>vacant</td>\n",
       "      <td>1705.0</td>\n",
       "      <td>dhaka</td>\n",
       "      <td>16.9</td>\n",
       "      <td>Lake Circus Road, Kalabagan</td>\n",
       "      <td>9912.0</td>\n",
       "    </tr>\n",
       "  </tbody>\n",
       "</table>\n",
       "</div>"
      ],
      "text/plain": [
       "                                               Title  Bedrooms  Bathrooms  \\\n",
       "0  We Are Offering You A Very Spacious 1960 Sq Ft...       3.0        4.0   \n",
       "1  Valuable 1705 Square Feet Apartment Is Ready T...       3.0        3.0   \n",
       "\n",
       "   Floor_no Occupancy_status  Floor_area   City  Price_in_taka(M)  \\\n",
       "0       3.0           vacant      1960.0  dhaka              39.0   \n",
       "1       1.0           vacant      1705.0  dhaka              16.9   \n",
       "\n",
       "                      Location  Avg Unit Price  \n",
       "0           Gulshan 1, Gulshan         19898.0  \n",
       "1  Lake Circus Road, Kalabagan          9912.0  "
      ]
     },
     "execution_count": 37,
     "metadata": {},
     "output_type": "execute_result"
    }
   ],
   "source": [
    "data['Avg Unit Price'] = round((data['Price_in_taka(M)'] * 1_000_000)/ data['Floor_area'],1)\n",
    "data.head(2)"
   ]
  },
  {
   "cell_type": "code",
   "execution_count": 38,
   "id": "8fdd3c35",
   "metadata": {
    "execution": {
     "iopub.execute_input": "2025-01-12T10:28:09.939941Z",
     "iopub.status.busy": "2025-01-12T10:28:09.939576Z",
     "iopub.status.idle": "2025-01-12T10:28:09.960693Z",
     "shell.execute_reply": "2025-01-12T10:28:09.959527Z"
    },
    "papermill": {
     "duration": 0.037229,
     "end_time": "2025-01-12T10:28:09.962260",
     "exception": false,
     "start_time": "2025-01-12T10:28:09.925031",
     "status": "completed"
    },
    "tags": []
   },
   "outputs": [
    {
     "data": {
      "text/html": [
       "<div>\n",
       "<style scoped>\n",
       "    .dataframe tbody tr th:only-of-type {\n",
       "        vertical-align: middle;\n",
       "    }\n",
       "\n",
       "    .dataframe tbody tr th {\n",
       "        vertical-align: top;\n",
       "    }\n",
       "\n",
       "    .dataframe thead th {\n",
       "        text-align: right;\n",
       "    }\n",
       "</style>\n",
       "<table border=\"1\" class=\"dataframe\">\n",
       "  <thead>\n",
       "    <tr style=\"text-align: right;\">\n",
       "      <th></th>\n",
       "      <th>Location</th>\n",
       "      <th>City</th>\n",
       "      <th>Bedrooms</th>\n",
       "      <th>Bathrooms</th>\n",
       "      <th>Floor_no</th>\n",
       "      <th>Floor_area</th>\n",
       "      <th>Price_in_taka(M)</th>\n",
       "      <th>Avg Unit Price</th>\n",
       "    </tr>\n",
       "  </thead>\n",
       "  <tbody>\n",
       "    <tr>\n",
       "      <th>109</th>\n",
       "      <td>CDA Avenue, 15 No. Bagmoniram Ward</td>\n",
       "      <td>chattogram</td>\n",
       "      <td>1.268284</td>\n",
       "      <td>1.171127</td>\n",
       "      <td>2.000000</td>\n",
       "      <td>181.0</td>\n",
       "      <td>9.50</td>\n",
       "      <td>52486.200000</td>\n",
       "    </tr>\n",
       "    <tr>\n",
       "      <th>268</th>\n",
       "      <td>Motijheel Road, Motijheel</td>\n",
       "      <td>dhaka</td>\n",
       "      <td>4.201357</td>\n",
       "      <td>4.583595</td>\n",
       "      <td>1.000000</td>\n",
       "      <td>4686.0</td>\n",
       "      <td>210.87</td>\n",
       "      <td>45000.000000</td>\n",
       "    </tr>\n",
       "    <tr>\n",
       "      <th>212</th>\n",
       "      <td>Kazi Nazrul Islam Avenue, Banglamotors</td>\n",
       "      <td>dhaka</td>\n",
       "      <td>4.000000</td>\n",
       "      <td>5.000000</td>\n",
       "      <td>1.000000</td>\n",
       "      <td>3000.0</td>\n",
       "      <td>120.00</td>\n",
       "      <td>40000.000000</td>\n",
       "    </tr>\n",
       "    <tr>\n",
       "      <th>153</th>\n",
       "      <td>East Nasirabad, Muradpur</td>\n",
       "      <td>chattogram</td>\n",
       "      <td>1.875179</td>\n",
       "      <td>2.133416</td>\n",
       "      <td>4.333333</td>\n",
       "      <td>610.0</td>\n",
       "      <td>10.00</td>\n",
       "      <td>38117.566667</td>\n",
       "    </tr>\n",
       "    <tr>\n",
       "      <th>285</th>\n",
       "      <td>New Eskaton Road, Eskaton</td>\n",
       "      <td>dhaka</td>\n",
       "      <td>3.914478</td>\n",
       "      <td>4.768314</td>\n",
       "      <td>2.500000</td>\n",
       "      <td>2922.5</td>\n",
       "      <td>100.75</td>\n",
       "      <td>34477.950000</td>\n",
       "    </tr>\n",
       "  </tbody>\n",
       "</table>\n",
       "</div>"
      ],
      "text/plain": [
       "                                   Location        City  Bedrooms  Bathrooms  \\\n",
       "109      CDA Avenue, 15 No. Bagmoniram Ward  chattogram  1.268284   1.171127   \n",
       "268               Motijheel Road, Motijheel       dhaka  4.201357   4.583595   \n",
       "212  Kazi Nazrul Islam Avenue, Banglamotors       dhaka  4.000000   5.000000   \n",
       "153                East Nasirabad, Muradpur  chattogram  1.875179   2.133416   \n",
       "285               New Eskaton Road, Eskaton       dhaka  3.914478   4.768314   \n",
       "\n",
       "     Floor_no  Floor_area  Price_in_taka(M)  Avg Unit Price  \n",
       "109  2.000000       181.0              9.50    52486.200000  \n",
       "268  1.000000      4686.0            210.87    45000.000000  \n",
       "212  1.000000      3000.0            120.00    40000.000000  \n",
       "153  4.333333       610.0             10.00    38117.566667  \n",
       "285  2.500000      2922.5            100.75    34477.950000  "
      ]
     },
     "execution_count": 38,
     "metadata": {},
     "output_type": "execute_result"
    }
   ],
   "source": [
    "averages_l = data.groupby(['Location', 'City']).mean(numeric_only=True).reset_index()\n",
    "result = averages_l[['Location', 'City', 'Bedrooms', 'Bathrooms', 'Floor_no', 'Floor_area', 'Price_in_taka(M)', 'Avg Unit Price']]\n",
    "result.sort_values(by='Avg Unit Price', ascending=False).head(5)\n"
   ]
  },
  {
   "cell_type": "code",
   "execution_count": 39,
   "id": "918476cb",
   "metadata": {
    "execution": {
     "iopub.execute_input": "2025-01-12T10:28:09.990334Z",
     "iopub.status.busy": "2025-01-12T10:28:09.989947Z",
     "iopub.status.idle": "2025-01-12T10:28:10.007767Z",
     "shell.execute_reply": "2025-01-12T10:28:10.006714Z"
    },
    "papermill": {
     "duration": 0.034038,
     "end_time": "2025-01-12T10:28:10.009610",
     "exception": false,
     "start_time": "2025-01-12T10:28:09.975572",
     "status": "completed"
    },
    "tags": []
   },
   "outputs": [
    {
     "data": {
      "text/html": [
       "<div>\n",
       "<style scoped>\n",
       "    .dataframe tbody tr th:only-of-type {\n",
       "        vertical-align: middle;\n",
       "    }\n",
       "\n",
       "    .dataframe tbody tr th {\n",
       "        vertical-align: top;\n",
       "    }\n",
       "\n",
       "    .dataframe thead th {\n",
       "        text-align: right;\n",
       "    }\n",
       "</style>\n",
       "<table border=\"1\" class=\"dataframe\">\n",
       "  <thead>\n",
       "    <tr style=\"text-align: right;\">\n",
       "      <th></th>\n",
       "      <th>City</th>\n",
       "      <th>Bedrooms</th>\n",
       "      <th>Bathrooms</th>\n",
       "      <th>Floor_no</th>\n",
       "      <th>Floor_area</th>\n",
       "      <th>Price_in_taka(M)</th>\n",
       "      <th>Avg Unit Price</th>\n",
       "    </tr>\n",
       "  </thead>\n",
       "  <tbody>\n",
       "    <tr>\n",
       "      <th>0</th>\n",
       "      <td>chattogram</td>\n",
       "      <td>3.042922</td>\n",
       "      <td>2.938700</td>\n",
       "      <td>4.290622</td>\n",
       "      <td>1531.617456</td>\n",
       "      <td>11.846612</td>\n",
       "      <td>9326.775487</td>\n",
       "    </tr>\n",
       "    <tr>\n",
       "      <th>2</th>\n",
       "      <td>dhaka</td>\n",
       "      <td>3.087115</td>\n",
       "      <td>2.928728</td>\n",
       "      <td>4.335984</td>\n",
       "      <td>1519.217694</td>\n",
       "      <td>12.841515</td>\n",
       "      <td>7500.591948</td>\n",
       "    </tr>\n",
       "    <tr>\n",
       "      <th>3</th>\n",
       "      <td>gazipur</td>\n",
       "      <td>2.733310</td>\n",
       "      <td>2.523693</td>\n",
       "      <td>5.964539</td>\n",
       "      <td>1096.886525</td>\n",
       "      <td>5.652746</td>\n",
       "      <td>6995.765248</td>\n",
       "    </tr>\n",
       "    <tr>\n",
       "      <th>4</th>\n",
       "      <td>narayanganj-city</td>\n",
       "      <td>2.800000</td>\n",
       "      <td>2.400000</td>\n",
       "      <td>5.800000</td>\n",
       "      <td>1197.200000</td>\n",
       "      <td>6.560000</td>\n",
       "      <td>5621.780000</td>\n",
       "    </tr>\n",
       "    <tr>\n",
       "      <th>1</th>\n",
       "      <td>cumilla</td>\n",
       "      <td>2.856923</td>\n",
       "      <td>2.770769</td>\n",
       "      <td>7.100000</td>\n",
       "      <td>1298.715385</td>\n",
       "      <td>5.325068</td>\n",
       "      <td>4123.430000</td>\n",
       "    </tr>\n",
       "  </tbody>\n",
       "</table>\n",
       "</div>"
      ],
      "text/plain": [
       "               City  Bedrooms  Bathrooms  Floor_no   Floor_area  \\\n",
       "0        chattogram  3.042922   2.938700  4.290622  1531.617456   \n",
       "2             dhaka  3.087115   2.928728  4.335984  1519.217694   \n",
       "3           gazipur  2.733310   2.523693  5.964539  1096.886525   \n",
       "4  narayanganj-city  2.800000   2.400000  5.800000  1197.200000   \n",
       "1           cumilla  2.856923   2.770769  7.100000  1298.715385   \n",
       "\n",
       "   Price_in_taka(M)  Avg Unit Price  \n",
       "0         11.846612     9326.775487  \n",
       "2         12.841515     7500.591948  \n",
       "3          5.652746     6995.765248  \n",
       "4          6.560000     5621.780000  \n",
       "1          5.325068     4123.430000  "
      ]
     },
     "execution_count": 39,
     "metadata": {},
     "output_type": "execute_result"
    }
   ],
   "source": [
    "averages_c = data.groupby(['City']).mean(numeric_only=True).reset_index()\n",
    "result = averages_c[['City', 'Bedrooms', 'Bathrooms', 'Floor_no', 'Floor_area', 'Price_in_taka(M)', 'Avg Unit Price']]\n",
    "result.sort_values(by='Avg Unit Price', ascending=False).head(5)\n"
   ]
  },
  {
   "cell_type": "code",
   "execution_count": 40,
   "id": "6acfe444",
   "metadata": {
    "execution": {
     "iopub.execute_input": "2025-01-12T10:28:10.038000Z",
     "iopub.status.busy": "2025-01-12T10:28:10.037646Z",
     "iopub.status.idle": "2025-01-12T10:28:10.046500Z",
     "shell.execute_reply": "2025-01-12T10:28:10.045235Z"
    },
    "papermill": {
     "duration": 0.024818,
     "end_time": "2025-01-12T10:28:10.048162",
     "exception": false,
     "start_time": "2025-01-12T10:28:10.023344",
     "status": "completed"
    },
    "tags": []
   },
   "outputs": [
    {
     "name": "stdout",
     "output_type": "stream",
     "text": [
      "[ 4.          3.          2.          4.11632383  9.15644771  5.\n",
      "  2.8         3.60869565  9.75007977  3.90540541  1.          4.4\n",
      "  6.         10.          4.90312745  1.11031612  3.6         8.\n",
      "  4.53662751  1.2180531   4.15516419  6.81012472  3.66666667  4.90094692\n",
      "  4.6229747   4.24625099  4.61872238  1.13192555  2.2         1.04315527\n",
      "  1.0679233   4.58359485  1.14482759  1.047132    1.21443695  2.5\n",
      "  1.20253165  1.22801468  1.2442338   1.19634785  7.10153087  6.03917458\n",
      "  1.23401226  1.23107221  1.19725874  9.68355074  1.22151441  1.22483169\n",
      "  1.10671642  1.21875738  1.18461362  4.96376125  5.34979493  4.09568904\n",
      "  1.17112658  3.5         1.24063129  1.21218798  1.20669052  4.50020773\n",
      "  1.22218906  1.17232877  1.19905239  1.17811705  3.2         3.25\n",
      "  1.24523089  1.19449706  1.48929483  9.69249639  1.2058749   1.22612049\n",
      "  1.19067439  1.19260641  1.22352141  5.25246509  1.15955679  1.19164567\n",
      "  3.          1.23684211  1.11892115  1.2136941   1.23956839  1.24219719\n",
      "  1.16742473  1.21517312  1.20167495  1.19993547  3.6         1.24322268\n",
      "  4.94502229  1.19355681  1.17923241  1.2114245   1.16225215  1.20987612\n",
      "  1.10201186 10.          3.74483471  1.23515704  1.20505134  1.47051745\n",
      "  1.12368546  1.23794469  1.22285803  4.14754098  1.24473408  1.220834\n",
      "  1.17468762  1.6         1.2042197   5.19696417]\n",
      "[ 3.          4.          2.          4.05005697 18.31961259  3.60869565\n",
      " 27.80398268  3.75        3.45608108  5.          1.          6.\n",
      " 18.         46.          5.0151859   1.1806275   3.4         7.\n",
      "  3.82895646  1.340059    6.50616652  3.33333333  4.78403639  3.60536701\n",
      "  3.6         8.          4.61872238  1.21146091  2.4         1.06822444\n",
      " 18.          1.11082223  4.20135729  1.22758621  1.07449896  1.33457331\n",
      "  1.3164557   1.35512632  1.37950985  1.3070121   3.2         9.35801226\n",
      "  5.27176726  1.36416514  1.35973742  1.30840453 18.70251735  1.34530187\n",
      "  1.35031914  1.1681592   1.34112642  1.28903419 18.60987241  3.98792042\n",
      "  4.51471082  4.09568904  2.8         1.26828381  1.37411057  1.33115746\n",
      "  1.32279446 21.          4.50020773  1.34632285  1.27013699  1.31114502\n",
      "  1.27905004  2.2         1.3810025   1.30418147  1.72932626 18.27734504\n",
      " 22.          1.32155214  1.35226641 20.          1.29832904  1.30128792\n",
      "  1.34833827  4.72879388  1.25041551  1.29981681  3.          1.36842105\n",
      "  1.1896432   1.33344539  1.37251568  1.37645868  1.26257321  1.33569076\n",
      "  1.31514869  1.3124936   3.4         1.37799542  4.05349183  1.30274271\n",
      "  1.28076566  1.32999712  1.25458349  1.3276428   1.16079308  3.65805785\n",
      "  1.36588751  1.32029732  1.69554753  1.19467652  1.3700777   1.34733494\n",
      "  3.78688525  1.38025887  1.34427187  1.27377119  1.31902978 27.\n",
      "  4.27492145]\n"
     ]
    }
   ],
   "source": [
    "print(data['Bathrooms'].unique())\n",
    "print(data['Bedrooms'].unique())"
   ]
  },
  {
   "cell_type": "code",
   "execution_count": 41,
   "id": "ed7f7622",
   "metadata": {
    "execution": {
     "iopub.execute_input": "2025-01-12T10:28:10.076002Z",
     "iopub.status.busy": "2025-01-12T10:28:10.075642Z",
     "iopub.status.idle": "2025-01-12T10:28:10.081044Z",
     "shell.execute_reply": "2025-01-12T10:28:10.080133Z"
    },
    "papermill": {
     "duration": 0.021238,
     "end_time": "2025-01-12T10:28:10.082708",
     "exception": false,
     "start_time": "2025-01-12T10:28:10.061470",
     "status": "completed"
    },
    "tags": []
   },
   "outputs": [],
   "source": [
    "# Round the 'Bedrooms' values to the nearest integer\n",
    "data['Bedrooms'] = data['Bedrooms'].round().astype(int)\n",
    "data['Bathrooms'] = data['Bathrooms'].round().astype(int)"
   ]
  },
  {
   "cell_type": "code",
   "execution_count": 42,
   "id": "0d93753c",
   "metadata": {
    "execution": {
     "iopub.execute_input": "2025-01-12T10:28:10.110697Z",
     "iopub.status.busy": "2025-01-12T10:28:10.110265Z",
     "iopub.status.idle": "2025-01-12T10:28:10.243283Z",
     "shell.execute_reply": "2025-01-12T10:28:10.242313Z"
    },
    "papermill": {
     "duration": 0.149246,
     "end_time": "2025-01-12T10:28:10.245078",
     "exception": false,
     "start_time": "2025-01-12T10:28:10.095832",
     "status": "completed"
    },
    "tags": []
   },
   "outputs": [],
   "source": [
    "location_data = pd.read_json('/kaggle/input/locations-dhaka-rent4/locations.json')"
   ]
  },
  {
   "cell_type": "code",
   "execution_count": 43,
   "id": "a90ddf94",
   "metadata": {
    "execution": {
     "iopub.execute_input": "2025-01-12T10:28:10.273229Z",
     "iopub.status.busy": "2025-01-12T10:28:10.272902Z",
     "iopub.status.idle": "2025-01-12T10:28:10.292600Z",
     "shell.execute_reply": "2025-01-12T10:28:10.291369Z"
    },
    "papermill": {
     "duration": 0.035246,
     "end_time": "2025-01-12T10:28:10.294066",
     "exception": false,
     "start_time": "2025-01-12T10:28:10.258820",
     "status": "completed"
    },
    "tags": []
   },
   "outputs": [
    {
     "data": {
      "text/html": [
       "<div>\n",
       "<style scoped>\n",
       "    .dataframe tbody tr th:only-of-type {\n",
       "        vertical-align: middle;\n",
       "    }\n",
       "\n",
       "    .dataframe tbody tr th {\n",
       "        vertical-align: top;\n",
       "    }\n",
       "\n",
       "    .dataframe thead th {\n",
       "        text-align: right;\n",
       "    }\n",
       "</style>\n",
       "<table border=\"1\" class=\"dataframe\">\n",
       "  <thead>\n",
       "    <tr style=\"text-align: right;\">\n",
       "      <th></th>\n",
       "      <th>Gulshan 1, Gulshan</th>\n",
       "      <th>Lake Circus Road, Kalabagan</th>\n",
       "      <th>Shukrabad, Dhanmondi</th>\n",
       "      <th>Block L, Bashundhara R-A</th>\n",
       "      <th>Road No 25, Banani</th>\n",
       "      <th>Middle Badda, Badda</th>\n",
       "      <th>Block B, Bashundhara R-A</th>\n",
       "      <th>Block D, Bashundhara R-A</th>\n",
       "      <th>Matuail, Demra</th>\n",
       "      <th>Block H, Aftab Nagar</th>\n",
       "      <th>...</th>\n",
       "      <th>Talpokur Par, Bagichagaon</th>\n",
       "      <th>North Race Course, Race Course</th>\n",
       "      <th>Mizmizi, Shiddhirganj</th>\n",
       "      <th>Tongi, Gazipur Sadar Upazila</th>\n",
       "      <th>Joydebpur, Gazipur Sadar Upazila</th>\n",
       "      <th>Shimultoly, Gazipur Sadar Upazila</th>\n",
       "      <th>Chandana, Gazipur Sadar Upazila</th>\n",
       "      <th>Chowrasta, Chandra</th>\n",
       "      <th>aziz Moholla, Mohammadpur</th>\n",
       "      <th>Sobur khan Road, Dakshin Khan</th>\n",
       "    </tr>\n",
       "  </thead>\n",
       "  <tbody>\n",
       "    <tr>\n",
       "      <th>latitude</th>\n",
       "      <td>23.780887</td>\n",
       "      <td>23.746466</td>\n",
       "      <td>23.746466</td>\n",
       "      <td>23.8151</td>\n",
       "      <td>23.7930</td>\n",
       "      <td>23.780546</td>\n",
       "      <td>23.8151</td>\n",
       "      <td>23.8151</td>\n",
       "      <td>23.720881</td>\n",
       "      <td>23.7638</td>\n",
       "      <td>...</td>\n",
       "      <td>23.4615</td>\n",
       "      <td>23.463</td>\n",
       "      <td>23.7745</td>\n",
       "      <td>23.870</td>\n",
       "      <td>23.8275</td>\n",
       "      <td>23.8375</td>\n",
       "      <td>23.8345</td>\n",
       "      <td>23.8115</td>\n",
       "      <td>23.76779</td>\n",
       "      <td>23.873548</td>\n",
       "    </tr>\n",
       "    <tr>\n",
       "      <th>longitude</th>\n",
       "      <td>90.416640</td>\n",
       "      <td>90.376015</td>\n",
       "      <td>90.376015</td>\n",
       "      <td>90.4285</td>\n",
       "      <td>90.4043</td>\n",
       "      <td>90.426659</td>\n",
       "      <td>90.4285</td>\n",
       "      <td>90.4285</td>\n",
       "      <td>90.483269</td>\n",
       "      <td>90.4285</td>\n",
       "      <td>...</td>\n",
       "      <td>91.1835</td>\n",
       "      <td>91.187</td>\n",
       "      <td>90.7325</td>\n",
       "      <td>90.403</td>\n",
       "      <td>90.3810</td>\n",
       "      <td>90.3845</td>\n",
       "      <td>90.3650</td>\n",
       "      <td>90.3560</td>\n",
       "      <td>90.36150</td>\n",
       "      <td>90.407661</td>\n",
       "    </tr>\n",
       "  </tbody>\n",
       "</table>\n",
       "<p>2 rows × 448 columns</p>\n",
       "</div>"
      ],
      "text/plain": [
       "           Gulshan 1, Gulshan  Lake Circus Road, Kalabagan  \\\n",
       "latitude            23.780887                    23.746466   \n",
       "longitude           90.416640                    90.376015   \n",
       "\n",
       "           Shukrabad, Dhanmondi  Block L, Bashundhara R-A  Road No 25, Banani  \\\n",
       "latitude              23.746466                   23.8151             23.7930   \n",
       "longitude             90.376015                   90.4285             90.4043   \n",
       "\n",
       "           Middle Badda, Badda  Block B, Bashundhara R-A  \\\n",
       "latitude             23.780546                   23.8151   \n",
       "longitude            90.426659                   90.4285   \n",
       "\n",
       "           Block D, Bashundhara R-A  Matuail, Demra  Block H, Aftab Nagar  \\\n",
       "latitude                    23.8151       23.720881               23.7638   \n",
       "longitude                   90.4285       90.483269               90.4285   \n",
       "\n",
       "           ...  Talpokur Par, Bagichagaon  North Race Course, Race Course  \\\n",
       "latitude   ...                    23.4615                          23.463   \n",
       "longitude  ...                    91.1835                          91.187   \n",
       "\n",
       "           Mizmizi, Shiddhirganj  Tongi, Gazipur Sadar Upazila  \\\n",
       "latitude                 23.7745                        23.870   \n",
       "longitude                90.7325                        90.403   \n",
       "\n",
       "           Joydebpur, Gazipur Sadar Upazila  \\\n",
       "latitude                            23.8275   \n",
       "longitude                           90.3810   \n",
       "\n",
       "           Shimultoly, Gazipur Sadar Upazila  Chandana, Gazipur Sadar Upazila  \\\n",
       "latitude                             23.8375                          23.8345   \n",
       "longitude                            90.3845                          90.3650   \n",
       "\n",
       "           Chowrasta, Chandra  aziz Moholla, Mohammadpur  \\\n",
       "latitude              23.8115                   23.76779   \n",
       "longitude             90.3560                   90.36150   \n",
       "\n",
       "           Sobur khan Road, Dakshin Khan  \n",
       "latitude                       23.873548  \n",
       "longitude                      90.407661  \n",
       "\n",
       "[2 rows x 448 columns]"
      ]
     },
     "execution_count": 43,
     "metadata": {},
     "output_type": "execute_result"
    }
   ],
   "source": [
    "location_data.head()"
   ]
  },
  {
   "cell_type": "code",
   "execution_count": 44,
   "id": "a818979d",
   "metadata": {
    "execution": {
     "iopub.execute_input": "2025-01-12T10:28:10.322632Z",
     "iopub.status.busy": "2025-01-12T10:28:10.322217Z",
     "iopub.status.idle": "2025-01-12T10:28:10.369912Z",
     "shell.execute_reply": "2025-01-12T10:28:10.368935Z"
    },
    "papermill": {
     "duration": 0.063817,
     "end_time": "2025-01-12T10:28:10.371672",
     "exception": false,
     "start_time": "2025-01-12T10:28:10.307855",
     "status": "completed"
    },
    "tags": []
   },
   "outputs": [],
   "source": [
    "data['latitude'] = data['Location'].map(lambda loc: location_data.get(loc, {}).get('latitude'))\n",
    "data['longitude'] = data['Location'].map(lambda loc: location_data.get(loc, {}).get('longitude'))"
   ]
  },
  {
   "cell_type": "code",
   "execution_count": 45,
   "id": "17438ef8",
   "metadata": {
    "execution": {
     "iopub.execute_input": "2025-01-12T10:28:10.400146Z",
     "iopub.status.busy": "2025-01-12T10:28:10.399814Z",
     "iopub.status.idle": "2025-01-12T10:28:11.647498Z",
     "shell.execute_reply": "2025-01-12T10:28:11.646470Z"
    },
    "papermill": {
     "duration": 1.263818,
     "end_time": "2025-01-12T10:28:11.649099",
     "exception": false,
     "start_time": "2025-01-12T10:28:10.385281",
     "status": "completed"
    },
    "tags": []
   },
   "outputs": [
    {
     "data": {
      "text/html": [
       "<html>\n",
       "<head><meta charset=\"utf-8\" /></head>\n",
       "<body>\n",
       "    <div>            <script src=\"https://cdnjs.cloudflare.com/ajax/libs/mathjax/2.7.5/MathJax.js?config=TeX-AMS-MML_SVG\"></script><script type=\"text/javascript\">if (window.MathJax && window.MathJax.Hub && window.MathJax.Hub.Config) {window.MathJax.Hub.Config({SVG: {font: \"STIX-Web\"}});}</script>                <script type=\"text/javascript\">window.PlotlyConfig = {MathJaxConfig: 'local'};</script>\n",
       "        <script charset=\"utf-8\" src=\"https://cdn.plot.ly/plotly-2.35.2.min.js\"></script>                <div id=\"5df9ecd1-eda2-49b4-b7b4-1d77063404dc\" class=\"plotly-graph-div\" style=\"height:700px; width:100%;\"></div>            <script type=\"text/javascript\">                                    window.PLOTLYENV=window.PLOTLYENV || {};                                    if (document.getElementById(\"5df9ecd1-eda2-49b4-b7b4-1d77063404dc\")) {                    Plotly.newPlot(                        \"5df9ecd1-eda2-49b4-b7b4-1d77063404dc\",                        [{\"hovertemplate\":\"Location=%{text}\\u003cbr\\u003elatitude=%{lat}\\u003cbr\\u003elongitude=%{lon}\\u003cextra\\u003e\\u003c\\u002fextra\\u003e\",\"lat\":[22.3555,22.34,22.375,22.37,22.355,22.36,22.36,22.362,22.337,22.33,22.355,22.37,22.375,22.3755,22.36,22.36,22.336,22.373,22.336,22.336,22.38,22.356,22.335,22.374,22.3355,22.3355,22.355,22.3355,22.356,22.336,22.375,22.36,22.382,22.36,22.3405,22.32,22.315,22.3555,22.357,22.34,22.34,22.34,22.34,22.34,22.34,22.36,22.36,22.36,22.365,22.362,22.338,22.3575,22.35,22.31,22.31,22.35,22.354,22.3825,22.314,22.314,22.314,22.314,22.38,22.334,22.334,22.336,22.333,22.3355,22.3355,22.356,22.315,22.315,22.315,22.31,22.344,22.355,22.3545,22.3565,22.337,22.3755,22.354,22.354,22.3195,22.356,22.371,22.373,22.3355,22.376,22.360500000000002,22.360500000000002,22.360500000000002,22.354,22.355,22.338,22.3405,22.315,22.355,22.3765,22.385,22.336,22.336,22.336,22.3375,22.36,22.362,22.341,22.3375,22.339,22.377,22.3365,22.319,22.3195,22.35,22.35,22.35,22.354,22.355,22.362,22.362,22.3825,22.34,22.38,22.362,22.377,22.377,22.3385,22.3385,22.377,22.377,22.377,22.377,22.377,22.37,22.33,22.33,22.354,22.372,22.3155,22.315,22.377,22.377,22.377,22.377,22.377,22.377,22.377,22.3385,22.382,22.37,22.365,22.3395,22.372,22.338,22.344,22.344,22.344,22.339,22.339,22.338,22.338,22.3205,22.3205,22.314,22.314,22.315,22.315,22.336,22.3195,22.315,22.314,22.314,22.3585,22.3555,22.3375,22.334,22.334,22.3375,22.31,22.32,22.3555,22.362,22.366,22.3365,22.38,22.377,22.377,22.314,22.339,22.3555,22.319,22.319,22.319,22.385,22.375,22.362,22.384,22.34,22.3705,22.3355,22.334,22.3405,22.3405,22.36,22.36,22.3405,22.315,22.315,22.315,22.315,22.336,22.34,22.34,22.338,22.371,22.385,22.386,22.3825,22.338,22.37,22.334,22.3195,22.315,22.3655,22.3375,22.3375,22.3335,22.37,22.3545,22.3545,22.3545,22.3805,22.36,22.313,22.3375,22.3565,22.3545,22.338,22.362,22.366,22.319,22.33,22.3655,22.3655,22.3655,22.3655,22.3655,22.38,22.38,22.38,22.38,22.38,22.36,22.366,22.353,22.32,22.336,22.355,22.344,22.377,22.3345,22.3555,22.3195,22.3875,22.31,22.335,22.37,22.3525,22.355,22.362,22.38,22.34,22.3655,22.315,22.362,22.313,22.337,22.36,22.336,22.336,22.354,22.337,22.315,22.336,22.335,22.366,22.37,22.377,22.377,22.336,22.344,22.3875,22.3195,22.315,22.336,22.355,22.336,22.344,22.362,22.3305,22.3105,22.335,22.3375,22.32,22.31,22.32,22.374,22.313,22.368,22.377,22.377,22.377,22.3695,22.3695,22.3385,22.336,22.339,22.38,22.3395,22.3695,22.3395,22.34,22.34,22.34,22.34,22.3875,22.373,22.362,22.356,22.368,22.34,22.3405,22.38,22.3355,22.3555,22.385,22.334,22.319,22.353,22.314,22.33,22.315,22.314,22.335,22.34,22.3375,22.3405,22.335,22.371,22.3385,22.36,22.36,22.375,22.3355,22.3355,22.3355,22.3355,22.356,22.335,22.3365,22.349,22.338,22.3705,22.35,22.35,22.31,22.31,22.354,22.354,22.354,22.3795,22.314,22.314,22.354,22.314,22.314,22.314,22.314,22.314,22.314,22.336,22.336,22.336,22.336,22.356,22.3525,22.338,22.338,22.315,22.34,22.356,22.3875,22.373,22.336,22.336,22.314,22.357,22.386,22.38,22.338,22.333,22.336,22.336,22.336,22.336,22.336,22.3105,22.356,22.356,22.335,22.3355,22.3355,22.3355,22.356,22.356,22.3875,22.336,22.336,22.336,22.336,22.3415,22.376,22.3545,22.34,22.3555,22.3375,22.355,22.381,22.3525,22.373,22.354,22.354,22.3375,22.371,22.3395,22.3655,22.3655,22.3655,22.3655,22.3655,22.3375,22.3655,22.3655,22.37,22.334,22.3545,22.353,22.376,22.376,22.315,22.315,22.344,22.344,22.344,22.344,22.362,22.34,22.377,22.377,22.33,22.377,22.377,22.377,22.377,22.377,22.32,22.315,22.33,22.377,22.377,22.3755,22.3385,22.3205,22.368,22.315,22.315,22.3195,22.3195,22.3195,22.315,22.35,22.3555,22.379,22.354,22.354,22.354,22.3345,22.314,22.336,22.336,22.336,22.314,22.336,22.336,22.336,22.3315,22.336,22.336,22.336,22.336,22.366,22.337,22.3695,22.357,22.339,22.3655,22.353,22.341,22.3655,22.32,22.366,22.366,22.366,22.366,22.3655,22.3655,22.38,22.369,22.3585,22.338,22.338,22.338,22.3395,22.38,22.32,22.32,22.32,22.3375,22.3695,22.3695,22.3695,22.385,22.371,22.34,22.337,22.366,22.3555,22.339,22.382,22.3585,22.3375,22.3655,22.368,22.37,22.3375,22.31,22.31,22.31,22.319,22.32,22.32,22.3375,22.3375,22.32,22.32,22.32,22.32,22.32,22.3205,22.3085,22.335,22.314,22.377,22.377,22.377,22.377,22.377,22.362,22.377,22.377,22.3525,22.355,22.37,22.329,22.36,22.3355,22.355,22.379,22.336,22.336,22.335,22.3575,22.358,22.358,22.3405,22.355,22.3805,22.335,22.335,22.339,22.3375,22.3555,22.3555,22.3285,22.3405,22.37,22.3375,22.36,22.315,22.31,22.32,22.336,22.3555,22.31,22.31,22.360500000000002,22.3345,22.34,22.36,22.336,22.34,22.360500000000002,22.366,22.32,22.32,22.384,22.336,22.315,22.3195,22.3345,22.384,22.314,22.3355,22.31,22.353,22.344,22.362,22.315,22.360500000000002,22.371,22.337,22.375,22.315,22.362,22.365,22.3585,22.362,22.32,22.32,22.377,22.3105,22.384,22.371,22.314,22.335,22.3365,22.315,22.377,22.315,22.3695,22.3655,22.3395,22.34,22.376,22.3195,22.3195,22.3195,22.3375,22.3375,22.3375,22.3375,22.371,22.3875,22.3875,22.357,22.339,22.362,22.3365,22.3375,22.3375,22.337,22.353,22.3075,22.356,22.3555,22.3195,22.373,22.3375,22.3365,22.3365,22.35,22.35,22.354,22.36,22.3705,22.35,22.35,22.35,22.31,22.31,22.354,22.354,22.3795,22.3795,22.354,22.314,22.314,22.314,22.314,22.355,22.354,22.336,22.336,22.333,22.333,22.336,22.373,22.336,22.3355,22.3355,22.3355,22.3355,22.3355,22.3355,22.356,22.356,22.335,22.338,22.3395,22.3545,22.3545,22.3545,22.3655,22.3375,22.382,22.32,22.371,22.34,22.315,22.3795,22.3795,22.36,22.3395,22.348,22.3555,22.3555,22.315,22.3345,22.354,22.354,22.336,22.336,22.3815,22.315,22.3555,22.3395,22.371,22.382,22.34,22.354,22.376,22.319,22.3395,22.3405,22.338,22.338,22.375,22.38,22.315,22.315,22.315,22.315,22.315,22.315,22.3375,22.315,22.375,22.3675,22.3565,22.306,22.306,22.360500000000002,22.360500000000002,22.360500000000002,22.3525,22.353,22.3715,22.33,22.368,22.3375,22.341,22.336,22.336,22.336,22.336,22.336,22.375,22.34,22.335,22.336,22.335,22.335,22.34,22.36,22.36,22.36,22.362,22.34,22.34,22.3795,22.368,22.3555,22.3375,22.3575,22.344,22.3365,22.374,22.3395,22.3795,22.3145,22.34,22.372,22.386,22.360500000000002,22.34,22.315,22.371,22.337,22.3655,22.355,22.360500000000002,22.355,22.362,22.3375,22.339,22.37,22.344,22.344,22.344,22.344,22.371,22.3285,22.3815,22.3485,22.32,22.3555,22.3795,22.3195,22.3195,22.3195,22.31,22.3345,22.3245,22.3245,22.31,22.31,22.375,22.375,22.335,22.3585,22.377,22.315,22.3655,22.315,22.33,22.377,22.3825,22.3825,22.362,22.3755,22.3565,22.314,22.3655,22.329,22.36,22.355,22.355,22.37,22.355,22.362,22.373,22.3585,22.386,22.2875,22.366,22.366,22.366,22.3655,22.3655,22.3655,22.3655,22.3655,22.3555,22.314,22.365,22.34,22.360500000000002,22.337,22.3375,22.362,22.353,22.336,22.3195,22.3195,22.3375,22.3375,22.314,22.3665,22.381,22.377,22.337,22.3875,22.3475,22.362,22.3875,22.336,22.336,22.3375,22.308,22.362,22.355,22.377,22.377,22.34,22.34,22.374,22.374,22.3345,22.3775,22.362,22.38,22.336,22.3525,22.339,22.3405,22.3565,22.319,22.354,22.3195,22.377,22.377,22.377,22.336,22.366,22.3195,22.362,22.353,22.3825,22.357,22.338,22.3875,22.355,22.34,22.315,22.38,22.36,22.36,22.339,22.3395,22.3375,22.3375,22.34,22.357,22.3655,22.3655,22.32,22.3655,22.34,22.336,22.3545,22.3545,22.3195,22.3245,22.336,22.31,22.375,22.3195,22.3195,22.3555,22.377,22.3555,22.34,22.3275,22.32,22.32,22.34,22.377,22.336,22.336,22.34,22.336,22.336,22.336,22.336,22.315,22.3385,22.3385,22.3355,22.32,22.3375,22.3375,22.3195,22.31,22.31,22.31,22.31,22.31,22.319,22.32,22.32,22.3555,22.329,22.3205,22.315,22.315,22.314,22.384,22.384,22.3195,22.3555,22.373,22.37,22.315,22.355,22.362,22.315,22.3875,22.3525,22.336,22.3795,22.333,22.336,22.31,22.3105,22.356,22.356,22.375,22.3355,22.3355,22.3355,22.355,22.356,22.36,22.36,22.36,22.3545,22.3545,22.3385,22.3385,22.3385,22.377,22.377,22.377,22.377,22.377,22.377,22.3705,22.3585,22.35,22.35,22.354,22.354,22.354,22.354,22.354,22.314,22.314,22.314,22.314,22.314,22.3525,22.336,22.336,22.336,22.377,22.3805,22.3525,22.3525,22.3525,22.3525,22.3525,22.3525,22.3525,22.372,22.372,22.372,22.372,22.372],\"legendgroup\":\"\",\"lon\":[91.819,91.83,91.82,91.825,91.8255,91.83,91.83,91.829,91.84,91.8,91.8255,91.823,91.83,91.825,91.83,91.8295,91.841,91.821,91.841,91.841,91.832,91.8195,91.842,91.822,91.843,91.843,91.8255,91.843,91.826,91.841,91.8215,91.83,91.833,91.83,91.835,91.77,91.78,91.819,91.827,91.8305,91.8305,91.8305,91.8305,91.8305,91.8305,91.83,91.83,91.83,91.8285,91.829,91.841,91.828,91.82,91.76,91.76,91.82,91.819,91.8325,91.783,91.783,91.783,91.783,91.832,91.841,91.841,91.841,91.843,91.843,91.843,91.8195,91.781,91.781,91.781,91.762,91.825,91.8305,91.831,91.806,91.823,91.825,91.827,91.827,91.783,91.826,91.829,91.833,91.843,91.8245,91.8305,91.8305,91.8305,91.827,91.8255,91.831,91.826,91.78,91.8255,91.8255,91.835,91.841,91.841,91.841,91.834,91.8295,91.829,91.835,91.8245,91.839,91.828,91.841,91.785,91.783,91.82,91.82,91.82,91.819,91.8255,91.832,91.832,91.8325,91.8325,91.834,91.829,91.828,91.828,91.8255,91.8255,91.828,91.828,91.828,91.828,91.828,91.831,91.8,91.8,91.819,91.834,91.7625,91.781,91.828,91.828,91.828,91.828,91.828,91.828,91.828,91.8415,91.833,91.825,91.8285,91.8285,91.834,91.8265,91.825,91.825,91.825,91.839,91.839,91.8265,91.8265,91.7605,91.7605,91.783,91.783,91.78,91.78,91.841,91.783,91.78,91.7815,91.7815,91.8205,91.819,91.8245,91.841,91.841,91.8345,91.76,91.77,91.819,91.829,91.8325,91.8285,91.832,91.828,91.828,91.783,91.839,91.819,91.7915,91.7915,91.7915,91.835,91.82,91.829,91.832,91.8305,91.8425,91.843,91.841,91.835,91.835,91.8295,91.8295,91.828,91.78,91.78,91.78,91.78,91.8445,91.83,91.83,91.8175,91.8285,91.835,91.834,91.8325,91.8325,91.823,91.841,91.783,91.781,91.833,91.8395,91.8395,91.823,91.825,91.826,91.826,91.826,91.8345,91.8295,91.76,91.8345,91.827,91.826,91.8265,91.829,91.8325,91.785,91.8,91.833,91.833,91.833,91.833,91.833,91.832,91.832,91.832,91.832,91.832,91.83,91.8325,91.8085,91.77,91.841,91.8255,91.825,91.828,91.8075,91.819,91.783,91.8365,91.76,91.842,91.823,91.806,91.8255,91.829,91.834,91.8305,91.833,91.78,91.829,91.76,91.8345,91.83,91.841,91.841,91.819,91.8345,91.78,91.841,91.842,91.8325,91.823,91.828,91.828,91.841,91.825,91.8365,91.783,91.78,91.841,91.8255,91.841,91.825,91.829,91.813,91.783,91.843,91.8245,91.77,91.76,91.77,91.822,91.76,91.832,91.828,91.828,91.828,91.837,91.837,91.8325,91.8445,91.839,91.8315,91.8195,91.8295,91.8195,91.8305,91.8305,91.8305,91.8305,91.8365,91.821,91.829,91.8195,91.832,91.8305,91.835,91.8315,91.844,91.819,91.835,91.841,91.7915,91.829,91.783,91.8,91.78,91.783,91.842,91.8305,91.8345,91.826,91.842,91.829,91.832,91.83,91.83,91.8215,91.843,91.843,91.843,91.843,91.8195,91.842,91.837,91.8115,91.8325,91.828,91.82,91.82,91.76,91.76,91.819,91.819,91.819,91.833,91.783,91.783,91.819,91.783,91.783,91.783,91.783,91.783,91.783,91.841,91.841,91.841,91.841,91.8195,91.828,91.8175,91.8175,91.781,91.832,91.826,91.8365,91.833,91.8445,91.8445,91.783,91.8265,91.834,91.832,91.831,91.843,91.841,91.841,91.841,91.841,91.841,91.783,91.8195,91.8195,91.842,91.843,91.843,91.843,91.8195,91.8195,91.8365,91.841,91.841,91.841,91.841,91.827,91.8325,91.826,91.83,91.819,91.834,91.8255,91.8315,91.806,91.833,91.827,91.827,91.8395,91.8285,91.833,91.833,91.833,91.833,91.833,91.833,91.831,91.833,91.833,91.823,91.841,91.831,91.8085,91.8325,91.8325,91.781,91.781,91.825,91.825,91.825,91.825,91.829,91.8305,91.828,91.828,91.8,91.828,91.828,91.828,91.828,91.828,91.77,91.781,91.8,91.828,91.828,91.825,91.8255,91.7605,91.832,91.78,91.78,91.783,91.783,91.783,91.78,91.82,91.819,91.8345,91.819,91.819,91.819,91.8075,91.783,91.841,91.841,91.841,91.783,91.841,91.841,91.841,91.818,91.841,91.841,91.841,91.841,91.8325,91.8345,91.8295,91.827,91.836,91.833,91.829,91.835,91.833,91.77,91.8325,91.8325,91.8325,91.8325,91.833,91.833,91.832,91.826,91.8255,91.8265,91.8265,91.8265,91.8285,91.834,91.77,91.77,91.77,91.834,91.8375,91.8375,91.8375,91.835,91.829,91.8325,91.8345,91.8325,91.819,91.836,91.8345,91.8255,91.834,91.833,91.832,91.825,91.8345,91.76,91.76,91.76,91.785,91.77,91.77,91.8345,91.8345,91.77,91.77,91.77,91.77,91.77,91.7605,91.79,91.842,91.783,91.828,91.828,91.828,91.828,91.828,91.829,91.828,91.828,91.806,91.8255,91.823,91.8175,91.8295,91.843,91.8255,91.8345,91.841,91.841,91.842,91.828,91.8275,91.8275,91.826,91.8255,91.8345,91.842,91.842,91.836,91.834,91.819,91.8265,91.8205,91.835,91.825,91.834,91.8295,91.78,91.7865,91.77,91.841,91.819,91.76,91.76,91.8305,91.8075,91.8305,91.8295,91.841,91.8305,91.8305,91.8325,91.77,91.77,91.832,91.841,91.78,91.783,91.8075,91.832,91.7815,91.843,91.7865,91.8085,91.825,91.829,91.78,91.8305,91.829,91.8345,91.83,91.78,91.829,91.8285,91.8205,91.829,91.77,91.77,91.828,91.783,91.832,91.829,91.783,91.843,91.834,91.78,91.828,91.78,91.8295,91.833,91.833,91.8305,91.8325,91.783,91.783,91.783,91.8395,91.8395,91.8395,91.8395,91.829,91.8365,91.8365,91.827,91.836,91.829,91.837,91.8345,91.8345,91.84,91.832,91.7895,91.8195,91.819,91.783,91.836,91.8245,91.841,91.841,91.82,91.82,91.819,91.83,91.828,91.82,91.82,91.82,91.76,91.76,91.819,91.819,91.833,91.833,91.819,91.783,91.783,91.783,91.783,91.8255,91.819,91.841,91.841,91.843,91.843,91.841,91.821,91.841,91.843,91.843,91.843,91.843,91.843,91.843,91.8195,91.8195,91.842,91.831,91.833,91.826,91.826,91.826,91.833,91.8395,91.8345,91.77,91.8285,91.8325,91.78,91.845,91.845,91.8295,91.8195,91.8075,91.819,91.819,91.78,91.8075,91.819,91.819,91.841,91.841,91.8345,91.781,91.819,91.8195,91.8285,91.8345,91.832,91.827,91.8325,91.7915,91.8285,91.835,91.8265,91.8265,91.82,91.834,91.78,91.78,91.78,91.78,91.78,91.78,91.8245,91.781,91.82,91.8275,91.827,91.783,91.783,91.8305,91.8305,91.8305,91.828,91.829,91.8295,91.8,91.8285,91.834,91.828,91.841,91.841,91.841,91.841,91.841,91.8215,91.8305,91.842,91.841,91.842,91.842,91.832,91.83,91.83,91.83,91.829,91.8305,91.8305,91.834,91.8285,91.819,91.8365,91.828,91.825,91.8285,91.84,91.8195,91.833,91.7875,91.832,91.834,91.834,91.8305,91.832,91.78,91.829,91.84,91.833,91.8305,91.8305,91.8255,91.829,91.8345,91.836,91.823,91.825,91.825,91.825,91.825,91.829,91.8205,91.8345,91.8035,91.77,91.819,91.833,91.783,91.783,91.783,91.7865,91.8075,91.8145,91.8145,91.7865,91.7865,91.8215,91.8215,91.842,91.8255,91.828,91.78,91.833,91.781,91.8,91.828,91.8325,91.8325,91.829,91.825,91.806,91.783,91.833,91.8175,91.8295,91.8305,91.8255,91.823,91.8255,91.829,91.833,91.8255,91.834,91.796,91.8325,91.8325,91.8325,91.833,91.833,91.833,91.833,91.833,91.819,91.783,91.8285,91.832,91.8305,91.8345,91.8245,91.829,91.8085,91.841,91.783,91.783,91.8345,91.8345,91.783,91.827,91.838,91.828,91.84,91.8365,91.8285,91.829,91.8365,91.841,91.841,91.834,91.789,91.829,91.8255,91.828,91.828,91.8305,91.8305,91.84,91.84,91.8075,91.834,91.829,91.834,91.841,91.806,91.836,91.8275,91.827,91.7915,91.827,91.783,91.828,91.828,91.828,91.841,91.8325,91.783,91.829,91.832,91.8325,91.827,91.8265,91.8365,91.8255,91.8305,91.781,91.8315,91.83,91.83,91.836,91.8195,91.8345,91.8345,91.832,91.827,91.833,91.833,91.77,91.833,91.8305,91.841,91.826,91.826,91.783,91.8145,91.841,91.7865,91.8215,91.783,91.783,91.819,91.828,91.819,91.832,91.813,91.77,91.77,91.832,91.828,91.841,91.841,91.8305,91.841,91.841,91.841,91.841,91.78,91.8255,91.8255,91.844,91.77,91.8345,91.8345,91.8045,91.76,91.76,91.76,91.76,91.76,91.785,91.77,91.77,91.819,91.8175,91.7605,91.78,91.78,91.783,91.832,91.832,91.783,91.819,91.836,91.823,91.78,91.8255,91.829,91.78,91.8365,91.828,91.841,91.8325,91.843,91.841,91.7865,91.783,91.8195,91.8195,91.8215,91.843,91.843,91.843,91.8255,91.8195,91.83,91.83,91.83,91.826,91.826,91.8255,91.8255,91.8255,91.828,91.828,91.828,91.828,91.828,91.828,91.828,91.827,91.82,91.82,91.819,91.819,91.819,91.819,91.819,91.783,91.783,91.783,91.783,91.783,91.828,91.841,91.841,91.841,91.828,91.835,91.806,91.806,91.806,91.806,91.806,91.806,91.806,91.834,91.834,91.834,91.834,91.834],\"marker\":{\"color\":\"red\",\"size\":9},\"mode\":\"markers+text\",\"name\":\"\",\"showlegend\":false,\"subplot\":\"mapbox\",\"text\":[\"Chandgaon Residential Area, 4 No Chandgaon Ward\",\"Badshah Miah Chowdhury Road, 15 No. Bagmoniram Ward\",\"Bibirhat, 7 No. West Sholoshohor Ward\",\"Lake Valley R\\u002fA, 9 No. North Pahartali Ward\",\"Nasirabad Housing Society, Muradpur\",\"Nasirabad, Bayazid\",\"Nasirabad, Bayazid\",\"South Khulshi, Khulshi\",\"Momin Road, Jamal Khan\",\"25 No. Rampur Ward, Double Mooring\",\"Nasirabad Housing Society, Muradpur\",\"West Khulshi, 9 No. North Pahartali Ward\",\"Shershah Colony, Bayazid\",\"Akbarshah Railway Colony, 9 No. North Pahartali Ward\",\"Nasirabad, Bayazid\",\"Zakir Hossain Road, Khulshi\",\"Dewan Bazar, Bakalia\",\"Hamjarbag, 7 No. West Sholoshohor Ward\",\"Dewan Bazar, Bakalia\",\"Dewan Bazar, Bakalia\",\"Hill View R\\u002fA, Bayazid\",\"Chand Mia Road, 4 No Chandgaon Ward\",\"17 No West Bakalia Ward, Bakalia\",\"Mohammad Pur Road, 7 No. West Sholoshohor Ward\",\"18 No. East Bakalia Ward, Bakalia\",\"18 No. East Bakalia Ward, Bakalia\",\"Nasirabad Housing Society, Muradpur\",\"18 No. East Bakalia Ward, Bakalia\",\"CDA Avenue, Muradpur\",\"Dewan Bazar, Bakalia\",\"Chasma Hill R\\u002fA, 7 No. West Sholoshohor Ward\",\"Nasirabad, Bayazid\",\"Dreamland Residential Area, Bayazid\",\"Nasirabad, Bayazid\",\"Chatteshwari Road, 15 No. Bagmoniram Ward\",\"26 No. North Halishahar Ward, Halishahar\",\"24 No. North Agrabad Ward, Double Mooring\",\"Chandgaon Residential Area, 4 No Chandgaon Ward\",\"1 No Railway Gate, Muradpur\",\"Nasirabad, 15 No. Bagmoniram Ward\",\"Nasirabad, 15 No. Bagmoniram Ward\",\"Nasirabad, 15 No. Bagmoniram Ward\",\"Nasirabad, 15 No. Bagmoniram Ward\",\"Nasirabad, 15 No. Bagmoniram Ward\",\"Nasirabad, 15 No. Bagmoniram Ward\",\"Nasirabad, Bayazid\",\"Nasirabad, Bayazid\",\"Nasirabad, Bayazid\",\"North Khulshi, Khulshi\",\"South Khulshi, Khulshi\",\"Darul Uloom Road, Jamal Khan\",\"Mirzapul Road, Muradpur\",\"Bahaddarhat, 4 No Chandgaon Ward\",\"39 No. South Halishahar Ward, Halishahar\",\"39 No. South Halishahar Ward, Halishahar\",\"Bahaddarhat, 4 No Chandgaon Ward\",\"Mohara, 4 No Chandgaon Ward\",\"Shahid Nagar, Bayazid\",\"12 No. Sarai Para Ward, Double Mooring\",\"12 No. Sarai Para Ward, Double Mooring\",\"12 No. Sarai Para Ward, Double Mooring\",\"12 No. Sarai Para Ward, Double Mooring\",\"Hill View R\\u002fA, Bayazid\",\"Patharghata, Kotwali\",\"Patharghata, Kotwali\",\"Dewan Bazar, Bakalia\",\"Korbanigonj, Kotwali\",\"18 No. East Bakalia Ward, Bakalia\",\"18 No. East Bakalia Ward, Bakalia\",\"Chand Mia Road, 4 No Chandgaon Ward\",\"28 No. Pathantooly Ward, Double Mooring\",\"28 No. Pathantooly Ward, Double Mooring\",\"28 No. Pathantooly Ward, Double Mooring\",\"38 No. South Middle Halishahar, Halishahar\",\"CDA Avenue, Sholokbahar\",\"East Nasirabad, Muradpur\",\"C & B Colony, East Nasirabad\",\"Road No 1, Jalalabad Housing Society\",\"Huseyn Shaheed Suhrawardy By Lane, 33 No. Firingee Bazaar Ward\",\"Akbarshah Railway Colony, 9 No. North Pahartali Ward\",\"Abdul Hamid Road, Sholokbahar\",\"Abdul Hamid Road, Sholokbahar\",\"South Agrabad, Double Mooring\",\"CDA Avenue, Muradpur\",\"Proshanti R\\u002fA, 10 No. North Kattali Ward\",\"Port Connecting Road, 11 No. South Kattali Ward\",\"18 No. East Bakalia Ward, Bakalia\",\"Noapara, 9 No. North Pahartali Ward\",\"Khulshi Green Housing Society, Khulshi\",\"Khulshi Green Housing Society, Khulshi\",\"Khulshi Green Housing Society, Khulshi\",\"Abdul Hamid Road, Sholokbahar\",\"Nasirabad Housing Society, Muradpur\",\"Mohammed Ali Road, 15 No. Bagmoniram Ward\",\"Jubilee Road, 22 No. Enayet Bazaar Ward\",\"24 No. North Agrabad Ward, Double Mooring\",\"Nasirabad Housing Society, Muradpur\",\"Kaibalyadham Housing Society, 9 No. North Pahartali Ward\",\"Polytechnic, Bayazid\",\"Dewan Bazar, Bakalia\",\"Dewan Bazar, Bakalia\",\"Dewan Bazar, Bakalia\",\"Chawk Bazar, 16 No. Chawk Bazaar Ward\",\"Zakir Hossain Road, Khulshi\",\"South Khulshi, Khulshi\",\"O. R Nizam Road, Panchlaish\",\"Abhoy Mitra Lane, 33 No. Firingee Bazaar Ward\",\"Majhirghat Road, 30 No. East Madarbari Ward\",\"Dhaka Trunk Road, 9 No. North Pahartali Ward\",\"Nabab Siraj Ud Daula Road, Jamal Khan\",\"Sheikh Mujib Road, Double Mooring\",\"South Agrabad, Double Mooring\",\"Bahaddarhat, 4 No Chandgaon Ward\",\"Bahaddarhat, 4 No Chandgaon Ward\",\"Bahaddarhat, 4 No Chandgaon Ward\",\"Mohara, 4 No Chandgaon Ward\",\"Nasirabad Housing Society, Muradpur\",\"Khulshi Garden View Housing Society, 9 No. North Pahartali Ward\",\"Khulshi Garden View Housing Society, 9 No. North Pahartali Ward\",\"Shahid Nagar, Bayazid\",\"Hillview Residential Area, 15 No. Bagmoniram Ward\",\"Ali Nagar, Bayazid\",\"South Khulshi, Khulshi\",\"Dhaka Trunk Road, 9 No. North Pahartali Ward\",\"Dhaka Trunk Road, 9 No. North Pahartali Ward\",\"Yakub Nagar Road, 33 No. Firingee Bazaar Ward\",\"Yakub Nagar Road, 33 No. Firingee Bazaar Ward\",\"Dhaka Trunk Road, 9 No. North Pahartali Ward\",\"Dhaka Trunk Road, 9 No. North Pahartali Ward\",\"Dhaka Trunk Road, 9 No. North Pahartali Ward\",\"Dhaka Trunk Road, 9 No. North Pahartali Ward\",\"Dhaka Trunk Road, 9 No. North Pahartali Ward\",\"Dhaka- Chattogram Highway, 10 No. North Kattali Ward\",\"25 No. Rampur Ward, Double Mooring\",\"25 No. Rampur Ward, Double Mooring\",\"Mohara, 4 No Chandgaon Ward\",\"Dakshin Kattali, 11 No. South Kattali Ward\",\"Halishahar Road, Halishahar\",\"28 No. Pathantooly Ward, Double Mooring\",\"Dhaka Trunk Road, 9 No. North Pahartali Ward\",\"Dhaka Trunk Road, 9 No. North Pahartali Ward\",\"Dhaka Trunk Road, 9 No. North Pahartali Ward\",\"Dhaka Trunk Road, 9 No. North Pahartali Ward\",\"Dhaka Trunk Road, 9 No. North Pahartali Ward\",\"Dhaka Trunk Road, 9 No. North Pahartali Ward\",\"Dhaka Trunk Road, 9 No. North Pahartali Ward\",\"Darogahat Road, 30 No. East Madarbari Ward\",\"Dreamland Residential Area, Bayazid\",\"Lake Valley R\\u002fA, 9 No. North Pahartali Ward\",\"North Khulshi, Khulshi\",\"Nandan Kanan, 22 No. Enayet Bazaar Ward\",\"Dakshin Kattali, 11 No. South Kattali Ward\",\"Kobi Kazi Nazrul Islam Road, 33 No. Firingee Bazaar Ward\",\"CDA Avenue, Sholokbahar\",\"CDA Avenue, Sholokbahar\",\"CDA Avenue, Sholokbahar\",\"Majhirghat Road, 30 No. East Madarbari Ward\",\"Majhirghat Road, 30 No. East Madarbari Ward\",\"Kobi Kazi Nazrul Islam Road, 33 No. Firingee Bazaar Ward\",\"Kobi Kazi Nazrul Islam Road, 33 No. Firingee Bazaar Ward\",\"Sabujbag, Halishahar\",\"Sabujbag, Halishahar\",\"12 No. Sarai Para Ward, Double Mooring\",\"12 No. Sarai Para Ward, Double Mooring\",\"24 No. North Agrabad Ward, Double Mooring\",\"24 No. North Agrabad Ward, Double Mooring\",\"Dewan Bazar, Bakalia\",\"South Agrabad, Double Mooring\",\"24 No. North Agrabad Ward, Double Mooring\",\"23 No. North Pathantooly Ward, Double Mooring\",\"23 No. North Pathantooly Ward, Double Mooring\",\"North Forida Para, 4 No Chandgaon Ward\",\"Chandgaon Residential Area, 4 No Chandgaon Ward\",\"Abhoy Mitra Lane, 33 No. Firingee Bazaar Ward\",\"Patharghata, Kotwali\",\"Patharghata, Kotwali\",\"14 No. Lalkhan Bazaar Ward, Lal Khan Bazaar\",\"39 No. South Halishahar Ward, Halishahar\",\"26 No. North Halishahar Ward, Halishahar\",\"Chandgaon Residential Area, 4 No Chandgaon Ward\",\"South Khulshi, Khulshi\",\"Yakub Future Park Housing, Khulshi\",\"R C Church Road, 33 No. Firingee Bazaar Ward\",\"Hill View R\\u002fA, Bayazid\",\"Dhaka Trunk Road, 9 No. North Pahartali Ward\",\"Dhaka Trunk Road, 9 No. North Pahartali Ward\",\"12 No. Sarai Para Ward, Double Mooring\",\"Majhirghat Road, 30 No. East Madarbari Ward\",\"Chandgaon Residential Area, 4 No Chandgaon Ward\",\"Commerce College Road, Double Mooring\",\"Commerce College Road, Double Mooring\",\"Commerce College Road, Double Mooring\",\"Polytechnic, Bayazid\",\"Bibirhat, 7 No. West Sholoshohor Ward\",\"South Khulshi, Khulshi\",\"Sangbadik Co-operative Housing Society, Bayazid\",\"Nasirabad, 15 No. Bagmoniram Ward\",\"Ambagan Road, Railway Colony\",\"18 No. East Bakalia Ward, Bakalia\",\"Patharghata, Kotwali\",\"Chatteshwari Road, 15 No. Bagmoniram Ward\",\"Chatteshwari Road, 15 No. Bagmoniram Ward\",\"Zakir Hossain Road, Khulshi\",\"Zakir Hossain Road, Khulshi\",\"Goaltuli Lane, 22 No. Enayet Bazaar Ward\",\"24 No. North Agrabad Ward, Double Mooring\",\"24 No. North Agrabad Ward, Double Mooring\",\"24 No. North Agrabad Ward, Double Mooring\",\"24 No. North Agrabad Ward, Double Mooring\",\"Ashkar Dighir Par, Jamal Khan\",\"Badshah Miah Chowdhury Road, 15 No. Bagmoniram Ward\",\"Badshah Miah Chowdhury Road, 15 No. Bagmoniram Ward\",\"32 No. Andarkilla Ward\",\"Colonel Hat, 10 No. North Kattali Ward\",\"Polytechnic, Bayazid\",\"Green Valley, Bayazid\",\"Shahid Nagar, Bayazid\",\"CDA Avenue, 15 No. Bagmoniram Ward\",\"West Khulshi, 9 No. North Pahartali Ward\",\"Patharghata, Kotwali\",\"South Agrabad, Double Mooring\",\"28 No. Pathantooly Ward, Double Mooring\",\"West Khulshi R\\u002fA, 9 No. North Pahartali Ward\",\"Hill Side Residential Area, Lal Khan Bazaar\",\"Hill Side Residential Area, Lal Khan Bazaar\",\"Joy Pahar Housing Estate, Kazir Dewri\",\"Lake Valley R\\u002fA, 9 No. North Pahartali Ward\",\"Al-Madani Road, Sholokbahar\",\"Al-Madani Road, Sholokbahar\",\"Al-Madani Road, Sholokbahar\",\"Raufabad Residential Area, Bayazid\",\"Zakir Hossain Road, Khulshi\",\"37 No. North-Middle Halishahar Ward, Halishahar\",\"14 No. Lalkhan Bazaar Ward, Lal Khan Bazaar\",\"Zakir Hossain By Lane, East Nasirabad\",\"Al-Madani Road, Sholokbahar\",\"Kobi Kazi Nazrul Islam Road, 33 No. Firingee Bazaar Ward\",\"South Khulshi, Khulshi\",\"Yakub Future Park Housing, Khulshi\",\"Sheikh Mujib Road, Double Mooring\",\"25 No. Rampur Ward, Double Mooring\",\"West Khulshi R\\u002fA, 9 No. North Pahartali Ward\",\"West Khulshi R\\u002fA, 9 No. North Pahartali Ward\",\"West Khulshi R\\u002fA, 9 No. North Pahartali Ward\",\"West Khulshi R\\u002fA, 9 No. North Pahartali Ward\",\"West Khulshi R\\u002fA, 9 No. North Pahartali Ward\",\"Hill View R\\u002fA, Bayazid\",\"Hill View R\\u002fA, Bayazid\",\"Hill View R\\u002fA, Bayazid\",\"Hill View R\\u002fA, Bayazid\",\"Hill View R\\u002fA, Bayazid\",\"Nasirabad, Bayazid\",\"Yakub Future Park Housing, Khulshi\",\"Katalgonj, Panchlaish\",\"26 No. North Halishahar Ward, Halishahar\",\"Dewan Bazar, Bakalia\",\"Nasirabad Housing Society, Muradpur\",\"CDA Avenue, Sholokbahar\",\"Dhaka Trunk Road, 9 No. North Pahartali Ward\",\"Cosmopolitan R\\u002fA, 7 No. West Sholoshohor Ward\",\"Chandgaon Residential Area, 4 No Chandgaon Ward\",\"South Agrabad, Double Mooring\",\"Chadra Nagar, Bayazid\",\"39 No. South Halishahar Ward, Halishahar\",\"17 No West Bakalia Ward, Bakalia\",\"West Khulshi, 9 No. North Pahartali Ward\",\"Sugandha Residential Area, Panchlaish\",\"Nasirabad Housing Society, Muradpur\",\"South Khulshi, Khulshi\",\"Ali Nagar, Bayazid\",\"Nasirabad, 15 No. Bagmoniram Ward\",\"West Khulshi R\\u002fA, 9 No. North Pahartali Ward\",\"24 No. North Agrabad Ward, Double Mooring\",\"South Khulshi, Khulshi\",\"37 No. North-Middle Halishahar Ward, Halishahar\",\"Munshi Pukur Par, 16 No. Chawk Bazaar Ward\",\"Nasirabad, Bayazid\",\"Dewan Bazar, Bakalia\",\"Dewan Bazar, Bakalia\",\"Mohara, 4 No Chandgaon Ward\",\"Munshi Pukur Par, 16 No. Chawk Bazaar Ward\",\"24 No. North Agrabad Ward, Double Mooring\",\"Dewan Bazar, Bakalia\",\"17 No West Bakalia Ward, Bakalia\",\"Yakub Future Park Housing, Khulshi\",\"West Khulshi, 9 No. North Pahartali Ward\",\"Dhaka Trunk Road, 9 No. North Pahartali Ward\",\"Dhaka Trunk Road, 9 No. North Pahartali Ward\",\"Dewan Bazar, Bakalia\",\"CDA Avenue, Sholokbahar\",\"Chadra Nagar, Bayazid\",\"South Agrabad, Double Mooring\",\"24 No. North Agrabad Ward, Double Mooring\",\"Dewan Bazar, Bakalia\",\"Nasirabad Housing Society, Muradpur\",\"Dewan Bazar, Bakalia\",\"CDA Avenue, Sholokbahar\",\"South Khulshi, Khulshi\",\"CDA Avenue, 7 No. West Sholoshohor Ward\",\"19 No. South Bakalia Ward, Bakalia\",\"Rahmatganj, Jamal Khan\",\"Abhoy Mitra Lane, 33 No. Firingee Bazaar Ward\",\"26 No. North Halishahar Ward, Halishahar\",\"39 No. South Halishahar Ward, Halishahar\",\"26 No. North Halishahar Ward, Halishahar\",\"Mohammad Pur Road, 7 No. West Sholoshohor Ward\",\"37 No. North-Middle Halishahar Ward, Halishahar\",\"Rose Valley Residential Area, 9 No. North Pahartali Ward\",\"Dhaka Trunk Road, 9 No. North Pahartali Ward\",\"Dhaka Trunk Road, 9 No. North Pahartali Ward\",\"Dhaka Trunk Road, 9 No. North Pahartali Ward\",\"Foys Lake, 9 No. North Pahartali Ward\",\"Foys Lake, 9 No. North Pahartali Ward\",\"Sadarghat Road, 33 No. Firingee Bazaar Ward\",\"Ashkar Dighir Par, Jamal Khan\",\"Majhirghat Road, 30 No. East Madarbari Ward\",\"Bangla Bazar, Bayazid\",\"Alkaran Road, 31 No. Alkoron Ward\",\"10 No. North Kattali Ward\",\"Alkaran Road, 31 No. Alkoron Ward\",\"Nasirabad, 15 No. Bagmoniram Ward\",\"Nasirabad, 15 No. Bagmoniram Ward\",\"Nasirabad, 15 No. Bagmoniram Ward\",\"Nasirabad, 15 No. Bagmoniram Ward\",\"Chadra Nagar, Bayazid\",\"Hamjarbag, 7 No. West Sholoshohor Ward\",\"South Khulshi, Khulshi\",\"Chand Mia Road, 4 No Chandgaon Ward\",\"Rose Valley Residential Area, 9 No. North Pahartali Ward\",\"Nasirabad, 15 No. Bagmoniram Ward\",\"Chatteshwari Road, 15 No. Bagmoniram Ward\",\"Bangla Bazar, Bayazid\",\"Shahid Saifuddin Khaled Road, Jamal Khan\",\"Chandgaon Residential Area, 4 No Chandgaon Ward\",\"Polytechnic, Bayazid\",\"Patharghata, Kotwali\",\"Commerce College Road, Double Mooring\",\"Badurtala, Sholokbahar\",\"12 No. Sarai Para Ward, Double Mooring\",\"25 No. Rampur Ward, Double Mooring\",\"24 No. North Agrabad Ward, Double Mooring\",\"12 No. Sarai Para Ward, Double Mooring\",\"17 No West Bakalia Ward, Bakalia\",\"Nasirabad, 15 No. Bagmoniram Ward\",\"Katalganj Residential Area, 16 No. Chawk Bazaar Ward\",\"Jubilee Road, 22 No. Enayet Bazaar Ward\",\"17 No West Bakalia Ward, Bakalia\",\"Proshanti R\\u002fA, 10 No. North Kattali Ward\",\"Masjid Lane, 15 No. Bagmoniram Ward\",\"Nasirabad, Bayazid\",\"Nasirabad, Bayazid\",\"Chasma Hill R\\u002fA, 7 No. West Sholoshohor Ward\",\"18 No. East Bakalia Ward, Bakalia\",\"18 No. East Bakalia Ward, Bakalia\",\"18 No. East Bakalia Ward, Bakalia\",\"18 No. East Bakalia Ward, Bakalia\",\"Chand Mia Road, 4 No Chandgaon Ward\",\"17 No West Bakalia Ward, Bakalia\",\"CDA Avenue, Lal Khan Bazaar\",\"Panchlaish\",\"15 No. Bagmoniram Ward\",\"CDA R\\u002fA, 10 No. North Kattali Ward\",\"Bahaddarhat, 4 No Chandgaon Ward\",\"Bahaddarhat, 4 No Chandgaon Ward\",\"39 No. South Halishahar Ward, Halishahar\",\"39 No. South Halishahar Ward, Halishahar\",\"Mohara, 4 No Chandgaon Ward\",\"Mohara, 4 No Chandgaon Ward\",\"Mohara, 4 No Chandgaon Ward\",\"Chattogram DOHS, Bayazid\",\"12 No. Sarai Para Ward, Double Mooring\",\"12 No. Sarai Para Ward, Double Mooring\",\"Mohara, 4 No Chandgaon Ward\",\"12 No. Sarai Para Ward, Double Mooring\",\"12 No. Sarai Para Ward, Double Mooring\",\"12 No. Sarai Para Ward, Double Mooring\",\"12 No. Sarai Para Ward, Double Mooring\",\"12 No. Sarai Para Ward, Double Mooring\",\"12 No. Sarai Para Ward, Double Mooring\",\"Dewan Bazar, Bakalia\",\"Dewan Bazar, Bakalia\",\"Dewan Bazar, Bakalia\",\"Dewan Bazar, Bakalia\",\"Chand Mia Road, 4 No Chandgaon Ward\",\"Nasirabad Properties Residential Area, Khulshi\",\"32 No. Andarkilla Ward\",\"32 No. Andarkilla Ward\",\"28 No. Pathantooly Ward, Double Mooring\",\"Mehidibag, 15 No. Bagmoniram Ward\",\"CDA Avenue, Muradpur\",\"Chadra Nagar, Bayazid\",\"Port Connecting Road, 11 No. South Kattali Ward\",\"Ashkar Dighir Par, Jamal Khan\",\"Ashkar Dighir Par, Jamal Khan\",\"12 No. Sarai Para Ward, Double Mooring\",\"Govt Girls High School Road, East Nasirabad\",\"Green Valley, Bayazid\",\"Hill View R\\u002fA, Bayazid\",\"Mohammed Ali Road, 15 No. Bagmoniram Ward\",\"Korbanigonj, Kotwali\",\"Dewan Bazar, Bakalia\",\"Dewan Bazar, Bakalia\",\"Dewan Bazar, Bakalia\",\"Dewan Bazar, Bakalia\",\"Dewan Bazar, Bakalia\",\"19 No. South Bakalia Ward, Bakalia\",\"Chand Mia Road, 4 No Chandgaon Ward\",\"Chand Mia Road, 4 No Chandgaon Ward\",\"17 No West Bakalia Ward, Bakalia\",\"18 No. East Bakalia Ward, Bakalia\",\"18 No. East Bakalia Ward, Bakalia\",\"18 No. East Bakalia Ward, Bakalia\",\"Chand Mia Road, 4 No Chandgaon Ward\",\"Chand Mia Road, 4 No Chandgaon Ward\",\"Chadra Nagar, Bayazid\",\"Dewan Bazar, Bakalia\",\"Dewan Bazar, Bakalia\",\"Dewan Bazar, Bakalia\",\"Dewan Bazar, Bakalia\",\"Enayet Bazar Road, 22 No. Enayet Bazaar Ward\",\"Bayazid Bostami Road, 15 No. Bagmoniram Ward\",\"Al-Madani Road, Sholokbahar\",\"Badshah Miah Chowdhury Road, 15 No. Bagmoniram Ward\",\"Chandgaon Residential Area, 4 No Chandgaon Ward\",\"Chawk Bazar, 16 No. Chawk Bazaar Ward\",\"Nasirabad Housing Society, Muradpur\",\"Bangladesh Co-operative Housing Society, Bayazid\",\"Sugandha Residential Area, Panchlaish\",\"Port Connecting Road, 11 No. South Kattali Ward\",\"Abdul Hamid Road, Sholokbahar\",\"Abdul Hamid Road, Sholokbahar\",\"Hill Side Residential Area, Lal Khan Bazaar\",\"Colonel Hat, 10 No. North Kattali Ward\",\"O. R. Nizam Road, 15 No. Bagmoniram Ward\",\"West Khulshi R\\u002fA, 9 No. North Pahartali Ward\",\"West Khulshi R\\u002fA, 9 No. North Pahartali Ward\",\"West Khulshi R\\u002fA, 9 No. North Pahartali Ward\",\"West Khulshi R\\u002fA, 9 No. North Pahartali Ward\",\"West Khulshi R\\u002fA, 9 No. North Pahartali Ward\",\"Amirbag Residential Area, 15 No. Bagmoniram Ward\",\"West Khulshi R\\u002fA, 9 No. North Pahartali Ward\",\"West Khulshi R\\u002fA, 9 No. North Pahartali Ward\",\"West Khulshi, 9 No. North Pahartali Ward\",\"Patharghata, Kotwali\",\"C & B Colony, East Nasirabad\",\"Katalgonj, Panchlaish\",\"Bayazid Bostami Road, 15 No. Bagmoniram Ward\",\"Bayazid Bostami Road, 15 No. Bagmoniram Ward\",\"28 No. Pathantooly Ward, Double Mooring\",\"28 No. Pathantooly Ward, Double Mooring\",\"CDA Avenue, Sholokbahar\",\"CDA Avenue, Sholokbahar\",\"CDA Avenue, Sholokbahar\",\"CDA Avenue, Sholokbahar\",\"South Khulshi, Khulshi\",\"Nasirabad, 15 No. Bagmoniram Ward\",\"Dhaka Trunk Road, 9 No. North Pahartali Ward\",\"Dhaka Trunk Road, 9 No. North Pahartali Ward\",\"25 No. Rampur Ward, Double Mooring\",\"Dhaka Trunk Road, 9 No. North Pahartali Ward\",\"Dhaka Trunk Road, 9 No. North Pahartali Ward\",\"Dhaka Trunk Road, 9 No. North Pahartali Ward\",\"Dhaka Trunk Road, 9 No. North Pahartali Ward\",\"Dhaka Trunk Road, 9 No. North Pahartali Ward\",\"26 No. North Halishahar Ward, Halishahar\",\"28 No. Pathantooly Ward, Double Mooring\",\"25 No. Rampur Ward, Double Mooring\",\"Dhaka Trunk Road, 9 No. North Pahartali Ward\",\"Dhaka Trunk Road, 9 No. North Pahartali Ward\",\"Akbarshah Railway Colony, 9 No. North Pahartali Ward\",\"Yakub Nagar Road, 33 No. Firingee Bazaar Ward\",\"Sabujbag, Halishahar\",\"Rose Valley Residential Area, 9 No. North Pahartali Ward\",\"24 No. North Agrabad Ward, Double Mooring\",\"24 No. North Agrabad Ward, Double Mooring\",\"South Agrabad, Double Mooring\",\"South Agrabad, Double Mooring\",\"South Agrabad, Double Mooring\",\"24 No. North Agrabad Ward, Double Mooring\",\"Bahaddarhat, 4 No Chandgaon Ward\",\"Chandgaon Residential Area, 4 No Chandgaon Ward\",\"Oxygen, Bayazid\",\"Mohara, 4 No Chandgaon Ward\",\"Mohara, 4 No Chandgaon Ward\",\"Mohara, 4 No Chandgaon Ward\",\"Cosmopolitan R\\u002fA, 7 No. West Sholoshohor Ward\",\"12 No. Sarai Para Ward, Double Mooring\",\"Dewan Bazar, Bakalia\",\"Dewan Bazar, Bakalia\",\"Dewan Bazar, Bakalia\",\"12 No. Sarai Para Ward, Double Mooring\",\"Dewan Bazar, Bakalia\",\"Dewan Bazar, Bakalia\",\"Dewan Bazar, Bakalia\",\"Mayor Goli, 7 No. West Sholoshohor Ward\",\"Dewan Bazar, Bakalia\",\"Dewan Bazar, Bakalia\",\"Dewan Bazar, Bakalia\",\"Dewan Bazar, Bakalia\",\"Yakub Future Park Housing, Khulshi\",\"Munshi Pukur Par, 16 No. Chawk Bazaar Ward\",\"10 No. North Kattali Ward\",\"1 No Railway Gate, Muradpur\",\"Panchlaish Residential Area, 16 No. Chawk Bazaar Ward\",\"West Khulshi R\\u002fA, 9 No. North Pahartali Ward\",\"Badurtala, Sholokbahar\",\"O. R Nizam Road, Panchlaish\",\"West Khulshi R\\u002fA, 9 No. North Pahartali Ward\",\"26 No. North Halishahar Ward, Halishahar\",\"Yakub Future Park Housing, Khulshi\",\"Yakub Future Park Housing, Khulshi\",\"Yakub Future Park Housing, Khulshi\",\"Yakub Future Park Housing, Khulshi\",\"West Khulshi R\\u002fA, 9 No. North Pahartali Ward\",\"West Khulshi R\\u002fA, 9 No. North Pahartali Ward\",\"Hill View R\\u002fA, Bayazid\",\"City Gate, 10 No. North Kattali Ward\",\"CDA Avenue, East Nasirabad\",\"Kobi Kazi Nazrul Islam Road, 33 No. Firingee Bazaar Ward\",\"Kobi Kazi Nazrul Islam Road, 33 No. Firingee Bazaar Ward\",\"Kobi Kazi Nazrul Islam Road, 33 No. Firingee Bazaar Ward\",\"Nandan Kanan, 22 No. Enayet Bazaar Ward\",\"Ali Nagar, Bayazid\",\"26 No. North Halishahar Ward, Halishahar\",\"26 No. North Halishahar Ward, Halishahar\",\"26 No. North Halishahar Ward, Halishahar\",\"Chawk Bazar, 16 No. Chawk Bazaar Ward\",\"Akbarshah, 9 No. North Pahartali Ward\",\"Akbarshah, 9 No. North Pahartali Ward\",\"Akbarshah, 9 No. North Pahartali Ward\",\"Polytechnic, Bayazid\",\"Proshanti R\\u002fA, 10 No. North Kattali Ward\",\"Mehidibag Road, 15 No. Bagmoniram Ward\",\"Munshi Pukur Par, 16 No. Chawk Bazaar Ward\",\"Yakub Future Park Housing, Khulshi\",\"Chandgaon Residential Area, 4 No Chandgaon Ward\",\"Panchlaish Residential Area, 16 No. Chawk Bazaar Ward\",\"Somobay Residential Area, Bayazid\",\"CDA Avenue, East Nasirabad\",\"Chawk Bazar, 16 No. Chawk Bazaar Ward\",\"West Khulshi R\\u002fA, 9 No. North Pahartali Ward\",\"Rose Valley Residential Area, 9 No. North Pahartali Ward\",\"Lake Valley R\\u002fA, 9 No. North Pahartali Ward\",\"14 No. Lalkhan Bazaar Ward, Lal Khan Bazaar\",\"39 No. South Halishahar Ward, Halishahar\",\"39 No. South Halishahar Ward, Halishahar\",\"39 No. South Halishahar Ward, Halishahar\",\"Sheikh Mujib Road, Double Mooring\",\"26 No. North Halishahar Ward, Halishahar\",\"26 No. North Halishahar Ward, Halishahar\",\"14 No. Lalkhan Bazaar Ward, Lal Khan Bazaar\",\"14 No. Lalkhan Bazaar Ward, Lal Khan Bazaar\",\"26 No. North Halishahar Ward, Halishahar\",\"26 No. North Halishahar Ward, Halishahar\",\"26 No. North Halishahar Ward, Halishahar\",\"26 No. North Halishahar Ward, Halishahar\",\"26 No. North Halishahar Ward, Halishahar\",\"Sabujbag, Halishahar\",\"1 No. Goli, 29 No. West Madarbari Ward\",\"17 No West Bakalia Ward, Bakalia\",\"12 No. Sarai Para Ward, Double Mooring\",\"Dhaka Trunk Road, 9 No. North Pahartali Ward\",\"Dhaka Trunk Road, 9 No. North Pahartali Ward\",\"Dhaka Trunk Road, 9 No. North Pahartali Ward\",\"Dhaka Trunk Road, 9 No. North Pahartali Ward\",\"Dhaka Trunk Road, 9 No. North Pahartali Ward\",\"South Khulshi, Khulshi\",\"Dhaka Trunk Road, 9 No. North Pahartali Ward\",\"Dhaka Trunk Road, 9 No. North Pahartali Ward\",\"Sugandha Residential Area, Panchlaish\",\"Nasirabad Housing Society, Muradpur\",\"West Khulshi, 9 No. North Pahartali Ward\",\"Tayab Bag R\\u002fA, 7 No. West Sholoshohor Ward\",\"Zakir Hossain Road, Khulshi\",\"18 No. East Bakalia Ward, Bakalia\",\"Nasirabad Housing Society, Muradpur\",\"Oxygen, Bayazid\",\"Dewan Bazar, Bakalia\",\"Dewan Bazar, Bakalia\",\"17 No West Bakalia Ward, Bakalia\",\"Mirzapul Road, Muradpur\",\"Al-Falah Housing Society, East Nasirabad\",\"Al-Falah Housing Society, East Nasirabad\",\"Jubilee Road, 22 No. Enayet Bazaar Ward\",\"Nasirabad Housing Society, Muradpur\",\"Raufabad Residential Area, Bayazid\",\"17 No West Bakalia Ward, Bakalia\",\"17 No West Bakalia Ward, Bakalia\",\"Panchlaish Residential Area, 16 No. Chawk Bazaar Ward\",\"Chawk Bazar, 16 No. Chawk Bazaar Ward\",\"Chandgaon Residential Area, 4 No Chandgaon Ward\",\"Abdul Latif Road, Sholokbahar\",\"Mohammadpur, 7 No. West Sholoshohor Ward\",\"Chatteshwari Road, 15 No. Bagmoniram Ward\",\"Lake Valley R\\u002fA, 9 No. North Pahartali Ward\",\"Chawk Bazar, 16 No. Chawk Bazaar Ward\",\"Zakir Hossain Road, Khulshi\",\"24 No. North Agrabad Ward, Double Mooring\",\"6 No East Sholoshohor Ward, Bakalia\",\"26 No. North Halishahar Ward, Halishahar\",\"Dewan Bazar, Bakalia\",\"Chandgaon Residential Area, 4 No Chandgaon Ward\",\"39 No. South Halishahar Ward, Halishahar\",\"39 No. South Halishahar Ward, Halishahar\",\"Khulshi Green Housing Society, Khulshi\",\"Cosmopolitan R\\u002fA, 7 No. West Sholoshohor Ward\",\"Nasirabad, 15 No. Bagmoniram Ward\",\"Zakir Hossain Road, Khulshi\",\"Dewan Bazar, Bakalia\",\"Nasirabad, 15 No. Bagmoniram Ward\",\"Khulshi Green Housing Society, Khulshi\",\"Yakub Future Park Housing, Khulshi\",\"26 No. North Halishahar Ward, Halishahar\",\"26 No. North Halishahar Ward, Halishahar\",\"Sangbadik Co-operative Housing Society, Bayazid\",\"Dewan Bazar, Bakalia\",\"24 No. North Agrabad Ward, Double Mooring\",\"South Agrabad, Double Mooring\",\"Cosmopolitan R\\u002fA, 7 No. West Sholoshohor Ward\",\"Sangbadik Co-operative Housing Society, Bayazid\",\"23 No. North Pathantooly Ward, Double Mooring\",\"18 No. East Bakalia Ward, Bakalia\",\"6 No East Sholoshohor Ward, Bakalia\",\"Katalgonj, Panchlaish\",\"CDA Avenue, Sholokbahar\",\"South Khulshi, Khulshi\",\"24 No. North Agrabad Ward, Double Mooring\",\"Khulshi Green Housing Society, Khulshi\",\"Proshanti R\\u002fA, 10 No. North Kattali Ward\",\"Munshi Pukur Par, 16 No. Chawk Bazaar Ward\",\"Shershah Colony, Bayazid\",\"24 No. North Agrabad Ward, Double Mooring\",\"South Khulshi, Khulshi\",\"North Khulshi, Khulshi\",\"North Forida Para, 4 No Chandgaon Ward\",\"South Khulshi, Khulshi\",\"26 No. North Halishahar Ward, Halishahar\",\"26 No. North Halishahar Ward, Halishahar\",\"Dhaka Trunk Road, 9 No. North Pahartali Ward\",\"19 No. South Bakalia Ward, Bakalia\",\"Sangbadik Co-operative Housing Society, Bayazid\",\"Proshanti R\\u002fA, 10 No. North Kattali Ward\",\"12 No. Sarai Para Ward, Double Mooring\",\"Rahmatganj, Jamal Khan\",\"Kapasgola, 16 No. Chawk Bazaar Ward\",\"24 No. North Agrabad Ward, Double Mooring\",\"Dhaka Trunk Road, 9 No. North Pahartali Ward\",\"24 No. North Agrabad Ward, Double Mooring\",\"10 No. North Kattali Ward\",\"West Khulshi R\\u002fA, 9 No. North Pahartali Ward\",\"O. R. Nizam Road, 15 No. Bagmoniram Ward\",\"Nasirabad, 15 No. Bagmoniram Ward\",\"Bayazid Bostami Road, 15 No. Bagmoniram Ward\",\"South Agrabad, Double Mooring\",\"South Agrabad, Double Mooring\",\"South Agrabad, Double Mooring\",\"Hill Side Residential Area, Lal Khan Bazaar\",\"Hill Side Residential Area, Lal Khan Bazaar\",\"Hill Side Residential Area, Lal Khan Bazaar\",\"Hill Side Residential Area, Lal Khan Bazaar\",\"Proshanti R\\u002fA, 10 No. North Kattali Ward\",\"Chadra Nagar, Bayazid\",\"Chadra Nagar, Bayazid\",\"1 No Railway Gate, Muradpur\",\"Panchlaish Residential Area, 16 No. Chawk Bazaar Ward\",\"South Khulshi, Khulshi\",\"CDA Avenue, Lal Khan Bazaar\",\"14 No. Lalkhan Bazaar Ward, Lal Khan Bazaar\",\"14 No. Lalkhan Bazaar Ward, Lal Khan Bazaar\",\"Momin Road, Jamal Khan\",\"Habib Lane, Khulshi\",\"29 No. West Madarbari Ward\",\"Chand Mia Road, 4 No Chandgaon Ward\",\"Chandgaon Residential Area, 4 No Chandgaon Ward\",\"South Agrabad, Double Mooring\",\"Foy's Lake Approach Road, 9 No. North Pahartali Ward\",\"Abhoy Mitra Lane, 33 No. Firingee Bazaar Ward\",\"Nabab Siraj Ud Daula Road, Jamal Khan\",\"Nabab Siraj Ud Daula Road, Jamal Khan\",\"Bahaddarhat, 4 No Chandgaon Ward\",\"Bahaddarhat, 4 No Chandgaon Ward\",\"Mohara, 4 No Chandgaon Ward\",\"Nasirabad, Bayazid\",\"CDA R\\u002fA, 10 No. North Kattali Ward\",\"Bahaddarhat, 4 No Chandgaon Ward\",\"Bahaddarhat, 4 No Chandgaon Ward\",\"Bahaddarhat, 4 No Chandgaon Ward\",\"39 No. South Halishahar Ward, Halishahar\",\"39 No. South Halishahar Ward, Halishahar\",\"Mohara, 4 No Chandgaon Ward\",\"Mohara, 4 No Chandgaon Ward\",\"Chattogram DOHS, Bayazid\",\"Chattogram DOHS, Bayazid\",\"Mohara, 4 No Chandgaon Ward\",\"12 No. Sarai Para Ward, Double Mooring\",\"12 No. Sarai Para Ward, Double Mooring\",\"12 No. Sarai Para Ward, Double Mooring\",\"12 No. Sarai Para Ward, Double Mooring\",\"Nasirabad Housing Society, Muradpur\",\"Mohara, 4 No Chandgaon Ward\",\"Dewan Bazar, Bakalia\",\"Dewan Bazar, Bakalia\",\"Korbanigonj, Kotwali\",\"Korbanigonj, Kotwali\",\"Dewan Bazar, Bakalia\",\"Hamjarbag, 7 No. West Sholoshohor Ward\",\"Dewan Bazar, Bakalia\",\"18 No. East Bakalia Ward, Bakalia\",\"18 No. East Bakalia Ward, Bakalia\",\"18 No. East Bakalia Ward, Bakalia\",\"18 No. East Bakalia Ward, Bakalia\",\"18 No. East Bakalia Ward, Bakalia\",\"18 No. East Bakalia Ward, Bakalia\",\"Chand Mia Road, 4 No Chandgaon Ward\",\"Chand Mia Road, 4 No Chandgaon Ward\",\"17 No West Bakalia Ward, Bakalia\",\"Mohammed Ali Road, 15 No. Bagmoniram Ward\",\"O. R. Nizam Road, 15 No. Bagmoniram Ward\",\"Al-Madani Road, Sholokbahar\",\"Al-Madani Road, Sholokbahar\",\"Al-Madani Road, Sholokbahar\",\"West Khulshi R\\u002fA, 9 No. North Pahartali Ward\",\"Hill Side Residential Area, Lal Khan Bazaar\",\"Somobay Residential Area, Bayazid\",\"26 No. North Halishahar Ward, Halishahar\",\"Colonel Hat, 10 No. North Kattali Ward\",\"Mehidibag Road, 15 No. Bagmoniram Ward\",\"24 No. North Agrabad Ward, Double Mooring\",\"Paharicka R\\u002fA Road, South Khulsi\",\"Paharicka R\\u002fA Road, South Khulsi\",\"Zakir Hossain Road, Khulshi\",\"Alkaran Road, 31 No. Alkoron Ward\",\"Kalu Shah Bazar, 4 No Chandgaon Ward\",\"Chandgaon Residential Area, 4 No Chandgaon Ward\",\"Chandgaon Residential Area, 4 No Chandgaon Ward\",\"24 No. North Agrabad Ward, Double Mooring\",\"Cosmopolitan R\\u002fA, 7 No. West Sholoshohor Ward\",\"Mohara, 4 No Chandgaon Ward\",\"Mohara, 4 No Chandgaon Ward\",\"Dewan Bazar, Bakalia\",\"Dewan Bazar, Bakalia\",\"Kulgaon, Bayazid\",\"28 No. Pathantooly Ward, Double Mooring\",\"Chandgaon Residential Area, 4 No Chandgaon Ward\",\"Alkaran Road, 31 No. Alkoron Ward\",\"Colonel Hat, 10 No. North Kattali Ward\",\"Somobay Residential Area, Bayazid\",\"Mehidibag, 15 No. Bagmoniram Ward\",\"Abdul Hamid Road, Sholokbahar\",\"Bayazid Bostami Road, 15 No. Bagmoniram Ward\",\"Commerce College Road, Double Mooring\",\"Nandan Kanan, 22 No. Enayet Bazaar Ward\",\"Chatteshwari Road, 15 No. Bagmoniram Ward\",\"Kobi Kazi Nazrul Islam Road, 33 No. Firingee Bazaar Ward\",\"Kobi Kazi Nazrul Islam Road, 33 No. Firingee Bazaar Ward\",\"Bibirhat, 7 No. West Sholoshohor Ward\",\"Ali Nagar, Bayazid\",\"24 No. North Agrabad Ward, Double Mooring\",\"24 No. North Agrabad Ward, Double Mooring\",\"24 No. North Agrabad Ward, Double Mooring\",\"24 No. North Agrabad Ward, Double Mooring\",\"24 No. North Agrabad Ward, Double Mooring\",\"24 No. North Agrabad Ward, Double Mooring\",\"Abhoy Mitra Lane, 33 No. Firingee Bazaar Ward\",\"28 No. Pathantooly Ward, Double Mooring\",\"Bibirhat, 7 No. West Sholoshohor Ward\",\"Green View Residential Area, 11 No. South Kattali Ward\",\"Zakir Hossain By Lane, East Nasirabad\",\"Patharghata, Bakalia\",\"Patharghata, Bakalia\",\"Khulshi Green Housing Society, Khulshi\",\"Khulshi Green Housing Society, Khulshi\",\"Khulshi Green Housing Society, Khulshi\",\"Nasirabad Properties Residential Area, Khulshi\",\"Badurtala, Sholokbahar\",\"Maij Para, 11 No. South Kattali Ward\",\"25 No. Rampur Ward, Double Mooring\",\"New Monsurabad, 10 No. North Kattali Ward\",\"Chawk Bazar, 16 No. Chawk Bazaar Ward\",\"Jamal Khan By-Lane, Jamal Khan\",\"Dewan Bazar, Bakalia\",\"Dewan Bazar, Bakalia\",\"Dewan Bazar, Bakalia\",\"Dewan Bazar, Bakalia\",\"Dewan Bazar, Bakalia\",\"Chasma Hill R\\u002fA, 7 No. West Sholoshohor Ward\",\"Nasirabad, 15 No. Bagmoniram Ward\",\"17 No West Bakalia Ward, Bakalia\",\"Dewan Bazar, Bakalia\",\"17 No West Bakalia Ward, Bakalia\",\"17 No West Bakalia Ward, Bakalia\",\"Mehidibag, 15 No. Bagmoniram Ward\",\"Nasirabad, Bayazid\",\"Nasirabad, Bayazid\",\"Nasirabad, Bayazid\",\"South Khulshi, Khulshi\",\"Nasirabad, 15 No. Bagmoniram Ward\",\"Nasirabad, 15 No. Bagmoniram Ward\",\"Oxygen Kuwaish Road, Bayazid\",\"New Monsurabad, 10 No. North Kattali Ward\",\"Chandgaon Residential Area, 4 No Chandgaon Ward\",\"16 No. Chawk Bazaar Ward\",\"Mirzapul Road, Muradpur\",\"CDA Avenue, Sholokbahar\",\"R C Church Road, 33 No. Firingee Bazaar Ward\",\"West Firojshah colony, 9 No. North Pahartali Ward\",\"Alkaran Road, 31 No. Alkoron Ward\",\"Chattogram DOHS, Bayazid\",\"40 No. North Patenga Ward, Patenga\",\"Mehidibag, 15 No. Bagmoniram Ward\",\"Dakshin Kattali, 11 No. South Kattali Ward\",\"Green Valley, Bayazid\",\"Khulshi Green Housing Society, Khulshi\",\"Mehidibag, 15 No. Bagmoniram Ward\",\"24 No. North Agrabad Ward, Double Mooring\",\"Proshanti R\\u002fA, 10 No. North Kattali Ward\",\"Momin Road, Jamal Khan\",\"West Khulshi R\\u002fA, 9 No. North Pahartali Ward\",\"East Nasirabad, Muradpur\",\"Khulshi Green Housing Society, Khulshi\",\"Nasirabad Housing Society, Muradpur\",\"South Khulshi, Khulshi\",\"Katalganj Residential Area, 16 No. Chawk Bazaar Ward\",\"Panchlaish Residential Area, 16 No. Chawk Bazaar Ward\",\"West Khulshi, 9 No. North Pahartali Ward\",\"CDA Avenue, Sholokbahar\",\"CDA Avenue, Sholokbahar\",\"CDA Avenue, Sholokbahar\",\"CDA Avenue, Sholokbahar\",\"Proshanti R\\u002fA, 10 No. North Kattali Ward\",\"Mohammadpur, 7 No. West Sholoshohor Ward\",\"Kulgaon, Bayazid\",\"Shamsher Para, 4 No Chandgaon Ward\",\"26 No. North Halishahar Ward, Halishahar\",\"Chandgaon Residential Area, 4 No Chandgaon Ward\",\"Chattogram DOHS, Bayazid\",\"South Agrabad, Double Mooring\",\"South Agrabad, Double Mooring\",\"South Agrabad, Double Mooring\",\"6 No East Sholoshohor Ward, Bakalia\",\"Cosmopolitan R\\u002fA, 7 No. West Sholoshohor Ward\",\"Jangalpara, 7 No. West Sholoshohor Ward\",\"Jangalpara, 7 No. West Sholoshohor Ward\",\"6 No East Sholoshohor Ward, Bakalia\",\"6 No East Sholoshohor Ward, Bakalia\",\"Chasma Hill R\\u002fA, 7 No. West Sholoshohor Ward\",\"Chasma Hill R\\u002fA, 7 No. West Sholoshohor Ward\",\"17 No West Bakalia Ward, Bakalia\",\"CDA Avenue, East Nasirabad\",\"Dhaka Trunk Road, 9 No. North Pahartali Ward\",\"24 No. North Agrabad Ward, Double Mooring\",\"West Khulshi R\\u002fA, 9 No. North Pahartali Ward\",\"28 No. Pathantooly Ward, Double Mooring\",\"25 No. Rampur Ward, Double Mooring\",\"Dhaka Trunk Road, 9 No. North Pahartali Ward\",\"Shahid Nagar, Bayazid\",\"Shahid Nagar, Bayazid\",\"South Khulshi, Khulshi\",\"Akbarshah Railway Colony, 9 No. North Pahartali Ward\",\"Road No 1, Jalalabad Housing Society\",\"12 No. Sarai Para Ward, Double Mooring\",\"West Khulshi R\\u002fA, 9 No. North Pahartali Ward\",\"Tayab Bag R\\u002fA, 7 No. West Sholoshohor Ward\",\"Zakir Hossain Road, Khulshi\",\"East Nasirabad, Muradpur\",\"Nasirabad Housing Society, Muradpur\",\"West Khulshi, 9 No. North Pahartali Ward\",\"Nasirabad Housing Society, Muradpur\",\"South Khulshi, Khulshi\",\"Port Connecting Road, 11 No. South Kattali Ward\",\"CDA Avenue, East Nasirabad\",\"Green Valley, Bayazid\",\"Bandar, 36 Goshail Danga Ward\",\"Yakub Future Park Housing, Khulshi\",\"Yakub Future Park Housing, Khulshi\",\"Yakub Future Park Housing, Khulshi\",\"West Khulshi R\\u002fA, 9 No. North Pahartali Ward\",\"West Khulshi R\\u002fA, 9 No. North Pahartali Ward\",\"West Khulshi R\\u002fA, 9 No. North Pahartali Ward\",\"West Khulshi R\\u002fA, 9 No. North Pahartali Ward\",\"West Khulshi R\\u002fA, 9 No. North Pahartali Ward\",\"Chandgaon Residential Area, 4 No Chandgaon Ward\",\"12 No. Sarai Para Ward, Double Mooring\",\"North Khulshi, Khulshi\",\"Mehidibag, 15 No. Bagmoniram Ward\",\"Khulshi Green Housing Society, Khulshi\",\"Munshi Pukur Par, 16 No. Chawk Bazaar Ward\",\"Abhoy Mitra Lane, 33 No. Firingee Bazaar Ward\",\"South Khulshi, Khulshi\",\"Katalgonj, Panchlaish\",\"Dewan Bazar, Bakalia\",\"South Agrabad, Double Mooring\",\"South Agrabad, Double Mooring\",\"14 No. Lalkhan Bazaar Ward, Lal Khan Bazaar\",\"14 No. Lalkhan Bazaar Ward, Lal Khan Bazaar\",\"12 No. Sarai Para Ward, Double Mooring\",\"Ishan Mohajon Road, 10 No. North Kattali Ward\",\"VIP Housing Society, South Khulsi\",\"Dhaka Trunk Road, 9 No. North Pahartali Ward\",\"Momin Road, Jamal Khan\",\"Chadra Nagar, Bayazid\",\"Shahid Saifuddin Khaled Road, Kazir Dewri\",\"South Khulshi, Khulshi\",\"Chadra Nagar, Bayazid\",\"Dewan Bazar, Bakalia\",\"Dewan Bazar, Bakalia\",\"Chawk Bazar, 16 No. Chawk Bazaar Ward\",\"Nabab Siraj Ud Daula Road, Bakalia\",\"South Khulshi, Khulshi\",\"Nasirabad Housing Society, Muradpur\",\"Dhaka Trunk Road, 9 No. North Pahartali Ward\",\"Dhaka Trunk Road, 9 No. North Pahartali Ward\",\"Nasirabad, 15 No. Bagmoniram Ward\",\"Nasirabad, 15 No. Bagmoniram Ward\",\"West Firojshah colony, 9 No. North Pahartali Ward\",\"West Firojshah colony, 9 No. North Pahartali Ward\",\"Cosmopolitan R\\u002fA, 7 No. West Sholoshohor Ward\",\"Bayazid Nagar Residential Area, Bayazid\",\"South Khulshi, Khulshi\",\"Ali Nagar, Bayazid\",\"Dewan Bazar, Bakalia\",\"Sugandha Residential Area, Panchlaish\",\"Panchlaish Residential Area, 16 No. Chawk Bazaar Ward\",\"Jamal Khan Road, Jamal Khan\",\"Zakir Hossain By Lane, East Nasirabad\",\"Commerce College Road, Double Mooring\",\"Abdul Hamid Road, Sholokbahar\",\"South Agrabad, Double Mooring\",\"Dhaka Trunk Road, 9 No. North Pahartali Ward\",\"Dhaka Trunk Road, 9 No. North Pahartali Ward\",\"Dhaka Trunk Road, 9 No. North Pahartali Ward\",\"Dewan Bazar, Bakalia\",\"Yakub Future Park Housing, Khulshi\",\"South Agrabad, Double Mooring\",\"South Khulshi, Khulshi\",\"Habib Lane, Khulshi\",\"Shahid Nagar, Bayazid\",\"1 No Railway Gate, Muradpur\",\"Kobi Kazi Nazrul Islam Road, 33 No. Firingee Bazaar Ward\",\"Chadra Nagar, Bayazid\",\"Nasirabad Housing Society, Muradpur\",\"Nasirabad, 15 No. Bagmoniram Ward\",\"28 No. Pathantooly Ward, Double Mooring\",\"Bangla Bazar, Bayazid\",\"Nasirabad, Bayazid\",\"Nasirabad, Bayazid\",\"Panchlaish Residential Area, 16 No. Chawk Bazaar Ward\",\"Alkaran Road, 31 No. Alkoron Ward\",\"14 No. Lalkhan Bazaar Ward, Lal Khan Bazaar\",\"14 No. Lalkhan Bazaar Ward, Lal Khan Bazaar\",\"Mehidibag, 15 No. Bagmoniram Ward\",\"1 No Railway Gate, Muradpur\",\"West Khulshi R\\u002fA, 9 No. North Pahartali Ward\",\"West Khulshi R\\u002fA, 9 No. North Pahartali Ward\",\"26 No. North Halishahar Ward, Halishahar\",\"West Khulshi R\\u002fA, 9 No. North Pahartali Ward\",\"Nasirabad, 15 No. Bagmoniram Ward\",\"Dewan Bazar, Bakalia\",\"Al-Madani Road, Sholokbahar\",\"Al-Madani Road, Sholokbahar\",\"South Agrabad, Double Mooring\",\"Jangalpara, 7 No. West Sholoshohor Ward\",\"Dewan Bazar, Bakalia\",\"6 No East Sholoshohor Ward, Bakalia\",\"Chasma Hill R\\u002fA, 7 No. West Sholoshohor Ward\",\"South Agrabad, Double Mooring\",\"South Agrabad, Double Mooring\",\"Chandgaon Residential Area, 4 No Chandgaon Ward\",\"Dhaka Trunk Road, 9 No. North Pahartali Ward\",\"Chandgaon Residential Area, 4 No Chandgaon Ward\",\"Mehidibag, 15 No. Bagmoniram Ward\",\"Forest Institute Road, 7 No. West Sholoshohor Ward\",\"26 No. North Halishahar Ward, Halishahar\",\"26 No. North Halishahar Ward, Halishahar\",\"Mehidibag, 15 No. Bagmoniram Ward\",\"Dhaka Trunk Road, 9 No. North Pahartali Ward\",\"Dewan Bazar, Bakalia\",\"Dewan Bazar, Bakalia\",\"Nasirabad, 15 No. Bagmoniram Ward\",\"Dewan Bazar, Bakalia\",\"Dewan Bazar, Bakalia\",\"Dewan Bazar, Bakalia\",\"Dewan Bazar, Bakalia\",\"24 No. North Agrabad Ward, Double Mooring\",\"Yakub Nagar Road, 33 No. Firingee Bazaar Ward\",\"Yakub Nagar Road, 33 No. Firingee Bazaar Ward\",\"Shahid Saifuddin Khaled Road, Jamal Khan\",\"26 No. North Halishahar Ward, Halishahar\",\"14 No. Lalkhan Bazaar Ward, Lal Khan Bazaar\",\"14 No. Lalkhan Bazaar Ward, Lal Khan Bazaar\",\"Hazari Lane, 32 No. Andarkilla Ward\",\"39 No. South Halishahar Ward, Halishahar\",\"39 No. South Halishahar Ward, Halishahar\",\"39 No. South Halishahar Ward, Halishahar\",\"39 No. South Halishahar Ward, Halishahar\",\"39 No. South Halishahar Ward, Halishahar\",\"Sheikh Mujib Road, Double Mooring\",\"26 No. North Halishahar Ward, Halishahar\",\"26 No. North Halishahar Ward, Halishahar\",\"Chandgaon Residential Area, 4 No Chandgaon Ward\",\"Tayab Bag R\\u002fA, 7 No. West Sholoshohor Ward\",\"Sabujbag, Halishahar\",\"24 No. North Agrabad Ward, Double Mooring\",\"24 No. North Agrabad Ward, Double Mooring\",\"12 No. Sarai Para Ward, Double Mooring\",\"Sangbadik Co-operative Housing Society, Bayazid\",\"Sangbadik Co-operative Housing Society, Bayazid\",\"South Agrabad, Double Mooring\",\"Chandgaon Residential Area, 4 No Chandgaon Ward\",\"Foy's Lake Approach Road, 9 No. North Pahartali Ward\",\"West Khulshi, 9 No. North Pahartali Ward\",\"24 No. North Agrabad Ward, Double Mooring\",\"Nasirabad Housing Society, Muradpur\",\"South Khulshi, Khulshi\",\"24 No. North Agrabad Ward, Double Mooring\",\"Chadra Nagar, Bayazid\",\"Nasirabad Properties Residential Area, Khulshi\",\"Dewan Bazar, Bakalia\",\"Mohammad Nagar, Bayazid\",\"Korbanigonj, Kotwali\",\"Dewan Bazar, Bakalia\",\"6 No East Sholoshohor Ward, Bakalia\",\"19 No. South Bakalia Ward, Bakalia\",\"Chand Mia Road, 4 No Chandgaon Ward\",\"Chand Mia Road, 4 No Chandgaon Ward\",\"Chasma Hill R\\u002fA, 7 No. West Sholoshohor Ward\",\"18 No. East Bakalia Ward, Bakalia\",\"18 No. East Bakalia Ward, Bakalia\",\"18 No. East Bakalia Ward, Bakalia\",\"Nasirabad Housing Society, Muradpur\",\"Chand Mia Road, 4 No Chandgaon Ward\",\"Nasirabad, Bayazid\",\"Nasirabad, Bayazid\",\"Nasirabad, Bayazid\",\"Al-Madani Road, Sholokbahar\",\"Al-Madani Road, Sholokbahar\",\"Yakub Nagar Road, 33 No. Firingee Bazaar Ward\",\"Yakub Nagar Road, 33 No. Firingee Bazaar Ward\",\"Yakub Nagar Road, 33 No. Firingee Bazaar Ward\",\"Dhaka Trunk Road, 9 No. North Pahartali Ward\",\"Dhaka Trunk Road, 9 No. North Pahartali Ward\",\"Dhaka Trunk Road, 9 No. North Pahartali Ward\",\"Dhaka Trunk Road, 9 No. North Pahartali Ward\",\"Dhaka Trunk Road, 9 No. North Pahartali Ward\",\"Dhaka Trunk Road, 9 No. North Pahartali Ward\",\"CDA R\\u002fA, 10 No. North Kattali Ward\",\"Abdullah Khan Road, Sholokbahar\",\"Bahaddarhat, 4 No Chandgaon Ward\",\"Bahaddarhat, 4 No Chandgaon Ward\",\"Mohara, 4 No Chandgaon Ward\",\"Mohara, 4 No Chandgaon Ward\",\"Mohara, 4 No Chandgaon Ward\",\"Mohara, 4 No Chandgaon Ward\",\"Mohara, 4 No Chandgaon Ward\",\"12 No. Sarai Para Ward, Double Mooring\",\"12 No. Sarai Para Ward, Double Mooring\",\"12 No. Sarai Para Ward, Double Mooring\",\"12 No. Sarai Para Ward, Double Mooring\",\"12 No. Sarai Para Ward, Double Mooring\",\"Nasirabad Properties Residential Area, Khulshi\",\"Dewan Bazar, Bakalia\",\"Dewan Bazar, Bakalia\",\"Dewan Bazar, Bakalia\",\"Dhaka Trunk Road, 9 No. North Pahartali Ward\",\"Bayazid Abasic Elaka Road, Bayazid\",\"Sugandha Residential Area, Panchlaish\",\"Sugandha Residential Area, Panchlaish\",\"Sugandha Residential Area, Panchlaish\",\"Sugandha Residential Area, Panchlaish\",\"Sugandha Residential Area, Panchlaish\",\"Sugandha Residential Area, Panchlaish\",\"Sugandha Residential Area, Panchlaish\",\"Dakshin Kattali, 11 No. South Kattali Ward\",\"Dakshin Kattali, 11 No. South Kattali Ward\",\"Dakshin Kattali, 11 No. South Kattali Ward\",\"Dakshin Kattali, 11 No. South Kattali Ward\",\"Dakshin Kattali, 11 No. South Kattali Ward\"],\"type\":\"scattermapbox\"}],                        {\"template\":{\"data\":{\"histogram2dcontour\":[{\"type\":\"histogram2dcontour\",\"colorbar\":{\"outlinewidth\":0,\"ticks\":\"\"},\"colorscale\":[[0.0,\"#0d0887\"],[0.1111111111111111,\"#46039f\"],[0.2222222222222222,\"#7201a8\"],[0.3333333333333333,\"#9c179e\"],[0.4444444444444444,\"#bd3786\"],[0.5555555555555556,\"#d8576b\"],[0.6666666666666666,\"#ed7953\"],[0.7777777777777778,\"#fb9f3a\"],[0.8888888888888888,\"#fdca26\"],[1.0,\"#f0f921\"]]}],\"choropleth\":[{\"type\":\"choropleth\",\"colorbar\":{\"outlinewidth\":0,\"ticks\":\"\"}}],\"histogram2d\":[{\"type\":\"histogram2d\",\"colorbar\":{\"outlinewidth\":0,\"ticks\":\"\"},\"colorscale\":[[0.0,\"#0d0887\"],[0.1111111111111111,\"#46039f\"],[0.2222222222222222,\"#7201a8\"],[0.3333333333333333,\"#9c179e\"],[0.4444444444444444,\"#bd3786\"],[0.5555555555555556,\"#d8576b\"],[0.6666666666666666,\"#ed7953\"],[0.7777777777777778,\"#fb9f3a\"],[0.8888888888888888,\"#fdca26\"],[1.0,\"#f0f921\"]]}],\"heatmap\":[{\"type\":\"heatmap\",\"colorbar\":{\"outlinewidth\":0,\"ticks\":\"\"},\"colorscale\":[[0.0,\"#0d0887\"],[0.1111111111111111,\"#46039f\"],[0.2222222222222222,\"#7201a8\"],[0.3333333333333333,\"#9c179e\"],[0.4444444444444444,\"#bd3786\"],[0.5555555555555556,\"#d8576b\"],[0.6666666666666666,\"#ed7953\"],[0.7777777777777778,\"#fb9f3a\"],[0.8888888888888888,\"#fdca26\"],[1.0,\"#f0f921\"]]}],\"heatmapgl\":[{\"type\":\"heatmapgl\",\"colorbar\":{\"outlinewidth\":0,\"ticks\":\"\"},\"colorscale\":[[0.0,\"#0d0887\"],[0.1111111111111111,\"#46039f\"],[0.2222222222222222,\"#7201a8\"],[0.3333333333333333,\"#9c179e\"],[0.4444444444444444,\"#bd3786\"],[0.5555555555555556,\"#d8576b\"],[0.6666666666666666,\"#ed7953\"],[0.7777777777777778,\"#fb9f3a\"],[0.8888888888888888,\"#fdca26\"],[1.0,\"#f0f921\"]]}],\"contourcarpet\":[{\"type\":\"contourcarpet\",\"colorbar\":{\"outlinewidth\":0,\"ticks\":\"\"}}],\"contour\":[{\"type\":\"contour\",\"colorbar\":{\"outlinewidth\":0,\"ticks\":\"\"},\"colorscale\":[[0.0,\"#0d0887\"],[0.1111111111111111,\"#46039f\"],[0.2222222222222222,\"#7201a8\"],[0.3333333333333333,\"#9c179e\"],[0.4444444444444444,\"#bd3786\"],[0.5555555555555556,\"#d8576b\"],[0.6666666666666666,\"#ed7953\"],[0.7777777777777778,\"#fb9f3a\"],[0.8888888888888888,\"#fdca26\"],[1.0,\"#f0f921\"]]}],\"surface\":[{\"type\":\"surface\",\"colorbar\":{\"outlinewidth\":0,\"ticks\":\"\"},\"colorscale\":[[0.0,\"#0d0887\"],[0.1111111111111111,\"#46039f\"],[0.2222222222222222,\"#7201a8\"],[0.3333333333333333,\"#9c179e\"],[0.4444444444444444,\"#bd3786\"],[0.5555555555555556,\"#d8576b\"],[0.6666666666666666,\"#ed7953\"],[0.7777777777777778,\"#fb9f3a\"],[0.8888888888888888,\"#fdca26\"],[1.0,\"#f0f921\"]]}],\"mesh3d\":[{\"type\":\"mesh3d\",\"colorbar\":{\"outlinewidth\":0,\"ticks\":\"\"}}],\"scatter\":[{\"fillpattern\":{\"fillmode\":\"overlay\",\"size\":10,\"solidity\":0.2},\"type\":\"scatter\"}],\"parcoords\":[{\"type\":\"parcoords\",\"line\":{\"colorbar\":{\"outlinewidth\":0,\"ticks\":\"\"}}}],\"scatterpolargl\":[{\"type\":\"scatterpolargl\",\"marker\":{\"colorbar\":{\"outlinewidth\":0,\"ticks\":\"\"}}}],\"bar\":[{\"error_x\":{\"color\":\"#2a3f5f\"},\"error_y\":{\"color\":\"#2a3f5f\"},\"marker\":{\"line\":{\"color\":\"#E5ECF6\",\"width\":0.5},\"pattern\":{\"fillmode\":\"overlay\",\"size\":10,\"solidity\":0.2}},\"type\":\"bar\"}],\"scattergeo\":[{\"type\":\"scattergeo\",\"marker\":{\"colorbar\":{\"outlinewidth\":0,\"ticks\":\"\"}}}],\"scatterpolar\":[{\"type\":\"scatterpolar\",\"marker\":{\"colorbar\":{\"outlinewidth\":0,\"ticks\":\"\"}}}],\"histogram\":[{\"marker\":{\"pattern\":{\"fillmode\":\"overlay\",\"size\":10,\"solidity\":0.2}},\"type\":\"histogram\"}],\"scattergl\":[{\"type\":\"scattergl\",\"marker\":{\"colorbar\":{\"outlinewidth\":0,\"ticks\":\"\"}}}],\"scatter3d\":[{\"type\":\"scatter3d\",\"line\":{\"colorbar\":{\"outlinewidth\":0,\"ticks\":\"\"}},\"marker\":{\"colorbar\":{\"outlinewidth\":0,\"ticks\":\"\"}}}],\"scattermapbox\":[{\"type\":\"scattermapbox\",\"marker\":{\"colorbar\":{\"outlinewidth\":0,\"ticks\":\"\"}}}],\"scatterternary\":[{\"type\":\"scatterternary\",\"marker\":{\"colorbar\":{\"outlinewidth\":0,\"ticks\":\"\"}}}],\"scattercarpet\":[{\"type\":\"scattercarpet\",\"marker\":{\"colorbar\":{\"outlinewidth\":0,\"ticks\":\"\"}}}],\"carpet\":[{\"aaxis\":{\"endlinecolor\":\"#2a3f5f\",\"gridcolor\":\"white\",\"linecolor\":\"white\",\"minorgridcolor\":\"white\",\"startlinecolor\":\"#2a3f5f\"},\"baxis\":{\"endlinecolor\":\"#2a3f5f\",\"gridcolor\":\"white\",\"linecolor\":\"white\",\"minorgridcolor\":\"white\",\"startlinecolor\":\"#2a3f5f\"},\"type\":\"carpet\"}],\"table\":[{\"cells\":{\"fill\":{\"color\":\"#EBF0F8\"},\"line\":{\"color\":\"white\"}},\"header\":{\"fill\":{\"color\":\"#C8D4E3\"},\"line\":{\"color\":\"white\"}},\"type\":\"table\"}],\"barpolar\":[{\"marker\":{\"line\":{\"color\":\"#E5ECF6\",\"width\":0.5},\"pattern\":{\"fillmode\":\"overlay\",\"size\":10,\"solidity\":0.2}},\"type\":\"barpolar\"}],\"pie\":[{\"automargin\":true,\"type\":\"pie\"}]},\"layout\":{\"autotypenumbers\":\"strict\",\"colorway\":[\"#636efa\",\"#EF553B\",\"#00cc96\",\"#ab63fa\",\"#FFA15A\",\"#19d3f3\",\"#FF6692\",\"#B6E880\",\"#FF97FF\",\"#FECB52\"],\"font\":{\"color\":\"#2a3f5f\"},\"hovermode\":\"closest\",\"hoverlabel\":{\"align\":\"left\"},\"paper_bgcolor\":\"white\",\"plot_bgcolor\":\"#E5ECF6\",\"polar\":{\"bgcolor\":\"#E5ECF6\",\"angularaxis\":{\"gridcolor\":\"white\",\"linecolor\":\"white\",\"ticks\":\"\"},\"radialaxis\":{\"gridcolor\":\"white\",\"linecolor\":\"white\",\"ticks\":\"\"}},\"ternary\":{\"bgcolor\":\"#E5ECF6\",\"aaxis\":{\"gridcolor\":\"white\",\"linecolor\":\"white\",\"ticks\":\"\"},\"baxis\":{\"gridcolor\":\"white\",\"linecolor\":\"white\",\"ticks\":\"\"},\"caxis\":{\"gridcolor\":\"white\",\"linecolor\":\"white\",\"ticks\":\"\"}},\"coloraxis\":{\"colorbar\":{\"outlinewidth\":0,\"ticks\":\"\"}},\"colorscale\":{\"sequential\":[[0.0,\"#0d0887\"],[0.1111111111111111,\"#46039f\"],[0.2222222222222222,\"#7201a8\"],[0.3333333333333333,\"#9c179e\"],[0.4444444444444444,\"#bd3786\"],[0.5555555555555556,\"#d8576b\"],[0.6666666666666666,\"#ed7953\"],[0.7777777777777778,\"#fb9f3a\"],[0.8888888888888888,\"#fdca26\"],[1.0,\"#f0f921\"]],\"sequentialminus\":[[0.0,\"#0d0887\"],[0.1111111111111111,\"#46039f\"],[0.2222222222222222,\"#7201a8\"],[0.3333333333333333,\"#9c179e\"],[0.4444444444444444,\"#bd3786\"],[0.5555555555555556,\"#d8576b\"],[0.6666666666666666,\"#ed7953\"],[0.7777777777777778,\"#fb9f3a\"],[0.8888888888888888,\"#fdca26\"],[1.0,\"#f0f921\"]],\"diverging\":[[0,\"#8e0152\"],[0.1,\"#c51b7d\"],[0.2,\"#de77ae\"],[0.3,\"#f1b6da\"],[0.4,\"#fde0ef\"],[0.5,\"#f7f7f7\"],[0.6,\"#e6f5d0\"],[0.7,\"#b8e186\"],[0.8,\"#7fbc41\"],[0.9,\"#4d9221\"],[1,\"#276419\"]]},\"xaxis\":{\"gridcolor\":\"white\",\"linecolor\":\"white\",\"ticks\":\"\",\"title\":{\"standoff\":15},\"zerolinecolor\":\"white\",\"automargin\":true,\"zerolinewidth\":2},\"yaxis\":{\"gridcolor\":\"white\",\"linecolor\":\"white\",\"ticks\":\"\",\"title\":{\"standoff\":15},\"zerolinecolor\":\"white\",\"automargin\":true,\"zerolinewidth\":2},\"scene\":{\"xaxis\":{\"backgroundcolor\":\"#E5ECF6\",\"gridcolor\":\"white\",\"linecolor\":\"white\",\"showbackground\":true,\"ticks\":\"\",\"zerolinecolor\":\"white\",\"gridwidth\":2},\"yaxis\":{\"backgroundcolor\":\"#E5ECF6\",\"gridcolor\":\"white\",\"linecolor\":\"white\",\"showbackground\":true,\"ticks\":\"\",\"zerolinecolor\":\"white\",\"gridwidth\":2},\"zaxis\":{\"backgroundcolor\":\"#E5ECF6\",\"gridcolor\":\"white\",\"linecolor\":\"white\",\"showbackground\":true,\"ticks\":\"\",\"zerolinecolor\":\"white\",\"gridwidth\":2}},\"shapedefaults\":{\"line\":{\"color\":\"#2a3f5f\"}},\"annotationdefaults\":{\"arrowcolor\":\"#2a3f5f\",\"arrowhead\":0,\"arrowwidth\":1},\"geo\":{\"bgcolor\":\"white\",\"landcolor\":\"#E5ECF6\",\"subunitcolor\":\"white\",\"showland\":true,\"showlakes\":true,\"lakecolor\":\"white\"},\"title\":{\"x\":0.05},\"mapbox\":{\"style\":\"light\"}}},\"mapbox\":{\"domain\":{\"x\":[0.0,1.0],\"y\":[0.0,1.0]},\"center\":{\"lat\":22.34713138347261,\"lon\":91.82007520891364},\"zoom\":7,\"style\":\"open-street-map\"},\"legend\":{\"tracegroupgap\":0},\"margin\":{\"t\":60},\"height\":700,\"title\":{\"text\":\"Addresses in Chattogram(Bangladesh)\"}},                        {\"responsive\": true}                    ).then(function(){\n",
       "                            \n",
       "var gd = document.getElementById('5df9ecd1-eda2-49b4-b7b4-1d77063404dc');\n",
       "var x = new MutationObserver(function (mutations, observer) {{\n",
       "        var display = window.getComputedStyle(gd).display;\n",
       "        if (!display || display === 'none') {{\n",
       "            console.log([gd, 'removed!']);\n",
       "            Plotly.purge(gd);\n",
       "            observer.disconnect();\n",
       "        }}\n",
       "}});\n",
       "\n",
       "// Listen for the removal of the full notebook cells\n",
       "var notebookContainer = gd.closest('#notebook-container');\n",
       "if (notebookContainer) {{\n",
       "    x.observe(notebookContainer, {childList: true});\n",
       "}}\n",
       "\n",
       "// Listen for the clearing of the current output cell\n",
       "var outputEl = gd.closest('.output');\n",
       "if (outputEl) {{\n",
       "    x.observe(outputEl, {childList: true});\n",
       "}}\n",
       "\n",
       "                        })                };                            </script>        </div>\n",
       "</body>\n",
       "</html>"
      ]
     },
     "metadata": {},
     "output_type": "display_data"
    }
   ],
   "source": [
    "fig = px.scatter_mapbox(data[data['City']=='chattogram'], \n",
    "                         lat='latitude', \n",
    "                         lon='longitude', \n",
    "                         text='Location',  # Label for the points\n",
    "                         zoom=7, \n",
    "                         height=700,\n",
    "                         color_discrete_sequence=['red'])\n",
    "\n",
    "# Update the layout for Mapbox\n",
    "fig.update_traces(marker=dict(size=9))\n",
    "fig.update_layout(mapbox_style=\"open-street-map\")\n",
    "fig.update_layout(title='Addresses in Chattogram(Bangladesh)')\n",
    "\n",
    "# Show the map\n",
    "fig.show()"
   ]
  },
  {
   "cell_type": "code",
   "execution_count": 46,
   "id": "140ff298",
   "metadata": {
    "execution": {
     "iopub.execute_input": "2025-01-12T10:28:11.679550Z",
     "iopub.status.busy": "2025-01-12T10:28:11.679170Z",
     "iopub.status.idle": "2025-01-12T10:28:11.732836Z",
     "shell.execute_reply": "2025-01-12T10:28:11.731736Z"
    },
    "papermill": {
     "duration": 0.070675,
     "end_time": "2025-01-12T10:28:11.734878",
     "exception": false,
     "start_time": "2025-01-12T10:28:11.664203",
     "status": "completed"
    },
    "tags": []
   },
   "outputs": [
    {
     "data": {
      "text/html": [
       "<html>\n",
       "<head><meta charset=\"utf-8\" /></head>\n",
       "<body>\n",
       "    <div>            <script src=\"https://cdnjs.cloudflare.com/ajax/libs/mathjax/2.7.5/MathJax.js?config=TeX-AMS-MML_SVG\"></script><script type=\"text/javascript\">if (window.MathJax && window.MathJax.Hub && window.MathJax.Hub.Config) {window.MathJax.Hub.Config({SVG: {font: \"STIX-Web\"}});}</script>                <script type=\"text/javascript\">window.PlotlyConfig = {MathJaxConfig: 'local'};</script>\n",
       "        <script charset=\"utf-8\" src=\"https://cdn.plot.ly/plotly-2.35.2.min.js\"></script>                <div id=\"a27f56f4-34a2-4587-8a11-a7a01be2be1f\" class=\"plotly-graph-div\" style=\"height:700px; width:100%;\"></div>            <script type=\"text/javascript\">                                    window.PLOTLYENV=window.PLOTLYENV || {};                                    if (document.getElementById(\"a27f56f4-34a2-4587-8a11-a7a01be2be1f\")) {                    Plotly.newPlot(                        \"a27f56f4-34a2-4587-8a11-a7a01be2be1f\",                        [{\"hovertemplate\":\"Location=%{text}\\u003cbr\\u003elatitude=%{lat}\\u003cbr\\u003elongitude=%{lon}\\u003cextra\\u003e\\u003c\\u002fextra\\u003e\",\"lat\":[23.7808875,23.746466,23.746466,23.8151,23.793,23.780546,23.8151,23.8151,23.720881,23.7638,23.7,23.7,23.7,23.8151,23.7638,23.8759,23.8759,23.8655,23.746466,23.8151,23.8151,23.7925,23.747,23.7808875,23.7665,23.804,23.86,23.76,23.747,23.8281,23.87,23.78,23.7362,23.7,23.76,23.78,23.804,23.85,23.77,23.804,23.804,23.804,23.7,23.7,23.7,23.7638,23.76,23.804,23.78,23.75,23.85,23.76,23.780546,23.78,23.78,23.777628,23.77,23.88,23.7808875,23.746466,23.8151,23.746466,23.78,23.804,23.75,23.8151,23.8281,23.75,23.78,23.804,23.8151,23.75,23.75,23.78,23.87,23.8759,23.78,23.804,23.78,23.8281,23.8583,23.804,23.804,23.86,23.75,23.75,23.8151,23.75,23.78,23.804,23.804,23.81,23.804,23.8281,23.804,23.86,23.804,23.7667,23.78,23.804,23.85,23.8151,23.804,23.7667,23.8583,23.8151,23.804,23.804,23.746466,23.8151,23.8759,23.85,23.77,23.8151,23.804,23.804,23.86,23.85,23.804,23.75,23.8151,23.75,23.7665,23.88,23.8281,23.86,23.7638,23.780546,23.88,23.7638,23.75,23.7665,23.78,23.75,23.780546,23.885,23.804,23.78,23.780546,23.85,23.780546,23.780546,23.780546,23.804,23.804,23.804,23.7638,23.88,23.75,23.804,23.8151,23.8151,23.8151,23.885,23.885,23.88,23.8151,23.780546,23.88,23.8151,23.8151,23.8151,23.821,23.8151,23.86,23.8145,23.8281,23.75,23.804,23.85,23.7465,23.75,23.804,23.8281,23.85,23.8281,23.8281,23.804,23.804,23.75,23.804,23.8759,23.804,23.804,23.804,23.804,23.804,23.86,23.75,23.804,23.804,23.8151,23.8151,23.7465,23.804,23.804,23.804,23.804,23.7805,23.8151,23.77,23.75,23.8151,23.804,23.8281,23.75,23.78,23.8281,23.88,23.804,23.78,23.78,23.821,23.8281,23.81,23.7465,23.8281,23.78,23.8151,23.885,23.78,23.8151,23.8759,23.821,23.804,23.78,23.804,23.75,23.8655,23.75,23.7638,23.7638,23.804,23.8151,23.8151,23.8759,23.85,23.8759,23.75,23.81,23.8281,23.8281,23.8151,23.8151,23.86,23.8,23.7465,23.7465,23.75,23.821,23.75,23.76,23.76,23.7465,23.804,23.747,23.804,23.75,23.8281,23.7665,23.804,23.804,23.804,23.804,23.804,23.75,23.75,23.804,23.8151,23.804,23.85,23.7,23.7,23.8281,23.804,23.75,23.7465,23.86,23.75,23.804,23.7465,23.747,23.8151,23.804,23.78,23.7465,23.804,23.78,23.804,23.804,23.804,23.78,23.78,23.7745,23.7465,23.804,23.75,23.8151,23.804,23.8281,23.804,23.804,23.804,23.8151,23.804,23.8151,23.75,23.885,23.8151,23.7465,23.7465,23.75,23.8151,23.85,23.79,23.88,23.8151,23.8281,23.804,23.78,23.81,23.85,23.85,23.85,23.85,23.804,23.804,23.804,23.8655,23.81,23.804,23.7808875,23.804,23.747,23.7465,23.804,23.804,23.7465,23.8759,23.75,23.8151,23.804,23.8151,23.780546,23.7,23.7,23.7,23.746466,23.7333,23.8281,23.78,23.8281,23.780546,23.87,23.7805,23.804,23.804,23.75,23.7465,23.8151,23.8151,23.804,23.804,23.804,23.804,23.804,23.87,23.804,23.76779,23.85,23.85,23.7465,23.78,23.804,23.804,23.8151,23.804,23.78,23.8281,23.78,23.8281,23.804,23.8151,23.78,23.7465,23.780546,23.75,23.780546,23.804,23.804,23.75,23.7805,23.81,23.7805,23.7805,23.7805,23.78,23.78,23.78,23.85,23.804,23.804,23.804,23.804,23.804,23.804,23.804,23.804,23.804,23.8151,23.804,23.8151,23.804,23.8151,23.804,23.804,23.804,23.804,23.804,23.8151,23.81,23.78,23.804,23.804,23.804,23.804,23.81,23.8281,23.8281,23.8281,23.804,23.8281,23.8281,23.8281,23.8281,23.8151,23.78,23.8151,23.780546,23.804,23.804,23.804,23.804,23.78,23.75,23.87,23.81,23.804,23.85,23.75,23.804,23.804,23.75,23.78,23.7805,23.7805,23.804,23.7465,23.7465,23.874,23.88,23.7465,23.804,23.804,23.8151,23.8151,23.874,23.78,23.78,23.804,23.75,23.804,23.75,23.85,23.85,23.85,23.85,23.8151,23.8151,23.8281,23.8151,23.75,23.75,23.747,23.75,23.804,23.86,23.8151,23.76,23.8281,23.8281,23.741,23.741,23.8281,23.747,23.75,23.75,23.7325,23.768,23.76,23.8281,23.885,23.804,23.85,23.7385,23.804,23.804,23.78,23.8151,23.81,23.804,23.78,23.804,23.822,23.78,23.86,23.746,23.804,23.804,23.873548187429005,23.81,23.85,23.78,23.75,23.780546,23.885,23.814,23.76,23.804,23.8151,23.804,23.8151,23.8151,23.8281,23.75,23.804,23.804,23.78,23.76,23.75,23.7465,23.804,23.804,23.85,23.8151,23.85,23.85,23.85,23.81,23.804,23.804,23.804,23.88,23.804,23.85,23.758,23.78,23.804,23.78,23.8281,23.804,23.78,23.8281,23.87,23.804,23.8151,23.7,23.86,23.79,23.86,23.804,23.75,23.7465,23.804,23.88,23.8151,23.804,23.804,23.804,23.780546,23.804,23.804,23.8281,23.75,23.8281,23.75,23.813,23.813,23.7925,23.758,23.7465,23.76,23.78,23.81,23.804,23.78,23.804,23.8759,23.8151,23.8151,23.804,23.7465,23.804,23.85,23.804,23.804,23.804,23.804,23.804,23.804,23.804,23.78,23.813,23.804,23.804,23.8151,23.804,23.88,23.804,23.804,23.88,23.78,23.804,23.804,23.88,23.85,23.7805,23.8151,23.8151,23.88,23.804,23.8151,23.85,23.8281,23.7805,23.76,23.804,23.7805,23.7805,23.747,23.76,23.75,23.75,23.75,23.75,23.804,23.8655,23.804,23.75,23.81,23.7465,23.81,23.88,23.747,23.804,23.75,23.8759,23.8281,23.804,23.804,23.804,23.75,23.804,23.804,23.8151,23.804,23.804,23.804,23.81,23.7805,23.75,23.780546,23.7805,23.75,23.7638,23.75,23.741,23.75,23.8151,23.78,23.804,23.7665,23.804,23.804,23.804,23.804,23.804,23.804,23.755,23.746466,23.804,23.78,23.8281,23.7638,23.780546,23.7375,23.804,23.8151,23.8151,23.7805,23.774,23.78,23.804,23.804,23.75,23.86,23.780546,23.8281,23.804,23.804,23.78,23.7665,23.75,23.75,23.78,23.8151,23.8151,23.804,23.804,23.8151,23.768,23.747,23.747,23.75,23.804,23.746,23.8281,23.75,23.75,23.804,23.8151,23.8151,23.88,23.88,23.755,23.732,23.85,23.7665,23.804,23.747,23.756,23.885,23.780546,23.780546,23.804,23.8151,23.8151,23.75,23.78,23.7638,23.814,23.78,23.7745,23.7745,23.81,23.81,23.78,23.8281,23.8281,23.8281,23.7805,23.7805,23.804,23.804,23.804,23.85,23.7805,23.780546,23.873,23.7805,23.804,23.804,23.8281,23.804,23.8151,23.804,23.804,23.8151,23.746466,23.75,23.78,23.78,23.78,23.804,23.75,23.8151,23.75,23.8151,23.797,23.797,23.76,23.7638,23.759,23.75,23.75,23.78,23.78,23.804,23.812,23.804,23.745,23.86,23.86,23.77,23.77,23.804,23.804,23.804,23.804,23.804,23.804,23.804,23.78,23.81,23.804,23.804,23.804,23.804,23.8151,23.75,23.758,23.804,23.804,23.804,23.78,23.78,23.804,23.78,23.78,23.78,23.752,23.8151,23.804,23.804,23.8281,23.86,23.804,23.8151,23.804,23.828,23.8151,23.8281,23.804,23.75,23.76,23.8759,23.7,23.804,23.804,23.804,23.804,23.709,23.709,23.709,23.804,23.804,23.7,23.8151,23.75,23.88,23.7325,23.8151,23.741,23.85,23.804,23.804,23.804,23.8281,23.81,23.804,23.804,23.804,23.815,23.804,23.804,23.8759,23.768,23.813,23.8151,23.78,23.804,23.85,23.804,23.804,23.8151,23.81,23.804,23.804,23.81,23.8151,23.78,23.88,23.804,23.7665,23.78,23.81,23.81,23.81,23.7745,23.752,23.815,23.8151,23.8151,23.78,23.7805,23.7808875,23.86,23.86,23.8151,23.8151,23.75,23.804,23.88,23.804,23.804,23.804,23.804,23.813,23.8151,23.76,23.804,23.78,23.86,23.804,23.8281,23.78,23.75,23.88,23.8151,23.85,23.8281,23.804,23.78,23.743,23.804,23.75,23.8151,23.8151,23.76,23.784,23.78,23.7465,23.7808875,23.78,23.8281,23.81,23.741,23.7745,23.7745,23.76,23.82,23.78,23.8151,23.804,23.804,23.75,23.804,23.752,23.77,23.7805,23.804,23.804,23.804,23.804,23.804,23.8151,23.747,23.804,23.804,23.804,23.804,23.737,23.86,23.8151,23.7375,23.8151,23.8151,23.780546,23.7638,23.8151,23.7465,23.75,23.85,23.8281,23.814,23.7325,23.737,23.780546,23.780546,23.7465,23.8151,23.8759,23.8759,23.8151,23.88,23.8151,23.7638,23.780546,23.75,23.7638,23.804,23.804,23.7325,23.75,23.8759,23.7965,23.4571,23.4612,23.465,23.4612,23.4612,23.4612,23.465,23.4612,23.4598,23.4598,23.4555,23.4555,23.4583,23.4612,23.4601,23.4598,23.4555,23.4612,23.4598,23.4578,23.4612,23.4555,23.4601,23.4601,23.4612,23.4612,23.4571,23.4571,23.4571,23.4562,23.4612,23.455,23.4571,23.4612,23.4601,23.4612,23.465,23.465,23.462,23.459,23.4601,23.458,23.4612,23.4605,23.4571,23.4612,23.4612,23.4612,23.458,23.4583,23.4601,23.4555,23.4612,23.4578,23.4565,23.4555,23.4612,23.4571,23.4571,23.4571,23.4562,23.4562,23.4562,23.4612,23.4598,23.4598,23.4598,23.4598,23.465,23.4612,23.4598,23.4612,23.465,23.4612,23.4555,23.455,23.455,23.4562,23.4612,23.4601,23.4571,23.4598,23.4612,23.4612,23.465,23.465,23.4612,23.458,23.4612,23.4612,23.4612,23.4558,23.458,23.4555,23.4555,23.4612,23.465,23.4598,23.4571,23.4598,23.465,23.4571,23.4571,23.4615,23.4598,23.4598,23.4598,23.4598,23.4598,23.4555,23.4612,23.4612,23.4605,23.4612,23.463,23.4555,23.4555,23.4555,23.4598,23.4555,23.4571,23.4571,23.465,23.465,23.4612,23.458,23.4571,23.4583,23.4583,23.4583,23.7745,23.720881,23.720881,23.720881,23.720881,23.87,23.87,23.8275,23.8375,23.8275,23.8275,23.8345,23.87,23.87,23.87,23.8375,23.87,23.87,23.87,23.87,23.87,23.8345,23.87,23.87,23.8345,23.8345,23.8275,23.87,23.8275,23.8275,23.8275,23.8275,23.8275,23.8275,23.8275,23.8275,23.8275,23.8275,23.8275,23.8275,23.8275,23.8275,23.8275,23.8345,23.8275,23.87,23.87,23.87,23.87,23.87,23.87,23.87,23.87,23.87,23.87,23.8345,23.8345,23.8345,23.8345,23.8345,23.8275,23.8275,23.8275,23.8275,23.8275,23.8275,23.8275,23.87,23.8275,23.8275,23.8275,23.8275,23.8275,23.8275,23.8275,23.8275,23.87,23.8275,23.8275,23.8345,23.8345,23.8345,23.87,23.8275,23.8275,23.8275,23.8275,23.8275,23.8275,23.8275,23.8275,23.8275,23.8275,23.8275,23.8275,23.8345,23.8275,23.8375,23.8375,23.87,23.8345,23.8345,23.8345,23.8345,23.8345,23.8345,23.87,23.87,23.87,23.87,23.87,23.87,23.87,23.87,23.87,23.87,23.8375,23.8345,23.8345,23.8275,23.87,23.87,23.87,23.87,23.8345,23.8345,23.8345,23.8275,23.8115,23.87,23.87,23.8275,23.8275,23.8275,23.8275,23.8275,23.8275,23.8275,23.8275,23.8275,23.8345,23.8345,23.8375,23.8275,23.8345,23.8275],\"legendgroup\":\"\",\"lon\":[90.4166401,90.376015,90.376015,90.4285,90.4043,90.426659,90.4285,90.4285,90.483269,90.4285,90.45,90.45,90.45,90.4285,90.4285,90.3795,90.3795,90.3795,90.376015,90.4285,90.4285,90.4078,90.3831,90.4166401,90.358,90.3667,90.3795,90.36,90.3831,90.3651,90.3795,90.4167,90.4142,90.4167,90.36,90.3667,90.3667,90.4,90.375,90.3667,90.3667,90.3667,90.2667,90.45,90.45,90.4285,90.36,90.3667,90.35,90.425,90.4,90.36,90.426659,90.4167,90.4,90.405449,90.375,90.3795,90.4166401,90.376015,90.4285,90.376015,90.3667,90.3667,90.425,90.4285,90.3651,90.4,90.3667,90.3667,90.4285,90.4,90.425,90.3667,90.3795,90.3795,90.3667,90.3667,90.3667,90.3651,90.2667,90.3667,90.3667,90.3795,90.425,90.425,90.4285,90.4167,90.3667,90.3667,90.3667,90.4,90.3667,90.3651,90.3667,90.3795,90.3667,90.2667,90.3667,90.3667,90.4,90.4285,90.3667,90.2667,90.2667,90.4285,90.3667,90.3667,90.376015,90.4285,90.3795,90.4,90.375,90.4285,90.3667,90.3667,90.3795,90.4,90.3667,90.425,90.4285,90.425,90.358,90.3795,90.3651,90.3795,90.4285,90.426659,90.3795,90.4285,90.425,90.358,90.3667,90.425,90.426659,90.3795,90.3667,90.3667,90.426659,90.4,90.426659,90.426659,90.426659,90.3667,90.3667,90.3667,90.4285,90.3795,90.425,90.3667,90.4285,90.4285,90.4285,90.3795,90.3795,90.3795,90.4285,90.426659,90.3795,90.4285,90.4285,90.4285,90.4,90.4285,90.3795,90.4272,90.3651,90.425,90.3667,90.4,90.376,90.425,90.3667,90.3651,90.4,90.3651,90.3651,90.3667,90.3667,90.4,90.3667,90.3795,90.3667,90.3667,90.3667,90.3667,90.3667,90.3795,90.358,90.3667,90.3667,90.4285,90.4285,90.4,90.3667,90.3667,90.3667,90.3667,90.4267,90.4285,90.375,90.425,90.4285,90.3667,90.3651,90.358,90.3667,90.3651,90.3795,90.3667,90.3667,90.3667,90.4,90.3651,90.4,90.4,90.3651,90.3667,90.4285,90.3795,90.3667,90.4285,90.3795,90.4,90.3667,90.3667,90.3667,90.358,90.3795,90.4167,90.4285,90.4285,90.3667,90.4285,90.4285,90.3795,90.4,90.3795,90.425,90.4,90.3651,90.3651,90.4285,90.4285,90.3795,90.4,90.358,90.358,90.425,90.4,90.425,90.36,90.36,90.376,90.3667,90.3831,90.3667,90.4,90.3651,90.358,90.3667,90.3667,90.3667,90.3667,90.3667,90.358,90.358,90.3667,90.4285,90.3667,90.4,90.45,90.45,90.3651,90.3667,90.425,90.358,90.3795,90.425,90.3667,90.376,90.3831,90.4285,90.3667,90.3667,90.358,90.3667,90.3667,90.3667,90.3667,90.3667,90.3667,90.35,90.3792,90.4,90.3667,90.4167,90.4285,90.3667,90.4225,90.3667,90.3667,90.3667,90.4285,90.3667,90.4285,90.4,90.3795,90.4285,90.4,90.4,90.425,90.4285,90.4,90.4,90.3795,90.4285,90.3651,90.3667,90.3667,90.4,90.45,90.45,90.45,90.45,90.3667,90.3667,90.3667,90.3795,90.4,90.3667,90.4166401,90.3667,90.3831,90.376,90.3667,90.3667,90.376,90.3795,90.3833,90.4285,90.3667,90.4285,90.426659,90.35,90.35,90.35,90.376015,90.4167,90.3651,90.3667,90.3651,90.426659,90.3795,90.4267,90.3667,90.3667,90.425,90.358,90.4285,90.4285,90.3667,90.3667,90.3667,90.3667,90.3667,90.3795,90.3667,90.3615,90.4,90.4,90.376,90.3667,90.3667,90.3667,90.4285,90.3667,90.3833,90.3651,90.3667,90.3651,90.3667,90.4285,90.4,90.376,90.426659,90.425,90.426659,90.3667,90.3667,90.358,90.4267,90.4,90.4267,90.4267,90.4267,90.3667,90.3667,90.3667,90.2667,90.3667,90.3667,90.3667,90.3667,90.3667,90.3667,90.3667,90.3667,90.3667,90.4285,90.3667,90.4285,90.3667,90.4285,90.3667,90.3667,90.3667,90.3667,90.3667,90.4285,90.425,90.3667,90.3667,90.3667,90.3667,90.3667,90.425,90.3651,90.3651,90.3651,90.3667,90.4225,90.4225,90.4225,90.4225,90.4285,90.35,90.4285,90.426659,90.3667,90.3667,90.3667,90.3667,90.3667,90.425,90.3795,90.4,90.3667,90.4,90.425,90.3667,90.3667,90.4,90.35,90.4267,90.4267,90.3667,90.4,90.4,90.3795,90.3795,90.4,90.3667,90.3667,90.4285,90.4285,90.3795,90.3667,90.3667,90.3667,90.358,90.3667,90.358,90.4,90.4,90.4,90.4,90.4285,90.4285,90.4225,90.4285,90.4167,90.4167,90.405,90.425,90.3667,90.3795,90.4285,90.36,90.3651,90.3651,90.413,90.413,90.3651,90.405,90.425,90.425,90.426,90.37,90.36,90.3651,90.3795,90.3667,90.335,90.39,90.3667,90.3667,90.4,90.4285,90.4,90.3667,90.3667,90.3667,90.38,90.3667,90.3795,90.405,90.3667,90.3667,90.40766084669878,90.4,90.4,90.3667,90.392,90.426659,90.3795,90.4275,90.39,90.3667,90.4285,90.3667,90.4285,90.4285,90.3651,90.358,90.3667,90.3667,90.3667,90.358,90.37,90.376,90.3667,90.3667,90.4,90.4285,90.4,90.4,90.4,90.4,90.3667,90.3667,90.3667,90.3795,90.3667,90.4,90.36,90.3667,90.3667,90.35,90.3651,90.3667,90.35,90.3651,90.398,90.3667,90.4285,90.4167,90.3795,90.4,90.3795,90.3667,90.425,90.39,90.3667,90.3795,90.4285,90.3667,90.3667,90.3667,90.426659,90.3667,90.3667,90.3651,90.425,90.3651,90.425,90.36,90.36,90.4078,90.36,90.383,90.39,90.3833,90.4,90.3667,90.3667,90.3667,90.3795,90.4285,90.4285,90.3667,90.358,90.3667,90.335,90.3667,90.3667,90.3667,90.3667,90.3667,90.3667,90.3667,90.3667,90.36,90.3667,90.3667,90.4285,90.3667,90.3795,90.3667,90.3667,90.3795,90.3667,90.3667,90.3667,90.3795,90.4,90.4267,90.4285,90.4285,90.3795,90.3667,90.4285,90.4,90.3651,90.4267,90.36,90.3667,90.4267,90.4267,90.405,90.358,90.425,90.37,90.37,90.36,90.3667,90.3795,90.3667,90.358,90.4,90.376,90.4,90.3795,90.405,90.3667,90.425,90.3795,90.4225,90.3667,90.3667,90.3667,90.425,90.3667,90.3667,90.4285,90.3667,90.3667,90.3667,90.4,90.4267,90.425,90.426659,90.4267,90.425,90.4285,90.425,90.413,90.425,90.4285,90.35,90.3667,90.358,90.3667,90.3667,90.3667,90.3667,90.3667,90.3667,90.426,90.376015,90.3667,90.35,90.3651,90.4285,90.426659,90.41,90.3667,90.4285,90.4285,90.4267,90.365,90.35,90.3667,90.3667,90.425,90.3795,90.426659,90.3651,90.3667,90.3667,90.3667,90.358,90.425,90.358,90.3667,90.4285,90.4285,90.3667,90.3667,90.4285,90.355,90.3831,90.3831,90.425,90.3667,90.3765,90.3651,90.425,90.425,90.3667,90.4285,90.4285,90.3795,90.3795,90.359,90.426,90.4,90.358,90.3667,90.432,90.4255,90.3795,90.426659,90.426659,90.3667,90.4285,90.4285,90.4167,90.3667,90.4285,90.398,90.3667,90.3792,90.3792,90.4,90.425,90.35,90.3651,90.3651,90.3651,90.4267,90.4267,90.3667,90.3667,90.3667,90.4,90.4267,90.426659,90.321,90.4267,90.3667,90.3667,90.3651,90.3667,90.4285,90.3667,90.3667,90.4285,90.376015,90.425,90.35,90.35,90.3667,90.3667,90.425,90.4285,90.358,90.4285,90.4045,90.4045,90.36,90.4285,90.359,90.425,90.358,90.3667,90.3667,90.3667,90.429,90.3667,90.375,90.43,90.43,90.375,90.375,90.3667,90.3667,90.3667,90.3667,90.3667,90.3667,90.3667,90.4,90.4,90.3667,90.3667,90.3667,90.3667,90.4285,90.36,90.36,90.3667,90.3667,90.3667,90.3667,90.3667,90.3667,90.4,90.3667,90.3667,90.36,90.4285,90.3667,90.3667,90.3651,90.3795,90.3667,90.4285,90.3667,90.422,90.4285,90.3651,90.3667,90.425,90.358,90.3795,90.2667,90.3667,90.3667,90.3667,90.3667,90.411,90.411,90.411,90.3667,90.3667,90.45,90.4285,90.425,90.3795,90.426,90.4285,90.4,90.4,90.3667,90.3667,90.3667,90.3651,90.4,90.3667,90.3667,90.3667,90.426,90.3667,90.3667,90.3795,90.37,90.365,90.4285,90.35,90.3667,90.4,90.3667,90.3667,90.4285,90.36,90.3667,90.3667,90.4,90.4285,90.383,90.3795,90.3667,90.358,90.3667,90.4,90.4,90.4,90.3792,90.36,90.398,90.4285,90.4285,90.3833,90.4267,90.4166401,90.4,90.3795,90.4285,90.4285,90.4167,90.3667,90.3795,90.3667,90.3667,90.3667,90.3667,90.398,90.4285,90.36,90.3667,90.4,90.3795,90.3667,90.3651,90.3667,90.425,90.3795,90.4285,90.4,90.3651,90.3667,90.3667,90.407,90.3667,90.4,90.4285,90.4285,90.36,90.425,90.3667,90.358,90.4166401,90.3667,90.3651,90.4,90.407,90.3792,90.3792,90.392,90.425,90.35,90.4285,90.3667,90.3667,90.36,90.3667,90.36,90.375,90.4267,90.3667,90.3667,90.3667,90.3667,90.3667,90.4285,90.432,90.3667,90.3667,90.3667,90.3667,90.42,90.3795,90.4285,90.41,90.4285,90.4285,90.426659,90.4285,90.4285,90.4,90.425,90.4,90.3651,90.398,90.426,90.42,90.426659,90.426659,90.4,90.4285,90.3795,90.3795,90.4285,90.3795,90.4285,90.4285,90.426659,90.4,90.4285,90.3667,90.3667,90.426,90.37,90.3795,90.43,91.1809,91.1834,91.1902,91.1834,91.1834,91.1834,91.1902,91.1834,91.1825,91.1825,91.1798,91.1798,91.1817,91.1834,91.184,91.1825,91.1798,91.1834,91.1825,91.1805,91.1834,91.1798,91.184,91.184,91.1834,91.1834,91.1809,91.1809,91.1809,91.1792,91.1834,91.1785,91.1809,91.1834,91.184,91.1834,91.1902,91.1902,91.186,91.182,91.184,91.181,91.1834,91.183,91.1809,91.1834,91.1834,91.1834,91.181,91.1817,91.184,91.1798,91.1834,91.1805,91.18,91.1798,91.1834,91.1809,91.1809,91.1809,91.1792,91.1792,91.1792,91.1834,91.1825,91.1825,91.1825,91.1825,91.1902,91.1834,91.1825,91.1834,91.1902,91.1834,91.1798,91.1785,91.1785,91.1792,91.1834,91.184,91.1809,91.1825,91.1834,91.1834,91.1902,91.1902,91.1834,91.181,91.1834,91.1834,91.1834,91.1795,91.181,91.1798,91.1798,91.1834,91.1902,91.1825,91.1809,91.1825,91.1902,91.1809,91.1809,91.1835,91.1825,91.1825,91.1825,91.1825,91.1825,91.1798,91.1834,91.1834,91.183,91.1834,91.187,91.1798,91.1798,91.1798,91.1825,91.1798,91.1809,91.1809,91.1902,91.1902,91.1834,91.181,91.1809,91.1817,91.1817,91.1817,90.7325,90.483269,90.483269,90.483269,90.483269,90.403,90.403,90.381,90.3845,90.381,90.381,90.365,90.403,90.403,90.403,90.3845,90.403,90.403,90.403,90.403,90.403,90.365,90.403,90.403,90.365,90.365,90.381,90.403,90.381,90.381,90.381,90.381,90.381,90.381,90.381,90.381,90.381,90.381,90.381,90.381,90.381,90.381,90.381,90.365,90.381,90.403,90.403,90.403,90.403,90.403,90.403,90.403,90.403,90.403,90.403,90.365,90.365,90.365,90.365,90.365,90.381,90.381,90.381,90.381,90.381,90.381,90.381,90.403,90.381,90.381,90.381,90.381,90.381,90.381,90.381,90.381,90.403,90.381,90.381,90.365,90.365,90.365,90.403,90.381,90.381,90.381,90.381,90.381,90.381,90.381,90.381,90.381,90.381,90.381,90.381,90.365,90.381,90.3845,90.3845,90.403,90.365,90.365,90.365,90.365,90.365,90.365,90.403,90.403,90.403,90.403,90.403,90.403,90.403,90.403,90.403,90.403,90.3845,90.365,90.365,90.381,90.403,90.403,90.403,90.403,90.365,90.365,90.365,90.381,90.356,90.403,90.403,90.381,90.381,90.381,90.381,90.381,90.381,90.381,90.381,90.381,90.365,90.365,90.3845,90.381,90.365,90.381],\"marker\":{\"color\":\"red\",\"size\":9},\"mode\":\"markers+text\",\"name\":\"\",\"showlegend\":false,\"subplot\":\"mapbox\",\"text\":[\"Gulshan 1, Gulshan\",\"Lake Circus Road, Kalabagan\",\"Shukrabad, Dhanmondi\",\"Block L, Bashundhara R-A\",\"Road No 25, Banani\",\"Middle Badda, Badda\",\"Block B, Bashundhara R-A\",\"Block D, Bashundhara R-A\",\"Matuail, Demra\",\"Block H, Aftab Nagar\",\"West Dolairpar, Shyampur\",\"West Dolairpar, Shyampur\",\"West Dolairpar, Shyampur\",\"Block B, Bashundhara R-A\",\"Block H, Aftab Nagar\",\"Sector 10, Uttara\",\"Sector 10, Uttara\",\"Sector 6, Uttara\",\"Lake Circus Road, Kalabagan\",\"Block H, Bashundhara R-A\",\"Block J, Bashundhara R-A\",\"Gulshan 2, Gulshan\",\"Free School Street, Kathalbagan\",\"Gulshan 1, Gulshan\",\"Baitul Aman Housing Society, Adabor\",\"Section 6, Mirpur\",\"Sector 4, Uttara\",\"Nobodoy Housing Society, Mohammadpur\",\"Free School Street, Kathalbagan\",\"Pallabi, Mirpur\",\"Sector 7, Uttara\",\"Block C, Niketan\",\"Vashani Goli, Shantinagar\",\"Gandaria, Sutrapur\",\"Dhaka Uddan, Mohammadpur\",\"West Shewrapara, Mirpur\",\"Section 1, Mirpur\",\"South Chalabon, Dakshin Khan\",\"West Agargaon, Agargaon\",\"Section 6, Mirpur\",\"Section 12, Mirpur\",\"Dakkhin Paikpara, Mirpur\",\"Keraniganj\",\"Kadamtali, Shyampur\",\"Kadamtali, Shyampur\",\"Block C, Aftab Nagar\",\"Jahuri Moholla, Mohammadpur\",\"Section 2, Mirpur\",\"Kallyanpur, Mirpur\",\"West Rampura, Rampura\",\"Madhya Ajampur, Dakshin Khan\",\"Mohammadia Housing Society, Mohammadpur\",\"Uttar Badda, Badda\",\"Block C, Niketan\",\"North Ibrahimpur, Ibrahimpur\",\"Dakhshin Para, Mohakhali\",\"West Agargaon, Agargaon\",\"Sector 11, Uttara\",\"Gulshan 1, Gulshan\",\"North Circular Road, Dhanmondi\",\"Block B, Bashundhara R-A\",\"Block B, Lalmatia\",\"West Shewrapara, Mirpur\",\"Section 15, Mirpur\",\"Block C, Khilgaon\",\"Block I, Bashundhara R-A\",\"Pallabi, Mirpur\",\"Hatir Jheel Link Road, Tejgaon\",\"Pirerbag, Mirpur\",\"Section 10, Mirpur\",\"Block J, Bashundhara R-A\",\"Boro Maghbazar, Maghbazar\",\"Block B, Banasree\",\"East Shewrapara, Mirpur\",\"Sector 7, Uttara\",\"Sector 10, Uttara\",\"Pirerbag, Mirpur\",\"East Monipur, Mirpur\",\"Pirerbag, Mirpur\",\"Pallabi, Mirpur\",\"Imandipur, Savar\",\"East Monipur, Mirpur\",\"East Monipur, Mirpur\",\"Sector 5, Uttara\",\"Block B, Banasree\",\"Block A, Banasree\",\"Block J, Bashundhara R-A\",\"Gulbag, Malibagh\",\"West Shewrapara, Mirpur\",\"Middle Monipur, Mirpur\",\"Middle Monipur, Mirpur\",\"Manikdi, Cantonment\",\"East Kazipara, Mirpur\",\"Rupnagar R\\u002fA, Mirpur\",\"West Kazipara, Mirpur\",\"Sector 4, Uttara\",\"Section 6, Mirpur\",\"Hemayetpur, Savar\",\"Pirerbag, Mirpur\",\"Section 10, Mirpur\",\"Moushair, Dakshin Khan\",\"Block F, Bashundhara R-A\",\"Ahmed Nagar, Mirpur\",\"Hemayetpur, Savar\",\"Radio Colony, Savar\",\"Block C, Bashundhara R-A\",\"Section 1, Mirpur\",\"Ahmed Nagar, Mirpur\",\"Road No 12A, Dhanmondi\",\"Block C, Bashundhara R-A\",\"Sector 9, Uttara\",\"South Chalabon, Dakshin Khan\",\"West Agargaon, Agargaon\",\"Block B, Bashundhara R-A\",\"Section 12, Mirpur\",\"Section 10, Mirpur\",\"Sector 5, Uttara\",\"Ashkona, Dakshin Khan\",\"Section 10, Mirpur\",\"East Rampura, Rampura\",\"Block D, Bashundhara R-A\",\"West Rampura, Rampura\",\"Baitul Aman Housing Society, Adabor\",\"Sector 12, Uttara\",\"Mirpur DOHS, Mirpur\",\"Sector 3, Uttara\",\"Block C, Aftab Nagar\",\"South Badda, Badda\",\"Sector 13, Uttara\",\"Block E, Aftab Nagar\",\"Block C, Banasree\",\"Mansurabad Housing Society, Adabor\",\"West Shewrapara, Mirpur\",\"Block G, Banasree\",\"Uttar Badda, Badda\",\"Sector 18, Uttara\",\"East Kazipara, Mirpur\",\"Pirerbag, Mirpur\",\"Middle Badda, Badda\",\"Moushair, Dakshin Khan\",\"Uttar Badda, Badda\",\"Uttar Badda, Badda\",\"Middle Badda, Badda\",\"Paikpara, Mirpur\",\"Section 1, Mirpur\",\"Section 1, Mirpur\",\"Block C, Aftab Nagar\",\"Sector 12, Uttara\",\"Block J, Banasree\",\"Section 6, Mirpur\",\"Block G, Bashundhara R-A\",\"Block G, Bashundhara R-A\",\"Block C, Bashundhara R-A\",\"Sector 15, Uttara\",\"Sector 15, Uttara\",\"Sector 13, Uttara\",\"Block B, Bashundhara R-A\",\"Middle Badda, Badda\",\"Sector 11, Uttara\",\"Block K, Bashundhara R-A\",\"Block E, Bashundhara R-A\",\"Block E, Bashundhara R-A\",\"Matikata, Cantonment\",\"Block B, Bashundhara R-A\",\"Sector 4, Uttara\",\"Bashundhara Road, Bashundhara R-A\",\"Pallabi, Mirpur\",\"Block G, Banasree\",\"Section 1, Mirpur\",\"South Mollartek, Dakshin Khan\",\"Circular Road, Dhanmondi\",\"Block J, Banasree\",\"Section 6, Mirpur\",\"Pallabi, Mirpur\",\"Aainusbag, Dakshin Khan\",\"Rupnagar R\\u002fA, Mirpur\",\"Rupnagar R\\u002fA, Mirpur\",\"Section 12, Mirpur\",\"Section 12, Mirpur\",\"Shiddheswari Lane, Shiddheswari\",\"Section 1, Mirpur\",\"Sector 10, Uttara\",\"Section 6, Mirpur\",\"Section 2, Mirpur\",\"Section 10, Mirpur\",\"Section 2, Mirpur\",\"Section 2, Mirpur\",\"Sector 3, Uttara\",\"Zakir Hosain Road, Mohammadpur\",\"Section 11, Mirpur\",\"Arambag Residential Area, Mirpur\",\"Block J, Bashundhara R-A\",\"Block J, Bashundhara R-A\",\"Naya Paltan, Motijheel\",\"Section 10, Mirpur\",\"Section 10, Mirpur\",\"Section 10, Mirpur\",\"Section 10, Mirpur\",\"Jagannathpur, Badda\",\"Block J, Bashundhara R-A\",\"West Agargaon, Agargaon\",\"Block B, Banasree\",\"Block I, Bashundhara R-A\",\"Dakkhin Paikpara, Mirpur\",\"Mirpur DOHS, Mirpur\",\"Bash Bari Road, Mohammadpur\",\"Taltola, Agargaon\",\"Mirpur DOHS, Mirpur\",\"Sector 12, Uttara\",\"Section 1, Mirpur\",\"West Shewrapara, Mirpur\",\"West Shewrapara, Mirpur\",\"Bagan Bari, Cantonment\",\"Rupnagar R\\u002fA, Mirpur\",\"Manikdi, Cantonment\",\"Purana Paltan, Motijheel\",\"Mirpur DOHS, Mirpur\",\"Pirerbag, Mirpur\",\"Block J, Bashundhara R-A\",\"Sector 18, Uttara\",\"Pirerbag, Mirpur\",\"Block C, Bashundhara R-A\",\"Sector 9, Uttara\",\"Goltek, Cantonment\",\"Ahmed Nagar, Mirpur\",\"West Shewrapara, Mirpur\",\"Section 12, Mirpur\",\"Katashur, Mohammadpur\",\"Sector 6, Uttara\",\"Malibag Bazar Rd, Malibagh\",\"Block E, Aftab Nagar\",\"Block E, Aftab Nagar\",\"Ahmed Nagar, Mirpur\",\"Block C, Bashundhara R-A\",\"Block I, Bashundhara R-A\",\"Sector 10, Uttara\",\"East Azampur, Dakshin Khan\",\"Sector 10, Uttara\",\"North Goran, Khilgaon\",\"Ibrahimpur Bazar Road, Ibrahimpur\",\"Rupnagar R\\u002fA, Mirpur\",\"Rupnagar R\\u002fA, Mirpur\",\"Block L, Bashundhara R-A\",\"Block C, Bashundhara R-A\",\"Sector 4, Uttara\",\"Road No 5, Banani DOHS\",\"Jigatola, Hazaribag\",\"Jigatola, Hazaribag\",\"West Rampura, Rampura\",\"Baigertek, Cantonment\",\"Block J, Banasree\",\"Jahuri Moholla, Mohammadpur\",\"Jahuri Moholla, Mohammadpur\",\"West Dhanmondi and Shangkar, Dhanmondi\",\"Ahmed Nagar, Mirpur\",\"Free School Street, Kathalbagan\",\"Ahmed Nagar, Mirpur\",\"New Eskaton Road, Eskaton\",\"Rupnagar R\\u002fA, Mirpur\",\"Baitul Aman Housing Society, Adabor\",\"Section 10, Mirpur\",\"Section 10, Mirpur\",\"Section 6, Mirpur\",\"Section 6, Mirpur\",\"Section 2, Mirpur\",\"Bochila, Mohammadpur\",\"Bochila, Mohammadpur\",\"2nd Colony, Mirpur\",\"Block C, Bashundhara R-A\",\"Section 15, Mirpur\",\"Faydabad, Dakshin Khan\",\"Doniya, Shyampur\",\"Doniya, Shyampur\",\"Mirpur DOHS, Mirpur\",\"Section 1, Mirpur\",\"Block E, Banasree\",\"Rayer Bazaar, Hazaribag\",\"Sector 5, Uttara\",\"South Banasree Project, Banasree\",\"Section 11, Mirpur\",\"Free School Street, Hatirpool\",\"Free School Street, Kathalbagan\",\"Block I, Bashundhara R-A\",\"Section 1, Mirpur\",\"Pirerbag, Mirpur\",\"Rayer Bazaar, Hazaribag\",\"Section 12, Mirpur\",\"West Shewrapara, Mirpur\",\"Middle Monipur, Mirpur\",\"Middle Paikpara, Mirpur\",\"Paikpara, Mirpur\",\"Pirerbag, Mirpur\",\"Kallyanpur, Mirpur\",\"Kutum Goli, Agargaon\",\"Purana Paltan, Motijheel\",\"West Kazipara, Mirpur\",\"Malibag Bazar Rd, Malibagh\",\"Block G, Bashundhara R-A\",\"Paikpara, Mirpur\",\"Nikunja 2, Nikunja\",\"East Kazipara, Mirpur\",\"Section 11, Mirpur\",\"Section 2, Mirpur\",\"Block D, Bashundhara R-A\",\"Section 11, Mirpur\",\"Block A, Bashundhara R-A\",\"Boro Maghbazar, Maghbazar\",\"Sector 18, Uttara\",\"Block J, Bashundhara R-A\",\"Outer Circular Road, Shiddheswari\",\"Shiddeswari Road, Shiddheswari\",\"Block H, Banasree\",\"Block C, Bashundhara R-A\",\"North Azampur, Dakshin Khan\",\"Road No 18, Banani\",\"Sector 13, Uttara\",\"Block G, Bashundhara R-A\",\"Pallabi, Mirpur\",\"Section 15, Mirpur\",\"Pirerbag, Mirpur\",\"Ashi Dag Road, Ibrahimpur\",\"Bazar Road, Dumni\",\"Bazar Road, Dumni\",\"Bazar Road, Dumni\",\"Bazar Road, Dumni\",\"Middle Paikpara, Mirpur\",\"Ahmed Nagar, Mirpur\",\"Section 1, Mirpur\",\"Sector 6, Uttara\",\"Chikha Bazar, Ibrahimpur\",\"Section 12, Mirpur\",\"Gulshan 1, Gulshan\",\"Section 11, Mirpur\",\"Free School Street, Kathalbagan\",\"West Dhanmondi and Shangkar, Dhanmondi\",\"Middle Monipur, Mirpur\",\"Middle Monipur, Mirpur\",\"Road No 7, Dhanmondi\",\"Sector 10, Uttara\",\"Rajabazar, Tejgaon\",\"Block L, Bashundhara R-A\",\"Section 1, Mirpur\",\"Block E, Bashundhara R-A\",\"Uttar Badda, Badda\",\"South Keraniganj, Keraniganj\",\"South Keraniganj, Keraniganj\",\"South Keraniganj, Keraniganj\",\"Shukrabad, Dhanmondi\",\"Gopibag, Motijheel\",\"Pallabi, Mirpur\",\"Pirerbag, Mirpur\",\"Mirpur DOHS, Mirpur\",\"Middle Badda, Badda\",\"Sector 7, Uttara\",\"Bir Uttam Rafiqul Islam Avenue, Badda\",\"Section 12, Mirpur\",\"Section 12, Mirpur\",\"Block F, Banasree\",\"Rayer Bazaar, Hazaribag\",\"Block J, Bashundhara R-A\",\"Block J, Bashundhara R-A\",\"Section 6, Mirpur\",\"Section 6, Mirpur\",\"Middle Monipur, Mirpur\",\"Middle Monipur, Mirpur\",\"Middle Monipur, Mirpur\",\"Sector 7, Uttara\",\"Darussalam, Mirpur\",\"aziz Moholla, Mohammadpur\",\"Ashkona, Dakshin Khan\",\"Ashkona, Dakshin Khan\",\"West Dhanmondi and Shangkar, Dhanmondi\",\"West Shewrapara, Mirpur\",\"Section 12, Mirpur\",\"Section 12, Mirpur\",\"Block F, Bashundhara R-A\",\"Section 12, Mirpur\",\"South Kafrul Road, Kafrul\",\"Pallabi, Mirpur\",\"West Shewrapara, Mirpur\",\"Pallabi, Mirpur\",\"Section 1, Mirpur\",\"Block F, Bashundhara R-A\",\"North Ibrahimpur, Ibrahimpur\",\"Road No 10A, Dhanmondi\",\"Uttar Badda, Badda\",\"Block F, Aftab Nagar\",\"Uttar Badda, Badda\",\"Section 6, Mirpur\",\"Ahmed Nagar, Mirpur\",\"Sat Masjid Housing, Mohammadpur\",\"Shahjadpur, Badda\",\"Kamal Khan Road, Ibrahimpur\",\"Shahjadpur, Badda\",\"Shahjadpur, Badda\",\"Shahjadpur, Badda\",\"West Shewrapara, Mirpur\",\"West Shewrapara, Mirpur\",\"West Shewrapara, Mirpur\",\"Bank Colony, Savar\",\"Middle Monipur, Mirpur\",\"Middle Monipur, Mirpur\",\"Middle Monipur, Mirpur\",\"Middle Monipur, Mirpur\",\"Middle Monipur, Mirpur\",\"1st Colony, Mirpur\",\"Section 10, Mirpur\",\"Section 10, Mirpur\",\"Section 10, Mirpur\",\"Block A, Bashundhara R-A\",\"West Kazipara, Mirpur\",\"Block H, Bashundhara R-A\",\"East Monipur, Mirpur\",\"Block I, Bashundhara R-A\",\"South Monipur, Mirpur\",\"South Monipur, Mirpur\",\"South Monipur, Mirpur\",\"Section 10, Mirpur\",\"Section 15, Mirpur\",\"Block I, Bashundhara R-A\",\"Lichu Bagan Road, Joar Sahara\",\"Pirerbag, Mirpur\",\"Section 10, Mirpur\",\"Middle Monipur, Mirpur\",\"Middle Monipur, Mirpur\",\"Middle Monipur, Mirpur\",\"Nadda Kacha Bazar Road, Nadda\",\"Pallabi, Mirpur\",\"Pallabi, Mirpur\",\"Pallabi, Mirpur\",\"Section 2, Mirpur\",\"Kha Para, Khilkhet\",\"Kha Para, Khilkhet\",\"Kha Para, Khilkhet\",\"Kha Para, Khilkhet\",\"Block H, Bashundhara R-A\",\"Kallyanpur, Mirpur\",\"Block I, Bashundhara R-A\",\"Uttar Badda, Badda\",\"Ahmed Nagar, Mirpur\",\"Section 2, Mirpur\",\"Section 2, Mirpur\",\"Section 10, Mirpur\",\"West Shewrapara, Mirpur\",\"South Banasree Project, Banasree\",\"Sector 7, Uttara\",\"Manikdi, Cantonment\",\"Section 1, Mirpur\",\"North Azampur, Dakshin Khan\",\"Tilpapara, Khilgaon\",\"1st Colony, Mirpur\",\"Section 1, Mirpur\",\"Boro Maghbazar, Maghbazar\",\"Kallyanpur, Mirpur\",\"Khilbari Tek, Badda\",\"Khilbari Tek, Badda\",\"Section 10, Mirpur\",\"Outer Circular Road, Shiddheswari\",\"Outer Circular Road, Shiddheswari\",\"Sector 1, Uttara\",\"Sector 11, Uttara\",\"Amtola Masjid Goli Road, North Shahjahanpur\",\"Section 10, Mirpur\",\"Section 12, Mirpur\",\"Block I, Bashundhara R-A\",\"Block I, Bashundhara R-A\",\"Sector 1, Uttara\",\"West Shewrapara, Mirpur\",\"West Shewrapara, Mirpur\",\"South Monipur, Mirpur\",\"Ali And Nur Real Estate, Mohammadpur\",\"2nd Colony, Mirpur\",\"Bochila, Mohammadpur\",\"Faydabad, Dakshin Khan\",\"Faydabad, Dakshin Khan\",\"Faydabad, Dakshin Khan\",\"Faydabad, Dakshin Khan\",\"Block J, Bashundhara R-A\",\"Block D, Bashundhara R-A\",\"Amtola, Khilkhet\",\"Block A, Bashundhara R-A\",\"Malibag College Road, Malibagh\",\"Malibagh Chowdhury Para, Malibagh\",\"Nayatola, Maghbazar\",\"Block B, Banasree\",\"Ahmed Nagar, Mirpur\",\"Sector 4, Uttara\",\"Block J, Bashundhara R-A\",\"Ring Road, Mohammadpur\",\"Mirpur DOHS, Mirpur\",\"Mirpur DOHS, Mirpur\",\"Shantinagar Bazar Rd, Shantinagar\",\"Shantinagar Bazar Rd, Shantinagar\",\"Mirpur DOHS, Mirpur\",\"Nayatola, Maghbazar\",\"West Rampura, Rampura\",\"Block F, Banasree\",\"Madartek, Bashabo\",\"Ring Road, Shyamoli\",\"Nobodoy Housing Society, Mohammadpur\",\"Pallabi, Mirpur\",\"Sector 15, Uttara\",\"Section 2, Mirpur\",\"Ranavola, Turag\",\"Elephant Road, Hatirpool\",\"East Monipur, Mirpur\",\"Section 10, Mirpur\",\"North Ibrahimpur, Ibrahimpur\",\"Block K, Bashundhara R-A\",\"Primary school Road, Ibrahimpur\",\"Section 12, Mirpur\",\"Pirerbag, Mirpur\",\"Section 1, Mirpur\",\"Vashantek, Cantonment\",\"Pirerbag, Mirpur\",\"Sector 3, Uttara\",\"Doctor Goli, Maghbazar\",\"Section 12, Mirpur\",\"Section 2, Mirpur\",\"Sobur khan Road, Dakshin Khan\",\"Kamal Khan Road, Ibrahimpur\",\"East Azampur, Dakshin Khan\",\"Pirerbag, Mirpur\",\"Indira Road, Tejgaon\",\"Middle Badda, Badda\",\"Sector 18, Uttara\",\"Block J, Baridhara\",\"West Nakhalpara, Tejgaon\",\"Middle Paikpara, Mirpur\",\"Block C, Bashundhara R-A\",\"Middle Paikpara, Mirpur\",\"Block J, Bashundhara R-A\",\"Block J, Bashundhara R-A\",\"Pallabi, Mirpur\",\"Iqbal Road, Mohammadpur\",\"Section 12, Mirpur\",\"West Monipur, Mirpur\",\"East Shewrapara, Mirpur\",\"Chandrima Model Town, Mohammadpur\",\"Mirpur Road, Mohammadpur\",\"Road No 11A, Dhanmondi\",\"Section 6, Mirpur\",\"Section 15, Mirpur\",\"Faydabad, Dakshin Khan\",\"Block D, Bashundhara R-A\",\"Ashkona, Dakshin Khan\",\"Ashkona, Dakshin Khan\",\"Chalabon, Dakshin Khan\",\"Manikdi, Cantonment\",\"Section 10, Mirpur\",\"Section 10, Mirpur\",\"Section 6, Mirpur\",\"Sector 13, Uttara\",\"Section 10, Mirpur\",\"Faydabad, Dakshin Khan\",\"Shekhertek, Mohammadpur\",\"East Shewrapara, Mirpur\",\"Section 12, Mirpur\",\"Kallyanpur, Mirpur\",\"Rupnagar R\\u002fA, Mirpur\",\"East Monipur, Mirpur\",\"Kallyanpur, Mirpur\",\"Rupnagar R\\u002fA, Mirpur\",\"Sector 14, Uttara\",\"Section 11, Mirpur\",\"Block K, Bashundhara R-A\",\"Gandaria, Sutrapur\",\"Sector 4, Uttara\",\"Road No 18, Banani\",\"Sector 4, Uttara\",\"Section 6, Mirpur\",\"Block G, Banasree\",\"Panthapath Main Road, Kalabagan\",\"West Kazipara, Mirpur\",\"Sector 13, Uttara\",\"Block K, Bashundhara R-A\",\"West Monipur, Mirpur\",\"West Monipur, Mirpur\",\"West Monipur, Mirpur\",\"Uttar Badda, Badda\",\"Ahmed Nagar, Mirpur\",\"Ahmed Nagar, Mirpur\",\"Pallabi, Mirpur\",\"Block F, Banasree\",\"Pallabi, Mirpur\",\"Block E, Banasree\",\"Section 7, Mirpur\",\"Section 7, Mirpur\",\"Gulshan 2, Gulshan\",\"Shekhertek, Mohammadpur\",\"Green Road, Kalabagan\",\"West Nakhalpara, Tejgaon\",\"North Kafrul Rd, Kafrul\",\"Monipuri School Road, Ibrahimpur\",\"Ahmed Nagar, Mirpur\",\"Taltola, Agargaon\",\"Section 6, Mirpur\",\"Sector 9, Uttara\",\"Block D, Bashundhara R-A\",\"Block E, Bashundhara R-A\",\"Section 1, Mirpur\",\"Jigatola, Hazaribag\",\"Section 10, Mirpur\",\"Ranavola, Turag\",\"Section 12, Mirpur\",\"Section 12, Mirpur\",\"Ahmed Nagar, Mirpur\",\"Ahmed Nagar, Mirpur\",\"Ahmed Nagar, Mirpur\",\"East Kazipara, Mirpur\",\"Ahmed Nagar, Mirpur\",\"West Shewrapara, Mirpur\",\"Section 7, Mirpur\",\"Section 1, Mirpur\",\"East Kazipara, Mirpur\",\"Block A, Bashundhara R-A\",\"East Kazipara, Mirpur\",\"Sector 12, Uttara\",\"Section 15, Mirpur\",\"Middle Monipur, Mirpur\",\"Sector 12, Uttara\",\"Taltola, Agargaon\",\"Section 1, Mirpur\",\"Section 1, Mirpur\",\"Sector 12, Uttara\",\"Faydabad, Dakshin Khan\",\"South Baridhara Residential Area,D. I. T. Project, Badda\",\"Block F, Bashundhara R-A\",\"Block F, Bashundhara R-A\",\"Sector 11, Uttara\",\"Middle Monipur, Mirpur\",\"Block F, Bashundhara R-A\",\"Madhya Ajampur, Dakshin Khan\",\"Rupnagar R\\u002fA, Mirpur\",\"Merul Badda, Badda\",\"Nobodoy Housing Society, Mohammadpur\",\"Section 10, Mirpur\",\"Merul Badda, Badda\",\"Merul Badda, Badda\",\"Outer Circular Road, Maghbazar\",\"Chandrima Model Town, Mohammadpur\",\"Block D, Aftab Nagar\",\"Block C, Lalmatia\",\"Block C, Lalmatia\",\"Babar Road, Mohammadpur\",\"Section 6, Mirpur\",\"Sector 6, Uttara\",\"2nd Colony, Mirpur\",\"Bash Bari Road, Mohammadpur\",\"North Kafrul Road, Ibrahimpur\",\"Jhigatola Road, Dhanmondi\",\"Manikdi, Cantonment\",\"Sector 11, Uttara\",\"Mirbag Notun Rasta, Maghbazar\",\"Section 1, Mirpur\",\"Block H, Banasree\",\"Sector 10, Uttara\",\"Dorji Bari Road, Khilkhet\",\"Section 1, Mirpur\",\"Section 10, Mirpur\",\"Section 10, Mirpur\",\"East Rampura, Rampura\",\"Darussalam, Mirpur\",\"Section 10, Mirpur\",\"Block C, Bashundhara R-A\",\"West Kazipara, Mirpur\",\"Section 2, Mirpur\",\"Section 6, Mirpur\",\"Manikdi, Cantonment\",\"Khilbari Tek, Badda\",\"Block J, Banasree\",\"Uttar Badda, Badda\",\"Shahjadpur, Badda\",\"Block G, Aftab Nagar\",\"Block E, Aftab Nagar\",\"Block F, Aftab Nagar\",\"Shantinagar Road, Shantinagar\",\"Taltola, Khilgaon\",\"Block I, Bashundhara R-A\",\"Kallyanpur, Mirpur\",\"Section 1, Mirpur\",\"Baitul Aman Housing Society, Adabor\",\"East Kazipara, Mirpur\",\"East Kazipara, Mirpur\",\"East Kazipara, Mirpur\",\"East Kazipara, Mirpur\",\"Section 10, Mirpur\",\"East Kazipara, Mirpur\",\"Block D, Banasree\",\"Block B, Lalmatia\",\"East Kazipara, Mirpur\",\"Kallyanpur, Mirpur\",\"Pallabi, Mirpur\",\"Block H, Aftab Nagar\",\"Uttar Badda, Badda\",\"Topkhana Road, Shegunbagicha\",\"Section 12, Mirpur\",\"Block C, Bashundhara R-A\",\"Block C, Bashundhara R-A\",\"Shahjadpur, Badda\",\"Agargaon\",\"Kallyanpur, Mirpur\",\"Arambag Residential Area, Mirpur\",\"Section 12, Mirpur\",\"Taltola, Khilgaon\",\"Sector 3, Uttara\",\"Middle Badda, Badda\",\"Mirpur DOHS, Mirpur\",\"Section 1, Mirpur\",\"Section 12, Mirpur\",\"East Shewrapara, Mirpur\",\"Baitul Aman Housing Society, Adabor\",\"East Rampura, Rampura\",\"Katashur, Mohammadpur\",\"Pirerbag, Mirpur\",\"Block K, Bashundhara R-A\",\"Block D, Bashundhara R-A\",\"Ahmed Nagar, Mirpur\",\"Ahmed Nagar, Mirpur\",\"Block K, Bashundhara R-A\",\"Dhaka Housing Main Road, Adabor\",\"Free School Street, Kathalbagan\",\"Free School Street, Kathalbagan\",\"Block J, Banasree\",\"Section 2, Mirpur\",\"Road No 5, Dhanmondi\",\"Rupnagar R\\u002fA, Mirpur\",\"Block G, Banasree\",\"Block G, Banasree\",\"Section 2, Mirpur\",\"Block K, Bashundhara R-A\",\"Block K, Bashundhara R-A\",\"Sector 12, Uttara\",\"Sector 12, Uttara\",\"Mohammadi Housing LTD., Mohammadpur\",\"East Bashabo, Bashabo\",\"South Mollartek, Dakshin Khan\",\"Baitul Aman Housing Society, Adabor\",\"Middle Monipur, Mirpur\",\"Riazbag, Khilgaon\",\"Block M, Aftab Nagar\",\"Sector 18, Uttara\",\"Uttar Badda, Badda\",\"Uttar Badda, Badda\",\"1st Colony, Mirpur\",\"Block K, Bashundhara R-A\",\"Block K, Bashundhara R-A\",\"Shahidbag, Malibagh\",\"Pirerbag, Mirpur\",\"Block H, Aftab Nagar\",\"Muslim Modern College Road, Kachukhet\",\"West Shewrapara, Mirpur\",\"Kutum Goli, Agargaon\",\"Kutum Goli, Agargaon\",\"Srjani road, Ibrahimpur\",\"Lichu Bagan Road, Joar Sahara\",\"Kallyanpur, Mirpur\",\"Pallabi, Mirpur\",\"Pallabi, Mirpur\",\"Pallabi, Mirpur\",\"Shahjadpur, Badda\",\"Shahjadpur, Badda\",\"Paikpara, Mirpur\",\"Section 12, Mirpur\",\"Section 12, Mirpur\",\"Faydabad, Dakshin Khan\",\"Jagannathpur, Badda\",\"Uttar Badda, Badda\",\"Ashulia, Savar\",\"Merul Badda, Badda\",\"Section 12, Mirpur\",\"East Monipur, Mirpur\",\"Pallabi, Mirpur\",\"East Kazipara, Mirpur\",\"Block F, Bashundhara R-A\",\"Section 12, Mirpur\",\"Middle Monipur, Mirpur\",\"Block B, Bashundhara R-A\",\"Lake Circus Road, Kalabagan\",\"Block F, Banasree\",\"Kallyanpur, Mirpur\",\"Kallyanpur, Mirpur\",\"Pirerbag, Mirpur\",\"Ahmed Nagar, Mirpur\",\"Block B, Banasree\",\"Block L, Bashundhara R-A\",\"Bochila, Mohammadpur\",\"Block H, Bashundhara R-A\",\"Road No 2, Banani DOHS\",\"Road No 2, Banani DOHS\",\"Nobodoy Housing Society, Mohammadpur\",\"Block C, Aftab Nagar\",\"Tajmahal Road, Mohammadpur\",\"Block A, Aftab Nagar\",\"Iqbal Road, Mohammadpur\",\"West Shewrapara, Mirpur\",\"West Shewrapara, Mirpur\",\"Paikpara, Mirpur\",\"Pragati Soroni, Kuril\",\"Dakkhin Paikpara, Mirpur\",\"Road No 9A, Dhanmondi\",\"Puran Para, Uttar Khan\",\"Puran Para, Uttar Khan\",\"West Agargaon, Agargaon\",\"West Agargaon, Agargaon\",\"Section 11, Mirpur\",\"Section 11, Mirpur\",\"2nd Colony, Mirpur\",\"Section 1, Mirpur\",\"Section 11, Mirpur\",\"Darussalam, Mirpur\",\"Darussalam, Mirpur\",\"North Ibrahimpur, Ibrahimpur\",\"Manikdi, Cantonment\",\"Section 1, Mirpur\",\"Section 1, Mirpur\",\"Middle Paikpara, Mirpur\",\"Middle Paikpara, Mirpur\",\"Block I, Bashundhara R-A\",\"Nurjahan Road, Mohammadpur\",\"Shekhertek, Mohammadpur\",\"West Monipur, Mirpur\",\"West Monipur, Mirpur\",\"West Monipur, Mirpur\",\"Pirerbag, Mirpur\",\"West Shewrapara, Mirpur\",\"West Monipur, Mirpur\",\"North Ibrahimpur, Ibrahimpur\",\"Taltola, Agargaon\",\"Pirerbag, Mirpur\",\"PC Culture Housing, Mohammadpur\",\"Block B, Bashundhara R-A\",\"Ahmed Nagar, Mirpur\",\"Paikpara, Mirpur\",\"Pallabi, Mirpur\",\"Sector 5, Uttara\",\"Section 10, Mirpur\",\"Block C, Bashundhara R-A\",\"Section 12, Mirpur\",\"School Road, Khilkhet\",\"Block F, Bashundhara R-A\",\"Mirpur DOHS, Mirpur\",\"Section 10, Mirpur\",\"South Banasree Project, Banasree\",\"Chandrima Model Town, Mohammadpur\",\"Sector 10, Uttara\",\"Keraniganj\",\"Section 10, Mirpur\",\"Section 10, Mirpur\",\"Dakkhin Paikpara, Mirpur\",\"Dakkhin Paikpara, Mirpur\",\"Luxmibazar, Sutrapur\",\"Luxmibazar, Sutrapur\",\"Luxmibazar, Sutrapur\",\"Ahmed Nagar, Mirpur\",\"Dakkhin Paikpara, Mirpur\",\"Kadamtali, Shyampur\",\"Block F, Bashundhara R-A\",\"Block E, Banasree\",\"Sector 13, Uttara\",\"Bashabo Madartek Road, Bashabo\",\"Block I, Bashundhara R-A\",\"Kazi Nazrul Islam Avenue, Banglamotors\",\"West Mollartek, Dakshin Khan\",\"Section 2, Mirpur\",\"Middle Paikpara, Mirpur\",\"Section 11, Mirpur\",\"Mirpur DOHS, Mirpur\",\"North Kafrul Road, Ibrahimpur\",\"Section 11, Mirpur\",\"Section 11, Mirpur\",\"Paikpara, Mirpur\",\"Block M, Bashundhara R-A\",\"Section 6, Mirpur\",\"Section 6, Mirpur\",\"Sector 10, Uttara\",\"Ring Road, Shyamoli\",\"Section 13, Mirpur\",\"Block G, Bashundhara R-A\",\"Kallyanpur, Mirpur\",\"Section 11, Mirpur\",\"Ashkona, Dakshin Khan\",\"Section 1, Mirpur\",\"Middle Monipur, Mirpur\",\"Block D, Bashundhara R-A\",\"Lalkuthi, Mirpur\",\"Section 2, Mirpur\",\"East Kazipara, Mirpur\",\"Manikdi, Cantonment\",\"Block D, Bashundhara R-A\",\"East Kafrul Road, Kafrul\",\"Sector 12, Uttara\",\"1st Colony, Mirpur\",\"Baitul Aman Housing Society, Adabor\",\"Pirerbag, Mirpur\",\"Anando Road, Ibrahimpur\",\"Anando Road, Ibrahimpur\",\"Ibrahimpur Bazar Road, Ibrahimpur\",\"Kutum Goli, Agargaon\",\"PC Culture Housing, Mohammadpur\",\"Lalasarai Road, Kachukhet\",\"Block E, Bashundhara R-A\",\"Block J, Bashundhara R-A\",\"South Kafrul Road, Kafrul\",\"Shahjadpur, Badda\",\"Gulshan 1, Gulshan\",\"Gawair, Dakshin Khan\",\"Sector 3, Uttara\",\"Block D, Bashundhara R-A\",\"Block C, Bashundhara R-A\",\"Malibagh Chowdhury Para, Malibagh\",\"East Kazipara, Mirpur\",\"Sector 11, Uttara\",\"Darussalam, Mirpur\",\"Section 11, Mirpur\",\"East Monipur, Mirpur\",\"Section 11, Mirpur\",\"Kachukhet Road, Mirpur\",\"Block D, Bashundhara R-A\",\"Salimullah Road, Mohammadpur\",\"East Kazipara, Mirpur\",\"North Ibrahimpur, Ibrahimpur\",\"Sector 5, Uttara\",\"2nd Colony, Mirpur\",\"Rupnagar R\\u002fA, Mirpur\",\"Pirerbag, Mirpur\",\"Block D, Aftab Nagar\",\"Sector 11, Uttara\",\"Block B, Bashundhara R-A\",\"South Chalabon, Dakshin Khan\",\"Mirpur DOHS, Mirpur\",\"Ahmed Nagar, Mirpur\",\"Pirerbag, Mirpur\",\"New Circular Road, Shiddheswari\",\"Section 6, Mirpur\",\"Shiddheswari Lane, Shiddheswari\",\"Block J, Bashundhara R-A\",\"Block J, Bashundhara R-A\",\"Nobodoy Housing Society, Mohammadpur\",\"Nurer Chala, Badda\",\"Pirerbag, Mirpur\",\"Jigatola, Hazaribag\",\"Gulshan 1, Gulshan\",\"West Shewrapara, Mirpur\",\"Mirpur DOHS, Mirpur\",\"Ashi Dag Road, Ibrahimpur\",\"New Baily Road, Shiddheswari\",\"Kutum Goli, Agargaon\",\"Kutum Goli, Agargaon\",\"Monipuripara, Tejgaon\",\"Kuratoli, Kuril\",\"Kallyanpur, Mirpur\",\"Block I, Bashundhara R-A\",\"Section 11, Mirpur\",\"Section 12, Mirpur\",\"Nurjahan Road, Mohammadpur\",\"Section 12, Mirpur\",\"PC Culture Housing, Mohammadpur\",\"West Agargaon, Agargaon\",\"Shahjadpur, Badda\",\"Ahmed Nagar, Mirpur\",\"Darussalam, Mirpur\",\"Darussalam, Mirpur\",\"Darussalam, Mirpur\",\"Middle Paikpara, Mirpur\",\"Block I, Bashundhara R-A\",\"Meradia, Khilgaon\",\"Section 11, Mirpur\",\"Section 11, Mirpur\",\"Darussalam, Mirpur\",\"Darussalam, Mirpur\",\"Fakirapool, Motijheel\",\"Sector 4, Uttara\",\"Block K, Bashundhara R-A\",\"Shegunbagicha Road, Shegunbagicha\",\"Block K, Bashundhara R-A\",\"Block J, Bashundhara R-A\",\"Middle Badda, Badda\",\"Block C, Aftab Nagar\",\"Block F, Bashundhara R-A\",\"Purana Paltan, Motijheel\",\"East Rampura, Rampura\",\"Moushair, Dakshin Khan\",\"Pallabi, Mirpur\",\"Muslim Modern College Road, Kachukhet\",\"Madartek, Bashabo\",\"Motijheel Road, Motijheel\",\"Uttar Badda, Badda\",\"Uttar Badda, Badda\",\"Purana Paltan, Motijheel\",\"Block D, Bashundhara R-A\",\"Sector 10, Uttara\",\"Sector 10, Uttara\",\"Block K, Bashundhara R-A\",\"Sector 11, Uttara\",\"Block A, Bashundhara R-A\",\"Block H, Aftab Nagar\",\"Uttar Badda, Badda\",\"New Eskaton Road, Eskaton\",\"Block E, Aftab Nagar\",\"Section 11, Mirpur\",\"Section 1, Mirpur\",\"Madartek, Bashabo\",\"Block G, Lalmatia\",\"Sector 10, Uttara\",\"Road No 8, Baridhara DOHS\",\"Manoharpur, Kandirpar\",\"North Bagichagaon, Bagichagaon\",\"Mogbari Choumohoni, Chotora\",\"North Bagichagaon, Bagichagaon\",\"North Bagichagaon, Bagichagaon\",\"North Bagichagaon, Bagichagaon\",\"Mogbari Choumohoni, Chotora\",\"North Bagichagaon, Bagichagaon\",\"Shahid Khawaja Nizamuddin Road, Jhautola\",\"Shahid Khawaja Nizamuddin Road, Jhautola\",\"South Thakur Para, Thakur Para\",\"South Thakur Para, Thakur Para\",\"Shah Shuja Mosque Road, Moghultoli\",\"North Bagichagaon, Bagichagaon\",\"Nazrul Avenue, Ashoktala\",\"Shahid Khawaja Nizamuddin Road, Jhautola\",\"South Thakur Para, Thakur Para\",\"North Bagichagaon, Bagichagaon\",\"Shahid Khawaja Nizamuddin Road, Jhautola\",\"AK Fazlul Haq Road, Kandirpar\",\"North Bagichagaon, Bagichagaon\",\"South Thakur Para, Thakur Para\",\"Nazrul Avenue, Ashoktala\",\"Nazrul Avenue, Ashoktala\",\"North Bagichagaon, Bagichagaon\",\"North Bagichagaon, Bagichagaon\",\"Manoharpur, Kandirpar\",\"Manoharpur, Kandirpar\",\"Manoharpur, Kandirpar\",\"Madina Masjid Road, Thakur Para\",\"North Bagichagaon, Bagichagaon\",\"Baganbari Road, Thakur Para\",\"Manoharpur, Kandirpar\",\"North Bagichagaon, Bagichagaon\",\"Nazrul Avenue, Ashoktala\",\"North Bagichagaon, Bagichagaon\",\"Mogbari Choumohoni, Chotora\",\"Mogbari Choumohoni, Chotora\",\"Wooden Pole Road, Race Course\",\"South Bagichagaon, Bagichagaon\",\"Nazrul Avenue, Ashoktala\",\"West Bagichagoun, Bagichagaon\",\"North Bagichagaon, Bagichagaon\",\"Shaheed Shamsul Haque Sarak, Jhautola\",\"Manoharpur, Kandirpar\",\"North Bagichagaon, Bagichagaon\",\"North Bagichagaon, Bagichagaon\",\"North Bagichagaon, Bagichagaon\",\"West Bagichagoun, Bagichagaon\",\"Shah Shuja Mosque Road, Moghultoli\",\"Nazrul Avenue, Ashoktala\",\"South Thakur Para, Thakur Para\",\"North Bagichagaon, Bagichagaon\",\"AK Fazlul Haq Road, Kandirpar\",\"Sadar Hospital Road, Monohorpur\",\"South Thakur Para, Thakur Para\",\"North Bagichagaon, Bagichagaon\",\"Manoharpur, Kandirpar\",\"Manoharpur, Kandirpar\",\"Manoharpur, Kandirpar\",\"Madina Masjid Road, Thakur Para\",\"Madina Masjid Road, Thakur Para\",\"Madina Masjid Road, Thakur Para\",\"North Bagichagaon, Bagichagaon\",\"Shahid Khawaja Nizamuddin Road, Jhautola\",\"Shahid Khawaja Nizamuddin Road, Jhautola\",\"Shahid Khawaja Nizamuddin Road, Jhautola\",\"Shahid Khawaja Nizamuddin Road, Jhautola\",\"Mogbari Choumohoni, Chotora\",\"North Bagichagaon, Bagichagaon\",\"Shahid Khawaja Nizamuddin Road, Jhautola\",\"North Bagichagaon, Bagichagaon\",\"Mogbari Choumohoni, Chotora\",\"North Bagichagaon, Bagichagaon\",\"South Thakur Para, Thakur Para\",\"Baganbari Road, Thakur Para\",\"Baganbari Road, Thakur Para\",\"Madina Masjid Road, Thakur Para\",\"North Bagichagaon, Bagichagaon\",\"Nazrul Avenue, Ashoktala\",\"Manoharpur, Kandirpar\",\"Shahid Khawaja Nizamuddin Road, Jhautola\",\"North Bagichagaon, Bagichagaon\",\"North Bagichagaon, Bagichagaon\",\"Mogbari Choumohoni, Chotora\",\"Mogbari Choumohoni, Chotora\",\"North Bagichagaon, Bagichagaon\",\"West Bagichagoun, Bagichagaon\",\"North Bagichagaon, Bagichagaon\",\"North Bagichagaon, Bagichagaon\",\"North Bagichagaon, Bagichagaon\",\"Thakur Para Road, Thakur Para\",\"West Bagichagoun, Bagichagaon\",\"South Thakur Para, Thakur Para\",\"South Thakur Para, Thakur Para\",\"North Bagichagaon, Bagichagaon\",\"Mogbari Choumohoni, Chotora\",\"Shahid Khawaja Nizamuddin Road, Jhautola\",\"Manoharpur, Kandirpar\",\"Shahid Khawaja Nizamuddin Road, Jhautola\",\"Mogbari Choumohoni, Chotora\",\"Manoharpur, Kandirpar\",\"Manoharpur, Kandirpar\",\"Talpokur Par, Bagichagaon\",\"Shahid Khawaja Nizamuddin Road, Jhautola\",\"Shahid Khawaja Nizamuddin Road, Jhautola\",\"Shahid Khawaja Nizamuddin Road, Jhautola\",\"Shahid Khawaja Nizamuddin Road, Jhautola\",\"Shahid Khawaja Nizamuddin Road, Jhautola\",\"South Thakur Para, Thakur Para\",\"North Bagichagaon, Bagichagaon\",\"North Bagichagaon, Bagichagaon\",\"Shaheed Shamsul Haque Sarak, Jhautola\",\"North Bagichagaon, Bagichagaon\",\"North Race Course, Race Course\",\"South Thakur Para, Thakur Para\",\"South Thakur Para, Thakur Para\",\"South Thakur Para, Thakur Para\",\"Shahid Khawaja Nizamuddin Road, Jhautola\",\"South Thakur Para, Thakur Para\",\"Manoharpur, Kandirpar\",\"Manoharpur, Kandirpar\",\"Mogbari Choumohoni, Chotora\",\"Mogbari Choumohoni, Chotora\",\"North Bagichagaon, Bagichagaon\",\"West Bagichagoun, Bagichagaon\",\"Manoharpur, Kandirpar\",\"Shah Shuja Mosque Road, Moghultoli\",\"Shah Shuja Mosque Road, Moghultoli\",\"Shah Shuja Mosque Road, Moghultoli\",\"Mizmizi, Shiddhirganj\",\"Matuail, Demra\",\"Matuail, Demra\",\"Matuail, Demra\",\"Matuail, Demra\",\"Tongi, Gazipur Sadar Upazila\",\"Tongi, Gazipur Sadar Upazila\",\"Joydebpur, Gazipur Sadar Upazila\",\"Shimultoly, Gazipur Sadar Upazila\",\"Joydebpur, Gazipur Sadar Upazila\",\"Joydebpur, Gazipur Sadar Upazila\",\"Chandana, Gazipur Sadar Upazila\",\"Tongi, Gazipur Sadar Upazila\",\"Tongi, Gazipur Sadar Upazila\",\"Tongi, Gazipur Sadar Upazila\",\"Shimultoly, Gazipur Sadar Upazila\",\"Tongi, Gazipur Sadar Upazila\",\"Tongi, Gazipur Sadar Upazila\",\"Tongi, Gazipur Sadar Upazila\",\"Tongi, Gazipur Sadar Upazila\",\"Tongi, Gazipur Sadar Upazila\",\"Chandana, Gazipur Sadar Upazila\",\"Tongi, Gazipur Sadar Upazila\",\"Tongi, Gazipur Sadar Upazila\",\"Chandana, Gazipur Sadar Upazila\",\"Chandana, Gazipur Sadar Upazila\",\"Joydebpur, Gazipur Sadar Upazila\",\"Tongi, Gazipur Sadar Upazila\",\"Joydebpur, Gazipur Sadar Upazila\",\"Joydebpur, Gazipur Sadar Upazila\",\"Joydebpur, Gazipur Sadar Upazila\",\"Joydebpur, Gazipur Sadar Upazila\",\"Joydebpur, Gazipur Sadar Upazila\",\"Joydebpur, Gazipur Sadar Upazila\",\"Joydebpur, Gazipur Sadar Upazila\",\"Joydebpur, Gazipur Sadar Upazila\",\"Joydebpur, Gazipur Sadar Upazila\",\"Joydebpur, Gazipur Sadar Upazila\",\"Joydebpur, Gazipur Sadar Upazila\",\"Joydebpur, Gazipur Sadar Upazila\",\"Joydebpur, Gazipur Sadar Upazila\",\"Joydebpur, Gazipur Sadar Upazila\",\"Joydebpur, Gazipur Sadar Upazila\",\"Chandana, Gazipur Sadar Upazila\",\"Joydebpur, Gazipur Sadar Upazila\",\"Tongi, Gazipur Sadar Upazila\",\"Tongi, Gazipur Sadar Upazila\",\"Tongi, Gazipur Sadar Upazila\",\"Tongi, Gazipur Sadar Upazila\",\"Tongi, Gazipur Sadar Upazila\",\"Tongi, Gazipur Sadar Upazila\",\"Tongi, Gazipur Sadar Upazila\",\"Tongi, Gazipur Sadar Upazila\",\"Tongi, Gazipur Sadar Upazila\",\"Tongi, Gazipur Sadar Upazila\",\"Chandana, Gazipur Sadar Upazila\",\"Chandana, Gazipur Sadar Upazila\",\"Chandana, Gazipur Sadar Upazila\",\"Chandana, Gazipur Sadar Upazila\",\"Chandana, Gazipur Sadar Upazila\",\"Joydebpur, Gazipur Sadar Upazila\",\"Joydebpur, Gazipur Sadar Upazila\",\"Joydebpur, Gazipur Sadar Upazila\",\"Joydebpur, Gazipur Sadar Upazila\",\"Joydebpur, Gazipur Sadar Upazila\",\"Joydebpur, Gazipur Sadar Upazila\",\"Joydebpur, Gazipur Sadar Upazila\",\"Tongi, Gazipur Sadar Upazila\",\"Joydebpur, Gazipur Sadar Upazila\",\"Joydebpur, Gazipur Sadar Upazila\",\"Joydebpur, Gazipur Sadar Upazila\",\"Joydebpur, Gazipur Sadar Upazila\",\"Joydebpur, Gazipur Sadar Upazila\",\"Joydebpur, Gazipur Sadar Upazila\",\"Joydebpur, Gazipur Sadar Upazila\",\"Joydebpur, Gazipur Sadar Upazila\",\"Tongi, Gazipur Sadar Upazila\",\"Joydebpur, Gazipur Sadar Upazila\",\"Joydebpur, Gazipur Sadar Upazila\",\"Chandana, Gazipur Sadar Upazila\",\"Chandana, Gazipur Sadar Upazila\",\"Chandana, Gazipur Sadar Upazila\",\"Tongi, Gazipur Sadar Upazila\",\"Joydebpur, Gazipur Sadar Upazila\",\"Joydebpur, Gazipur Sadar Upazila\",\"Joydebpur, Gazipur Sadar Upazila\",\"Joydebpur, Gazipur Sadar Upazila\",\"Joydebpur, Gazipur Sadar Upazila\",\"Joydebpur, Gazipur Sadar Upazila\",\"Joydebpur, Gazipur Sadar Upazila\",\"Joydebpur, Gazipur Sadar Upazila\",\"Joydebpur, Gazipur Sadar Upazila\",\"Joydebpur, Gazipur Sadar Upazila\",\"Joydebpur, Gazipur Sadar Upazila\",\"Joydebpur, Gazipur Sadar Upazila\",\"Chandana, Gazipur Sadar Upazila\",\"Joydebpur, Gazipur Sadar Upazila\",\"Shimultoly, Gazipur Sadar Upazila\",\"Shimultoly, Gazipur Sadar Upazila\",\"Tongi, Gazipur Sadar Upazila\",\"Chandana, Gazipur Sadar Upazila\",\"Chandana, Gazipur Sadar Upazila\",\"Chandana, Gazipur Sadar Upazila\",\"Chandana, Gazipur Sadar Upazila\",\"Chandana, Gazipur Sadar Upazila\",\"Chandana, Gazipur Sadar Upazila\",\"Tongi, Gazipur Sadar Upazila\",\"Tongi, Gazipur Sadar Upazila\",\"Tongi, Gazipur Sadar Upazila\",\"Tongi, Gazipur Sadar Upazila\",\"Tongi, Gazipur Sadar Upazila\",\"Tongi, Gazipur Sadar Upazila\",\"Tongi, Gazipur Sadar Upazila\",\"Tongi, Gazipur Sadar Upazila\",\"Tongi, Gazipur Sadar Upazila\",\"Tongi, Gazipur Sadar Upazila\",\"Shimultoly, Gazipur Sadar Upazila\",\"Chandana, Gazipur Sadar Upazila\",\"Chandana, Gazipur Sadar Upazila\",\"Joydebpur, Gazipur Sadar Upazila\",\"Tongi, Gazipur Sadar Upazila\",\"Tongi, Gazipur Sadar Upazila\",\"Tongi, Gazipur Sadar Upazila\",\"Tongi, Gazipur Sadar Upazila\",\"Chandana, Gazipur Sadar Upazila\",\"Chandana, Gazipur Sadar Upazila\",\"Chandana, Gazipur Sadar Upazila\",\"Joydebpur, Gazipur Sadar Upazila\",\"Chowrasta, Chandra\",\"Tongi, Gazipur Sadar Upazila\",\"Tongi, Gazipur Sadar Upazila\",\"Joydebpur, Gazipur Sadar Upazila\",\"Joydebpur, Gazipur Sadar Upazila\",\"Joydebpur, Gazipur Sadar Upazila\",\"Joydebpur, Gazipur Sadar Upazila\",\"Joydebpur, Gazipur Sadar Upazila\",\"Joydebpur, Gazipur Sadar Upazila\",\"Joydebpur, Gazipur Sadar Upazila\",\"Joydebpur, Gazipur Sadar Upazila\",\"Joydebpur, Gazipur Sadar Upazila\",\"Chandana, Gazipur Sadar Upazila\",\"Chandana, Gazipur Sadar Upazila\",\"Shimultoly, Gazipur Sadar Upazila\",\"Joydebpur, Gazipur Sadar Upazila\",\"Chandana, Gazipur Sadar Upazila\",\"Joydebpur, Gazipur Sadar Upazila\"],\"type\":\"scattermapbox\"}],                        {\"template\":{\"data\":{\"histogram2dcontour\":[{\"type\":\"histogram2dcontour\",\"colorbar\":{\"outlinewidth\":0,\"ticks\":\"\"},\"colorscale\":[[0.0,\"#0d0887\"],[0.1111111111111111,\"#46039f\"],[0.2222222222222222,\"#7201a8\"],[0.3333333333333333,\"#9c179e\"],[0.4444444444444444,\"#bd3786\"],[0.5555555555555556,\"#d8576b\"],[0.6666666666666666,\"#ed7953\"],[0.7777777777777778,\"#fb9f3a\"],[0.8888888888888888,\"#fdca26\"],[1.0,\"#f0f921\"]]}],\"choropleth\":[{\"type\":\"choropleth\",\"colorbar\":{\"outlinewidth\":0,\"ticks\":\"\"}}],\"histogram2d\":[{\"type\":\"histogram2d\",\"colorbar\":{\"outlinewidth\":0,\"ticks\":\"\"},\"colorscale\":[[0.0,\"#0d0887\"],[0.1111111111111111,\"#46039f\"],[0.2222222222222222,\"#7201a8\"],[0.3333333333333333,\"#9c179e\"],[0.4444444444444444,\"#bd3786\"],[0.5555555555555556,\"#d8576b\"],[0.6666666666666666,\"#ed7953\"],[0.7777777777777778,\"#fb9f3a\"],[0.8888888888888888,\"#fdca26\"],[1.0,\"#f0f921\"]]}],\"heatmap\":[{\"type\":\"heatmap\",\"colorbar\":{\"outlinewidth\":0,\"ticks\":\"\"},\"colorscale\":[[0.0,\"#0d0887\"],[0.1111111111111111,\"#46039f\"],[0.2222222222222222,\"#7201a8\"],[0.3333333333333333,\"#9c179e\"],[0.4444444444444444,\"#bd3786\"],[0.5555555555555556,\"#d8576b\"],[0.6666666666666666,\"#ed7953\"],[0.7777777777777778,\"#fb9f3a\"],[0.8888888888888888,\"#fdca26\"],[1.0,\"#f0f921\"]]}],\"heatmapgl\":[{\"type\":\"heatmapgl\",\"colorbar\":{\"outlinewidth\":0,\"ticks\":\"\"},\"colorscale\":[[0.0,\"#0d0887\"],[0.1111111111111111,\"#46039f\"],[0.2222222222222222,\"#7201a8\"],[0.3333333333333333,\"#9c179e\"],[0.4444444444444444,\"#bd3786\"],[0.5555555555555556,\"#d8576b\"],[0.6666666666666666,\"#ed7953\"],[0.7777777777777778,\"#fb9f3a\"],[0.8888888888888888,\"#fdca26\"],[1.0,\"#f0f921\"]]}],\"contourcarpet\":[{\"type\":\"contourcarpet\",\"colorbar\":{\"outlinewidth\":0,\"ticks\":\"\"}}],\"contour\":[{\"type\":\"contour\",\"colorbar\":{\"outlinewidth\":0,\"ticks\":\"\"},\"colorscale\":[[0.0,\"#0d0887\"],[0.1111111111111111,\"#46039f\"],[0.2222222222222222,\"#7201a8\"],[0.3333333333333333,\"#9c179e\"],[0.4444444444444444,\"#bd3786\"],[0.5555555555555556,\"#d8576b\"],[0.6666666666666666,\"#ed7953\"],[0.7777777777777778,\"#fb9f3a\"],[0.8888888888888888,\"#fdca26\"],[1.0,\"#f0f921\"]]}],\"surface\":[{\"type\":\"surface\",\"colorbar\":{\"outlinewidth\":0,\"ticks\":\"\"},\"colorscale\":[[0.0,\"#0d0887\"],[0.1111111111111111,\"#46039f\"],[0.2222222222222222,\"#7201a8\"],[0.3333333333333333,\"#9c179e\"],[0.4444444444444444,\"#bd3786\"],[0.5555555555555556,\"#d8576b\"],[0.6666666666666666,\"#ed7953\"],[0.7777777777777778,\"#fb9f3a\"],[0.8888888888888888,\"#fdca26\"],[1.0,\"#f0f921\"]]}],\"mesh3d\":[{\"type\":\"mesh3d\",\"colorbar\":{\"outlinewidth\":0,\"ticks\":\"\"}}],\"scatter\":[{\"fillpattern\":{\"fillmode\":\"overlay\",\"size\":10,\"solidity\":0.2},\"type\":\"scatter\"}],\"parcoords\":[{\"type\":\"parcoords\",\"line\":{\"colorbar\":{\"outlinewidth\":0,\"ticks\":\"\"}}}],\"scatterpolargl\":[{\"type\":\"scatterpolargl\",\"marker\":{\"colorbar\":{\"outlinewidth\":0,\"ticks\":\"\"}}}],\"bar\":[{\"error_x\":{\"color\":\"#2a3f5f\"},\"error_y\":{\"color\":\"#2a3f5f\"},\"marker\":{\"line\":{\"color\":\"#E5ECF6\",\"width\":0.5},\"pattern\":{\"fillmode\":\"overlay\",\"size\":10,\"solidity\":0.2}},\"type\":\"bar\"}],\"scattergeo\":[{\"type\":\"scattergeo\",\"marker\":{\"colorbar\":{\"outlinewidth\":0,\"ticks\":\"\"}}}],\"scatterpolar\":[{\"type\":\"scatterpolar\",\"marker\":{\"colorbar\":{\"outlinewidth\":0,\"ticks\":\"\"}}}],\"histogram\":[{\"marker\":{\"pattern\":{\"fillmode\":\"overlay\",\"size\":10,\"solidity\":0.2}},\"type\":\"histogram\"}],\"scattergl\":[{\"type\":\"scattergl\",\"marker\":{\"colorbar\":{\"outlinewidth\":0,\"ticks\":\"\"}}}],\"scatter3d\":[{\"type\":\"scatter3d\",\"line\":{\"colorbar\":{\"outlinewidth\":0,\"ticks\":\"\"}},\"marker\":{\"colorbar\":{\"outlinewidth\":0,\"ticks\":\"\"}}}],\"scattermapbox\":[{\"type\":\"scattermapbox\",\"marker\":{\"colorbar\":{\"outlinewidth\":0,\"ticks\":\"\"}}}],\"scatterternary\":[{\"type\":\"scatterternary\",\"marker\":{\"colorbar\":{\"outlinewidth\":0,\"ticks\":\"\"}}}],\"scattercarpet\":[{\"type\":\"scattercarpet\",\"marker\":{\"colorbar\":{\"outlinewidth\":0,\"ticks\":\"\"}}}],\"carpet\":[{\"aaxis\":{\"endlinecolor\":\"#2a3f5f\",\"gridcolor\":\"white\",\"linecolor\":\"white\",\"minorgridcolor\":\"white\",\"startlinecolor\":\"#2a3f5f\"},\"baxis\":{\"endlinecolor\":\"#2a3f5f\",\"gridcolor\":\"white\",\"linecolor\":\"white\",\"minorgridcolor\":\"white\",\"startlinecolor\":\"#2a3f5f\"},\"type\":\"carpet\"}],\"table\":[{\"cells\":{\"fill\":{\"color\":\"#EBF0F8\"},\"line\":{\"color\":\"white\"}},\"header\":{\"fill\":{\"color\":\"#C8D4E3\"},\"line\":{\"color\":\"white\"}},\"type\":\"table\"}],\"barpolar\":[{\"marker\":{\"line\":{\"color\":\"#E5ECF6\",\"width\":0.5},\"pattern\":{\"fillmode\":\"overlay\",\"size\":10,\"solidity\":0.2}},\"type\":\"barpolar\"}],\"pie\":[{\"automargin\":true,\"type\":\"pie\"}]},\"layout\":{\"autotypenumbers\":\"strict\",\"colorway\":[\"#636efa\",\"#EF553B\",\"#00cc96\",\"#ab63fa\",\"#FFA15A\",\"#19d3f3\",\"#FF6692\",\"#B6E880\",\"#FF97FF\",\"#FECB52\"],\"font\":{\"color\":\"#2a3f5f\"},\"hovermode\":\"closest\",\"hoverlabel\":{\"align\":\"left\"},\"paper_bgcolor\":\"white\",\"plot_bgcolor\":\"#E5ECF6\",\"polar\":{\"bgcolor\":\"#E5ECF6\",\"angularaxis\":{\"gridcolor\":\"white\",\"linecolor\":\"white\",\"ticks\":\"\"},\"radialaxis\":{\"gridcolor\":\"white\",\"linecolor\":\"white\",\"ticks\":\"\"}},\"ternary\":{\"bgcolor\":\"#E5ECF6\",\"aaxis\":{\"gridcolor\":\"white\",\"linecolor\":\"white\",\"ticks\":\"\"},\"baxis\":{\"gridcolor\":\"white\",\"linecolor\":\"white\",\"ticks\":\"\"},\"caxis\":{\"gridcolor\":\"white\",\"linecolor\":\"white\",\"ticks\":\"\"}},\"coloraxis\":{\"colorbar\":{\"outlinewidth\":0,\"ticks\":\"\"}},\"colorscale\":{\"sequential\":[[0.0,\"#0d0887\"],[0.1111111111111111,\"#46039f\"],[0.2222222222222222,\"#7201a8\"],[0.3333333333333333,\"#9c179e\"],[0.4444444444444444,\"#bd3786\"],[0.5555555555555556,\"#d8576b\"],[0.6666666666666666,\"#ed7953\"],[0.7777777777777778,\"#fb9f3a\"],[0.8888888888888888,\"#fdca26\"],[1.0,\"#f0f921\"]],\"sequentialminus\":[[0.0,\"#0d0887\"],[0.1111111111111111,\"#46039f\"],[0.2222222222222222,\"#7201a8\"],[0.3333333333333333,\"#9c179e\"],[0.4444444444444444,\"#bd3786\"],[0.5555555555555556,\"#d8576b\"],[0.6666666666666666,\"#ed7953\"],[0.7777777777777778,\"#fb9f3a\"],[0.8888888888888888,\"#fdca26\"],[1.0,\"#f0f921\"]],\"diverging\":[[0,\"#8e0152\"],[0.1,\"#c51b7d\"],[0.2,\"#de77ae\"],[0.3,\"#f1b6da\"],[0.4,\"#fde0ef\"],[0.5,\"#f7f7f7\"],[0.6,\"#e6f5d0\"],[0.7,\"#b8e186\"],[0.8,\"#7fbc41\"],[0.9,\"#4d9221\"],[1,\"#276419\"]]},\"xaxis\":{\"gridcolor\":\"white\",\"linecolor\":\"white\",\"ticks\":\"\",\"title\":{\"standoff\":15},\"zerolinecolor\":\"white\",\"automargin\":true,\"zerolinewidth\":2},\"yaxis\":{\"gridcolor\":\"white\",\"linecolor\":\"white\",\"ticks\":\"\",\"title\":{\"standoff\":15},\"zerolinecolor\":\"white\",\"automargin\":true,\"zerolinewidth\":2},\"scene\":{\"xaxis\":{\"backgroundcolor\":\"#E5ECF6\",\"gridcolor\":\"white\",\"linecolor\":\"white\",\"showbackground\":true,\"ticks\":\"\",\"zerolinecolor\":\"white\",\"gridwidth\":2},\"yaxis\":{\"backgroundcolor\":\"#E5ECF6\",\"gridcolor\":\"white\",\"linecolor\":\"white\",\"showbackground\":true,\"ticks\":\"\",\"zerolinecolor\":\"white\",\"gridwidth\":2},\"zaxis\":{\"backgroundcolor\":\"#E5ECF6\",\"gridcolor\":\"white\",\"linecolor\":\"white\",\"showbackground\":true,\"ticks\":\"\",\"zerolinecolor\":\"white\",\"gridwidth\":2}},\"shapedefaults\":{\"line\":{\"color\":\"#2a3f5f\"}},\"annotationdefaults\":{\"arrowcolor\":\"#2a3f5f\",\"arrowhead\":0,\"arrowwidth\":1},\"geo\":{\"bgcolor\":\"white\",\"landcolor\":\"#E5ECF6\",\"subunitcolor\":\"white\",\"showland\":true,\"showlakes\":true,\"lakecolor\":\"white\"},\"title\":{\"x\":0.05},\"mapbox\":{\"style\":\"light\"}}},\"mapbox\":{\"domain\":{\"x\":[0.0,1.0],\"y\":[0.0,1.0]},\"center\":{\"lat\":23.768017929943394,\"lon\":90.46875738256372},\"zoom\":7,\"style\":\"open-street-map\"},\"legend\":{\"tracegroupgap\":0},\"margin\":{\"t\":60},\"height\":700,\"title\":{\"text\":\"Addresses in Dhaka and Cumilla(Bangladesh)\"}},                        {\"responsive\": true}                    ).then(function(){\n",
       "                            \n",
       "var gd = document.getElementById('a27f56f4-34a2-4587-8a11-a7a01be2be1f');\n",
       "var x = new MutationObserver(function (mutations, observer) {{\n",
       "        var display = window.getComputedStyle(gd).display;\n",
       "        if (!display || display === 'none') {{\n",
       "            console.log([gd, 'removed!']);\n",
       "            Plotly.purge(gd);\n",
       "            observer.disconnect();\n",
       "        }}\n",
       "}});\n",
       "\n",
       "// Listen for the removal of the full notebook cells\n",
       "var notebookContainer = gd.closest('#notebook-container');\n",
       "if (notebookContainer) {{\n",
       "    x.observe(notebookContainer, {childList: true});\n",
       "}}\n",
       "\n",
       "// Listen for the clearing of the current output cell\n",
       "var outputEl = gd.closest('.output');\n",
       "if (outputEl) {{\n",
       "    x.observe(outputEl, {childList: true});\n",
       "}}\n",
       "\n",
       "                        })                };                            </script>        </div>\n",
       "</body>\n",
       "</html>"
      ]
     },
     "metadata": {},
     "output_type": "display_data"
    }
   ],
   "source": [
    "fig = px.scatter_mapbox(data[data['City']!='chattogram'], \n",
    "                         lat='latitude', \n",
    "                         lon='longitude', \n",
    "                         text='Location',  # Label for the points\n",
    "                         zoom=7, \n",
    "                         height=700,\n",
    "                         color_discrete_sequence=['red'])\n",
    "\n",
    "# Update the layout for Mapbox\n",
    "fig.update_traces(marker=dict(size=9))\n",
    "fig.update_layout(mapbox_style=\"open-street-map\")\n",
    "fig.update_layout(title='Addresses in Dhaka and Cumilla(Bangladesh)')\n",
    "\n",
    "# Show the map\n",
    "fig.show()"
   ]
  },
  {
   "cell_type": "code",
   "execution_count": 47,
   "id": "9aa1ce87",
   "metadata": {
    "execution": {
     "iopub.execute_input": "2025-01-12T10:28:11.766943Z",
     "iopub.status.busy": "2025-01-12T10:28:11.766565Z",
     "iopub.status.idle": "2025-01-12T10:28:11.881796Z",
     "shell.execute_reply": "2025-01-12T10:28:11.880645Z"
    },
    "papermill": {
     "duration": 0.133458,
     "end_time": "2025-01-12T10:28:11.883956",
     "exception": false,
     "start_time": "2025-01-12T10:28:11.750498",
     "status": "completed"
    },
    "tags": []
   },
   "outputs": [
    {
     "data": {
      "text/html": [
       "<html>\n",
       "<head><meta charset=\"utf-8\" /></head>\n",
       "<body>\n",
       "    <div>            <script src=\"https://cdnjs.cloudflare.com/ajax/libs/mathjax/2.7.5/MathJax.js?config=TeX-AMS-MML_SVG\"></script><script type=\"text/javascript\">if (window.MathJax && window.MathJax.Hub && window.MathJax.Hub.Config) {window.MathJax.Hub.Config({SVG: {font: \"STIX-Web\"}});}</script>                <script type=\"text/javascript\">window.PlotlyConfig = {MathJaxConfig: 'local'};</script>\n",
       "        <script charset=\"utf-8\" src=\"https://cdn.plot.ly/plotly-2.35.2.min.js\"></script>                <div id=\"89df9056-833f-45c5-8e62-6b5e23b18402\" class=\"plotly-graph-div\" style=\"height:525px; width:100%;\"></div>            <script type=\"text/javascript\">                                    window.PLOTLYENV=window.PLOTLYENV || {};                                    if (document.getElementById(\"89df9056-833f-45c5-8e62-6b5e23b18402\")) {                    Plotly.newPlot(                        \"89df9056-833f-45c5-8e62-6b5e23b18402\",                        [{\"customdata\":[[\"Gulshan 1, Gulshan\",\"dhaka\"],[\"Lake Circus Road, Kalabagan\",\"dhaka\"],[\"Shukrabad, Dhanmondi\",\"dhaka\"],[\"Block L, Bashundhara R-A\",\"dhaka\"],[\"Road No 25, Banani\",\"dhaka\"],[\"Middle Badda, Badda\",\"dhaka\"],[\"Block B, Bashundhara R-A\",\"dhaka\"],[\"Block D, Bashundhara R-A\",\"dhaka\"],[\"Matuail, Demra\",\"dhaka\"],[\"Block H, Aftab Nagar\",\"dhaka\"],[\"West Dolairpar, Shyampur\",\"dhaka\"],[\"West Dolairpar, Shyampur\",\"dhaka\"],[\"West Dolairpar, Shyampur\",\"dhaka\"],[\"Block B, Bashundhara R-A\",\"dhaka\"],[\"Block H, Aftab Nagar\",\"dhaka\"],[\"Sector 10, Uttara\",\"dhaka\"],[\"Sector 10, Uttara\",\"dhaka\"],[\"Sector 6, Uttara\",\"dhaka\"],[\"Lake Circus Road, Kalabagan\",\"dhaka\"],[\"Block H, Bashundhara R-A\",\"dhaka\"],[\"Block J, Bashundhara R-A\",\"dhaka\"],[\"Gulshan 2, Gulshan\",\"dhaka\"],[\"Free School Street, Kathalbagan\",\"dhaka\"],[\"Gulshan 1, Gulshan\",\"dhaka\"],[\"Baitul Aman Housing Society, Adabor\",\"dhaka\"],[\"Section 6, Mirpur\",\"dhaka\"],[\"Sector 4, Uttara\",\"dhaka\"],[\"Nobodoy Housing Society, Mohammadpur\",\"dhaka\"],[\"Free School Street, Kathalbagan\",\"dhaka\"],[\"Pallabi, Mirpur\",\"dhaka\"],[\"Sector 7, Uttara\",\"dhaka\"],[\"Block C, Niketan\",\"dhaka\"],[\"Vashani Goli, Shantinagar\",\"dhaka\"],[\"Gandaria, Sutrapur\",\"dhaka\"],[\"Dhaka Uddan, Mohammadpur\",\"dhaka\"],[\"West Shewrapara, Mirpur\",\"dhaka\"],[\"Section 1, Mirpur\",\"dhaka\"],[\"South Chalabon, Dakshin Khan\",\"dhaka\"],[\"West Agargaon, Agargaon\",\"dhaka\"],[\"Section 6, Mirpur\",\"dhaka\"],[\"Section 12, Mirpur\",\"dhaka\"],[\"Dakkhin Paikpara, Mirpur\",\"dhaka\"],[\"Keraniganj\",\"dhaka\"],[\"Kadamtali, Shyampur\",\"dhaka\"],[\"Kadamtali, Shyampur\",\"dhaka\"],[\"Block C, Aftab Nagar\",\"dhaka\"],[\"Jahuri Moholla, Mohammadpur\",\"dhaka\"],[\"Section 2, Mirpur\",\"dhaka\"],[\"Kallyanpur, Mirpur\",\"dhaka\"],[\"West Rampura, Rampura\",\"dhaka\"],[\"Madhya Ajampur, Dakshin Khan\",\"dhaka\"],[\"Mohammadia Housing Society, Mohammadpur\",\"dhaka\"],[\"Uttar Badda, Badda\",\"dhaka\"],[\"Block C, Niketan\",\"dhaka\"],[\"North Ibrahimpur, Ibrahimpur\",\"dhaka\"],[\"Dakhshin Para, Mohakhali\",\"dhaka\"],[\"West Agargaon, Agargaon\",\"dhaka\"],[\"Sector 11, Uttara\",\"dhaka\"],[\"Gulshan 1, Gulshan\",\"dhaka\"],[\"North Circular Road, Dhanmondi\",\"dhaka\"],[\"Block B, Bashundhara R-A\",\"dhaka\"],[\"Block B, Lalmatia\",\"dhaka\"],[\"West Shewrapara, Mirpur\",\"dhaka\"],[\"Section 15, Mirpur\",\"dhaka\"],[\"Block C, Khilgaon\",\"dhaka\"],[\"Block I, Bashundhara R-A\",\"dhaka\"],[\"Pallabi, Mirpur\",\"dhaka\"],[\"Hatir Jheel Link Road, Tejgaon\",\"dhaka\"],[\"Pirerbag, Mirpur\",\"dhaka\"],[\"Section 10, Mirpur\",\"dhaka\"],[\"Block J, Bashundhara R-A\",\"dhaka\"],[\"Boro Maghbazar, Maghbazar\",\"dhaka\"],[\"Block B, Banasree\",\"dhaka\"],[\"East Shewrapara, Mirpur\",\"dhaka\"],[\"Sector 7, Uttara\",\"dhaka\"],[\"Sector 10, Uttara\",\"dhaka\"],[\"Pirerbag, Mirpur\",\"dhaka\"],[\"East Monipur, Mirpur\",\"dhaka\"],[\"Pirerbag, Mirpur\",\"dhaka\"],[\"Pallabi, Mirpur\",\"dhaka\"],[\"Imandipur, Savar\",\"dhaka\"],[\"East Monipur, Mirpur\",\"dhaka\"],[\"East Monipur, Mirpur\",\"dhaka\"],[\"Sector 5, Uttara\",\"dhaka\"],[\"Block B, Banasree\",\"dhaka\"],[\"Block A, Banasree\",\"dhaka\"],[\"Block J, Bashundhara R-A\",\"dhaka\"],[\"Gulbag, Malibagh\",\"dhaka\"],[\"West Shewrapara, Mirpur\",\"dhaka\"],[\"Middle Monipur, Mirpur\",\"dhaka\"],[\"Middle Monipur, Mirpur\",\"dhaka\"],[\"Manikdi, Cantonment\",\"dhaka\"],[\"East Kazipara, Mirpur\",\"dhaka\"],[\"Rupnagar R\\u002fA, Mirpur\",\"dhaka\"],[\"West Kazipara, Mirpur\",\"dhaka\"],[\"Sector 4, Uttara\",\"dhaka\"],[\"Section 6, Mirpur\",\"dhaka\"],[\"Hemayetpur, Savar\",\"dhaka\"],[\"Pirerbag, Mirpur\",\"dhaka\"],[\"Section 10, Mirpur\",\"dhaka\"],[\"Moushair, Dakshin Khan\",\"dhaka\"],[\"Block F, Bashundhara R-A\",\"dhaka\"],[\"Ahmed Nagar, Mirpur\",\"dhaka\"],[\"Hemayetpur, Savar\",\"dhaka\"],[\"Radio Colony, Savar\",\"dhaka\"],[\"Block C, Bashundhara R-A\",\"dhaka\"],[\"Section 1, Mirpur\",\"dhaka\"],[\"Ahmed Nagar, Mirpur\",\"dhaka\"],[\"Road No 12A, Dhanmondi\",\"dhaka\"],[\"Block C, Bashundhara R-A\",\"dhaka\"],[\"Sector 9, Uttara\",\"dhaka\"],[\"South Chalabon, Dakshin Khan\",\"dhaka\"],[\"West Agargaon, Agargaon\",\"dhaka\"],[\"Block B, Bashundhara R-A\",\"dhaka\"],[\"Section 12, Mirpur\",\"dhaka\"],[\"Section 10, Mirpur\",\"dhaka\"],[\"Sector 5, Uttara\",\"dhaka\"],[\"Ashkona, Dakshin Khan\",\"dhaka\"],[\"Section 10, Mirpur\",\"dhaka\"],[\"East Rampura, Rampura\",\"dhaka\"],[\"Block D, Bashundhara R-A\",\"dhaka\"],[\"West Rampura, Rampura\",\"dhaka\"],[\"Baitul Aman Housing Society, Adabor\",\"dhaka\"],[\"Sector 12, Uttara\",\"dhaka\"],[\"Mirpur DOHS, Mirpur\",\"dhaka\"],[\"Sector 3, Uttara\",\"dhaka\"],[\"Block C, Aftab Nagar\",\"dhaka\"],[\"South Badda, Badda\",\"dhaka\"],[\"Sector 13, Uttara\",\"dhaka\"],[\"Block E, Aftab Nagar\",\"dhaka\"],[\"Block C, Banasree\",\"dhaka\"],[\"Mansurabad Housing Society, Adabor\",\"dhaka\"],[\"West Shewrapara, Mirpur\",\"dhaka\"],[\"Block G, Banasree\",\"dhaka\"],[\"Uttar Badda, Badda\",\"dhaka\"],[\"Sector 18, Uttara\",\"dhaka\"],[\"East Kazipara, Mirpur\",\"dhaka\"],[\"Pirerbag, Mirpur\",\"dhaka\"],[\"Middle Badda, Badda\",\"dhaka\"],[\"Moushair, Dakshin Khan\",\"dhaka\"],[\"Uttar Badda, Badda\",\"dhaka\"],[\"Uttar Badda, Badda\",\"dhaka\"],[\"Middle Badda, Badda\",\"dhaka\"],[\"Paikpara, Mirpur\",\"dhaka\"],[\"Section 1, Mirpur\",\"dhaka\"],[\"Section 1, Mirpur\",\"dhaka\"],[\"Block C, Aftab Nagar\",\"dhaka\"],[\"Sector 12, Uttara\",\"dhaka\"],[\"Block J, Banasree\",\"dhaka\"],[\"Section 6, Mirpur\",\"dhaka\"],[\"Block G, Bashundhara R-A\",\"dhaka\"],[\"Block G, Bashundhara R-A\",\"dhaka\"],[\"Block C, Bashundhara R-A\",\"dhaka\"],[\"Sector 15, Uttara\",\"dhaka\"],[\"Sector 15, Uttara\",\"dhaka\"],[\"Sector 13, Uttara\",\"dhaka\"],[\"Block B, Bashundhara R-A\",\"dhaka\"],[\"Middle Badda, Badda\",\"dhaka\"],[\"Sector 11, Uttara\",\"dhaka\"],[\"Block K, Bashundhara R-A\",\"dhaka\"],[\"Block E, Bashundhara R-A\",\"dhaka\"],[\"Block E, Bashundhara R-A\",\"dhaka\"],[\"Matikata, Cantonment\",\"dhaka\"],[\"Block B, Bashundhara R-A\",\"dhaka\"],[\"Sector 4, Uttara\",\"dhaka\"],[\"Bashundhara Road, Bashundhara R-A\",\"dhaka\"],[\"Pallabi, Mirpur\",\"dhaka\"],[\"Block G, Banasree\",\"dhaka\"],[\"Section 1, Mirpur\",\"dhaka\"],[\"South Mollartek, Dakshin Khan\",\"dhaka\"],[\"Circular Road, Dhanmondi\",\"dhaka\"],[\"Block J, Banasree\",\"dhaka\"],[\"Section 6, Mirpur\",\"dhaka\"],[\"Pallabi, Mirpur\",\"dhaka\"],[\"Aainusbag, Dakshin Khan\",\"dhaka\"],[\"Rupnagar R\\u002fA, Mirpur\",\"dhaka\"],[\"Rupnagar R\\u002fA, Mirpur\",\"dhaka\"],[\"Section 12, Mirpur\",\"dhaka\"],[\"Section 12, Mirpur\",\"dhaka\"],[\"Shiddheswari Lane, Shiddheswari\",\"dhaka\"],[\"Section 1, Mirpur\",\"dhaka\"],[\"Sector 10, Uttara\",\"dhaka\"],[\"Section 6, Mirpur\",\"dhaka\"],[\"Section 2, Mirpur\",\"dhaka\"],[\"Section 10, Mirpur\",\"dhaka\"],[\"Section 2, Mirpur\",\"dhaka\"],[\"Section 2, Mirpur\",\"dhaka\"],[\"Sector 3, Uttara\",\"dhaka\"],[\"Zakir Hosain Road, Mohammadpur\",\"dhaka\"],[\"Section 11, Mirpur\",\"dhaka\"],[\"Arambag Residential Area, Mirpur\",\"dhaka\"],[\"Block J, Bashundhara R-A\",\"dhaka\"],[\"Block J, Bashundhara R-A\",\"dhaka\"],[\"Naya Paltan, Motijheel\",\"dhaka\"],[\"Section 10, Mirpur\",\"dhaka\"],[\"Section 10, Mirpur\",\"dhaka\"],[\"Section 10, Mirpur\",\"dhaka\"],[\"Section 10, Mirpur\",\"dhaka\"],[\"Jagannathpur, Badda\",\"dhaka\"],[\"Block J, Bashundhara R-A\",\"dhaka\"],[\"West Agargaon, Agargaon\",\"dhaka\"],[\"Block B, Banasree\",\"dhaka\"],[\"Block I, Bashundhara R-A\",\"dhaka\"],[\"Dakkhin Paikpara, Mirpur\",\"dhaka\"],[\"Mirpur DOHS, Mirpur\",\"dhaka\"],[\"Bash Bari Road, Mohammadpur\",\"dhaka\"],[\"Taltola, Agargaon\",\"dhaka\"],[\"Mirpur DOHS, Mirpur\",\"dhaka\"],[\"Sector 12, Uttara\",\"dhaka\"],[\"Section 1, Mirpur\",\"dhaka\"],[\"West Shewrapara, Mirpur\",\"dhaka\"],[\"West Shewrapara, Mirpur\",\"dhaka\"],[\"Bagan Bari, Cantonment\",\"dhaka\"],[\"Rupnagar R\\u002fA, Mirpur\",\"dhaka\"],[\"Manikdi, Cantonment\",\"dhaka\"],[\"Purana Paltan, Motijheel\",\"dhaka\"],[\"Mirpur DOHS, Mirpur\",\"dhaka\"],[\"Pirerbag, Mirpur\",\"dhaka\"],[\"Block J, Bashundhara R-A\",\"dhaka\"],[\"Sector 18, Uttara\",\"dhaka\"],[\"Pirerbag, Mirpur\",\"dhaka\"],[\"Block C, Bashundhara R-A\",\"dhaka\"],[\"Sector 9, Uttara\",\"dhaka\"],[\"Goltek, Cantonment\",\"dhaka\"],[\"Ahmed Nagar, Mirpur\",\"dhaka\"],[\"West Shewrapara, Mirpur\",\"dhaka\"],[\"Section 12, Mirpur\",\"dhaka\"],[\"Katashur, Mohammadpur\",\"dhaka\"],[\"Sector 6, Uttara\",\"dhaka\"],[\"Malibag Bazar Rd, Malibagh\",\"dhaka\"],[\"Block E, Aftab Nagar\",\"dhaka\"],[\"Block E, Aftab Nagar\",\"dhaka\"],[\"Ahmed Nagar, Mirpur\",\"dhaka\"],[\"Block C, Bashundhara R-A\",\"dhaka\"],[\"Block I, Bashundhara R-A\",\"dhaka\"],[\"Sector 10, Uttara\",\"dhaka\"],[\"East Azampur, Dakshin Khan\",\"dhaka\"],[\"Sector 10, Uttara\",\"dhaka\"],[\"North Goran, Khilgaon\",\"dhaka\"],[\"Ibrahimpur Bazar Road, Ibrahimpur\",\"dhaka\"],[\"Rupnagar R\\u002fA, Mirpur\",\"dhaka\"],[\"Rupnagar R\\u002fA, Mirpur\",\"dhaka\"],[\"Block L, Bashundhara R-A\",\"dhaka\"],[\"Block C, Bashundhara R-A\",\"dhaka\"],[\"Sector 4, Uttara\",\"dhaka\"],[\"Road No 5, Banani DOHS\",\"dhaka\"],[\"Jigatola, Hazaribag\",\"dhaka\"],[\"Jigatola, Hazaribag\",\"dhaka\"],[\"West Rampura, Rampura\",\"dhaka\"],[\"Baigertek, Cantonment\",\"dhaka\"],[\"Block J, Banasree\",\"dhaka\"],[\"Jahuri Moholla, Mohammadpur\",\"dhaka\"],[\"Jahuri Moholla, Mohammadpur\",\"dhaka\"],[\"West Dhanmondi and Shangkar, Dhanmondi\",\"dhaka\"],[\"Ahmed Nagar, Mirpur\",\"dhaka\"],[\"Free School Street, Kathalbagan\",\"dhaka\"],[\"Ahmed Nagar, Mirpur\",\"dhaka\"],[\"New Eskaton Road, Eskaton\",\"dhaka\"],[\"Rupnagar R\\u002fA, Mirpur\",\"dhaka\"],[\"Baitul Aman Housing Society, Adabor\",\"dhaka\"],[\"Section 10, Mirpur\",\"dhaka\"],[\"Section 10, Mirpur\",\"dhaka\"],[\"Section 6, Mirpur\",\"dhaka\"],[\"Section 6, Mirpur\",\"dhaka\"],[\"Section 2, Mirpur\",\"dhaka\"],[\"Bochila, Mohammadpur\",\"dhaka\"],[\"Bochila, Mohammadpur\",\"dhaka\"],[\"2nd Colony, Mirpur\",\"dhaka\"],[\"Block C, Bashundhara R-A\",\"dhaka\"],[\"Section 15, Mirpur\",\"dhaka\"],[\"Faydabad, Dakshin Khan\",\"dhaka\"],[\"Doniya, Shyampur\",\"dhaka\"],[\"Doniya, Shyampur\",\"dhaka\"],[\"Mirpur DOHS, Mirpur\",\"dhaka\"],[\"Section 1, Mirpur\",\"dhaka\"],[\"Block E, Banasree\",\"dhaka\"],[\"Rayer Bazaar, Hazaribag\",\"dhaka\"],[\"Sector 5, Uttara\",\"dhaka\"],[\"South Banasree Project, Banasree\",\"dhaka\"],[\"Section 11, Mirpur\",\"dhaka\"],[\"Free School Street, Hatirpool\",\"dhaka\"],[\"Free School Street, Kathalbagan\",\"dhaka\"],[\"Block I, Bashundhara R-A\",\"dhaka\"],[\"Section 1, Mirpur\",\"dhaka\"],[\"Pirerbag, Mirpur\",\"dhaka\"],[\"Rayer Bazaar, Hazaribag\",\"dhaka\"],[\"Section 12, Mirpur\",\"dhaka\"],[\"West Shewrapara, Mirpur\",\"dhaka\"],[\"Middle Monipur, Mirpur\",\"dhaka\"],[\"Middle Paikpara, Mirpur\",\"dhaka\"],[\"Paikpara, Mirpur\",\"dhaka\"],[\"Pirerbag, Mirpur\",\"dhaka\"],[\"Kallyanpur, Mirpur\",\"dhaka\"],[\"Kutum Goli, Agargaon\",\"dhaka\"],[\"Purana Paltan, Motijheel\",\"dhaka\"],[\"West Kazipara, Mirpur\",\"dhaka\"],[\"Malibag Bazar Rd, Malibagh\",\"dhaka\"],[\"Block G, Bashundhara R-A\",\"dhaka\"],[\"Paikpara, Mirpur\",\"dhaka\"],[\"Nikunja 2, Nikunja\",\"dhaka\"],[\"East Kazipara, Mirpur\",\"dhaka\"],[\"Section 11, Mirpur\",\"dhaka\"],[\"Section 2, Mirpur\",\"dhaka\"],[\"Block D, Bashundhara R-A\",\"dhaka\"],[\"Section 11, Mirpur\",\"dhaka\"],[\"Block A, Bashundhara R-A\",\"dhaka\"],[\"Boro Maghbazar, Maghbazar\",\"dhaka\"],[\"Sector 18, Uttara\",\"dhaka\"],[\"Block J, Bashundhara R-A\",\"dhaka\"],[\"Outer Circular Road, Shiddheswari\",\"dhaka\"],[\"Shiddeswari Road, Shiddheswari\",\"dhaka\"],[\"Block H, Banasree\",\"dhaka\"],[\"Block C, Bashundhara R-A\",\"dhaka\"],[\"North Azampur, Dakshin Khan\",\"dhaka\"],[\"Road No 18, Banani\",\"dhaka\"],[\"Sector 13, Uttara\",\"dhaka\"],[\"Block G, Bashundhara R-A\",\"dhaka\"],[\"Pallabi, Mirpur\",\"dhaka\"],[\"Section 15, Mirpur\",\"dhaka\"],[\"Pirerbag, Mirpur\",\"dhaka\"],[\"Ashi Dag Road, Ibrahimpur\",\"dhaka\"],[\"Bazar Road, Dumni\",\"dhaka\"],[\"Bazar Road, Dumni\",\"dhaka\"],[\"Bazar Road, Dumni\",\"dhaka\"],[\"Bazar Road, Dumni\",\"dhaka\"],[\"Middle Paikpara, Mirpur\",\"dhaka\"],[\"Ahmed Nagar, Mirpur\",\"dhaka\"],[\"Section 1, Mirpur\",\"dhaka\"],[\"Sector 6, Uttara\",\"dhaka\"],[\"Chikha Bazar, Ibrahimpur\",\"dhaka\"],[\"Section 12, Mirpur\",\"dhaka\"],[\"Gulshan 1, Gulshan\",\"dhaka\"],[\"Section 11, Mirpur\",\"dhaka\"],[\"Free School Street, Kathalbagan\",\"dhaka\"],[\"West Dhanmondi and Shangkar, Dhanmondi\",\"dhaka\"],[\"Middle Monipur, Mirpur\",\"dhaka\"],[\"Middle Monipur, Mirpur\",\"dhaka\"],[\"Road No 7, Dhanmondi\",\"dhaka\"],[\"Sector 10, Uttara\",\"dhaka\"],[\"Rajabazar, Tejgaon\",\"dhaka\"],[\"Block L, Bashundhara R-A\",\"dhaka\"],[\"Section 1, Mirpur\",\"dhaka\"],[\"Block E, Bashundhara R-A\",\"dhaka\"],[\"Uttar Badda, Badda\",\"dhaka\"],[\"South Keraniganj, Keraniganj\",\"dhaka\"],[\"South Keraniganj, Keraniganj\",\"dhaka\"],[\"South Keraniganj, Keraniganj\",\"dhaka\"],[\"Shukrabad, Dhanmondi\",\"dhaka\"],[\"Gopibag, Motijheel\",\"dhaka\"],[\"Pallabi, Mirpur\",\"dhaka\"],[\"Pirerbag, Mirpur\",\"dhaka\"],[\"Mirpur DOHS, Mirpur\",\"dhaka\"],[\"Middle Badda, Badda\",\"dhaka\"],[\"Sector 7, Uttara\",\"dhaka\"],[\"Bir Uttam Rafiqul Islam Avenue, Badda\",\"dhaka\"],[\"Section 12, Mirpur\",\"dhaka\"],[\"Section 12, Mirpur\",\"dhaka\"],[\"Block F, Banasree\",\"dhaka\"],[\"Rayer Bazaar, Hazaribag\",\"dhaka\"],[\"Block J, Bashundhara R-A\",\"dhaka\"],[\"Block J, Bashundhara R-A\",\"dhaka\"],[\"Section 6, Mirpur\",\"dhaka\"],[\"Section 6, Mirpur\",\"dhaka\"],[\"Middle Monipur, Mirpur\",\"dhaka\"],[\"Middle Monipur, Mirpur\",\"dhaka\"],[\"Middle Monipur, Mirpur\",\"dhaka\"],[\"Sector 7, Uttara\",\"dhaka\"],[\"Darussalam, Mirpur\",\"dhaka\"],[\"aziz Moholla, Mohammadpur\",\"dhaka\"],[\"Ashkona, Dakshin Khan\",\"dhaka\"],[\"Ashkona, Dakshin Khan\",\"dhaka\"],[\"West Dhanmondi and Shangkar, Dhanmondi\",\"dhaka\"],[\"West Shewrapara, Mirpur\",\"dhaka\"],[\"Section 12, Mirpur\",\"dhaka\"],[\"Section 12, Mirpur\",\"dhaka\"],[\"Block F, Bashundhara R-A\",\"dhaka\"],[\"Section 12, Mirpur\",\"dhaka\"],[\"South Kafrul Road, Kafrul\",\"dhaka\"],[\"Pallabi, Mirpur\",\"dhaka\"],[\"West Shewrapara, Mirpur\",\"dhaka\"],[\"Pallabi, Mirpur\",\"dhaka\"],[\"Section 1, Mirpur\",\"dhaka\"],[\"Block F, Bashundhara R-A\",\"dhaka\"],[\"North Ibrahimpur, Ibrahimpur\",\"dhaka\"],[\"Road No 10A, Dhanmondi\",\"dhaka\"],[\"Uttar Badda, Badda\",\"dhaka\"],[\"Block F, Aftab Nagar\",\"dhaka\"],[\"Uttar Badda, Badda\",\"dhaka\"],[\"Section 6, Mirpur\",\"dhaka\"],[\"Ahmed Nagar, Mirpur\",\"dhaka\"],[\"Sat Masjid Housing, Mohammadpur\",\"dhaka\"],[\"Shahjadpur, Badda\",\"dhaka\"],[\"Kamal Khan Road, Ibrahimpur\",\"dhaka\"],[\"Shahjadpur, Badda\",\"dhaka\"],[\"Shahjadpur, Badda\",\"dhaka\"],[\"Shahjadpur, Badda\",\"dhaka\"],[\"West Shewrapara, Mirpur\",\"dhaka\"],[\"West Shewrapara, Mirpur\",\"dhaka\"],[\"West Shewrapara, Mirpur\",\"dhaka\"],[\"Bank Colony, Savar\",\"dhaka\"],[\"Middle Monipur, Mirpur\",\"dhaka\"],[\"Middle Monipur, Mirpur\",\"dhaka\"],[\"Middle Monipur, Mirpur\",\"dhaka\"],[\"Middle Monipur, Mirpur\",\"dhaka\"],[\"Middle Monipur, Mirpur\",\"dhaka\"],[\"1st Colony, Mirpur\",\"dhaka\"],[\"Section 10, Mirpur\",\"dhaka\"],[\"Section 10, Mirpur\",\"dhaka\"],[\"Section 10, Mirpur\",\"dhaka\"],[\"Block A, Bashundhara R-A\",\"dhaka\"],[\"West Kazipara, Mirpur\",\"dhaka\"],[\"Block H, Bashundhara R-A\",\"dhaka\"],[\"East Monipur, Mirpur\",\"dhaka\"],[\"Block I, Bashundhara R-A\",\"dhaka\"],[\"South Monipur, Mirpur\",\"dhaka\"],[\"South Monipur, Mirpur\",\"dhaka\"],[\"South Monipur, Mirpur\",\"dhaka\"],[\"Section 10, Mirpur\",\"dhaka\"],[\"Section 15, Mirpur\",\"dhaka\"],[\"Block I, Bashundhara R-A\",\"dhaka\"],[\"Lichu Bagan Road, Joar Sahara\",\"dhaka\"],[\"Pirerbag, Mirpur\",\"dhaka\"],[\"Section 10, Mirpur\",\"dhaka\"],[\"Middle Monipur, Mirpur\",\"dhaka\"],[\"Middle Monipur, Mirpur\",\"dhaka\"],[\"Middle Monipur, Mirpur\",\"dhaka\"],[\"Nadda Kacha Bazar Road, Nadda\",\"dhaka\"],[\"Pallabi, Mirpur\",\"dhaka\"],[\"Pallabi, Mirpur\",\"dhaka\"],[\"Pallabi, Mirpur\",\"dhaka\"],[\"Section 2, Mirpur\",\"dhaka\"],[\"Kha Para, Khilkhet\",\"dhaka\"],[\"Kha Para, Khilkhet\",\"dhaka\"],[\"Kha Para, Khilkhet\",\"dhaka\"],[\"Kha Para, Khilkhet\",\"dhaka\"],[\"Block H, Bashundhara R-A\",\"dhaka\"],[\"Kallyanpur, Mirpur\",\"dhaka\"],[\"Block I, Bashundhara R-A\",\"dhaka\"],[\"Uttar Badda, Badda\",\"dhaka\"],[\"Ahmed Nagar, Mirpur\",\"dhaka\"],[\"Section 2, Mirpur\",\"dhaka\"],[\"Section 2, Mirpur\",\"dhaka\"],[\"Section 10, Mirpur\",\"dhaka\"],[\"West Shewrapara, Mirpur\",\"dhaka\"],[\"South Banasree Project, Banasree\",\"dhaka\"],[\"Sector 7, Uttara\",\"dhaka\"],[\"Manikdi, Cantonment\",\"dhaka\"],[\"Section 1, Mirpur\",\"dhaka\"],[\"North Azampur, Dakshin Khan\",\"dhaka\"],[\"Tilpapara, Khilgaon\",\"dhaka\"],[\"1st Colony, Mirpur\",\"dhaka\"],[\"Section 1, Mirpur\",\"dhaka\"],[\"Boro Maghbazar, Maghbazar\",\"dhaka\"],[\"Kallyanpur, Mirpur\",\"dhaka\"],[\"Khilbari Tek, Badda\",\"dhaka\"],[\"Khilbari Tek, Badda\",\"dhaka\"],[\"Section 10, Mirpur\",\"dhaka\"],[\"Outer Circular Road, Shiddheswari\",\"dhaka\"],[\"Outer Circular Road, Shiddheswari\",\"dhaka\"],[\"Sector 1, Uttara\",\"dhaka\"],[\"Sector 11, Uttara\",\"dhaka\"],[\"Amtola Masjid Goli Road, North Shahjahanpur\",\"dhaka\"],[\"Section 10, Mirpur\",\"dhaka\"],[\"Section 12, Mirpur\",\"dhaka\"],[\"Block I, Bashundhara R-A\",\"dhaka\"],[\"Block I, Bashundhara R-A\",\"dhaka\"],[\"Sector 1, Uttara\",\"dhaka\"],[\"West Shewrapara, Mirpur\",\"dhaka\"],[\"West Shewrapara, Mirpur\",\"dhaka\"],[\"South Monipur, Mirpur\",\"dhaka\"],[\"Ali And Nur Real Estate, Mohammadpur\",\"dhaka\"],[\"2nd Colony, Mirpur\",\"dhaka\"],[\"Bochila, Mohammadpur\",\"dhaka\"],[\"Faydabad, Dakshin Khan\",\"dhaka\"],[\"Faydabad, Dakshin Khan\",\"dhaka\"],[\"Faydabad, Dakshin Khan\",\"dhaka\"],[\"Faydabad, Dakshin Khan\",\"dhaka\"],[\"Block J, Bashundhara R-A\",\"dhaka\"],[\"Block D, Bashundhara R-A\",\"dhaka\"],[\"Amtola, Khilkhet\",\"dhaka\"],[\"Block A, Bashundhara R-A\",\"dhaka\"],[\"Malibag College Road, Malibagh\",\"dhaka\"],[\"Malibagh Chowdhury Para, Malibagh\",\"dhaka\"],[\"Nayatola, Maghbazar\",\"dhaka\"],[\"Block B, Banasree\",\"dhaka\"],[\"Ahmed Nagar, Mirpur\",\"dhaka\"],[\"Sector 4, Uttara\",\"dhaka\"],[\"Block J, Bashundhara R-A\",\"dhaka\"],[\"Ring Road, Mohammadpur\",\"dhaka\"],[\"Mirpur DOHS, Mirpur\",\"dhaka\"],[\"Mirpur DOHS, Mirpur\",\"dhaka\"],[\"Shantinagar Bazar Rd, Shantinagar\",\"dhaka\"],[\"Shantinagar Bazar Rd, Shantinagar\",\"dhaka\"],[\"Mirpur DOHS, Mirpur\",\"dhaka\"],[\"Nayatola, Maghbazar\",\"dhaka\"],[\"West Rampura, Rampura\",\"dhaka\"],[\"Block F, Banasree\",\"dhaka\"],[\"Madartek, Bashabo\",\"dhaka\"],[\"Ring Road, Shyamoli\",\"dhaka\"],[\"Nobodoy Housing Society, Mohammadpur\",\"dhaka\"],[\"Pallabi, Mirpur\",\"dhaka\"],[\"Sector 15, Uttara\",\"dhaka\"],[\"Section 2, Mirpur\",\"dhaka\"],[\"Ranavola, Turag\",\"dhaka\"],[\"Elephant Road, Hatirpool\",\"dhaka\"],[\"East Monipur, Mirpur\",\"dhaka\"],[\"Section 10, Mirpur\",\"dhaka\"],[\"North Ibrahimpur, Ibrahimpur\",\"dhaka\"],[\"Block K, Bashundhara R-A\",\"dhaka\"],[\"Primary school Road, Ibrahimpur\",\"dhaka\"],[\"Section 12, Mirpur\",\"dhaka\"],[\"Pirerbag, Mirpur\",\"dhaka\"],[\"Section 1, Mirpur\",\"dhaka\"],[\"Vashantek, Cantonment\",\"dhaka\"],[\"Pirerbag, Mirpur\",\"dhaka\"],[\"Sector 3, Uttara\",\"dhaka\"],[\"Doctor Goli, Maghbazar\",\"dhaka\"],[\"Section 12, Mirpur\",\"dhaka\"],[\"Section 2, Mirpur\",\"dhaka\"],[\"Sobur khan Road, Dakshin Khan\",\"dhaka\"],[\"Kamal Khan Road, Ibrahimpur\",\"dhaka\"],[\"East Azampur, Dakshin Khan\",\"dhaka\"],[\"Pirerbag, Mirpur\",\"dhaka\"],[\"Indira Road, Tejgaon\",\"dhaka\"],[\"Middle Badda, Badda\",\"dhaka\"],[\"Sector 18, Uttara\",\"dhaka\"],[\"Block J, Baridhara\",\"dhaka\"],[\"West Nakhalpara, Tejgaon\",\"dhaka\"],[\"Middle Paikpara, Mirpur\",\"dhaka\"],[\"Block C, Bashundhara R-A\",\"dhaka\"],[\"Middle Paikpara, Mirpur\",\"dhaka\"],[\"Block J, Bashundhara R-A\",\"dhaka\"],[\"Block J, Bashundhara R-A\",\"dhaka\"],[\"Pallabi, Mirpur\",\"dhaka\"],[\"Iqbal Road, Mohammadpur\",\"dhaka\"],[\"Section 12, Mirpur\",\"dhaka\"],[\"West Monipur, Mirpur\",\"dhaka\"],[\"East Shewrapara, Mirpur\",\"dhaka\"],[\"Chandrima Model Town, Mohammadpur\",\"dhaka\"],[\"Mirpur Road, Mohammadpur\",\"dhaka\"],[\"Road No 11A, Dhanmondi\",\"dhaka\"],[\"Section 6, Mirpur\",\"dhaka\"],[\"Section 15, Mirpur\",\"dhaka\"],[\"Faydabad, Dakshin Khan\",\"dhaka\"],[\"Block D, Bashundhara R-A\",\"dhaka\"],[\"Ashkona, Dakshin Khan\",\"dhaka\"],[\"Ashkona, Dakshin Khan\",\"dhaka\"],[\"Chalabon, Dakshin Khan\",\"dhaka\"],[\"Manikdi, Cantonment\",\"dhaka\"],[\"Section 10, Mirpur\",\"dhaka\"],[\"Section 10, Mirpur\",\"dhaka\"],[\"Section 6, Mirpur\",\"dhaka\"],[\"Sector 13, Uttara\",\"dhaka\"],[\"Section 10, Mirpur\",\"dhaka\"],[\"Faydabad, Dakshin Khan\",\"dhaka\"],[\"Shekhertek, Mohammadpur\",\"dhaka\"],[\"East Shewrapara, Mirpur\",\"dhaka\"],[\"Section 12, Mirpur\",\"dhaka\"],[\"Kallyanpur, Mirpur\",\"dhaka\"],[\"Rupnagar R\\u002fA, Mirpur\",\"dhaka\"],[\"East Monipur, Mirpur\",\"dhaka\"],[\"Kallyanpur, Mirpur\",\"dhaka\"],[\"Rupnagar R\\u002fA, Mirpur\",\"dhaka\"],[\"Sector 14, Uttara\",\"dhaka\"],[\"Section 11, Mirpur\",\"dhaka\"],[\"Block K, Bashundhara R-A\",\"dhaka\"],[\"Gandaria, Sutrapur\",\"dhaka\"],[\"Sector 4, Uttara\",\"dhaka\"],[\"Road No 18, Banani\",\"dhaka\"],[\"Sector 4, Uttara\",\"dhaka\"],[\"Section 6, Mirpur\",\"dhaka\"],[\"Block G, Banasree\",\"dhaka\"],[\"Panthapath Main Road, Kalabagan\",\"dhaka\"],[\"West Kazipara, Mirpur\",\"dhaka\"],[\"Sector 13, Uttara\",\"dhaka\"],[\"Block K, Bashundhara R-A\",\"dhaka\"],[\"West Monipur, Mirpur\",\"dhaka\"],[\"West Monipur, Mirpur\",\"dhaka\"],[\"West Monipur, Mirpur\",\"dhaka\"],[\"Uttar Badda, Badda\",\"dhaka\"],[\"Ahmed Nagar, Mirpur\",\"dhaka\"],[\"Ahmed Nagar, Mirpur\",\"dhaka\"],[\"Pallabi, Mirpur\",\"dhaka\"],[\"Block F, Banasree\",\"dhaka\"],[\"Pallabi, Mirpur\",\"dhaka\"],[\"Block E, Banasree\",\"dhaka\"],[\"Section 7, Mirpur\",\"dhaka\"],[\"Section 7, Mirpur\",\"dhaka\"],[\"Gulshan 2, Gulshan\",\"dhaka\"],[\"Shekhertek, Mohammadpur\",\"dhaka\"],[\"Green Road, Kalabagan\",\"dhaka\"],[\"West Nakhalpara, Tejgaon\",\"dhaka\"],[\"North Kafrul Rd, Kafrul\",\"dhaka\"],[\"Monipuri School Road, Ibrahimpur\",\"dhaka\"],[\"Ahmed Nagar, Mirpur\",\"dhaka\"],[\"Taltola, Agargaon\",\"dhaka\"],[\"Section 6, Mirpur\",\"dhaka\"],[\"Sector 9, Uttara\",\"dhaka\"],[\"Block D, Bashundhara R-A\",\"dhaka\"],[\"Block E, Bashundhara R-A\",\"dhaka\"],[\"Section 1, Mirpur\",\"dhaka\"],[\"Jigatola, Hazaribag\",\"dhaka\"],[\"Section 10, Mirpur\",\"dhaka\"],[\"Ranavola, Turag\",\"dhaka\"],[\"Section 12, Mirpur\",\"dhaka\"],[\"Section 12, Mirpur\",\"dhaka\"],[\"Ahmed Nagar, Mirpur\",\"dhaka\"],[\"Ahmed Nagar, Mirpur\",\"dhaka\"],[\"Ahmed Nagar, Mirpur\",\"dhaka\"],[\"East Kazipara, Mirpur\",\"dhaka\"],[\"Ahmed Nagar, Mirpur\",\"dhaka\"],[\"West Shewrapara, Mirpur\",\"dhaka\"],[\"Section 7, Mirpur\",\"dhaka\"],[\"Section 1, Mirpur\",\"dhaka\"],[\"East Kazipara, Mirpur\",\"dhaka\"],[\"Block A, Bashundhara R-A\",\"dhaka\"],[\"East Kazipara, Mirpur\",\"dhaka\"],[\"Sector 12, Uttara\",\"dhaka\"],[\"Section 15, Mirpur\",\"dhaka\"],[\"Middle Monipur, Mirpur\",\"dhaka\"],[\"Sector 12, Uttara\",\"dhaka\"],[\"Taltola, Agargaon\",\"dhaka\"],[\"Section 1, Mirpur\",\"dhaka\"],[\"Section 1, Mirpur\",\"dhaka\"],[\"Sector 12, Uttara\",\"dhaka\"],[\"Faydabad, Dakshin Khan\",\"dhaka\"],[\"South Baridhara Residential Area,D. I. T. Project, Badda\",\"dhaka\"],[\"Block F, Bashundhara R-A\",\"dhaka\"],[\"Block F, Bashundhara R-A\",\"dhaka\"],[\"Sector 11, Uttara\",\"dhaka\"],[\"Middle Monipur, Mirpur\",\"dhaka\"],[\"Block F, Bashundhara R-A\",\"dhaka\"],[\"Madhya Ajampur, Dakshin Khan\",\"dhaka\"],[\"Rupnagar R\\u002fA, Mirpur\",\"dhaka\"],[\"Merul Badda, Badda\",\"dhaka\"],[\"Nobodoy Housing Society, Mohammadpur\",\"dhaka\"],[\"Section 10, Mirpur\",\"dhaka\"],[\"Merul Badda, Badda\",\"dhaka\"],[\"Merul Badda, Badda\",\"dhaka\"],[\"Outer Circular Road, Maghbazar\",\"dhaka\"],[\"Chandrima Model Town, Mohammadpur\",\"dhaka\"],[\"Block D, Aftab Nagar\",\"dhaka\"],[\"Block C, Lalmatia\",\"dhaka\"],[\"Block C, Lalmatia\",\"dhaka\"],[\"Babar Road, Mohammadpur\",\"dhaka\"],[\"Section 6, Mirpur\",\"dhaka\"],[\"Sector 6, Uttara\",\"dhaka\"],[\"2nd Colony, Mirpur\",\"dhaka\"],[\"Bash Bari Road, Mohammadpur\",\"dhaka\"],[\"North Kafrul Road, Ibrahimpur\",\"dhaka\"],[\"Jhigatola Road, Dhanmondi\",\"dhaka\"],[\"Manikdi, Cantonment\",\"dhaka\"],[\"Sector 11, Uttara\",\"dhaka\"],[\"Mirbag Notun Rasta, Maghbazar\",\"dhaka\"],[\"Section 1, Mirpur\",\"dhaka\"],[\"Block H, Banasree\",\"dhaka\"],[\"Sector 10, Uttara\",\"dhaka\"],[\"Dorji Bari Road, Khilkhet\",\"dhaka\"],[\"Section 1, Mirpur\",\"dhaka\"],[\"Section 10, Mirpur\",\"dhaka\"],[\"Section 10, Mirpur\",\"dhaka\"],[\"East Rampura, Rampura\",\"dhaka\"],[\"Darussalam, Mirpur\",\"dhaka\"],[\"Section 10, Mirpur\",\"dhaka\"],[\"Block C, Bashundhara R-A\",\"dhaka\"],[\"West Kazipara, Mirpur\",\"dhaka\"],[\"Section 2, Mirpur\",\"dhaka\"],[\"Section 6, Mirpur\",\"dhaka\"],[\"Manikdi, Cantonment\",\"dhaka\"],[\"Khilbari Tek, Badda\",\"dhaka\"],[\"Block J, Banasree\",\"dhaka\"],[\"Uttar Badda, Badda\",\"dhaka\"],[\"Shahjadpur, Badda\",\"dhaka\"],[\"Block G, Aftab Nagar\",\"dhaka\"],[\"Block E, Aftab Nagar\",\"dhaka\"],[\"Block F, Aftab Nagar\",\"dhaka\"],[\"Shantinagar Road, Shantinagar\",\"dhaka\"],[\"Taltola, Khilgaon\",\"dhaka\"],[\"Block I, Bashundhara R-A\",\"dhaka\"],[\"Kallyanpur, Mirpur\",\"dhaka\"],[\"Section 1, Mirpur\",\"dhaka\"],[\"Baitul Aman Housing Society, Adabor\",\"dhaka\"],[\"East Kazipara, Mirpur\",\"dhaka\"],[\"East Kazipara, Mirpur\",\"dhaka\"],[\"East Kazipara, Mirpur\",\"dhaka\"],[\"East Kazipara, Mirpur\",\"dhaka\"],[\"Section 10, Mirpur\",\"dhaka\"],[\"East Kazipara, Mirpur\",\"dhaka\"],[\"Block D, Banasree\",\"dhaka\"],[\"Block B, Lalmatia\",\"dhaka\"],[\"East Kazipara, Mirpur\",\"dhaka\"],[\"Kallyanpur, Mirpur\",\"dhaka\"],[\"Pallabi, Mirpur\",\"dhaka\"],[\"Block H, Aftab Nagar\",\"dhaka\"],[\"Uttar Badda, Badda\",\"dhaka\"],[\"Topkhana Road, Shegunbagicha\",\"dhaka\"],[\"Section 12, Mirpur\",\"dhaka\"],[\"Block C, Bashundhara R-A\",\"dhaka\"],[\"Block C, Bashundhara R-A\",\"dhaka\"],[\"Shahjadpur, Badda\",\"dhaka\"],[\"Agargaon\",\"dhaka\"],[\"Kallyanpur, Mirpur\",\"dhaka\"],[\"Arambag Residential Area, Mirpur\",\"dhaka\"],[\"Section 12, Mirpur\",\"dhaka\"],[\"Taltola, Khilgaon\",\"dhaka\"],[\"Sector 3, Uttara\",\"dhaka\"],[\"Middle Badda, Badda\",\"dhaka\"],[\"Mirpur DOHS, Mirpur\",\"dhaka\"],[\"Section 1, Mirpur\",\"dhaka\"],[\"Section 12, Mirpur\",\"dhaka\"],[\"East Shewrapara, Mirpur\",\"dhaka\"],[\"Baitul Aman Housing Society, Adabor\",\"dhaka\"],[\"East Rampura, Rampura\",\"dhaka\"],[\"Katashur, Mohammadpur\",\"dhaka\"],[\"Pirerbag, Mirpur\",\"dhaka\"],[\"Block K, Bashundhara R-A\",\"dhaka\"],[\"Block D, Bashundhara R-A\",\"dhaka\"],[\"Ahmed Nagar, Mirpur\",\"dhaka\"],[\"Ahmed Nagar, Mirpur\",\"dhaka\"],[\"Block K, Bashundhara R-A\",\"dhaka\"],[\"Dhaka Housing Main Road, Adabor\",\"dhaka\"],[\"Free School Street, Kathalbagan\",\"dhaka\"],[\"Free School Street, Kathalbagan\",\"dhaka\"],[\"Block J, Banasree\",\"dhaka\"],[\"Section 2, Mirpur\",\"dhaka\"],[\"Road No 5, Dhanmondi\",\"dhaka\"],[\"Rupnagar R\\u002fA, Mirpur\",\"dhaka\"],[\"Block G, Banasree\",\"dhaka\"],[\"Block G, Banasree\",\"dhaka\"],[\"Section 2, Mirpur\",\"dhaka\"],[\"Block K, Bashundhara R-A\",\"dhaka\"],[\"Block K, Bashundhara R-A\",\"dhaka\"],[\"Sector 12, Uttara\",\"dhaka\"],[\"Sector 12, Uttara\",\"dhaka\"],[\"Mohammadi Housing LTD., Mohammadpur\",\"dhaka\"],[\"East Bashabo, Bashabo\",\"dhaka\"],[\"South Mollartek, Dakshin Khan\",\"dhaka\"],[\"Baitul Aman Housing Society, Adabor\",\"dhaka\"],[\"Middle Monipur, Mirpur\",\"dhaka\"],[\"Riazbag, Khilgaon\",\"dhaka\"],[\"Block M, Aftab Nagar\",\"dhaka\"],[\"Sector 18, Uttara\",\"dhaka\"],[\"Uttar Badda, Badda\",\"dhaka\"],[\"Uttar Badda, Badda\",\"dhaka\"],[\"1st Colony, Mirpur\",\"dhaka\"],[\"Block K, Bashundhara R-A\",\"dhaka\"],[\"Block K, Bashundhara R-A\",\"dhaka\"],[\"Shahidbag, Malibagh\",\"dhaka\"],[\"Pirerbag, Mirpur\",\"dhaka\"],[\"Block H, Aftab Nagar\",\"dhaka\"],[\"Muslim Modern College Road, Kachukhet\",\"dhaka\"],[\"West Shewrapara, Mirpur\",\"dhaka\"],[\"Kutum Goli, Agargaon\",\"dhaka\"],[\"Kutum Goli, Agargaon\",\"dhaka\"],[\"Srjani road, Ibrahimpur\",\"dhaka\"],[\"Lichu Bagan Road, Joar Sahara\",\"dhaka\"],[\"Kallyanpur, Mirpur\",\"dhaka\"],[\"Pallabi, Mirpur\",\"dhaka\"],[\"Pallabi, Mirpur\",\"dhaka\"],[\"Pallabi, Mirpur\",\"dhaka\"],[\"Shahjadpur, Badda\",\"dhaka\"],[\"Shahjadpur, Badda\",\"dhaka\"],[\"Paikpara, Mirpur\",\"dhaka\"],[\"Section 12, Mirpur\",\"dhaka\"],[\"Section 12, Mirpur\",\"dhaka\"],[\"Faydabad, Dakshin Khan\",\"dhaka\"],[\"Jagannathpur, Badda\",\"dhaka\"],[\"Uttar Badda, Badda\",\"dhaka\"],[\"Ashulia, Savar\",\"dhaka\"],[\"Merul Badda, Badda\",\"dhaka\"],[\"Section 12, Mirpur\",\"dhaka\"],[\"East Monipur, Mirpur\",\"dhaka\"],[\"Pallabi, Mirpur\",\"dhaka\"],[\"East Kazipara, Mirpur\",\"dhaka\"],[\"Block F, Bashundhara R-A\",\"dhaka\"],[\"Section 12, Mirpur\",\"dhaka\"],[\"Middle Monipur, Mirpur\",\"dhaka\"],[\"Block B, Bashundhara R-A\",\"dhaka\"],[\"Lake Circus Road, Kalabagan\",\"dhaka\"],[\"Block F, Banasree\",\"dhaka\"],[\"Kallyanpur, Mirpur\",\"dhaka\"],[\"Kallyanpur, Mirpur\",\"dhaka\"],[\"Pirerbag, Mirpur\",\"dhaka\"],[\"Ahmed Nagar, Mirpur\",\"dhaka\"],[\"Block B, Banasree\",\"dhaka\"],[\"Block L, Bashundhara R-A\",\"dhaka\"],[\"Bochila, Mohammadpur\",\"dhaka\"],[\"Block H, Bashundhara R-A\",\"dhaka\"],[\"Road No 2, Banani DOHS\",\"dhaka\"],[\"Road No 2, Banani DOHS\",\"dhaka\"],[\"Nobodoy Housing Society, Mohammadpur\",\"dhaka\"],[\"Block C, Aftab Nagar\",\"dhaka\"],[\"Tajmahal Road, Mohammadpur\",\"dhaka\"],[\"Block A, Aftab Nagar\",\"dhaka\"],[\"Iqbal Road, Mohammadpur\",\"dhaka\"],[\"West Shewrapara, Mirpur\",\"dhaka\"],[\"West Shewrapara, Mirpur\",\"dhaka\"],[\"Paikpara, Mirpur\",\"dhaka\"],[\"Pragati Soroni, Kuril\",\"dhaka\"],[\"Dakkhin Paikpara, Mirpur\",\"dhaka\"],[\"Road No 9A, Dhanmondi\",\"dhaka\"],[\"Puran Para, Uttar Khan\",\"dhaka\"],[\"Puran Para, Uttar Khan\",\"dhaka\"],[\"West Agargaon, Agargaon\",\"dhaka\"],[\"West Agargaon, Agargaon\",\"dhaka\"],[\"Section 11, Mirpur\",\"dhaka\"],[\"Section 11, Mirpur\",\"dhaka\"],[\"2nd Colony, Mirpur\",\"dhaka\"],[\"Section 1, Mirpur\",\"dhaka\"],[\"Section 11, Mirpur\",\"dhaka\"],[\"Darussalam, Mirpur\",\"dhaka\"],[\"Darussalam, Mirpur\",\"dhaka\"],[\"North Ibrahimpur, Ibrahimpur\",\"dhaka\"],[\"Manikdi, Cantonment\",\"dhaka\"],[\"Section 1, Mirpur\",\"dhaka\"],[\"Section 1, Mirpur\",\"dhaka\"],[\"Middle Paikpara, Mirpur\",\"dhaka\"],[\"Middle Paikpara, Mirpur\",\"dhaka\"],[\"Block I, Bashundhara R-A\",\"dhaka\"],[\"Nurjahan Road, Mohammadpur\",\"dhaka\"],[\"Shekhertek, Mohammadpur\",\"dhaka\"],[\"West Monipur, Mirpur\",\"dhaka\"],[\"West Monipur, Mirpur\",\"dhaka\"],[\"West Monipur, Mirpur\",\"dhaka\"],[\"Pirerbag, Mirpur\",\"dhaka\"],[\"West Shewrapara, Mirpur\",\"dhaka\"],[\"West Monipur, Mirpur\",\"dhaka\"],[\"North Ibrahimpur, Ibrahimpur\",\"dhaka\"],[\"Taltola, Agargaon\",\"dhaka\"],[\"Pirerbag, Mirpur\",\"dhaka\"],[\"PC Culture Housing, Mohammadpur\",\"dhaka\"],[\"Block B, Bashundhara R-A\",\"dhaka\"],[\"Ahmed Nagar, Mirpur\",\"dhaka\"],[\"Paikpara, Mirpur\",\"dhaka\"],[\"Pallabi, Mirpur\",\"dhaka\"],[\"Sector 5, Uttara\",\"dhaka\"],[\"Section 10, Mirpur\",\"dhaka\"],[\"Block C, Bashundhara R-A\",\"dhaka\"],[\"Section 12, Mirpur\",\"dhaka\"],[\"School Road, Khilkhet\",\"dhaka\"],[\"Block F, Bashundhara R-A\",\"dhaka\"],[\"Mirpur DOHS, Mirpur\",\"dhaka\"],[\"Section 10, Mirpur\",\"dhaka\"],[\"South Banasree Project, Banasree\",\"dhaka\"],[\"Chandrima Model Town, Mohammadpur\",\"dhaka\"],[\"Sector 10, Uttara\",\"dhaka\"],[\"Keraniganj\",\"dhaka\"],[\"Section 10, Mirpur\",\"dhaka\"],[\"Section 10, Mirpur\",\"dhaka\"],[\"Dakkhin Paikpara, Mirpur\",\"dhaka\"],[\"Dakkhin Paikpara, Mirpur\",\"dhaka\"],[\"Luxmibazar, Sutrapur\",\"dhaka\"],[\"Luxmibazar, Sutrapur\",\"dhaka\"],[\"Luxmibazar, Sutrapur\",\"dhaka\"],[\"Ahmed Nagar, Mirpur\",\"dhaka\"],[\"Dakkhin Paikpara, Mirpur\",\"dhaka\"],[\"Kadamtali, Shyampur\",\"dhaka\"],[\"Block F, Bashundhara R-A\",\"dhaka\"],[\"Block E, Banasree\",\"dhaka\"],[\"Sector 13, Uttara\",\"dhaka\"],[\"Bashabo Madartek Road, Bashabo\",\"dhaka\"],[\"Block I, Bashundhara R-A\",\"dhaka\"],[\"Kazi Nazrul Islam Avenue, Banglamotors\",\"dhaka\"],[\"West Mollartek, Dakshin Khan\",\"dhaka\"],[\"Section 2, Mirpur\",\"dhaka\"],[\"Middle Paikpara, Mirpur\",\"dhaka\"],[\"Section 11, Mirpur\",\"dhaka\"],[\"Mirpur DOHS, Mirpur\",\"dhaka\"],[\"North Kafrul Road, Ibrahimpur\",\"dhaka\"],[\"Section 11, Mirpur\",\"dhaka\"],[\"Section 11, Mirpur\",\"dhaka\"],[\"Paikpara, Mirpur\",\"dhaka\"],[\"Block M, Bashundhara R-A\",\"dhaka\"],[\"Section 6, Mirpur\",\"dhaka\"],[\"Section 6, Mirpur\",\"dhaka\"],[\"Sector 10, Uttara\",\"dhaka\"],[\"Ring Road, Shyamoli\",\"dhaka\"],[\"Section 13, Mirpur\",\"dhaka\"],[\"Block G, Bashundhara R-A\",\"dhaka\"],[\"Kallyanpur, Mirpur\",\"dhaka\"],[\"Section 11, Mirpur\",\"dhaka\"],[\"Ashkona, Dakshin Khan\",\"dhaka\"],[\"Section 1, Mirpur\",\"dhaka\"],[\"Middle Monipur, Mirpur\",\"dhaka\"],[\"Block D, Bashundhara R-A\",\"dhaka\"],[\"Lalkuthi, Mirpur\",\"dhaka\"],[\"Section 2, Mirpur\",\"dhaka\"],[\"East Kazipara, Mirpur\",\"dhaka\"],[\"Manikdi, Cantonment\",\"dhaka\"],[\"Block D, Bashundhara R-A\",\"dhaka\"],[\"East Kafrul Road, Kafrul\",\"dhaka\"],[\"Sector 12, Uttara\",\"dhaka\"],[\"1st Colony, Mirpur\",\"dhaka\"],[\"Baitul Aman Housing Society, Adabor\",\"dhaka\"],[\"Pirerbag, Mirpur\",\"dhaka\"],[\"Anando Road, Ibrahimpur\",\"dhaka\"],[\"Anando Road, Ibrahimpur\",\"dhaka\"],[\"Ibrahimpur Bazar Road, Ibrahimpur\",\"dhaka\"],[\"Kutum Goli, Agargaon\",\"dhaka\"],[\"PC Culture Housing, Mohammadpur\",\"dhaka\"],[\"Lalasarai Road, Kachukhet\",\"dhaka\"],[\"Block E, Bashundhara R-A\",\"dhaka\"],[\"Block J, Bashundhara R-A\",\"dhaka\"],[\"South Kafrul Road, Kafrul\",\"dhaka\"],[\"Shahjadpur, Badda\",\"dhaka\"],[\"Gulshan 1, Gulshan\",\"dhaka\"],[\"Gawair, Dakshin Khan\",\"dhaka\"],[\"Sector 3, Uttara\",\"dhaka\"],[\"Block D, Bashundhara R-A\",\"dhaka\"],[\"Block C, Bashundhara R-A\",\"dhaka\"],[\"Malibagh Chowdhury Para, Malibagh\",\"dhaka\"],[\"East Kazipara, Mirpur\",\"dhaka\"],[\"Sector 11, Uttara\",\"dhaka\"],[\"Darussalam, Mirpur\",\"dhaka\"],[\"Section 11, Mirpur\",\"dhaka\"],[\"East Monipur, Mirpur\",\"dhaka\"],[\"Section 11, Mirpur\",\"dhaka\"],[\"Kachukhet Road, Mirpur\",\"dhaka\"],[\"Block D, Bashundhara R-A\",\"dhaka\"],[\"Salimullah Road, Mohammadpur\",\"dhaka\"],[\"East Kazipara, Mirpur\",\"dhaka\"],[\"North Ibrahimpur, Ibrahimpur\",\"dhaka\"],[\"Sector 5, Uttara\",\"dhaka\"],[\"2nd Colony, Mirpur\",\"dhaka\"],[\"Rupnagar R\\u002fA, Mirpur\",\"dhaka\"],[\"Pirerbag, Mirpur\",\"dhaka\"],[\"Block D, Aftab Nagar\",\"dhaka\"],[\"Sector 11, Uttara\",\"dhaka\"],[\"Block B, Bashundhara R-A\",\"dhaka\"],[\"South Chalabon, Dakshin Khan\",\"dhaka\"],[\"Mirpur DOHS, Mirpur\",\"dhaka\"],[\"Ahmed Nagar, Mirpur\",\"dhaka\"],[\"Pirerbag, Mirpur\",\"dhaka\"],[\"New Circular Road, Shiddheswari\",\"dhaka\"],[\"Section 6, Mirpur\",\"dhaka\"],[\"Shiddheswari Lane, Shiddheswari\",\"dhaka\"],[\"Block J, Bashundhara R-A\",\"dhaka\"],[\"Block J, Bashundhara R-A\",\"dhaka\"],[\"Nobodoy Housing Society, Mohammadpur\",\"dhaka\"],[\"Nurer Chala, Badda\",\"dhaka\"],[\"Pirerbag, Mirpur\",\"dhaka\"],[\"Jigatola, Hazaribag\",\"dhaka\"],[\"Gulshan 1, Gulshan\",\"dhaka\"],[\"West Shewrapara, Mirpur\",\"dhaka\"],[\"Mirpur DOHS, Mirpur\",\"dhaka\"],[\"Ashi Dag Road, Ibrahimpur\",\"dhaka\"],[\"New Baily Road, Shiddheswari\",\"dhaka\"],[\"Kutum Goli, Agargaon\",\"dhaka\"],[\"Kutum Goli, Agargaon\",\"dhaka\"],[\"Monipuripara, Tejgaon\",\"dhaka\"],[\"Kuratoli, Kuril\",\"dhaka\"],[\"Kallyanpur, Mirpur\",\"dhaka\"],[\"Block I, Bashundhara R-A\",\"dhaka\"],[\"Section 11, Mirpur\",\"dhaka\"],[\"Section 12, Mirpur\",\"dhaka\"],[\"Nurjahan Road, Mohammadpur\",\"dhaka\"],[\"Section 12, Mirpur\",\"dhaka\"],[\"PC Culture Housing, Mohammadpur\",\"dhaka\"],[\"West Agargaon, Agargaon\",\"dhaka\"],[\"Shahjadpur, Badda\",\"dhaka\"],[\"Ahmed Nagar, Mirpur\",\"dhaka\"],[\"Darussalam, Mirpur\",\"dhaka\"],[\"Darussalam, Mirpur\",\"dhaka\"],[\"Darussalam, Mirpur\",\"dhaka\"],[\"Middle Paikpara, Mirpur\",\"dhaka\"],[\"Block I, Bashundhara R-A\",\"dhaka\"],[\"Meradia, Khilgaon\",\"dhaka\"],[\"Section 11, Mirpur\",\"dhaka\"],[\"Section 11, Mirpur\",\"dhaka\"],[\"Darussalam, Mirpur\",\"dhaka\"],[\"Darussalam, Mirpur\",\"dhaka\"],[\"Fakirapool, Motijheel\",\"dhaka\"],[\"Sector 4, Uttara\",\"dhaka\"],[\"Block K, Bashundhara R-A\",\"dhaka\"],[\"Shegunbagicha Road, Shegunbagicha\",\"dhaka\"],[\"Block K, Bashundhara R-A\",\"dhaka\"],[\"Block J, Bashundhara R-A\",\"dhaka\"],[\"Middle Badda, Badda\",\"dhaka\"],[\"Block C, Aftab Nagar\",\"dhaka\"],[\"Block F, Bashundhara R-A\",\"dhaka\"],[\"Purana Paltan, Motijheel\",\"dhaka\"],[\"East Rampura, Rampura\",\"dhaka\"],[\"Moushair, Dakshin Khan\",\"dhaka\"],[\"Pallabi, Mirpur\",\"dhaka\"],[\"Muslim Modern College Road, Kachukhet\",\"dhaka\"],[\"Madartek, Bashabo\",\"dhaka\"],[\"Motijheel Road, Motijheel\",\"dhaka\"],[\"Uttar Badda, Badda\",\"dhaka\"],[\"Uttar Badda, Badda\",\"dhaka\"],[\"Purana Paltan, Motijheel\",\"dhaka\"],[\"Block D, Bashundhara R-A\",\"dhaka\"],[\"Sector 10, Uttara\",\"dhaka\"],[\"Sector 10, Uttara\",\"dhaka\"],[\"Block K, Bashundhara R-A\",\"dhaka\"],[\"Sector 11, Uttara\",\"dhaka\"],[\"Block A, Bashundhara R-A\",\"dhaka\"],[\"Block H, Aftab Nagar\",\"dhaka\"],[\"Uttar Badda, Badda\",\"dhaka\"],[\"New Eskaton Road, Eskaton\",\"dhaka\"],[\"Block E, Aftab Nagar\",\"dhaka\"],[\"Section 11, Mirpur\",\"dhaka\"],[\"Section 1, Mirpur\",\"dhaka\"],[\"Madartek, Bashabo\",\"dhaka\"],[\"Block G, Lalmatia\",\"dhaka\"],[\"Sector 10, Uttara\",\"dhaka\"],[\"Road No 8, Baridhara DOHS\",\"dhaka\"],[\"Chandgaon Residential Area, 4 No Chandgaon Ward\",\"chattogram\"],[\"Badshah Miah Chowdhury Road, 15 No. Bagmoniram Ward\",\"chattogram\"],[\"Bibirhat, 7 No. West Sholoshohor Ward\",\"chattogram\"],[\"Lake Valley R\\u002fA, 9 No. North Pahartali Ward\",\"chattogram\"],[\"Nasirabad Housing Society, Muradpur\",\"chattogram\"],[\"Nasirabad, Bayazid\",\"chattogram\"],[\"Nasirabad, Bayazid\",\"chattogram\"],[\"South Khulshi, Khulshi\",\"chattogram\"],[\"Momin Road, Jamal Khan\",\"chattogram\"],[\"25 No. Rampur Ward, Double Mooring\",\"chattogram\"],[\"Nasirabad Housing Society, Muradpur\",\"chattogram\"],[\"West Khulshi, 9 No. North Pahartali Ward\",\"chattogram\"],[\"Shershah Colony, Bayazid\",\"chattogram\"],[\"Akbarshah Railway Colony, 9 No. North Pahartali Ward\",\"chattogram\"],[\"Nasirabad, Bayazid\",\"chattogram\"],[\"Zakir Hossain Road, Khulshi\",\"chattogram\"],[\"Dewan Bazar, Bakalia\",\"chattogram\"],[\"Hamjarbag, 7 No. West Sholoshohor Ward\",\"chattogram\"],[\"Dewan Bazar, Bakalia\",\"chattogram\"],[\"Dewan Bazar, Bakalia\",\"chattogram\"],[\"Hill View R\\u002fA, Bayazid\",\"chattogram\"],[\"Chand Mia Road, 4 No Chandgaon Ward\",\"chattogram\"],[\"17 No West Bakalia Ward, Bakalia\",\"chattogram\"],[\"Mohammad Pur Road, 7 No. West Sholoshohor Ward\",\"chattogram\"],[\"18 No. East Bakalia Ward, Bakalia\",\"chattogram\"],[\"18 No. East Bakalia Ward, Bakalia\",\"chattogram\"],[\"Nasirabad Housing Society, Muradpur\",\"chattogram\"],[\"18 No. East Bakalia Ward, Bakalia\",\"chattogram\"],[\"CDA Avenue, Muradpur\",\"chattogram\"],[\"Dewan Bazar, Bakalia\",\"chattogram\"],[\"Chasma Hill R\\u002fA, 7 No. West Sholoshohor Ward\",\"chattogram\"],[\"Nasirabad, Bayazid\",\"chattogram\"],[\"Dreamland Residential Area, Bayazid\",\"chattogram\"],[\"Nasirabad, Bayazid\",\"chattogram\"],[\"Chatteshwari Road, 15 No. Bagmoniram Ward\",\"chattogram\"],[\"26 No. North Halishahar Ward, Halishahar\",\"chattogram\"],[\"24 No. North Agrabad Ward, Double Mooring\",\"chattogram\"],[\"Chandgaon Residential Area, 4 No Chandgaon Ward\",\"chattogram\"],[\"1 No Railway Gate, Muradpur\",\"chattogram\"],[\"Nasirabad, 15 No. Bagmoniram Ward\",\"chattogram\"],[\"Nasirabad, 15 No. Bagmoniram Ward\",\"chattogram\"],[\"Nasirabad, 15 No. Bagmoniram Ward\",\"chattogram\"],[\"Nasirabad, 15 No. Bagmoniram Ward\",\"chattogram\"],[\"Nasirabad, 15 No. Bagmoniram Ward\",\"chattogram\"],[\"Nasirabad, 15 No. Bagmoniram Ward\",\"chattogram\"],[\"Nasirabad, Bayazid\",\"chattogram\"],[\"Nasirabad, Bayazid\",\"chattogram\"],[\"Nasirabad, Bayazid\",\"chattogram\"],[\"North Khulshi, Khulshi\",\"chattogram\"],[\"South Khulshi, Khulshi\",\"chattogram\"],[\"Darul Uloom Road, Jamal Khan\",\"chattogram\"],[\"Mirzapul Road, Muradpur\",\"chattogram\"],[\"Bahaddarhat, 4 No Chandgaon Ward\",\"chattogram\"],[\"39 No. South Halishahar Ward, Halishahar\",\"chattogram\"],[\"39 No. South Halishahar Ward, Halishahar\",\"chattogram\"],[\"Bahaddarhat, 4 No Chandgaon Ward\",\"chattogram\"],[\"Mohara, 4 No Chandgaon Ward\",\"chattogram\"],[\"Shahid Nagar, Bayazid\",\"chattogram\"],[\"12 No. Sarai Para Ward, Double Mooring\",\"chattogram\"],[\"12 No. Sarai Para Ward, Double Mooring\",\"chattogram\"],[\"12 No. Sarai Para Ward, Double Mooring\",\"chattogram\"],[\"12 No. Sarai Para Ward, Double Mooring\",\"chattogram\"],[\"Hill View R\\u002fA, Bayazid\",\"chattogram\"],[\"Patharghata, Kotwali\",\"chattogram\"],[\"Patharghata, Kotwali\",\"chattogram\"],[\"Dewan Bazar, Bakalia\",\"chattogram\"],[\"Korbanigonj, Kotwali\",\"chattogram\"],[\"18 No. East Bakalia Ward, Bakalia\",\"chattogram\"],[\"18 No. East Bakalia Ward, Bakalia\",\"chattogram\"],[\"Chand Mia Road, 4 No Chandgaon Ward\",\"chattogram\"],[\"28 No. Pathantooly Ward, Double Mooring\",\"chattogram\"],[\"28 No. Pathantooly Ward, Double Mooring\",\"chattogram\"],[\"28 No. Pathantooly Ward, Double Mooring\",\"chattogram\"],[\"38 No. South Middle Halishahar, Halishahar\",\"chattogram\"],[\"CDA Avenue, Sholokbahar\",\"chattogram\"],[\"East Nasirabad, Muradpur\",\"chattogram\"],[\"C & B Colony, East Nasirabad\",\"chattogram\"],[\"Road No 1, Jalalabad Housing Society\",\"chattogram\"],[\"Huseyn Shaheed Suhrawardy By Lane, 33 No. Firingee Bazaar Ward\",\"chattogram\"],[\"Akbarshah Railway Colony, 9 No. North Pahartali Ward\",\"chattogram\"],[\"Abdul Hamid Road, Sholokbahar\",\"chattogram\"],[\"Abdul Hamid Road, Sholokbahar\",\"chattogram\"],[\"South Agrabad, Double Mooring\",\"chattogram\"],[\"CDA Avenue, Muradpur\",\"chattogram\"],[\"Proshanti R\\u002fA, 10 No. North Kattali Ward\",\"chattogram\"],[\"Port Connecting Road, 11 No. South Kattali Ward\",\"chattogram\"],[\"18 No. East Bakalia Ward, Bakalia\",\"chattogram\"],[\"Noapara, 9 No. North Pahartali Ward\",\"chattogram\"],[\"Khulshi Green Housing Society, Khulshi\",\"chattogram\"],[\"Khulshi Green Housing Society, Khulshi\",\"chattogram\"],[\"Khulshi Green Housing Society, Khulshi\",\"chattogram\"],[\"Abdul Hamid Road, Sholokbahar\",\"chattogram\"],[\"Nasirabad Housing Society, Muradpur\",\"chattogram\"],[\"Mohammed Ali Road, 15 No. Bagmoniram Ward\",\"chattogram\"],[\"Jubilee Road, 22 No. Enayet Bazaar Ward\",\"chattogram\"],[\"24 No. North Agrabad Ward, Double Mooring\",\"chattogram\"],[\"Nasirabad Housing Society, Muradpur\",\"chattogram\"],[\"Kaibalyadham Housing Society, 9 No. North Pahartali Ward\",\"chattogram\"],[\"Polytechnic, Bayazid\",\"chattogram\"],[\"Dewan Bazar, Bakalia\",\"chattogram\"],[\"Dewan Bazar, Bakalia\",\"chattogram\"],[\"Dewan Bazar, Bakalia\",\"chattogram\"],[\"Chawk Bazar, 16 No. Chawk Bazaar Ward\",\"chattogram\"],[\"Zakir Hossain Road, Khulshi\",\"chattogram\"],[\"South Khulshi, Khulshi\",\"chattogram\"],[\"O. R Nizam Road, Panchlaish\",\"chattogram\"],[\"Abhoy Mitra Lane, 33 No. Firingee Bazaar Ward\",\"chattogram\"],[\"Majhirghat Road, 30 No. East Madarbari Ward\",\"chattogram\"],[\"Dhaka Trunk Road, 9 No. North Pahartali Ward\",\"chattogram\"],[\"Nabab Siraj Ud Daula Road, Jamal Khan\",\"chattogram\"],[\"Sheikh Mujib Road, Double Mooring\",\"chattogram\"],[\"South Agrabad, Double Mooring\",\"chattogram\"],[\"Bahaddarhat, 4 No Chandgaon Ward\",\"chattogram\"],[\"Bahaddarhat, 4 No Chandgaon Ward\",\"chattogram\"],[\"Bahaddarhat, 4 No Chandgaon Ward\",\"chattogram\"],[\"Mohara, 4 No Chandgaon Ward\",\"chattogram\"],[\"Nasirabad Housing Society, Muradpur\",\"chattogram\"],[\"Khulshi Garden View Housing Society, 9 No. North Pahartali Ward\",\"chattogram\"],[\"Khulshi Garden View Housing Society, 9 No. North Pahartali Ward\",\"chattogram\"],[\"Shahid Nagar, Bayazid\",\"chattogram\"],[\"Hillview Residential Area, 15 No. Bagmoniram Ward\",\"chattogram\"],[\"Ali Nagar, Bayazid\",\"chattogram\"],[\"South Khulshi, Khulshi\",\"chattogram\"],[\"Dhaka Trunk Road, 9 No. North Pahartali Ward\",\"chattogram\"],[\"Dhaka Trunk Road, 9 No. North Pahartali Ward\",\"chattogram\"],[\"Yakub Nagar Road, 33 No. Firingee Bazaar Ward\",\"chattogram\"],[\"Yakub Nagar Road, 33 No. Firingee Bazaar Ward\",\"chattogram\"],[\"Dhaka Trunk Road, 9 No. North Pahartali Ward\",\"chattogram\"],[\"Dhaka Trunk Road, 9 No. North Pahartali Ward\",\"chattogram\"],[\"Dhaka Trunk Road, 9 No. North Pahartali Ward\",\"chattogram\"],[\"Dhaka Trunk Road, 9 No. North Pahartali Ward\",\"chattogram\"],[\"Dhaka Trunk Road, 9 No. North Pahartali Ward\",\"chattogram\"],[\"Dhaka- Chattogram Highway, 10 No. North Kattali Ward\",\"chattogram\"],[\"25 No. Rampur Ward, Double Mooring\",\"chattogram\"],[\"25 No. Rampur Ward, Double Mooring\",\"chattogram\"],[\"Mohara, 4 No Chandgaon Ward\",\"chattogram\"],[\"Dakshin Kattali, 11 No. South Kattali Ward\",\"chattogram\"],[\"Halishahar Road, Halishahar\",\"chattogram\"],[\"28 No. Pathantooly Ward, Double Mooring\",\"chattogram\"],[\"Dhaka Trunk Road, 9 No. North Pahartali Ward\",\"chattogram\"],[\"Dhaka Trunk Road, 9 No. North Pahartali Ward\",\"chattogram\"],[\"Dhaka Trunk Road, 9 No. North Pahartali Ward\",\"chattogram\"],[\"Dhaka Trunk Road, 9 No. North Pahartali Ward\",\"chattogram\"],[\"Dhaka Trunk Road, 9 No. North Pahartali Ward\",\"chattogram\"],[\"Dhaka Trunk Road, 9 No. North Pahartali Ward\",\"chattogram\"],[\"Dhaka Trunk Road, 9 No. North Pahartali Ward\",\"chattogram\"],[\"Darogahat Road, 30 No. East Madarbari Ward\",\"chattogram\"],[\"Dreamland Residential Area, Bayazid\",\"chattogram\"],[\"Lake Valley R\\u002fA, 9 No. North Pahartali Ward\",\"chattogram\"],[\"North Khulshi, Khulshi\",\"chattogram\"],[\"Nandan Kanan, 22 No. Enayet Bazaar Ward\",\"chattogram\"],[\"Dakshin Kattali, 11 No. South Kattali Ward\",\"chattogram\"],[\"Kobi Kazi Nazrul Islam Road, 33 No. Firingee Bazaar Ward\",\"chattogram\"],[\"CDA Avenue, Sholokbahar\",\"chattogram\"],[\"CDA Avenue, Sholokbahar\",\"chattogram\"],[\"CDA Avenue, Sholokbahar\",\"chattogram\"],[\"Majhirghat Road, 30 No. East Madarbari Ward\",\"chattogram\"],[\"Majhirghat Road, 30 No. East Madarbari Ward\",\"chattogram\"],[\"Kobi Kazi Nazrul Islam Road, 33 No. Firingee Bazaar Ward\",\"chattogram\"],[\"Kobi Kazi Nazrul Islam Road, 33 No. Firingee Bazaar Ward\",\"chattogram\"],[\"Sabujbag, Halishahar\",\"chattogram\"],[\"Sabujbag, Halishahar\",\"chattogram\"],[\"12 No. Sarai Para Ward, Double Mooring\",\"chattogram\"],[\"12 No. Sarai Para Ward, Double Mooring\",\"chattogram\"],[\"24 No. North Agrabad Ward, Double Mooring\",\"chattogram\"],[\"24 No. North Agrabad Ward, Double Mooring\",\"chattogram\"],[\"Dewan Bazar, Bakalia\",\"chattogram\"],[\"South Agrabad, Double Mooring\",\"chattogram\"],[\"24 No. North Agrabad Ward, Double Mooring\",\"chattogram\"],[\"23 No. North Pathantooly Ward, Double Mooring\",\"chattogram\"],[\"23 No. North Pathantooly Ward, Double Mooring\",\"chattogram\"],[\"North Forida Para, 4 No Chandgaon Ward\",\"chattogram\"],[\"Chandgaon Residential Area, 4 No Chandgaon Ward\",\"chattogram\"],[\"Abhoy Mitra Lane, 33 No. Firingee Bazaar Ward\",\"chattogram\"],[\"Patharghata, Kotwali\",\"chattogram\"],[\"Patharghata, Kotwali\",\"chattogram\"],[\"14 No. Lalkhan Bazaar Ward, Lal Khan Bazaar\",\"chattogram\"],[\"39 No. South Halishahar Ward, Halishahar\",\"chattogram\"],[\"26 No. North Halishahar Ward, Halishahar\",\"chattogram\"],[\"Chandgaon Residential Area, 4 No Chandgaon Ward\",\"chattogram\"],[\"South Khulshi, Khulshi\",\"chattogram\"],[\"Yakub Future Park Housing, Khulshi\",\"chattogram\"],[\"R C Church Road, 33 No. Firingee Bazaar Ward\",\"chattogram\"],[\"Hill View R\\u002fA, Bayazid\",\"chattogram\"],[\"Dhaka Trunk Road, 9 No. North Pahartali Ward\",\"chattogram\"],[\"Dhaka Trunk Road, 9 No. North Pahartali Ward\",\"chattogram\"],[\"12 No. Sarai Para Ward, Double Mooring\",\"chattogram\"],[\"Majhirghat Road, 30 No. East Madarbari Ward\",\"chattogram\"],[\"Chandgaon Residential Area, 4 No Chandgaon Ward\",\"chattogram\"],[\"Commerce College Road, Double Mooring\",\"chattogram\"],[\"Commerce College Road, Double Mooring\",\"chattogram\"],[\"Commerce College Road, Double Mooring\",\"chattogram\"],[\"Polytechnic, Bayazid\",\"chattogram\"],[\"Bibirhat, 7 No. West Sholoshohor Ward\",\"chattogram\"],[\"South Khulshi, Khulshi\",\"chattogram\"],[\"Sangbadik Co-operative Housing Society, Bayazid\",\"chattogram\"],[\"Nasirabad, 15 No. Bagmoniram Ward\",\"chattogram\"],[\"Ambagan Road, Railway Colony\",\"chattogram\"],[\"18 No. East Bakalia Ward, Bakalia\",\"chattogram\"],[\"Patharghata, Kotwali\",\"chattogram\"],[\"Chatteshwari Road, 15 No. Bagmoniram Ward\",\"chattogram\"],[\"Chatteshwari Road, 15 No. Bagmoniram Ward\",\"chattogram\"],[\"Zakir Hossain Road, Khulshi\",\"chattogram\"],[\"Zakir Hossain Road, Khulshi\",\"chattogram\"],[\"Goaltuli Lane, 22 No. Enayet Bazaar Ward\",\"chattogram\"],[\"24 No. North Agrabad Ward, Double Mooring\",\"chattogram\"],[\"24 No. North Agrabad Ward, Double Mooring\",\"chattogram\"],[\"24 No. North Agrabad Ward, Double Mooring\",\"chattogram\"],[\"24 No. North Agrabad Ward, Double Mooring\",\"chattogram\"],[\"Ashkar Dighir Par, Jamal Khan\",\"chattogram\"],[\"Badshah Miah Chowdhury Road, 15 No. Bagmoniram Ward\",\"chattogram\"],[\"Badshah Miah Chowdhury Road, 15 No. Bagmoniram Ward\",\"chattogram\"],[\"32 No. Andarkilla Ward\",\"chattogram\"],[\"Colonel Hat, 10 No. North Kattali Ward\",\"chattogram\"],[\"Polytechnic, Bayazid\",\"chattogram\"],[\"Green Valley, Bayazid\",\"chattogram\"],[\"Shahid Nagar, Bayazid\",\"chattogram\"],[\"CDA Avenue, 15 No. Bagmoniram Ward\",\"chattogram\"],[\"West Khulshi, 9 No. North Pahartali Ward\",\"chattogram\"],[\"Patharghata, Kotwali\",\"chattogram\"],[\"South Agrabad, Double Mooring\",\"chattogram\"],[\"28 No. Pathantooly Ward, Double Mooring\",\"chattogram\"],[\"West Khulshi R\\u002fA, 9 No. North Pahartali Ward\",\"chattogram\"],[\"Hill Side Residential Area, Lal Khan Bazaar\",\"chattogram\"],[\"Hill Side Residential Area, Lal Khan Bazaar\",\"chattogram\"],[\"Joy Pahar Housing Estate, Kazir Dewri\",\"chattogram\"],[\"Lake Valley R\\u002fA, 9 No. North Pahartali Ward\",\"chattogram\"],[\"Al-Madani Road, Sholokbahar\",\"chattogram\"],[\"Al-Madani Road, Sholokbahar\",\"chattogram\"],[\"Al-Madani Road, Sholokbahar\",\"chattogram\"],[\"Raufabad Residential Area, Bayazid\",\"chattogram\"],[\"Zakir Hossain Road, Khulshi\",\"chattogram\"],[\"37 No. North-Middle Halishahar Ward, Halishahar\",\"chattogram\"],[\"14 No. Lalkhan Bazaar Ward, Lal Khan Bazaar\",\"chattogram\"],[\"Zakir Hossain By Lane, East Nasirabad\",\"chattogram\"],[\"Al-Madani Road, Sholokbahar\",\"chattogram\"],[\"Kobi Kazi Nazrul Islam Road, 33 No. Firingee Bazaar Ward\",\"chattogram\"],[\"South Khulshi, Khulshi\",\"chattogram\"],[\"Yakub Future Park Housing, Khulshi\",\"chattogram\"],[\"Sheikh Mujib Road, Double Mooring\",\"chattogram\"],[\"25 No. Rampur Ward, Double Mooring\",\"chattogram\"],[\"West Khulshi R\\u002fA, 9 No. North Pahartali Ward\",\"chattogram\"],[\"West Khulshi R\\u002fA, 9 No. North Pahartali Ward\",\"chattogram\"],[\"West Khulshi R\\u002fA, 9 No. North Pahartali Ward\",\"chattogram\"],[\"West Khulshi R\\u002fA, 9 No. North Pahartali Ward\",\"chattogram\"],[\"West Khulshi R\\u002fA, 9 No. North Pahartali Ward\",\"chattogram\"],[\"Hill View R\\u002fA, Bayazid\",\"chattogram\"],[\"Hill View R\\u002fA, Bayazid\",\"chattogram\"],[\"Hill View R\\u002fA, Bayazid\",\"chattogram\"],[\"Hill View R\\u002fA, Bayazid\",\"chattogram\"],[\"Hill View R\\u002fA, Bayazid\",\"chattogram\"],[\"Nasirabad, Bayazid\",\"chattogram\"],[\"Yakub Future Park Housing, Khulshi\",\"chattogram\"],[\"Katalgonj, Panchlaish\",\"chattogram\"],[\"26 No. North Halishahar Ward, Halishahar\",\"chattogram\"],[\"Dewan Bazar, Bakalia\",\"chattogram\"],[\"Nasirabad Housing Society, Muradpur\",\"chattogram\"],[\"CDA Avenue, Sholokbahar\",\"chattogram\"],[\"Dhaka Trunk Road, 9 No. North Pahartali Ward\",\"chattogram\"],[\"Cosmopolitan R\\u002fA, 7 No. West Sholoshohor Ward\",\"chattogram\"],[\"Chandgaon Residential Area, 4 No Chandgaon Ward\",\"chattogram\"],[\"South Agrabad, Double Mooring\",\"chattogram\"],[\"Chadra Nagar, Bayazid\",\"chattogram\"],[\"39 No. South Halishahar Ward, Halishahar\",\"chattogram\"],[\"17 No West Bakalia Ward, Bakalia\",\"chattogram\"],[\"West Khulshi, 9 No. North Pahartali Ward\",\"chattogram\"],[\"Sugandha Residential Area, Panchlaish\",\"chattogram\"],[\"Nasirabad Housing Society, Muradpur\",\"chattogram\"],[\"South Khulshi, Khulshi\",\"chattogram\"],[\"Ali Nagar, Bayazid\",\"chattogram\"],[\"Nasirabad, 15 No. Bagmoniram Ward\",\"chattogram\"],[\"West Khulshi R\\u002fA, 9 No. North Pahartali Ward\",\"chattogram\"],[\"24 No. North Agrabad Ward, Double Mooring\",\"chattogram\"],[\"South Khulshi, Khulshi\",\"chattogram\"],[\"37 No. North-Middle Halishahar Ward, Halishahar\",\"chattogram\"],[\"Munshi Pukur Par, 16 No. Chawk Bazaar Ward\",\"chattogram\"],[\"Nasirabad, Bayazid\",\"chattogram\"],[\"Dewan Bazar, Bakalia\",\"chattogram\"],[\"Dewan Bazar, Bakalia\",\"chattogram\"],[\"Mohara, 4 No Chandgaon Ward\",\"chattogram\"],[\"Munshi Pukur Par, 16 No. Chawk Bazaar Ward\",\"chattogram\"],[\"24 No. North Agrabad Ward, Double Mooring\",\"chattogram\"],[\"Dewan Bazar, Bakalia\",\"chattogram\"],[\"17 No West Bakalia Ward, Bakalia\",\"chattogram\"],[\"Yakub Future Park Housing, Khulshi\",\"chattogram\"],[\"West Khulshi, 9 No. North Pahartali Ward\",\"chattogram\"],[\"Dhaka Trunk Road, 9 No. North Pahartali Ward\",\"chattogram\"],[\"Dhaka Trunk Road, 9 No. North Pahartali Ward\",\"chattogram\"],[\"Dewan Bazar, Bakalia\",\"chattogram\"],[\"CDA Avenue, Sholokbahar\",\"chattogram\"],[\"Chadra Nagar, Bayazid\",\"chattogram\"],[\"South Agrabad, Double Mooring\",\"chattogram\"],[\"24 No. North Agrabad Ward, Double Mooring\",\"chattogram\"],[\"Dewan Bazar, Bakalia\",\"chattogram\"],[\"Nasirabad Housing Society, Muradpur\",\"chattogram\"],[\"Dewan Bazar, Bakalia\",\"chattogram\"],[\"CDA Avenue, Sholokbahar\",\"chattogram\"],[\"South Khulshi, Khulshi\",\"chattogram\"],[\"CDA Avenue, 7 No. West Sholoshohor Ward\",\"chattogram\"],[\"19 No. South Bakalia Ward, Bakalia\",\"chattogram\"],[\"Rahmatganj, Jamal Khan\",\"chattogram\"],[\"Abhoy Mitra Lane, 33 No. Firingee Bazaar Ward\",\"chattogram\"],[\"26 No. North Halishahar Ward, Halishahar\",\"chattogram\"],[\"39 No. South Halishahar Ward, Halishahar\",\"chattogram\"],[\"26 No. North Halishahar Ward, Halishahar\",\"chattogram\"],[\"Mohammad Pur Road, 7 No. West Sholoshohor Ward\",\"chattogram\"],[\"37 No. North-Middle Halishahar Ward, Halishahar\",\"chattogram\"],[\"Rose Valley Residential Area, 9 No. North Pahartali Ward\",\"chattogram\"],[\"Dhaka Trunk Road, 9 No. North Pahartali Ward\",\"chattogram\"],[\"Dhaka Trunk Road, 9 No. North Pahartali Ward\",\"chattogram\"],[\"Dhaka Trunk Road, 9 No. North Pahartali Ward\",\"chattogram\"],[\"Foys Lake, 9 No. North Pahartali Ward\",\"chattogram\"],[\"Foys Lake, 9 No. North Pahartali Ward\",\"chattogram\"],[\"Sadarghat Road, 33 No. Firingee Bazaar Ward\",\"chattogram\"],[\"Ashkar Dighir Par, Jamal Khan\",\"chattogram\"],[\"Majhirghat Road, 30 No. East Madarbari Ward\",\"chattogram\"],[\"Bangla Bazar, Bayazid\",\"chattogram\"],[\"Alkaran Road, 31 No. Alkoron Ward\",\"chattogram\"],[\"10 No. North Kattali Ward\",\"chattogram\"],[\"Alkaran Road, 31 No. Alkoron Ward\",\"chattogram\"],[\"Nasirabad, 15 No. Bagmoniram Ward\",\"chattogram\"],[\"Nasirabad, 15 No. Bagmoniram Ward\",\"chattogram\"],[\"Nasirabad, 15 No. Bagmoniram Ward\",\"chattogram\"],[\"Nasirabad, 15 No. Bagmoniram Ward\",\"chattogram\"],[\"Chadra Nagar, Bayazid\",\"chattogram\"],[\"Hamjarbag, 7 No. West Sholoshohor Ward\",\"chattogram\"],[\"South Khulshi, Khulshi\",\"chattogram\"],[\"Chand Mia Road, 4 No Chandgaon Ward\",\"chattogram\"],[\"Rose Valley Residential Area, 9 No. North Pahartali Ward\",\"chattogram\"],[\"Nasirabad, 15 No. Bagmoniram Ward\",\"chattogram\"],[\"Chatteshwari Road, 15 No. Bagmoniram Ward\",\"chattogram\"],[\"Bangla Bazar, Bayazid\",\"chattogram\"],[\"Shahid Saifuddin Khaled Road, Jamal Khan\",\"chattogram\"],[\"Chandgaon Residential Area, 4 No Chandgaon Ward\",\"chattogram\"],[\"Polytechnic, Bayazid\",\"chattogram\"],[\"Patharghata, Kotwali\",\"chattogram\"],[\"Commerce College Road, Double Mooring\",\"chattogram\"],[\"Badurtala, Sholokbahar\",\"chattogram\"],[\"12 No. Sarai Para Ward, Double Mooring\",\"chattogram\"],[\"25 No. Rampur Ward, Double Mooring\",\"chattogram\"],[\"24 No. North Agrabad Ward, Double Mooring\",\"chattogram\"],[\"12 No. Sarai Para Ward, Double Mooring\",\"chattogram\"],[\"17 No West Bakalia Ward, Bakalia\",\"chattogram\"],[\"Nasirabad, 15 No. Bagmoniram Ward\",\"chattogram\"],[\"Katalganj Residential Area, 16 No. Chawk Bazaar Ward\",\"chattogram\"],[\"Jubilee Road, 22 No. Enayet Bazaar Ward\",\"chattogram\"],[\"17 No West Bakalia Ward, Bakalia\",\"chattogram\"],[\"Proshanti R\\u002fA, 10 No. North Kattali Ward\",\"chattogram\"],[\"Masjid Lane, 15 No. Bagmoniram Ward\",\"chattogram\"],[\"Nasirabad, Bayazid\",\"chattogram\"],[\"Nasirabad, Bayazid\",\"chattogram\"],[\"Chasma Hill R\\u002fA, 7 No. West Sholoshohor Ward\",\"chattogram\"],[\"18 No. East Bakalia Ward, Bakalia\",\"chattogram\"],[\"18 No. East Bakalia Ward, Bakalia\",\"chattogram\"],[\"18 No. East Bakalia Ward, Bakalia\",\"chattogram\"],[\"18 No. East Bakalia Ward, Bakalia\",\"chattogram\"],[\"Chand Mia Road, 4 No Chandgaon Ward\",\"chattogram\"],[\"17 No West Bakalia Ward, Bakalia\",\"chattogram\"],[\"CDA Avenue, Lal Khan Bazaar\",\"chattogram\"],[\"Panchlaish\",\"chattogram\"],[\"15 No. Bagmoniram Ward\",\"chattogram\"],[\"CDA R\\u002fA, 10 No. North Kattali Ward\",\"chattogram\"],[\"Bahaddarhat, 4 No Chandgaon Ward\",\"chattogram\"],[\"Bahaddarhat, 4 No Chandgaon Ward\",\"chattogram\"],[\"39 No. South Halishahar Ward, Halishahar\",\"chattogram\"],[\"39 No. South Halishahar Ward, Halishahar\",\"chattogram\"],[\"Mohara, 4 No Chandgaon Ward\",\"chattogram\"],[\"Mohara, 4 No Chandgaon Ward\",\"chattogram\"],[\"Mohara, 4 No Chandgaon Ward\",\"chattogram\"],[\"Chattogram DOHS, Bayazid\",\"chattogram\"],[\"12 No. Sarai Para Ward, Double Mooring\",\"chattogram\"],[\"12 No. Sarai Para Ward, Double Mooring\",\"chattogram\"],[\"Mohara, 4 No Chandgaon Ward\",\"chattogram\"],[\"12 No. Sarai Para Ward, Double Mooring\",\"chattogram\"],[\"12 No. Sarai Para Ward, Double Mooring\",\"chattogram\"],[\"12 No. Sarai Para Ward, Double Mooring\",\"chattogram\"],[\"12 No. Sarai Para Ward, Double Mooring\",\"chattogram\"],[\"12 No. Sarai Para Ward, Double Mooring\",\"chattogram\"],[\"12 No. Sarai Para Ward, Double Mooring\",\"chattogram\"],[\"Dewan Bazar, Bakalia\",\"chattogram\"],[\"Dewan Bazar, Bakalia\",\"chattogram\"],[\"Dewan Bazar, Bakalia\",\"chattogram\"],[\"Dewan Bazar, Bakalia\",\"chattogram\"],[\"Chand Mia Road, 4 No Chandgaon Ward\",\"chattogram\"],[\"Nasirabad Properties Residential Area, Khulshi\",\"chattogram\"],[\"32 No. Andarkilla Ward\",\"chattogram\"],[\"32 No. Andarkilla Ward\",\"chattogram\"],[\"28 No. Pathantooly Ward, Double Mooring\",\"chattogram\"],[\"Mehidibag, 15 No. Bagmoniram Ward\",\"chattogram\"],[\"CDA Avenue, Muradpur\",\"chattogram\"],[\"Chadra Nagar, Bayazid\",\"chattogram\"],[\"Port Connecting Road, 11 No. South Kattali Ward\",\"chattogram\"],[\"Ashkar Dighir Par, Jamal Khan\",\"chattogram\"],[\"Ashkar Dighir Par, Jamal Khan\",\"chattogram\"],[\"12 No. Sarai Para Ward, Double Mooring\",\"chattogram\"],[\"Govt Girls High School Road, East Nasirabad\",\"chattogram\"],[\"Green Valley, Bayazid\",\"chattogram\"],[\"Hill View R\\u002fA, Bayazid\",\"chattogram\"],[\"Mohammed Ali Road, 15 No. Bagmoniram Ward\",\"chattogram\"],[\"Korbanigonj, Kotwali\",\"chattogram\"],[\"Dewan Bazar, Bakalia\",\"chattogram\"],[\"Dewan Bazar, Bakalia\",\"chattogram\"],[\"Dewan Bazar, Bakalia\",\"chattogram\"],[\"Dewan Bazar, Bakalia\",\"chattogram\"],[\"Dewan Bazar, Bakalia\",\"chattogram\"],[\"19 No. South Bakalia Ward, Bakalia\",\"chattogram\"],[\"Chand Mia Road, 4 No Chandgaon Ward\",\"chattogram\"],[\"Chand Mia Road, 4 No Chandgaon Ward\",\"chattogram\"],[\"17 No West Bakalia Ward, Bakalia\",\"chattogram\"],[\"18 No. East Bakalia Ward, Bakalia\",\"chattogram\"],[\"18 No. East Bakalia Ward, Bakalia\",\"chattogram\"],[\"18 No. East Bakalia Ward, Bakalia\",\"chattogram\"],[\"Chand Mia Road, 4 No Chandgaon Ward\",\"chattogram\"],[\"Chand Mia Road, 4 No Chandgaon Ward\",\"chattogram\"],[\"Chadra Nagar, Bayazid\",\"chattogram\"],[\"Dewan Bazar, Bakalia\",\"chattogram\"],[\"Dewan Bazar, Bakalia\",\"chattogram\"],[\"Dewan Bazar, Bakalia\",\"chattogram\"],[\"Dewan Bazar, Bakalia\",\"chattogram\"],[\"Enayet Bazar Road, 22 No. Enayet Bazaar Ward\",\"chattogram\"],[\"Bayazid Bostami Road, 15 No. Bagmoniram Ward\",\"chattogram\"],[\"Al-Madani Road, Sholokbahar\",\"chattogram\"],[\"Badshah Miah Chowdhury Road, 15 No. Bagmoniram Ward\",\"chattogram\"],[\"Chandgaon Residential Area, 4 No Chandgaon Ward\",\"chattogram\"],[\"Chawk Bazar, 16 No. Chawk Bazaar Ward\",\"chattogram\"],[\"Nasirabad Housing Society, Muradpur\",\"chattogram\"],[\"Bangladesh Co-operative Housing Society, Bayazid\",\"chattogram\"],[\"Sugandha Residential Area, Panchlaish\",\"chattogram\"],[\"Port Connecting Road, 11 No. South Kattali Ward\",\"chattogram\"],[\"Abdul Hamid Road, Sholokbahar\",\"chattogram\"],[\"Abdul Hamid Road, Sholokbahar\",\"chattogram\"],[\"Hill Side Residential Area, Lal Khan Bazaar\",\"chattogram\"],[\"Colonel Hat, 10 No. North Kattali Ward\",\"chattogram\"],[\"O. R. Nizam Road, 15 No. Bagmoniram Ward\",\"chattogram\"],[\"West Khulshi R\\u002fA, 9 No. North Pahartali Ward\",\"chattogram\"],[\"West Khulshi R\\u002fA, 9 No. North Pahartali Ward\",\"chattogram\"],[\"West Khulshi R\\u002fA, 9 No. North Pahartali Ward\",\"chattogram\"],[\"West Khulshi R\\u002fA, 9 No. North Pahartali Ward\",\"chattogram\"],[\"West Khulshi R\\u002fA, 9 No. North Pahartali Ward\",\"chattogram\"],[\"Amirbag Residential Area, 15 No. Bagmoniram Ward\",\"chattogram\"],[\"West Khulshi R\\u002fA, 9 No. North Pahartali Ward\",\"chattogram\"],[\"West Khulshi R\\u002fA, 9 No. North Pahartali Ward\",\"chattogram\"],[\"West Khulshi, 9 No. North Pahartali Ward\",\"chattogram\"],[\"Patharghata, Kotwali\",\"chattogram\"],[\"C & B Colony, East Nasirabad\",\"chattogram\"],[\"Katalgonj, Panchlaish\",\"chattogram\"],[\"Bayazid Bostami Road, 15 No. Bagmoniram Ward\",\"chattogram\"],[\"Bayazid Bostami Road, 15 No. Bagmoniram Ward\",\"chattogram\"],[\"28 No. Pathantooly Ward, Double Mooring\",\"chattogram\"],[\"28 No. Pathantooly Ward, Double Mooring\",\"chattogram\"],[\"CDA Avenue, Sholokbahar\",\"chattogram\"],[\"CDA Avenue, Sholokbahar\",\"chattogram\"],[\"CDA Avenue, Sholokbahar\",\"chattogram\"],[\"CDA Avenue, Sholokbahar\",\"chattogram\"],[\"South Khulshi, Khulshi\",\"chattogram\"],[\"Nasirabad, 15 No. Bagmoniram Ward\",\"chattogram\"],[\"Dhaka Trunk Road, 9 No. North Pahartali Ward\",\"chattogram\"],[\"Dhaka Trunk Road, 9 No. North Pahartali Ward\",\"chattogram\"],[\"25 No. Rampur Ward, Double Mooring\",\"chattogram\"],[\"Dhaka Trunk Road, 9 No. North Pahartali Ward\",\"chattogram\"],[\"Dhaka Trunk Road, 9 No. North Pahartali Ward\",\"chattogram\"],[\"Dhaka Trunk Road, 9 No. North Pahartali Ward\",\"chattogram\"],[\"Dhaka Trunk Road, 9 No. North Pahartali Ward\",\"chattogram\"],[\"Dhaka Trunk Road, 9 No. North Pahartali Ward\",\"chattogram\"],[\"26 No. North Halishahar Ward, Halishahar\",\"chattogram\"],[\"28 No. Pathantooly Ward, Double Mooring\",\"chattogram\"],[\"25 No. Rampur Ward, Double Mooring\",\"chattogram\"],[\"Dhaka Trunk Road, 9 No. North Pahartali Ward\",\"chattogram\"],[\"Dhaka Trunk Road, 9 No. North Pahartali Ward\",\"chattogram\"],[\"Akbarshah Railway Colony, 9 No. North Pahartali Ward\",\"chattogram\"],[\"Yakub Nagar Road, 33 No. Firingee Bazaar Ward\",\"chattogram\"],[\"Sabujbag, Halishahar\",\"chattogram\"],[\"Rose Valley Residential Area, 9 No. North Pahartali Ward\",\"chattogram\"],[\"24 No. North Agrabad Ward, Double Mooring\",\"chattogram\"],[\"24 No. North Agrabad Ward, Double Mooring\",\"chattogram\"],[\"South Agrabad, Double Mooring\",\"chattogram\"],[\"South Agrabad, Double Mooring\",\"chattogram\"],[\"South Agrabad, Double Mooring\",\"chattogram\"],[\"24 No. North Agrabad Ward, Double Mooring\",\"chattogram\"],[\"Bahaddarhat, 4 No Chandgaon Ward\",\"chattogram\"],[\"Chandgaon Residential Area, 4 No Chandgaon Ward\",\"chattogram\"],[\"Oxygen, Bayazid\",\"chattogram\"],[\"Mohara, 4 No Chandgaon Ward\",\"chattogram\"],[\"Mohara, 4 No Chandgaon Ward\",\"chattogram\"],[\"Mohara, 4 No Chandgaon Ward\",\"chattogram\"],[\"Cosmopolitan R\\u002fA, 7 No. West Sholoshohor Ward\",\"chattogram\"],[\"12 No. Sarai Para Ward, Double Mooring\",\"chattogram\"],[\"Dewan Bazar, Bakalia\",\"chattogram\"],[\"Dewan Bazar, Bakalia\",\"chattogram\"],[\"Dewan Bazar, Bakalia\",\"chattogram\"],[\"12 No. Sarai Para Ward, Double Mooring\",\"chattogram\"],[\"Dewan Bazar, Bakalia\",\"chattogram\"],[\"Dewan Bazar, Bakalia\",\"chattogram\"],[\"Dewan Bazar, Bakalia\",\"chattogram\"],[\"Mayor Goli, 7 No. West Sholoshohor Ward\",\"chattogram\"],[\"Dewan Bazar, Bakalia\",\"chattogram\"],[\"Dewan Bazar, Bakalia\",\"chattogram\"],[\"Dewan Bazar, Bakalia\",\"chattogram\"],[\"Dewan Bazar, Bakalia\",\"chattogram\"],[\"Yakub Future Park Housing, Khulshi\",\"chattogram\"],[\"Munshi Pukur Par, 16 No. Chawk Bazaar Ward\",\"chattogram\"],[\"10 No. North Kattali Ward\",\"chattogram\"],[\"1 No Railway Gate, Muradpur\",\"chattogram\"],[\"Panchlaish Residential Area, 16 No. Chawk Bazaar Ward\",\"chattogram\"],[\"West Khulshi R\\u002fA, 9 No. North Pahartali Ward\",\"chattogram\"],[\"Badurtala, Sholokbahar\",\"chattogram\"],[\"O. R Nizam Road, Panchlaish\",\"chattogram\"],[\"West Khulshi R\\u002fA, 9 No. North Pahartali Ward\",\"chattogram\"],[\"26 No. North Halishahar Ward, Halishahar\",\"chattogram\"],[\"Yakub Future Park Housing, Khulshi\",\"chattogram\"],[\"Yakub Future Park Housing, Khulshi\",\"chattogram\"],[\"Yakub Future Park Housing, Khulshi\",\"chattogram\"],[\"Yakub Future Park Housing, Khulshi\",\"chattogram\"],[\"West Khulshi R\\u002fA, 9 No. North Pahartali Ward\",\"chattogram\"],[\"West Khulshi R\\u002fA, 9 No. North Pahartali Ward\",\"chattogram\"],[\"Hill View R\\u002fA, Bayazid\",\"chattogram\"],[\"City Gate, 10 No. North Kattali Ward\",\"chattogram\"],[\"CDA Avenue, East Nasirabad\",\"chattogram\"],[\"Kobi Kazi Nazrul Islam Road, 33 No. Firingee Bazaar Ward\",\"chattogram\"],[\"Kobi Kazi Nazrul Islam Road, 33 No. Firingee Bazaar Ward\",\"chattogram\"],[\"Kobi Kazi Nazrul Islam Road, 33 No. Firingee Bazaar Ward\",\"chattogram\"],[\"Nandan Kanan, 22 No. Enayet Bazaar Ward\",\"chattogram\"],[\"Ali Nagar, Bayazid\",\"chattogram\"],[\"26 No. North Halishahar Ward, Halishahar\",\"chattogram\"],[\"26 No. North Halishahar Ward, Halishahar\",\"chattogram\"],[\"26 No. North Halishahar Ward, Halishahar\",\"chattogram\"],[\"Chawk Bazar, 16 No. Chawk Bazaar Ward\",\"chattogram\"],[\"Akbarshah, 9 No. North Pahartali Ward\",\"chattogram\"],[\"Akbarshah, 9 No. North Pahartali Ward\",\"chattogram\"],[\"Akbarshah, 9 No. North Pahartali Ward\",\"chattogram\"],[\"Polytechnic, Bayazid\",\"chattogram\"],[\"Proshanti R\\u002fA, 10 No. North Kattali Ward\",\"chattogram\"],[\"Mehidibag Road, 15 No. Bagmoniram Ward\",\"chattogram\"],[\"Munshi Pukur Par, 16 No. Chawk Bazaar Ward\",\"chattogram\"],[\"Yakub Future Park Housing, Khulshi\",\"chattogram\"],[\"Chandgaon Residential Area, 4 No Chandgaon Ward\",\"chattogram\"],[\"Panchlaish Residential Area, 16 No. Chawk Bazaar Ward\",\"chattogram\"],[\"Somobay Residential Area, Bayazid\",\"chattogram\"],[\"CDA Avenue, East Nasirabad\",\"chattogram\"],[\"Chawk Bazar, 16 No. Chawk Bazaar Ward\",\"chattogram\"],[\"West Khulshi R\\u002fA, 9 No. North Pahartali Ward\",\"chattogram\"],[\"Rose Valley Residential Area, 9 No. North Pahartali Ward\",\"chattogram\"],[\"Lake Valley R\\u002fA, 9 No. North Pahartali Ward\",\"chattogram\"],[\"14 No. Lalkhan Bazaar Ward, Lal Khan Bazaar\",\"chattogram\"],[\"39 No. South Halishahar Ward, Halishahar\",\"chattogram\"],[\"39 No. South Halishahar Ward, Halishahar\",\"chattogram\"],[\"39 No. South Halishahar Ward, Halishahar\",\"chattogram\"],[\"Sheikh Mujib Road, Double Mooring\",\"chattogram\"],[\"26 No. North Halishahar Ward, Halishahar\",\"chattogram\"],[\"26 No. North Halishahar Ward, Halishahar\",\"chattogram\"],[\"14 No. Lalkhan Bazaar Ward, Lal Khan Bazaar\",\"chattogram\"],[\"14 No. Lalkhan Bazaar Ward, Lal Khan Bazaar\",\"chattogram\"],[\"26 No. North Halishahar Ward, Halishahar\",\"chattogram\"],[\"26 No. North Halishahar Ward, Halishahar\",\"chattogram\"],[\"26 No. North Halishahar Ward, Halishahar\",\"chattogram\"],[\"26 No. North Halishahar Ward, Halishahar\",\"chattogram\"],[\"26 No. North Halishahar Ward, Halishahar\",\"chattogram\"],[\"Sabujbag, Halishahar\",\"chattogram\"],[\"1 No. Goli, 29 No. West Madarbari Ward\",\"chattogram\"],[\"17 No West Bakalia Ward, Bakalia\",\"chattogram\"],[\"12 No. Sarai Para Ward, Double Mooring\",\"chattogram\"],[\"Dhaka Trunk Road, 9 No. North Pahartali Ward\",\"chattogram\"],[\"Dhaka Trunk Road, 9 No. North Pahartali Ward\",\"chattogram\"],[\"Dhaka Trunk Road, 9 No. North Pahartali Ward\",\"chattogram\"],[\"Dhaka Trunk Road, 9 No. North Pahartali Ward\",\"chattogram\"],[\"Dhaka Trunk Road, 9 No. North Pahartali Ward\",\"chattogram\"],[\"South Khulshi, Khulshi\",\"chattogram\"],[\"Dhaka Trunk Road, 9 No. North Pahartali Ward\",\"chattogram\"],[\"Dhaka Trunk Road, 9 No. North Pahartali Ward\",\"chattogram\"],[\"Sugandha Residential Area, Panchlaish\",\"chattogram\"],[\"Nasirabad Housing Society, Muradpur\",\"chattogram\"],[\"West Khulshi, 9 No. North Pahartali Ward\",\"chattogram\"],[\"Tayab Bag R\\u002fA, 7 No. West Sholoshohor Ward\",\"chattogram\"],[\"Zakir Hossain Road, Khulshi\",\"chattogram\"],[\"18 No. East Bakalia Ward, Bakalia\",\"chattogram\"],[\"Nasirabad Housing Society, Muradpur\",\"chattogram\"],[\"Oxygen, Bayazid\",\"chattogram\"],[\"Dewan Bazar, Bakalia\",\"chattogram\"],[\"Dewan Bazar, Bakalia\",\"chattogram\"],[\"17 No West Bakalia Ward, Bakalia\",\"chattogram\"],[\"Mirzapul Road, Muradpur\",\"chattogram\"],[\"Al-Falah Housing Society, East Nasirabad\",\"chattogram\"],[\"Al-Falah Housing Society, East Nasirabad\",\"chattogram\"],[\"Jubilee Road, 22 No. Enayet Bazaar Ward\",\"chattogram\"],[\"Nasirabad Housing Society, Muradpur\",\"chattogram\"],[\"Raufabad Residential Area, Bayazid\",\"chattogram\"],[\"17 No West Bakalia Ward, Bakalia\",\"chattogram\"],[\"17 No West Bakalia Ward, Bakalia\",\"chattogram\"],[\"Panchlaish Residential Area, 16 No. Chawk Bazaar Ward\",\"chattogram\"],[\"Chawk Bazar, 16 No. Chawk Bazaar Ward\",\"chattogram\"],[\"Chandgaon Residential Area, 4 No Chandgaon Ward\",\"chattogram\"],[\"Abdul Latif Road, Sholokbahar\",\"chattogram\"],[\"Mohammadpur, 7 No. West Sholoshohor Ward\",\"chattogram\"],[\"Chatteshwari Road, 15 No. Bagmoniram Ward\",\"chattogram\"],[\"Lake Valley R\\u002fA, 9 No. North Pahartali Ward\",\"chattogram\"],[\"Chawk Bazar, 16 No. Chawk Bazaar Ward\",\"chattogram\"],[\"Zakir Hossain Road, Khulshi\",\"chattogram\"],[\"24 No. North Agrabad Ward, Double Mooring\",\"chattogram\"],[\"6 No East Sholoshohor Ward, Bakalia\",\"chattogram\"],[\"26 No. North Halishahar Ward, Halishahar\",\"chattogram\"],[\"Dewan Bazar, Bakalia\",\"chattogram\"],[\"Chandgaon Residential Area, 4 No Chandgaon Ward\",\"chattogram\"],[\"39 No. South Halishahar Ward, Halishahar\",\"chattogram\"],[\"39 No. South Halishahar Ward, Halishahar\",\"chattogram\"],[\"Khulshi Green Housing Society, Khulshi\",\"chattogram\"],[\"Cosmopolitan R\\u002fA, 7 No. West Sholoshohor Ward\",\"chattogram\"],[\"Nasirabad, 15 No. Bagmoniram Ward\",\"chattogram\"],[\"Zakir Hossain Road, Khulshi\",\"chattogram\"],[\"Dewan Bazar, Bakalia\",\"chattogram\"],[\"Nasirabad, 15 No. Bagmoniram Ward\",\"chattogram\"],[\"Khulshi Green Housing Society, Khulshi\",\"chattogram\"],[\"Yakub Future Park Housing, Khulshi\",\"chattogram\"],[\"26 No. North Halishahar Ward, Halishahar\",\"chattogram\"],[\"26 No. North Halishahar Ward, Halishahar\",\"chattogram\"],[\"Sangbadik Co-operative Housing Society, Bayazid\",\"chattogram\"],[\"Dewan Bazar, Bakalia\",\"chattogram\"],[\"24 No. North Agrabad Ward, Double Mooring\",\"chattogram\"],[\"South Agrabad, Double Mooring\",\"chattogram\"],[\"Cosmopolitan R\\u002fA, 7 No. West Sholoshohor Ward\",\"chattogram\"],[\"Sangbadik Co-operative Housing Society, Bayazid\",\"chattogram\"],[\"23 No. North Pathantooly Ward, Double Mooring\",\"chattogram\"],[\"18 No. East Bakalia Ward, Bakalia\",\"chattogram\"],[\"6 No East Sholoshohor Ward, Bakalia\",\"chattogram\"],[\"Katalgonj, Panchlaish\",\"chattogram\"],[\"CDA Avenue, Sholokbahar\",\"chattogram\"],[\"South Khulshi, Khulshi\",\"chattogram\"],[\"24 No. North Agrabad Ward, Double Mooring\",\"chattogram\"],[\"Khulshi Green Housing Society, Khulshi\",\"chattogram\"],[\"Proshanti R\\u002fA, 10 No. North Kattali Ward\",\"chattogram\"],[\"Munshi Pukur Par, 16 No. Chawk Bazaar Ward\",\"chattogram\"],[\"Shershah Colony, Bayazid\",\"chattogram\"],[\"24 No. North Agrabad Ward, Double Mooring\",\"chattogram\"],[\"South Khulshi, Khulshi\",\"chattogram\"],[\"North Khulshi, Khulshi\",\"chattogram\"],[\"North Forida Para, 4 No Chandgaon Ward\",\"chattogram\"],[\"South Khulshi, Khulshi\",\"chattogram\"],[\"26 No. North Halishahar Ward, Halishahar\",\"chattogram\"],[\"26 No. North Halishahar Ward, Halishahar\",\"chattogram\"],[\"Dhaka Trunk Road, 9 No. North Pahartali Ward\",\"chattogram\"],[\"19 No. South Bakalia Ward, Bakalia\",\"chattogram\"],[\"Sangbadik Co-operative Housing Society, Bayazid\",\"chattogram\"],[\"Proshanti R\\u002fA, 10 No. North Kattali Ward\",\"chattogram\"],[\"12 No. Sarai Para Ward, Double Mooring\",\"chattogram\"],[\"Rahmatganj, Jamal Khan\",\"chattogram\"],[\"Kapasgola, 16 No. Chawk Bazaar Ward\",\"chattogram\"],[\"24 No. North Agrabad Ward, Double Mooring\",\"chattogram\"],[\"Dhaka Trunk Road, 9 No. North Pahartali Ward\",\"chattogram\"],[\"24 No. North Agrabad Ward, Double Mooring\",\"chattogram\"],[\"10 No. North Kattali Ward\",\"chattogram\"],[\"West Khulshi R\\u002fA, 9 No. North Pahartali Ward\",\"chattogram\"],[\"O. R. Nizam Road, 15 No. Bagmoniram Ward\",\"chattogram\"],[\"Nasirabad, 15 No. Bagmoniram Ward\",\"chattogram\"],[\"Bayazid Bostami Road, 15 No. Bagmoniram Ward\",\"chattogram\"],[\"South Agrabad, Double Mooring\",\"chattogram\"],[\"South Agrabad, Double Mooring\",\"chattogram\"],[\"South Agrabad, Double Mooring\",\"chattogram\"],[\"Hill Side Residential Area, Lal Khan Bazaar\",\"chattogram\"],[\"Hill Side Residential Area, Lal Khan Bazaar\",\"chattogram\"],[\"Hill Side Residential Area, Lal Khan Bazaar\",\"chattogram\"],[\"Hill Side Residential Area, Lal Khan Bazaar\",\"chattogram\"],[\"Proshanti R\\u002fA, 10 No. North Kattali Ward\",\"chattogram\"],[\"Chadra Nagar, Bayazid\",\"chattogram\"],[\"Chadra Nagar, Bayazid\",\"chattogram\"],[\"1 No Railway Gate, Muradpur\",\"chattogram\"],[\"Panchlaish Residential Area, 16 No. Chawk Bazaar Ward\",\"chattogram\"],[\"South Khulshi, Khulshi\",\"chattogram\"],[\"CDA Avenue, Lal Khan Bazaar\",\"chattogram\"],[\"14 No. Lalkhan Bazaar Ward, Lal Khan Bazaar\",\"chattogram\"],[\"14 No. Lalkhan Bazaar Ward, Lal Khan Bazaar\",\"chattogram\"],[\"Momin Road, Jamal Khan\",\"chattogram\"],[\"Habib Lane, Khulshi\",\"chattogram\"],[\"29 No. West Madarbari Ward\",\"chattogram\"],[\"Chand Mia Road, 4 No Chandgaon Ward\",\"chattogram\"],[\"Chandgaon Residential Area, 4 No Chandgaon Ward\",\"chattogram\"],[\"South Agrabad, Double Mooring\",\"chattogram\"],[\"Foy's Lake Approach Road, 9 No. North Pahartali Ward\",\"chattogram\"],[\"Abhoy Mitra Lane, 33 No. Firingee Bazaar Ward\",\"chattogram\"],[\"Nabab Siraj Ud Daula Road, Jamal Khan\",\"chattogram\"],[\"Nabab Siraj Ud Daula Road, Jamal Khan\",\"chattogram\"],[\"Bahaddarhat, 4 No Chandgaon Ward\",\"chattogram\"],[\"Bahaddarhat, 4 No Chandgaon Ward\",\"chattogram\"],[\"Mohara, 4 No Chandgaon Ward\",\"chattogram\"],[\"Nasirabad, Bayazid\",\"chattogram\"],[\"CDA R\\u002fA, 10 No. North Kattali Ward\",\"chattogram\"],[\"Bahaddarhat, 4 No Chandgaon Ward\",\"chattogram\"],[\"Bahaddarhat, 4 No Chandgaon Ward\",\"chattogram\"],[\"Bahaddarhat, 4 No Chandgaon Ward\",\"chattogram\"],[\"39 No. South Halishahar Ward, Halishahar\",\"chattogram\"],[\"39 No. South Halishahar Ward, Halishahar\",\"chattogram\"],[\"Mohara, 4 No Chandgaon Ward\",\"chattogram\"],[\"Mohara, 4 No Chandgaon Ward\",\"chattogram\"],[\"Chattogram DOHS, Bayazid\",\"chattogram\"],[\"Chattogram DOHS, Bayazid\",\"chattogram\"],[\"Mohara, 4 No Chandgaon Ward\",\"chattogram\"],[\"12 No. Sarai Para Ward, Double Mooring\",\"chattogram\"],[\"12 No. Sarai Para Ward, Double Mooring\",\"chattogram\"],[\"12 No. Sarai Para Ward, Double Mooring\",\"chattogram\"],[\"12 No. Sarai Para Ward, Double Mooring\",\"chattogram\"],[\"Nasirabad Housing Society, Muradpur\",\"chattogram\"],[\"Mohara, 4 No Chandgaon Ward\",\"chattogram\"],[\"Dewan Bazar, Bakalia\",\"chattogram\"],[\"Dewan Bazar, Bakalia\",\"chattogram\"],[\"Korbanigonj, Kotwali\",\"chattogram\"],[\"Korbanigonj, Kotwali\",\"chattogram\"],[\"Dewan Bazar, Bakalia\",\"chattogram\"],[\"Hamjarbag, 7 No. West Sholoshohor Ward\",\"chattogram\"],[\"Dewan Bazar, Bakalia\",\"chattogram\"],[\"18 No. East Bakalia Ward, Bakalia\",\"chattogram\"],[\"18 No. East Bakalia Ward, Bakalia\",\"chattogram\"],[\"18 No. East Bakalia Ward, Bakalia\",\"chattogram\"],[\"18 No. East Bakalia Ward, Bakalia\",\"chattogram\"],[\"18 No. East Bakalia Ward, Bakalia\",\"chattogram\"],[\"18 No. East Bakalia Ward, Bakalia\",\"chattogram\"],[\"Chand Mia Road, 4 No Chandgaon Ward\",\"chattogram\"],[\"Chand Mia Road, 4 No Chandgaon Ward\",\"chattogram\"],[\"17 No West Bakalia Ward, Bakalia\",\"chattogram\"],[\"Mohammed Ali Road, 15 No. Bagmoniram Ward\",\"chattogram\"],[\"O. R. Nizam Road, 15 No. Bagmoniram Ward\",\"chattogram\"],[\"Al-Madani Road, Sholokbahar\",\"chattogram\"],[\"Al-Madani Road, Sholokbahar\",\"chattogram\"],[\"Al-Madani Road, Sholokbahar\",\"chattogram\"],[\"West Khulshi R\\u002fA, 9 No. North Pahartali Ward\",\"chattogram\"],[\"Hill Side Residential Area, Lal Khan Bazaar\",\"chattogram\"],[\"Somobay Residential Area, Bayazid\",\"chattogram\"],[\"26 No. North Halishahar Ward, Halishahar\",\"chattogram\"],[\"Colonel Hat, 10 No. North Kattali Ward\",\"chattogram\"],[\"Mehidibag Road, 15 No. Bagmoniram Ward\",\"chattogram\"],[\"24 No. North Agrabad Ward, Double Mooring\",\"chattogram\"],[\"Paharicka R\\u002fA Road, South Khulsi\",\"chattogram\"],[\"Paharicka R\\u002fA Road, South Khulsi\",\"chattogram\"],[\"Zakir Hossain Road, Khulshi\",\"chattogram\"],[\"Alkaran Road, 31 No. Alkoron Ward\",\"chattogram\"],[\"Kalu Shah Bazar, 4 No Chandgaon Ward\",\"chattogram\"],[\"Chandgaon Residential Area, 4 No Chandgaon Ward\",\"chattogram\"],[\"Chandgaon Residential Area, 4 No Chandgaon Ward\",\"chattogram\"],[\"24 No. North Agrabad Ward, Double Mooring\",\"chattogram\"],[\"Cosmopolitan R\\u002fA, 7 No. West Sholoshohor Ward\",\"chattogram\"],[\"Mohara, 4 No Chandgaon Ward\",\"chattogram\"],[\"Mohara, 4 No Chandgaon Ward\",\"chattogram\"],[\"Dewan Bazar, Bakalia\",\"chattogram\"],[\"Dewan Bazar, Bakalia\",\"chattogram\"],[\"Kulgaon, Bayazid\",\"chattogram\"],[\"28 No. Pathantooly Ward, Double Mooring\",\"chattogram\"],[\"Chandgaon Residential Area, 4 No Chandgaon Ward\",\"chattogram\"],[\"Alkaran Road, 31 No. Alkoron Ward\",\"chattogram\"],[\"Colonel Hat, 10 No. North Kattali Ward\",\"chattogram\"],[\"Somobay Residential Area, Bayazid\",\"chattogram\"],[\"Mehidibag, 15 No. Bagmoniram Ward\",\"chattogram\"],[\"Abdul Hamid Road, Sholokbahar\",\"chattogram\"],[\"Bayazid Bostami Road, 15 No. Bagmoniram Ward\",\"chattogram\"],[\"Commerce College Road, Double Mooring\",\"chattogram\"],[\"Nandan Kanan, 22 No. Enayet Bazaar Ward\",\"chattogram\"],[\"Chatteshwari Road, 15 No. Bagmoniram Ward\",\"chattogram\"],[\"Kobi Kazi Nazrul Islam Road, 33 No. Firingee Bazaar Ward\",\"chattogram\"],[\"Kobi Kazi Nazrul Islam Road, 33 No. Firingee Bazaar Ward\",\"chattogram\"],[\"Bibirhat, 7 No. West Sholoshohor Ward\",\"chattogram\"],[\"Ali Nagar, Bayazid\",\"chattogram\"],[\"24 No. North Agrabad Ward, Double Mooring\",\"chattogram\"],[\"24 No. North Agrabad Ward, Double Mooring\",\"chattogram\"],[\"24 No. North Agrabad Ward, Double Mooring\",\"chattogram\"],[\"24 No. North Agrabad Ward, Double Mooring\",\"chattogram\"],[\"24 No. North Agrabad Ward, Double Mooring\",\"chattogram\"],[\"24 No. North Agrabad Ward, Double Mooring\",\"chattogram\"],[\"Abhoy Mitra Lane, 33 No. Firingee Bazaar Ward\",\"chattogram\"],[\"28 No. Pathantooly Ward, Double Mooring\",\"chattogram\"],[\"Bibirhat, 7 No. West Sholoshohor Ward\",\"chattogram\"],[\"Green View Residential Area, 11 No. South Kattali Ward\",\"chattogram\"],[\"Zakir Hossain By Lane, East Nasirabad\",\"chattogram\"],[\"Patharghata, Bakalia\",\"chattogram\"],[\"Patharghata, Bakalia\",\"chattogram\"],[\"Khulshi Green Housing Society, Khulshi\",\"chattogram\"],[\"Khulshi Green Housing Society, Khulshi\",\"chattogram\"],[\"Khulshi Green Housing Society, Khulshi\",\"chattogram\"],[\"Nasirabad Properties Residential Area, Khulshi\",\"chattogram\"],[\"Badurtala, Sholokbahar\",\"chattogram\"],[\"Maij Para, 11 No. South Kattali Ward\",\"chattogram\"],[\"25 No. Rampur Ward, Double Mooring\",\"chattogram\"],[\"New Monsurabad, 10 No. North Kattali Ward\",\"chattogram\"],[\"Chawk Bazar, 16 No. Chawk Bazaar Ward\",\"chattogram\"],[\"Jamal Khan By-Lane, Jamal Khan\",\"chattogram\"],[\"Dewan Bazar, Bakalia\",\"chattogram\"],[\"Dewan Bazar, Bakalia\",\"chattogram\"],[\"Dewan Bazar, Bakalia\",\"chattogram\"],[\"Dewan Bazar, Bakalia\",\"chattogram\"],[\"Dewan Bazar, Bakalia\",\"chattogram\"],[\"Chasma Hill R\\u002fA, 7 No. West Sholoshohor Ward\",\"chattogram\"],[\"Nasirabad, 15 No. Bagmoniram Ward\",\"chattogram\"],[\"17 No West Bakalia Ward, Bakalia\",\"chattogram\"],[\"Dewan Bazar, Bakalia\",\"chattogram\"],[\"17 No West Bakalia Ward, Bakalia\",\"chattogram\"],[\"17 No West Bakalia Ward, Bakalia\",\"chattogram\"],[\"Mehidibag, 15 No. Bagmoniram Ward\",\"chattogram\"],[\"Nasirabad, Bayazid\",\"chattogram\"],[\"Nasirabad, Bayazid\",\"chattogram\"],[\"Nasirabad, Bayazid\",\"chattogram\"],[\"South Khulshi, Khulshi\",\"chattogram\"],[\"Nasirabad, 15 No. Bagmoniram Ward\",\"chattogram\"],[\"Nasirabad, 15 No. Bagmoniram Ward\",\"chattogram\"],[\"Oxygen Kuwaish Road, Bayazid\",\"chattogram\"],[\"New Monsurabad, 10 No. North Kattali Ward\",\"chattogram\"],[\"Chandgaon Residential Area, 4 No Chandgaon Ward\",\"chattogram\"],[\"16 No. Chawk Bazaar Ward\",\"chattogram\"],[\"Mirzapul Road, Muradpur\",\"chattogram\"],[\"CDA Avenue, Sholokbahar\",\"chattogram\"],[\"R C Church Road, 33 No. Firingee Bazaar Ward\",\"chattogram\"],[\"West Firojshah colony, 9 No. North Pahartali Ward\",\"chattogram\"],[\"Alkaran Road, 31 No. Alkoron Ward\",\"chattogram\"],[\"Chattogram DOHS, Bayazid\",\"chattogram\"],[\"40 No. North Patenga Ward, Patenga\",\"chattogram\"],[\"Mehidibag, 15 No. Bagmoniram Ward\",\"chattogram\"],[\"Dakshin Kattali, 11 No. South Kattali Ward\",\"chattogram\"],[\"Green Valley, Bayazid\",\"chattogram\"],[\"Khulshi Green Housing Society, Khulshi\",\"chattogram\"],[\"Mehidibag, 15 No. Bagmoniram Ward\",\"chattogram\"],[\"24 No. North Agrabad Ward, Double Mooring\",\"chattogram\"],[\"Proshanti R\\u002fA, 10 No. North Kattali Ward\",\"chattogram\"],[\"Momin Road, Jamal Khan\",\"chattogram\"],[\"West Khulshi R\\u002fA, 9 No. North Pahartali Ward\",\"chattogram\"],[\"East Nasirabad, Muradpur\",\"chattogram\"],[\"Khulshi Green Housing Society, Khulshi\",\"chattogram\"],[\"Nasirabad Housing Society, Muradpur\",\"chattogram\"],[\"South Khulshi, Khulshi\",\"chattogram\"],[\"Katalganj Residential Area, 16 No. Chawk Bazaar Ward\",\"chattogram\"],[\"Panchlaish Residential Area, 16 No. Chawk Bazaar Ward\",\"chattogram\"],[\"West Khulshi, 9 No. North Pahartali Ward\",\"chattogram\"],[\"CDA Avenue, Sholokbahar\",\"chattogram\"],[\"CDA Avenue, Sholokbahar\",\"chattogram\"],[\"CDA Avenue, Sholokbahar\",\"chattogram\"],[\"CDA Avenue, Sholokbahar\",\"chattogram\"],[\"Proshanti R\\u002fA, 10 No. North Kattali Ward\",\"chattogram\"],[\"Mohammadpur, 7 No. West Sholoshohor Ward\",\"chattogram\"],[\"Kulgaon, Bayazid\",\"chattogram\"],[\"Shamsher Para, 4 No Chandgaon Ward\",\"chattogram\"],[\"26 No. North Halishahar Ward, Halishahar\",\"chattogram\"],[\"Chandgaon Residential Area, 4 No Chandgaon Ward\",\"chattogram\"],[\"Chattogram DOHS, Bayazid\",\"chattogram\"],[\"South Agrabad, Double Mooring\",\"chattogram\"],[\"South Agrabad, Double Mooring\",\"chattogram\"],[\"South Agrabad, Double Mooring\",\"chattogram\"],[\"6 No East Sholoshohor Ward, Bakalia\",\"chattogram\"],[\"Cosmopolitan R\\u002fA, 7 No. West Sholoshohor Ward\",\"chattogram\"],[\"Jangalpara, 7 No. West Sholoshohor Ward\",\"chattogram\"],[\"Jangalpara, 7 No. West Sholoshohor Ward\",\"chattogram\"],[\"6 No East Sholoshohor Ward, Bakalia\",\"chattogram\"],[\"6 No East Sholoshohor Ward, Bakalia\",\"chattogram\"],[\"Chasma Hill R\\u002fA, 7 No. West Sholoshohor Ward\",\"chattogram\"],[\"Chasma Hill R\\u002fA, 7 No. West Sholoshohor Ward\",\"chattogram\"],[\"17 No West Bakalia Ward, Bakalia\",\"chattogram\"],[\"CDA Avenue, East Nasirabad\",\"chattogram\"],[\"Dhaka Trunk Road, 9 No. North Pahartali Ward\",\"chattogram\"],[\"24 No. North Agrabad Ward, Double Mooring\",\"chattogram\"],[\"West Khulshi R\\u002fA, 9 No. North Pahartali Ward\",\"chattogram\"],[\"28 No. Pathantooly Ward, Double Mooring\",\"chattogram\"],[\"25 No. Rampur Ward, Double Mooring\",\"chattogram\"],[\"Dhaka Trunk Road, 9 No. North Pahartali Ward\",\"chattogram\"],[\"Shahid Nagar, Bayazid\",\"chattogram\"],[\"Shahid Nagar, Bayazid\",\"chattogram\"],[\"South Khulshi, Khulshi\",\"chattogram\"],[\"Akbarshah Railway Colony, 9 No. North Pahartali Ward\",\"chattogram\"],[\"Road No 1, Jalalabad Housing Society\",\"chattogram\"],[\"12 No. Sarai Para Ward, Double Mooring\",\"chattogram\"],[\"West Khulshi R\\u002fA, 9 No. North Pahartali Ward\",\"chattogram\"],[\"Tayab Bag R\\u002fA, 7 No. West Sholoshohor Ward\",\"chattogram\"],[\"Zakir Hossain Road, Khulshi\",\"chattogram\"],[\"East Nasirabad, Muradpur\",\"chattogram\"],[\"Nasirabad Housing Society, Muradpur\",\"chattogram\"],[\"West Khulshi, 9 No. North Pahartali Ward\",\"chattogram\"],[\"Nasirabad Housing Society, Muradpur\",\"chattogram\"],[\"South Khulshi, Khulshi\",\"chattogram\"],[\"Port Connecting Road, 11 No. South Kattali Ward\",\"chattogram\"],[\"CDA Avenue, East Nasirabad\",\"chattogram\"],[\"Green Valley, Bayazid\",\"chattogram\"],[\"Bandar, 36 Goshail Danga Ward\",\"chattogram\"],[\"Yakub Future Park Housing, Khulshi\",\"chattogram\"],[\"Yakub Future Park Housing, Khulshi\",\"chattogram\"],[\"Yakub Future Park Housing, Khulshi\",\"chattogram\"],[\"West Khulshi R\\u002fA, 9 No. North Pahartali Ward\",\"chattogram\"],[\"West Khulshi R\\u002fA, 9 No. North Pahartali Ward\",\"chattogram\"],[\"West Khulshi R\\u002fA, 9 No. North Pahartali Ward\",\"chattogram\"],[\"West Khulshi R\\u002fA, 9 No. North Pahartali Ward\",\"chattogram\"],[\"West Khulshi R\\u002fA, 9 No. North Pahartali Ward\",\"chattogram\"],[\"Chandgaon Residential Area, 4 No Chandgaon Ward\",\"chattogram\"],[\"12 No. Sarai Para Ward, Double Mooring\",\"chattogram\"],[\"North Khulshi, Khulshi\",\"chattogram\"],[\"Mehidibag, 15 No. Bagmoniram Ward\",\"chattogram\"],[\"Khulshi Green Housing Society, Khulshi\",\"chattogram\"],[\"Munshi Pukur Par, 16 No. Chawk Bazaar Ward\",\"chattogram\"],[\"Abhoy Mitra Lane, 33 No. Firingee Bazaar Ward\",\"chattogram\"],[\"South Khulshi, Khulshi\",\"chattogram\"],[\"Katalgonj, Panchlaish\",\"chattogram\"],[\"Dewan Bazar, Bakalia\",\"chattogram\"],[\"South Agrabad, Double Mooring\",\"chattogram\"],[\"South Agrabad, Double Mooring\",\"chattogram\"],[\"14 No. Lalkhan Bazaar Ward, Lal Khan Bazaar\",\"chattogram\"],[\"14 No. Lalkhan Bazaar Ward, Lal Khan Bazaar\",\"chattogram\"],[\"12 No. Sarai Para Ward, Double Mooring\",\"chattogram\"],[\"Ishan Mohajon Road, 10 No. North Kattali Ward\",\"chattogram\"],[\"VIP Housing Society, South Khulsi\",\"chattogram\"],[\"Dhaka Trunk Road, 9 No. North Pahartali Ward\",\"chattogram\"],[\"Momin Road, Jamal Khan\",\"chattogram\"],[\"Chadra Nagar, Bayazid\",\"chattogram\"],[\"Shahid Saifuddin Khaled Road, Kazir Dewri\",\"chattogram\"],[\"South Khulshi, Khulshi\",\"chattogram\"],[\"Chadra Nagar, Bayazid\",\"chattogram\"],[\"Dewan Bazar, Bakalia\",\"chattogram\"],[\"Dewan Bazar, Bakalia\",\"chattogram\"],[\"Chawk Bazar, 16 No. Chawk Bazaar Ward\",\"chattogram\"],[\"Nabab Siraj Ud Daula Road, Bakalia\",\"chattogram\"],[\"South Khulshi, Khulshi\",\"chattogram\"],[\"Nasirabad Housing Society, Muradpur\",\"chattogram\"],[\"Dhaka Trunk Road, 9 No. North Pahartali Ward\",\"chattogram\"],[\"Dhaka Trunk Road, 9 No. North Pahartali Ward\",\"chattogram\"],[\"Nasirabad, 15 No. Bagmoniram Ward\",\"chattogram\"],[\"Nasirabad, 15 No. Bagmoniram Ward\",\"chattogram\"],[\"West Firojshah colony, 9 No. North Pahartali Ward\",\"chattogram\"],[\"West Firojshah colony, 9 No. North Pahartali Ward\",\"chattogram\"],[\"Cosmopolitan R\\u002fA, 7 No. West Sholoshohor Ward\",\"chattogram\"],[\"Bayazid Nagar Residential Area, Bayazid\",\"chattogram\"],[\"South Khulshi, Khulshi\",\"chattogram\"],[\"Ali Nagar, Bayazid\",\"chattogram\"],[\"Dewan Bazar, Bakalia\",\"chattogram\"],[\"Sugandha Residential Area, Panchlaish\",\"chattogram\"],[\"Panchlaish Residential Area, 16 No. Chawk Bazaar Ward\",\"chattogram\"],[\"Jamal Khan Road, Jamal Khan\",\"chattogram\"],[\"Zakir Hossain By Lane, East Nasirabad\",\"chattogram\"],[\"Commerce College Road, Double Mooring\",\"chattogram\"],[\"Abdul Hamid Road, Sholokbahar\",\"chattogram\"],[\"South Agrabad, Double Mooring\",\"chattogram\"],[\"Dhaka Trunk Road, 9 No. North Pahartali Ward\",\"chattogram\"],[\"Dhaka Trunk Road, 9 No. North Pahartali Ward\",\"chattogram\"],[\"Dhaka Trunk Road, 9 No. North Pahartali Ward\",\"chattogram\"],[\"Dewan Bazar, Bakalia\",\"chattogram\"],[\"Yakub Future Park Housing, Khulshi\",\"chattogram\"],[\"South Agrabad, Double Mooring\",\"chattogram\"],[\"South Khulshi, Khulshi\",\"chattogram\"],[\"Habib Lane, Khulshi\",\"chattogram\"],[\"Shahid Nagar, Bayazid\",\"chattogram\"],[\"1 No Railway Gate, Muradpur\",\"chattogram\"],[\"Kobi Kazi Nazrul Islam Road, 33 No. Firingee Bazaar Ward\",\"chattogram\"],[\"Chadra Nagar, Bayazid\",\"chattogram\"],[\"Nasirabad Housing Society, Muradpur\",\"chattogram\"],[\"Nasirabad, 15 No. Bagmoniram Ward\",\"chattogram\"],[\"28 No. Pathantooly Ward, Double Mooring\",\"chattogram\"],[\"Bangla Bazar, Bayazid\",\"chattogram\"],[\"Nasirabad, Bayazid\",\"chattogram\"],[\"Nasirabad, Bayazid\",\"chattogram\"],[\"Panchlaish Residential Area, 16 No. Chawk Bazaar Ward\",\"chattogram\"],[\"Alkaran Road, 31 No. Alkoron Ward\",\"chattogram\"],[\"14 No. Lalkhan Bazaar Ward, Lal Khan Bazaar\",\"chattogram\"],[\"14 No. Lalkhan Bazaar Ward, Lal Khan Bazaar\",\"chattogram\"],[\"Mehidibag, 15 No. Bagmoniram Ward\",\"chattogram\"],[\"1 No Railway Gate, Muradpur\",\"chattogram\"],[\"West Khulshi R\\u002fA, 9 No. North Pahartali Ward\",\"chattogram\"],[\"West Khulshi R\\u002fA, 9 No. North Pahartali Ward\",\"chattogram\"],[\"26 No. North Halishahar Ward, Halishahar\",\"chattogram\"],[\"West Khulshi R\\u002fA, 9 No. North Pahartali Ward\",\"chattogram\"],[\"Nasirabad, 15 No. Bagmoniram Ward\",\"chattogram\"],[\"Dewan Bazar, Bakalia\",\"chattogram\"],[\"Al-Madani Road, Sholokbahar\",\"chattogram\"],[\"Al-Madani Road, Sholokbahar\",\"chattogram\"],[\"South Agrabad, Double Mooring\",\"chattogram\"],[\"Jangalpara, 7 No. West Sholoshohor Ward\",\"chattogram\"],[\"Dewan Bazar, Bakalia\",\"chattogram\"],[\"6 No East Sholoshohor Ward, Bakalia\",\"chattogram\"],[\"Chasma Hill R\\u002fA, 7 No. West Sholoshohor Ward\",\"chattogram\"],[\"South Agrabad, Double Mooring\",\"chattogram\"],[\"South Agrabad, Double Mooring\",\"chattogram\"],[\"Chandgaon Residential Area, 4 No Chandgaon Ward\",\"chattogram\"],[\"Dhaka Trunk Road, 9 No. North Pahartali Ward\",\"chattogram\"],[\"Chandgaon Residential Area, 4 No Chandgaon Ward\",\"chattogram\"],[\"Mehidibag, 15 No. Bagmoniram Ward\",\"chattogram\"],[\"Forest Institute Road, 7 No. West Sholoshohor Ward\",\"chattogram\"],[\"26 No. North Halishahar Ward, Halishahar\",\"chattogram\"],[\"26 No. North Halishahar Ward, Halishahar\",\"chattogram\"],[\"Mehidibag, 15 No. Bagmoniram Ward\",\"chattogram\"],[\"Dhaka Trunk Road, 9 No. North Pahartali Ward\",\"chattogram\"],[\"Dewan Bazar, Bakalia\",\"chattogram\"],[\"Dewan Bazar, Bakalia\",\"chattogram\"],[\"Nasirabad, 15 No. Bagmoniram Ward\",\"chattogram\"],[\"Dewan Bazar, Bakalia\",\"chattogram\"],[\"Dewan Bazar, Bakalia\",\"chattogram\"],[\"Dewan Bazar, Bakalia\",\"chattogram\"],[\"Dewan Bazar, Bakalia\",\"chattogram\"],[\"24 No. North Agrabad Ward, Double Mooring\",\"chattogram\"],[\"Yakub Nagar Road, 33 No. Firingee Bazaar Ward\",\"chattogram\"],[\"Yakub Nagar Road, 33 No. Firingee Bazaar Ward\",\"chattogram\"],[\"Shahid Saifuddin Khaled Road, Jamal Khan\",\"chattogram\"],[\"26 No. North Halishahar Ward, Halishahar\",\"chattogram\"],[\"14 No. Lalkhan Bazaar Ward, Lal Khan Bazaar\",\"chattogram\"],[\"14 No. Lalkhan Bazaar Ward, Lal Khan Bazaar\",\"chattogram\"],[\"Hazari Lane, 32 No. Andarkilla Ward\",\"chattogram\"],[\"39 No. South Halishahar Ward, Halishahar\",\"chattogram\"],[\"39 No. South Halishahar Ward, Halishahar\",\"chattogram\"],[\"39 No. South Halishahar Ward, Halishahar\",\"chattogram\"],[\"39 No. South Halishahar Ward, Halishahar\",\"chattogram\"],[\"39 No. South Halishahar Ward, Halishahar\",\"chattogram\"],[\"Sheikh Mujib Road, Double Mooring\",\"chattogram\"],[\"26 No. North Halishahar Ward, Halishahar\",\"chattogram\"],[\"26 No. North Halishahar Ward, Halishahar\",\"chattogram\"],[\"Chandgaon Residential Area, 4 No Chandgaon Ward\",\"chattogram\"],[\"Tayab Bag R\\u002fA, 7 No. West Sholoshohor Ward\",\"chattogram\"],[\"Sabujbag, Halishahar\",\"chattogram\"],[\"24 No. North Agrabad Ward, Double Mooring\",\"chattogram\"],[\"24 No. North Agrabad Ward, Double Mooring\",\"chattogram\"],[\"12 No. Sarai Para Ward, Double Mooring\",\"chattogram\"],[\"Sangbadik Co-operative Housing Society, Bayazid\",\"chattogram\"],[\"Sangbadik Co-operative Housing Society, Bayazid\",\"chattogram\"],[\"South Agrabad, Double Mooring\",\"chattogram\"],[\"Chandgaon Residential Area, 4 No Chandgaon Ward\",\"chattogram\"],[\"Foy's Lake Approach Road, 9 No. North Pahartali Ward\",\"chattogram\"],[\"West Khulshi, 9 No. North Pahartali Ward\",\"chattogram\"],[\"24 No. North Agrabad Ward, Double Mooring\",\"chattogram\"],[\"Nasirabad Housing Society, Muradpur\",\"chattogram\"],[\"South Khulshi, Khulshi\",\"chattogram\"],[\"24 No. North Agrabad Ward, Double Mooring\",\"chattogram\"],[\"Chadra Nagar, Bayazid\",\"chattogram\"],[\"Nasirabad Properties Residential Area, Khulshi\",\"chattogram\"],[\"Dewan Bazar, Bakalia\",\"chattogram\"],[\"Mohammad Nagar, Bayazid\",\"chattogram\"],[\"Korbanigonj, Kotwali\",\"chattogram\"],[\"Dewan Bazar, Bakalia\",\"chattogram\"],[\"6 No East Sholoshohor Ward, Bakalia\",\"chattogram\"],[\"19 No. South Bakalia Ward, Bakalia\",\"chattogram\"],[\"Chand Mia Road, 4 No Chandgaon Ward\",\"chattogram\"],[\"Chand Mia Road, 4 No Chandgaon Ward\",\"chattogram\"],[\"Chasma Hill R\\u002fA, 7 No. West Sholoshohor Ward\",\"chattogram\"],[\"18 No. East Bakalia Ward, Bakalia\",\"chattogram\"],[\"18 No. East Bakalia Ward, Bakalia\",\"chattogram\"],[\"18 No. East Bakalia Ward, Bakalia\",\"chattogram\"],[\"Nasirabad Housing Society, Muradpur\",\"chattogram\"],[\"Chand Mia Road, 4 No Chandgaon Ward\",\"chattogram\"],[\"Nasirabad, Bayazid\",\"chattogram\"],[\"Nasirabad, Bayazid\",\"chattogram\"],[\"Nasirabad, Bayazid\",\"chattogram\"],[\"Al-Madani Road, Sholokbahar\",\"chattogram\"],[\"Al-Madani Road, Sholokbahar\",\"chattogram\"],[\"Yakub Nagar Road, 33 No. Firingee Bazaar Ward\",\"chattogram\"],[\"Yakub Nagar Road, 33 No. Firingee Bazaar Ward\",\"chattogram\"],[\"Yakub Nagar Road, 33 No. Firingee Bazaar Ward\",\"chattogram\"],[\"Dhaka Trunk Road, 9 No. North Pahartali Ward\",\"chattogram\"],[\"Dhaka Trunk Road, 9 No. North Pahartali Ward\",\"chattogram\"],[\"Dhaka Trunk Road, 9 No. North Pahartali Ward\",\"chattogram\"],[\"Dhaka Trunk Road, 9 No. North Pahartali Ward\",\"chattogram\"],[\"Dhaka Trunk Road, 9 No. North Pahartali Ward\",\"chattogram\"],[\"Dhaka Trunk Road, 9 No. North Pahartali Ward\",\"chattogram\"],[\"CDA R\\u002fA, 10 No. North Kattali Ward\",\"chattogram\"],[\"Abdullah Khan Road, Sholokbahar\",\"chattogram\"],[\"Bahaddarhat, 4 No Chandgaon Ward\",\"chattogram\"],[\"Bahaddarhat, 4 No Chandgaon Ward\",\"chattogram\"],[\"Mohara, 4 No Chandgaon Ward\",\"chattogram\"],[\"Mohara, 4 No Chandgaon Ward\",\"chattogram\"],[\"Mohara, 4 No Chandgaon Ward\",\"chattogram\"],[\"Mohara, 4 No Chandgaon Ward\",\"chattogram\"],[\"Mohara, 4 No Chandgaon Ward\",\"chattogram\"],[\"12 No. Sarai Para Ward, Double Mooring\",\"chattogram\"],[\"12 No. Sarai Para Ward, Double Mooring\",\"chattogram\"],[\"12 No. Sarai Para Ward, Double Mooring\",\"chattogram\"],[\"12 No. Sarai Para Ward, Double Mooring\",\"chattogram\"],[\"12 No. Sarai Para Ward, Double Mooring\",\"chattogram\"],[\"Nasirabad Properties Residential Area, Khulshi\",\"chattogram\"],[\"Dewan Bazar, Bakalia\",\"chattogram\"],[\"Dewan Bazar, Bakalia\",\"chattogram\"],[\"Dewan Bazar, Bakalia\",\"chattogram\"],[\"Dhaka Trunk Road, 9 No. North Pahartali Ward\",\"chattogram\"],[\"Bayazid Abasic Elaka Road, Bayazid\",\"chattogram\"],[\"Manoharpur, Kandirpar\",\"cumilla\"],[\"North Bagichagaon, Bagichagaon\",\"cumilla\"],[\"Mogbari Choumohoni, Chotora\",\"cumilla\"],[\"North Bagichagaon, Bagichagaon\",\"cumilla\"],[\"North Bagichagaon, Bagichagaon\",\"cumilla\"],[\"North Bagichagaon, Bagichagaon\",\"cumilla\"],[\"Mogbari Choumohoni, Chotora\",\"cumilla\"],[\"North Bagichagaon, Bagichagaon\",\"cumilla\"],[\"Shahid Khawaja Nizamuddin Road, Jhautola\",\"cumilla\"],[\"Shahid Khawaja Nizamuddin Road, Jhautola\",\"cumilla\"],[\"South Thakur Para, Thakur Para\",\"cumilla\"],[\"South Thakur Para, Thakur Para\",\"cumilla\"],[\"Shah Shuja Mosque Road, Moghultoli\",\"cumilla\"],[\"North Bagichagaon, Bagichagaon\",\"cumilla\"],[\"Nazrul Avenue, Ashoktala\",\"cumilla\"],[\"Shahid Khawaja Nizamuddin Road, Jhautola\",\"cumilla\"],[\"South Thakur Para, Thakur Para\",\"cumilla\"],[\"North Bagichagaon, Bagichagaon\",\"cumilla\"],[\"Shahid Khawaja Nizamuddin Road, Jhautola\",\"cumilla\"],[\"AK Fazlul Haq Road, Kandirpar\",\"cumilla\"],[\"North Bagichagaon, Bagichagaon\",\"cumilla\"],[\"South Thakur Para, Thakur Para\",\"cumilla\"],[\"Nazrul Avenue, Ashoktala\",\"cumilla\"],[\"Nazrul Avenue, Ashoktala\",\"cumilla\"],[\"North Bagichagaon, Bagichagaon\",\"cumilla\"],[\"North Bagichagaon, Bagichagaon\",\"cumilla\"],[\"Manoharpur, Kandirpar\",\"cumilla\"],[\"Manoharpur, Kandirpar\",\"cumilla\"],[\"Manoharpur, Kandirpar\",\"cumilla\"],[\"Madina Masjid Road, Thakur Para\",\"cumilla\"],[\"North Bagichagaon, Bagichagaon\",\"cumilla\"],[\"Baganbari Road, Thakur Para\",\"cumilla\"],[\"Manoharpur, Kandirpar\",\"cumilla\"],[\"North Bagichagaon, Bagichagaon\",\"cumilla\"],[\"Nazrul Avenue, Ashoktala\",\"cumilla\"],[\"North Bagichagaon, Bagichagaon\",\"cumilla\"],[\"Mogbari Choumohoni, Chotora\",\"cumilla\"],[\"Mogbari Choumohoni, Chotora\",\"cumilla\"],[\"Wooden Pole Road, Race Course\",\"cumilla\"],[\"South Bagichagaon, Bagichagaon\",\"cumilla\"],[\"Nazrul Avenue, Ashoktala\",\"cumilla\"],[\"West Bagichagoun, Bagichagaon\",\"cumilla\"],[\"North Bagichagaon, Bagichagaon\",\"cumilla\"],[\"Shaheed Shamsul Haque Sarak, Jhautola\",\"cumilla\"],[\"Manoharpur, Kandirpar\",\"cumilla\"],[\"North Bagichagaon, Bagichagaon\",\"cumilla\"],[\"North Bagichagaon, Bagichagaon\",\"cumilla\"],[\"North Bagichagaon, Bagichagaon\",\"cumilla\"],[\"West Bagichagoun, Bagichagaon\",\"cumilla\"],[\"Shah Shuja Mosque Road, Moghultoli\",\"cumilla\"],[\"Nazrul Avenue, Ashoktala\",\"cumilla\"],[\"South Thakur Para, Thakur Para\",\"cumilla\"],[\"North Bagichagaon, Bagichagaon\",\"cumilla\"],[\"AK Fazlul Haq Road, Kandirpar\",\"cumilla\"],[\"Sadar Hospital Road, Monohorpur\",\"cumilla\"],[\"South Thakur Para, Thakur Para\",\"cumilla\"],[\"North Bagichagaon, Bagichagaon\",\"cumilla\"],[\"Manoharpur, Kandirpar\",\"cumilla\"],[\"Manoharpur, Kandirpar\",\"cumilla\"],[\"Manoharpur, Kandirpar\",\"cumilla\"],[\"Madina Masjid Road, Thakur Para\",\"cumilla\"],[\"Madina Masjid Road, Thakur Para\",\"cumilla\"],[\"Madina Masjid Road, Thakur Para\",\"cumilla\"],[\"North Bagichagaon, Bagichagaon\",\"cumilla\"],[\"Shahid Khawaja Nizamuddin Road, Jhautola\",\"cumilla\"],[\"Shahid Khawaja Nizamuddin Road, Jhautola\",\"cumilla\"],[\"Shahid Khawaja Nizamuddin Road, Jhautola\",\"cumilla\"],[\"Shahid Khawaja Nizamuddin Road, Jhautola\",\"cumilla\"],[\"Mogbari Choumohoni, Chotora\",\"cumilla\"],[\"North Bagichagaon, Bagichagaon\",\"cumilla\"],[\"Shahid Khawaja Nizamuddin Road, Jhautola\",\"cumilla\"],[\"North Bagichagaon, Bagichagaon\",\"cumilla\"],[\"Mogbari Choumohoni, Chotora\",\"cumilla\"],[\"North Bagichagaon, Bagichagaon\",\"cumilla\"],[\"South Thakur Para, Thakur Para\",\"cumilla\"],[\"Baganbari Road, Thakur Para\",\"cumilla\"],[\"Baganbari Road, Thakur Para\",\"cumilla\"],[\"Madina Masjid Road, Thakur Para\",\"cumilla\"],[\"North Bagichagaon, Bagichagaon\",\"cumilla\"],[\"Nazrul Avenue, Ashoktala\",\"cumilla\"],[\"Manoharpur, Kandirpar\",\"cumilla\"],[\"Shahid Khawaja Nizamuddin Road, Jhautola\",\"cumilla\"],[\"North Bagichagaon, Bagichagaon\",\"cumilla\"],[\"North Bagichagaon, Bagichagaon\",\"cumilla\"],[\"Mogbari Choumohoni, Chotora\",\"cumilla\"],[\"Mogbari Choumohoni, Chotora\",\"cumilla\"],[\"North Bagichagaon, Bagichagaon\",\"cumilla\"],[\"West Bagichagoun, Bagichagaon\",\"cumilla\"],[\"North Bagichagaon, Bagichagaon\",\"cumilla\"],[\"North Bagichagaon, Bagichagaon\",\"cumilla\"],[\"North Bagichagaon, Bagichagaon\",\"cumilla\"],[\"Thakur Para Road, Thakur Para\",\"cumilla\"],[\"West Bagichagoun, Bagichagaon\",\"cumilla\"],[\"South Thakur Para, Thakur Para\",\"cumilla\"],[\"South Thakur Para, Thakur Para\",\"cumilla\"],[\"North Bagichagaon, Bagichagaon\",\"cumilla\"],[\"Mogbari Choumohoni, Chotora\",\"cumilla\"],[\"Shahid Khawaja Nizamuddin Road, Jhautola\",\"cumilla\"],[\"Manoharpur, Kandirpar\",\"cumilla\"],[\"Shahid Khawaja Nizamuddin Road, Jhautola\",\"cumilla\"],[\"Mogbari Choumohoni, Chotora\",\"cumilla\"],[\"Manoharpur, Kandirpar\",\"cumilla\"],[\"Manoharpur, Kandirpar\",\"cumilla\"],[\"Talpokur Par, Bagichagaon\",\"cumilla\"],[\"Shahid Khawaja Nizamuddin Road, Jhautola\",\"cumilla\"],[\"Shahid Khawaja Nizamuddin Road, Jhautola\",\"cumilla\"],[\"Shahid Khawaja Nizamuddin Road, Jhautola\",\"cumilla\"],[\"Shahid Khawaja Nizamuddin Road, Jhautola\",\"cumilla\"],[\"Shahid Khawaja Nizamuddin Road, Jhautola\",\"cumilla\"],[\"South Thakur Para, Thakur Para\",\"cumilla\"],[\"North Bagichagaon, Bagichagaon\",\"cumilla\"],[\"North Bagichagaon, Bagichagaon\",\"cumilla\"],[\"Shaheed Shamsul Haque Sarak, Jhautola\",\"cumilla\"],[\"North Bagichagaon, Bagichagaon\",\"cumilla\"],[\"North Race Course, Race Course\",\"cumilla\"],[\"South Thakur Para, Thakur Para\",\"cumilla\"],[\"South Thakur Para, Thakur Para\",\"cumilla\"],[\"South Thakur Para, Thakur Para\",\"cumilla\"],[\"Shahid Khawaja Nizamuddin Road, Jhautola\",\"cumilla\"],[\"South Thakur Para, Thakur Para\",\"cumilla\"],[\"Manoharpur, Kandirpar\",\"cumilla\"],[\"Manoharpur, Kandirpar\",\"cumilla\"],[\"Mogbari Choumohoni, Chotora\",\"cumilla\"],[\"Mogbari Choumohoni, Chotora\",\"cumilla\"],[\"North Bagichagaon, Bagichagaon\",\"cumilla\"],[\"West Bagichagoun, Bagichagaon\",\"cumilla\"],[\"Manoharpur, Kandirpar\",\"cumilla\"],[\"Shah Shuja Mosque Road, Moghultoli\",\"cumilla\"],[\"Shah Shuja Mosque Road, Moghultoli\",\"cumilla\"],[\"Shah Shuja Mosque Road, Moghultoli\",\"cumilla\"],[\"Mizmizi, Shiddhirganj\",\"narayanganj-city\"],[\"Matuail, Demra\",\"narayanganj-city\"],[\"Matuail, Demra\",\"narayanganj-city\"],[\"Matuail, Demra\",\"narayanganj-city\"],[\"Matuail, Demra\",\"narayanganj-city\"],[\"Tongi, Gazipur Sadar Upazila\",\"gazipur\"],[\"Tongi, Gazipur Sadar Upazila\",\"gazipur\"],[\"Joydebpur, Gazipur Sadar Upazila\",\"gazipur\"],[\"Shimultoly, Gazipur Sadar Upazila\",\"gazipur\"],[\"Joydebpur, Gazipur Sadar Upazila\",\"gazipur\"],[\"Joydebpur, Gazipur Sadar Upazila\",\"gazipur\"],[\"Chandana, Gazipur Sadar Upazila\",\"gazipur\"],[\"Tongi, Gazipur Sadar Upazila\",\"gazipur\"],[\"Tongi, Gazipur Sadar Upazila\",\"gazipur\"],[\"Tongi, Gazipur Sadar Upazila\",\"gazipur\"],[\"Shimultoly, Gazipur Sadar Upazila\",\"gazipur\"],[\"Tongi, Gazipur Sadar Upazila\",\"gazipur\"],[\"Tongi, Gazipur Sadar Upazila\",\"gazipur\"],[\"Tongi, Gazipur Sadar Upazila\",\"gazipur\"],[\"Tongi, Gazipur Sadar Upazila\",\"gazipur\"],[\"Tongi, Gazipur Sadar Upazila\",\"gazipur\"],[\"Chandana, Gazipur Sadar Upazila\",\"gazipur\"],[\"Tongi, Gazipur Sadar Upazila\",\"gazipur\"],[\"Tongi, Gazipur Sadar Upazila\",\"gazipur\"],[\"Chandana, Gazipur Sadar Upazila\",\"gazipur\"],[\"Chandana, Gazipur Sadar Upazila\",\"gazipur\"],[\"Joydebpur, Gazipur Sadar Upazila\",\"gazipur\"],[\"Tongi, Gazipur Sadar Upazila\",\"gazipur\"],[\"Joydebpur, Gazipur Sadar Upazila\",\"gazipur\"],[\"Joydebpur, Gazipur Sadar Upazila\",\"gazipur\"],[\"Joydebpur, Gazipur Sadar Upazila\",\"gazipur\"],[\"Joydebpur, Gazipur Sadar Upazila\",\"gazipur\"],[\"Joydebpur, Gazipur Sadar Upazila\",\"gazipur\"],[\"Joydebpur, Gazipur Sadar Upazila\",\"gazipur\"],[\"Joydebpur, Gazipur Sadar Upazila\",\"gazipur\"],[\"Joydebpur, Gazipur Sadar Upazila\",\"gazipur\"],[\"Joydebpur, Gazipur Sadar Upazila\",\"gazipur\"],[\"Joydebpur, Gazipur Sadar Upazila\",\"gazipur\"],[\"Joydebpur, Gazipur Sadar Upazila\",\"gazipur\"],[\"Joydebpur, Gazipur Sadar Upazila\",\"gazipur\"],[\"Joydebpur, Gazipur Sadar Upazila\",\"gazipur\"],[\"Joydebpur, Gazipur Sadar Upazila\",\"gazipur\"],[\"Joydebpur, Gazipur Sadar Upazila\",\"gazipur\"],[\"Chandana, Gazipur Sadar Upazila\",\"gazipur\"],[\"Joydebpur, Gazipur Sadar Upazila\",\"gazipur\"],[\"Tongi, Gazipur Sadar Upazila\",\"gazipur\"],[\"Tongi, Gazipur Sadar Upazila\",\"gazipur\"],[\"Tongi, Gazipur Sadar Upazila\",\"gazipur\"],[\"Tongi, Gazipur Sadar Upazila\",\"gazipur\"],[\"Tongi, Gazipur Sadar Upazila\",\"gazipur\"],[\"Tongi, Gazipur Sadar Upazila\",\"gazipur\"],[\"Tongi, Gazipur Sadar Upazila\",\"gazipur\"],[\"Tongi, Gazipur Sadar Upazila\",\"gazipur\"],[\"Tongi, Gazipur Sadar Upazila\",\"gazipur\"],[\"Tongi, Gazipur Sadar Upazila\",\"gazipur\"],[\"Chandana, Gazipur Sadar Upazila\",\"gazipur\"],[\"Chandana, Gazipur Sadar Upazila\",\"gazipur\"],[\"Chandana, Gazipur Sadar Upazila\",\"gazipur\"],[\"Chandana, Gazipur Sadar Upazila\",\"gazipur\"],[\"Chandana, Gazipur Sadar Upazila\",\"gazipur\"],[\"Joydebpur, Gazipur Sadar Upazila\",\"gazipur\"],[\"Joydebpur, Gazipur Sadar Upazila\",\"gazipur\"],[\"Joydebpur, Gazipur Sadar Upazila\",\"gazipur\"],[\"Joydebpur, Gazipur Sadar Upazila\",\"gazipur\"],[\"Joydebpur, Gazipur Sadar Upazila\",\"gazipur\"],[\"Joydebpur, Gazipur Sadar Upazila\",\"gazipur\"],[\"Joydebpur, Gazipur Sadar Upazila\",\"gazipur\"],[\"Tongi, Gazipur Sadar Upazila\",\"gazipur\"],[\"Joydebpur, Gazipur Sadar Upazila\",\"gazipur\"],[\"Joydebpur, Gazipur Sadar Upazila\",\"gazipur\"],[\"Joydebpur, Gazipur Sadar Upazila\",\"gazipur\"],[\"Joydebpur, Gazipur Sadar Upazila\",\"gazipur\"],[\"Joydebpur, Gazipur Sadar Upazila\",\"gazipur\"],[\"Joydebpur, Gazipur Sadar Upazila\",\"gazipur\"],[\"Joydebpur, Gazipur Sadar Upazila\",\"gazipur\"],[\"Joydebpur, Gazipur Sadar Upazila\",\"gazipur\"],[\"Tongi, Gazipur Sadar Upazila\",\"gazipur\"],[\"Joydebpur, Gazipur Sadar Upazila\",\"gazipur\"],[\"Joydebpur, Gazipur Sadar Upazila\",\"gazipur\"],[\"Chandana, Gazipur Sadar Upazila\",\"gazipur\"],[\"Chandana, Gazipur Sadar Upazila\",\"gazipur\"],[\"Chandana, Gazipur Sadar Upazila\",\"gazipur\"],[\"Tongi, Gazipur Sadar Upazila\",\"gazipur\"],[\"Joydebpur, Gazipur Sadar Upazila\",\"gazipur\"],[\"Joydebpur, Gazipur Sadar Upazila\",\"gazipur\"],[\"Joydebpur, Gazipur Sadar Upazila\",\"gazipur\"],[\"Joydebpur, Gazipur Sadar Upazila\",\"gazipur\"],[\"Joydebpur, Gazipur Sadar Upazila\",\"gazipur\"],[\"Joydebpur, Gazipur Sadar Upazila\",\"gazipur\"],[\"Joydebpur, Gazipur Sadar Upazila\",\"gazipur\"],[\"Joydebpur, Gazipur Sadar Upazila\",\"gazipur\"],[\"Joydebpur, Gazipur Sadar Upazila\",\"gazipur\"],[\"Joydebpur, Gazipur Sadar Upazila\",\"gazipur\"],[\"Joydebpur, Gazipur Sadar Upazila\",\"gazipur\"],[\"Joydebpur, Gazipur Sadar Upazila\",\"gazipur\"],[\"Chandana, Gazipur Sadar Upazila\",\"gazipur\"],[\"Joydebpur, Gazipur Sadar Upazila\",\"gazipur\"],[\"Shimultoly, Gazipur Sadar Upazila\",\"gazipur\"],[\"Shimultoly, Gazipur Sadar Upazila\",\"gazipur\"],[\"Tongi, Gazipur Sadar Upazila\",\"gazipur\"],[\"Chandana, Gazipur Sadar Upazila\",\"gazipur\"],[\"Chandana, Gazipur Sadar Upazila\",\"gazipur\"],[\"Chandana, Gazipur Sadar Upazila\",\"gazipur\"],[\"Chandana, Gazipur Sadar Upazila\",\"gazipur\"],[\"Chandana, Gazipur Sadar Upazila\",\"gazipur\"],[\"Chandana, Gazipur Sadar Upazila\",\"gazipur\"],[\"Tongi, Gazipur Sadar Upazila\",\"gazipur\"],[\"Tongi, Gazipur Sadar Upazila\",\"gazipur\"],[\"Tongi, Gazipur Sadar Upazila\",\"gazipur\"],[\"Tongi, Gazipur Sadar Upazila\",\"gazipur\"],[\"Tongi, Gazipur Sadar Upazila\",\"gazipur\"],[\"Tongi, Gazipur Sadar Upazila\",\"gazipur\"],[\"Tongi, Gazipur Sadar Upazila\",\"gazipur\"],[\"Tongi, Gazipur Sadar Upazila\",\"gazipur\"],[\"Tongi, Gazipur Sadar Upazila\",\"gazipur\"],[\"Tongi, Gazipur Sadar Upazila\",\"gazipur\"],[\"Shimultoly, Gazipur Sadar Upazila\",\"gazipur\"],[\"Chandana, Gazipur Sadar Upazila\",\"gazipur\"],[\"Chandana, Gazipur Sadar Upazila\",\"gazipur\"],[\"Joydebpur, Gazipur Sadar Upazila\",\"gazipur\"],[\"Tongi, Gazipur Sadar Upazila\",\"gazipur\"],[\"Tongi, Gazipur Sadar Upazila\",\"gazipur\"],[\"Tongi, Gazipur Sadar Upazila\",\"gazipur\"],[\"Tongi, Gazipur Sadar Upazila\",\"gazipur\"],[\"Chandana, Gazipur Sadar Upazila\",\"gazipur\"],[\"Chandana, Gazipur Sadar Upazila\",\"gazipur\"],[\"Chandana, Gazipur Sadar Upazila\",\"gazipur\"],[\"Joydebpur, Gazipur Sadar Upazila\",\"gazipur\"],[\"Chowrasta, Chandra\",\"gazipur\"],[\"Tongi, Gazipur Sadar Upazila\",\"gazipur\"],[\"Tongi, Gazipur Sadar Upazila\",\"gazipur\"],[\"Joydebpur, Gazipur Sadar Upazila\",\"gazipur\"],[\"Joydebpur, Gazipur Sadar Upazila\",\"gazipur\"],[\"Joydebpur, Gazipur Sadar Upazila\",\"gazipur\"],[\"Joydebpur, Gazipur Sadar Upazila\",\"gazipur\"],[\"Joydebpur, Gazipur Sadar Upazila\",\"gazipur\"],[\"Joydebpur, Gazipur Sadar Upazila\",\"gazipur\"],[\"Joydebpur, Gazipur Sadar Upazila\",\"gazipur\"],[\"Joydebpur, Gazipur Sadar Upazila\",\"gazipur\"],[\"Joydebpur, Gazipur Sadar Upazila\",\"gazipur\"],[\"Chandana, Gazipur Sadar Upazila\",\"gazipur\"],[\"Chandana, Gazipur Sadar Upazila\",\"gazipur\"],[\"Shimultoly, Gazipur Sadar Upazila\",\"gazipur\"],[\"Joydebpur, Gazipur Sadar Upazila\",\"gazipur\"],[\"Chandana, Gazipur Sadar Upazila\",\"gazipur\"],[\"Joydebpur, Gazipur Sadar Upazila\",\"gazipur\"],[\"Sugandha Residential Area, Panchlaish\",\"chattogram\"],[\"Sugandha Residential Area, Panchlaish\",\"chattogram\"],[\"Sugandha Residential Area, Panchlaish\",\"chattogram\"],[\"Sugandha Residential Area, Panchlaish\",\"chattogram\"],[\"Sugandha Residential Area, Panchlaish\",\"chattogram\"],[\"Sugandha Residential Area, Panchlaish\",\"chattogram\"],[\"Sugandha Residential Area, Panchlaish\",\"chattogram\"],[\"Dakshin Kattali, 11 No. South Kattali Ward\",\"chattogram\"],[\"Dakshin Kattali, 11 No. South Kattali Ward\",\"chattogram\"],[\"Dakshin Kattali, 11 No. South Kattali Ward\",\"chattogram\"],[\"Dakshin Kattali, 11 No. South Kattali Ward\",\"chattogram\"],[\"Dakshin Kattali, 11 No. South Kattali Ward\",\"chattogram\"]],\"hovertemplate\":\"Floor Area=%{x}\\u003cbr\\u003ePrice (Million Taka)=%{y}\\u003cbr\\u003eBathrooms=%{marker.size}\\u003cbr\\u003eLocation=%{customdata[0]}\\u003cbr\\u003eCity=%{customdata[1]}\\u003cbr\\u003eBedrooms=%{marker.color}\\u003cextra\\u003e\\u003c\\u002fextra\\u003e\",\"legendgroup\":\"\",\"marker\":{\"color\":[3,3,3,3,3,3,3,4,3,3,3,3,3,3,3,3,2,3,3,3,4,4,4,3,3,2,3,2,3,3,3,3,3,2,3,3,3,3,3,3,18,3,3,2,2,3,3,3,3,2,3,3,3,3,2,2,3,2,4,2,4,3,3,2,3,3,2,4,2,3,3,3,3,3,3,3,3,3,3,3,3,3,2,4,3,4,2,3,2,3,3,3,3,2,3,4,3,28,3,3,3,3,3,3,2,3,3,3,3,4,3,2,3,3,3,3,3,3,2,3,3,4,4,3,4,4,3,2,3,3,3,3,3,3,3,3,3,2,3,3,3,3,3,4,3,3,3,5,4,3,3,3,1,3,3,3,3,3,3,3,3,3,3,3,3,3,3,3,2,3,3,4,2,3,3,3,4,2,2,3,3,3,3,3,2,3,3,3,2,3,2,4,4,4,3,3,3,3,6,3,3,18,3,3,3,2,3,3,3,46,3,3,3,2,3,5,3,3,3,3,3,4,5,3,3,4,2,2,3,1,3,3,3,4,3,3,3,3,3,3,2,2,3,3,3,3,3,4,3,3,2,3,3,7,3,3,3,4,2,3,2,2,3,2,3,3,2,3,3,2,2,2,2,3,3,4,3,4,3,3,3,2,4,2,3,3,3,3,3,3,3,3,3,3,4,3,4,3,4,1,2,3,2,3,3,3,3,3,3,4,4,3,3,2,4,4,3,3,3,3,2,3,2,3,3,3,3,3,4,4,3,4,3,3,3,4,4,4,2,3,3,3,4,3,3,3,2,3,3,3,3,3,3,3,4,2,2,3,2,3,3,2,2,3,2,2,4,3,2,3,3,3,3,3,3,3,3,3,3,3,3,2,3,7,4,3,3,3,3,3,3,3,2,3,3,3,3,3,3,2,3,3,3,3,3,3,3,3,3,3,2,3,3,4,3,3,2,4,4,4,3,3,2,3,3,3,3,3,3,3,3,3,3,3,3,4,4,3,3,3,2,2,3,3,3,3,3,3,3,3,3,2,3,3,3,3,2,3,3,3,3,3,3,3,3,4,3,3,3,2,3,3,3,3,3,3,2,3,3,3,4,3,3,3,3,2,2,3,3,3,3,2,3,3,2,3,7,3,3,2,3,3,3,3,3,3,3,3,4,3,3,3,3,3,3,3,3,3,3,3,3,2,3,6,3,3,4,3,3,1,3,4,4,2,3,2,3,2,4,3,3,2,2,3,4,3,3,2,3,3,3,2,3,2,4,3,2,3,3,4,2,3,2,4,2,3,2,3,2,3,3,3,5,3,3,3,3,3,3,3,3,3,3,4,2,3,3,3,4,3,3,3,2,3,3,2,2,3,4,3,3,3,2,3,2,2,3,3,3,3,2,3,3,3,3,3,2,3,2,3,3,4,3,3,2,3,3,3,3,3,2,3,4,3,3,2,3,3,2,4,3,3,3,3,4,3,4,2,4,3,3,3,4,3,3,3,3,3,3,3,3,2,3,3,4,2,3,3,3,3,4,3,3,4,3,3,4,3,3,3,4,2,2,2,2,2,2,2,3,3,3,3,2,3,3,3,2,3,3,3,3,3,3,2,2,4,4,3,2,2,3,3,3,3,3,4,4,3,3,4,3,4,4,4,3,4,2,3,4,3,3,3,3,3,3,3,3,3,3,3,3,3,2,3,3,4,4,3,8,3,3,3,3,3,3,3,4,3,3,2,3,3,3,2,2,2,3,3,3,3,3,3,3,3,4,3,2,3,3,3,3,3,3,3,3,3,3,4,3,3,3,3,3,3,4,3,2,3,2,3,3,3,3,2,2,2,2,3,3,2,3,3,3,3,2,4,3,3,3,2,3,3,3,3,4,3,3,3,2,3,2,5,3,3,3,3,3,4,2,3,3,2,3,3,3,2,2,3,3,3,3,1,1,2,3,3,3,3,3,3,4,4,4,3,3,3,3,3,3,3,3,3,4,2,2,3,4,2,3,3,3,2,3,3,3,3,4,3,3,3,2,3,3,3,3,3,3,3,2,2,3,3,3,3,3,3,2,3,3,3,4,2,3,2,3,2,3,3,3,3,3,3,3,3,2,3,3,3,4,2,3,3,3,2,5,3,3,3,2,4,3,3,3,3,2,3,1,3,3,3,3,3,18,2,3,2,2,3,3,1,3,3,3,3,3,18,3,3,3,3,3,2,3,3,3,3,4,3,3,3,3,3,3,3,2,3,4,2,2,2,3,3,3,4,3,3,3,3,4,3,3,3,3,3,3,4,3,4,3,3,3,3,3,4,3,3,3,3,3,3,3,3,1,3,1,1,3,1,3,3,3,3,3,3,3,3,3,3,2,3,3,3,3,3,3,4,4,4,4,4,4,3,3,3,3,2,3,3,3,1,1,3,1,3,2,2,2,2,3,3,3,1,1,3,3,3,3,3,3,3,1,3,3,2,2,3,3,3,3,3,4,3,4,3,3,3,3,3,3,2,3,2,4,3,3,3,3,3,3,3,3,3,3,3,9,3,5,3,3,3,3,3,3,4,3,3,3,3,4,1,1,3,3,1,1,1,1,1,4,3,3,2,4,3,19,1,1,1,1,1,1,1,3,3,3,4,1,3,2,1,1,1,3,3,3,3,3,3,4,4,3,3,3,3,3,3,3,3,3,3,1,1,3,1,3,19,3,3,3,3,1,1,3,3,3,4,5,4,3,3,3,3,3,2,3,3,3,3,3,3,3,3,3,3,3,2,4,4,3,3,3,3,3,1,3,3,2,3,3,3,3,3,3,3,3,3,3,3,3,3,3,3,3,3,3,18,3,3,3,3,3,3,3,3,3,3,3,3,3,3,3,3,3,1,1,2,3,3,2,1,2,3,3,3,4,3,4,4,2,3,3,3,3,3,3,1,3,3,3,2,3,3,1,1,3,1,2,3,3,3,3,3,1,3,3,3,3,3,3,1,3,3,3,3,1,1,1,3,3,1,3,3,3,4,3,4,4,4,4,4,3,3,3,3,21,4,4,3,3,3,3,3,5,3,2,3,3,3,2,3,3,3,3,3,3,3,3,3,3,3,3,3,1,3,21,3,3,3,3,3,1,1,1,1,1,3,3,2,1,2,2,2,2,2,2,1,1,1,1,3,3,3,2,3,3,3,3,3,3,3,3,3,3,4,3,1,1,1,1,1,1,3,1,1,3,3,3,3,1,3,3,3,3,3,3,3,3,3,3,3,2,3,2,3,3,3,3,3,2,4,3,3,3,3,3,3,3,3,3,3,3,3,2,2,3,4,2,1,1,1,1,3,1,1,3,1,1,1,1,1,3,18,3,1,1,3,3,3,3,3,3,3,3,3,3,3,3,22,1,1,1,2,3,3,3,3,3,3,3,3,3,3,3,3,3,3,3,3,3,4,3,3,3,3,3,3,3,3,3,3,3,3,3,5,3,2,3,2,2,3,3,3,3,3,2,3,3,3,4,3,3,2,3,3,3,3,2,3,20,3,1,1,1,5,3,3,3,3,3,3,3,3,3,3,2,3,2,1,1,1,1,1,4,1,1,3,3,3,4,3,3,4,3,3,3,2,3,3,3,3,3,3,2,2,3,3,3,2,3,3,3,3,4,3,3,3,3,3,1,1,3,2,4,3,3,4,3,3,3,3,3,3,3,3,2,3,3,3,3,3,1,3,3,3,4,3,3,3,2,3,3,3,3,3,1,3,3,3,3,3,3,2,1,3,3,3,3,4,3,3,3,3,3,3,3,3,3,3,3,3,4,1,3,3,3,3,3,2,1,3,3,4,2,3,3,3,3,2,3,3,2,2,2,1,1,1,1,3,3,1,2,2,2,2,3,1,1,1,1,1,1,2,1,3,3,3,3,3,3,1,1,3,3,3,3,3,3,3,3,3,4,3,3,3,3,3,3,3,3,3,3,3,2,1,1,3,3,3,18,3,3,2,3,3,3,1,3,1,4,3,2,3,3,3,2,3,3,3,3,2,4,3,3,4,3,3,3,3,3,3,3,3,3,3,3,3,3,3,3,3,3,3,3,3,3,3,3,3,3,3,3,3,4,4,3,6,3,4,3,1,3,2,4,3,7,3,3,3,3,3,3,3,3,3,1,3,5,3,3,3,3,1,1,1,1,3,3,2,3,3,3,3,1,1,1,2,3,2,3,3,3,3,3,3,5,1,3,3,18,3,1,3,3,1,3,2,3,3,4,3,1,4,3,3,3,3,18,3,4,3,3,3,3,3,3,3,3,4,3,3,3,3,3,4,4,3,3,3,3,3,2,3,3,3,1,1,4,3,3,3,3,3,1,3,3,3,1,1,4,4,3,3,3,4,3,2,2,3,3,3,3,4,3,2,1,1,1,3,3,1,3,3,2,3,3,3,3,5,18,3,2,3,3,3,3,3,3,3,3,3,3,3,3,3,3,3,1,3,3,3,3,3,1,3,1,3,3,3,3,3,3,1,2,1,3,3,3,3,3,3,3,3,3,3,3,3,1,1,1,1,1,1,4,3,3,3,4,3,3,3,4,3,3,3,3,3,3,4,3,3,3,3,3,3,3,1,1,2,3,1,1,3,3,3,3,3,2,3,3,3,3,3,2,3,3,1,1,1,1,1,1,3,3,3,3,1,1,1,1,1,2,2,3,2,3,27,1,1,1,1,3,3,3,3,3,3,3,3,3,3,3,3,3,2,3,3,3,2,3,3,3,3,3,3,3,3,3,3,3,3,3,3,3,3,3,3,3,3,3,2,3,3,3,3,2,3,3,3,3,3,2,3,3,3,3,3,2,3,3,2,3,3,3,3,3,3,3,3,3,3,3,3,3,3,3,3,3,3,3,3,3,3,2,3,3,3,3,3,2,3,3,3,3,2,2,3,3,3,3,2,3,3,3,3,2,3,3,3,3,3,3,3,3,3,3,3,3,2,3,3,2,3,3,3,3,3,2,3,2,2,2,3,3,3,2,3,1,3,3,3,3,3,2,3,3,3,3,1,1,2,2,3,3,3,3,2,3,3,3,3,3,3,3,3,3,3,3,3,3,3,3,3,3,3,3,3,2,2,3,1,1,3,3,1,1,1,3,3,3,2,2,2,3,3,3,3,2,3,3,3,3,3,3,3,3,3,3,3,3,3,3,3,3,3,3,3,3,3,3,3,3,3,3,3,3,3,2,2,3,4,3,2,2,2,2,3,3,1,4,2,3,3,2,1,3,3,2,3,3,3,3,1,1,3,3,3,3,3,3,3,3,3,3,3,3,3,3,3,3,3,3,3,3,3,3,2,3,18,18,18,18,18,18,18,3,3,3,3,3],\"coloraxis\":\"coloraxis\",\"size\":[4,3,3,3,3,3,3,4,3,3,3,3,3,3,3,3,2,3,3,3,4,4,4,3,2,2,4,2,3,3,3,3,3,2,3,2,3,3,3,3,9,3,3,2,2,5,3,3,3,2,3,3,3,3,2,2,4,3,4,2,4,3,2,2,3,3,2,4,2,3,3,3,3,3,3,3,2,3,2,3,3,2,2,5,3,4,2,2,2,2,2,3,3,2,2,4,3,10,2,3,2,3,3,2,2,3,3,3,4,4,2,2,3,3,3,2,3,3,2,3,4,4,4,3,4,4,4,2,4,3,3,3,2,2,3,4,2,2,3,2,3,3,3,3,3,3,3,5,4,3,3,3,1,3,3,3,3,3,4,3,3,3,2,3,5,3,3,4,2,2,3,4,2,3,2,2,4,2,2,3,2,3,4,2,2,4,4,3,2,3,2,4,4,5,3,3,3,3,6,3,3,10,3,3,4,2,2,2,2,10,3,3,3,2,3,5,3,4,3,4,2,5,5,2,3,4,2,2,3,1,3,3,2,5,3,3,3,3,2,4,1,2,3,4,3,3,2,4,3,3,2,3,3,8,3,3,2,5,2,3,2,2,3,1,3,3,1,2,3,2,2,2,2,2,2,4,3,3,2,2,3,3,4,2,3,3,3,3,2,3,3,2,2,3,4,2,4,4,4,1,2,3,2,3,3,3,3,4,3,4,4,3,3,2,4,5,4,2,3,2,2,2,2,3,2,2,2,3,4,4,3,4,3,3,3,3,3,4,2,3,4,2,5,3,3,3,2,3,3,3,2,3,3,3,4,2,2,3,2,3,3,2,2,3,2,2,4,3,2,2,2,3,3,3,3,4,3,3,3,2,2,2,4,7,4,3,3,2,4,2,3,3,2,3,3,3,3,3,3,2,2,2,2,2,2,3,3,3,3,4,2,3,3,4,3,3,2,3,4,4,2,3,2,3,3,2,3,3,3,3,3,3,3,3,3,4,4,3,3,3,2,2,2,3,3,3,3,3,4,3,3,2,3,3,3,3,2,4,4,3,4,3,4,3,3,4,4,3,3,2,3,3,3,2,2,2,2,3,3,3,4,3,3,3,3,2,2,3,3,3,2,2,2,4,3,3,8,3,3,2,3,3,3,3,4,2,2,3,4,3,3,2,3,2,3,4,4,3,2,3,2,2,3,4,3,4,4,3,2,1,2,4,4,2,3,2,2,2,4,3,3,2,2,2,4,2,2,2,3,2,3,2,5,2,3,3,2,3,3,4,2,3,2,4,2,3,2,4,2,4,3,3,5,3,4,3,3,3,3,4,3,3,3,4,2,2,3,3,4,3,4,2,2,3,2,2,2,3,4,3,3,3,2,3,2,2,3,3,3,2,2,2,2,3,3,3,2,3,2,3,3,4,2,1,2,3,3,3,3,3,2,3,4,3,3,2,3,3,2,4,3,3,4,4,4,3,4,2,4,3,3,3,4,3,3,3,3,3,2,3,3,2,3,3,4,2,3,3,2,3,4,3,3,3,3,3,4,3,4,3,4,2,2,2,2,2,2,2,3,4,3,3,2,2,3,3,2,3,4,3,3,3,3,2,2,5,3,3,2,2,3,3,3,3,3,5,5,3,3,4,4,4,4,4,3,4,2,4,4,3,3,3,3,3,3,2,3,2,3,3,3,3,2,3,3,4,4,3,6,3,3,3,2,2,3,2,3,3,3,2,3,3,2,2,2,2,3,2,3,3,3,3,3,3,5,3,2,4,3,3,3,3,3,4,3,3,2,4,3,3,3,3,3,3,4,3,1,2,1,3,3,3,3,2,2,2,2,3,3,2,3,2,3,3,2,4,3,3,3,2,2,2,2,2,4,2,2,2,2,2,2,5,3,3,2,3,3,5,2,3,4,2,2,3,3,2,2,2,2,3,3,1,1,2,2,3,3,3,3,4,4,4,5,3,3,3,3,3,3,3,3,2,4,2,2,4,5,2,3,3,3,2,3,3,3,3,4,3,3,3,2,3,3,2,3,3,3,2,2,2,3,4,4,3,3,3,2,3,3,3,4,2,3,2,3,2,3,2,3,2,3,3,3,3,2,2,3,3,3,2,3,3,3,2,4,3,3,3,2,4,2,3,3,3,2,2,1,3,3,4,3,3,10,2,3,2,2,4,3,1,3,3,3,3,3,10,2,3,3,3,3,2,3,3,3,3,4,2,3,3,2,3,2,3,1,2,5,1,1,2,3,3,3,4,3,4,3,3,5,3,2,3,2,3,3,4,3,5,3,3,3,4,4,4,3,3,3,3,3,3,5,3,1,3,1,1,3,1,2,3,3,3,4,3,3,3,3,3,2,3,3,3,3,3,3,5,5,5,5,5,5,4,4,5,3,2,3,2,3,1,1,3,1,3,2,2,2,2,3,3,3,1,1,3,3,3,3,3,3,3,1,4,3,2,2,3,3,3,3,3,4,4,6,3,3,3,3,3,3,2,3,2,4,3,3,3,3,3,3,3,3,3,3,3,7,3,6,3,3,3,3,3,4,4,3,3,3,3,4,1,1,3,3,1,1,1,1,1,4,3,3,2,3,3,10,1,1,1,1,1,1,1,3,3,3,4,1,3,2,1,1,1,3,3,3,3,3,3,4,4,2,2,3,3,2,3,3,3,3,3,1,1,5,1,3,10,3,3,3,3,1,1,3,3,3,5,5,4,3,3,3,3,4,2,3,3,3,3,4,4,2,3,3,3,3,3,5,5,3,3,4,3,2,1,3,3,2,4,3,3,3,4,3,3,3,3,3,3,3,3,3,3,3,3,4,10,3,3,3,3,3,3,3,3,3,3,3,3,3,3,3,3,4,1,1,2,3,3,2,1,2,3,3,4,4,3,5,3,2,3,3,4,3,3,3,1,5,2,3,2,3,3,1,1,3,1,2,3,3,3,4,3,1,3,3,3,3,3,3,1,3,3,3,4,1,1,1,3,3,1,3,3,3,4,3,5,5,5,5,5,2,3,3,3,10,4,5,2,3,3,4,3,5,3,2,3,3,3,2,3,3,4,3,3,3,4,5,3,3,3,3,3,1,3,10,3,3,3,3,3,1,1,1,1,1,3,3,2,1,2,2,2,2,2,2,1,1,1,1,3,4,3,2,3,3,3,3,3,3,3,3,3,3,4,3,1,1,1,1,1,1,3,1,1,3,3,3,3,1,3,3,3,3,3,4,3,3,3,4,3,2,4,2,3,3,3,3,3,2,4,3,3,3,3,3,3,3,3,3,3,3,3,2,2,3,4,1,1,1,1,1,3,1,1,3,1,1,1,1,1,3,10,3,1,1,3,3,3,3,2,3,3,3,3,5,3,3,10,1,1,1,2,3,3,3,3,3,3,3,3,3,3,3,3,3,3,4,3,3,4,3,2,3,3,3,4,4,4,4,3,3,3,3,5,3,2,3,2,2,3,3,3,3,3,2,3,3,3,4,3,3,3,4,3,3,3,2,3,10,3,1,1,1,5,3,2,3,3,3,3,3,3,3,3,2,3,2,1,1,1,1,1,4,1,1,4,4,3,4,4,3,4,3,3,3,2,3,3,3,3,4,3,2,2,3,3,3,2,3,3,3,3,5,3,2,3,3,3,1,1,3,2,5,4,3,5,3,3,3,3,3,3,3,3,2,3,3,3,3,3,1,3,3,3,3,4,3,3,2,3,3,3,3,3,1,3,3,3,3,3,3,2,1,3,3,3,3,5,3,3,3,3,3,3,3,3,3,3,3,3,4,1,4,3,3,3,4,2,1,3,3,4,2,3,3,3,3,2,4,3,3,3,3,1,1,1,1,3,3,1,2,2,2,2,3,1,1,1,1,1,1,2,1,3,3,3,3,3,3,1,1,3,3,4,3,3,3,3,3,3,3,3,4,2,3,3,3,5,2,3,3,3,2,1,1,3,3,3,10,3,2,2,3,4,3,1,4,1,5,3,2,3,3,3,2,3,3,3,3,2,4,3,3,4,3,3,3,3,3,3,2,3,3,3,4,3,3,3,3,3,3,3,3,3,3,3,3,3,4,4,5,3,5,5,3,6,3,4,3,1,3,2,4,3,8,4,3,3,3,3,3,3,3,3,1,3,5,4,3,3,3,1,1,1,1,3,3,2,3,3,3,4,1,1,1,2,3,2,3,3,3,3,2,3,5,1,3,3,10,3,1,3,3,1,3,2,3,3,4,4,1,4,3,4,3,3,10,3,3,4,4,4,3,3,3,3,3,4,3,3,3,3,4,3,4,3,3,3,3,3,2,3,3,3,1,1,3,3,3,2,3,3,1,3,3,3,1,1,5,5,3,3,3,4,3,2,2,4,4,3,4,4,3,2,1,1,1,3,3,1,3,3,2,3,3,2,3,5,10,3,2,2,4,2,3,3,4,3,3,3,4,3,4,2,3,3,1,3,3,3,3,3,1,3,1,3,3,3,3,3,4,1,1,1,4,3,3,3,3,3,3,3,3,3,3,3,1,1,1,1,1,1,4,3,3,3,4,3,3,3,4,3,3,3,3,3,3,5,3,3,3,3,3,3,3,1,1,2,3,1,1,3,3,3,3,3,2,4,5,5,3,3,3,3,3,1,1,1,1,1,1,3,3,3,3,1,1,1,1,1,2,2,3,2,3,10,1,1,1,1,3,3,3,3,3,3,3,3,3,3,4,3,3,2,3,3,3,2,3,3,2,3,3,2,3,3,3,3,3,3,2,3,2,3,3,3,3,3,3,2,3,3,3,3,2,3,3,3,3,3,2,2,3,3,3,3,2,3,3,2,3,2,2,2,3,3,3,3,3,3,3,3,3,3,3,3,3,2,2,3,3,3,2,3,3,3,3,3,2,3,3,3,2,2,2,3,3,3,3,2,3,3,3,3,2,3,3,3,3,3,3,3,3,3,3,3,3,2,3,3,2,2,3,3,3,3,2,3,2,2,2,3,2,2,2,3,1,3,3,3,3,3,2,3,3,3,3,1,1,1,1,3,3,3,3,2,3,2,2,3,3,3,3,3,3,3,3,3,3,3,3,3,3,3,2,3,1,1,2,1,1,3,3,1,1,1,2,2,2,2,2,2,2,2,2,2,2,2,3,3,3,3,3,3,3,3,3,2,3,3,2,2,3,2,3,3,3,3,3,3,3,3,3,3,3,3,2,2,3,5,3,2,2,2,2,2,2,1,4,1,3,3,2,1,3,3,2,3,3,2,2,1,1,3,3,2,3,3,2,3,3,3,3,3,3,3,3,3,3,3,3,2,2,3,3,2,3,10,10,10,10,10,10,10,3,3,3,3,3],\"sizemode\":\"area\",\"sizeref\":0.025,\"symbol\":\"circle\"},\"mode\":\"markers\",\"name\":\"\",\"showlegend\":false,\"x\":[1960.0,1705.0,1370.0,2125.0,2687.0,1150.0,2119.0,2318.0,1397.0,2400.0,1300.0,1300.0,1300.0,1900.0,1500.0,1450.0,750.0,2343.0,1185.0,1610.0,2180.0,3650.0,5000.0,2700.0,1175.0,650.0,1331.0,900.0,1350.0,1200.0,2045.0,1500.0,1410.0,650.0,1100.0,1220.0,1240.0,1700.0,1400.0,1050.0,16000.0,1240.0,1504.0,750.0,750.0,1585.0,1485.0,1545.0,1050.0,900.0,1340.0,1400.0,1275.0,1245.0,1050.0,850.0,1440.0,948.0,2644.0,800.0,2000.0,1593.0,1220.0,1040.0,1620.0,1550.0,1000.0,1840.0,740.0,1250.0,1430.0,1690.0,1330.0,1230.0,1700.0,1300.0,1175.0,1265.0,1000.0,1554.0,1570.0,1050.0,815.0,2553.0,1590.0,2000.0,800.0,950.0,1230.0,1150.0,1150.0,1150.0,1250.0,860.0,1050.0,3355.0,1375.0,21500.0,900.0,1008.0,1055.0,1800.0,1250.0,900.0,1050.0,1250.0,1675.0,1300.0,2787.0,5040.0,986.0,920.0,1275.0,2290.0,1400.0,1075.0,1300.0,1135.0,855.0,1425.0,2380.0,2600.0,2000.0,1600.0,2200.0,3474.0,1550.0,850.0,2075.0,1380.0,1350.0,1470.0,1090.0,1220.0,1550.0,1654.0,975.0,740.0,1370.0,950.0,1365.0,1128.0,1388.0,1530.0,1200.0,1200.0,1250.0,4350.0,2300.0,1550.0,1550.0,1550.0,350.0,1600.0,1600.0,1800.0,1439.0,1505.0,1605.0,1537.0,1700.0,1700.0,1100.0,1450.0,1815.0,1225.0,1400.0,1450.0,860.0,1085.0,1255.0,1910.0,800.0,1245.0,1250.0,1000.0,1900.0,650.0,650.0,1250.0,1300.0,1500.0,1460.0,1100.0,650.0,1578.0,1584.0,1500.0,1050.0,1703.0,1000.0,2300.0,2300.0,2750.0,1365.0,1365.0,1365.0,1365.0,1900.0,2156.0,1300.0,8850.0,1360.0,1332.0,2200.0,850.0,1295.0,1100.0,1050.0,19200.0,1425.0,1425.0,1410.0,860.0,1254.0,2859.0,1195.0,1800.0,1860.0,1654.0,950.0,2950.0,3700.0,1070.0,1400.0,1451.0,650.0,940.0,1554.0,368.0,1300.0,1300.0,1276.0,3195.0,1400.0,1320.0,1320.0,1517.0,875.0,1650.0,630.0,800.0,1560.0,1970.0,1802.0,2500.0,1000.0,1720.0,1245.0,1200.0,925.0,1485.0,1485.0,6357.0,1200.0,1553.0,750.0,2945.0,650.0,1595.0,850.0,850.0,1425.0,700.0,1480.0,990.0,600.0,1050.0,1350.0,1015.0,600.0,1100.0,1100.0,1045.0,1100.0,2100.0,1250.0,2375.0,1100.0,820.0,1125.0,1220.0,2200.0,970.0,1510.0,1235.0,1425.0,850.0,1100.0,1100.0,1300.0,1050.0,1070.0,1230.0,3400.0,879.0,1850.0,1856.0,1650.0,130.0,625.0,1250.0,650.0,1350.0,1325.0,1852.0,1210.0,1654.0,1275.0,2600.0,1955.0,1609.0,1410.0,922.0,2450.0,2258.0,1500.0,1050.0,1872.0,935.0,750.0,963.0,951.0,1248.0,1046.0,1000.0,1050.0,1090.0,3218.0,1400.0,1400.0,3200.0,1150.0,1390.0,1383.0,1650.0,1650.0,2785.0,1070.0,1450.0,2475.0,1200.0,2535.0,1325.0,1650.0,1650.0,1130.0,1150.0,1587.0,1320.0,1100.0,2200.0,1500.0,1500.0,3226.0,612.0,650.0,1220.0,1020.0,1310.0,1310.0,650.0,650.0,1550.0,930.0,930.0,2400.0,1260.0,700.0,1240.0,1450.0,1425.0,1315.0,1330.0,1400.0,1796.0,1400.0,1236.0,1150.0,1090.0,1108.0,900.0,1695.0,6200.0,2600.0,1252.0,1500.0,1100.0,1611.0,1050.0,1200.0,2050.0,800.0,1495.0,1475.0,1500.0,1450.0,1400.0,1180.0,780.0,1100.0,1100.0,1100.0,1100.0,1100.0,1096.0,1365.0,1365.0,1365.0,2415.0,810.0,1550.0,1050.0,4200.0,1400.0,1400.0,1000.0,1518.0,1250.0,2230.0,1200.0,1050.0,650.0,1200.0,1200.0,1100.0,1396.0,1300.0,1300.0,1100.0,1250.0,1255.0,1255.0,1270.0,1255.0,2700.0,2200.0,1150.0,1156.0,1270.0,900.0,900.0,900.0,1200.0,1200.0,1830.0,1300.0,1634.0,1950.0,1294.0,1400.0,700.0,1250.0,1250.0,1550.0,1450.0,855.0,2154.0,2154.0,1513.0,2000.0,1100.0,1637.0,1425.0,1500.0,2225.0,2255.0,1400.0,1400.0,1000.0,1090.0,1463.0,1650.0,1125.0,1125.0,1150.0,600.0,2060.0,1425.0,1280.0,2650.0,1218.0,1475.0,1500.0,1275.0,800.0,785.0,1800.0,1700.0,1125.0,1200.0,1000.0,1150.0,2200.0,850.0,1500.0,15120.0,1227.0,1625.0,900.0,1465.0,1600.0,1180.0,1215.0,1350.0,820.0,1140.0,1500.0,2350.0,1950.0,1200.0,1185.0,1250.0,950.0,1400.0,2009.0,1575.0,1400.0,975.0,1350.0,1115.0,1000.0,1250.0,2829.0,1650.0,1654.0,2200.0,1245.0,915.0,250.0,1000.0,2150.0,2150.0,1200.0,1206.0,650.0,1050.0,950.0,1600.0,1873.0,1515.0,650.0,1015.0,1125.0,1900.0,1095.0,1000.0,800.0,1616.0,1140.0,1465.0,650.0,2100.0,750.0,1160.0,1350.0,1000.0,1770.0,1180.0,1250.0,850.0,1220.0,850.0,2000.0,600.0,1350.0,680.0,2004.0,1330.0,1913.0,1420.0,1274.0,4372.0,1890.0,1500.0,2142.0,1250.0,1250.0,1150.0,1680.0,1400.0,1204.0,1350.0,2400.0,1050.0,1100.0,1700.0,1700.0,3660.0,1200.0,1370.0,1150.0,840.0,1450.0,1050.0,1050.0,650.0,1618.0,2280.0,1450.0,1290.0,1300.0,772.0,1495.0,650.0,650.0,1200.0,1200.0,1200.0,1120.0,800.0,1000.0,1030.0,1250.0,1105.0,2374.0,970.0,1239.0,1040.0,1350.0,1660.0,1497.0,1000.0,700.0,925.0,1250.0,1750.0,1750.0,1600.0,1350.0,852.0,1850.0,1675.0,1250.0,1250.0,700.0,1350.0,1400.0,970.0,1760.0,1360.0,1600.0,2060.0,2060.0,1960.0,1500.0,2110.0,750.0,1800.0,1120.0,1255.0,1250.0,2450.0,1300.0,1200.0,1450.0,1450.0,1680.0,1000.0,1100.0,1400.0,950.0,1150.0,1350.0,2050.0,850.0,1120.0,1100.0,1100.0,1450.0,1940.0,1350.0,1322.0,1635.0,1850.0,1325.0,5000.0,1220.0,2025.0,1275.0,1570.0,800.0,950.0,1000.0,975.0,1000.0,980.0,975.0,1285.0,1610.0,1400.0,1310.0,850.0,1256.0,1200.0,1530.0,650.0,2150.0,1316.0,1207.0,1400.0,1430.0,1310.0,650.0,850.0,3100.0,1600.0,1375.0,1050.0,650.0,1250.0,1250.0,1350.0,1350.0,1250.0,2500.0,2380.0,1100.0,1100.0,2500.0,1900.0,5000.0,5000.0,1910.0,1308.0,2268.0,780.0,1515.0,2500.0,1370.0,1260.0,1500.0,1750.0,1750.0,1070.0,970.0,1475.0,900.0,1260.0,1596.0,1350.0,1657.0,980.0,1370.0,1420.0,2456.0,2500.0,1599.0,2100.0,1348.0,1445.0,1200.0,1150.0,1150.0,1050.0,1200.0,1650.0,1850.0,1420.0,850.0,1475.0,1375.0,1050.0,905.0,850.0,600.0,1422.0,1200.0,1470.0,1396.0,1100.0,1700.0,1360.0,1360.0,2220.0,1100.0,930.0,2250.0,1238.0,1700.0,1120.0,1150.0,1200.0,1635.0,1445.0,1550.0,975.0,2440.0,2700.0,2700.0,1250.0,1600.0,1600.0,1550.0,2187.0,1150.0,600.0,1050.0,550.0,1300.0,2150.0,1335.0,1186.0,895.0,765.0,750.0,750.0,930.0,1542.0,650.0,1250.0,1250.0,1600.0,1275.0,875.0,3200.0,1300.0,1300.0,1180.0,956.0,1250.0,900.0,925.0,900.0,1800.0,1225.0,1100.0,1100.0,1300.0,800.0,830.0,4025.0,1200.0,1465.0,1050.0,1260.0,1275.0,2900.0,600.0,1125.0,2230.0,1150.0,1175.0,1040.0,1920.0,900.0,887.0,1245.0,1180.0,1250.0,1300.0,307.0,307.0,1000.0,1000.0,1265.0,1450.0,1650.0,1180.0,1650.0,1650.0,2250.0,3000.0,1350.0,1133.0,980.0,1610.0,1200.0,1120.0,1250.0,1250.0,1100.0,2350.0,650.0,650.0,1517.0,2200.0,700.0,1722.0,1250.0,1150.0,900.0,1050.0,1200.0,1400.0,1200.0,1740.0,1200.0,1250.0,1450.0,880.0,1375.0,1115.0,1000.0,1250.0,1332.0,1332.0,1150.0,980.0,900.0,1250.0,1851.0,1700.0,1050.0,1475.0,2961.0,900.0,1459.0,1500.0,1350.0,1560.0,850.0,1518.0,1100.0,1250.0,850.0,1200.0,950.0,1500.0,725.0,1350.0,1245.0,1350.0,1375.0,860.0,1020.0,1350.0,1750.0,2000.0,800.0,2200.0,1350.0,1400.0,1265.0,2400.0,1050.0,2100.0,2100.0,800.0,2140.0,955.0,1285.0,2350.0,1412.0,1100.0,1125.0,241.0,1205.0,1220.0,1800.0,900.0,1350.0,11003.0,780.0,1250.0,900.0,650.0,1560.0,1133.0,360.0,1100.0,1390.0,1485.0,1485.0,1080.0,11003.0,1050.0,1300.0,1300.0,1485.0,1485.0,632.0,1360.0,1537.0,1585.0,2000.0,2036.0,1095.0,1240.0,1500.0,1265.0,1120.0,960.0,1350.0,550.0,1075.0,4686.0,682.0,682.0,852.0,1250.0,1150.0,1100.0,2700.0,1500.0,2100.0,1725.0,1100.0,2900.0,1600.0,945.0,1160.0,1250.0,2120.0,1431.0,3900.0,1650.0,2079.0,1644.0,2200.0,1620.0,1800.0,1800.0,3500.0,1800.0,1250.0,1806.0,1400.0,1300.0,1250.0,2000.0,1775.0,200.0,1750.0,200.0,240.0,1440.0,135.0,905.0,1280.0,1315.0,1275.0,1641.0,1275.0,1616.0,1300.0,1235.0,1280.0,900.0,1280.0,1452.0,1426.0,1500.0,1460.0,1530.0,2540.0,2540.0,2622.0,2530.0,2530.0,2530.0,1800.0,1800.0,2000.0,2200.0,972.0,1450.0,1290.0,1320.0,150.0,200.0,1200.0,115.0,1365.0,1150.0,1150.0,1050.0,1150.0,1750.0,1352.0,1370.0,200.0,86.0,1335.0,1325.0,1331.0,1230.0,1230.0,1270.0,1150.0,157.0,1525.0,2071.0,1025.0,1017.0,1200.0,1565.0,1565.0,1549.0,1600.0,1900.0,2000.0,3000.0,1500.0,1162.0,1162.0,1162.0,1665.0,1950.0,850.0,1340.0,900.0,2636.0,1350.0,1800.0,1685.0,1500.0,1500.0,2020.0,1750.0,1400.0,1672.0,1100.0,1230.0,7000.0,1160.0,6000.0,1250.0,1355.0,1355.0,1355.0,2180.0,1860.0,1250.0,1150.0,1400.0,1324.0,1300.0,2643.0,105.0,110.0,1200.0,1200.0,150.0,156.0,156.0,156.0,105.0,1638.0,1550.0,1550.0,1100.0,1500.0,1350.0,14000.0,115.0,105.0,110.0,125.0,110.0,120.0,105.0,1575.0,1250.0,1400.0,3000.0,220.0,825.0,1007.0,157.0,120.0,129.0,1270.0,1400.0,1050.0,1580.0,1428.0,1408.0,1500.0,1500.0,1500.0,1600.0,1160.0,1300.0,1200.0,1222.0,1226.0,1550.0,1550.0,1000.0,200.0,200.0,1622.0,169.0,2000.0,9200.0,1878.0,1635.0,1180.0,1250.0,110.0,150.0,1000.0,1400.0,1080.0,3001.0,6529.0,3638.0,1555.0,1644.0,1500.0,1200.0,1650.0,900.0,1325.0,1775.0,1700.0,1430.0,2200.0,2000.0,1290.0,1337.0,1459.0,1360.0,1337.0,1150.0,6509.0,4509.0,1200.0,1397.0,1630.0,1370.0,1278.0,181.0,1410.0,1354.0,1013.0,1680.0,1545.0,1375.0,1375.0,1780.0,1400.0,1544.0,1644.0,1646.0,1340.0,2250.0,1600.0,1100.0,2250.0,1644.0,1608.0,1740.0,1646.0,10500.0,1588.0,1175.0,1545.0,1336.0,1699.0,1739.0,1440.0,1440.0,1440.0,1440.0,1440.0,1314.0,1650.0,1500.0,2200.0,1206.0,1900.0,93.0,110.0,1120.0,1700.0,1075.0,1050.0,138.0,864.0,1440.0,1800.0,1860.0,1841.0,1300.0,2530.0,1650.0,980.0,1305.0,1200.0,1592.0,1300.0,1262.0,1186.0,145.0,1592.0,1150.0,1186.0,854.0,1450.0,1340.0,125.0,115.0,1400.0,150.0,950.0,1700.0,1265.0,1500.0,1850.0,1253.0,150.0,1300.0,1320.0,1100.0,1612.0,965.0,2200.0,169.0,1250.0,1400.0,1200.0,2100.0,150.0,125.0,125.0,1600.0,1240.0,120.0,1050.0,1270.0,1350.0,2252.0,1350.0,2500.0,2540.0,2530.0,2622.0,2530.0,1300.0,1300.0,1600.0,1240.0,13300.0,2600.0,2410.0,850.0,1455.0,1460.0,1756.0,1580.0,4000.0,1744.0,966.0,1750.0,1459.0,1415.0,854.0,1520.0,1575.0,1485.0,1430.0,1485.0,1664.0,1800.0,2000.0,1500.0,1570.0,1570.0,1335.0,1325.0,124.0,1471.0,24000.0,1692.0,1400.0,1462.0,1320.0,1320.0,180.0,200.0,120.0,115.0,154.0,1400.0,1650.0,1150.0,175.0,1150.0,1150.0,1150.0,1150.0,1050.0,1150.0,200.0,200.0,200.0,200.0,1744.0,2060.0,1400.0,900.0,1250.0,1530.0,1847.0,1500.0,1950.0,1300.0,1330.0,1510.0,1410.0,1460.0,2500.0,2200.0,84.0,200.0,200.0,240.0,240.0,200.0,1000.0,120.0,130.0,1300.0,1435.0,1335.0,1570.0,159.0,1625.0,1313.0,1422.0,1433.0,1440.0,1510.0,1924.0,1500.0,1644.0,1800.0,1700.0,1050.0,1760.0,900.0,1800.0,1012.0,1200.0,1720.0,1275.0,978.0,2500.0,1545.0,1739.0,1175.0,1175.0,1336.0,2000.0,1593.0,1699.0,1420.0,1350.0,1801.0,1390.0,1000.0,1000.0,1250.0,3400.0,444.0,150.0,130.0,175.0,135.0,1225.0,125.0,110.0,1550.0,120.0,110.0,120.0,110.0,115.0,1426.0,14528.0,1550.0,115.0,125.0,1200.0,1200.0,1428.0,1400.0,1500.0,1135.0,1300.0,1550.0,1550.0,2000.0,1536.0,1550.0,8000.0,150.0,146.0,118.0,1120.0,1480.0,1685.0,1500.0,1685.0,1250.0,1262.0,1302.0,1302.0,1310.0,1262.0,1253.0,1253.0,1186.0,1650.0,1572.0,1835.0,1420.0,2100.0,1336.0,1000.0,1672.0,1250.0,1426.0,1620.0,1646.0,1620.0,1686.0,1175.0,1739.0,1440.0,1200.0,4000.0,1235.0,1003.0,1103.0,852.0,890.0,1320.0,1270.0,1270.0,1607.0,982.0,805.0,1102.0,1250.0,1120.0,2961.0,1592.0,1650.0,1200.0,1760.0,1433.0,1870.0,1595.0,815.0,1450.0,14400.0,2250.0,163.0,161.0,122.0,5525.0,1645.0,1224.0,1400.0,1372.0,2000.0,2200.0,2200.0,2000.0,2000.0,1428.0,990.0,1170.0,950.0,150.0,115.0,156.0,105.0,110.0,3699.0,150.0,150.0,1994.0,1610.0,1524.0,1700.0,2150.0,1450.0,2775.0,1650.0,1500.0,1400.0,874.0,1450.0,1520.0,1520.0,1425.0,1900.0,1200.0,864.0,874.0,1760.0,1607.0,1650.0,1150.0,1360.0,1500.0,1400.0,1324.0,2600.0,1175.0,1000.0,1400.0,1302.0,1770.0,190.0,162.0,1162.0,1140.0,2540.0,2000.0,1253.0,2500.0,1162.0,1650.0,2000.0,1300.0,1700.0,1302.0,1510.0,1550.0,1120.0,1700.0,1565.0,1275.0,1150.0,1390.0,120.0,1300.0,1690.0,1162.0,1850.0,1592.0,1300.0,1360.0,1060.0,2600.0,1450.0,1305.0,2200.0,1400.0,150.0,1100.0,1800.0,1590.0,1375.0,1480.0,1255.0,800.0,125.0,1690.0,1956.0,1544.0,1379.0,2500.0,1365.0,1550.0,1550.0,1550.0,1275.0,1275.0,1275.0,1275.0,1500.0,1450.0,1450.0,1630.0,2500.0,100.0,1575.0,1100.0,1100.0,1590.0,1335.0,1000.0,286.0,1550.0,1300.0,2061.0,800.0,1160.0,1160.0,1520.0,1335.0,1090.0,1800.0,1462.0,1110.0,1110.0,1110.0,150.0,180.0,136.0,115.0,1400.0,1400.0,180.0,1150.0,1150.0,1050.0,1050.0,1752.0,110.0,240.0,240.0,95.0,90.0,240.0,1500.0,200.0,1275.0,1435.0,1315.0,1335.0,1335.0,1325.0,184.0,150.0,1470.0,1436.0,1940.0,1544.0,1544.0,1644.0,1739.0,1375.0,1148.0,1700.0,1517.0,2280.0,1200.0,1500.0,1500.0,2000.0,2506.0,750.0,1305.0,2400.0,1100.0,1100.0,134.0,151.0,1685.0,1400.0,1150.0,14528.0,1080.0,1075.0,978.0,1433.0,1350.0,1665.0,153.0,2148.0,88.0,4500.0,1050.0,900.0,1466.0,1300.0,1500.0,1015.0,1459.0,1337.0,1459.0,1337.0,800.0,3400.0,1672.0,1200.0,2500.0,1430.0,1430.0,1915.0,1162.0,1162.0,1570.0,850.0,1500.0,1423.0,1835.0,1350.0,1615.0,1500.0,1685.0,1500.0,1400.0,1685.0,1580.0,2295.0,1487.0,1440.0,1493.0,1493.0,1537.0,1800.0,1800.0,2000.0,1305.0,2540.0,2540.0,1700.0,3800.0,1210.0,2200.0,1621.0,150.0,1400.0,600.0,2252.0,1429.0,2800.0,1800.0,1200.0,1370.0,1162.0,1435.0,1500.0,1485.0,1350.0,1500.0,160.0,1254.0,2782.0,1780.0,1465.0,1727.0,1316.0,174.0,150.0,139.0,136.0,1400.0,1408.0,1000.0,1550.0,1244.0,1149.0,1429.0,136.0,188.0,141.0,969.0,1350.0,975.0,1165.0,1145.0,1145.0,1382.0,1180.0,1130.0,4000.0,105.0,1500.0,1545.0,14528.0,1550.0,120.0,1400.0,1330.0,222.0,1250.0,1025.0,1415.0,1563.0,1700.0,2150.0,145.0,1800.0,1500.0,1760.0,1520.0,1950.0,10000.0,1387.0,1400.0,1620.0,1646.0,1686.0,1336.0,1545.0,1699.0,1545.0,1336.0,1750.0,1110.0,2120.0,1530.0,1162.0,1592.0,1873.0,1858.0,1500.0,1186.0,1300.0,1300.0,1226.0,1054.0,1415.0,1304.0,2100.0,115.0,115.0,1800.0,1100.0,1300.0,1162.0,1253.0,1500.0,90.0,1350.0,1740.0,1370.0,110.0,156.0,2622.0,2530.0,1331.0,1331.0,1350.0,1587.0,1305.0,950.0,920.0,1994.0,1860.0,1320.0,1750.0,2038.0,1565.0,1013.0,120.0,105.0,120.0,1262.0,1600.0,103.0,1628.0,1600.0,900.0,1420.0,1632.0,1162.0,1783.0,2622.0,14528.0,1620.0,950.0,1050.0,1550.0,1075.0,1100.0,1100.0,1800.0,1630.0,1699.0,1336.0,1800.0,1540.0,2500.0,1500.0,1544.0,1644.0,147.0,2000.0,1200.0,1235.0,1252.0,1300.0,100.0,1300.0,110.0,1300.0,2289.0,1350.0,1627.0,1490.0,1604.0,156.0,435.0,212.0,1301.0,1400.0,1685.0,1500.0,1500.0,1250.0,2420.0,1250.0,1400.0,1300.0,1300.0,1200.0,98.0,163.0,181.0,163.0,123.0,153.0,2609.0,2000.0,2200.0,1500.0,1700.0,1157.0,1388.0,1790.0,1500.0,1700.0,1700.0,1300.0,1313.0,2000.0,1410.0,2750.0,1800.0,1338.0,1500.0,1640.0,1950.0,1433.0,1150.0,85.0,240.0,850.0,1100.0,126.0,178.0,1505.0,1435.0,1570.0,1315.0,1580.0,702.0,1800.0,2000.0,2000.0,1544.0,1544.0,1200.0,1200.0,1200.0,115.0,105.0,105.0,110.0,125.0,110.0,1392.0,1180.0,1320.0,1320.0,105.0,115.0,122.0,148.0,125.0,1150.0,1150.0,1650.0,1050.0,1035.0,12000.0,240.0,240.0,240.0,105.0,1295.0,1057.0,1450.0,1445.0,1450.0,1390.0,1390.0,1445.0,1380.0,1547.0,1265.0,1438.0,1350.0,1050.0,1500.0,1250.0,1500.0,1080.0,1380.0,1547.0,1030.0,1450.0,1438.0,1010.0,1350.0,1450.0,1500.0,1013.0,1013.0,1200.0,1100.0,1390.0,1080.0,1183.0,1375.0,1260.0,1380.0,1445.0,1445.0,1020.0,1190.0,1400.0,1265.0,1500.0,1000.0,1316.0,1380.0,1470.0,1470.0,1265.0,1020.0,1100.0,1358.0,1470.0,1220.0,1330.0,1080.0,1450.0,1028.0,915.0,1239.0,1260.0,1050.0,1100.0,1500.0,1550.0,1500.0,1500.0,1547.0,1415.0,1390.0,1500.0,1390.0,1415.0,1470.0,1350.0,1327.0,1151.0,1180.0,1390.0,1400.0,1233.0,1050.0,1300.0,1300.0,1445.0,1415.0,1470.0,985.0,1450.0,1375.0,1450.0,1080.0,1000.0,897.0,1358.0,1375.0,1415.0,1550.0,915.0,1547.0,1445.0,1175.0,1239.0,750.0,1547.0,1500.0,1550.0,1550.0,1500.0,1350.0,1380.0,1390.0,1200.0,1470.0,1400.0,1350.0,900.0,1350.0,1547.0,1080.0,1025.0,1200.0,1415.0,1445.0,1450.0,985.0,1013.0,1050.0,1020.0,1050.0,1525.0,1050.0,1380.0,981.0,1050.0,130.0,1050.0,1350.0,1174.0,1240.0,1240.0,1000.0,1440.0,1380.0,1380.0,1185.0,130.0,130.0,800.0,800.0,1050.0,1259.0,1000.0,1000.0,1000.0,1259.0,1080.0,1032.0,1240.0,1240.0,1240.0,1240.0,1240.0,1240.0,1300.0,1300.0,1300.0,1300.0,1350.0,1350.0,1240.0,1300.0,1240.0,920.0,1240.0,800.0,800.0,950.0,120.0,130.0,1000.0,1000.0,130.0,130.0,130.0,920.0,920.0,920.0,1000.0,1000.0,950.0,1080.0,1080.0,1080.0,1080.0,950.0,1080.0,1000.0,1300.0,1350.0,1300.0,1300.0,1300.0,1350.0,1350.0,1240.0,1150.0,1240.0,1240.0,920.0,920.0,1259.0,1200.0,1300.0,1300.0,1300.0,1300.0,1300.0,1300.0,1300.0,1350.0,1350.0,1350.0,1240.0,1240.0,1000.0,950.0,1185.0,6500.0,1100.0,1000.0,1000.0,1000.0,1000.0,920.0,920.0,130.0,2000.0,700.0,1028.0,1200.0,773.0,120.0,1000.0,1004.0,710.0,1174.0,1259.0,920.0,1080.0,120.0,120.0,1004.0,1028.0,920.0,1259.0,1259.0,1080.0,1285.0,1000.0,1000.0,1350.0,1350.0,1300.0,1300.0,1350.0,1240.0,1240.0,1240.0,1240.0,920.0,920.0,1185.0,1350.0,1000.0,1240.0,10890.0,10890.0,10890.0,10890.0,10890.0,10890.0,10890.0,1250.0,1250.0,1250.0,1250.0,1250.0],\"xaxis\":\"x\",\"y\":[39.0,16.9,12.5,20.0,47.5,8.8,19.0,23.0,8.0,20.0,8.0,8.0,8.0,21.0,11.0,9.5,6.2,22.0,11.0,13.1,17.5,78.0,110.0,55.0,8.3,3.1,16.0,4.5,14.2,7.5,23.625,25.0,13.8,4.0,4.7,5.0,7.32,6.5,8.5,4.7,120.0,8.7,7.1,4.0,3.5,14.0,13.2,14.0,8.2,4.1,6.2,11.5,8.0,15.5,4.8,5.5,7.3,7.0,35.0,6.95,22.0,21.5,5.0,6.5,16.5,14.5,5.5,46.0,4.0,7.8,12.0,14.8,7.9,7.4,17.0,8.0,6.3,8.5,5.7,11.5,5.6,4.5,4.2,38.0,11.2,21.5,8.6,6.0,5.0,6.5,6.5,6.7,7.6,4.9,6.2,39.0,12.1,220.0,5.0,4.8384,5.3,16.0,5.25,2.9,3.36,11.5,9.7125,7.5,29.0,54.0,6.2,3.3,8.5,22.5,7.8,5.5,9.6,7.5,4.7025,9.0,21.5,31.2,14.8,14.0,25.0,45.0,15.0,5.0,29.05,9.5,11.3,7.0,5.5,8.0,14.5,12.5,4.0,3.5,9.2,4.0,8.54,7.118,9.6,11.5,8.7,8.7,7.6,57.0,22.0,9.5,12.5,12.5,5.5,16.0,16.0,18.0,13.0,11.5,17.0,14.5,16.15,16.15,6.0,13.1,22.78,11.0,7.8,14.285,5.59,6.0,13.805,13.752,3.7,4.5,4.5,5.1,23.0,2.2,2.3,11.5,7.0,9.0,11.0,3.8,3.0,12.0,12.0,8.8,5.5,8.8556,4.0,15.0,15.0,26.125,7.5075,7.5075,7.5075,7.5075,10.0,17.0,9.75,55.0,10.0,5.5944,20.0,5.1,6.5,9.5,5.5,75.0,8.5375,8.5375,7.0,4.5,5.5,35.2375,8.5,7.5,12.0,8.5,3.5,32.0,44.0,3.8,7.0,7.5,2.7,4.8,13.5,11.04,8.3,8.3,4.0,34.1,12.5,9.13,5.0,11.5,5.7,10.0,3.5,5.3,14.0,21.0,16.0,65.0,7.3,14.0,7.1,5.0,6.8,13.2,13.2,29.0,6.0,16.5,5.2,100.0,3.2,11.232,6.0,4.8,8.5,3.0,10.0,4.8,3.0,4.8,13.0,6.5,2.6,4.5,4.5,11.0,6.4,14.0,10.8,22.0,7.9,6.0,9.7,16.3,16.5,4.8,8.2,11.8,8.6375,7.0,5.0,4.2,6.5,5.8,4.6,6.4,57.8,5.274,17.5,17.5,9.9,4.2,2.5,5.0,3.0,12.0,6.5,21.5,6.0,11.0,12.5,42.9,25.2375,12.8,13.395,5.0,43.0,28.0,12.2,5.0,13.5,6.61,3.5,2.5038,2.4726,3.2448,2.8,3.8,5.5,7.085,27.5,9.5,7.5,58.0,7.0,22.5,10.8,11.0,11.0,44.0,9.63,11.0,23.5,7.5,16.0,8.0,8.25,8.25,5.8,9.5,15.9,9.3,6.5,21.0,12.0,16.0,30.0,2.9,4.0,9.5,5.0,9.825,12.0,2.8,2.8,8.6,5.2,5.2,26.0,5.796,3.5,8.06,9.425,9.975,7.375,6.916,6.0,14.0,8.14,7.0,6.0,5.5,5.5,5.0,13.5,155.0,49.5,7.0,8.25,6.05,15.5,5.5,6.0,19.5,4.445,15.75,15.55,12.8,8.675,8.4,6.5,2.73,4.95,4.95,4.95,4.95,4.95,6.6,7.5075,7.5075,7.5075,25.5,3.402,11.5,3.75,50.4,6.3,6.3,4.5,10.0,12.5,16.0,6.5,4.5,4.225,5.4,5.4,4.95,11.5,7.8,7.8,6.6,7.0,6.9025,6.9025,6.985,6.9025,27.0,19.0,9.0,6.8,6.0,5.5,5.5,6.0,7.2,8.6,23.0,7.4,9.8,11.0,10.0,8.0,4.0,11.675,7.5,10.85,10.15,4.275,32.31,32.31,13.5,20.0,9.0,12.0,11.5,12.0,23.5,22.0,6.3,6.3,4.5,6.54,5.852,7.5,4.775,4.775,4.87,2.6,18.54,19.95,7.68,21.0,11.0,15.0,7.3,10.6,4.0,8.25,16.0,18.5,9.5,11.5,7.5,9.0,22.0,6.5,12.0,85.0,5.8,11.0,6.5,8.6,12.0,6.49,7.5,12.15,3.7,6.1,10.8,29.0,10.725,6.6,7.7,7.0,4.4,8.2,19.9,16.0,8.14,5.0,6.5,5.8,6.0,6.5,42.435,16.0,9.5,22.0,9.0,4.0,3.4,5.5,18.875,18.575,7.0,14.0,3.2,4.725,4.275,7.5,25.5,19.9,3.5,6.0,4.775,19.0,7.5,7.0,4.0,7.272,6.2,8.8,2.4,29.0,4.2,4.408,8.8,3.5,9.0,5.5,6.8,5.1,7.0,5.3,19.0,2.3,12.0,4.0,17.5,19.0,19.7,11.5,10.5,65.58,20.0,13.5,20.5,8.0,8.0,8.2,11.0,8.4,7.5,9.5,20.8,6.3,8.5,13.6,13.6,109.8,6.7,9.5,6.5,5.0,9.5,5.5,5.0,3.2,12.5,25.0,12.0,6.5,6.0,4.3,7.0,3.5,3.2,5.5,5.5,5.5,5.5,4.0,6.0,6.0,6.7,7.5,26.5,4.0,11.0,6.2,8.5,10.5,9.5,6.5,2.0,5.5,7.0,11.0,16.0,14.5,13.5,4.8,15.725,11.5,7.5,7.5,3.0,13.5,8.5,8.5,14.5,7.5,12.8,32.96,32.96,23.52,11.5,28.485,2.625,14.4,5.04,19.4525,5.0,31.0,11.05,8.7,11.5,9.5,8.4,6.5,6.7,9.2,6.7,5.75,10.15,21.525,4.0,5.6,8.0,4.95,10.15,13.968,8.0,9.0,10.6275,14.8,9.275,60.0,9.5,19.0,8.6,12.5,5.6,6.1,6.5,6.3,6.5,5.5,6.3375,11.0,23.0,6.3,9.2,2.5,6.5,6.05,15.5,4.6,18.5,13.5,12.87,6.5,8.58,7.205,2.2,5.5,46.5,12.0,12.0,5.5,2.2,9.0,15.0,11.0,9.0,7.0,22.5,29.0,6.1,6.1,22.5,12.35,72.5,72.5,22.92,6.6,47.0,4.0,12.8775,35.0,8.5,10.71,12.75,19.2,19.2,7.49,5.0,8.85,4.0,8.0,10.374,10.8,10.5,4.5,7.8,10.5,22.104,22.5,15.99,5.46,11.2,6.936,5.0,6.325,6.325,3.75,5.5,10.0,9.8,8.2,3.3,15.55,14.55,4.41,4.0725,3.825,2.88,9.8118,6.05,7.8,9.674,6.2,11.6,13.9,8.0,24.0,6.5,5.5,21.5,11.0,15.0,6.0,6.0,6.0,9.0,13.0,12.0,4.0,25.4,67.5,67.5,7.5,14.4,19.2,11.5,39.366,6.0,2.0,4.5,8.0,6.5,23.5,6.0075,5.337,5.5,5.2075,4.0,4.0,3.9,8.5,2.4,6.25,6.25,9.5,5.7375,4.0,20.0,6.5,6.5,7.5,5.8,7.5,4.32,4.44,4.32,9.0,5.5125,4.62,5.8,6.5,5.3,4.7,50.0,7.5,8.0,6.0,7.0,7.2,35.0,3.25,5.925,21.2,8.7,7.0,6.5,10.5,4.8,3.0,6.8,6.5,8.2,8.5,9.21,9.21,35.0,6.0,8.8,7.0,13.2,7.0,14.0,9.5,21.8,120.0,8.0,5.2,5.5,13.0,10.0,5.04,8.625,8.625,6.5,19.5,3.5,3.5,11.5,23.0,3.8,18.2,7.5,7.975,4.6,6.0,5.0,12.5,6.0,11.3,7.7,6.0,12.0,4.4,8.4,6.7,6.8,7.0,5.7915,7.326,6.5,5.39,4.95,6.0,13.8825,15.0,6.3,15.55,52.5,3.15,13.5,12.5,11.6,11.2,5.0,12.4,5.5,7.2,4.0,5.8,5.2,11.5,4.8,6.575,5.3535,8.5,7.0,4.5,6.0,9.5,12.0,20.0,3.8,18.5,7.4,8.4,7.5,18.0,10.0,15.75,15.75,3.2,16.0,5.0,7.788,50.0,7.0,9.0,6.1875,4.5,6.6,6.8,19.0,4.05,7.425,154.0,3.12,9.0,4.0,2.3,10.0,6.2315,3.5,5.0,7.665,8.167,8.167,4.32,154.0,5.5,5.85,5.46,8.167,8.167,4.424,13.0,14.5,13.0,17.0,17.0,7.0,9.0,12.5,12.65,6.16,3.7,6.5,2.31,4.0625,210.87,3.6,3.6,8.094,10.5,5.5,5.5,26.5,15.0,23.11,14.6625,6.05,101.5,13.6,6.2,8.0,7.4,33.0,9.0,52.0,9.075,14.5,9.0,12.0,13.0,12.5,12.5,29.0,12.16,5.5,12.481,8.2,5.6,5.6,13.0,14.2,4.8,7.875,5.0,6.0,6.5,2.43,3.2,6.0,5.26,5.1,11.0,5.1,11.5,7.28,6.5,7.4,3.8,7.4,9.3,7.117,8.7,8.1,7.65,29.21,29.21,30.153,29.095,29.095,29.095,12.5,12.5,13.0,17.5,5.0,11.5,11.0,5.94,1.5,2.0,6.5,2.3,6.0,4.6,4.6,4.2,4.6,10.0,6.76,6.85,4.6,1.05,5.34,5.3,7.6,9.5,16.605,17.145,5.0,4.082,14.0,14.459,5.0,4.5,5.8,7.26,7.26,7.2,8.0,8.93,13.0,15.0,10.0,6.972,6.972,6.972,7.0,13.0,8.0,7.37,5.3,20.5608,6.3,10.0,9.2675,8.25,8.25,18.0,11.0,8.5,14.2,4.95,6.396,24.5,23.2,72.0,7.5,4.7425,4.7425,4.7425,9.0,13.82,8.6,7.5,8.0,9.4,7.2,23.0,3.675,3.85,6.0,6.0,3.0,3.12,3.12,3.12,3.675,8.0,7.75,7.75,4.5,6.0,6.8,350.0,4.025,3.675,3.85,4.375,3.85,4.2,3.675,9.0,4.8,7.0,28.0,3.0,3.7,5.034,5.024,3.12,3.354,6.604,7.28,5.25,7.9,4.998,4.928,4.95,4.95,6.0,6.4,5.22,7.15,4.8,4.888,4.904,6.5,7.5,5.0,1.3,1.3,9.3,4.725,11.0,65.0,15.0,12.0,6.49,7.0,3.85,3.0,4.0,7.8,5.7,48.016,130.58,65.484,6.0,9.0,9.0,4.5,12.0,4.5,5.3,12.1375,10.5,8.5,13.0,13.0,8.0,7.7546,8.4622,7.888,7.7546,6.0,65.0,45.0,7.2,5.838,8.5,6.5,6.5,9.5,7.755,6.4,5.0,30.0,7.725,8.5625,8.5625,13.0,7.8,9.264,9.864,10.03912,8.0,16.0,6.5,5.5,12.0,9.864,8.04,11.5,11.0282,147.0,9.8,5.875,7.725,6.68,8.495,8.695,6.0,6.192,6.0,6.192,6.192,7.57,9.675,11.0,12.1,5.427,14.1,2.418,3.85,6.72,8.16,5.0525,4.0,3.95,4.8,8.2,15.824,13.82,16.0,6.2,29.095,8.2,4.2,11.0,4.5,8.56,7.5,5.679,5.337,2.9,8.56,6.2,5.337,4.8,8.5,6.8,4.375,4.025,7.7,3.7,5.0,8.5,5.5,8.25,10.0,5.6385,3.1,9.7,7.0,5.5,12.0,5.2,12.1,5.175,7.5,8.5,4.5,16.0,3.0,4.375,4.375,7.0,5.0,2.5,7.0,6.604,6.0,11.26,6.831,17.5,29.21,29.095,30.153,29.095,5.8,8.2,10.0,7.0,105.0,18.5,15.5,3.9,12.5,8.1,9.0,7.2,58.0,8.7,3.8,9.5,8.4622,5.82,4.5,16.0,14.014,12.0,6.6,8.0,9.2,12.5,13.0,6.0,6.28,6.28,5.34,5.9,2.232,6.1,60.0,16.0,11.2,9.5,5.94,5.94,1.8,2.0,2.64,2.3,3.08,7.0,6.6,4.6,3.5,4.6,4.6,4.6,4.6,4.2,4.6,4.6,4.6,4.6,4.6,12.0,11.5,8.4,5.4,6.95,12.3,12.0,8.5,14.625,10.0,10.0,5.285,8.0,7.0,12.2,19.0,1.25,4.8,4.8,5.76,5.76,5.0,5.0,2.16,2.34,8.0,5.74,5.34,6.28,2.862,7.5125,6.5,9.8118,9.8877,9.936,10.419,19.5,12.0,9.864,13.0,8.0,6.0,13.12,5.0,15.824,4.4,6.0,7.88,7.39375,5.5,25.0,7.725,8.695,5.875,5.875,8.0,16.0,7.6464,8.1552,7.81,6.7,14.8177,11.0,8.0,8.0,6.95,19.4,11.988,3.7,3.38,4.55,6.0,9.5,4.375,3.85,7.75,4.2,3.85,4.2,3.85,4.025,7.13,363.2,7.75,4.025,4.375,5.2,6.0,4.998,7.8,6.0,3.8,7.15,9.335,9.335,6.0,5.6832,6.5,29.5,3.3,2.92,2.36,6.72,6.66,9.2675,8.25,9.2675,5.0,5.679,5.859,5.859,5.5,5.679,5.6385,5.6385,5.337,9.675,8.46,9.8,7.1,20.0,6.68,5.5,13.3,6.5,7.5,10.854,11.0282,10.854,11.2962,5.875,8.695,6.192,5.4,20.0,6.175,5.0,5.515,3.5,3.0,5.544,5.334,5.334,13.0,3.928,3.22,4.408,6.0,5.04,29.5,8.56,9.675,7.5,16.0,7.8,13.5,11.0,3.6,7.5,55.0,29.0,4.575,4.525,3.55,71.825,7.7315,5.1,7.5,7.2,11.0,12.1,12.1,11.0,11.0,4.998,3.96,4.6,3.4,3.0,4.025,3.12,3.675,3.85,33.0,3.0,3.0,15.0,10.5,9.5,9.5,13.0,6.5,21.645,6.6,8.25,7.7,4.8,9.0,10.0,10.0,8.55,14.25,5.0,4.8,4.8,14.0,13.0,9.075,5.8,8.0,10.0,9.2,11.5,13.5,4.7,4.0,8.0,5.859,7.02,5.25,4.55,6.972,6.84,29.21,13.0,5.6385,25.0,6.972,9.675,11.0,4.94,7.0,5.859,7.0,9.3,6.72,7.0,7.5,4.845,5.2,11.0,3.068,9.7,8.4,6.972,8.5,8.56,5.6,7.888,5.5,25.0,7.5,11.0,12.1,8.0,3.0,5.5,8.2,7.473,4.8125,11.0,10.0,3.7,4.375,9.119,10.0,7.148,20.685,17.5,11.0,9.3,9.335,8.835,7.39375,7.39375,7.39375,7.39375,6.5,6.4,6.6,8.15,17.5,2.5,8.0,7.0,6.5,10.0,8.5,3.2,7.15,7.75,6.0,14.5,4.0,29.0,23.2,6.0,4.6725,4.5,12.5,9.5,4.995,4.995,4.995,1.5,1.8,2.72,2.3,7.0,7.0,3.6,4.6,4.6,4.2,4.2,13.064,2.2,5.52,5.52,1.24,1.26,5.52,6.75,5.0,5.1,5.74,5.26,5.34,5.34,5.3,3.312,2.7,4.41,11.5,16.132,9.264,9.264,9.864,8.695,8.5625,5.592,12.0,8.0,22.0,6.8,11.2,11.2,16.0,15.0,2.5,6.525,12.0,4.5,6.6,2.68,3.02,9.2675,7.7,5.8,363.2,5.7,5.5,5.0,7.132,8.0,7.0,10.0,38.664,1.2,55.62,5.25,4.5,7.0,7.2,8.6,5.887,8.4622,7.7546,8.4622,7.7546,4.5,19.4,8.0,4.6,12.0,7.936,7.936,11.49,6.972,6.972,11.0,4.0,9.0,7.115,13.0,7.5,11.5,8.25,9.2675,8.25,7.7,9.2675,8.0,25.0,9.0,9.936,9.8,9.8,9.0,12.5,12.5,13.0,11.0,29.21,29.21,8.3842,24.0,7.0,15.0,10.5,3.65,7.5,3.0,11.26,8.0,30.0,16.0,8.0,6.5,6.972,7.0,8.3,8.0,9.45,6.0,8.0,7.0,21.6996,10.5,9.962,14.5,6.2,4.7,5.25,3.614,3.536,6.5,5.632,4.0,7.3,6.5,7.5,8.5,4.1875,5.675125,4.33,3.6,6.075,3.705,4.427,5.7,3.4,6.8,6.2,5.3,20.0,3.675,8.7,7.5,363.2,7.75,4.2,8.0,8.0,6.5,7.0,4.5,6.367,9.2,9.5,13.0,8.0,14.04,9.0,13.12,10.0,10.725,300.0,8.0,7.0,10.854,11.0282,11.2962,6.68,7.725,8.495,7.725,6.68,9.5,4.44,19.0,12.0,6.972,8.56,12.738,16.0,11.0,5.337,7.15,7.15,7.0,6.5,5.82,5.9984,16.8,4.025,1.35,9.0,7.5,9.7,5.0,5.6385,8.25,2.7,8.0,12.5,13.2,3.85,3.12,30.153,29.095,6.5,6.5,7.0,10.0,11.0,4.0,5.8,15.5,17.5,9.5,12.25,29.932,9.0,4.2,4.2,3.675,4.2,5.679,12.0,3.2,13.0,10.0,4.8,7.1,9.16,5.0,11.5895,30.153,350.0,6.8,4.7,4.2,12.0,6.0,6.5,7.0,12.0,8.15,8.495,6.68,13.45,7.392,21.55,9.5,9.264,9.864,4.102625,8.5,7.7,4.1,6.52,7.15,4.0,7.8,3.85,7.8,26.0,9.3,10.5,6.705,8.822,3.12,7.0,7.5,11.0,7.7,9.2675,8.25,8.25,5.0,13.31,6.5,10.0,5.4,7.5,6.0,2.0,3.749,5.025,4.575,3.575,4.325,33.917,11.0,12.1,9.0,9.5,4.0495,5.552,7.518,4.95,7.0,7.0,7.15,7.2,10.5,8.8,20.0,9.5,12.0,9.5,11.0,18.0,9.8877,5.5,1.1,6.0,3.2,5.0,2.268,2.848,6.5,5.74,6.28,5.26,13.5,12.636,12.5,13.0,13.0,9.264,9.264,6.0,6.0,6.0,4.025,3.675,3.675,3.85,4.375,3.85,8.5,7.5,6.0,5.94,2.1,2.32,2.44,3.6,2.5,4.6,4.6,6.6,4.2,4.347,130.0,5.52,5.52,5.52,3.675,6.5,5.25,5.8,5.75,5.9,5.282,5.282,5.65,5.52,5.8786,5.6925,5.033,4.725,4.41,5.7,4.375,6.01,3.78,5.244,6.19,3.914,5.51,5.033,3.535,5.805,5.51,5.75,5.0,5.0,5.5,6.0,5.6,4.8,5.8,5.5,4.536,5.52,5.78,5.78,3.57,5.26,4.9,5.06,6.0,5.0,5.6588,5.244,5.586,5.586,5.1865,4.08,4.4,5.16,5.59,4.636,5.32,3.8,5.51,5.1,4.7,6.7,6.8,5.5,6.0,6.0,6.51,6.0,6.0,6.965,5.66,5.56,6.0,5.282,5.665,5.88,7.3,6.9,6.0,6.4,5.282,4.9,5.3019,4.2,5.2,4.94,5.78,5.65,5.88,3.94,5.51,5.25,5.8,4.1,3.8,3.1395,4.753,5.225,5.66,6.505,4.7,6.188,5.775,5.0,6.7,3.0,6.961,6.0,6.5,6.51,6.0,5.13,5.52,5.56,4.75,5.586,5.32,4.725,3.15,5.13,5.878,3.78,5.5,5.5,5.66,5.785,5.9,3.94,5.0,4.2,4.08,4.2,6.8,6.0,6.5,5.5,8.0,5.0,3.99,4.5,4.696,4.96,4.96,4.3,5.9,5.0,5.0,4.74,5.0,5.0,1.76,1.76,3.99,4.9,4.0,4.0,4.3,4.9,4.32,3.6,4.96,4.96,4.96,4.96,4.96,4.96,5.2,5.2,5.2,5.2,4.5,4.5,4.96,5.2,4.96,3.22,4.96,2.56,2.56,2.95,5.0,5.0,3.8,3.8,5.0,5.0,5.0,3.22,3.22,3.22,4.3,4.3,3.8,4.32,4.32,4.32,4.32,3.8,4.32,4.0,5.2,4.5,5.2,5.2,5.2,4.5,4.5,4.96,4.5,4.96,4.96,3.22,3.22,4.9,3.3,5.2,5.2,5.2,5.2,5.2,5.2,5.2,4.5,4.5,4.5,4.96,4.96,4.3,3.8,4.74,182.0,4.0,4.3,4.3,4.3,4.3,3.22,3.22,5.0,4.4,2.24,3.9064,4.9,2.8,5.0,3.8,3.8152,2.0,4.696,4.9,3.22,4.32,5.0,5.0,3.8152,3.9064,3.22,4.9,4.9,4.32,4.112,4.0,4.0,4.5,4.5,5.2,5.2,4.5,4.96,4.96,4.96,4.96,3.22,3.22,4.74,4.5,4.3,4.96,105.0,105.0,105.0,105.0,105.0,105.0,105.0,3.8,3.8,3.8,3.8,3.8],\"yaxis\":\"y\",\"type\":\"scattergl\"}],                        {\"template\":{\"data\":{\"histogram2dcontour\":[{\"type\":\"histogram2dcontour\",\"colorbar\":{\"outlinewidth\":0,\"ticks\":\"\"},\"colorscale\":[[0.0,\"#0d0887\"],[0.1111111111111111,\"#46039f\"],[0.2222222222222222,\"#7201a8\"],[0.3333333333333333,\"#9c179e\"],[0.4444444444444444,\"#bd3786\"],[0.5555555555555556,\"#d8576b\"],[0.6666666666666666,\"#ed7953\"],[0.7777777777777778,\"#fb9f3a\"],[0.8888888888888888,\"#fdca26\"],[1.0,\"#f0f921\"]]}],\"choropleth\":[{\"type\":\"choropleth\",\"colorbar\":{\"outlinewidth\":0,\"ticks\":\"\"}}],\"histogram2d\":[{\"type\":\"histogram2d\",\"colorbar\":{\"outlinewidth\":0,\"ticks\":\"\"},\"colorscale\":[[0.0,\"#0d0887\"],[0.1111111111111111,\"#46039f\"],[0.2222222222222222,\"#7201a8\"],[0.3333333333333333,\"#9c179e\"],[0.4444444444444444,\"#bd3786\"],[0.5555555555555556,\"#d8576b\"],[0.6666666666666666,\"#ed7953\"],[0.7777777777777778,\"#fb9f3a\"],[0.8888888888888888,\"#fdca26\"],[1.0,\"#f0f921\"]]}],\"heatmap\":[{\"type\":\"heatmap\",\"colorbar\":{\"outlinewidth\":0,\"ticks\":\"\"},\"colorscale\":[[0.0,\"#0d0887\"],[0.1111111111111111,\"#46039f\"],[0.2222222222222222,\"#7201a8\"],[0.3333333333333333,\"#9c179e\"],[0.4444444444444444,\"#bd3786\"],[0.5555555555555556,\"#d8576b\"],[0.6666666666666666,\"#ed7953\"],[0.7777777777777778,\"#fb9f3a\"],[0.8888888888888888,\"#fdca26\"],[1.0,\"#f0f921\"]]}],\"heatmapgl\":[{\"type\":\"heatmapgl\",\"colorbar\":{\"outlinewidth\":0,\"ticks\":\"\"},\"colorscale\":[[0.0,\"#0d0887\"],[0.1111111111111111,\"#46039f\"],[0.2222222222222222,\"#7201a8\"],[0.3333333333333333,\"#9c179e\"],[0.4444444444444444,\"#bd3786\"],[0.5555555555555556,\"#d8576b\"],[0.6666666666666666,\"#ed7953\"],[0.7777777777777778,\"#fb9f3a\"],[0.8888888888888888,\"#fdca26\"],[1.0,\"#f0f921\"]]}],\"contourcarpet\":[{\"type\":\"contourcarpet\",\"colorbar\":{\"outlinewidth\":0,\"ticks\":\"\"}}],\"contour\":[{\"type\":\"contour\",\"colorbar\":{\"outlinewidth\":0,\"ticks\":\"\"},\"colorscale\":[[0.0,\"#0d0887\"],[0.1111111111111111,\"#46039f\"],[0.2222222222222222,\"#7201a8\"],[0.3333333333333333,\"#9c179e\"],[0.4444444444444444,\"#bd3786\"],[0.5555555555555556,\"#d8576b\"],[0.6666666666666666,\"#ed7953\"],[0.7777777777777778,\"#fb9f3a\"],[0.8888888888888888,\"#fdca26\"],[1.0,\"#f0f921\"]]}],\"surface\":[{\"type\":\"surface\",\"colorbar\":{\"outlinewidth\":0,\"ticks\":\"\"},\"colorscale\":[[0.0,\"#0d0887\"],[0.1111111111111111,\"#46039f\"],[0.2222222222222222,\"#7201a8\"],[0.3333333333333333,\"#9c179e\"],[0.4444444444444444,\"#bd3786\"],[0.5555555555555556,\"#d8576b\"],[0.6666666666666666,\"#ed7953\"],[0.7777777777777778,\"#fb9f3a\"],[0.8888888888888888,\"#fdca26\"],[1.0,\"#f0f921\"]]}],\"mesh3d\":[{\"type\":\"mesh3d\",\"colorbar\":{\"outlinewidth\":0,\"ticks\":\"\"}}],\"scatter\":[{\"fillpattern\":{\"fillmode\":\"overlay\",\"size\":10,\"solidity\":0.2},\"type\":\"scatter\"}],\"parcoords\":[{\"type\":\"parcoords\",\"line\":{\"colorbar\":{\"outlinewidth\":0,\"ticks\":\"\"}}}],\"scatterpolargl\":[{\"type\":\"scatterpolargl\",\"marker\":{\"colorbar\":{\"outlinewidth\":0,\"ticks\":\"\"}}}],\"bar\":[{\"error_x\":{\"color\":\"#2a3f5f\"},\"error_y\":{\"color\":\"#2a3f5f\"},\"marker\":{\"line\":{\"color\":\"#E5ECF6\",\"width\":0.5},\"pattern\":{\"fillmode\":\"overlay\",\"size\":10,\"solidity\":0.2}},\"type\":\"bar\"}],\"scattergeo\":[{\"type\":\"scattergeo\",\"marker\":{\"colorbar\":{\"outlinewidth\":0,\"ticks\":\"\"}}}],\"scatterpolar\":[{\"type\":\"scatterpolar\",\"marker\":{\"colorbar\":{\"outlinewidth\":0,\"ticks\":\"\"}}}],\"histogram\":[{\"marker\":{\"pattern\":{\"fillmode\":\"overlay\",\"size\":10,\"solidity\":0.2}},\"type\":\"histogram\"}],\"scattergl\":[{\"type\":\"scattergl\",\"marker\":{\"colorbar\":{\"outlinewidth\":0,\"ticks\":\"\"}}}],\"scatter3d\":[{\"type\":\"scatter3d\",\"line\":{\"colorbar\":{\"outlinewidth\":0,\"ticks\":\"\"}},\"marker\":{\"colorbar\":{\"outlinewidth\":0,\"ticks\":\"\"}}}],\"scattermapbox\":[{\"type\":\"scattermapbox\",\"marker\":{\"colorbar\":{\"outlinewidth\":0,\"ticks\":\"\"}}}],\"scatterternary\":[{\"type\":\"scatterternary\",\"marker\":{\"colorbar\":{\"outlinewidth\":0,\"ticks\":\"\"}}}],\"scattercarpet\":[{\"type\":\"scattercarpet\",\"marker\":{\"colorbar\":{\"outlinewidth\":0,\"ticks\":\"\"}}}],\"carpet\":[{\"aaxis\":{\"endlinecolor\":\"#2a3f5f\",\"gridcolor\":\"white\",\"linecolor\":\"white\",\"minorgridcolor\":\"white\",\"startlinecolor\":\"#2a3f5f\"},\"baxis\":{\"endlinecolor\":\"#2a3f5f\",\"gridcolor\":\"white\",\"linecolor\":\"white\",\"minorgridcolor\":\"white\",\"startlinecolor\":\"#2a3f5f\"},\"type\":\"carpet\"}],\"table\":[{\"cells\":{\"fill\":{\"color\":\"#EBF0F8\"},\"line\":{\"color\":\"white\"}},\"header\":{\"fill\":{\"color\":\"#C8D4E3\"},\"line\":{\"color\":\"white\"}},\"type\":\"table\"}],\"barpolar\":[{\"marker\":{\"line\":{\"color\":\"#E5ECF6\",\"width\":0.5},\"pattern\":{\"fillmode\":\"overlay\",\"size\":10,\"solidity\":0.2}},\"type\":\"barpolar\"}],\"pie\":[{\"automargin\":true,\"type\":\"pie\"}]},\"layout\":{\"autotypenumbers\":\"strict\",\"colorway\":[\"#636efa\",\"#EF553B\",\"#00cc96\",\"#ab63fa\",\"#FFA15A\",\"#19d3f3\",\"#FF6692\",\"#B6E880\",\"#FF97FF\",\"#FECB52\"],\"font\":{\"color\":\"#2a3f5f\"},\"hovermode\":\"closest\",\"hoverlabel\":{\"align\":\"left\"},\"paper_bgcolor\":\"white\",\"plot_bgcolor\":\"#E5ECF6\",\"polar\":{\"bgcolor\":\"#E5ECF6\",\"angularaxis\":{\"gridcolor\":\"white\",\"linecolor\":\"white\",\"ticks\":\"\"},\"radialaxis\":{\"gridcolor\":\"white\",\"linecolor\":\"white\",\"ticks\":\"\"}},\"ternary\":{\"bgcolor\":\"#E5ECF6\",\"aaxis\":{\"gridcolor\":\"white\",\"linecolor\":\"white\",\"ticks\":\"\"},\"baxis\":{\"gridcolor\":\"white\",\"linecolor\":\"white\",\"ticks\":\"\"},\"caxis\":{\"gridcolor\":\"white\",\"linecolor\":\"white\",\"ticks\":\"\"}},\"coloraxis\":{\"colorbar\":{\"outlinewidth\":0,\"ticks\":\"\"}},\"colorscale\":{\"sequential\":[[0.0,\"#0d0887\"],[0.1111111111111111,\"#46039f\"],[0.2222222222222222,\"#7201a8\"],[0.3333333333333333,\"#9c179e\"],[0.4444444444444444,\"#bd3786\"],[0.5555555555555556,\"#d8576b\"],[0.6666666666666666,\"#ed7953\"],[0.7777777777777778,\"#fb9f3a\"],[0.8888888888888888,\"#fdca26\"],[1.0,\"#f0f921\"]],\"sequentialminus\":[[0.0,\"#0d0887\"],[0.1111111111111111,\"#46039f\"],[0.2222222222222222,\"#7201a8\"],[0.3333333333333333,\"#9c179e\"],[0.4444444444444444,\"#bd3786\"],[0.5555555555555556,\"#d8576b\"],[0.6666666666666666,\"#ed7953\"],[0.7777777777777778,\"#fb9f3a\"],[0.8888888888888888,\"#fdca26\"],[1.0,\"#f0f921\"]],\"diverging\":[[0,\"#8e0152\"],[0.1,\"#c51b7d\"],[0.2,\"#de77ae\"],[0.3,\"#f1b6da\"],[0.4,\"#fde0ef\"],[0.5,\"#f7f7f7\"],[0.6,\"#e6f5d0\"],[0.7,\"#b8e186\"],[0.8,\"#7fbc41\"],[0.9,\"#4d9221\"],[1,\"#276419\"]]},\"xaxis\":{\"gridcolor\":\"white\",\"linecolor\":\"white\",\"ticks\":\"\",\"title\":{\"standoff\":15},\"zerolinecolor\":\"white\",\"automargin\":true,\"zerolinewidth\":2},\"yaxis\":{\"gridcolor\":\"white\",\"linecolor\":\"white\",\"ticks\":\"\",\"title\":{\"standoff\":15},\"zerolinecolor\":\"white\",\"automargin\":true,\"zerolinewidth\":2},\"scene\":{\"xaxis\":{\"backgroundcolor\":\"#E5ECF6\",\"gridcolor\":\"white\",\"linecolor\":\"white\",\"showbackground\":true,\"ticks\":\"\",\"zerolinecolor\":\"white\",\"gridwidth\":2},\"yaxis\":{\"backgroundcolor\":\"#E5ECF6\",\"gridcolor\":\"white\",\"linecolor\":\"white\",\"showbackground\":true,\"ticks\":\"\",\"zerolinecolor\":\"white\",\"gridwidth\":2},\"zaxis\":{\"backgroundcolor\":\"#E5ECF6\",\"gridcolor\":\"white\",\"linecolor\":\"white\",\"showbackground\":true,\"ticks\":\"\",\"zerolinecolor\":\"white\",\"gridwidth\":2}},\"shapedefaults\":{\"line\":{\"color\":\"#2a3f5f\"}},\"annotationdefaults\":{\"arrowcolor\":\"#2a3f5f\",\"arrowhead\":0,\"arrowwidth\":1},\"geo\":{\"bgcolor\":\"white\",\"landcolor\":\"#E5ECF6\",\"subunitcolor\":\"white\",\"showland\":true,\"showlakes\":true,\"lakecolor\":\"white\"},\"title\":{\"x\":0.05},\"mapbox\":{\"style\":\"light\"}}},\"xaxis\":{\"anchor\":\"y\",\"domain\":[0.0,1.0],\"title\":{\"text\":\"Floor Area\"}},\"yaxis\":{\"anchor\":\"x\",\"domain\":[0.0,1.0],\"title\":{\"text\":\"Price (Million Taka)\"}},\"coloraxis\":{\"colorbar\":{\"title\":{\"text\":\"Bedrooms\"}},\"colorscale\":[[0.0,\"#0d0887\"],[0.1111111111111111,\"#46039f\"],[0.2222222222222222,\"#7201a8\"],[0.3333333333333333,\"#9c179e\"],[0.4444444444444444,\"#bd3786\"],[0.5555555555555556,\"#d8576b\"],[0.6666666666666666,\"#ed7953\"],[0.7777777777777778,\"#fb9f3a\"],[0.8888888888888888,\"#fdca26\"],[1.0,\"#f0f921\"]]},\"legend\":{\"tracegroupgap\":0,\"itemsizing\":\"constant\"},\"title\":{\"text\":\"Price vs Floor Area\"}},                        {\"responsive\": true}                    ).then(function(){\n",
       "                            \n",
       "var gd = document.getElementById('89df9056-833f-45c5-8e62-6b5e23b18402');\n",
       "var x = new MutationObserver(function (mutations, observer) {{\n",
       "        var display = window.getComputedStyle(gd).display;\n",
       "        if (!display || display === 'none') {{\n",
       "            console.log([gd, 'removed!']);\n",
       "            Plotly.purge(gd);\n",
       "            observer.disconnect();\n",
       "        }}\n",
       "}});\n",
       "\n",
       "// Listen for the removal of the full notebook cells\n",
       "var notebookContainer = gd.closest('#notebook-container');\n",
       "if (notebookContainer) {{\n",
       "    x.observe(notebookContainer, {childList: true});\n",
       "}}\n",
       "\n",
       "// Listen for the clearing of the current output cell\n",
       "var outputEl = gd.closest('.output');\n",
       "if (outputEl) {{\n",
       "    x.observe(outputEl, {childList: true});\n",
       "}}\n",
       "\n",
       "                        })                };                            </script>        </div>\n",
       "</body>\n",
       "</html>"
      ]
     },
     "metadata": {},
     "output_type": "display_data"
    }
   ],
   "source": [
    "fig2 = px.scatter(data, x='Floor_area', y='Price_in_taka(M)', \n",
    "                  color='Bedrooms', size='Bathrooms',\n",
    "                  hover_data=['Location', 'City'],\n",
    "                  title='Price vs Floor Area',\n",
    "                  labels={'Floor_area': 'Floor Area', \n",
    "                          'Price_in_taka(M)': 'Price (Million Taka)'})\n",
    "fig2.show()\n"
   ]
  },
  {
   "cell_type": "code",
   "execution_count": 48,
   "id": "2801eccf",
   "metadata": {
    "execution": {
     "iopub.execute_input": "2025-01-12T10:28:11.935259Z",
     "iopub.status.busy": "2025-01-12T10:28:11.934872Z",
     "iopub.status.idle": "2025-01-12T10:28:12.330589Z",
     "shell.execute_reply": "2025-01-12T10:28:12.329249Z"
    },
    "papermill": {
     "duration": 0.421726,
     "end_time": "2025-01-12T10:28:12.332441",
     "exception": false,
     "start_time": "2025-01-12T10:28:11.910715",
     "status": "completed"
    },
    "tags": []
   },
   "outputs": [
    {
     "data": {
      "image/png": "[encoded data removed]",
      "text/plain": [
       "<Figure size 1000x600 with 1 Axes>"
      ]
     },
     "metadata": {},
     "output_type": "display_data"
    }
   ],
   "source": [
    "avg_price_by_bedrooms = data.groupby('Bedrooms')['Price_in_taka(M)'].mean().reset_index()\n",
    "\n",
    "plt.figure(figsize=(10, 6))\n",
    "sns.barplot(x='Bedrooms', y='Price_in_taka(M)', data=avg_price_by_bedrooms, palette='Reds')\n",
    "plt.title('Average Price of Properties by Number of Bedrooms')\n",
    "plt.xlabel('Number of Bedrooms')\n",
    "plt.ylabel('Average Price in Taka (Million)')\n",
    "\n",
    "plt.show()"
   ]
  },
  {
   "cell_type": "code",
   "execution_count": null,
   "id": "3b524615",
   "metadata": {
    "papermill": {
     "duration": 0.018791,
     "end_time": "2025-01-12T10:28:12.369584",
     "exception": false,
     "start_time": "2025-01-12T10:28:12.350793",
     "status": "completed"
    },
    "tags": []
   },
   "outputs": [],
   "source": []
  },
  {
   "cell_type": "code",
   "execution_count": null,
   "id": "92580d43",
   "metadata": {
    "papermill": {
     "duration": 0.018852,
     "end_time": "2025-01-12T10:28:12.407606",
     "exception": false,
     "start_time": "2025-01-12T10:28:12.388754",
     "status": "completed"
    },
    "tags": []
   },
   "outputs": [],
   "source": []
  },
  {
   "cell_type": "code",
   "execution_count": null,
   "id": "1a4a926c",
   "metadata": {
    "papermill": {
     "duration": 0.018866,
     "end_time": "2025-01-12T10:28:12.445503",
     "exception": false,
     "start_time": "2025-01-12T10:28:12.426637",
     "status": "completed"
    },
    "tags": []
   },
   "outputs": [],
   "source": []
  },
  {
   "cell_type": "code",
   "execution_count": null,
   "id": "1281c3f9",
   "metadata": {
    "papermill": {
     "duration": 0.018979,
     "end_time": "2025-01-12T10:28:12.483789",
     "exception": false,
     "start_time": "2025-01-12T10:28:12.464810",
     "status": "completed"
    },
    "tags": []
   },
   "outputs": [],
   "source": []
  },
  {
   "cell_type": "code",
   "execution_count": null,
   "id": "6887d526",
   "metadata": {
    "papermill": {
     "duration": 0.018674,
     "end_time": "2025-01-12T10:28:12.521574",
     "exception": false,
     "start_time": "2025-01-12T10:28:12.502900",
     "status": "completed"
    },
    "tags": []
   },
   "outputs": [],
   "source": []
  },
  {
   "cell_type": "code",
   "execution_count": null,
   "id": "4775a05a",
   "metadata": {
    "papermill": {
     "duration": 0.018603,
     "end_time": "2025-01-12T10:28:12.559275",
     "exception": false,
     "start_time": "2025-01-12T10:28:12.540672",
     "status": "completed"
    },
    "tags": []
   },
   "outputs": [],
   "source": []
  }
 ],
 "metadata": {
  "kaggle": {
   "accelerator": "none",
   "dataSources": [
    {
     "datasetId": 5521749,
     "sourceId": 9142342,
     "sourceType": "datasetVersion"
    },
    {
     "datasetId": 6465705,
     "sourceId": 10445579,
     "sourceType": "datasetVersion"
    }
   ],
   "dockerImageVersionId": 30822,
   "isGpuEnabled": false,
   "isInternetEnabled": false,
   "language": "python",
   "sourceType": "notebook"
  },
  "kernelspec": {
   "display_name": "Python 3",
   "language": "python",
   "name": "python3"
  },
  "language_info": {
   "codemirror_mode": {
    "name": "ipython",
    "version": 3
   },
   "file_extension": ".py",
   "mimetype": "text/x-python",
   "name": "python",
   "nbconvert_exporter": "python",
   "pygments_lexer": "ipython3",
   "version": "3.10.12"
  },
  "papermill": {
   "default_parameters": {},
   "duration": 9.950374,
   "end_time": "2025-01-12T10:28:13.400292",
   "environment_variables": {},
   "exception": null,
   "input_path": "__notebook__.ipynb",
   "output_path": "__notebook__.ipynb",
   "parameters": {},
   "start_time": "2025-01-12T10:28:03.449918",
   "version": "2.6.0"
  }
 },
 "nbformat": 4,
 "nbformat_minor": 5
}
