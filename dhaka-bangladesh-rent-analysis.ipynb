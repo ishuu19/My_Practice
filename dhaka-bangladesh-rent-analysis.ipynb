{
 "cells": [
  {
   "cell_type": "code",
   "execution_count": 1,
   "id": "83e7d9ff",
   "metadata": {
    "_cell_guid": "b1076dfc-b9ad-4769-8c92-a6c4dae69d19",
    "_uuid": "8f2839f25d086af736a60e9eeb907d3b93b6e0e5",
    "execution": {
     "iopub.execute_input": "2025-01-10T15:55:57.360430Z",
     "iopub.status.busy": "2025-01-10T15:55:57.360012Z",
     "iopub.status.idle": "2025-01-10T15:55:59.402344Z",
     "shell.execute_reply": "2025-01-10T15:55:59.401058Z"
    },
    "papermill": {
     "duration": 2.05403,
     "end_time": "2025-01-10T15:55:59.404147",
     "exception": false,
     "start_time": "2025-01-10T15:55:57.350117",
     "status": "completed"
    },
    "tags": []
   },
   "outputs": [
    {
     "name": "stdout",
     "output_type": "stream",
     "text": [
      "/kaggle/input/house-price-bangladesh/house_price_bd.csv\n"
     ]
    }
   ],
   "source": [
    "# This Python 3 environment comes with many helpful analytics libraries installed\n",
    "# It is defined by the kaggle/python Docker image: https://github.com/kaggle/docker-python\n",
    "# For example, here's several helpful packages to load\n",
    "\n",
    "import numpy as np # linear algebra\n",
    "import pandas as pd # data processing, CSV file I/O (e.g. pd.read_csv)\n",
    "from sklearn.impute import KNNImputer\n",
    "\n",
    "# Input data files are available in the read-only \"../input/\" directory\n",
    "# For example, running this (by clicking run or pressing Shift+Enter) will list all files under the input directory\n",
    "\n",
    "import os\n",
    "for dirname, _, filenames in os.walk('/kaggle/input'):\n",
    "    for filename in filenames:\n",
    "        print(os.path.join(dirname, filename))\n",
    "\n",
    "# You can write up to 20GB to the current directory (/kaggle/working/) that gets preserved as output when you create a version using \"Save & Run All\" \n",
    "# You can also write temporary files to /kaggle/temp/, but they won't be saved outside of the current session"
   ]
  },
  {
   "cell_type": "code",
   "execution_count": 2,
   "id": "5e643a9a",
   "metadata": {
    "execution": {
     "iopub.execute_input": "2025-01-10T15:55:59.421690Z",
     "iopub.status.busy": "2025-01-10T15:55:59.421157Z",
     "iopub.status.idle": "2025-01-10T15:55:59.478565Z",
     "shell.execute_reply": "2025-01-10T15:55:59.477432Z"
    },
    "papermill": {
     "duration": 0.06799,
     "end_time": "2025-01-10T15:55:59.480428",
     "exception": false,
     "start_time": "2025-01-10T15:55:59.412438",
     "status": "completed"
    },
    "tags": []
   },
   "outputs": [
    {
     "data": {
      "text/html": [
       "<div>\n",
       "<style scoped>\n",
       "    .dataframe tbody tr th:only-of-type {\n",
       "        vertical-align: middle;\n",
       "    }\n",
       "\n",
       "    .dataframe tbody tr th {\n",
       "        vertical-align: top;\n",
       "    }\n",
       "\n",
       "    .dataframe thead th {\n",
       "        text-align: right;\n",
       "    }\n",
       "</style>\n",
       "<table border=\"1\" class=\"dataframe\">\n",
       "  <thead>\n",
       "    <tr style=\"text-align: right;\">\n",
       "      <th></th>\n",
       "      <th>Title</th>\n",
       "      <th>Bedrooms</th>\n",
       "      <th>Bathrooms</th>\n",
       "      <th>Floor_no</th>\n",
       "      <th>Occupancy_status</th>\n",
       "      <th>Floor_area</th>\n",
       "      <th>City</th>\n",
       "      <th>Price_in_taka</th>\n",
       "      <th>Location</th>\n",
       "    </tr>\n",
       "  </thead>\n",
       "  <tbody>\n",
       "    <tr>\n",
       "      <th>0</th>\n",
       "      <td>We Are Offering You A Very Spacious 1960 Sq Ft...</td>\n",
       "      <td>3.0</td>\n",
       "      <td>4.0</td>\n",
       "      <td>3</td>\n",
       "      <td>vacant</td>\n",
       "      <td>1960.0</td>\n",
       "      <td>dhaka</td>\n",
       "      <td>৳39,000,000</td>\n",
       "      <td>Gulshan 1, Gulshan</td>\n",
       "    </tr>\n",
       "    <tr>\n",
       "      <th>1</th>\n",
       "      <td>Valuable 1705 Square Feet Apartment Is Ready T...</td>\n",
       "      <td>3.0</td>\n",
       "      <td>3.0</td>\n",
       "      <td>1</td>\n",
       "      <td>vacant</td>\n",
       "      <td>1705.0</td>\n",
       "      <td>dhaka</td>\n",
       "      <td>৳16,900,000</td>\n",
       "      <td>Lake Circus Road, Kalabagan</td>\n",
       "    </tr>\n",
       "    <tr>\n",
       "      <th>2</th>\n",
       "      <td>1370 square feet apartment is ready to sale in...</td>\n",
       "      <td>3.0</td>\n",
       "      <td>3.0</td>\n",
       "      <td>6</td>\n",
       "      <td>vacant</td>\n",
       "      <td>1370.0</td>\n",
       "      <td>dhaka</td>\n",
       "      <td>৳12,500,000</td>\n",
       "      <td>Shukrabad, Dhanmondi</td>\n",
       "    </tr>\n",
       "    <tr>\n",
       "      <th>3</th>\n",
       "      <td>2125 Square Feet Apartment For Sale In Bashund...</td>\n",
       "      <td>3.0</td>\n",
       "      <td>3.0</td>\n",
       "      <td>4</td>\n",
       "      <td>vacant</td>\n",
       "      <td>2125.0</td>\n",
       "      <td>dhaka</td>\n",
       "      <td>৳20,000,000</td>\n",
       "      <td>Block L, Bashundhara R-A</td>\n",
       "    </tr>\n",
       "    <tr>\n",
       "      <th>4</th>\n",
       "      <td>Buy This 2687 Square Feet Flat In The Nice Are...</td>\n",
       "      <td>3.0</td>\n",
       "      <td>3.0</td>\n",
       "      <td>4</td>\n",
       "      <td>vacant</td>\n",
       "      <td>2687.0</td>\n",
       "      <td>dhaka</td>\n",
       "      <td>৳47,500,000</td>\n",
       "      <td>Road No 25, Banani</td>\n",
       "    </tr>\n",
       "  </tbody>\n",
       "</table>\n",
       "</div>"
      ],
      "text/plain": [
       "                                               Title  Bedrooms  Bathrooms  \\\n",
       "0  We Are Offering You A Very Spacious 1960 Sq Ft...       3.0        4.0   \n",
       "1  Valuable 1705 Square Feet Apartment Is Ready T...       3.0        3.0   \n",
       "2  1370 square feet apartment is ready to sale in...       3.0        3.0   \n",
       "3  2125 Square Feet Apartment For Sale In Bashund...       3.0        3.0   \n",
       "4  Buy This 2687 Square Feet Flat In The Nice Are...       3.0        3.0   \n",
       "\n",
       "  Floor_no Occupancy_status  Floor_area   City Price_in_taka  \\\n",
       "0        3           vacant      1960.0  dhaka   ৳39,000,000   \n",
       "1        1           vacant      1705.0  dhaka   ৳16,900,000   \n",
       "2        6           vacant      1370.0  dhaka   ৳12,500,000   \n",
       "3        4           vacant      2125.0  dhaka   ৳20,000,000   \n",
       "4        4           vacant      2687.0  dhaka   ৳47,500,000   \n",
       "\n",
       "                      Location  \n",
       "0           Gulshan 1, Gulshan  \n",
       "1  Lake Circus Road, Kalabagan  \n",
       "2         Shukrabad, Dhanmondi  \n",
       "3     Block L, Bashundhara R-A  \n",
       "4           Road No 25, Banani  "
      ]
     },
     "execution_count": 2,
     "metadata": {},
     "output_type": "execute_result"
    }
   ],
   "source": [
    "data = pd.read_csv(\"/kaggle/input/house-price-bangladesh/house_price_bd.csv\")\n",
    "data.head(5)"
   ]
  },
  {
   "cell_type": "code",
   "execution_count": 3,
   "id": "3bcd153c",
   "metadata": {
    "execution": {
     "iopub.execute_input": "2025-01-10T15:55:59.497718Z",
     "iopub.status.busy": "2025-01-10T15:55:59.497364Z",
     "iopub.status.idle": "2025-01-10T15:55:59.503350Z",
     "shell.execute_reply": "2025-01-10T15:55:59.502137Z"
    },
    "papermill": {
     "duration": 0.016614,
     "end_time": "2025-01-10T15:55:59.505177",
     "exception": false,
     "start_time": "2025-01-10T15:55:59.488563",
     "status": "completed"
    },
    "tags": []
   },
   "outputs": [
    {
     "data": {
      "text/plain": [
       "(3865, 9)"
      ]
     },
     "execution_count": 3,
     "metadata": {},
     "output_type": "execute_result"
    }
   ],
   "source": [
    "data.shape"
   ]
  },
  {
   "cell_type": "code",
   "execution_count": 4,
   "id": "0b12069c",
   "metadata": {
    "execution": {
     "iopub.execute_input": "2025-01-10T15:55:59.522672Z",
     "iopub.status.busy": "2025-01-10T15:55:59.522313Z",
     "iopub.status.idle": "2025-01-10T15:55:59.542757Z",
     "shell.execute_reply": "2025-01-10T15:55:59.541629Z"
    },
    "papermill": {
     "duration": 0.031108,
     "end_time": "2025-01-10T15:55:59.544587",
     "exception": false,
     "start_time": "2025-01-10T15:55:59.513479",
     "status": "completed"
    },
    "tags": []
   },
   "outputs": [
    {
     "data": {
      "text/html": [
       "<div>\n",
       "<style scoped>\n",
       "    .dataframe tbody tr th:only-of-type {\n",
       "        vertical-align: middle;\n",
       "    }\n",
       "\n",
       "    .dataframe tbody tr th {\n",
       "        vertical-align: top;\n",
       "    }\n",
       "\n",
       "    .dataframe thead th {\n",
       "        text-align: right;\n",
       "    }\n",
       "</style>\n",
       "<table border=\"1\" class=\"dataframe\">\n",
       "  <thead>\n",
       "    <tr style=\"text-align: right;\">\n",
       "      <th></th>\n",
       "      <th>Bedrooms</th>\n",
       "      <th>Bathrooms</th>\n",
       "      <th>Floor_area</th>\n",
       "    </tr>\n",
       "  </thead>\n",
       "  <tbody>\n",
       "    <tr>\n",
       "      <th>count</th>\n",
       "      <td>2864.000000</td>\n",
       "      <td>2864.000000</td>\n",
       "      <td>3766.000000</td>\n",
       "    </tr>\n",
       "    <tr>\n",
       "      <th>mean</th>\n",
       "      <td>3.133031</td>\n",
       "      <td>2.992668</td>\n",
       "      <td>1940.299522</td>\n",
       "    </tr>\n",
       "    <tr>\n",
       "      <th>std</th>\n",
       "      <td>2.215457</td>\n",
       "      <td>0.978434</td>\n",
       "      <td>6024.921935</td>\n",
       "    </tr>\n",
       "    <tr>\n",
       "      <th>min</th>\n",
       "      <td>1.000000</td>\n",
       "      <td>1.000000</td>\n",
       "      <td>84.000000</td>\n",
       "    </tr>\n",
       "    <tr>\n",
       "      <th>25%</th>\n",
       "      <td>3.000000</td>\n",
       "      <td>3.000000</td>\n",
       "      <td>1100.000000</td>\n",
       "    </tr>\n",
       "    <tr>\n",
       "      <th>50%</th>\n",
       "      <td>3.000000</td>\n",
       "      <td>3.000000</td>\n",
       "      <td>1380.000000</td>\n",
       "    </tr>\n",
       "    <tr>\n",
       "      <th>75%</th>\n",
       "      <td>3.000000</td>\n",
       "      <td>3.000000</td>\n",
       "      <td>1860.000000</td>\n",
       "    </tr>\n",
       "    <tr>\n",
       "      <th>max</th>\n",
       "      <td>50.000000</td>\n",
       "      <td>10.000000</td>\n",
       "      <td>195840.000000</td>\n",
       "    </tr>\n",
       "  </tbody>\n",
       "</table>\n",
       "</div>"
      ],
      "text/plain": [
       "          Bedrooms    Bathrooms     Floor_area\n",
       "count  2864.000000  2864.000000    3766.000000\n",
       "mean      3.133031     2.992668    1940.299522\n",
       "std       2.215457     0.978434    6024.921935\n",
       "min       1.000000     1.000000      84.000000\n",
       "25%       3.000000     3.000000    1100.000000\n",
       "50%       3.000000     3.000000    1380.000000\n",
       "75%       3.000000     3.000000    1860.000000\n",
       "max      50.000000    10.000000  195840.000000"
      ]
     },
     "execution_count": 4,
     "metadata": {},
     "output_type": "execute_result"
    }
   ],
   "source": [
    "data.describe()"
   ]
  },
  {
   "cell_type": "code",
   "execution_count": 5,
   "id": "48b50a8f",
   "metadata": {
    "execution": {
     "iopub.execute_input": "2025-01-10T15:55:59.562572Z",
     "iopub.status.busy": "2025-01-10T15:55:59.562173Z",
     "iopub.status.idle": "2025-01-10T15:55:59.587544Z",
     "shell.execute_reply": "2025-01-10T15:55:59.586330Z"
    },
    "papermill": {
     "duration": 0.036426,
     "end_time": "2025-01-10T15:55:59.589453",
     "exception": false,
     "start_time": "2025-01-10T15:55:59.553027",
     "status": "completed"
    },
    "tags": []
   },
   "outputs": [
    {
     "name": "stdout",
     "output_type": "stream",
     "text": [
      "<class 'pandas.core.frame.DataFrame'>\n",
      "RangeIndex: 3865 entries, 0 to 3864\n",
      "Data columns (total 9 columns):\n",
      " #   Column            Non-Null Count  Dtype  \n",
      "---  ------            --------------  -----  \n",
      " 0   Title             3865 non-null   object \n",
      " 1   Bedrooms          2864 non-null   float64\n",
      " 2   Bathrooms         2864 non-null   float64\n",
      " 3   Floor_no          3181 non-null   object \n",
      " 4   Occupancy_status  3766 non-null   object \n",
      " 5   Floor_area        3766 non-null   float64\n",
      " 6   City              3865 non-null   object \n",
      " 7   Price_in_taka     3865 non-null   object \n",
      " 8   Location          3859 non-null   object \n",
      "dtypes: float64(3), object(6)\n",
      "memory usage: 271.9+ KB\n"
     ]
    }
   ],
   "source": [
    "data.info()"
   ]
  },
  {
   "cell_type": "code",
   "execution_count": 6,
   "id": "72eb6f98",
   "metadata": {
    "execution": {
     "iopub.execute_input": "2025-01-10T15:55:59.607829Z",
     "iopub.status.busy": "2025-01-10T15:55:59.607436Z",
     "iopub.status.idle": "2025-01-10T15:55:59.615175Z",
     "shell.execute_reply": "2025-01-10T15:55:59.614067Z"
    },
    "papermill": {
     "duration": 0.019017,
     "end_time": "2025-01-10T15:55:59.617053",
     "exception": false,
     "start_time": "2025-01-10T15:55:59.598036",
     "status": "completed"
    },
    "tags": []
   },
   "outputs": [
    {
     "data": {
      "text/plain": [
       "Title                object\n",
       "Bedrooms            float64\n",
       "Bathrooms           float64\n",
       "Floor_no             object\n",
       "Occupancy_status     object\n",
       "Floor_area          float64\n",
       "City                 object\n",
       "Price_in_taka        object\n",
       "Location             object\n",
       "dtype: object"
      ]
     },
     "execution_count": 6,
     "metadata": {},
     "output_type": "execute_result"
    }
   ],
   "source": [
    "data.dtypes"
   ]
  },
  {
   "cell_type": "code",
   "execution_count": 7,
   "id": "4d1c384b",
   "metadata": {
    "execution": {
     "iopub.execute_input": "2025-01-10T15:55:59.635695Z",
     "iopub.status.busy": "2025-01-10T15:55:59.635360Z",
     "iopub.status.idle": "2025-01-10T15:55:59.643944Z",
     "shell.execute_reply": "2025-01-10T15:55:59.642865Z"
    },
    "papermill": {
     "duration": 0.019758,
     "end_time": "2025-01-10T15:55:59.645656",
     "exception": false,
     "start_time": "2025-01-10T15:55:59.625898",
     "status": "completed"
    },
    "tags": []
   },
   "outputs": [
    {
     "data": {
      "text/plain": [
       "Title                  0\n",
       "Bedrooms            1001\n",
       "Bathrooms           1001\n",
       "Floor_no             684\n",
       "Occupancy_status      99\n",
       "Floor_area            99\n",
       "City                   0\n",
       "Price_in_taka          0\n",
       "Location               6\n",
       "dtype: int64"
      ]
     },
     "execution_count": 7,
     "metadata": {},
     "output_type": "execute_result"
    }
   ],
   "source": [
    "data.isna().sum()"
   ]
  },
  {
   "cell_type": "code",
   "execution_count": 8,
   "id": "7b611a03",
   "metadata": {
    "execution": {
     "iopub.execute_input": "2025-01-10T15:55:59.664880Z",
     "iopub.status.busy": "2025-01-10T15:55:59.664538Z",
     "iopub.status.idle": "2025-01-10T15:55:59.676679Z",
     "shell.execute_reply": "2025-01-10T15:55:59.675568Z"
    },
    "papermill": {
     "duration": 0.024444,
     "end_time": "2025-01-10T15:55:59.678906",
     "exception": false,
     "start_time": "2025-01-10T15:55:59.654462",
     "status": "completed"
    },
    "tags": []
   },
   "outputs": [
    {
     "data": {
      "text/plain": [
       "934"
      ]
     },
     "execution_count": 8,
     "metadata": {},
     "output_type": "execute_result"
    }
   ],
   "source": [
    "# check duplicates\n",
    "data.duplicated().sum()"
   ]
  },
  {
   "cell_type": "code",
   "execution_count": 9,
   "id": "4e99f194",
   "metadata": {
    "execution": {
     "iopub.execute_input": "2025-01-10T15:55:59.698848Z",
     "iopub.status.busy": "2025-01-10T15:55:59.698511Z",
     "iopub.status.idle": "2025-01-10T15:55:59.708627Z",
     "shell.execute_reply": "2025-01-10T15:55:59.707389Z"
    },
    "papermill": {
     "duration": 0.022487,
     "end_time": "2025-01-10T15:55:59.710663",
     "exception": false,
     "start_time": "2025-01-10T15:55:59.688176",
     "status": "completed"
    },
    "tags": []
   },
   "outputs": [],
   "source": [
    "# Drop duplicate rows\n",
    "data.drop_duplicates(inplace=True)"
   ]
  },
  {
   "cell_type": "code",
   "execution_count": 10,
   "id": "3a2fe7e7",
   "metadata": {
    "execution": {
     "iopub.execute_input": "2025-01-10T15:55:59.729883Z",
     "iopub.status.busy": "2025-01-10T15:55:59.729522Z",
     "iopub.status.idle": "2025-01-10T15:55:59.739519Z",
     "shell.execute_reply": "2025-01-10T15:55:59.738118Z"
    },
    "papermill": {
     "duration": 0.021937,
     "end_time": "2025-01-10T15:55:59.741531",
     "exception": false,
     "start_time": "2025-01-10T15:55:59.719594",
     "status": "completed"
    },
    "tags": []
   },
   "outputs": [
    {
     "data": {
      "text/plain": [
       "0"
      ]
     },
     "execution_count": 10,
     "metadata": {},
     "output_type": "execute_result"
    }
   ],
   "source": [
    "# check again\n",
    "data.duplicated().sum()"
   ]
  },
  {
   "cell_type": "code",
   "execution_count": 11,
   "id": "327842cd",
   "metadata": {
    "execution": {
     "iopub.execute_input": "2025-01-10T15:55:59.760664Z",
     "iopub.status.busy": "2025-01-10T15:55:59.760337Z",
     "iopub.status.idle": "2025-01-10T15:55:59.769197Z",
     "shell.execute_reply": "2025-01-10T15:55:59.768072Z"
    },
    "papermill": {
     "duration": 0.020612,
     "end_time": "2025-01-10T15:55:59.771039",
     "exception": false,
     "start_time": "2025-01-10T15:55:59.750427",
     "status": "completed"
    },
    "tags": []
   },
   "outputs": [
    {
     "name": "stdout",
     "output_type": "stream",
     "text": [
      "Column 'Bedrooms' unique values: [ 3.  4.  2. nan 16.  8.  5.  1.  6. 18. 46.  7. 13. 33. 50. 23. 21. 22.\n",
      " 20. 27. 15.]\n",
      "Column 'Bathrooms' unique values: [ 4.  3.  2. nan  5. 10.  1.  6.  8.]\n",
      "Column 'Floor_no' unique values: ['3' '1' '6' '4' '8' '2' '5' '7' '9' '8th' nan '10' '14' 'G+7' '13' '12'\n",
      " '1st' '11' 'A1,A2,A3,A4,A5,A6,A7' '0+7' '1F' '4th to 8th Backside' '18'\n",
      " '5th' '17' 'Merin City - Purbach']\n",
      "Column 'Occupancy_status' unique values: ['vacant' 'occupied' nan]\n"
     ]
    }
   ],
   "source": [
    "# Columns of interest\n",
    "columns_of_interest = ['Bedrooms', 'Bathrooms', 'Floor_no', 'Occupancy_status']\n",
    "\n",
    "# Extract and analyze specific columns\n",
    "for col in columns_of_interest:\n",
    "    if col in data.columns:\n",
    "        unique_values = data[col].unique()\n",
    "        print(f\"Column '{col}' unique values: {unique_values}\")"
   ]
  },
  {
   "cell_type": "code",
   "execution_count": 12,
   "id": "c7014d2e",
   "metadata": {
    "execution": {
     "iopub.execute_input": "2025-01-10T15:55:59.790448Z",
     "iopub.status.busy": "2025-01-10T15:55:59.790060Z",
     "iopub.status.idle": "2025-01-10T15:55:59.801414Z",
     "shell.execute_reply": "2025-01-10T15:55:59.800307Z"
    },
    "papermill": {
     "duration": 0.023341,
     "end_time": "2025-01-10T15:55:59.803411",
     "exception": false,
     "start_time": "2025-01-10T15:55:59.780070",
     "status": "completed"
    },
    "tags": []
   },
   "outputs": [],
   "source": [
    "data['Price_in_taka'] = data['Price_in_taka'].str.replace(',', '').str.replace('৳', '').astype(\"int64\")"
   ]
  },
  {
   "cell_type": "code",
   "execution_count": 13,
   "id": "bb2991ce",
   "metadata": {
    "execution": {
     "iopub.execute_input": "2025-01-10T15:55:59.822669Z",
     "iopub.status.busy": "2025-01-10T15:55:59.822337Z",
     "iopub.status.idle": "2025-01-10T15:55:59.827609Z",
     "shell.execute_reply": "2025-01-10T15:55:59.826298Z"
    },
    "papermill": {
     "duration": 0.017131,
     "end_time": "2025-01-10T15:55:59.829583",
     "exception": false,
     "start_time": "2025-01-10T15:55:59.812452",
     "status": "completed"
    },
    "tags": []
   },
   "outputs": [],
   "source": [
    "data['Price_in_taka'] = data['Price_in_taka'] / 1_000_000"
   ]
  },
  {
   "cell_type": "code",
   "execution_count": 14,
   "id": "7219febb",
   "metadata": {
    "execution": {
     "iopub.execute_input": "2025-01-10T15:55:59.849451Z",
     "iopub.status.busy": "2025-01-10T15:55:59.849066Z",
     "iopub.status.idle": "2025-01-10T15:55:59.854426Z",
     "shell.execute_reply": "2025-01-10T15:55:59.853241Z"
    },
    "papermill": {
     "duration": 0.017249,
     "end_time": "2025-01-10T15:55:59.856275",
     "exception": false,
     "start_time": "2025-01-10T15:55:59.839026",
     "status": "completed"
    },
    "tags": []
   },
   "outputs": [],
   "source": [
    "data.rename(columns={'Price_in_taka': 'Price_in_millions'}, inplace=True)"
   ]
  },
  {
   "cell_type": "code",
   "execution_count": 15,
   "id": "de3d277d",
   "metadata": {
    "execution": {
     "iopub.execute_input": "2025-01-10T15:55:59.875381Z",
     "iopub.status.busy": "2025-01-10T15:55:59.874970Z",
     "iopub.status.idle": "2025-01-10T15:55:59.890503Z",
     "shell.execute_reply": "2025-01-10T15:55:59.889283Z"
    },
    "papermill": {
     "duration": 0.027241,
     "end_time": "2025-01-10T15:55:59.892425",
     "exception": false,
     "start_time": "2025-01-10T15:55:59.865184",
     "status": "completed"
    },
    "tags": []
   },
   "outputs": [
    {
     "data": {
      "text/html": [
       "<div>\n",
       "<style scoped>\n",
       "    .dataframe tbody tr th:only-of-type {\n",
       "        vertical-align: middle;\n",
       "    }\n",
       "\n",
       "    .dataframe tbody tr th {\n",
       "        vertical-align: top;\n",
       "    }\n",
       "\n",
       "    .dataframe thead th {\n",
       "        text-align: right;\n",
       "    }\n",
       "</style>\n",
       "<table border=\"1\" class=\"dataframe\">\n",
       "  <thead>\n",
       "    <tr style=\"text-align: right;\">\n",
       "      <th></th>\n",
       "      <th>Title</th>\n",
       "      <th>Bedrooms</th>\n",
       "      <th>Bathrooms</th>\n",
       "      <th>Floor_no</th>\n",
       "      <th>Occupancy_status</th>\n",
       "      <th>Floor_area</th>\n",
       "      <th>City</th>\n",
       "      <th>Price_in_millions</th>\n",
       "      <th>Location</th>\n",
       "    </tr>\n",
       "  </thead>\n",
       "  <tbody>\n",
       "    <tr>\n",
       "      <th>0</th>\n",
       "      <td>We Are Offering You A Very Spacious 1960 Sq Ft...</td>\n",
       "      <td>3.0</td>\n",
       "      <td>4.0</td>\n",
       "      <td>3</td>\n",
       "      <td>vacant</td>\n",
       "      <td>1960.0</td>\n",
       "      <td>dhaka</td>\n",
       "      <td>39.0</td>\n",
       "      <td>Gulshan 1, Gulshan</td>\n",
       "    </tr>\n",
       "    <tr>\n",
       "      <th>1</th>\n",
       "      <td>Valuable 1705 Square Feet Apartment Is Ready T...</td>\n",
       "      <td>3.0</td>\n",
       "      <td>3.0</td>\n",
       "      <td>1</td>\n",
       "      <td>vacant</td>\n",
       "      <td>1705.0</td>\n",
       "      <td>dhaka</td>\n",
       "      <td>16.9</td>\n",
       "      <td>Lake Circus Road, Kalabagan</td>\n",
       "    </tr>\n",
       "    <tr>\n",
       "      <th>2</th>\n",
       "      <td>1370 square feet apartment is ready to sale in...</td>\n",
       "      <td>3.0</td>\n",
       "      <td>3.0</td>\n",
       "      <td>6</td>\n",
       "      <td>vacant</td>\n",
       "      <td>1370.0</td>\n",
       "      <td>dhaka</td>\n",
       "      <td>12.5</td>\n",
       "      <td>Shukrabad, Dhanmondi</td>\n",
       "    </tr>\n",
       "    <tr>\n",
       "      <th>3</th>\n",
       "      <td>2125 Square Feet Apartment For Sale In Bashund...</td>\n",
       "      <td>3.0</td>\n",
       "      <td>3.0</td>\n",
       "      <td>4</td>\n",
       "      <td>vacant</td>\n",
       "      <td>2125.0</td>\n",
       "      <td>dhaka</td>\n",
       "      <td>20.0</td>\n",
       "      <td>Block L, Bashundhara R-A</td>\n",
       "    </tr>\n",
       "    <tr>\n",
       "      <th>4</th>\n",
       "      <td>Buy This 2687 Square Feet Flat In The Nice Are...</td>\n",
       "      <td>3.0</td>\n",
       "      <td>3.0</td>\n",
       "      <td>4</td>\n",
       "      <td>vacant</td>\n",
       "      <td>2687.0</td>\n",
       "      <td>dhaka</td>\n",
       "      <td>47.5</td>\n",
       "      <td>Road No 25, Banani</td>\n",
       "    </tr>\n",
       "  </tbody>\n",
       "</table>\n",
       "</div>"
      ],
      "text/plain": [
       "                                               Title  Bedrooms  Bathrooms  \\\n",
       "0  We Are Offering You A Very Spacious 1960 Sq Ft...       3.0        4.0   \n",
       "1  Valuable 1705 Square Feet Apartment Is Ready T...       3.0        3.0   \n",
       "2  1370 square feet apartment is ready to sale in...       3.0        3.0   \n",
       "3  2125 Square Feet Apartment For Sale In Bashund...       3.0        3.0   \n",
       "4  Buy This 2687 Square Feet Flat In The Nice Are...       3.0        3.0   \n",
       "\n",
       "  Floor_no Occupancy_status  Floor_area   City  Price_in_millions  \\\n",
       "0        3           vacant      1960.0  dhaka               39.0   \n",
       "1        1           vacant      1705.0  dhaka               16.9   \n",
       "2        6           vacant      1370.0  dhaka               12.5   \n",
       "3        4           vacant      2125.0  dhaka               20.0   \n",
       "4        4           vacant      2687.0  dhaka               47.5   \n",
       "\n",
       "                      Location  \n",
       "0           Gulshan 1, Gulshan  \n",
       "1  Lake Circus Road, Kalabagan  \n",
       "2         Shukrabad, Dhanmondi  \n",
       "3     Block L, Bashundhara R-A  \n",
       "4           Road No 25, Banani  "
      ]
     },
     "execution_count": 15,
     "metadata": {},
     "output_type": "execute_result"
    }
   ],
   "source": [
    "data.head()"
   ]
  },
  {
   "cell_type": "code",
   "execution_count": 16,
   "id": "8c7945d7",
   "metadata": {
    "execution": {
     "iopub.execute_input": "2025-01-10T15:55:59.913352Z",
     "iopub.status.busy": "2025-01-10T15:55:59.912977Z",
     "iopub.status.idle": "2025-01-10T15:55:59.919408Z",
     "shell.execute_reply": "2025-01-10T15:55:59.918356Z"
    },
    "papermill": {
     "duration": 0.019228,
     "end_time": "2025-01-10T15:55:59.921133",
     "exception": false,
     "start_time": "2025-01-10T15:55:59.901905",
     "status": "completed"
    },
    "tags": []
   },
   "outputs": [
    {
     "data": {
      "text/plain": [
       "array(['3', '1', '6', '4', '8', '2', '5', '7', '9', '8th', nan, '10',\n",
       "       '14', 'G+7', '13', '12', '1st', '11', 'A1,A2,A3,A4,A5,A6,A7',\n",
       "       '0+7', '1F', '4th to 8th Backside', '18', '5th', '17',\n",
       "       'Merin City - Purbach'], dtype=object)"
      ]
     },
     "execution_count": 16,
     "metadata": {},
     "output_type": "execute_result"
    }
   ],
   "source": [
    "data['Floor_no'].unique()"
   ]
  },
  {
   "cell_type": "code",
   "execution_count": 17,
   "id": "3655b302",
   "metadata": {
    "execution": {
     "iopub.execute_input": "2025-01-10T15:55:59.941127Z",
     "iopub.status.busy": "2025-01-10T15:55:59.940716Z",
     "iopub.status.idle": "2025-01-10T15:55:59.958241Z",
     "shell.execute_reply": "2025-01-10T15:55:59.957168Z"
    },
    "papermill": {
     "duration": 0.029695,
     "end_time": "2025-01-10T15:55:59.960113",
     "exception": false,
     "start_time": "2025-01-10T15:55:59.930418",
     "status": "completed"
    },
    "tags": []
   },
   "outputs": [
    {
     "data": {
      "text/html": [
       "<div>\n",
       "<style scoped>\n",
       "    .dataframe tbody tr th:only-of-type {\n",
       "        vertical-align: middle;\n",
       "    }\n",
       "\n",
       "    .dataframe tbody tr th {\n",
       "        vertical-align: top;\n",
       "    }\n",
       "\n",
       "    .dataframe thead th {\n",
       "        text-align: right;\n",
       "    }\n",
       "</style>\n",
       "<table border=\"1\" class=\"dataframe\">\n",
       "  <thead>\n",
       "    <tr style=\"text-align: right;\">\n",
       "      <th></th>\n",
       "      <th>Title</th>\n",
       "      <th>Bedrooms</th>\n",
       "      <th>Bathrooms</th>\n",
       "      <th>Floor_no</th>\n",
       "      <th>Occupancy_status</th>\n",
       "      <th>Floor_area</th>\n",
       "      <th>City</th>\n",
       "      <th>Price_in_millions</th>\n",
       "      <th>Location</th>\n",
       "    </tr>\n",
       "  </thead>\n",
       "  <tbody>\n",
       "    <tr>\n",
       "      <th>3313</th>\n",
       "      <td>Plot For Sale In A Suitable Place In Bproperty...</td>\n",
       "      <td>NaN</td>\n",
       "      <td>NaN</td>\n",
       "      <td>Merin City - Purbach</td>\n",
       "      <td>vacant</td>\n",
       "      <td>2160.0</td>\n",
       "      <td>narayanganj-city</td>\n",
       "      <td>4.575</td>\n",
       "      <td>Rupganj, Narayanganj</td>\n",
       "    </tr>\n",
       "    <tr>\n",
       "      <th>3388</th>\n",
       "      <td>For Sale, Residential Plot Is Situated In Bpro...</td>\n",
       "      <td>NaN</td>\n",
       "      <td>NaN</td>\n",
       "      <td>Merin City - Purbach</td>\n",
       "      <td>vacant</td>\n",
       "      <td>2160.0</td>\n",
       "      <td>narayanganj-city</td>\n",
       "      <td>4.575</td>\n",
       "      <td>Rupganj, Narayanganj</td>\n",
       "    </tr>\n",
       "    <tr>\n",
       "      <th>3392</th>\n",
       "      <td>Plot For Sale In A Suitable Place In Bproperty...</td>\n",
       "      <td>NaN</td>\n",
       "      <td>NaN</td>\n",
       "      <td>Merin City - Purbach</td>\n",
       "      <td>vacant</td>\n",
       "      <td>2160.0</td>\n",
       "      <td>narayanganj-city</td>\n",
       "      <td>4.575</td>\n",
       "      <td>Rupganj, Narayanganj</td>\n",
       "    </tr>\n",
       "    <tr>\n",
       "      <th>3393</th>\n",
       "      <td>Plot For Sale In A Suitable Place In Bproperty...</td>\n",
       "      <td>NaN</td>\n",
       "      <td>NaN</td>\n",
       "      <td>Merin City - Purbach</td>\n",
       "      <td>vacant</td>\n",
       "      <td>2160.0</td>\n",
       "      <td>narayanganj-city</td>\n",
       "      <td>4.575</td>\n",
       "      <td>Rupganj, Narayanganj</td>\n",
       "    </tr>\n",
       "    <tr>\n",
       "      <th>3432</th>\n",
       "      <td>In The Beautiful Location Of Bproperty Village...</td>\n",
       "      <td>NaN</td>\n",
       "      <td>NaN</td>\n",
       "      <td>Merin City - Purbach</td>\n",
       "      <td>vacant</td>\n",
       "      <td>2160.0</td>\n",
       "      <td>narayanganj-city</td>\n",
       "      <td>4.575</td>\n",
       "      <td>Rupganj, Narayanganj</td>\n",
       "    </tr>\n",
       "    <tr>\n",
       "      <th>3492</th>\n",
       "      <td>Plot For Sale In A Suitable Place In Narayanga...</td>\n",
       "      <td>NaN</td>\n",
       "      <td>NaN</td>\n",
       "      <td>Merin City - Purbach</td>\n",
       "      <td>vacant</td>\n",
       "      <td>2160.0</td>\n",
       "      <td>narayanganj-city</td>\n",
       "      <td>4.575</td>\n",
       "      <td>Rupganj, Narayanganj</td>\n",
       "    </tr>\n",
       "  </tbody>\n",
       "</table>\n",
       "</div>"
      ],
      "text/plain": [
       "                                                  Title  Bedrooms  Bathrooms  \\\n",
       "3313  Plot For Sale In A Suitable Place In Bproperty...       NaN        NaN   \n",
       "3388  For Sale, Residential Plot Is Situated In Bpro...       NaN        NaN   \n",
       "3392  Plot For Sale In A Suitable Place In Bproperty...       NaN        NaN   \n",
       "3393  Plot For Sale In A Suitable Place In Bproperty...       NaN        NaN   \n",
       "3432  In The Beautiful Location Of Bproperty Village...       NaN        NaN   \n",
       "3492  Plot For Sale In A Suitable Place In Narayanga...       NaN        NaN   \n",
       "\n",
       "                  Floor_no Occupancy_status  Floor_area              City  \\\n",
       "3313  Merin City - Purbach           vacant      2160.0  narayanganj-city   \n",
       "3388  Merin City - Purbach           vacant      2160.0  narayanganj-city   \n",
       "3392  Merin City - Purbach           vacant      2160.0  narayanganj-city   \n",
       "3393  Merin City - Purbach           vacant      2160.0  narayanganj-city   \n",
       "3432  Merin City - Purbach           vacant      2160.0  narayanganj-city   \n",
       "3492  Merin City - Purbach           vacant      2160.0  narayanganj-city   \n",
       "\n",
       "      Price_in_millions              Location  \n",
       "3313              4.575  Rupganj, Narayanganj  \n",
       "3388              4.575  Rupganj, Narayanganj  \n",
       "3392              4.575  Rupganj, Narayanganj  \n",
       "3393              4.575  Rupganj, Narayanganj  \n",
       "3432              4.575  Rupganj, Narayanganj  \n",
       "3492              4.575  Rupganj, Narayanganj  "
      ]
     },
     "execution_count": 17,
     "metadata": {},
     "output_type": "execute_result"
    }
   ],
   "source": [
    "data[data['Floor_no'] == 'Merin City - Purbach']"
   ]
  },
  {
   "cell_type": "code",
   "execution_count": 18,
   "id": "f4c11cc7",
   "metadata": {
    "execution": {
     "iopub.execute_input": "2025-01-10T15:55:59.980738Z",
     "iopub.status.busy": "2025-01-10T15:55:59.980395Z",
     "iopub.status.idle": "2025-01-10T15:55:59.994502Z",
     "shell.execute_reply": "2025-01-10T15:55:59.993097Z"
    },
    "papermill": {
     "duration": 0.026195,
     "end_time": "2025-01-10T15:55:59.996194",
     "exception": false,
     "start_time": "2025-01-10T15:55:59.969999",
     "status": "completed"
    },
    "tags": []
   },
   "outputs": [
    {
     "data": {
      "text/html": [
       "<div>\n",
       "<style scoped>\n",
       "    .dataframe tbody tr th:only-of-type {\n",
       "        vertical-align: middle;\n",
       "    }\n",
       "\n",
       "    .dataframe tbody tr th {\n",
       "        vertical-align: top;\n",
       "    }\n",
       "\n",
       "    .dataframe thead th {\n",
       "        text-align: right;\n",
       "    }\n",
       "</style>\n",
       "<table border=\"1\" class=\"dataframe\">\n",
       "  <thead>\n",
       "    <tr style=\"text-align: right;\">\n",
       "      <th></th>\n",
       "      <th>Title</th>\n",
       "      <th>Bedrooms</th>\n",
       "      <th>Bathrooms</th>\n",
       "      <th>Floor_no</th>\n",
       "      <th>Occupancy_status</th>\n",
       "      <th>Floor_area</th>\n",
       "      <th>City</th>\n",
       "      <th>Price_in_millions</th>\n",
       "      <th>Location</th>\n",
       "    </tr>\n",
       "  </thead>\n",
       "  <tbody>\n",
       "    <tr>\n",
       "      <th>1663</th>\n",
       "      <td>A Full Building Is For Sale In Sugandha Reside...</td>\n",
       "      <td>18.0</td>\n",
       "      <td>10.0</td>\n",
       "      <td>A1,A2,A3,A4,A5,A6,A7</td>\n",
       "      <td>vacant</td>\n",
       "      <td>10890.0</td>\n",
       "      <td>chattogram</td>\n",
       "      <td>105.0</td>\n",
       "      <td>Sugandha Residential Area, Panchlaish</td>\n",
       "    </tr>\n",
       "  </tbody>\n",
       "</table>\n",
       "</div>"
      ],
      "text/plain": [
       "                                                  Title  Bedrooms  Bathrooms  \\\n",
       "1663  A Full Building Is For Sale In Sugandha Reside...      18.0       10.0   \n",
       "\n",
       "                  Floor_no Occupancy_status  Floor_area        City  \\\n",
       "1663  A1,A2,A3,A4,A5,A6,A7           vacant     10890.0  chattogram   \n",
       "\n",
       "      Price_in_millions                               Location  \n",
       "1663              105.0  Sugandha Residential Area, Panchlaish  "
      ]
     },
     "execution_count": 18,
     "metadata": {},
     "output_type": "execute_result"
    }
   ],
   "source": [
    "data[data['Floor_no'] == 'A1,A2,A3,A4,A5,A6,A7']"
   ]
  },
  {
   "cell_type": "code",
   "execution_count": 19,
   "id": "7b81a46c",
   "metadata": {
    "execution": {
     "iopub.execute_input": "2025-01-10T15:56:00.019505Z",
     "iopub.status.busy": "2025-01-10T15:56:00.019131Z",
     "iopub.status.idle": "2025-01-10T15:56:00.034409Z",
     "shell.execute_reply": "2025-01-10T15:56:00.033224Z"
    },
    "papermill": {
     "duration": 0.029687,
     "end_time": "2025-01-10T15:56:00.036231",
     "exception": false,
     "start_time": "2025-01-10T15:56:00.006544",
     "status": "completed"
    },
    "tags": []
   },
   "outputs": [
    {
     "data": {
      "text/html": [
       "<div>\n",
       "<style scoped>\n",
       "    .dataframe tbody tr th:only-of-type {\n",
       "        vertical-align: middle;\n",
       "    }\n",
       "\n",
       "    .dataframe tbody tr th {\n",
       "        vertical-align: top;\n",
       "    }\n",
       "\n",
       "    .dataframe thead th {\n",
       "        text-align: right;\n",
       "    }\n",
       "</style>\n",
       "<table border=\"1\" class=\"dataframe\">\n",
       "  <thead>\n",
       "    <tr style=\"text-align: right;\">\n",
       "      <th></th>\n",
       "      <th>Title</th>\n",
       "      <th>Bedrooms</th>\n",
       "      <th>Bathrooms</th>\n",
       "      <th>Floor_no</th>\n",
       "      <th>Occupancy_status</th>\n",
       "      <th>Floor_area</th>\n",
       "      <th>City</th>\n",
       "      <th>Price_in_millions</th>\n",
       "      <th>Location</th>\n",
       "    </tr>\n",
       "  </thead>\n",
       "  <tbody>\n",
       "    <tr>\n",
       "      <th>2674</th>\n",
       "      <td>An Apartment Is Up For Sale In Dakshin Kattali...</td>\n",
       "      <td>3.0</td>\n",
       "      <td>3.0</td>\n",
       "      <td>4th to 8th Backside</td>\n",
       "      <td>vacant</td>\n",
       "      <td>1250.0</td>\n",
       "      <td>chattogram</td>\n",
       "      <td>3.8</td>\n",
       "      <td>Dakshin Kattali, 11 No. South Kattali Ward</td>\n",
       "    </tr>\n",
       "  </tbody>\n",
       "</table>\n",
       "</div>"
      ],
      "text/plain": [
       "                                                  Title  Bedrooms  Bathrooms  \\\n",
       "2674  An Apartment Is Up For Sale In Dakshin Kattali...       3.0        3.0   \n",
       "\n",
       "                 Floor_no Occupancy_status  Floor_area        City  \\\n",
       "2674  4th to 8th Backside           vacant      1250.0  chattogram   \n",
       "\n",
       "      Price_in_millions                                    Location  \n",
       "2674                3.8  Dakshin Kattali, 11 No. South Kattali Ward  "
      ]
     },
     "execution_count": 19,
     "metadata": {},
     "output_type": "execute_result"
    }
   ],
   "source": [
    "data[data['Floor_no'] == '4th to 8th Backside']"
   ]
  },
  {
   "cell_type": "code",
   "execution_count": 20,
   "id": "2398c61b",
   "metadata": {
    "execution": {
     "iopub.execute_input": "2025-01-10T15:56:00.058752Z",
     "iopub.status.busy": "2025-01-10T15:56:00.058413Z",
     "iopub.status.idle": "2025-01-10T15:56:00.063530Z",
     "shell.execute_reply": "2025-01-10T15:56:00.062430Z"
    },
    "papermill": {
     "duration": 0.018241,
     "end_time": "2025-01-10T15:56:00.065273",
     "exception": false,
     "start_time": "2025-01-10T15:56:00.047032",
     "status": "completed"
    },
    "tags": []
   },
   "outputs": [
    {
     "name": "stdout",
     "output_type": "stream",
     "text": [
      "(2931, 9)\n"
     ]
    }
   ],
   "source": [
    "print(data.shape)"
   ]
  },
  {
   "cell_type": "code",
   "execution_count": 21,
   "id": "0aa8abfe",
   "metadata": {
    "execution": {
     "iopub.execute_input": "2025-01-10T15:56:00.086838Z",
     "iopub.status.busy": "2025-01-10T15:56:00.086494Z",
     "iopub.status.idle": "2025-01-10T15:56:00.097734Z",
     "shell.execute_reply": "2025-01-10T15:56:00.096304Z"
    },
    "papermill": {
     "duration": 0.024039,
     "end_time": "2025-01-10T15:56:00.099656",
     "exception": false,
     "start_time": "2025-01-10T15:56:00.075617",
     "status": "completed"
    },
    "tags": []
   },
   "outputs": [],
   "source": [
    "# Step 1: Fix `Floor_no` values\n",
    "def clean_floor_no(value):\n",
    "    if pd.isna(value):\n",
    "        return value\n",
    "    value = str(value).strip().lower()\n",
    "    if value.endswith('th') or value.endswith('st') or value.endswith('f'):\n",
    "        return int(''.join(filter(str.isdigit, value)))\n",
    "    if value == 'g+7' or value == '0+7':\n",
    "        return 7\n",
    "    if value == 'a1,a2,a3,a4,a5,a6,a7':\n",
    "        return 'A1-A7'  # Placeholder for later row expansion\n",
    "    if value == '4th to 8th backside':\n",
    "        return '4-8'  # Placeholder for later row expansion\n",
    "    if value == 'Merin City - Purbach':\n",
    "        return np.nan\n",
    "    return value\n",
    "\n",
    "data['Floor_no'] = data['Floor_no'].apply(clean_floor_no)\n"
   ]
  },
  {
   "cell_type": "code",
   "execution_count": 22,
   "id": "dbb2774d",
   "metadata": {
    "execution": {
     "iopub.execute_input": "2025-01-10T15:56:00.121361Z",
     "iopub.status.busy": "2025-01-10T15:56:00.120996Z",
     "iopub.status.idle": "2025-01-10T15:56:00.203870Z",
     "shell.execute_reply": "2025-01-10T15:56:00.202636Z"
    },
    "papermill": {
     "duration": 0.095973,
     "end_time": "2025-01-10T15:56:00.206049",
     "exception": false,
     "start_time": "2025-01-10T15:56:00.110076",
     "status": "completed"
    },
    "tags": []
   },
   "outputs": [],
   "source": [
    "# Step 2: Expand rows for specific cases\n",
    "# Case: 'A1,A2,A3,A4,A5,A6,A7'\n",
    "a1_a7_data = data[data['Floor_no'] == 'A1-A7'].copy()\n",
    "a1_a7_expanded = pd.DataFrame()\n",
    "\n",
    "for i in range(1, 8):\n",
    "    temp = a1_a7_data.copy()\n",
    "    temp['Floor_no'] = i\n",
    "    a1_a7_expanded = pd.concat([a1_a7_expanded, temp], ignore_index=True)"
   ]
  },
  {
   "cell_type": "code",
   "execution_count": 23,
   "id": "67acc51f",
   "metadata": {
    "execution": {
     "iopub.execute_input": "2025-01-10T15:56:00.227353Z",
     "iopub.status.busy": "2025-01-10T15:56:00.226895Z",
     "iopub.status.idle": "2025-01-10T15:56:00.238693Z",
     "shell.execute_reply": "2025-01-10T15:56:00.237587Z"
    },
    "papermill": {
     "duration": 0.024558,
     "end_time": "2025-01-10T15:56:00.240709",
     "exception": false,
     "start_time": "2025-01-10T15:56:00.216151",
     "status": "completed"
    },
    "tags": []
   },
   "outputs": [],
   "source": [
    "# Case: '4th to 8th Backside'\n",
    "four_to_eight_data = data[data['Floor_no'] == '4-8'].copy()\n",
    "four_to_eight_expanded = pd.DataFrame()\n",
    "\n",
    "for i in range(4, 9):\n",
    "    temp = four_to_eight_data.copy()\n",
    "    temp['Floor_no'] = i\n",
    "    four_to_eight_expanded = pd.concat([four_to_eight_expanded, temp], ignore_index=True)"
   ]
  },
  {
   "cell_type": "code",
   "execution_count": 24,
   "id": "e5230913",
   "metadata": {
    "execution": {
     "iopub.execute_input": "2025-01-10T15:56:00.262805Z",
     "iopub.status.busy": "2025-01-10T15:56:00.262440Z",
     "iopub.status.idle": "2025-01-10T15:56:00.272975Z",
     "shell.execute_reply": "2025-01-10T15:56:00.271756Z"
    },
    "papermill": {
     "duration": 0.023338,
     "end_time": "2025-01-10T15:56:00.274817",
     "exception": false,
     "start_time": "2025-01-10T15:56:00.251479",
     "status": "completed"
    },
    "tags": []
   },
   "outputs": [],
   "source": [
    "# Remove rows with placeholders and add expanded rows\n",
    "data = data[~data['Floor_no'].isin(['A1-A7', '4-8'])]\n",
    "data = pd.concat([data, a1_a7_expanded, four_to_eight_expanded], ignore_index=True)\n",
    "\n",
    "# Convert `Floor_no` to numeric\n",
    "data['Floor_no'] = pd.to_numeric(data['Floor_no'], errors='coerce')"
   ]
  },
  {
   "cell_type": "code",
   "execution_count": 25,
   "id": "bbd38bc0",
   "metadata": {
    "execution": {
     "iopub.execute_input": "2025-01-10T15:56:00.295937Z",
     "iopub.status.busy": "2025-01-10T15:56:00.295530Z",
     "iopub.status.idle": "2025-01-10T15:56:00.310369Z",
     "shell.execute_reply": "2025-01-10T15:56:00.309291Z"
    },
    "papermill": {
     "duration": 0.027668,
     "end_time": "2025-01-10T15:56:00.312296",
     "exception": false,
     "start_time": "2025-01-10T15:56:00.284628",
     "status": "completed"
    },
    "tags": []
   },
   "outputs": [
    {
     "data": {
      "text/html": [
       "<div>\n",
       "<style scoped>\n",
       "    .dataframe tbody tr th:only-of-type {\n",
       "        vertical-align: middle;\n",
       "    }\n",
       "\n",
       "    .dataframe tbody tr th {\n",
       "        vertical-align: top;\n",
       "    }\n",
       "\n",
       "    .dataframe thead th {\n",
       "        text-align: right;\n",
       "    }\n",
       "</style>\n",
       "<table border=\"1\" class=\"dataframe\">\n",
       "  <thead>\n",
       "    <tr style=\"text-align: right;\">\n",
       "      <th></th>\n",
       "      <th>Title</th>\n",
       "      <th>Bedrooms</th>\n",
       "      <th>Bathrooms</th>\n",
       "      <th>Floor_no</th>\n",
       "      <th>Occupancy_status</th>\n",
       "      <th>Floor_area</th>\n",
       "      <th>City</th>\n",
       "      <th>Price_in_millions</th>\n",
       "      <th>Location</th>\n",
       "    </tr>\n",
       "  </thead>\n",
       "  <tbody>\n",
       "    <tr>\n",
       "      <th>0</th>\n",
       "      <td>We Are Offering You A Very Spacious 1960 Sq Ft...</td>\n",
       "      <td>3.0</td>\n",
       "      <td>4.0</td>\n",
       "      <td>3.0</td>\n",
       "      <td>vacant</td>\n",
       "      <td>1960.0</td>\n",
       "      <td>dhaka</td>\n",
       "      <td>39.0</td>\n",
       "      <td>Gulshan 1, Gulshan</td>\n",
       "    </tr>\n",
       "    <tr>\n",
       "      <th>1</th>\n",
       "      <td>Valuable 1705 Square Feet Apartment Is Ready T...</td>\n",
       "      <td>3.0</td>\n",
       "      <td>3.0</td>\n",
       "      <td>1.0</td>\n",
       "      <td>vacant</td>\n",
       "      <td>1705.0</td>\n",
       "      <td>dhaka</td>\n",
       "      <td>16.9</td>\n",
       "      <td>Lake Circus Road, Kalabagan</td>\n",
       "    </tr>\n",
       "    <tr>\n",
       "      <th>2</th>\n",
       "      <td>1370 square feet apartment is ready to sale in...</td>\n",
       "      <td>3.0</td>\n",
       "      <td>3.0</td>\n",
       "      <td>6.0</td>\n",
       "      <td>vacant</td>\n",
       "      <td>1370.0</td>\n",
       "      <td>dhaka</td>\n",
       "      <td>12.5</td>\n",
       "      <td>Shukrabad, Dhanmondi</td>\n",
       "    </tr>\n",
       "    <tr>\n",
       "      <th>3</th>\n",
       "      <td>2125 Square Feet Apartment For Sale In Bashund...</td>\n",
       "      <td>3.0</td>\n",
       "      <td>3.0</td>\n",
       "      <td>4.0</td>\n",
       "      <td>vacant</td>\n",
       "      <td>2125.0</td>\n",
       "      <td>dhaka</td>\n",
       "      <td>20.0</td>\n",
       "      <td>Block L, Bashundhara R-A</td>\n",
       "    </tr>\n",
       "    <tr>\n",
       "      <th>4</th>\n",
       "      <td>Buy This 2687 Square Feet Flat In The Nice Are...</td>\n",
       "      <td>3.0</td>\n",
       "      <td>3.0</td>\n",
       "      <td>4.0</td>\n",
       "      <td>vacant</td>\n",
       "      <td>2687.0</td>\n",
       "      <td>dhaka</td>\n",
       "      <td>47.5</td>\n",
       "      <td>Road No 25, Banani</td>\n",
       "    </tr>\n",
       "  </tbody>\n",
       "</table>\n",
       "</div>"
      ],
      "text/plain": [
       "                                               Title  Bedrooms  Bathrooms  \\\n",
       "0  We Are Offering You A Very Spacious 1960 Sq Ft...       3.0        4.0   \n",
       "1  Valuable 1705 Square Feet Apartment Is Ready T...       3.0        3.0   \n",
       "2  1370 square feet apartment is ready to sale in...       3.0        3.0   \n",
       "3  2125 Square Feet Apartment For Sale In Bashund...       3.0        3.0   \n",
       "4  Buy This 2687 Square Feet Flat In The Nice Are...       3.0        3.0   \n",
       "\n",
       "   Floor_no Occupancy_status  Floor_area   City  Price_in_millions  \\\n",
       "0       3.0           vacant      1960.0  dhaka               39.0   \n",
       "1       1.0           vacant      1705.0  dhaka               16.9   \n",
       "2       6.0           vacant      1370.0  dhaka               12.5   \n",
       "3       4.0           vacant      2125.0  dhaka               20.0   \n",
       "4       4.0           vacant      2687.0  dhaka               47.5   \n",
       "\n",
       "                      Location  \n",
       "0           Gulshan 1, Gulshan  \n",
       "1  Lake Circus Road, Kalabagan  \n",
       "2         Shukrabad, Dhanmondi  \n",
       "3     Block L, Bashundhara R-A  \n",
       "4           Road No 25, Banani  "
      ]
     },
     "execution_count": 25,
     "metadata": {},
     "output_type": "execute_result"
    }
   ],
   "source": [
    "data.head()"
   ]
  },
  {
   "cell_type": "code",
   "execution_count": 26,
   "id": "50e9cd39",
   "metadata": {
    "execution": {
     "iopub.execute_input": "2025-01-10T15:56:00.333838Z",
     "iopub.status.busy": "2025-01-10T15:56:00.333475Z",
     "iopub.status.idle": "2025-01-10T15:56:00.339163Z",
     "shell.execute_reply": "2025-01-10T15:56:00.338110Z"
    },
    "papermill": {
     "duration": 0.018687,
     "end_time": "2025-01-10T15:56:00.341172",
     "exception": false,
     "start_time": "2025-01-10T15:56:00.322485",
     "status": "completed"
    },
    "tags": []
   },
   "outputs": [
    {
     "data": {
      "text/plain": [
       "(2941, 9)"
      ]
     },
     "execution_count": 26,
     "metadata": {},
     "output_type": "execute_result"
    }
   ],
   "source": [
    "data.shape"
   ]
  },
  {
   "cell_type": "code",
   "execution_count": 27,
   "id": "3fe18d5a",
   "metadata": {
    "execution": {
     "iopub.execute_input": "2025-01-10T15:56:00.362757Z",
     "iopub.status.busy": "2025-01-10T15:56:00.362410Z",
     "iopub.status.idle": "2025-01-10T15:56:00.380102Z",
     "shell.execute_reply": "2025-01-10T15:56:00.378982Z"
    },
    "papermill": {
     "duration": 0.030739,
     "end_time": "2025-01-10T15:56:00.382103",
     "exception": false,
     "start_time": "2025-01-10T15:56:00.351364",
     "status": "completed"
    },
    "tags": []
   },
   "outputs": [
    {
     "data": {
      "text/html": [
       "<div>\n",
       "<style scoped>\n",
       "    .dataframe tbody tr th:only-of-type {\n",
       "        vertical-align: middle;\n",
       "    }\n",
       "\n",
       "    .dataframe tbody tr th {\n",
       "        vertical-align: top;\n",
       "    }\n",
       "\n",
       "    .dataframe thead th {\n",
       "        text-align: right;\n",
       "    }\n",
       "</style>\n",
       "<table border=\"1\" class=\"dataframe\">\n",
       "  <thead>\n",
       "    <tr style=\"text-align: right;\">\n",
       "      <th></th>\n",
       "      <th>Title</th>\n",
       "      <th>Bedrooms</th>\n",
       "      <th>Bathrooms</th>\n",
       "      <th>Floor_no</th>\n",
       "      <th>Occupancy_status</th>\n",
       "      <th>Floor_area</th>\n",
       "      <th>City</th>\n",
       "      <th>Price_in_millions</th>\n",
       "      <th>Location</th>\n",
       "    </tr>\n",
       "  </thead>\n",
       "  <tbody>\n",
       "    <tr>\n",
       "      <th>1243</th>\n",
       "      <td>Start Your New Home, In This Reasonable And Co...</td>\n",
       "      <td>4.0</td>\n",
       "      <td>3.0</td>\n",
       "      <td>5.0</td>\n",
       "      <td>vacant</td>\n",
       "      <td>1500.0</td>\n",
       "      <td>chattogram</td>\n",
       "      <td>6.0</td>\n",
       "      <td>Dakshin Kattali, 11 No. South Kattali Ward</td>\n",
       "    </tr>\n",
       "    <tr>\n",
       "      <th>1258</th>\n",
       "      <td>Visit This 825 Sq Ft Flat For Sale In Dakshin ...</td>\n",
       "      <td>3.0</td>\n",
       "      <td>3.0</td>\n",
       "      <td>3.0</td>\n",
       "      <td>vacant</td>\n",
       "      <td>825.0</td>\n",
       "      <td>chattogram</td>\n",
       "      <td>3.7</td>\n",
       "      <td>Dakshin Kattali, 11 No. South Kattali Ward</td>\n",
       "    </tr>\n",
       "    <tr>\n",
       "      <th>1981</th>\n",
       "      <td>1200 Sq Ft Flat With Great Residential Service...</td>\n",
       "      <td>3.0</td>\n",
       "      <td>3.0</td>\n",
       "      <td>4.0</td>\n",
       "      <td>vacant</td>\n",
       "      <td>1200.0</td>\n",
       "      <td>chattogram</td>\n",
       "      <td>8.0</td>\n",
       "      <td>Dakshin Kattali, 11 No. South Kattali Ward</td>\n",
       "    </tr>\n",
       "    <tr>\n",
       "      <th>2936</th>\n",
       "      <td>An Apartment Is Up For Sale In Dakshin Kattali...</td>\n",
       "      <td>3.0</td>\n",
       "      <td>3.0</td>\n",
       "      <td>4.0</td>\n",
       "      <td>vacant</td>\n",
       "      <td>1250.0</td>\n",
       "      <td>chattogram</td>\n",
       "      <td>3.8</td>\n",
       "      <td>Dakshin Kattali, 11 No. South Kattali Ward</td>\n",
       "    </tr>\n",
       "    <tr>\n",
       "      <th>2937</th>\n",
       "      <td>An Apartment Is Up For Sale In Dakshin Kattali...</td>\n",
       "      <td>3.0</td>\n",
       "      <td>3.0</td>\n",
       "      <td>5.0</td>\n",
       "      <td>vacant</td>\n",
       "      <td>1250.0</td>\n",
       "      <td>chattogram</td>\n",
       "      <td>3.8</td>\n",
       "      <td>Dakshin Kattali, 11 No. South Kattali Ward</td>\n",
       "    </tr>\n",
       "    <tr>\n",
       "      <th>2938</th>\n",
       "      <td>An Apartment Is Up For Sale In Dakshin Kattali...</td>\n",
       "      <td>3.0</td>\n",
       "      <td>3.0</td>\n",
       "      <td>6.0</td>\n",
       "      <td>vacant</td>\n",
       "      <td>1250.0</td>\n",
       "      <td>chattogram</td>\n",
       "      <td>3.8</td>\n",
       "      <td>Dakshin Kattali, 11 No. South Kattali Ward</td>\n",
       "    </tr>\n",
       "    <tr>\n",
       "      <th>2939</th>\n",
       "      <td>An Apartment Is Up For Sale In Dakshin Kattali...</td>\n",
       "      <td>3.0</td>\n",
       "      <td>3.0</td>\n",
       "      <td>7.0</td>\n",
       "      <td>vacant</td>\n",
       "      <td>1250.0</td>\n",
       "      <td>chattogram</td>\n",
       "      <td>3.8</td>\n",
       "      <td>Dakshin Kattali, 11 No. South Kattali Ward</td>\n",
       "    </tr>\n",
       "    <tr>\n",
       "      <th>2940</th>\n",
       "      <td>An Apartment Is Up For Sale In Dakshin Kattali...</td>\n",
       "      <td>3.0</td>\n",
       "      <td>3.0</td>\n",
       "      <td>8.0</td>\n",
       "      <td>vacant</td>\n",
       "      <td>1250.0</td>\n",
       "      <td>chattogram</td>\n",
       "      <td>3.8</td>\n",
       "      <td>Dakshin Kattali, 11 No. South Kattali Ward</td>\n",
       "    </tr>\n",
       "  </tbody>\n",
       "</table>\n",
       "</div>"
      ],
      "text/plain": [
       "                                                  Title  Bedrooms  Bathrooms  \\\n",
       "1243  Start Your New Home, In This Reasonable And Co...       4.0        3.0   \n",
       "1258  Visit This 825 Sq Ft Flat For Sale In Dakshin ...       3.0        3.0   \n",
       "1981  1200 Sq Ft Flat With Great Residential Service...       3.0        3.0   \n",
       "2936  An Apartment Is Up For Sale In Dakshin Kattali...       3.0        3.0   \n",
       "2937  An Apartment Is Up For Sale In Dakshin Kattali...       3.0        3.0   \n",
       "2938  An Apartment Is Up For Sale In Dakshin Kattali...       3.0        3.0   \n",
       "2939  An Apartment Is Up For Sale In Dakshin Kattali...       3.0        3.0   \n",
       "2940  An Apartment Is Up For Sale In Dakshin Kattali...       3.0        3.0   \n",
       "\n",
       "      Floor_no Occupancy_status  Floor_area        City  Price_in_millions  \\\n",
       "1243       5.0           vacant      1500.0  chattogram                6.0   \n",
       "1258       3.0           vacant       825.0  chattogram                3.7   \n",
       "1981       4.0           vacant      1200.0  chattogram                8.0   \n",
       "2936       4.0           vacant      1250.0  chattogram                3.8   \n",
       "2937       5.0           vacant      1250.0  chattogram                3.8   \n",
       "2938       6.0           vacant      1250.0  chattogram                3.8   \n",
       "2939       7.0           vacant      1250.0  chattogram                3.8   \n",
       "2940       8.0           vacant      1250.0  chattogram                3.8   \n",
       "\n",
       "                                        Location  \n",
       "1243  Dakshin Kattali, 11 No. South Kattali Ward  \n",
       "1258  Dakshin Kattali, 11 No. South Kattali Ward  \n",
       "1981  Dakshin Kattali, 11 No. South Kattali Ward  \n",
       "2936  Dakshin Kattali, 11 No. South Kattali Ward  \n",
       "2937  Dakshin Kattali, 11 No. South Kattali Ward  \n",
       "2938  Dakshin Kattali, 11 No. South Kattali Ward  \n",
       "2939  Dakshin Kattali, 11 No. South Kattali Ward  \n",
       "2940  Dakshin Kattali, 11 No. South Kattali Ward  "
      ]
     },
     "execution_count": 27,
     "metadata": {},
     "output_type": "execute_result"
    }
   ],
   "source": [
    "data[data['Location']=='Dakshin Kattali, 11 No. South Kattali Ward']"
   ]
  },
  {
   "cell_type": "code",
   "execution_count": 28,
   "id": "77a3b64c",
   "metadata": {
    "execution": {
     "iopub.execute_input": "2025-01-10T15:56:00.404747Z",
     "iopub.status.busy": "2025-01-10T15:56:00.404394Z",
     "iopub.status.idle": "2025-01-10T15:56:00.411377Z",
     "shell.execute_reply": "2025-01-10T15:56:00.410334Z"
    },
    "papermill": {
     "duration": 0.019857,
     "end_time": "2025-01-10T15:56:00.413022",
     "exception": false,
     "start_time": "2025-01-10T15:56:00.393165",
     "status": "completed"
    },
    "tags": []
   },
   "outputs": [
    {
     "data": {
      "text/plain": [
       "array([ 3.,  1.,  6.,  4.,  8.,  2.,  5.,  7.,  9., nan, 10., 14., 13.,\n",
       "       12., 11., 18., 17.])"
      ]
     },
     "execution_count": 28,
     "metadata": {},
     "output_type": "execute_result"
    }
   ],
   "source": [
    "data['Floor_no'].unique()"
   ]
  },
  {
   "cell_type": "code",
   "execution_count": 29,
   "id": "a322ee93",
   "metadata": {
    "execution": {
     "iopub.execute_input": "2025-01-10T15:56:00.436254Z",
     "iopub.status.busy": "2025-01-10T15:56:00.435840Z",
     "iopub.status.idle": "2025-01-10T15:56:00.444241Z",
     "shell.execute_reply": "2025-01-10T15:56:00.443183Z"
    },
    "papermill": {
     "duration": 0.022177,
     "end_time": "2025-01-10T15:56:00.446183",
     "exception": false,
     "start_time": "2025-01-10T15:56:00.424006",
     "status": "completed"
    },
    "tags": []
   },
   "outputs": [
    {
     "data": {
      "text/plain": [
       "Title                  0\n",
       "Bedrooms             831\n",
       "Bathrooms            831\n",
       "Floor_no             581\n",
       "Occupancy_status      89\n",
       "Floor_area            89\n",
       "City                   0\n",
       "Price_in_millions      0\n",
       "Location               6\n",
       "dtype: int64"
      ]
     },
     "execution_count": 29,
     "metadata": {},
     "output_type": "execute_result"
    }
   ],
   "source": [
    "data.isna().sum()"
   ]
  },
  {
   "cell_type": "code",
   "execution_count": 30,
   "id": "89f82411",
   "metadata": {
    "execution": {
     "iopub.execute_input": "2025-01-10T15:56:00.469255Z",
     "iopub.status.busy": "2025-01-10T15:56:00.468853Z",
     "iopub.status.idle": "2025-01-10T15:56:00.475427Z",
     "shell.execute_reply": "2025-01-10T15:56:00.474254Z"
    },
    "papermill": {
     "duration": 0.020116,
     "end_time": "2025-01-10T15:56:00.477225",
     "exception": false,
     "start_time": "2025-01-10T15:56:00.457109",
     "status": "completed"
    },
    "tags": []
   },
   "outputs": [
    {
     "data": {
      "text/plain": [
       "array(['dhaka', 'chattogram', 'cumilla', 'narayanganj-city', 'gazipur'],\n",
       "      dtype=object)"
      ]
     },
     "execution_count": 30,
     "metadata": {},
     "output_type": "execute_result"
    }
   ],
   "source": [
    "# unique values of \"City\"\n",
    "data[\"City\"].unique()"
   ]
  },
  {
   "cell_type": "code",
   "execution_count": 31,
   "id": "0a1f58ef",
   "metadata": {
    "execution": {
     "iopub.execute_input": "2025-01-10T15:56:00.500263Z",
     "iopub.status.busy": "2025-01-10T15:56:00.499813Z",
     "iopub.status.idle": "2025-01-10T15:56:00.511285Z",
     "shell.execute_reply": "2025-01-10T15:56:00.509785Z"
    },
    "papermill": {
     "duration": 0.025392,
     "end_time": "2025-01-10T15:56:00.513421",
     "exception": false,
     "start_time": "2025-01-10T15:56:00.488029",
     "status": "completed"
    },
    "tags": []
   },
   "outputs": [
    {
     "name": "stdout",
     "output_type": "stream",
     "text": [
      "Title                  0\n",
      "Bedrooms             270\n",
      "Bathrooms            270\n",
      "Floor_no               0\n",
      "Occupancy_status       0\n",
      "Floor_area             0\n",
      "City                   0\n",
      "Price_in_millions      0\n",
      "Location               0\n",
      "dtype: int64\n"
     ]
    }
   ],
   "source": [
    "columns_to_drop_miising_values = ['Occupancy_status', 'Floor_area', 'Location', 'Floor_no']\n",
    "\n",
    "# Remove rows with missing values in the specified columns\n",
    "data = data.dropna(subset=columns_to_drop_miising_values, axis = 0)\n",
    "# verify the result\n",
    "print(data.isnull().sum())"
   ]
  },
  {
   "cell_type": "code",
   "execution_count": 32,
   "id": "05a6eaad",
   "metadata": {
    "execution": {
     "iopub.execute_input": "2025-01-10T15:56:00.536857Z",
     "iopub.status.busy": "2025-01-10T15:56:00.536499Z",
     "iopub.status.idle": "2025-01-10T15:56:00.613630Z",
     "shell.execute_reply": "2025-01-10T15:56:00.612578Z"
    },
    "papermill": {
     "duration": 0.091389,
     "end_time": "2025-01-10T15:56:00.615821",
     "exception": false,
     "start_time": "2025-01-10T15:56:00.524432",
     "status": "completed"
    },
    "tags": []
   },
   "outputs": [],
   "source": [
    "# Impute the missing values in Bathrooms and Bedrooms using Floor area\n",
    "features = ['Floor_area', 'Bedrooms', 'Bathrooms']\n",
    "\n",
    "imputer = KNNImputer(n_neighbors=5, weights='distance')\n",
    "data[features] = imputer.fit_transform(data[features])"
   ]
  },
  {
   "cell_type": "code",
   "execution_count": 33,
   "id": "4a357c34",
   "metadata": {
    "execution": {
     "iopub.execute_input": "2025-01-10T15:56:00.653015Z",
     "iopub.status.busy": "2025-01-10T15:56:00.652570Z",
     "iopub.status.idle": "2025-01-10T15:56:00.665387Z",
     "shell.execute_reply": "2025-01-10T15:56:00.664288Z"
    },
    "papermill": {
     "duration": 0.034085,
     "end_time": "2025-01-10T15:56:00.667706",
     "exception": false,
     "start_time": "2025-01-10T15:56:00.633621",
     "status": "completed"
    },
    "tags": []
   },
   "outputs": [
    {
     "data": {
      "text/plain": [
       "Title                0\n",
       "Bedrooms             0\n",
       "Bathrooms            0\n",
       "Floor_no             0\n",
       "Occupancy_status     0\n",
       "Floor_area           0\n",
       "City                 0\n",
       "Price_in_millions    0\n",
       "Location             0\n",
       "dtype: int64"
      ]
     },
     "execution_count": 33,
     "metadata": {},
     "output_type": "execute_result"
    }
   ],
   "source": [
    "data.isna().sum()"
   ]
  },
  {
   "cell_type": "code",
   "execution_count": 34,
   "id": "3eb16639",
   "metadata": {
    "execution": {
     "iopub.execute_input": "2025-01-10T15:56:00.698460Z",
     "iopub.status.busy": "2025-01-10T15:56:00.698099Z",
     "iopub.status.idle": "2025-01-10T15:56:00.720558Z",
     "shell.execute_reply": "2025-01-10T15:56:00.719284Z"
    },
    "papermill": {
     "duration": 0.037612,
     "end_time": "2025-01-10T15:56:00.722453",
     "exception": false,
     "start_time": "2025-01-10T15:56:00.684841",
     "status": "completed"
    },
    "tags": []
   },
   "outputs": [
    {
     "name": "stdout",
     "output_type": "stream",
     "text": [
      "Top 5 largest values in 'Bedrooms':\n",
      "217     46.000000\n",
      "99      27.803983\n",
      "2250    27.000000\n",
      "1625    22.000000\n",
      "1457    21.000000\n",
      "Name: Bedrooms, dtype: float64\n",
      "Top 5 largest values in 'Bathrooms':\n",
      "2047    10.0\n",
      "206     10.0\n",
      "217     10.0\n",
      "986     10.0\n",
      "999     10.0\n",
      "Name: Bathrooms, dtype: float64\n",
      "Top 5 largest values in 'Floor_no':\n",
      "2110    18.0\n",
      "2161    17.0\n",
      "198     14.0\n",
      "1560    14.0\n",
      "230     13.0\n",
      "Name: Floor_no, dtype: float64\n",
      "Top 5 largest values in 'Floor_area':\n",
      "1489    24000.0\n",
      "99      21500.0\n",
      "217     19200.0\n",
      "40      16000.0\n",
      "510     15120.0\n",
      "Name: Floor_area, dtype: float64\n",
      "Top 5 largest values in 'Price_in_millions':\n",
      "1602    363.2\n",
      "1910    363.2\n",
      "2023    363.2\n",
      "1245    350.0\n",
      "2128    350.0\n",
      "Name: Price_in_millions, dtype: float64\n"
     ]
    }
   ],
   "source": [
    "for col in data.columns:\n",
    "    if pd.api.types.is_numeric_dtype(data[col]):\n",
    "        print(f\"Top 5 largest values in '{col}':\")\n",
    "        print(data[col].nlargest(5))"
   ]
  },
  {
   "cell_type": "code",
   "execution_count": 35,
   "id": "9f8dac45",
   "metadata": {
    "execution": {
     "iopub.execute_input": "2025-01-10T15:56:00.746208Z",
     "iopub.status.busy": "2025-01-10T15:56:00.745801Z",
     "iopub.status.idle": "2025-01-10T15:56:00.767467Z",
     "shell.execute_reply": "2025-01-10T15:56:00.766370Z"
    },
    "papermill": {
     "duration": 0.035921,
     "end_time": "2025-01-10T15:56:00.769652",
     "exception": false,
     "start_time": "2025-01-10T15:56:00.733731",
     "status": "completed"
    },
    "tags": []
   },
   "outputs": [
    {
     "name": "stdout",
     "output_type": "stream",
     "text": [
      "Title\n",
      "A Full Building Is For Sale In Sugandha Residential Area, Panchlaish.           7\n",
      "An Apartment Is Up For Sale In Dakshin Kattali, Near Anandomoyee Kali Temple    5\n",
      "Buy This 240 Sq Ft Shop At Bakalia                                              2\n",
      "1445 Sq Ft Residential Apartment Is Available For Sale In Chotora, Cumilla      2\n",
      "Visit This Apartment For Sale In Bakalia Near Haji Eqbal Jame Masjid            1\n",
      "Name: count, dtype: int64\n",
      "Bedrooms\n",
      "3.000000    1622\n",
      "2.000000     294\n",
      "4.000000     167\n",
      "1.316456      16\n",
      "1.227586      15\n",
      "Name: count, dtype: int64\n",
      "Bathrooms\n",
      "3.0     1320\n",
      "2.0      465\n",
      "4.0      235\n",
      "5.0       55\n",
      "10.0      18\n",
      "Name: count, dtype: int64\n",
      "Floor_no\n",
      "1.0    382\n",
      "4.0    308\n",
      "5.0    296\n",
      "2.0    275\n",
      "3.0    262\n",
      "Name: count, dtype: int64\n",
      "Occupancy_status\n",
      "vacant      2357\n",
      "occupied       2\n",
      "Name: count, dtype: int64\n",
      "Floor_area\n",
      "1300.0    69\n",
      "1500.0    68\n",
      "1250.0    62\n",
      "1200.0    59\n",
      "1400.0    56\n",
      "Name: count, dtype: int64\n",
      "City\n",
      "chattogram          1077\n",
      "dhaka               1006\n",
      "gazipur              141\n",
      "cumilla              130\n",
      "narayanganj-city       5\n",
      "Name: count, dtype: int64\n",
      "Price_in_millions\n",
      "6.0    69\n",
      "5.0    62\n",
      "6.5    59\n",
      "7.0    53\n",
      "5.5    50\n",
      "Name: count, dtype: int64\n",
      "Location\n",
      "Dewan Bazar, Bakalia                            74\n",
      "Joydebpur, Gazipur Sadar Upazila                63\n",
      "Dhaka Trunk Road, 9 No. North Pahartali Ward    58\n",
      "Tongi, Gazipur Sadar Upazila                    43\n",
      "24 No. North Agrabad Ward, Double Mooring       37\n",
      "Name: count, dtype: int64\n"
     ]
    }
   ],
   "source": [
    "for col in data.columns:\n",
    "    print(data[col].value_counts().head(5))"
   ]
  },
  {
   "cell_type": "code",
   "execution_count": 36,
   "id": "a8301478",
   "metadata": {
    "execution": {
     "iopub.execute_input": "2025-01-10T15:56:00.793702Z",
     "iopub.status.busy": "2025-01-10T15:56:00.793318Z",
     "iopub.status.idle": "2025-01-10T15:56:00.813469Z",
     "shell.execute_reply": "2025-01-10T15:56:00.812156Z"
    },
    "papermill": {
     "duration": 0.03446,
     "end_time": "2025-01-10T15:56:00.815576",
     "exception": false,
     "start_time": "2025-01-10T15:56:00.781116",
     "status": "completed"
    },
    "tags": []
   },
   "outputs": [
    {
     "data": {
      "text/html": [
       "<div>\n",
       "<style scoped>\n",
       "    .dataframe tbody tr th:only-of-type {\n",
       "        vertical-align: middle;\n",
       "    }\n",
       "\n",
       "    .dataframe tbody tr th {\n",
       "        vertical-align: top;\n",
       "    }\n",
       "\n",
       "    .dataframe thead th {\n",
       "        text-align: right;\n",
       "    }\n",
       "</style>\n",
       "<table border=\"1\" class=\"dataframe\">\n",
       "  <thead>\n",
       "    <tr style=\"text-align: right;\">\n",
       "      <th></th>\n",
       "      <th>Bedrooms</th>\n",
       "      <th>Bathrooms</th>\n",
       "      <th>Floor_no</th>\n",
       "      <th>Floor_area</th>\n",
       "      <th>Price_in_millions</th>\n",
       "    </tr>\n",
       "    <tr>\n",
       "      <th>Location</th>\n",
       "      <th></th>\n",
       "      <th></th>\n",
       "      <th></th>\n",
       "      <th></th>\n",
       "      <th></th>\n",
       "    </tr>\n",
       "  </thead>\n",
       "  <tbody>\n",
       "    <tr>\n",
       "      <th>Motijheel Road, Motijheel</th>\n",
       "      <td>4.201357</td>\n",
       "      <td>4.583595</td>\n",
       "      <td>1.000000</td>\n",
       "      <td>4686.000000</td>\n",
       "      <td>210.8700</td>\n",
       "    </tr>\n",
       "    <tr>\n",
       "      <th>28 No. Pathantooly Ward, Double Mooring</th>\n",
       "      <td>9.062454</td>\n",
       "      <td>5.765657</td>\n",
       "      <td>4.461538</td>\n",
       "      <td>6678.615385</td>\n",
       "      <td>147.3500</td>\n",
       "    </tr>\n",
       "    <tr>\n",
       "      <th>Kazi Nazrul Islam Avenue, Banglamotors</th>\n",
       "      <td>4.000000</td>\n",
       "      <td>5.000000</td>\n",
       "      <td>1.000000</td>\n",
       "      <td>3000.000000</td>\n",
       "      <td>120.0000</td>\n",
       "    </tr>\n",
       "    <tr>\n",
       "      <th>Hemayetpur, Savar</th>\n",
       "      <td>15.401991</td>\n",
       "      <td>5.875040</td>\n",
       "      <td>6.500000</td>\n",
       "      <td>11200.000000</td>\n",
       "      <td>111.4500</td>\n",
       "    </tr>\n",
       "    <tr>\n",
       "      <th>New Eskaton Road, Eskaton</th>\n",
       "      <td>3.914478</td>\n",
       "      <td>4.768314</td>\n",
       "      <td>2.500000</td>\n",
       "      <td>2922.500000</td>\n",
       "      <td>100.7500</td>\n",
       "    </tr>\n",
       "    <tr>\n",
       "      <th>Gulshan 2, Gulshan</th>\n",
       "      <td>4.000000</td>\n",
       "      <td>4.000000</td>\n",
       "      <td>1.500000</td>\n",
       "      <td>3655.000000</td>\n",
       "      <td>93.9000</td>\n",
       "    </tr>\n",
       "    <tr>\n",
       "      <th>CDA Avenue, East Nasirabad</th>\n",
       "      <td>7.500104</td>\n",
       "      <td>5.500104</td>\n",
       "      <td>5.000000</td>\n",
       "      <td>4967.500000</td>\n",
       "      <td>88.3750</td>\n",
       "    </tr>\n",
       "    <tr>\n",
       "      <th>Sheikh Mujib Road, Double Mooring</th>\n",
       "      <td>7.946862</td>\n",
       "      <td>6.359795</td>\n",
       "      <td>9.750000</td>\n",
       "      <td>6158.500000</td>\n",
       "      <td>81.1855</td>\n",
       "    </tr>\n",
       "    <tr>\n",
       "      <th>Sugandha Residential Area, Panchlaish</th>\n",
       "      <td>12.545455</td>\n",
       "      <td>7.636364</td>\n",
       "      <td>3.909091</td>\n",
       "      <td>7619.818182</td>\n",
       "      <td>72.4680</td>\n",
       "    </tr>\n",
       "    <tr>\n",
       "      <th>Road No 2, Banani DOHS</th>\n",
       "      <td>3.000000</td>\n",
       "      <td>3.000000</td>\n",
       "      <td>5.000000</td>\n",
       "      <td>2700.000000</td>\n",
       "      <td>67.5000</td>\n",
       "    </tr>\n",
       "  </tbody>\n",
       "</table>\n",
       "</div>"
      ],
      "text/plain": [
       "                                          Bedrooms  Bathrooms  Floor_no  \\\n",
       "Location                                                                  \n",
       "Motijheel Road, Motijheel                 4.201357   4.583595  1.000000   \n",
       "28 No. Pathantooly Ward, Double Mooring   9.062454   5.765657  4.461538   \n",
       "Kazi Nazrul Islam Avenue, Banglamotors    4.000000   5.000000  1.000000   \n",
       "Hemayetpur, Savar                        15.401991   5.875040  6.500000   \n",
       "New Eskaton Road, Eskaton                 3.914478   4.768314  2.500000   \n",
       "Gulshan 2, Gulshan                        4.000000   4.000000  1.500000   \n",
       "CDA Avenue, East Nasirabad                7.500104   5.500104  5.000000   \n",
       "Sheikh Mujib Road, Double Mooring         7.946862   6.359795  9.750000   \n",
       "Sugandha Residential Area, Panchlaish    12.545455   7.636364  3.909091   \n",
       "Road No 2, Banani DOHS                    3.000000   3.000000  5.000000   \n",
       "\n",
       "                                           Floor_area  Price_in_millions  \n",
       "Location                                                                  \n",
       "Motijheel Road, Motijheel                 4686.000000           210.8700  \n",
       "28 No. Pathantooly Ward, Double Mooring   6678.615385           147.3500  \n",
       "Kazi Nazrul Islam Avenue, Banglamotors    3000.000000           120.0000  \n",
       "Hemayetpur, Savar                        11200.000000           111.4500  \n",
       "New Eskaton Road, Eskaton                 2922.500000           100.7500  \n",
       "Gulshan 2, Gulshan                        3655.000000            93.9000  \n",
       "CDA Avenue, East Nasirabad                4967.500000            88.3750  \n",
       "Sheikh Mujib Road, Double Mooring         6158.500000            81.1855  \n",
       "Sugandha Residential Area, Panchlaish     7619.818182            72.4680  \n",
       "Road No 2, Banani DOHS                    2700.000000            67.5000  "
      ]
     },
     "execution_count": 36,
     "metadata": {},
     "output_type": "execute_result"
    }
   ],
   "source": [
    "averages = data.groupby('Location').mean(numeric_only=True)\n",
    "averages.sort_values(by=averages.columns[4], ascending=False).head(10)"
   ]
  },
  {
   "cell_type": "code",
   "execution_count": null,
   "id": "9e7b17ef",
   "metadata": {
    "papermill": {
     "duration": 0.011063,
     "end_time": "2025-01-10T15:56:00.838464",
     "exception": false,
     "start_time": "2025-01-10T15:56:00.827401",
     "status": "completed"
    },
    "tags": []
   },
   "outputs": [],
   "source": []
  }
 ],
 "metadata": {
  "kaggle": {
   "accelerator": "none",
   "dataSources": [
    {
     "datasetId": 5521749,
     "sourceId": 9142342,
     "sourceType": "datasetVersion"
    }
   ],
   "dockerImageVersionId": 30822,
   "isGpuEnabled": false,
   "isInternetEnabled": false,
   "language": "python",
   "sourceType": "notebook"
  },
  "kernelspec": {
   "display_name": "Python 3",
   "language": "python",
   "name": "python3"
  },
  "language_info": {
   "codemirror_mode": {
    "name": "ipython",
    "version": 3
   },
   "file_extension": ".py",
   "mimetype": "text/x-python",
   "name": "python",
   "nbconvert_exporter": "python",
   "pygments_lexer": "ipython3",
   "version": "3.10.12"
  },
  "papermill": {
   "default_parameters": {},
   "duration": 6.408112,
   "end_time": "2025-01-10T15:56:01.469737",
   "environment_variables": {},
   "exception": null,
   "input_path": "__notebook__.ipynb",
   "output_path": "__notebook__.ipynb",
   "parameters": {},
   "start_time": "2025-01-10T15:55:55.061625",
   "version": "2.6.0"
  }
 },
 "nbformat": 4,
 "nbformat_minor": 5
}
