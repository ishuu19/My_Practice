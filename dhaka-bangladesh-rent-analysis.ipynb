{
 "cells": [
  {
   "cell_type": "code",
   "execution_count": 1,
   "id": "cd83fa96",
   "metadata": {
    "_cell_guid": "b1076dfc-b9ad-4769-8c92-a6c4dae69d19",
    "_uuid": "8f2839f25d086af736a60e9eeb907d3b93b6e0e5",
    "execution": {
     "iopub.execute_input": "2025-01-11T19:58:13.111116Z",
     "iopub.status.busy": "2025-01-11T19:58:13.110670Z",
     "iopub.status.idle": "2025-01-11T19:58:15.789166Z",
     "shell.execute_reply": "2025-01-11T19:58:15.787845Z"
    },
    "papermill": {
     "duration": 2.692701,
     "end_time": "2025-01-11T19:58:15.791177",
     "exception": false,
     "start_time": "2025-01-11T19:58:13.098476",
     "status": "completed"
    },
    "tags": []
   },
   "outputs": [
    {
     "name": "stdout",
     "output_type": "stream",
     "text": [
      "/kaggle/input/locations-dhaka-rent4/locations.json\n",
      "/kaggle/input/house-price-bangladesh/house_price_bd.csv\n"
     ]
    }
   ],
   "source": [
    "# This Python 3 environment comes with many helpful analytics libraries installed\n",
    "# It is defined by the kaggle/python Docker image: https://github.com/kaggle/docker-python\n",
    "# For example, here's several helpful packages to load\n",
    "\n",
    "import numpy as np # linear algebra\n",
    "import pandas as pd # data processing, CSV file I/O (e.g. pd.read_csv)\n",
    "from sklearn.impute import KNNImputer\n",
    "import plotly.express as px\n",
    "import pandas as pd\n",
    "\n",
    "# Input data files are available in the read-only \"../input/\" directory\n",
    "# For example, running this (by clicking run or pressing Shift+Enter) will list all files under the input directory\n",
    "\n",
    "import os\n",
    "for dirname, _, filenames in os.walk('/kaggle/input'):\n",
    "    for filename in filenames:\n",
    "        print(os.path.join(dirname, filename))\n",
    "\n",
    "# You can write up to 20GB to the current directory (/kaggle/working/) that gets preserved as output when you create a version using \"Save & Run All\" \n",
    "# You can also write temporary files to /kaggle/temp/, but they won't be saved outside of the current session"
   ]
  },
  {
   "cell_type": "code",
   "execution_count": 2,
   "id": "3c59ae27",
   "metadata": {
    "execution": {
     "iopub.execute_input": "2025-01-11T19:58:15.813835Z",
     "iopub.status.busy": "2025-01-11T19:58:15.813176Z",
     "iopub.status.idle": "2025-01-11T19:58:15.882376Z",
     "shell.execute_reply": "2025-01-11T19:58:15.881222Z"
    },
    "papermill": {
     "duration": 0.082898,
     "end_time": "2025-01-11T19:58:15.884359",
     "exception": false,
     "start_time": "2025-01-11T19:58:15.801461",
     "status": "completed"
    },
    "tags": []
   },
   "outputs": [
    {
     "data": {
      "text/html": [
       "<div>\n",
       "<style scoped>\n",
       "    .dataframe tbody tr th:only-of-type {\n",
       "        vertical-align: middle;\n",
       "    }\n",
       "\n",
       "    .dataframe tbody tr th {\n",
       "        vertical-align: top;\n",
       "    }\n",
       "\n",
       "    .dataframe thead th {\n",
       "        text-align: right;\n",
       "    }\n",
       "</style>\n",
       "<table border=\"1\" class=\"dataframe\">\n",
       "  <thead>\n",
       "    <tr style=\"text-align: right;\">\n",
       "      <th></th>\n",
       "      <th>Title</th>\n",
       "      <th>Bedrooms</th>\n",
       "      <th>Bathrooms</th>\n",
       "      <th>Floor_no</th>\n",
       "      <th>Occupancy_status</th>\n",
       "      <th>Floor_area</th>\n",
       "      <th>City</th>\n",
       "      <th>Price_in_taka</th>\n",
       "      <th>Location</th>\n",
       "    </tr>\n",
       "  </thead>\n",
       "  <tbody>\n",
       "    <tr>\n",
       "      <th>0</th>\n",
       "      <td>We Are Offering You A Very Spacious 1960 Sq Ft...</td>\n",
       "      <td>3.0</td>\n",
       "      <td>4.0</td>\n",
       "      <td>3</td>\n",
       "      <td>vacant</td>\n",
       "      <td>1960.0</td>\n",
       "      <td>dhaka</td>\n",
       "      <td>৳39,000,000</td>\n",
       "      <td>Gulshan 1, Gulshan</td>\n",
       "    </tr>\n",
       "    <tr>\n",
       "      <th>1</th>\n",
       "      <td>Valuable 1705 Square Feet Apartment Is Ready T...</td>\n",
       "      <td>3.0</td>\n",
       "      <td>3.0</td>\n",
       "      <td>1</td>\n",
       "      <td>vacant</td>\n",
       "      <td>1705.0</td>\n",
       "      <td>dhaka</td>\n",
       "      <td>৳16,900,000</td>\n",
       "      <td>Lake Circus Road, Kalabagan</td>\n",
       "    </tr>\n",
       "    <tr>\n",
       "      <th>2</th>\n",
       "      <td>1370 square feet apartment is ready to sale in...</td>\n",
       "      <td>3.0</td>\n",
       "      <td>3.0</td>\n",
       "      <td>6</td>\n",
       "      <td>vacant</td>\n",
       "      <td>1370.0</td>\n",
       "      <td>dhaka</td>\n",
       "      <td>৳12,500,000</td>\n",
       "      <td>Shukrabad, Dhanmondi</td>\n",
       "    </tr>\n",
       "    <tr>\n",
       "      <th>3</th>\n",
       "      <td>2125 Square Feet Apartment For Sale In Bashund...</td>\n",
       "      <td>3.0</td>\n",
       "      <td>3.0</td>\n",
       "      <td>4</td>\n",
       "      <td>vacant</td>\n",
       "      <td>2125.0</td>\n",
       "      <td>dhaka</td>\n",
       "      <td>৳20,000,000</td>\n",
       "      <td>Block L, Bashundhara R-A</td>\n",
       "    </tr>\n",
       "    <tr>\n",
       "      <th>4</th>\n",
       "      <td>Buy This 2687 Square Feet Flat In The Nice Are...</td>\n",
       "      <td>3.0</td>\n",
       "      <td>3.0</td>\n",
       "      <td>4</td>\n",
       "      <td>vacant</td>\n",
       "      <td>2687.0</td>\n",
       "      <td>dhaka</td>\n",
       "      <td>৳47,500,000</td>\n",
       "      <td>Road No 25, Banani</td>\n",
       "    </tr>\n",
       "  </tbody>\n",
       "</table>\n",
       "</div>"
      ],
      "text/plain": [
       "                                               Title  Bedrooms  Bathrooms  \\\n",
       "0  We Are Offering You A Very Spacious 1960 Sq Ft...       3.0        4.0   \n",
       "1  Valuable 1705 Square Feet Apartment Is Ready T...       3.0        3.0   \n",
       "2  1370 square feet apartment is ready to sale in...       3.0        3.0   \n",
       "3  2125 Square Feet Apartment For Sale In Bashund...       3.0        3.0   \n",
       "4  Buy This 2687 Square Feet Flat In The Nice Are...       3.0        3.0   \n",
       "\n",
       "  Floor_no Occupancy_status  Floor_area   City Price_in_taka  \\\n",
       "0        3           vacant      1960.0  dhaka   ৳39,000,000   \n",
       "1        1           vacant      1705.0  dhaka   ৳16,900,000   \n",
       "2        6           vacant      1370.0  dhaka   ৳12,500,000   \n",
       "3        4           vacant      2125.0  dhaka   ৳20,000,000   \n",
       "4        4           vacant      2687.0  dhaka   ৳47,500,000   \n",
       "\n",
       "                      Location  \n",
       "0           Gulshan 1, Gulshan  \n",
       "1  Lake Circus Road, Kalabagan  \n",
       "2         Shukrabad, Dhanmondi  \n",
       "3     Block L, Bashundhara R-A  \n",
       "4           Road No 25, Banani  "
      ]
     },
     "execution_count": 2,
     "metadata": {},
     "output_type": "execute_result"
    }
   ],
   "source": [
    "data = pd.read_csv(\"/kaggle/input/house-price-bangladesh/house_price_bd.csv\")\n",
    "data.head(5)"
   ]
  },
  {
   "cell_type": "code",
   "execution_count": 3,
   "id": "9e798131",
   "metadata": {
    "execution": {
     "iopub.execute_input": "2025-01-11T19:58:15.906977Z",
     "iopub.status.busy": "2025-01-11T19:58:15.906565Z",
     "iopub.status.idle": "2025-01-11T19:58:15.912772Z",
     "shell.execute_reply": "2025-01-11T19:58:15.911617Z"
    },
    "papermill": {
     "duration": 0.019415,
     "end_time": "2025-01-11T19:58:15.914504",
     "exception": false,
     "start_time": "2025-01-11T19:58:15.895089",
     "status": "completed"
    },
    "tags": []
   },
   "outputs": [
    {
     "data": {
      "text/plain": [
       "(3865, 9)"
      ]
     },
     "execution_count": 3,
     "metadata": {},
     "output_type": "execute_result"
    }
   ],
   "source": [
    "data.shape"
   ]
  },
  {
   "cell_type": "code",
   "execution_count": 4,
   "id": "ee99d6dc",
   "metadata": {
    "execution": {
     "iopub.execute_input": "2025-01-11T19:58:15.936588Z",
     "iopub.status.busy": "2025-01-11T19:58:15.936228Z",
     "iopub.status.idle": "2025-01-11T19:58:15.958796Z",
     "shell.execute_reply": "2025-01-11T19:58:15.957500Z"
    },
    "papermill": {
     "duration": 0.036139,
     "end_time": "2025-01-11T19:58:15.960980",
     "exception": false,
     "start_time": "2025-01-11T19:58:15.924841",
     "status": "completed"
    },
    "tags": []
   },
   "outputs": [
    {
     "data": {
      "text/html": [
       "<div>\n",
       "<style scoped>\n",
       "    .dataframe tbody tr th:only-of-type {\n",
       "        vertical-align: middle;\n",
       "    }\n",
       "\n",
       "    .dataframe tbody tr th {\n",
       "        vertical-align: top;\n",
       "    }\n",
       "\n",
       "    .dataframe thead th {\n",
       "        text-align: right;\n",
       "    }\n",
       "</style>\n",
       "<table border=\"1\" class=\"dataframe\">\n",
       "  <thead>\n",
       "    <tr style=\"text-align: right;\">\n",
       "      <th></th>\n",
       "      <th>Bedrooms</th>\n",
       "      <th>Bathrooms</th>\n",
       "      <th>Floor_area</th>\n",
       "    </tr>\n",
       "  </thead>\n",
       "  <tbody>\n",
       "    <tr>\n",
       "      <th>count</th>\n",
       "      <td>2864.000000</td>\n",
       "      <td>2864.000000</td>\n",
       "      <td>3766.000000</td>\n",
       "    </tr>\n",
       "    <tr>\n",
       "      <th>mean</th>\n",
       "      <td>3.133031</td>\n",
       "      <td>2.992668</td>\n",
       "      <td>1940.299522</td>\n",
       "    </tr>\n",
       "    <tr>\n",
       "      <th>std</th>\n",
       "      <td>2.215457</td>\n",
       "      <td>0.978434</td>\n",
       "      <td>6024.921935</td>\n",
       "    </tr>\n",
       "    <tr>\n",
       "      <th>min</th>\n",
       "      <td>1.000000</td>\n",
       "      <td>1.000000</td>\n",
       "      <td>84.000000</td>\n",
       "    </tr>\n",
       "    <tr>\n",
       "      <th>25%</th>\n",
       "      <td>3.000000</td>\n",
       "      <td>3.000000</td>\n",
       "      <td>1100.000000</td>\n",
       "    </tr>\n",
       "    <tr>\n",
       "      <th>50%</th>\n",
       "      <td>3.000000</td>\n",
       "      <td>3.000000</td>\n",
       "      <td>1380.000000</td>\n",
       "    </tr>\n",
       "    <tr>\n",
       "      <th>75%</th>\n",
       "      <td>3.000000</td>\n",
       "      <td>3.000000</td>\n",
       "      <td>1860.000000</td>\n",
       "    </tr>\n",
       "    <tr>\n",
       "      <th>max</th>\n",
       "      <td>50.000000</td>\n",
       "      <td>10.000000</td>\n",
       "      <td>195840.000000</td>\n",
       "    </tr>\n",
       "  </tbody>\n",
       "</table>\n",
       "</div>"
      ],
      "text/plain": [
       "          Bedrooms    Bathrooms     Floor_area\n",
       "count  2864.000000  2864.000000    3766.000000\n",
       "mean      3.133031     2.992668    1940.299522\n",
       "std       2.215457     0.978434    6024.921935\n",
       "min       1.000000     1.000000      84.000000\n",
       "25%       3.000000     3.000000    1100.000000\n",
       "50%       3.000000     3.000000    1380.000000\n",
       "75%       3.000000     3.000000    1860.000000\n",
       "max      50.000000    10.000000  195840.000000"
      ]
     },
     "execution_count": 4,
     "metadata": {},
     "output_type": "execute_result"
    }
   ],
   "source": [
    "data.describe()"
   ]
  },
  {
   "cell_type": "code",
   "execution_count": 5,
   "id": "04203f44",
   "metadata": {
    "execution": {
     "iopub.execute_input": "2025-01-11T19:58:15.983334Z",
     "iopub.status.busy": "2025-01-11T19:58:15.982979Z",
     "iopub.status.idle": "2025-01-11T19:58:16.008819Z",
     "shell.execute_reply": "2025-01-11T19:58:16.007500Z"
    },
    "papermill": {
     "duration": 0.039107,
     "end_time": "2025-01-11T19:58:16.010637",
     "exception": false,
     "start_time": "2025-01-11T19:58:15.971530",
     "status": "completed"
    },
    "tags": []
   },
   "outputs": [
    {
     "name": "stdout",
     "output_type": "stream",
     "text": [
      "<class 'pandas.core.frame.DataFrame'>\n",
      "RangeIndex: 3865 entries, 0 to 3864\n",
      "Data columns (total 9 columns):\n",
      " #   Column            Non-Null Count  Dtype  \n",
      "---  ------            --------------  -----  \n",
      " 0   Title             3865 non-null   object \n",
      " 1   Bedrooms          2864 non-null   float64\n",
      " 2   Bathrooms         2864 non-null   float64\n",
      " 3   Floor_no          3181 non-null   object \n",
      " 4   Occupancy_status  3766 non-null   object \n",
      " 5   Floor_area        3766 non-null   float64\n",
      " 6   City              3865 non-null   object \n",
      " 7   Price_in_taka     3865 non-null   object \n",
      " 8   Location          3859 non-null   object \n",
      "dtypes: float64(3), object(6)\n",
      "memory usage: 271.9+ KB\n"
     ]
    }
   ],
   "source": [
    "data.info()"
   ]
  },
  {
   "cell_type": "code",
   "execution_count": 6,
   "id": "8f8b01c2",
   "metadata": {
    "execution": {
     "iopub.execute_input": "2025-01-11T19:58:16.033142Z",
     "iopub.status.busy": "2025-01-11T19:58:16.032730Z",
     "iopub.status.idle": "2025-01-11T19:58:16.040369Z",
     "shell.execute_reply": "2025-01-11T19:58:16.039183Z"
    },
    "papermill": {
     "duration": 0.020461,
     "end_time": "2025-01-11T19:58:16.042084",
     "exception": false,
     "start_time": "2025-01-11T19:58:16.021623",
     "status": "completed"
    },
    "tags": []
   },
   "outputs": [
    {
     "data": {
      "text/plain": [
       "Title                object\n",
       "Bedrooms            float64\n",
       "Bathrooms           float64\n",
       "Floor_no             object\n",
       "Occupancy_status     object\n",
       "Floor_area          float64\n",
       "City                 object\n",
       "Price_in_taka        object\n",
       "Location             object\n",
       "dtype: object"
      ]
     },
     "execution_count": 6,
     "metadata": {},
     "output_type": "execute_result"
    }
   ],
   "source": [
    "data.dtypes"
   ]
  },
  {
   "cell_type": "code",
   "execution_count": 7,
   "id": "f826893b",
   "metadata": {
    "execution": {
     "iopub.execute_input": "2025-01-11T19:58:16.066271Z",
     "iopub.status.busy": "2025-01-11T19:58:16.065922Z",
     "iopub.status.idle": "2025-01-11T19:58:16.075405Z",
     "shell.execute_reply": "2025-01-11T19:58:16.074208Z"
    },
    "papermill": {
     "duration": 0.024095,
     "end_time": "2025-01-11T19:58:16.077300",
     "exception": false,
     "start_time": "2025-01-11T19:58:16.053205",
     "status": "completed"
    },
    "tags": []
   },
   "outputs": [
    {
     "data": {
      "text/plain": [
       "Title                  0\n",
       "Bedrooms            1001\n",
       "Bathrooms           1001\n",
       "Floor_no             684\n",
       "Occupancy_status      99\n",
       "Floor_area            99\n",
       "City                   0\n",
       "Price_in_taka          0\n",
       "Location               6\n",
       "dtype: int64"
      ]
     },
     "execution_count": 7,
     "metadata": {},
     "output_type": "execute_result"
    }
   ],
   "source": [
    "data.isna().sum()"
   ]
  },
  {
   "cell_type": "code",
   "execution_count": 8,
   "id": "ce5e544f",
   "metadata": {
    "execution": {
     "iopub.execute_input": "2025-01-11T19:58:16.100033Z",
     "iopub.status.busy": "2025-01-11T19:58:16.099602Z",
     "iopub.status.idle": "2025-01-11T19:58:16.111718Z",
     "shell.execute_reply": "2025-01-11T19:58:16.110488Z"
    },
    "papermill": {
     "duration": 0.025405,
     "end_time": "2025-01-11T19:58:16.113557",
     "exception": false,
     "start_time": "2025-01-11T19:58:16.088152",
     "status": "completed"
    },
    "tags": []
   },
   "outputs": [
    {
     "data": {
      "text/plain": [
       "934"
      ]
     },
     "execution_count": 8,
     "metadata": {},
     "output_type": "execute_result"
    }
   ],
   "source": [
    "# check duplicates\n",
    "data.duplicated().sum()"
   ]
  },
  {
   "cell_type": "code",
   "execution_count": 9,
   "id": "163ed812",
   "metadata": {
    "execution": {
     "iopub.execute_input": "2025-01-11T19:58:16.136421Z",
     "iopub.status.busy": "2025-01-11T19:58:16.136049Z",
     "iopub.status.idle": "2025-01-11T19:58:16.145704Z",
     "shell.execute_reply": "2025-01-11T19:58:16.144643Z"
    },
    "papermill": {
     "duration": 0.023159,
     "end_time": "2025-01-11T19:58:16.147692",
     "exception": false,
     "start_time": "2025-01-11T19:58:16.124533",
     "status": "completed"
    },
    "tags": []
   },
   "outputs": [],
   "source": [
    "# Drop duplicate rows\n",
    "data.drop_duplicates(inplace=True)"
   ]
  },
  {
   "cell_type": "code",
   "execution_count": 10,
   "id": "9a9f3321",
   "metadata": {
    "execution": {
     "iopub.execute_input": "2025-01-11T19:58:16.171065Z",
     "iopub.status.busy": "2025-01-11T19:58:16.170446Z",
     "iopub.status.idle": "2025-01-11T19:58:16.180579Z",
     "shell.execute_reply": "2025-01-11T19:58:16.179532Z"
    },
    "papermill": {
     "duration": 0.023504,
     "end_time": "2025-01-11T19:58:16.182428",
     "exception": false,
     "start_time": "2025-01-11T19:58:16.158924",
     "status": "completed"
    },
    "tags": []
   },
   "outputs": [
    {
     "data": {
      "text/plain": [
       "0"
      ]
     },
     "execution_count": 10,
     "metadata": {},
     "output_type": "execute_result"
    }
   ],
   "source": [
    "# check again\n",
    "data.duplicated().sum()"
   ]
  },
  {
   "cell_type": "code",
   "execution_count": 11,
   "id": "e9d64fd3",
   "metadata": {
    "execution": {
     "iopub.execute_input": "2025-01-11T19:58:16.205441Z",
     "iopub.status.busy": "2025-01-11T19:58:16.205060Z",
     "iopub.status.idle": "2025-01-11T19:58:16.213910Z",
     "shell.execute_reply": "2025-01-11T19:58:16.212776Z"
    },
    "papermill": {
     "duration": 0.022511,
     "end_time": "2025-01-11T19:58:16.215883",
     "exception": false,
     "start_time": "2025-01-11T19:58:16.193372",
     "status": "completed"
    },
    "tags": []
   },
   "outputs": [
    {
     "name": "stdout",
     "output_type": "stream",
     "text": [
      "Column 'Bedrooms' unique values: [ 3.  4.  2. nan 16.  8.  5.  1.  6. 18. 46.  7. 13. 33. 50. 23. 21. 22.\n",
      " 20. 27. 15.]\n",
      "Column 'Bathrooms' unique values: [ 4.  3.  2. nan  5. 10.  1.  6.  8.]\n",
      "Column 'Floor_no' unique values: ['3' '1' '6' '4' '8' '2' '5' '7' '9' '8th' nan '10' '14' 'G+7' '13' '12'\n",
      " '1st' '11' 'A1,A2,A3,A4,A5,A6,A7' '0+7' '1F' '4th to 8th Backside' '18'\n",
      " '5th' '17' 'Merin City - Purbach']\n",
      "Column 'Occupancy_status' unique values: ['vacant' 'occupied' nan]\n"
     ]
    }
   ],
   "source": [
    "# Columns of interest\n",
    "columns_of_interest = ['Bedrooms', 'Bathrooms', 'Floor_no', 'Occupancy_status']\n",
    "\n",
    "# Extract and analyze specific columns\n",
    "for col in columns_of_interest:\n",
    "    if col in data.columns:\n",
    "        unique_values = data[col].unique()\n",
    "        print(f\"Column '{col}' unique values: {unique_values}\")"
   ]
  },
  {
   "cell_type": "code",
   "execution_count": 12,
   "id": "e751395f",
   "metadata": {
    "execution": {
     "iopub.execute_input": "2025-01-11T19:58:16.239443Z",
     "iopub.status.busy": "2025-01-11T19:58:16.239065Z",
     "iopub.status.idle": "2025-01-11T19:58:16.251539Z",
     "shell.execute_reply": "2025-01-11T19:58:16.250430Z"
    },
    "papermill": {
     "duration": 0.026427,
     "end_time": "2025-01-11T19:58:16.253404",
     "exception": false,
     "start_time": "2025-01-11T19:58:16.226977",
     "status": "completed"
    },
    "tags": []
   },
   "outputs": [],
   "source": [
    "data['Price_in_taka'] = data['Price_in_taka'].str.replace(',', '').str.replace('৳', '').astype(\"int64\")"
   ]
  },
  {
   "cell_type": "code",
   "execution_count": 13,
   "id": "c157e126",
   "metadata": {
    "execution": {
     "iopub.execute_input": "2025-01-11T19:58:16.278145Z",
     "iopub.status.busy": "2025-01-11T19:58:16.277689Z",
     "iopub.status.idle": "2025-01-11T19:58:16.283123Z",
     "shell.execute_reply": "2025-01-11T19:58:16.281795Z"
    },
    "papermill": {
     "duration": 0.019964,
     "end_time": "2025-01-11T19:58:16.285237",
     "exception": false,
     "start_time": "2025-01-11T19:58:16.265273",
     "status": "completed"
    },
    "tags": []
   },
   "outputs": [],
   "source": [
    "data['Price_in_taka'] = data['Price_in_taka'] / 1_000_000"
   ]
  },
  {
   "cell_type": "code",
   "execution_count": 14,
   "id": "00a1db2c",
   "metadata": {
    "execution": {
     "iopub.execute_input": "2025-01-11T19:58:16.308612Z",
     "iopub.status.busy": "2025-01-11T19:58:16.308236Z",
     "iopub.status.idle": "2025-01-11T19:58:16.313407Z",
     "shell.execute_reply": "2025-01-11T19:58:16.312075Z"
    },
    "papermill": {
     "duration": 0.01908,
     "end_time": "2025-01-11T19:58:16.315311",
     "exception": false,
     "start_time": "2025-01-11T19:58:16.296231",
     "status": "completed"
    },
    "tags": []
   },
   "outputs": [],
   "source": [
    "data.rename(columns={'Price_in_taka': 'Price_in_taka(M)'}, inplace=True)"
   ]
  },
  {
   "cell_type": "code",
   "execution_count": 15,
   "id": "d12b1e4e",
   "metadata": {
    "execution": {
     "iopub.execute_input": "2025-01-11T19:58:16.339169Z",
     "iopub.status.busy": "2025-01-11T19:58:16.338718Z",
     "iopub.status.idle": "2025-01-11T19:58:16.354739Z",
     "shell.execute_reply": "2025-01-11T19:58:16.353085Z"
    },
    "papermill": {
     "duration": 0.030304,
     "end_time": "2025-01-11T19:58:16.356825",
     "exception": false,
     "start_time": "2025-01-11T19:58:16.326521",
     "status": "completed"
    },
    "tags": []
   },
   "outputs": [
    {
     "data": {
      "text/html": [
       "<div>\n",
       "<style scoped>\n",
       "    .dataframe tbody tr th:only-of-type {\n",
       "        vertical-align: middle;\n",
       "    }\n",
       "\n",
       "    .dataframe tbody tr th {\n",
       "        vertical-align: top;\n",
       "    }\n",
       "\n",
       "    .dataframe thead th {\n",
       "        text-align: right;\n",
       "    }\n",
       "</style>\n",
       "<table border=\"1\" class=\"dataframe\">\n",
       "  <thead>\n",
       "    <tr style=\"text-align: right;\">\n",
       "      <th></th>\n",
       "      <th>Title</th>\n",
       "      <th>Bedrooms</th>\n",
       "      <th>Bathrooms</th>\n",
       "      <th>Floor_no</th>\n",
       "      <th>Occupancy_status</th>\n",
       "      <th>Floor_area</th>\n",
       "      <th>City</th>\n",
       "      <th>Price_in_taka(M)</th>\n",
       "      <th>Location</th>\n",
       "    </tr>\n",
       "  </thead>\n",
       "  <tbody>\n",
       "    <tr>\n",
       "      <th>0</th>\n",
       "      <td>We Are Offering You A Very Spacious 1960 Sq Ft...</td>\n",
       "      <td>3.0</td>\n",
       "      <td>4.0</td>\n",
       "      <td>3</td>\n",
       "      <td>vacant</td>\n",
       "      <td>1960.0</td>\n",
       "      <td>dhaka</td>\n",
       "      <td>39.0</td>\n",
       "      <td>Gulshan 1, Gulshan</td>\n",
       "    </tr>\n",
       "    <tr>\n",
       "      <th>1</th>\n",
       "      <td>Valuable 1705 Square Feet Apartment Is Ready T...</td>\n",
       "      <td>3.0</td>\n",
       "      <td>3.0</td>\n",
       "      <td>1</td>\n",
       "      <td>vacant</td>\n",
       "      <td>1705.0</td>\n",
       "      <td>dhaka</td>\n",
       "      <td>16.9</td>\n",
       "      <td>Lake Circus Road, Kalabagan</td>\n",
       "    </tr>\n",
       "    <tr>\n",
       "      <th>2</th>\n",
       "      <td>1370 square feet apartment is ready to sale in...</td>\n",
       "      <td>3.0</td>\n",
       "      <td>3.0</td>\n",
       "      <td>6</td>\n",
       "      <td>vacant</td>\n",
       "      <td>1370.0</td>\n",
       "      <td>dhaka</td>\n",
       "      <td>12.5</td>\n",
       "      <td>Shukrabad, Dhanmondi</td>\n",
       "    </tr>\n",
       "    <tr>\n",
       "      <th>3</th>\n",
       "      <td>2125 Square Feet Apartment For Sale In Bashund...</td>\n",
       "      <td>3.0</td>\n",
       "      <td>3.0</td>\n",
       "      <td>4</td>\n",
       "      <td>vacant</td>\n",
       "      <td>2125.0</td>\n",
       "      <td>dhaka</td>\n",
       "      <td>20.0</td>\n",
       "      <td>Block L, Bashundhara R-A</td>\n",
       "    </tr>\n",
       "    <tr>\n",
       "      <th>4</th>\n",
       "      <td>Buy This 2687 Square Feet Flat In The Nice Are...</td>\n",
       "      <td>3.0</td>\n",
       "      <td>3.0</td>\n",
       "      <td>4</td>\n",
       "      <td>vacant</td>\n",
       "      <td>2687.0</td>\n",
       "      <td>dhaka</td>\n",
       "      <td>47.5</td>\n",
       "      <td>Road No 25, Banani</td>\n",
       "    </tr>\n",
       "  </tbody>\n",
       "</table>\n",
       "</div>"
      ],
      "text/plain": [
       "                                               Title  Bedrooms  Bathrooms  \\\n",
       "0  We Are Offering You A Very Spacious 1960 Sq Ft...       3.0        4.0   \n",
       "1  Valuable 1705 Square Feet Apartment Is Ready T...       3.0        3.0   \n",
       "2  1370 square feet apartment is ready to sale in...       3.0        3.0   \n",
       "3  2125 Square Feet Apartment For Sale In Bashund...       3.0        3.0   \n",
       "4  Buy This 2687 Square Feet Flat In The Nice Are...       3.0        3.0   \n",
       "\n",
       "  Floor_no Occupancy_status  Floor_area   City  Price_in_taka(M)  \\\n",
       "0        3           vacant      1960.0  dhaka              39.0   \n",
       "1        1           vacant      1705.0  dhaka              16.9   \n",
       "2        6           vacant      1370.0  dhaka              12.5   \n",
       "3        4           vacant      2125.0  dhaka              20.0   \n",
       "4        4           vacant      2687.0  dhaka              47.5   \n",
       "\n",
       "                      Location  \n",
       "0           Gulshan 1, Gulshan  \n",
       "1  Lake Circus Road, Kalabagan  \n",
       "2         Shukrabad, Dhanmondi  \n",
       "3     Block L, Bashundhara R-A  \n",
       "4           Road No 25, Banani  "
      ]
     },
     "execution_count": 15,
     "metadata": {},
     "output_type": "execute_result"
    }
   ],
   "source": [
    "data.head()"
   ]
  },
  {
   "cell_type": "code",
   "execution_count": 16,
   "id": "02860fc4",
   "metadata": {
    "execution": {
     "iopub.execute_input": "2025-01-11T19:58:16.381415Z",
     "iopub.status.busy": "2025-01-11T19:58:16.381044Z",
     "iopub.status.idle": "2025-01-11T19:58:16.387631Z",
     "shell.execute_reply": "2025-01-11T19:58:16.386486Z"
    },
    "papermill": {
     "duration": 0.021034,
     "end_time": "2025-01-11T19:58:16.389315",
     "exception": false,
     "start_time": "2025-01-11T19:58:16.368281",
     "status": "completed"
    },
    "tags": []
   },
   "outputs": [
    {
     "data": {
      "text/plain": [
       "array(['3', '1', '6', '4', '8', '2', '5', '7', '9', '8th', nan, '10',\n",
       "       '14', 'G+7', '13', '12', '1st', '11', 'A1,A2,A3,A4,A5,A6,A7',\n",
       "       '0+7', '1F', '4th to 8th Backside', '18', '5th', '17',\n",
       "       'Merin City - Purbach'], dtype=object)"
      ]
     },
     "execution_count": 16,
     "metadata": {},
     "output_type": "execute_result"
    }
   ],
   "source": [
    "data['Floor_no'].unique()"
   ]
  },
  {
   "cell_type": "code",
   "execution_count": 17,
   "id": "9d9acac7",
   "metadata": {
    "execution": {
     "iopub.execute_input": "2025-01-11T19:58:16.413061Z",
     "iopub.status.busy": "2025-01-11T19:58:16.412620Z",
     "iopub.status.idle": "2025-01-11T19:58:16.428280Z",
     "shell.execute_reply": "2025-01-11T19:58:16.426876Z"
    },
    "papermill": {
     "duration": 0.029852,
     "end_time": "2025-01-11T19:58:16.430364",
     "exception": false,
     "start_time": "2025-01-11T19:58:16.400512",
     "status": "completed"
    },
    "tags": []
   },
   "outputs": [
    {
     "data": {
      "text/html": [
       "<div>\n",
       "<style scoped>\n",
       "    .dataframe tbody tr th:only-of-type {\n",
       "        vertical-align: middle;\n",
       "    }\n",
       "\n",
       "    .dataframe tbody tr th {\n",
       "        vertical-align: top;\n",
       "    }\n",
       "\n",
       "    .dataframe thead th {\n",
       "        text-align: right;\n",
       "    }\n",
       "</style>\n",
       "<table border=\"1\" class=\"dataframe\">\n",
       "  <thead>\n",
       "    <tr style=\"text-align: right;\">\n",
       "      <th></th>\n",
       "      <th>Title</th>\n",
       "      <th>Bedrooms</th>\n",
       "      <th>Bathrooms</th>\n",
       "      <th>Floor_no</th>\n",
       "      <th>Occupancy_status</th>\n",
       "      <th>Floor_area</th>\n",
       "      <th>City</th>\n",
       "      <th>Price_in_taka(M)</th>\n",
       "      <th>Location</th>\n",
       "    </tr>\n",
       "  </thead>\n",
       "  <tbody>\n",
       "    <tr>\n",
       "      <th>3313</th>\n",
       "      <td>Plot For Sale In A Suitable Place In Bproperty...</td>\n",
       "      <td>NaN</td>\n",
       "      <td>NaN</td>\n",
       "      <td>Merin City - Purbach</td>\n",
       "      <td>vacant</td>\n",
       "      <td>2160.0</td>\n",
       "      <td>narayanganj-city</td>\n",
       "      <td>4.575</td>\n",
       "      <td>Rupganj, Narayanganj</td>\n",
       "    </tr>\n",
       "    <tr>\n",
       "      <th>3388</th>\n",
       "      <td>For Sale, Residential Plot Is Situated In Bpro...</td>\n",
       "      <td>NaN</td>\n",
       "      <td>NaN</td>\n",
       "      <td>Merin City - Purbach</td>\n",
       "      <td>vacant</td>\n",
       "      <td>2160.0</td>\n",
       "      <td>narayanganj-city</td>\n",
       "      <td>4.575</td>\n",
       "      <td>Rupganj, Narayanganj</td>\n",
       "    </tr>\n",
       "    <tr>\n",
       "      <th>3392</th>\n",
       "      <td>Plot For Sale In A Suitable Place In Bproperty...</td>\n",
       "      <td>NaN</td>\n",
       "      <td>NaN</td>\n",
       "      <td>Merin City - Purbach</td>\n",
       "      <td>vacant</td>\n",
       "      <td>2160.0</td>\n",
       "      <td>narayanganj-city</td>\n",
       "      <td>4.575</td>\n",
       "      <td>Rupganj, Narayanganj</td>\n",
       "    </tr>\n",
       "    <tr>\n",
       "      <th>3393</th>\n",
       "      <td>Plot For Sale In A Suitable Place In Bproperty...</td>\n",
       "      <td>NaN</td>\n",
       "      <td>NaN</td>\n",
       "      <td>Merin City - Purbach</td>\n",
       "      <td>vacant</td>\n",
       "      <td>2160.0</td>\n",
       "      <td>narayanganj-city</td>\n",
       "      <td>4.575</td>\n",
       "      <td>Rupganj, Narayanganj</td>\n",
       "    </tr>\n",
       "    <tr>\n",
       "      <th>3432</th>\n",
       "      <td>In The Beautiful Location Of Bproperty Village...</td>\n",
       "      <td>NaN</td>\n",
       "      <td>NaN</td>\n",
       "      <td>Merin City - Purbach</td>\n",
       "      <td>vacant</td>\n",
       "      <td>2160.0</td>\n",
       "      <td>narayanganj-city</td>\n",
       "      <td>4.575</td>\n",
       "      <td>Rupganj, Narayanganj</td>\n",
       "    </tr>\n",
       "    <tr>\n",
       "      <th>3492</th>\n",
       "      <td>Plot For Sale In A Suitable Place In Narayanga...</td>\n",
       "      <td>NaN</td>\n",
       "      <td>NaN</td>\n",
       "      <td>Merin City - Purbach</td>\n",
       "      <td>vacant</td>\n",
       "      <td>2160.0</td>\n",
       "      <td>narayanganj-city</td>\n",
       "      <td>4.575</td>\n",
       "      <td>Rupganj, Narayanganj</td>\n",
       "    </tr>\n",
       "  </tbody>\n",
       "</table>\n",
       "</div>"
      ],
      "text/plain": [
       "                                                  Title  Bedrooms  Bathrooms  \\\n",
       "3313  Plot For Sale In A Suitable Place In Bproperty...       NaN        NaN   \n",
       "3388  For Sale, Residential Plot Is Situated In Bpro...       NaN        NaN   \n",
       "3392  Plot For Sale In A Suitable Place In Bproperty...       NaN        NaN   \n",
       "3393  Plot For Sale In A Suitable Place In Bproperty...       NaN        NaN   \n",
       "3432  In The Beautiful Location Of Bproperty Village...       NaN        NaN   \n",
       "3492  Plot For Sale In A Suitable Place In Narayanga...       NaN        NaN   \n",
       "\n",
       "                  Floor_no Occupancy_status  Floor_area              City  \\\n",
       "3313  Merin City - Purbach           vacant      2160.0  narayanganj-city   \n",
       "3388  Merin City - Purbach           vacant      2160.0  narayanganj-city   \n",
       "3392  Merin City - Purbach           vacant      2160.0  narayanganj-city   \n",
       "3393  Merin City - Purbach           vacant      2160.0  narayanganj-city   \n",
       "3432  Merin City - Purbach           vacant      2160.0  narayanganj-city   \n",
       "3492  Merin City - Purbach           vacant      2160.0  narayanganj-city   \n",
       "\n",
       "      Price_in_taka(M)              Location  \n",
       "3313             4.575  Rupganj, Narayanganj  \n",
       "3388             4.575  Rupganj, Narayanganj  \n",
       "3392             4.575  Rupganj, Narayanganj  \n",
       "3393             4.575  Rupganj, Narayanganj  \n",
       "3432             4.575  Rupganj, Narayanganj  \n",
       "3492             4.575  Rupganj, Narayanganj  "
      ]
     },
     "execution_count": 17,
     "metadata": {},
     "output_type": "execute_result"
    }
   ],
   "source": [
    "data[data['Floor_no'] == 'Merin City - Purbach']"
   ]
  },
  {
   "cell_type": "code",
   "execution_count": 18,
   "id": "e009fdda",
   "metadata": {
    "execution": {
     "iopub.execute_input": "2025-01-11T19:58:16.455826Z",
     "iopub.status.busy": "2025-01-11T19:58:16.455368Z",
     "iopub.status.idle": "2025-01-11T19:58:16.469660Z",
     "shell.execute_reply": "2025-01-11T19:58:16.468502Z"
    },
    "papermill": {
     "duration": 0.028809,
     "end_time": "2025-01-11T19:58:16.471360",
     "exception": false,
     "start_time": "2025-01-11T19:58:16.442551",
     "status": "completed"
    },
    "tags": []
   },
   "outputs": [
    {
     "data": {
      "text/html": [
       "<div>\n",
       "<style scoped>\n",
       "    .dataframe tbody tr th:only-of-type {\n",
       "        vertical-align: middle;\n",
       "    }\n",
       "\n",
       "    .dataframe tbody tr th {\n",
       "        vertical-align: top;\n",
       "    }\n",
       "\n",
       "    .dataframe thead th {\n",
       "        text-align: right;\n",
       "    }\n",
       "</style>\n",
       "<table border=\"1\" class=\"dataframe\">\n",
       "  <thead>\n",
       "    <tr style=\"text-align: right;\">\n",
       "      <th></th>\n",
       "      <th>Title</th>\n",
       "      <th>Bedrooms</th>\n",
       "      <th>Bathrooms</th>\n",
       "      <th>Floor_no</th>\n",
       "      <th>Occupancy_status</th>\n",
       "      <th>Floor_area</th>\n",
       "      <th>City</th>\n",
       "      <th>Price_in_taka(M)</th>\n",
       "      <th>Location</th>\n",
       "    </tr>\n",
       "  </thead>\n",
       "  <tbody>\n",
       "    <tr>\n",
       "      <th>1663</th>\n",
       "      <td>A Full Building Is For Sale In Sugandha Reside...</td>\n",
       "      <td>18.0</td>\n",
       "      <td>10.0</td>\n",
       "      <td>A1,A2,A3,A4,A5,A6,A7</td>\n",
       "      <td>vacant</td>\n",
       "      <td>10890.0</td>\n",
       "      <td>chattogram</td>\n",
       "      <td>105.0</td>\n",
       "      <td>Sugandha Residential Area, Panchlaish</td>\n",
       "    </tr>\n",
       "  </tbody>\n",
       "</table>\n",
       "</div>"
      ],
      "text/plain": [
       "                                                  Title  Bedrooms  Bathrooms  \\\n",
       "1663  A Full Building Is For Sale In Sugandha Reside...      18.0       10.0   \n",
       "\n",
       "                  Floor_no Occupancy_status  Floor_area        City  \\\n",
       "1663  A1,A2,A3,A4,A5,A6,A7           vacant     10890.0  chattogram   \n",
       "\n",
       "      Price_in_taka(M)                               Location  \n",
       "1663             105.0  Sugandha Residential Area, Panchlaish  "
      ]
     },
     "execution_count": 18,
     "metadata": {},
     "output_type": "execute_result"
    }
   ],
   "source": [
    "data[data['Floor_no'] == 'A1,A2,A3,A4,A5,A6,A7']"
   ]
  },
  {
   "cell_type": "code",
   "execution_count": 19,
   "id": "d6fcd176",
   "metadata": {
    "execution": {
     "iopub.execute_input": "2025-01-11T19:58:16.496291Z",
     "iopub.status.busy": "2025-01-11T19:58:16.495922Z",
     "iopub.status.idle": "2025-01-11T19:58:16.509649Z",
     "shell.execute_reply": "2025-01-11T19:58:16.508496Z"
    },
    "papermill": {
     "duration": 0.028214,
     "end_time": "2025-01-11T19:58:16.511478",
     "exception": false,
     "start_time": "2025-01-11T19:58:16.483264",
     "status": "completed"
    },
    "tags": []
   },
   "outputs": [
    {
     "data": {
      "text/html": [
       "<div>\n",
       "<style scoped>\n",
       "    .dataframe tbody tr th:only-of-type {\n",
       "        vertical-align: middle;\n",
       "    }\n",
       "\n",
       "    .dataframe tbody tr th {\n",
       "        vertical-align: top;\n",
       "    }\n",
       "\n",
       "    .dataframe thead th {\n",
       "        text-align: right;\n",
       "    }\n",
       "</style>\n",
       "<table border=\"1\" class=\"dataframe\">\n",
       "  <thead>\n",
       "    <tr style=\"text-align: right;\">\n",
       "      <th></th>\n",
       "      <th>Title</th>\n",
       "      <th>Bedrooms</th>\n",
       "      <th>Bathrooms</th>\n",
       "      <th>Floor_no</th>\n",
       "      <th>Occupancy_status</th>\n",
       "      <th>Floor_area</th>\n",
       "      <th>City</th>\n",
       "      <th>Price_in_taka(M)</th>\n",
       "      <th>Location</th>\n",
       "    </tr>\n",
       "  </thead>\n",
       "  <tbody>\n",
       "    <tr>\n",
       "      <th>2674</th>\n",
       "      <td>An Apartment Is Up For Sale In Dakshin Kattali...</td>\n",
       "      <td>3.0</td>\n",
       "      <td>3.0</td>\n",
       "      <td>4th to 8th Backside</td>\n",
       "      <td>vacant</td>\n",
       "      <td>1250.0</td>\n",
       "      <td>chattogram</td>\n",
       "      <td>3.8</td>\n",
       "      <td>Dakshin Kattali, 11 No. South Kattali Ward</td>\n",
       "    </tr>\n",
       "  </tbody>\n",
       "</table>\n",
       "</div>"
      ],
      "text/plain": [
       "                                                  Title  Bedrooms  Bathrooms  \\\n",
       "2674  An Apartment Is Up For Sale In Dakshin Kattali...       3.0        3.0   \n",
       "\n",
       "                 Floor_no Occupancy_status  Floor_area        City  \\\n",
       "2674  4th to 8th Backside           vacant      1250.0  chattogram   \n",
       "\n",
       "      Price_in_taka(M)                                    Location  \n",
       "2674               3.8  Dakshin Kattali, 11 No. South Kattali Ward  "
      ]
     },
     "execution_count": 19,
     "metadata": {},
     "output_type": "execute_result"
    }
   ],
   "source": [
    "data[data['Floor_no'] == '4th to 8th Backside']"
   ]
  },
  {
   "cell_type": "code",
   "execution_count": 20,
   "id": "4e16997d",
   "metadata": {
    "execution": {
     "iopub.execute_input": "2025-01-11T19:58:16.537196Z",
     "iopub.status.busy": "2025-01-11T19:58:16.536851Z",
     "iopub.status.idle": "2025-01-11T19:58:16.542278Z",
     "shell.execute_reply": "2025-01-11T19:58:16.540855Z"
    },
    "papermill": {
     "duration": 0.020017,
     "end_time": "2025-01-11T19:58:16.544031",
     "exception": false,
     "start_time": "2025-01-11T19:58:16.524014",
     "status": "completed"
    },
    "tags": []
   },
   "outputs": [
    {
     "name": "stdout",
     "output_type": "stream",
     "text": [
      "(2931, 9)\n"
     ]
    }
   ],
   "source": [
    "print(data.shape)"
   ]
  },
  {
   "cell_type": "code",
   "execution_count": 21,
   "id": "29ae8e1f",
   "metadata": {
    "execution": {
     "iopub.execute_input": "2025-01-11T19:58:16.569962Z",
     "iopub.status.busy": "2025-01-11T19:58:16.569504Z",
     "iopub.status.idle": "2025-01-11T19:58:16.580527Z",
     "shell.execute_reply": "2025-01-11T19:58:16.579277Z"
    },
    "papermill": {
     "duration": 0.026332,
     "end_time": "2025-01-11T19:58:16.582401",
     "exception": false,
     "start_time": "2025-01-11T19:58:16.556069",
     "status": "completed"
    },
    "tags": []
   },
   "outputs": [],
   "source": [
    "# Step 1: Fix `Floor_no` values\n",
    "def clean_floor_no(value):\n",
    "    if pd.isna(value):\n",
    "        return value\n",
    "    value = str(value).strip().lower()\n",
    "    if value.endswith('th') or value.endswith('st') or value.endswith('f'):\n",
    "        return int(''.join(filter(str.isdigit, value)))\n",
    "    if value == 'g+7' or value == '0+7':\n",
    "        return 7\n",
    "    if value == 'a1,a2,a3,a4,a5,a6,a7':\n",
    "        return 'A1-A7'  # Placeholder for later row expansion\n",
    "    if value == '4th to 8th backside':\n",
    "        return '4-8'  # Placeholder for later row expansion\n",
    "    if value == 'Merin City - Purbach':\n",
    "        return np.nan\n",
    "    return value\n",
    "\n",
    "data['Floor_no'] = data['Floor_no'].apply(clean_floor_no)\n"
   ]
  },
  {
   "cell_type": "code",
   "execution_count": 22,
   "id": "bd35678f",
   "metadata": {
    "execution": {
     "iopub.execute_input": "2025-01-11T19:58:16.608448Z",
     "iopub.status.busy": "2025-01-11T19:58:16.608094Z",
     "iopub.status.idle": "2025-01-11T19:58:16.621936Z",
     "shell.execute_reply": "2025-01-11T19:58:16.620800Z"
    },
    "papermill": {
     "duration": 0.028849,
     "end_time": "2025-01-11T19:58:16.623689",
     "exception": false,
     "start_time": "2025-01-11T19:58:16.594840",
     "status": "completed"
    },
    "tags": []
   },
   "outputs": [],
   "source": [
    "# Step 2: Expand rows for specific cases\n",
    "# Case: 'A1,A2,A3,A4,A5,A6,A7'\n",
    "a1_a7_data = data[data['Floor_no'] == 'A1-A7'].copy()\n",
    "a1_a7_expanded = pd.DataFrame()\n",
    "\n",
    "for i in range(1, 8):\n",
    "    temp = a1_a7_data.copy()\n",
    "    temp['Floor_no'] = i\n",
    "    a1_a7_expanded = pd.concat([a1_a7_expanded, temp], ignore_index=True)"
   ]
  },
  {
   "cell_type": "code",
   "execution_count": 23,
   "id": "ac9e556e",
   "metadata": {
    "execution": {
     "iopub.execute_input": "2025-01-11T19:58:16.650989Z",
     "iopub.status.busy": "2025-01-11T19:58:16.650579Z",
     "iopub.status.idle": "2025-01-11T19:58:16.663351Z",
     "shell.execute_reply": "2025-01-11T19:58:16.662106Z"
    },
    "papermill": {
     "duration": 0.028402,
     "end_time": "2025-01-11T19:58:16.665547",
     "exception": false,
     "start_time": "2025-01-11T19:58:16.637145",
     "status": "completed"
    },
    "tags": []
   },
   "outputs": [],
   "source": [
    "# Case: '4th to 8th Backside'\n",
    "four_to_eight_data = data[data['Floor_no'] == '4-8'].copy()\n",
    "four_to_eight_expanded = pd.DataFrame()\n",
    "\n",
    "for i in range(4, 9):\n",
    "    temp = four_to_eight_data.copy()\n",
    "    temp['Floor_no'] = i\n",
    "    four_to_eight_expanded = pd.concat([four_to_eight_expanded, temp], ignore_index=True)"
   ]
  },
  {
   "cell_type": "code",
   "execution_count": 24,
   "id": "1579ef5d",
   "metadata": {
    "execution": {
     "iopub.execute_input": "2025-01-11T19:58:16.691932Z",
     "iopub.status.busy": "2025-01-11T19:58:16.691470Z",
     "iopub.status.idle": "2025-01-11T19:58:16.702090Z",
     "shell.execute_reply": "2025-01-11T19:58:16.700813Z"
    },
    "papermill": {
     "duration": 0.026291,
     "end_time": "2025-01-11T19:58:16.704074",
     "exception": false,
     "start_time": "2025-01-11T19:58:16.677783",
     "status": "completed"
    },
    "tags": []
   },
   "outputs": [],
   "source": [
    "# Remove rows with placeholders and add expanded rows\n",
    "data = data[~data['Floor_no'].isin(['A1-A7', '4-8'])]\n",
    "data = pd.concat([data, a1_a7_expanded, four_to_eight_expanded], ignore_index=True)\n",
    "\n",
    "# Convert `Floor_no` to numeric\n",
    "data['Floor_no'] = pd.to_numeric(data['Floor_no'], errors='coerce')"
   ]
  },
  {
   "cell_type": "code",
   "execution_count": 25,
   "id": "bd2f6d94",
   "metadata": {
    "execution": {
     "iopub.execute_input": "2025-01-11T19:58:16.729047Z",
     "iopub.status.busy": "2025-01-11T19:58:16.728640Z",
     "iopub.status.idle": "2025-01-11T19:58:16.744140Z",
     "shell.execute_reply": "2025-01-11T19:58:16.742984Z"
    },
    "papermill": {
     "duration": 0.029984,
     "end_time": "2025-01-11T19:58:16.745959",
     "exception": false,
     "start_time": "2025-01-11T19:58:16.715975",
     "status": "completed"
    },
    "tags": []
   },
   "outputs": [
    {
     "data": {
      "text/html": [
       "<div>\n",
       "<style scoped>\n",
       "    .dataframe tbody tr th:only-of-type {\n",
       "        vertical-align: middle;\n",
       "    }\n",
       "\n",
       "    .dataframe tbody tr th {\n",
       "        vertical-align: top;\n",
       "    }\n",
       "\n",
       "    .dataframe thead th {\n",
       "        text-align: right;\n",
       "    }\n",
       "</style>\n",
       "<table border=\"1\" class=\"dataframe\">\n",
       "  <thead>\n",
       "    <tr style=\"text-align: right;\">\n",
       "      <th></th>\n",
       "      <th>Title</th>\n",
       "      <th>Bedrooms</th>\n",
       "      <th>Bathrooms</th>\n",
       "      <th>Floor_no</th>\n",
       "      <th>Occupancy_status</th>\n",
       "      <th>Floor_area</th>\n",
       "      <th>City</th>\n",
       "      <th>Price_in_taka(M)</th>\n",
       "      <th>Location</th>\n",
       "    </tr>\n",
       "  </thead>\n",
       "  <tbody>\n",
       "    <tr>\n",
       "      <th>0</th>\n",
       "      <td>We Are Offering You A Very Spacious 1960 Sq Ft...</td>\n",
       "      <td>3.0</td>\n",
       "      <td>4.0</td>\n",
       "      <td>3.0</td>\n",
       "      <td>vacant</td>\n",
       "      <td>1960.0</td>\n",
       "      <td>dhaka</td>\n",
       "      <td>39.0</td>\n",
       "      <td>Gulshan 1, Gulshan</td>\n",
       "    </tr>\n",
       "    <tr>\n",
       "      <th>1</th>\n",
       "      <td>Valuable 1705 Square Feet Apartment Is Ready T...</td>\n",
       "      <td>3.0</td>\n",
       "      <td>3.0</td>\n",
       "      <td>1.0</td>\n",
       "      <td>vacant</td>\n",
       "      <td>1705.0</td>\n",
       "      <td>dhaka</td>\n",
       "      <td>16.9</td>\n",
       "      <td>Lake Circus Road, Kalabagan</td>\n",
       "    </tr>\n",
       "    <tr>\n",
       "      <th>2</th>\n",
       "      <td>1370 square feet apartment is ready to sale in...</td>\n",
       "      <td>3.0</td>\n",
       "      <td>3.0</td>\n",
       "      <td>6.0</td>\n",
       "      <td>vacant</td>\n",
       "      <td>1370.0</td>\n",
       "      <td>dhaka</td>\n",
       "      <td>12.5</td>\n",
       "      <td>Shukrabad, Dhanmondi</td>\n",
       "    </tr>\n",
       "    <tr>\n",
       "      <th>3</th>\n",
       "      <td>2125 Square Feet Apartment For Sale In Bashund...</td>\n",
       "      <td>3.0</td>\n",
       "      <td>3.0</td>\n",
       "      <td>4.0</td>\n",
       "      <td>vacant</td>\n",
       "      <td>2125.0</td>\n",
       "      <td>dhaka</td>\n",
       "      <td>20.0</td>\n",
       "      <td>Block L, Bashundhara R-A</td>\n",
       "    </tr>\n",
       "    <tr>\n",
       "      <th>4</th>\n",
       "      <td>Buy This 2687 Square Feet Flat In The Nice Are...</td>\n",
       "      <td>3.0</td>\n",
       "      <td>3.0</td>\n",
       "      <td>4.0</td>\n",
       "      <td>vacant</td>\n",
       "      <td>2687.0</td>\n",
       "      <td>dhaka</td>\n",
       "      <td>47.5</td>\n",
       "      <td>Road No 25, Banani</td>\n",
       "    </tr>\n",
       "  </tbody>\n",
       "</table>\n",
       "</div>"
      ],
      "text/plain": [
       "                                               Title  Bedrooms  Bathrooms  \\\n",
       "0  We Are Offering You A Very Spacious 1960 Sq Ft...       3.0        4.0   \n",
       "1  Valuable 1705 Square Feet Apartment Is Ready T...       3.0        3.0   \n",
       "2  1370 square feet apartment is ready to sale in...       3.0        3.0   \n",
       "3  2125 Square Feet Apartment For Sale In Bashund...       3.0        3.0   \n",
       "4  Buy This 2687 Square Feet Flat In The Nice Are...       3.0        3.0   \n",
       "\n",
       "   Floor_no Occupancy_status  Floor_area   City  Price_in_taka(M)  \\\n",
       "0       3.0           vacant      1960.0  dhaka              39.0   \n",
       "1       1.0           vacant      1705.0  dhaka              16.9   \n",
       "2       6.0           vacant      1370.0  dhaka              12.5   \n",
       "3       4.0           vacant      2125.0  dhaka              20.0   \n",
       "4       4.0           vacant      2687.0  dhaka              47.5   \n",
       "\n",
       "                      Location  \n",
       "0           Gulshan 1, Gulshan  \n",
       "1  Lake Circus Road, Kalabagan  \n",
       "2         Shukrabad, Dhanmondi  \n",
       "3     Block L, Bashundhara R-A  \n",
       "4           Road No 25, Banani  "
      ]
     },
     "execution_count": 25,
     "metadata": {},
     "output_type": "execute_result"
    }
   ],
   "source": [
    "data.head()"
   ]
  },
  {
   "cell_type": "code",
   "execution_count": 26,
   "id": "e8e92bb1",
   "metadata": {
    "execution": {
     "iopub.execute_input": "2025-01-11T19:58:16.772584Z",
     "iopub.status.busy": "2025-01-11T19:58:16.772170Z",
     "iopub.status.idle": "2025-01-11T19:58:16.778440Z",
     "shell.execute_reply": "2025-01-11T19:58:16.777325Z"
    },
    "papermill": {
     "duration": 0.021752,
     "end_time": "2025-01-11T19:58:16.780178",
     "exception": false,
     "start_time": "2025-01-11T19:58:16.758426",
     "status": "completed"
    },
    "tags": []
   },
   "outputs": [
    {
     "data": {
      "text/plain": [
       "(2941, 9)"
      ]
     },
     "execution_count": 26,
     "metadata": {},
     "output_type": "execute_result"
    }
   ],
   "source": [
    "data.shape"
   ]
  },
  {
   "cell_type": "code",
   "execution_count": 27,
   "id": "640b0375",
   "metadata": {
    "execution": {
     "iopub.execute_input": "2025-01-11T19:58:16.805725Z",
     "iopub.status.busy": "2025-01-11T19:58:16.805355Z",
     "iopub.status.idle": "2025-01-11T19:58:16.821987Z",
     "shell.execute_reply": "2025-01-11T19:58:16.820660Z"
    },
    "papermill": {
     "duration": 0.031647,
     "end_time": "2025-01-11T19:58:16.824014",
     "exception": false,
     "start_time": "2025-01-11T19:58:16.792367",
     "status": "completed"
    },
    "tags": []
   },
   "outputs": [
    {
     "data": {
      "text/html": [
       "<div>\n",
       "<style scoped>\n",
       "    .dataframe tbody tr th:only-of-type {\n",
       "        vertical-align: middle;\n",
       "    }\n",
       "\n",
       "    .dataframe tbody tr th {\n",
       "        vertical-align: top;\n",
       "    }\n",
       "\n",
       "    .dataframe thead th {\n",
       "        text-align: right;\n",
       "    }\n",
       "</style>\n",
       "<table border=\"1\" class=\"dataframe\">\n",
       "  <thead>\n",
       "    <tr style=\"text-align: right;\">\n",
       "      <th></th>\n",
       "      <th>Title</th>\n",
       "      <th>Bedrooms</th>\n",
       "      <th>Bathrooms</th>\n",
       "      <th>Floor_no</th>\n",
       "      <th>Occupancy_status</th>\n",
       "      <th>Floor_area</th>\n",
       "      <th>City</th>\n",
       "      <th>Price_in_taka(M)</th>\n",
       "      <th>Location</th>\n",
       "    </tr>\n",
       "  </thead>\n",
       "  <tbody>\n",
       "    <tr>\n",
       "      <th>1243</th>\n",
       "      <td>Start Your New Home, In This Reasonable And Co...</td>\n",
       "      <td>4.0</td>\n",
       "      <td>3.0</td>\n",
       "      <td>5.0</td>\n",
       "      <td>vacant</td>\n",
       "      <td>1500.0</td>\n",
       "      <td>chattogram</td>\n",
       "      <td>6.0</td>\n",
       "      <td>Dakshin Kattali, 11 No. South Kattali Ward</td>\n",
       "    </tr>\n",
       "    <tr>\n",
       "      <th>1258</th>\n",
       "      <td>Visit This 825 Sq Ft Flat For Sale In Dakshin ...</td>\n",
       "      <td>3.0</td>\n",
       "      <td>3.0</td>\n",
       "      <td>3.0</td>\n",
       "      <td>vacant</td>\n",
       "      <td>825.0</td>\n",
       "      <td>chattogram</td>\n",
       "      <td>3.7</td>\n",
       "      <td>Dakshin Kattali, 11 No. South Kattali Ward</td>\n",
       "    </tr>\n",
       "    <tr>\n",
       "      <th>1981</th>\n",
       "      <td>1200 Sq Ft Flat With Great Residential Service...</td>\n",
       "      <td>3.0</td>\n",
       "      <td>3.0</td>\n",
       "      <td>4.0</td>\n",
       "      <td>vacant</td>\n",
       "      <td>1200.0</td>\n",
       "      <td>chattogram</td>\n",
       "      <td>8.0</td>\n",
       "      <td>Dakshin Kattali, 11 No. South Kattali Ward</td>\n",
       "    </tr>\n",
       "    <tr>\n",
       "      <th>2936</th>\n",
       "      <td>An Apartment Is Up For Sale In Dakshin Kattali...</td>\n",
       "      <td>3.0</td>\n",
       "      <td>3.0</td>\n",
       "      <td>4.0</td>\n",
       "      <td>vacant</td>\n",
       "      <td>1250.0</td>\n",
       "      <td>chattogram</td>\n",
       "      <td>3.8</td>\n",
       "      <td>Dakshin Kattali, 11 No. South Kattali Ward</td>\n",
       "    </tr>\n",
       "    <tr>\n",
       "      <th>2937</th>\n",
       "      <td>An Apartment Is Up For Sale In Dakshin Kattali...</td>\n",
       "      <td>3.0</td>\n",
       "      <td>3.0</td>\n",
       "      <td>5.0</td>\n",
       "      <td>vacant</td>\n",
       "      <td>1250.0</td>\n",
       "      <td>chattogram</td>\n",
       "      <td>3.8</td>\n",
       "      <td>Dakshin Kattali, 11 No. South Kattali Ward</td>\n",
       "    </tr>\n",
       "  </tbody>\n",
       "</table>\n",
       "</div>"
      ],
      "text/plain": [
       "                                                  Title  Bedrooms  Bathrooms  \\\n",
       "1243  Start Your New Home, In This Reasonable And Co...       4.0        3.0   \n",
       "1258  Visit This 825 Sq Ft Flat For Sale In Dakshin ...       3.0        3.0   \n",
       "1981  1200 Sq Ft Flat With Great Residential Service...       3.0        3.0   \n",
       "2936  An Apartment Is Up For Sale In Dakshin Kattali...       3.0        3.0   \n",
       "2937  An Apartment Is Up For Sale In Dakshin Kattali...       3.0        3.0   \n",
       "\n",
       "      Floor_no Occupancy_status  Floor_area        City  Price_in_taka(M)  \\\n",
       "1243       5.0           vacant      1500.0  chattogram               6.0   \n",
       "1258       3.0           vacant       825.0  chattogram               3.7   \n",
       "1981       4.0           vacant      1200.0  chattogram               8.0   \n",
       "2936       4.0           vacant      1250.0  chattogram               3.8   \n",
       "2937       5.0           vacant      1250.0  chattogram               3.8   \n",
       "\n",
       "                                        Location  \n",
       "1243  Dakshin Kattali, 11 No. South Kattali Ward  \n",
       "1258  Dakshin Kattali, 11 No. South Kattali Ward  \n",
       "1981  Dakshin Kattali, 11 No. South Kattali Ward  \n",
       "2936  Dakshin Kattali, 11 No. South Kattali Ward  \n",
       "2937  Dakshin Kattali, 11 No. South Kattali Ward  "
      ]
     },
     "execution_count": 27,
     "metadata": {},
     "output_type": "execute_result"
    }
   ],
   "source": [
    "data[data['Location']=='Dakshin Kattali, 11 No. South Kattali Ward'].head(5)"
   ]
  },
  {
   "cell_type": "code",
   "execution_count": 28,
   "id": "53128d10",
   "metadata": {
    "execution": {
     "iopub.execute_input": "2025-01-11T19:58:16.850743Z",
     "iopub.status.busy": "2025-01-11T19:58:16.850403Z",
     "iopub.status.idle": "2025-01-11T19:58:16.857405Z",
     "shell.execute_reply": "2025-01-11T19:58:16.856203Z"
    },
    "papermill": {
     "duration": 0.022338,
     "end_time": "2025-01-11T19:58:16.859317",
     "exception": false,
     "start_time": "2025-01-11T19:58:16.836979",
     "status": "completed"
    },
    "tags": []
   },
   "outputs": [
    {
     "data": {
      "text/plain": [
       "array([ 3.,  1.,  6.,  4.,  8.,  2.,  5.,  7.,  9., nan, 10., 14., 13.,\n",
       "       12., 11., 18., 17.])"
      ]
     },
     "execution_count": 28,
     "metadata": {},
     "output_type": "execute_result"
    }
   ],
   "source": [
    "data['Floor_no'].unique()"
   ]
  },
  {
   "cell_type": "code",
   "execution_count": 29,
   "id": "33dfcdc9",
   "metadata": {
    "execution": {
     "iopub.execute_input": "2025-01-11T19:58:16.885436Z",
     "iopub.status.busy": "2025-01-11T19:58:16.885056Z",
     "iopub.status.idle": "2025-01-11T19:58:16.893775Z",
     "shell.execute_reply": "2025-01-11T19:58:16.892571Z"
    },
    "papermill": {
     "duration": 0.023772,
     "end_time": "2025-01-11T19:58:16.895550",
     "exception": false,
     "start_time": "2025-01-11T19:58:16.871778",
     "status": "completed"
    },
    "tags": []
   },
   "outputs": [
    {
     "data": {
      "text/plain": [
       "Title                 0\n",
       "Bedrooms            831\n",
       "Bathrooms           831\n",
       "Floor_no            581\n",
       "Occupancy_status     89\n",
       "Floor_area           89\n",
       "City                  0\n",
       "Price_in_taka(M)      0\n",
       "Location              6\n",
       "dtype: int64"
      ]
     },
     "execution_count": 29,
     "metadata": {},
     "output_type": "execute_result"
    }
   ],
   "source": [
    "data.isna().sum()"
   ]
  },
  {
   "cell_type": "code",
   "execution_count": 30,
   "id": "4cda8224",
   "metadata": {
    "execution": {
     "iopub.execute_input": "2025-01-11T19:58:16.923040Z",
     "iopub.status.busy": "2025-01-11T19:58:16.922587Z",
     "iopub.status.idle": "2025-01-11T19:58:16.929686Z",
     "shell.execute_reply": "2025-01-11T19:58:16.928502Z"
    },
    "papermill": {
     "duration": 0.022835,
     "end_time": "2025-01-11T19:58:16.931663",
     "exception": false,
     "start_time": "2025-01-11T19:58:16.908828",
     "status": "completed"
    },
    "tags": []
   },
   "outputs": [
    {
     "data": {
      "text/plain": [
       "array(['dhaka', 'chattogram', 'cumilla', 'narayanganj-city', 'gazipur'],\n",
       "      dtype=object)"
      ]
     },
     "execution_count": 30,
     "metadata": {},
     "output_type": "execute_result"
    }
   ],
   "source": [
    "# unique values of \"City\"\n",
    "data[\"City\"].unique()"
   ]
  },
  {
   "cell_type": "code",
   "execution_count": 31,
   "id": "33489d23",
   "metadata": {
    "execution": {
     "iopub.execute_input": "2025-01-11T19:58:16.958913Z",
     "iopub.status.busy": "2025-01-11T19:58:16.958499Z",
     "iopub.status.idle": "2025-01-11T19:58:16.970110Z",
     "shell.execute_reply": "2025-01-11T19:58:16.968427Z"
    },
    "papermill": {
     "duration": 0.027002,
     "end_time": "2025-01-11T19:58:16.971917",
     "exception": false,
     "start_time": "2025-01-11T19:58:16.944915",
     "status": "completed"
    },
    "tags": []
   },
   "outputs": [
    {
     "name": "stdout",
     "output_type": "stream",
     "text": [
      "Title                 0\n",
      "Bedrooms            270\n",
      "Bathrooms           270\n",
      "Floor_no              0\n",
      "Occupancy_status      0\n",
      "Floor_area            0\n",
      "City                  0\n",
      "Price_in_taka(M)      0\n",
      "Location              0\n",
      "dtype: int64\n"
     ]
    }
   ],
   "source": [
    "columns_to_drop_miising_values = ['Occupancy_status', 'Floor_area', 'Location', 'Floor_no']\n",
    "\n",
    "# Remove rows with missing values in the specified columns\n",
    "data = data.dropna(subset=columns_to_drop_miising_values, axis = 0)\n",
    "# verify the result\n",
    "print(data.isnull().sum())"
   ]
  },
  {
   "cell_type": "code",
   "execution_count": 32,
   "id": "6416c967",
   "metadata": {
    "execution": {
     "iopub.execute_input": "2025-01-11T19:58:17.000129Z",
     "iopub.status.busy": "2025-01-11T19:58:16.999688Z",
     "iopub.status.idle": "2025-01-11T19:58:17.087530Z",
     "shell.execute_reply": "2025-01-11T19:58:17.086386Z"
    },
    "papermill": {
     "duration": 0.104257,
     "end_time": "2025-01-11T19:58:17.089737",
     "exception": false,
     "start_time": "2025-01-11T19:58:16.985480",
     "status": "completed"
    },
    "tags": []
   },
   "outputs": [],
   "source": [
    "# Impute the missing values in Bathrooms and Bedrooms using Floor area\n",
    "features = ['Floor_area', 'Bedrooms', 'Bathrooms']\n",
    "\n",
    "imputer = KNNImputer(n_neighbors=5, weights='distance')\n",
    "data[features] = imputer.fit_transform(data[features])"
   ]
  },
  {
   "cell_type": "code",
   "execution_count": 33,
   "id": "9c4ef238",
   "metadata": {
    "execution": {
     "iopub.execute_input": "2025-01-11T19:58:17.132892Z",
     "iopub.status.busy": "2025-01-11T19:58:17.132427Z",
     "iopub.status.idle": "2025-01-11T19:58:17.145098Z",
     "shell.execute_reply": "2025-01-11T19:58:17.142729Z"
    },
    "papermill": {
     "duration": 0.036858,
     "end_time": "2025-01-11T19:58:17.147527",
     "exception": false,
     "start_time": "2025-01-11T19:58:17.110669",
     "status": "completed"
    },
    "tags": []
   },
   "outputs": [
    {
     "data": {
      "text/plain": [
       "Title               0\n",
       "Bedrooms            0\n",
       "Bathrooms           0\n",
       "Floor_no            0\n",
       "Occupancy_status    0\n",
       "Floor_area          0\n",
       "City                0\n",
       "Price_in_taka(M)    0\n",
       "Location            0\n",
       "dtype: int64"
      ]
     },
     "execution_count": 33,
     "metadata": {},
     "output_type": "execute_result"
    }
   ],
   "source": [
    "data.isna().sum()"
   ]
  },
  {
   "cell_type": "code",
   "execution_count": 34,
   "id": "e111a7bc",
   "metadata": {
    "execution": {
     "iopub.execute_input": "2025-01-11T19:58:17.178907Z",
     "iopub.status.busy": "2025-01-11T19:58:17.178502Z",
     "iopub.status.idle": "2025-01-11T19:58:17.199253Z",
     "shell.execute_reply": "2025-01-11T19:58:17.197848Z"
    },
    "papermill": {
     "duration": 0.036798,
     "end_time": "2025-01-11T19:58:17.201239",
     "exception": false,
     "start_time": "2025-01-11T19:58:17.164441",
     "status": "completed"
    },
    "tags": []
   },
   "outputs": [
    {
     "name": "stdout",
     "output_type": "stream",
     "text": [
      "Top 5 largest values in 'Bedrooms':\n",
      "217     46.000000\n",
      "99      27.803983\n",
      "2250    27.000000\n",
      "1625    22.000000\n",
      "1457    21.000000\n",
      "Name: Bedrooms, dtype: float64\n",
      "Top 5 largest values in 'Bathrooms':\n",
      "2047    10.0\n",
      "206     10.0\n",
      "217     10.0\n",
      "986     10.0\n",
      "999     10.0\n",
      "Name: Bathrooms, dtype: float64\n",
      "Top 5 largest values in 'Floor_no':\n",
      "2110    18.0\n",
      "2161    17.0\n",
      "198     14.0\n",
      "1560    14.0\n",
      "230     13.0\n",
      "Name: Floor_no, dtype: float64\n",
      "Top 5 largest values in 'Floor_area':\n",
      "1489    24000.0\n",
      "99      21500.0\n",
      "217     19200.0\n",
      "40      16000.0\n",
      "510     15120.0\n",
      "Name: Floor_area, dtype: float64\n",
      "Top 5 largest values in 'Price_in_taka(M)':\n",
      "1602    363.2\n",
      "1910    363.2\n",
      "2023    363.2\n",
      "1245    350.0\n",
      "2128    350.0\n",
      "Name: Price_in_taka(M), dtype: float64\n"
     ]
    }
   ],
   "source": [
    "for col in data.columns:\n",
    "    if pd.api.types.is_numeric_dtype(data[col]):\n",
    "        print(f\"Top 5 largest values in '{col}':\")\n",
    "        print(data[col].nlargest(5))"
   ]
  },
  {
   "cell_type": "code",
   "execution_count": 35,
   "id": "2dcd5a9c",
   "metadata": {
    "execution": {
     "iopub.execute_input": "2025-01-11T19:58:17.230253Z",
     "iopub.status.busy": "2025-01-11T19:58:17.229880Z",
     "iopub.status.idle": "2025-01-11T19:58:17.253256Z",
     "shell.execute_reply": "2025-01-11T19:58:17.251711Z"
    },
    "papermill": {
     "duration": 0.039627,
     "end_time": "2025-01-11T19:58:17.255190",
     "exception": false,
     "start_time": "2025-01-11T19:58:17.215563",
     "status": "completed"
    },
    "tags": []
   },
   "outputs": [
    {
     "name": "stdout",
     "output_type": "stream",
     "text": [
      "Title\n",
      "A Full Building Is For Sale In Sugandha Residential Area, Panchlaish.           7\n",
      "An Apartment Is Up For Sale In Dakshin Kattali, Near Anandomoyee Kali Temple    5\n",
      "Buy This 240 Sq Ft Shop At Bakalia                                              2\n",
      "1445 Sq Ft Residential Apartment Is Available For Sale In Chotora, Cumilla      2\n",
      "Visit This Apartment For Sale In Bakalia Near Haji Eqbal Jame Masjid            1\n",
      "Name: count, dtype: int64\n",
      "Bedrooms\n",
      "3.000000    1622\n",
      "2.000000     294\n",
      "4.000000     167\n",
      "1.316456      16\n",
      "1.227586      15\n",
      "Name: count, dtype: int64\n",
      "Bathrooms\n",
      "3.0     1320\n",
      "2.0      465\n",
      "4.0      235\n",
      "5.0       55\n",
      "10.0      18\n",
      "Name: count, dtype: int64\n",
      "Floor_no\n",
      "1.0    382\n",
      "4.0    308\n",
      "5.0    296\n",
      "2.0    275\n",
      "3.0    262\n",
      "Name: count, dtype: int64\n",
      "Occupancy_status\n",
      "vacant      2357\n",
      "occupied       2\n",
      "Name: count, dtype: int64\n",
      "Floor_area\n",
      "1300.0    69\n",
      "1500.0    68\n",
      "1250.0    62\n",
      "1200.0    59\n",
      "1400.0    56\n",
      "Name: count, dtype: int64\n",
      "City\n",
      "chattogram          1077\n",
      "dhaka               1006\n",
      "gazipur              141\n",
      "cumilla              130\n",
      "narayanganj-city       5\n",
      "Name: count, dtype: int64\n",
      "Price_in_taka(M)\n",
      "6.0    69\n",
      "5.0    62\n",
      "6.5    59\n",
      "7.0    53\n",
      "5.5    50\n",
      "Name: count, dtype: int64\n",
      "Location\n",
      "Dewan Bazar, Bakalia                            74\n",
      "Joydebpur, Gazipur Sadar Upazila                63\n",
      "Dhaka Trunk Road, 9 No. North Pahartali Ward    58\n",
      "Tongi, Gazipur Sadar Upazila                    43\n",
      "24 No. North Agrabad Ward, Double Mooring       37\n",
      "Name: count, dtype: int64\n"
     ]
    }
   ],
   "source": [
    "for col in data.columns:\n",
    "    print(data[col].value_counts().head(5))"
   ]
  },
  {
   "cell_type": "code",
   "execution_count": 36,
   "id": "90ffcb33",
   "metadata": {
    "execution": {
     "iopub.execute_input": "2025-01-11T19:58:17.285199Z",
     "iopub.status.busy": "2025-01-11T19:58:17.284735Z",
     "iopub.status.idle": "2025-01-11T19:58:17.303572Z",
     "shell.execute_reply": "2025-01-11T19:58:17.302184Z"
    },
    "papermill": {
     "duration": 0.036544,
     "end_time": "2025-01-11T19:58:17.305822",
     "exception": false,
     "start_time": "2025-01-11T19:58:17.269278",
     "status": "completed"
    },
    "tags": []
   },
   "outputs": [
    {
     "data": {
      "text/html": [
       "<div>\n",
       "<style scoped>\n",
       "    .dataframe tbody tr th:only-of-type {\n",
       "        vertical-align: middle;\n",
       "    }\n",
       "\n",
       "    .dataframe tbody tr th {\n",
       "        vertical-align: top;\n",
       "    }\n",
       "\n",
       "    .dataframe thead th {\n",
       "        text-align: right;\n",
       "    }\n",
       "</style>\n",
       "<table border=\"1\" class=\"dataframe\">\n",
       "  <thead>\n",
       "    <tr style=\"text-align: right;\">\n",
       "      <th></th>\n",
       "      <th>Title</th>\n",
       "      <th>Bedrooms</th>\n",
       "      <th>Bathrooms</th>\n",
       "      <th>Floor_no</th>\n",
       "      <th>Occupancy_status</th>\n",
       "      <th>Floor_area</th>\n",
       "      <th>City</th>\n",
       "      <th>Price_in_taka(M)</th>\n",
       "      <th>Location</th>\n",
       "      <th>Avg Unit Price</th>\n",
       "    </tr>\n",
       "  </thead>\n",
       "  <tbody>\n",
       "    <tr>\n",
       "      <th>0</th>\n",
       "      <td>We Are Offering You A Very Spacious 1960 Sq Ft...</td>\n",
       "      <td>3.0</td>\n",
       "      <td>4.0</td>\n",
       "      <td>3.0</td>\n",
       "      <td>vacant</td>\n",
       "      <td>1960.0</td>\n",
       "      <td>dhaka</td>\n",
       "      <td>39.0</td>\n",
       "      <td>Gulshan 1, Gulshan</td>\n",
       "      <td>19898.0</td>\n",
       "    </tr>\n",
       "    <tr>\n",
       "      <th>1</th>\n",
       "      <td>Valuable 1705 Square Feet Apartment Is Ready T...</td>\n",
       "      <td>3.0</td>\n",
       "      <td>3.0</td>\n",
       "      <td>1.0</td>\n",
       "      <td>vacant</td>\n",
       "      <td>1705.0</td>\n",
       "      <td>dhaka</td>\n",
       "      <td>16.9</td>\n",
       "      <td>Lake Circus Road, Kalabagan</td>\n",
       "      <td>9912.0</td>\n",
       "    </tr>\n",
       "  </tbody>\n",
       "</table>\n",
       "</div>"
      ],
      "text/plain": [
       "                                               Title  Bedrooms  Bathrooms  \\\n",
       "0  We Are Offering You A Very Spacious 1960 Sq Ft...       3.0        4.0   \n",
       "1  Valuable 1705 Square Feet Apartment Is Ready T...       3.0        3.0   \n",
       "\n",
       "   Floor_no Occupancy_status  Floor_area   City  Price_in_taka(M)  \\\n",
       "0       3.0           vacant      1960.0  dhaka              39.0   \n",
       "1       1.0           vacant      1705.0  dhaka              16.9   \n",
       "\n",
       "                      Location  Avg Unit Price  \n",
       "0           Gulshan 1, Gulshan         19898.0  \n",
       "1  Lake Circus Road, Kalabagan          9912.0  "
      ]
     },
     "execution_count": 36,
     "metadata": {},
     "output_type": "execute_result"
    }
   ],
   "source": [
    "data['Avg Unit Price'] = round((data['Price_in_taka(M)'] * 1_000_000)/ data['Floor_area'],1)\n",
    "data.head(2)"
   ]
  },
  {
   "cell_type": "code",
   "execution_count": 37,
   "id": "d6c0c9d6",
   "metadata": {
    "execution": {
     "iopub.execute_input": "2025-01-11T19:58:17.337590Z",
     "iopub.status.busy": "2025-01-11T19:58:17.337168Z",
     "iopub.status.idle": "2025-01-11T19:58:17.363384Z",
     "shell.execute_reply": "2025-01-11T19:58:17.361994Z"
    },
    "papermill": {
     "duration": 0.044965,
     "end_time": "2025-01-11T19:58:17.365260",
     "exception": false,
     "start_time": "2025-01-11T19:58:17.320295",
     "status": "completed"
    },
    "tags": []
   },
   "outputs": [
    {
     "data": {
      "text/html": [
       "<div>\n",
       "<style scoped>\n",
       "    .dataframe tbody tr th:only-of-type {\n",
       "        vertical-align: middle;\n",
       "    }\n",
       "\n",
       "    .dataframe tbody tr th {\n",
       "        vertical-align: top;\n",
       "    }\n",
       "\n",
       "    .dataframe thead th {\n",
       "        text-align: right;\n",
       "    }\n",
       "</style>\n",
       "<table border=\"1\" class=\"dataframe\">\n",
       "  <thead>\n",
       "    <tr style=\"text-align: right;\">\n",
       "      <th></th>\n",
       "      <th>Location</th>\n",
       "      <th>City</th>\n",
       "      <th>Bedrooms</th>\n",
       "      <th>Bathrooms</th>\n",
       "      <th>Floor_no</th>\n",
       "      <th>Floor_area</th>\n",
       "      <th>Price_in_taka(M)</th>\n",
       "      <th>Avg Unit Price</th>\n",
       "    </tr>\n",
       "  </thead>\n",
       "  <tbody>\n",
       "    <tr>\n",
       "      <th>109</th>\n",
       "      <td>CDA Avenue, 15 No. Bagmoniram Ward</td>\n",
       "      <td>chattogram</td>\n",
       "      <td>1.268284</td>\n",
       "      <td>1.171127</td>\n",
       "      <td>2.000000</td>\n",
       "      <td>181.0</td>\n",
       "      <td>9.50</td>\n",
       "      <td>52486.200000</td>\n",
       "    </tr>\n",
       "    <tr>\n",
       "      <th>268</th>\n",
       "      <td>Motijheel Road, Motijheel</td>\n",
       "      <td>dhaka</td>\n",
       "      <td>4.201357</td>\n",
       "      <td>4.583595</td>\n",
       "      <td>1.000000</td>\n",
       "      <td>4686.0</td>\n",
       "      <td>210.87</td>\n",
       "      <td>45000.000000</td>\n",
       "    </tr>\n",
       "    <tr>\n",
       "      <th>212</th>\n",
       "      <td>Kazi Nazrul Islam Avenue, Banglamotors</td>\n",
       "      <td>dhaka</td>\n",
       "      <td>4.000000</td>\n",
       "      <td>5.000000</td>\n",
       "      <td>1.000000</td>\n",
       "      <td>3000.0</td>\n",
       "      <td>120.00</td>\n",
       "      <td>40000.000000</td>\n",
       "    </tr>\n",
       "    <tr>\n",
       "      <th>153</th>\n",
       "      <td>East Nasirabad, Muradpur</td>\n",
       "      <td>chattogram</td>\n",
       "      <td>1.875179</td>\n",
       "      <td>2.133416</td>\n",
       "      <td>4.333333</td>\n",
       "      <td>610.0</td>\n",
       "      <td>10.00</td>\n",
       "      <td>38117.566667</td>\n",
       "    </tr>\n",
       "    <tr>\n",
       "      <th>285</th>\n",
       "      <td>New Eskaton Road, Eskaton</td>\n",
       "      <td>dhaka</td>\n",
       "      <td>3.914478</td>\n",
       "      <td>4.768314</td>\n",
       "      <td>2.500000</td>\n",
       "      <td>2922.5</td>\n",
       "      <td>100.75</td>\n",
       "      <td>34477.950000</td>\n",
       "    </tr>\n",
       "  </tbody>\n",
       "</table>\n",
       "</div>"
      ],
      "text/plain": [
       "                                   Location        City  Bedrooms  Bathrooms  \\\n",
       "109      CDA Avenue, 15 No. Bagmoniram Ward  chattogram  1.268284   1.171127   \n",
       "268               Motijheel Road, Motijheel       dhaka  4.201357   4.583595   \n",
       "212  Kazi Nazrul Islam Avenue, Banglamotors       dhaka  4.000000   5.000000   \n",
       "153                East Nasirabad, Muradpur  chattogram  1.875179   2.133416   \n",
       "285               New Eskaton Road, Eskaton       dhaka  3.914478   4.768314   \n",
       "\n",
       "     Floor_no  Floor_area  Price_in_taka(M)  Avg Unit Price  \n",
       "109  2.000000       181.0              9.50    52486.200000  \n",
       "268  1.000000      4686.0            210.87    45000.000000  \n",
       "212  1.000000      3000.0            120.00    40000.000000  \n",
       "153  4.333333       610.0             10.00    38117.566667  \n",
       "285  2.500000      2922.5            100.75    34477.950000  "
      ]
     },
     "execution_count": 37,
     "metadata": {},
     "output_type": "execute_result"
    }
   ],
   "source": [
    "averages_l = data.groupby(['Location', 'City']).mean(numeric_only=True).reset_index()\n",
    "result = averages_l[['Location', 'City', 'Bedrooms', 'Bathrooms', 'Floor_no', 'Floor_area', 'Price_in_taka(M)', 'Avg Unit Price']]\n",
    "result.sort_values(by='Avg Unit Price', ascending=False).head(5)\n"
   ]
  },
  {
   "cell_type": "code",
   "execution_count": 38,
   "id": "26e5d382",
   "metadata": {
    "execution": {
     "iopub.execute_input": "2025-01-11T19:58:17.395577Z",
     "iopub.status.busy": "2025-01-11T19:58:17.395214Z",
     "iopub.status.idle": "2025-01-11T19:58:17.413782Z",
     "shell.execute_reply": "2025-01-11T19:58:17.412420Z"
    },
    "papermill": {
     "duration": 0.036289,
     "end_time": "2025-01-11T19:58:17.415866",
     "exception": false,
     "start_time": "2025-01-11T19:58:17.379577",
     "status": "completed"
    },
    "tags": []
   },
   "outputs": [
    {
     "data": {
      "text/html": [
       "<div>\n",
       "<style scoped>\n",
       "    .dataframe tbody tr th:only-of-type {\n",
       "        vertical-align: middle;\n",
       "    }\n",
       "\n",
       "    .dataframe tbody tr th {\n",
       "        vertical-align: top;\n",
       "    }\n",
       "\n",
       "    .dataframe thead th {\n",
       "        text-align: right;\n",
       "    }\n",
       "</style>\n",
       "<table border=\"1\" class=\"dataframe\">\n",
       "  <thead>\n",
       "    <tr style=\"text-align: right;\">\n",
       "      <th></th>\n",
       "      <th>City</th>\n",
       "      <th>Bedrooms</th>\n",
       "      <th>Bathrooms</th>\n",
       "      <th>Floor_no</th>\n",
       "      <th>Floor_area</th>\n",
       "      <th>Price_in_taka(M)</th>\n",
       "      <th>Avg Unit Price</th>\n",
       "    </tr>\n",
       "  </thead>\n",
       "  <tbody>\n",
       "    <tr>\n",
       "      <th>0</th>\n",
       "      <td>chattogram</td>\n",
       "      <td>3.042922</td>\n",
       "      <td>2.938700</td>\n",
       "      <td>4.290622</td>\n",
       "      <td>1531.617456</td>\n",
       "      <td>11.846612</td>\n",
       "      <td>9326.775487</td>\n",
       "    </tr>\n",
       "    <tr>\n",
       "      <th>2</th>\n",
       "      <td>dhaka</td>\n",
       "      <td>3.087115</td>\n",
       "      <td>2.928728</td>\n",
       "      <td>4.335984</td>\n",
       "      <td>1519.217694</td>\n",
       "      <td>12.841515</td>\n",
       "      <td>7500.591948</td>\n",
       "    </tr>\n",
       "    <tr>\n",
       "      <th>3</th>\n",
       "      <td>gazipur</td>\n",
       "      <td>2.733310</td>\n",
       "      <td>2.523693</td>\n",
       "      <td>5.964539</td>\n",
       "      <td>1096.886525</td>\n",
       "      <td>5.652746</td>\n",
       "      <td>6995.765248</td>\n",
       "    </tr>\n",
       "    <tr>\n",
       "      <th>4</th>\n",
       "      <td>narayanganj-city</td>\n",
       "      <td>2.800000</td>\n",
       "      <td>2.400000</td>\n",
       "      <td>5.800000</td>\n",
       "      <td>1197.200000</td>\n",
       "      <td>6.560000</td>\n",
       "      <td>5621.780000</td>\n",
       "    </tr>\n",
       "    <tr>\n",
       "      <th>1</th>\n",
       "      <td>cumilla</td>\n",
       "      <td>2.856923</td>\n",
       "      <td>2.770769</td>\n",
       "      <td>7.100000</td>\n",
       "      <td>1298.715385</td>\n",
       "      <td>5.325068</td>\n",
       "      <td>4123.430000</td>\n",
       "    </tr>\n",
       "  </tbody>\n",
       "</table>\n",
       "</div>"
      ],
      "text/plain": [
       "               City  Bedrooms  Bathrooms  Floor_no   Floor_area  \\\n",
       "0        chattogram  3.042922   2.938700  4.290622  1531.617456   \n",
       "2             dhaka  3.087115   2.928728  4.335984  1519.217694   \n",
       "3           gazipur  2.733310   2.523693  5.964539  1096.886525   \n",
       "4  narayanganj-city  2.800000   2.400000  5.800000  1197.200000   \n",
       "1           cumilla  2.856923   2.770769  7.100000  1298.715385   \n",
       "\n",
       "   Price_in_taka(M)  Avg Unit Price  \n",
       "0         11.846612     9326.775487  \n",
       "2         12.841515     7500.591948  \n",
       "3          5.652746     6995.765248  \n",
       "4          6.560000     5621.780000  \n",
       "1          5.325068     4123.430000  "
      ]
     },
     "execution_count": 38,
     "metadata": {},
     "output_type": "execute_result"
    }
   ],
   "source": [
    "averages_c = data.groupby(['City']).mean(numeric_only=True).reset_index()\n",
    "result = averages_c[['City', 'Bedrooms', 'Bathrooms', 'Floor_no', 'Floor_area', 'Price_in_taka(M)', 'Avg Unit Price']]\n",
    "result.sort_values(by='Avg Unit Price', ascending=False).head(5)\n"
   ]
  },
  {
   "cell_type": "code",
   "execution_count": null,
   "id": "64b91e60",
   "metadata": {
    "papermill": {
     "duration": 0.014066,
     "end_time": "2025-01-11T19:58:17.444411",
     "exception": false,
     "start_time": "2025-01-11T19:58:17.430345",
     "status": "completed"
    },
    "tags": []
   },
   "outputs": [],
   "source": []
  },
  {
   "cell_type": "code",
   "execution_count": 39,
   "id": "b59a753a",
   "metadata": {
    "execution": {
     "iopub.execute_input": "2025-01-11T19:58:17.473567Z",
     "iopub.status.busy": "2025-01-11T19:58:17.473181Z",
     "iopub.status.idle": "2025-01-11T19:58:17.601402Z",
     "shell.execute_reply": "2025-01-11T19:58:17.600163Z"
    },
    "papermill": {
     "duration": 0.145527,
     "end_time": "2025-01-11T19:58:17.603638",
     "exception": false,
     "start_time": "2025-01-11T19:58:17.458111",
     "status": "completed"
    },
    "tags": []
   },
   "outputs": [],
   "source": [
    "location_data = pd.read_json('/kaggle/input/locations-dhaka-rent4/locations.json')"
   ]
  },
  {
   "cell_type": "code",
   "execution_count": 40,
   "id": "c2520dd6",
   "metadata": {
    "execution": {
     "iopub.execute_input": "2025-01-11T19:58:17.633083Z",
     "iopub.status.busy": "2025-01-11T19:58:17.632672Z",
     "iopub.status.idle": "2025-01-11T19:58:17.657510Z",
     "shell.execute_reply": "2025-01-11T19:58:17.656230Z"
    },
    "papermill": {
     "duration": 0.041771,
     "end_time": "2025-01-11T19:58:17.659351",
     "exception": false,
     "start_time": "2025-01-11T19:58:17.617580",
     "status": "completed"
    },
    "tags": []
   },
   "outputs": [
    {
     "data": {
      "text/html": [
       "<div>\n",
       "<style scoped>\n",
       "    .dataframe tbody tr th:only-of-type {\n",
       "        vertical-align: middle;\n",
       "    }\n",
       "\n",
       "    .dataframe tbody tr th {\n",
       "        vertical-align: top;\n",
       "    }\n",
       "\n",
       "    .dataframe thead th {\n",
       "        text-align: right;\n",
       "    }\n",
       "</style>\n",
       "<table border=\"1\" class=\"dataframe\">\n",
       "  <thead>\n",
       "    <tr style=\"text-align: right;\">\n",
       "      <th></th>\n",
       "      <th>Gulshan 1, Gulshan</th>\n",
       "      <th>Lake Circus Road, Kalabagan</th>\n",
       "      <th>Shukrabad, Dhanmondi</th>\n",
       "      <th>Block L, Bashundhara R-A</th>\n",
       "      <th>Road No 25, Banani</th>\n",
       "      <th>Middle Badda, Badda</th>\n",
       "      <th>Block B, Bashundhara R-A</th>\n",
       "      <th>Block D, Bashundhara R-A</th>\n",
       "      <th>Matuail, Demra</th>\n",
       "      <th>Block H, Aftab Nagar</th>\n",
       "      <th>...</th>\n",
       "      <th>Talpokur Par, Bagichagaon</th>\n",
       "      <th>North Race Course, Race Course</th>\n",
       "      <th>Mizmizi, Shiddhirganj</th>\n",
       "      <th>Tongi, Gazipur Sadar Upazila</th>\n",
       "      <th>Joydebpur, Gazipur Sadar Upazila</th>\n",
       "      <th>Shimultoly, Gazipur Sadar Upazila</th>\n",
       "      <th>Chandana, Gazipur Sadar Upazila</th>\n",
       "      <th>Chowrasta, Chandra</th>\n",
       "      <th>aziz Moholla, Mohammadpur</th>\n",
       "      <th>Sobur khan Road, Dakshin Khan</th>\n",
       "    </tr>\n",
       "  </thead>\n",
       "  <tbody>\n",
       "    <tr>\n",
       "      <th>latitude</th>\n",
       "      <td>23.780887</td>\n",
       "      <td>23.746466</td>\n",
       "      <td>23.746466</td>\n",
       "      <td>23.8151</td>\n",
       "      <td>23.7930</td>\n",
       "      <td>23.780546</td>\n",
       "      <td>23.8151</td>\n",
       "      <td>23.8151</td>\n",
       "      <td>23.720881</td>\n",
       "      <td>23.7638</td>\n",
       "      <td>...</td>\n",
       "      <td>23.4615</td>\n",
       "      <td>23.463</td>\n",
       "      <td>23.7745</td>\n",
       "      <td>23.870</td>\n",
       "      <td>23.8275</td>\n",
       "      <td>23.8375</td>\n",
       "      <td>23.8345</td>\n",
       "      <td>23.8115</td>\n",
       "      <td>23.76779</td>\n",
       "      <td>23.873548</td>\n",
       "    </tr>\n",
       "    <tr>\n",
       "      <th>longitude</th>\n",
       "      <td>90.416640</td>\n",
       "      <td>90.376015</td>\n",
       "      <td>90.376015</td>\n",
       "      <td>90.4285</td>\n",
       "      <td>90.4043</td>\n",
       "      <td>90.426659</td>\n",
       "      <td>90.4285</td>\n",
       "      <td>90.4285</td>\n",
       "      <td>90.483269</td>\n",
       "      <td>90.4285</td>\n",
       "      <td>...</td>\n",
       "      <td>91.1835</td>\n",
       "      <td>91.187</td>\n",
       "      <td>90.7325</td>\n",
       "      <td>90.403</td>\n",
       "      <td>90.3810</td>\n",
       "      <td>90.3845</td>\n",
       "      <td>90.3650</td>\n",
       "      <td>90.3560</td>\n",
       "      <td>90.36150</td>\n",
       "      <td>90.407661</td>\n",
       "    </tr>\n",
       "  </tbody>\n",
       "</table>\n",
       "<p>2 rows × 448 columns</p>\n",
       "</div>"
      ],
      "text/plain": [
       "           Gulshan 1, Gulshan  Lake Circus Road, Kalabagan  \\\n",
       "latitude            23.780887                    23.746466   \n",
       "longitude           90.416640                    90.376015   \n",
       "\n",
       "           Shukrabad, Dhanmondi  Block L, Bashundhara R-A  Road No 25, Banani  \\\n",
       "latitude              23.746466                   23.8151             23.7930   \n",
       "longitude             90.376015                   90.4285             90.4043   \n",
       "\n",
       "           Middle Badda, Badda  Block B, Bashundhara R-A  \\\n",
       "latitude             23.780546                   23.8151   \n",
       "longitude            90.426659                   90.4285   \n",
       "\n",
       "           Block D, Bashundhara R-A  Matuail, Demra  Block H, Aftab Nagar  \\\n",
       "latitude                    23.8151       23.720881               23.7638   \n",
       "longitude                   90.4285       90.483269               90.4285   \n",
       "\n",
       "           ...  Talpokur Par, Bagichagaon  North Race Course, Race Course  \\\n",
       "latitude   ...                    23.4615                          23.463   \n",
       "longitude  ...                    91.1835                          91.187   \n",
       "\n",
       "           Mizmizi, Shiddhirganj  Tongi, Gazipur Sadar Upazila  \\\n",
       "latitude                 23.7745                        23.870   \n",
       "longitude                90.7325                        90.403   \n",
       "\n",
       "           Joydebpur, Gazipur Sadar Upazila  \\\n",
       "latitude                            23.8275   \n",
       "longitude                           90.3810   \n",
       "\n",
       "           Shimultoly, Gazipur Sadar Upazila  Chandana, Gazipur Sadar Upazila  \\\n",
       "latitude                             23.8375                          23.8345   \n",
       "longitude                            90.3845                          90.3650   \n",
       "\n",
       "           Chowrasta, Chandra  aziz Moholla, Mohammadpur  \\\n",
       "latitude              23.8115                   23.76779   \n",
       "longitude             90.3560                   90.36150   \n",
       "\n",
       "           Sobur khan Road, Dakshin Khan  \n",
       "latitude                       23.873548  \n",
       "longitude                      90.407661  \n",
       "\n",
       "[2 rows x 448 columns]"
      ]
     },
     "execution_count": 40,
     "metadata": {},
     "output_type": "execute_result"
    }
   ],
   "source": [
    "location_data.head()"
   ]
  },
  {
   "cell_type": "code",
   "execution_count": 41,
   "id": "c79f39fa",
   "metadata": {
    "execution": {
     "iopub.execute_input": "2025-01-11T19:58:17.690510Z",
     "iopub.status.busy": "2025-01-11T19:58:17.690120Z",
     "iopub.status.idle": "2025-01-11T19:58:17.743186Z",
     "shell.execute_reply": "2025-01-11T19:58:17.741944Z"
    },
    "papermill": {
     "duration": 0.070756,
     "end_time": "2025-01-11T19:58:17.745295",
     "exception": false,
     "start_time": "2025-01-11T19:58:17.674539",
     "status": "completed"
    },
    "tags": []
   },
   "outputs": [],
   "source": [
    "data['latitude'] = data['Location'].map(lambda loc: location_data.get(loc, {}).get('latitude'))\n",
    "data['longitude'] = data['Location'].map(lambda loc: location_data.get(loc, {}).get('longitude'))"
   ]
  },
  {
   "cell_type": "code",
   "execution_count": null,
   "id": "d7028784",
   "metadata": {
    "papermill": {
     "duration": 0.013945,
     "end_time": "2025-01-11T19:58:17.773169",
     "exception": false,
     "start_time": "2025-01-11T19:58:17.759224",
     "status": "completed"
    },
    "tags": []
   },
   "outputs": [],
   "source": []
  },
  {
   "cell_type": "code",
   "execution_count": 42,
   "id": "0334a411",
   "metadata": {
    "execution": {
     "iopub.execute_input": "2025-01-11T19:58:17.802286Z",
     "iopub.status.busy": "2025-01-11T19:58:17.801933Z",
     "iopub.status.idle": "2025-01-11T19:58:19.247145Z",
     "shell.execute_reply": "2025-01-11T19:58:19.245887Z"
    },
    "papermill": {
     "duration": 1.462105,
     "end_time": "2025-01-11T19:58:19.249157",
     "exception": false,
     "start_time": "2025-01-11T19:58:17.787052",
     "status": "completed"
    },
    "tags": []
   },
   "outputs": [
    {
     "data": {
      "text/html": [
       "<html>\n",
       "<head><meta charset=\"utf-8\" /></head>\n",
       "<body>\n",
       "    <div>            <script src=\"https://cdnjs.cloudflare.com/ajax/libs/mathjax/2.7.5/MathJax.js?config=TeX-AMS-MML_SVG\"></script><script type=\"text/javascript\">if (window.MathJax && window.MathJax.Hub && window.MathJax.Hub.Config) {window.MathJax.Hub.Config({SVG: {font: \"STIX-Web\"}});}</script>                <script type=\"text/javascript\">window.PlotlyConfig = {MathJaxConfig: 'local'};</script>\n",
       "        <script charset=\"utf-8\" src=\"https://cdn.plot.ly/plotly-2.35.2.min.js\"></script>                <div id=\"8dd77777-54b1-4fa9-a88f-2dd8f1f84be3\" class=\"plotly-graph-div\" style=\"height:700px; width:100%;\"></div>            <script type=\"text/javascript\">                                    window.PLOTLYENV=window.PLOTLYENV || {};                                    if (document.getElementById(\"8dd77777-54b1-4fa9-a88f-2dd8f1f84be3\")) {                    Plotly.newPlot(                        \"8dd77777-54b1-4fa9-a88f-2dd8f1f84be3\",                        [{\"hovertemplate\":\"Location=%{text}\\u003cbr\\u003elatitude=%{lat}\\u003cbr\\u003elongitude=%{lon}\\u003cextra\\u003e\\u003c\\u002fextra\\u003e\",\"lat\":[22.3555,22.34,22.375,22.37,22.355,22.36,22.36,22.362,22.337,22.33,22.355,22.37,22.375,22.3755,22.36,22.36,22.336,22.373,22.336,22.336,22.38,22.356,22.335,22.374,22.3355,22.3355,22.355,22.3355,22.356,22.336,22.375,22.36,22.382,22.36,22.3405,22.32,22.315,22.3555,22.357,22.34,22.34,22.34,22.34,22.34,22.34,22.36,22.36,22.36,22.365,22.362,22.338,22.3575,22.35,22.31,22.31,22.35,22.354,22.3825,22.314,22.314,22.314,22.314,22.38,22.334,22.334,22.336,22.333,22.3355,22.3355,22.356,22.315,22.315,22.315,22.31,22.344,22.355,22.3545,22.3565,22.337,22.3755,22.354,22.354,22.3195,22.356,22.371,22.373,22.3355,22.376,22.360500000000002,22.360500000000002,22.360500000000002,22.354,22.355,22.338,22.3405,22.315,22.355,22.3765,22.385,22.336,22.336,22.336,22.3375,22.36,22.362,22.341,22.3375,22.339,22.377,22.3365,22.319,22.3195,22.35,22.35,22.35,22.354,22.355,22.362,22.362,22.3825,22.34,22.38,22.362,22.377,22.377,22.3385,22.3385,22.377,22.377,22.377,22.377,22.377,22.37,22.33,22.33,22.354,22.372,22.3155,22.315,22.377,22.377,22.377,22.377,22.377,22.377,22.377,22.3385,22.382,22.37,22.365,22.3395,22.372,22.338,22.344,22.344,22.344,22.339,22.339,22.338,22.338,22.3205,22.3205,22.314,22.314,22.315,22.315,22.336,22.3195,22.315,22.314,22.314,22.3585,22.3555,22.3375,22.334,22.334,22.3375,22.31,22.32,22.3555,22.362,22.366,22.3365,22.38,22.377,22.377,22.314,22.339,22.3555,22.319,22.319,22.319,22.385,22.375,22.362,22.384,22.34,22.3705,22.3355,22.334,22.3405,22.3405,22.36,22.36,22.3405,22.315,22.315,22.315,22.315,22.336,22.34,22.34,22.338,22.371,22.385,22.386,22.3825,22.338,22.37,22.334,22.3195,22.315,22.3655,22.3375,22.3375,22.3335,22.37,22.3545,22.3545,22.3545,22.3805,22.36,22.313,22.3375,22.3565,22.3545,22.338,22.362,22.366,22.319,22.33,22.3655,22.3655,22.3655,22.3655,22.3655,22.38,22.38,22.38,22.38,22.38,22.36,22.366,22.353,22.32,22.336,22.355,22.344,22.377,22.3345,22.3555,22.3195,22.3875,22.31,22.335,22.37,22.3525,22.355,22.362,22.38,22.34,22.3655,22.315,22.362,22.313,22.337,22.36,22.336,22.336,22.354,22.337,22.315,22.336,22.335,22.366,22.37,22.377,22.377,22.336,22.344,22.3875,22.3195,22.315,22.336,22.355,22.336,22.344,22.362,22.3305,22.3105,22.335,22.3375,22.32,22.31,22.32,22.374,22.313,22.368,22.377,22.377,22.377,22.3695,22.3695,22.3385,22.336,22.339,22.38,22.3395,22.3695,22.3395,22.34,22.34,22.34,22.34,22.3875,22.373,22.362,22.356,22.368,22.34,22.3405,22.38,22.3355,22.3555,22.385,22.334,22.319,22.353,22.314,22.33,22.315,22.314,22.335,22.34,22.3375,22.3405,22.335,22.371,22.3385,22.36,22.36,22.375,22.3355,22.3355,22.3355,22.3355,22.356,22.335,22.3365,22.349,22.338,22.3705,22.35,22.35,22.31,22.31,22.354,22.354,22.354,22.3795,22.314,22.314,22.354,22.314,22.314,22.314,22.314,22.314,22.314,22.336,22.336,22.336,22.336,22.356,22.3525,22.338,22.338,22.315,22.34,22.356,22.3875,22.373,22.336,22.336,22.314,22.357,22.386,22.38,22.338,22.333,22.336,22.336,22.336,22.336,22.336,22.3105,22.356,22.356,22.335,22.3355,22.3355,22.3355,22.356,22.356,22.3875,22.336,22.336,22.336,22.336,22.3415,22.376,22.3545,22.34,22.3555,22.3375,22.355,22.381,22.3525,22.373,22.354,22.354,22.3375,22.371,22.3395,22.3655,22.3655,22.3655,22.3655,22.3655,22.3375,22.3655,22.3655,22.37,22.334,22.3545,22.353,22.376,22.376,22.315,22.315,22.344,22.344,22.344,22.344,22.362,22.34,22.377,22.377,22.33,22.377,22.377,22.377,22.377,22.377,22.32,22.315,22.33,22.377,22.377,22.3755,22.3385,22.3205,22.368,22.315,22.315,22.3195,22.3195,22.3195,22.315,22.35,22.3555,22.379,22.354,22.354,22.354,22.3345,22.314,22.336,22.336,22.336,22.314,22.336,22.336,22.336,22.3315,22.336,22.336,22.336,22.336,22.366,22.337,22.3695,22.357,22.339,22.3655,22.353,22.341,22.3655,22.32,22.366,22.366,22.366,22.366,22.3655,22.3655,22.38,22.369,22.3585,22.338,22.338,22.338,22.3395,22.38,22.32,22.32,22.32,22.3375,22.3695,22.3695,22.3695,22.385,22.371,22.34,22.337,22.366,22.3555,22.339,22.382,22.3585,22.3375,22.3655,22.368,22.37,22.3375,22.31,22.31,22.31,22.319,22.32,22.32,22.3375,22.3375,22.32,22.32,22.32,22.32,22.32,22.3205,22.3085,22.335,22.314,22.377,22.377,22.377,22.377,22.377,22.362,22.377,22.377,22.3525,22.355,22.37,22.329,22.36,22.3355,22.355,22.379,22.336,22.336,22.335,22.3575,22.358,22.358,22.3405,22.355,22.3805,22.335,22.335,22.339,22.3375,22.3555,22.3555,22.3285,22.3405,22.37,22.3375,22.36,22.315,22.31,22.32,22.336,22.3555,22.31,22.31,22.360500000000002,22.3345,22.34,22.36,22.336,22.34,22.360500000000002,22.366,22.32,22.32,22.384,22.336,22.315,22.3195,22.3345,22.384,22.314,22.3355,22.31,22.353,22.344,22.362,22.315,22.360500000000002,22.371,22.337,22.375,22.315,22.362,22.365,22.3585,22.362,22.32,22.32,22.377,22.3105,22.384,22.371,22.314,22.335,22.3365,22.315,22.377,22.315,22.3695,22.3655,22.3395,22.34,22.376,22.3195,22.3195,22.3195,22.3375,22.3375,22.3375,22.3375,22.371,22.3875,22.3875,22.357,22.339,22.362,22.3365,22.3375,22.3375,22.337,22.353,22.3075,22.356,22.3555,22.3195,22.373,22.3375,22.3365,22.3365,22.35,22.35,22.354,22.36,22.3705,22.35,22.35,22.35,22.31,22.31,22.354,22.354,22.3795,22.3795,22.354,22.314,22.314,22.314,22.314,22.355,22.354,22.336,22.336,22.333,22.333,22.336,22.373,22.336,22.3355,22.3355,22.3355,22.3355,22.3355,22.3355,22.356,22.356,22.335,22.338,22.3395,22.3545,22.3545,22.3545,22.3655,22.3375,22.382,22.32,22.371,22.34,22.315,22.3795,22.3795,22.36,22.3395,22.348,22.3555,22.3555,22.315,22.3345,22.354,22.354,22.336,22.336,22.3815,22.315,22.3555,22.3395,22.371,22.382,22.34,22.354,22.376,22.319,22.3395,22.3405,22.338,22.338,22.375,22.38,22.315,22.315,22.315,22.315,22.315,22.315,22.3375,22.315,22.375,22.3675,22.3565,22.306,22.306,22.360500000000002,22.360500000000002,22.360500000000002,22.3525,22.353,22.3715,22.33,22.368,22.3375,22.341,22.336,22.336,22.336,22.336,22.336,22.375,22.34,22.335,22.336,22.335,22.335,22.34,22.36,22.36,22.36,22.362,22.34,22.34,22.3795,22.368,22.3555,22.3375,22.3575,22.344,22.3365,22.374,22.3395,22.3795,22.3145,22.34,22.372,22.386,22.360500000000002,22.34,22.315,22.371,22.337,22.3655,22.355,22.360500000000002,22.355,22.362,22.3375,22.339,22.37,22.344,22.344,22.344,22.344,22.371,22.3285,22.3815,22.3485,22.32,22.3555,22.3795,22.3195,22.3195,22.3195,22.31,22.3345,22.3245,22.3245,22.31,22.31,22.375,22.375,22.335,22.3585,22.377,22.315,22.3655,22.315,22.33,22.377,22.3825,22.3825,22.362,22.3755,22.3565,22.314,22.3655,22.329,22.36,22.355,22.355,22.37,22.355,22.362,22.373,22.3585,22.386,22.2875,22.366,22.366,22.366,22.3655,22.3655,22.3655,22.3655,22.3655,22.3555,22.314,22.365,22.34,22.360500000000002,22.337,22.3375,22.362,22.353,22.336,22.3195,22.3195,22.3375,22.3375,22.314,22.3665,22.381,22.377,22.337,22.3875,22.3475,22.362,22.3875,22.336,22.336,22.3375,22.308,22.362,22.355,22.377,22.377,22.34,22.34,22.374,22.374,22.3345,22.3775,22.362,22.38,22.336,22.3525,22.339,22.3405,22.3565,22.319,22.354,22.3195,22.377,22.377,22.377,22.336,22.366,22.3195,22.362,22.353,22.3825,22.357,22.338,22.3875,22.355,22.34,22.315,22.38,22.36,22.36,22.339,22.3395,22.3375,22.3375,22.34,22.357,22.3655,22.3655,22.32,22.3655,22.34,22.336,22.3545,22.3545,22.3195,22.3245,22.336,22.31,22.375,22.3195,22.3195,22.3555,22.377,22.3555,22.34,22.3275,22.32,22.32,22.34,22.377,22.336,22.336,22.34,22.336,22.336,22.336,22.336,22.315,22.3385,22.3385,22.3355,22.32,22.3375,22.3375,22.3195,22.31,22.31,22.31,22.31,22.31,22.319,22.32,22.32,22.3555,22.329,22.3205,22.315,22.315,22.314,22.384,22.384,22.3195,22.3555,22.373,22.37,22.315,22.355,22.362,22.315,22.3875,22.3525,22.336,22.3795,22.333,22.336,22.31,22.3105,22.356,22.356,22.375,22.3355,22.3355,22.3355,22.355,22.356,22.36,22.36,22.36,22.3545,22.3545,22.3385,22.3385,22.3385,22.377,22.377,22.377,22.377,22.377,22.377,22.3705,22.3585,22.35,22.35,22.354,22.354,22.354,22.354,22.354,22.314,22.314,22.314,22.314,22.314,22.3525,22.336,22.336,22.336,22.377,22.3805,22.3525,22.3525,22.3525,22.3525,22.3525,22.3525,22.3525,22.372,22.372,22.372,22.372,22.372],\"legendgroup\":\"\",\"lon\":[91.819,91.83,91.82,91.825,91.8255,91.83,91.83,91.829,91.84,91.8,91.8255,91.823,91.83,91.825,91.83,91.8295,91.841,91.821,91.841,91.841,91.832,91.8195,91.842,91.822,91.843,91.843,91.8255,91.843,91.826,91.841,91.8215,91.83,91.833,91.83,91.835,91.77,91.78,91.819,91.827,91.8305,91.8305,91.8305,91.8305,91.8305,91.8305,91.83,91.83,91.83,91.8285,91.829,91.841,91.828,91.82,91.76,91.76,91.82,91.819,91.8325,91.783,91.783,91.783,91.783,91.832,91.841,91.841,91.841,91.843,91.843,91.843,91.8195,91.781,91.781,91.781,91.762,91.825,91.8305,91.831,91.806,91.823,91.825,91.827,91.827,91.783,91.826,91.829,91.833,91.843,91.8245,91.8305,91.8305,91.8305,91.827,91.8255,91.831,91.826,91.78,91.8255,91.8255,91.835,91.841,91.841,91.841,91.834,91.8295,91.829,91.835,91.8245,91.839,91.828,91.841,91.785,91.783,91.82,91.82,91.82,91.819,91.8255,91.832,91.832,91.8325,91.8325,91.834,91.829,91.828,91.828,91.8255,91.8255,91.828,91.828,91.828,91.828,91.828,91.831,91.8,91.8,91.819,91.834,91.7625,91.781,91.828,91.828,91.828,91.828,91.828,91.828,91.828,91.8415,91.833,91.825,91.8285,91.8285,91.834,91.8265,91.825,91.825,91.825,91.839,91.839,91.8265,91.8265,91.7605,91.7605,91.783,91.783,91.78,91.78,91.841,91.783,91.78,91.7815,91.7815,91.8205,91.819,91.8245,91.841,91.841,91.8345,91.76,91.77,91.819,91.829,91.8325,91.8285,91.832,91.828,91.828,91.783,91.839,91.819,91.7915,91.7915,91.7915,91.835,91.82,91.829,91.832,91.8305,91.8425,91.843,91.841,91.835,91.835,91.8295,91.8295,91.828,91.78,91.78,91.78,91.78,91.8445,91.83,91.83,91.8175,91.8285,91.835,91.834,91.8325,91.8325,91.823,91.841,91.783,91.781,91.833,91.8395,91.8395,91.823,91.825,91.826,91.826,91.826,91.8345,91.8295,91.76,91.8345,91.827,91.826,91.8265,91.829,91.8325,91.785,91.8,91.833,91.833,91.833,91.833,91.833,91.832,91.832,91.832,91.832,91.832,91.83,91.8325,91.8085,91.77,91.841,91.8255,91.825,91.828,91.8075,91.819,91.783,91.8365,91.76,91.842,91.823,91.806,91.8255,91.829,91.834,91.8305,91.833,91.78,91.829,91.76,91.8345,91.83,91.841,91.841,91.819,91.8345,91.78,91.841,91.842,91.8325,91.823,91.828,91.828,91.841,91.825,91.8365,91.783,91.78,91.841,91.8255,91.841,91.825,91.829,91.813,91.783,91.843,91.8245,91.77,91.76,91.77,91.822,91.76,91.832,91.828,91.828,91.828,91.837,91.837,91.8325,91.8445,91.839,91.8315,91.8195,91.8295,91.8195,91.8305,91.8305,91.8305,91.8305,91.8365,91.821,91.829,91.8195,91.832,91.8305,91.835,91.8315,91.844,91.819,91.835,91.841,91.7915,91.829,91.783,91.8,91.78,91.783,91.842,91.8305,91.8345,91.826,91.842,91.829,91.832,91.83,91.83,91.8215,91.843,91.843,91.843,91.843,91.8195,91.842,91.837,91.8115,91.8325,91.828,91.82,91.82,91.76,91.76,91.819,91.819,91.819,91.833,91.783,91.783,91.819,91.783,91.783,91.783,91.783,91.783,91.783,91.841,91.841,91.841,91.841,91.8195,91.828,91.8175,91.8175,91.781,91.832,91.826,91.8365,91.833,91.8445,91.8445,91.783,91.8265,91.834,91.832,91.831,91.843,91.841,91.841,91.841,91.841,91.841,91.783,91.8195,91.8195,91.842,91.843,91.843,91.843,91.8195,91.8195,91.8365,91.841,91.841,91.841,91.841,91.827,91.8325,91.826,91.83,91.819,91.834,91.8255,91.8315,91.806,91.833,91.827,91.827,91.8395,91.8285,91.833,91.833,91.833,91.833,91.833,91.833,91.831,91.833,91.833,91.823,91.841,91.831,91.8085,91.8325,91.8325,91.781,91.781,91.825,91.825,91.825,91.825,91.829,91.8305,91.828,91.828,91.8,91.828,91.828,91.828,91.828,91.828,91.77,91.781,91.8,91.828,91.828,91.825,91.8255,91.7605,91.832,91.78,91.78,91.783,91.783,91.783,91.78,91.82,91.819,91.8345,91.819,91.819,91.819,91.8075,91.783,91.841,91.841,91.841,91.783,91.841,91.841,91.841,91.818,91.841,91.841,91.841,91.841,91.8325,91.8345,91.8295,91.827,91.836,91.833,91.829,91.835,91.833,91.77,91.8325,91.8325,91.8325,91.8325,91.833,91.833,91.832,91.826,91.8255,91.8265,91.8265,91.8265,91.8285,91.834,91.77,91.77,91.77,91.834,91.8375,91.8375,91.8375,91.835,91.829,91.8325,91.8345,91.8325,91.819,91.836,91.8345,91.8255,91.834,91.833,91.832,91.825,91.8345,91.76,91.76,91.76,91.785,91.77,91.77,91.8345,91.8345,91.77,91.77,91.77,91.77,91.77,91.7605,91.79,91.842,91.783,91.828,91.828,91.828,91.828,91.828,91.829,91.828,91.828,91.806,91.8255,91.823,91.8175,91.8295,91.843,91.8255,91.8345,91.841,91.841,91.842,91.828,91.8275,91.8275,91.826,91.8255,91.8345,91.842,91.842,91.836,91.834,91.819,91.8265,91.8205,91.835,91.825,91.834,91.8295,91.78,91.7865,91.77,91.841,91.819,91.76,91.76,91.8305,91.8075,91.8305,91.8295,91.841,91.8305,91.8305,91.8325,91.77,91.77,91.832,91.841,91.78,91.783,91.8075,91.832,91.7815,91.843,91.7865,91.8085,91.825,91.829,91.78,91.8305,91.829,91.8345,91.83,91.78,91.829,91.8285,91.8205,91.829,91.77,91.77,91.828,91.783,91.832,91.829,91.783,91.843,91.834,91.78,91.828,91.78,91.8295,91.833,91.833,91.8305,91.8325,91.783,91.783,91.783,91.8395,91.8395,91.8395,91.8395,91.829,91.8365,91.8365,91.827,91.836,91.829,91.837,91.8345,91.8345,91.84,91.832,91.7895,91.8195,91.819,91.783,91.836,91.8245,91.841,91.841,91.82,91.82,91.819,91.83,91.828,91.82,91.82,91.82,91.76,91.76,91.819,91.819,91.833,91.833,91.819,91.783,91.783,91.783,91.783,91.8255,91.819,91.841,91.841,91.843,91.843,91.841,91.821,91.841,91.843,91.843,91.843,91.843,91.843,91.843,91.8195,91.8195,91.842,91.831,91.833,91.826,91.826,91.826,91.833,91.8395,91.8345,91.77,91.8285,91.8325,91.78,91.845,91.845,91.8295,91.8195,91.8075,91.819,91.819,91.78,91.8075,91.819,91.819,91.841,91.841,91.8345,91.781,91.819,91.8195,91.8285,91.8345,91.832,91.827,91.8325,91.7915,91.8285,91.835,91.8265,91.8265,91.82,91.834,91.78,91.78,91.78,91.78,91.78,91.78,91.8245,91.781,91.82,91.8275,91.827,91.783,91.783,91.8305,91.8305,91.8305,91.828,91.829,91.8295,91.8,91.8285,91.834,91.828,91.841,91.841,91.841,91.841,91.841,91.8215,91.8305,91.842,91.841,91.842,91.842,91.832,91.83,91.83,91.83,91.829,91.8305,91.8305,91.834,91.8285,91.819,91.8365,91.828,91.825,91.8285,91.84,91.8195,91.833,91.7875,91.832,91.834,91.834,91.8305,91.832,91.78,91.829,91.84,91.833,91.8305,91.8305,91.8255,91.829,91.8345,91.836,91.823,91.825,91.825,91.825,91.825,91.829,91.8205,91.8345,91.8035,91.77,91.819,91.833,91.783,91.783,91.783,91.7865,91.8075,91.8145,91.8145,91.7865,91.7865,91.8215,91.8215,91.842,91.8255,91.828,91.78,91.833,91.781,91.8,91.828,91.8325,91.8325,91.829,91.825,91.806,91.783,91.833,91.8175,91.8295,91.8305,91.8255,91.823,91.8255,91.829,91.833,91.8255,91.834,91.796,91.8325,91.8325,91.8325,91.833,91.833,91.833,91.833,91.833,91.819,91.783,91.8285,91.832,91.8305,91.8345,91.8245,91.829,91.8085,91.841,91.783,91.783,91.8345,91.8345,91.783,91.827,91.838,91.828,91.84,91.8365,91.8285,91.829,91.8365,91.841,91.841,91.834,91.789,91.829,91.8255,91.828,91.828,91.8305,91.8305,91.84,91.84,91.8075,91.834,91.829,91.834,91.841,91.806,91.836,91.8275,91.827,91.7915,91.827,91.783,91.828,91.828,91.828,91.841,91.8325,91.783,91.829,91.832,91.8325,91.827,91.8265,91.8365,91.8255,91.8305,91.781,91.8315,91.83,91.83,91.836,91.8195,91.8345,91.8345,91.832,91.827,91.833,91.833,91.77,91.833,91.8305,91.841,91.826,91.826,91.783,91.8145,91.841,91.7865,91.8215,91.783,91.783,91.819,91.828,91.819,91.832,91.813,91.77,91.77,91.832,91.828,91.841,91.841,91.8305,91.841,91.841,91.841,91.841,91.78,91.8255,91.8255,91.844,91.77,91.8345,91.8345,91.8045,91.76,91.76,91.76,91.76,91.76,91.785,91.77,91.77,91.819,91.8175,91.7605,91.78,91.78,91.783,91.832,91.832,91.783,91.819,91.836,91.823,91.78,91.8255,91.829,91.78,91.8365,91.828,91.841,91.8325,91.843,91.841,91.7865,91.783,91.8195,91.8195,91.8215,91.843,91.843,91.843,91.8255,91.8195,91.83,91.83,91.83,91.826,91.826,91.8255,91.8255,91.8255,91.828,91.828,91.828,91.828,91.828,91.828,91.828,91.827,91.82,91.82,91.819,91.819,91.819,91.819,91.819,91.783,91.783,91.783,91.783,91.783,91.828,91.841,91.841,91.841,91.828,91.835,91.806,91.806,91.806,91.806,91.806,91.806,91.806,91.834,91.834,91.834,91.834,91.834],\"marker\":{\"color\":\"red\",\"size\":9},\"mode\":\"markers+text\",\"name\":\"\",\"showlegend\":false,\"subplot\":\"mapbox\",\"text\":[\"Chandgaon Residential Area, 4 No Chandgaon Ward\",\"Badshah Miah Chowdhury Road, 15 No. Bagmoniram Ward\",\"Bibirhat, 7 No. West Sholoshohor Ward\",\"Lake Valley R\\u002fA, 9 No. North Pahartali Ward\",\"Nasirabad Housing Society, Muradpur\",\"Nasirabad, Bayazid\",\"Nasirabad, Bayazid\",\"South Khulshi, Khulshi\",\"Momin Road, Jamal Khan\",\"25 No. Rampur Ward, Double Mooring\",\"Nasirabad Housing Society, Muradpur\",\"West Khulshi, 9 No. North Pahartali Ward\",\"Shershah Colony, Bayazid\",\"Akbarshah Railway Colony, 9 No. North Pahartali Ward\",\"Nasirabad, Bayazid\",\"Zakir Hossain Road, Khulshi\",\"Dewan Bazar, Bakalia\",\"Hamjarbag, 7 No. West Sholoshohor Ward\",\"Dewan Bazar, Bakalia\",\"Dewan Bazar, Bakalia\",\"Hill View R\\u002fA, Bayazid\",\"Chand Mia Road, 4 No Chandgaon Ward\",\"17 No West Bakalia Ward, Bakalia\",\"Mohammad Pur Road, 7 No. West Sholoshohor Ward\",\"18 No. East Bakalia Ward, Bakalia\",\"18 No. East Bakalia Ward, Bakalia\",\"Nasirabad Housing Society, Muradpur\",\"18 No. East Bakalia Ward, Bakalia\",\"CDA Avenue, Muradpur\",\"Dewan Bazar, Bakalia\",\"Chasma Hill R\\u002fA, 7 No. West Sholoshohor Ward\",\"Nasirabad, Bayazid\",\"Dreamland Residential Area, Bayazid\",\"Nasirabad, Bayazid\",\"Chatteshwari Road, 15 No. Bagmoniram Ward\",\"26 No. North Halishahar Ward, Halishahar\",\"24 No. North Agrabad Ward, Double Mooring\",\"Chandgaon Residential Area, 4 No Chandgaon Ward\",\"1 No Railway Gate, Muradpur\",\"Nasirabad, 15 No. Bagmoniram Ward\",\"Nasirabad, 15 No. Bagmoniram Ward\",\"Nasirabad, 15 No. Bagmoniram Ward\",\"Nasirabad, 15 No. Bagmoniram Ward\",\"Nasirabad, 15 No. Bagmoniram Ward\",\"Nasirabad, 15 No. Bagmoniram Ward\",\"Nasirabad, Bayazid\",\"Nasirabad, Bayazid\",\"Nasirabad, Bayazid\",\"North Khulshi, Khulshi\",\"South Khulshi, Khulshi\",\"Darul Uloom Road, Jamal Khan\",\"Mirzapul Road, Muradpur\",\"Bahaddarhat, 4 No Chandgaon Ward\",\"39 No. South Halishahar Ward, Halishahar\",\"39 No. South Halishahar Ward, Halishahar\",\"Bahaddarhat, 4 No Chandgaon Ward\",\"Mohara, 4 No Chandgaon Ward\",\"Shahid Nagar, Bayazid\",\"12 No. Sarai Para Ward, Double Mooring\",\"12 No. Sarai Para Ward, Double Mooring\",\"12 No. Sarai Para Ward, Double Mooring\",\"12 No. Sarai Para Ward, Double Mooring\",\"Hill View R\\u002fA, Bayazid\",\"Patharghata, Kotwali\",\"Patharghata, Kotwali\",\"Dewan Bazar, Bakalia\",\"Korbanigonj, Kotwali\",\"18 No. East Bakalia Ward, Bakalia\",\"18 No. East Bakalia Ward, Bakalia\",\"Chand Mia Road, 4 No Chandgaon Ward\",\"28 No. Pathantooly Ward, Double Mooring\",\"28 No. Pathantooly Ward, Double Mooring\",\"28 No. Pathantooly Ward, Double Mooring\",\"38 No. South Middle Halishahar, Halishahar\",\"CDA Avenue, Sholokbahar\",\"East Nasirabad, Muradpur\",\"C & B Colony, East Nasirabad\",\"Road No 1, Jalalabad Housing Society\",\"Huseyn Shaheed Suhrawardy By Lane, 33 No. Firingee Bazaar Ward\",\"Akbarshah Railway Colony, 9 No. North Pahartali Ward\",\"Abdul Hamid Road, Sholokbahar\",\"Abdul Hamid Road, Sholokbahar\",\"South Agrabad, Double Mooring\",\"CDA Avenue, Muradpur\",\"Proshanti R\\u002fA, 10 No. North Kattali Ward\",\"Port Connecting Road, 11 No. South Kattali Ward\",\"18 No. East Bakalia Ward, Bakalia\",\"Noapara, 9 No. North Pahartali Ward\",\"Khulshi Green Housing Society, Khulshi\",\"Khulshi Green Housing Society, Khulshi\",\"Khulshi Green Housing Society, Khulshi\",\"Abdul Hamid Road, Sholokbahar\",\"Nasirabad Housing Society, Muradpur\",\"Mohammed Ali Road, 15 No. Bagmoniram Ward\",\"Jubilee Road, 22 No. Enayet Bazaar Ward\",\"24 No. North Agrabad Ward, Double Mooring\",\"Nasirabad Housing Society, Muradpur\",\"Kaibalyadham Housing Society, 9 No. North Pahartali Ward\",\"Polytechnic, Bayazid\",\"Dewan Bazar, Bakalia\",\"Dewan Bazar, Bakalia\",\"Dewan Bazar, Bakalia\",\"Chawk Bazar, 16 No. Chawk Bazaar Ward\",\"Zakir Hossain Road, Khulshi\",\"South Khulshi, Khulshi\",\"O. R Nizam Road, Panchlaish\",\"Abhoy Mitra Lane, 33 No. Firingee Bazaar Ward\",\"Majhirghat Road, 30 No. East Madarbari Ward\",\"Dhaka Trunk Road, 9 No. North Pahartali Ward\",\"Nabab Siraj Ud Daula Road, Jamal Khan\",\"Sheikh Mujib Road, Double Mooring\",\"South Agrabad, Double Mooring\",\"Bahaddarhat, 4 No Chandgaon Ward\",\"Bahaddarhat, 4 No Chandgaon Ward\",\"Bahaddarhat, 4 No Chandgaon Ward\",\"Mohara, 4 No Chandgaon Ward\",\"Nasirabad Housing Society, Muradpur\",\"Khulshi Garden View Housing Society, 9 No. North Pahartali Ward\",\"Khulshi Garden View Housing Society, 9 No. North Pahartali Ward\",\"Shahid Nagar, Bayazid\",\"Hillview Residential Area, 15 No. Bagmoniram Ward\",\"Ali Nagar, Bayazid\",\"South Khulshi, Khulshi\",\"Dhaka Trunk Road, 9 No. North Pahartali Ward\",\"Dhaka Trunk Road, 9 No. North Pahartali Ward\",\"Yakub Nagar Road, 33 No. Firingee Bazaar Ward\",\"Yakub Nagar Road, 33 No. Firingee Bazaar Ward\",\"Dhaka Trunk Road, 9 No. North Pahartali Ward\",\"Dhaka Trunk Road, 9 No. North Pahartali Ward\",\"Dhaka Trunk Road, 9 No. North Pahartali Ward\",\"Dhaka Trunk Road, 9 No. North Pahartali Ward\",\"Dhaka Trunk Road, 9 No. North Pahartali Ward\",\"Dhaka- Chattogram Highway, 10 No. North Kattali Ward\",\"25 No. Rampur Ward, Double Mooring\",\"25 No. Rampur Ward, Double Mooring\",\"Mohara, 4 No Chandgaon Ward\",\"Dakshin Kattali, 11 No. South Kattali Ward\",\"Halishahar Road, Halishahar\",\"28 No. Pathantooly Ward, Double Mooring\",\"Dhaka Trunk Road, 9 No. North Pahartali Ward\",\"Dhaka Trunk Road, 9 No. North Pahartali Ward\",\"Dhaka Trunk Road, 9 No. North Pahartali Ward\",\"Dhaka Trunk Road, 9 No. North Pahartali Ward\",\"Dhaka Trunk Road, 9 No. North Pahartali Ward\",\"Dhaka Trunk Road, 9 No. North Pahartali Ward\",\"Dhaka Trunk Road, 9 No. North Pahartali Ward\",\"Darogahat Road, 30 No. East Madarbari Ward\",\"Dreamland Residential Area, Bayazid\",\"Lake Valley R\\u002fA, 9 No. North Pahartali Ward\",\"North Khulshi, Khulshi\",\"Nandan Kanan, 22 No. Enayet Bazaar Ward\",\"Dakshin Kattali, 11 No. South Kattali Ward\",\"Kobi Kazi Nazrul Islam Road, 33 No. Firingee Bazaar Ward\",\"CDA Avenue, Sholokbahar\",\"CDA Avenue, Sholokbahar\",\"CDA Avenue, Sholokbahar\",\"Majhirghat Road, 30 No. East Madarbari Ward\",\"Majhirghat Road, 30 No. East Madarbari Ward\",\"Kobi Kazi Nazrul Islam Road, 33 No. Firingee Bazaar Ward\",\"Kobi Kazi Nazrul Islam Road, 33 No. Firingee Bazaar Ward\",\"Sabujbag, Halishahar\",\"Sabujbag, Halishahar\",\"12 No. Sarai Para Ward, Double Mooring\",\"12 No. Sarai Para Ward, Double Mooring\",\"24 No. North Agrabad Ward, Double Mooring\",\"24 No. North Agrabad Ward, Double Mooring\",\"Dewan Bazar, Bakalia\",\"South Agrabad, Double Mooring\",\"24 No. North Agrabad Ward, Double Mooring\",\"23 No. North Pathantooly Ward, Double Mooring\",\"23 No. North Pathantooly Ward, Double Mooring\",\"North Forida Para, 4 No Chandgaon Ward\",\"Chandgaon Residential Area, 4 No Chandgaon Ward\",\"Abhoy Mitra Lane, 33 No. Firingee Bazaar Ward\",\"Patharghata, Kotwali\",\"Patharghata, Kotwali\",\"14 No. Lalkhan Bazaar Ward, Lal Khan Bazaar\",\"39 No. South Halishahar Ward, Halishahar\",\"26 No. North Halishahar Ward, Halishahar\",\"Chandgaon Residential Area, 4 No Chandgaon Ward\",\"South Khulshi, Khulshi\",\"Yakub Future Park Housing, Khulshi\",\"R C Church Road, 33 No. Firingee Bazaar Ward\",\"Hill View R\\u002fA, Bayazid\",\"Dhaka Trunk Road, 9 No. North Pahartali Ward\",\"Dhaka Trunk Road, 9 No. North Pahartali Ward\",\"12 No. Sarai Para Ward, Double Mooring\",\"Majhirghat Road, 30 No. East Madarbari Ward\",\"Chandgaon Residential Area, 4 No Chandgaon Ward\",\"Commerce College Road, Double Mooring\",\"Commerce College Road, Double Mooring\",\"Commerce College Road, Double Mooring\",\"Polytechnic, Bayazid\",\"Bibirhat, 7 No. West Sholoshohor Ward\",\"South Khulshi, Khulshi\",\"Sangbadik Co-operative Housing Society, Bayazid\",\"Nasirabad, 15 No. Bagmoniram Ward\",\"Ambagan Road, Railway Colony\",\"18 No. East Bakalia Ward, Bakalia\",\"Patharghata, Kotwali\",\"Chatteshwari Road, 15 No. Bagmoniram Ward\",\"Chatteshwari Road, 15 No. Bagmoniram Ward\",\"Zakir Hossain Road, Khulshi\",\"Zakir Hossain Road, Khulshi\",\"Goaltuli Lane, 22 No. Enayet Bazaar Ward\",\"24 No. North Agrabad Ward, Double Mooring\",\"24 No. North Agrabad Ward, Double Mooring\",\"24 No. North Agrabad Ward, Double Mooring\",\"24 No. North Agrabad Ward, Double Mooring\",\"Ashkar Dighir Par, Jamal Khan\",\"Badshah Miah Chowdhury Road, 15 No. Bagmoniram Ward\",\"Badshah Miah Chowdhury Road, 15 No. Bagmoniram Ward\",\"32 No. Andarkilla Ward\",\"Colonel Hat, 10 No. North Kattali Ward\",\"Polytechnic, Bayazid\",\"Green Valley, Bayazid\",\"Shahid Nagar, Bayazid\",\"CDA Avenue, 15 No. Bagmoniram Ward\",\"West Khulshi, 9 No. North Pahartali Ward\",\"Patharghata, Kotwali\",\"South Agrabad, Double Mooring\",\"28 No. Pathantooly Ward, Double Mooring\",\"West Khulshi R\\u002fA, 9 No. North Pahartali Ward\",\"Hill Side Residential Area, Lal Khan Bazaar\",\"Hill Side Residential Area, Lal Khan Bazaar\",\"Joy Pahar Housing Estate, Kazir Dewri\",\"Lake Valley R\\u002fA, 9 No. North Pahartali Ward\",\"Al-Madani Road, Sholokbahar\",\"Al-Madani Road, Sholokbahar\",\"Al-Madani Road, Sholokbahar\",\"Raufabad Residential Area, Bayazid\",\"Zakir Hossain Road, Khulshi\",\"37 No. North-Middle Halishahar Ward, Halishahar\",\"14 No. Lalkhan Bazaar Ward, Lal Khan Bazaar\",\"Zakir Hossain By Lane, East Nasirabad\",\"Al-Madani Road, Sholokbahar\",\"Kobi Kazi Nazrul Islam Road, 33 No. Firingee Bazaar Ward\",\"South Khulshi, Khulshi\",\"Yakub Future Park Housing, Khulshi\",\"Sheikh Mujib Road, Double Mooring\",\"25 No. Rampur Ward, Double Mooring\",\"West Khulshi R\\u002fA, 9 No. North Pahartali Ward\",\"West Khulshi R\\u002fA, 9 No. North Pahartali Ward\",\"West Khulshi R\\u002fA, 9 No. North Pahartali Ward\",\"West Khulshi R\\u002fA, 9 No. North Pahartali Ward\",\"West Khulshi R\\u002fA, 9 No. North Pahartali Ward\",\"Hill View R\\u002fA, Bayazid\",\"Hill View R\\u002fA, Bayazid\",\"Hill View R\\u002fA, Bayazid\",\"Hill View R\\u002fA, Bayazid\",\"Hill View R\\u002fA, Bayazid\",\"Nasirabad, Bayazid\",\"Yakub Future Park Housing, Khulshi\",\"Katalgonj, Panchlaish\",\"26 No. North Halishahar Ward, Halishahar\",\"Dewan Bazar, Bakalia\",\"Nasirabad Housing Society, Muradpur\",\"CDA Avenue, Sholokbahar\",\"Dhaka Trunk Road, 9 No. North Pahartali Ward\",\"Cosmopolitan R\\u002fA, 7 No. West Sholoshohor Ward\",\"Chandgaon Residential Area, 4 No Chandgaon Ward\",\"South Agrabad, Double Mooring\",\"Chadra Nagar, Bayazid\",\"39 No. South Halishahar Ward, Halishahar\",\"17 No West Bakalia Ward, Bakalia\",\"West Khulshi, 9 No. North Pahartali Ward\",\"Sugandha Residential Area, Panchlaish\",\"Nasirabad Housing Society, Muradpur\",\"South Khulshi, Khulshi\",\"Ali Nagar, Bayazid\",\"Nasirabad, 15 No. Bagmoniram Ward\",\"West Khulshi R\\u002fA, 9 No. North Pahartali Ward\",\"24 No. North Agrabad Ward, Double Mooring\",\"South Khulshi, Khulshi\",\"37 No. North-Middle Halishahar Ward, Halishahar\",\"Munshi Pukur Par, 16 No. Chawk Bazaar Ward\",\"Nasirabad, Bayazid\",\"Dewan Bazar, Bakalia\",\"Dewan Bazar, Bakalia\",\"Mohara, 4 No Chandgaon Ward\",\"Munshi Pukur Par, 16 No. Chawk Bazaar Ward\",\"24 No. North Agrabad Ward, Double Mooring\",\"Dewan Bazar, Bakalia\",\"17 No West Bakalia Ward, Bakalia\",\"Yakub Future Park Housing, Khulshi\",\"West Khulshi, 9 No. North Pahartali Ward\",\"Dhaka Trunk Road, 9 No. North Pahartali Ward\",\"Dhaka Trunk Road, 9 No. North Pahartali Ward\",\"Dewan Bazar, Bakalia\",\"CDA Avenue, Sholokbahar\",\"Chadra Nagar, Bayazid\",\"South Agrabad, Double Mooring\",\"24 No. North Agrabad Ward, Double Mooring\",\"Dewan Bazar, Bakalia\",\"Nasirabad Housing Society, Muradpur\",\"Dewan Bazar, Bakalia\",\"CDA Avenue, Sholokbahar\",\"South Khulshi, Khulshi\",\"CDA Avenue, 7 No. West Sholoshohor Ward\",\"19 No. South Bakalia Ward, Bakalia\",\"Rahmatganj, Jamal Khan\",\"Abhoy Mitra Lane, 33 No. Firingee Bazaar Ward\",\"26 No. North Halishahar Ward, Halishahar\",\"39 No. South Halishahar Ward, Halishahar\",\"26 No. North Halishahar Ward, Halishahar\",\"Mohammad Pur Road, 7 No. West Sholoshohor Ward\",\"37 No. North-Middle Halishahar Ward, Halishahar\",\"Rose Valley Residential Area, 9 No. North Pahartali Ward\",\"Dhaka Trunk Road, 9 No. North Pahartali Ward\",\"Dhaka Trunk Road, 9 No. North Pahartali Ward\",\"Dhaka Trunk Road, 9 No. North Pahartali Ward\",\"Foys Lake, 9 No. North Pahartali Ward\",\"Foys Lake, 9 No. North Pahartali Ward\",\"Sadarghat Road, 33 No. Firingee Bazaar Ward\",\"Ashkar Dighir Par, Jamal Khan\",\"Majhirghat Road, 30 No. East Madarbari Ward\",\"Bangla Bazar, Bayazid\",\"Alkaran Road, 31 No. Alkoron Ward\",\"10 No. North Kattali Ward\",\"Alkaran Road, 31 No. Alkoron Ward\",\"Nasirabad, 15 No. Bagmoniram Ward\",\"Nasirabad, 15 No. Bagmoniram Ward\",\"Nasirabad, 15 No. Bagmoniram Ward\",\"Nasirabad, 15 No. Bagmoniram Ward\",\"Chadra Nagar, Bayazid\",\"Hamjarbag, 7 No. West Sholoshohor Ward\",\"South Khulshi, Khulshi\",\"Chand Mia Road, 4 No Chandgaon Ward\",\"Rose Valley Residential Area, 9 No. North Pahartali Ward\",\"Nasirabad, 15 No. Bagmoniram Ward\",\"Chatteshwari Road, 15 No. Bagmoniram Ward\",\"Bangla Bazar, Bayazid\",\"Shahid Saifuddin Khaled Road, Jamal Khan\",\"Chandgaon Residential Area, 4 No Chandgaon Ward\",\"Polytechnic, Bayazid\",\"Patharghata, Kotwali\",\"Commerce College Road, Double Mooring\",\"Badurtala, Sholokbahar\",\"12 No. Sarai Para Ward, Double Mooring\",\"25 No. Rampur Ward, Double Mooring\",\"24 No. North Agrabad Ward, Double Mooring\",\"12 No. Sarai Para Ward, Double Mooring\",\"17 No West Bakalia Ward, Bakalia\",\"Nasirabad, 15 No. Bagmoniram Ward\",\"Katalganj Residential Area, 16 No. Chawk Bazaar Ward\",\"Jubilee Road, 22 No. Enayet Bazaar Ward\",\"17 No West Bakalia Ward, Bakalia\",\"Proshanti R\\u002fA, 10 No. North Kattali Ward\",\"Masjid Lane, 15 No. Bagmoniram Ward\",\"Nasirabad, Bayazid\",\"Nasirabad, Bayazid\",\"Chasma Hill R\\u002fA, 7 No. West Sholoshohor Ward\",\"18 No. East Bakalia Ward, Bakalia\",\"18 No. East Bakalia Ward, Bakalia\",\"18 No. East Bakalia Ward, Bakalia\",\"18 No. East Bakalia Ward, Bakalia\",\"Chand Mia Road, 4 No Chandgaon Ward\",\"17 No West Bakalia Ward, Bakalia\",\"CDA Avenue, Lal Khan Bazaar\",\"Panchlaish\",\"15 No. Bagmoniram Ward\",\"CDA R\\u002fA, 10 No. North Kattali Ward\",\"Bahaddarhat, 4 No Chandgaon Ward\",\"Bahaddarhat, 4 No Chandgaon Ward\",\"39 No. South Halishahar Ward, Halishahar\",\"39 No. South Halishahar Ward, Halishahar\",\"Mohara, 4 No Chandgaon Ward\",\"Mohara, 4 No Chandgaon Ward\",\"Mohara, 4 No Chandgaon Ward\",\"Chattogram DOHS, Bayazid\",\"12 No. Sarai Para Ward, Double Mooring\",\"12 No. Sarai Para Ward, Double Mooring\",\"Mohara, 4 No Chandgaon Ward\",\"12 No. Sarai Para Ward, Double Mooring\",\"12 No. Sarai Para Ward, Double Mooring\",\"12 No. Sarai Para Ward, Double Mooring\",\"12 No. Sarai Para Ward, Double Mooring\",\"12 No. Sarai Para Ward, Double Mooring\",\"12 No. Sarai Para Ward, Double Mooring\",\"Dewan Bazar, Bakalia\",\"Dewan Bazar, Bakalia\",\"Dewan Bazar, Bakalia\",\"Dewan Bazar, Bakalia\",\"Chand Mia Road, 4 No Chandgaon Ward\",\"Nasirabad Properties Residential Area, Khulshi\",\"32 No. Andarkilla Ward\",\"32 No. Andarkilla Ward\",\"28 No. Pathantooly Ward, Double Mooring\",\"Mehidibag, 15 No. Bagmoniram Ward\",\"CDA Avenue, Muradpur\",\"Chadra Nagar, Bayazid\",\"Port Connecting Road, 11 No. South Kattali Ward\",\"Ashkar Dighir Par, Jamal Khan\",\"Ashkar Dighir Par, Jamal Khan\",\"12 No. Sarai Para Ward, Double Mooring\",\"Govt Girls High School Road, East Nasirabad\",\"Green Valley, Bayazid\",\"Hill View R\\u002fA, Bayazid\",\"Mohammed Ali Road, 15 No. Bagmoniram Ward\",\"Korbanigonj, Kotwali\",\"Dewan Bazar, Bakalia\",\"Dewan Bazar, Bakalia\",\"Dewan Bazar, Bakalia\",\"Dewan Bazar, Bakalia\",\"Dewan Bazar, Bakalia\",\"19 No. South Bakalia Ward, Bakalia\",\"Chand Mia Road, 4 No Chandgaon Ward\",\"Chand Mia Road, 4 No Chandgaon Ward\",\"17 No West Bakalia Ward, Bakalia\",\"18 No. East Bakalia Ward, Bakalia\",\"18 No. East Bakalia Ward, Bakalia\",\"18 No. East Bakalia Ward, Bakalia\",\"Chand Mia Road, 4 No Chandgaon Ward\",\"Chand Mia Road, 4 No Chandgaon Ward\",\"Chadra Nagar, Bayazid\",\"Dewan Bazar, Bakalia\",\"Dewan Bazar, Bakalia\",\"Dewan Bazar, Bakalia\",\"Dewan Bazar, Bakalia\",\"Enayet Bazar Road, 22 No. Enayet Bazaar Ward\",\"Bayazid Bostami Road, 15 No. Bagmoniram Ward\",\"Al-Madani Road, Sholokbahar\",\"Badshah Miah Chowdhury Road, 15 No. Bagmoniram Ward\",\"Chandgaon Residential Area, 4 No Chandgaon Ward\",\"Chawk Bazar, 16 No. Chawk Bazaar Ward\",\"Nasirabad Housing Society, Muradpur\",\"Bangladesh Co-operative Housing Society, Bayazid\",\"Sugandha Residential Area, Panchlaish\",\"Port Connecting Road, 11 No. South Kattali Ward\",\"Abdul Hamid Road, Sholokbahar\",\"Abdul Hamid Road, Sholokbahar\",\"Hill Side Residential Area, Lal Khan Bazaar\",\"Colonel Hat, 10 No. North Kattali Ward\",\"O. R. Nizam Road, 15 No. Bagmoniram Ward\",\"West Khulshi R\\u002fA, 9 No. North Pahartali Ward\",\"West Khulshi R\\u002fA, 9 No. North Pahartali Ward\",\"West Khulshi R\\u002fA, 9 No. North Pahartali Ward\",\"West Khulshi R\\u002fA, 9 No. North Pahartali Ward\",\"West Khulshi R\\u002fA, 9 No. North Pahartali Ward\",\"Amirbag Residential Area, 15 No. Bagmoniram Ward\",\"West Khulshi R\\u002fA, 9 No. North Pahartali Ward\",\"West Khulshi R\\u002fA, 9 No. North Pahartali Ward\",\"West Khulshi, 9 No. North Pahartali Ward\",\"Patharghata, Kotwali\",\"C & B Colony, East Nasirabad\",\"Katalgonj, Panchlaish\",\"Bayazid Bostami Road, 15 No. Bagmoniram Ward\",\"Bayazid Bostami Road, 15 No. Bagmoniram Ward\",\"28 No. Pathantooly Ward, Double Mooring\",\"28 No. Pathantooly Ward, Double Mooring\",\"CDA Avenue, Sholokbahar\",\"CDA Avenue, Sholokbahar\",\"CDA Avenue, Sholokbahar\",\"CDA Avenue, Sholokbahar\",\"South Khulshi, Khulshi\",\"Nasirabad, 15 No. Bagmoniram Ward\",\"Dhaka Trunk Road, 9 No. North Pahartali Ward\",\"Dhaka Trunk Road, 9 No. North Pahartali Ward\",\"25 No. Rampur Ward, Double Mooring\",\"Dhaka Trunk Road, 9 No. North Pahartali Ward\",\"Dhaka Trunk Road, 9 No. North Pahartali Ward\",\"Dhaka Trunk Road, 9 No. North Pahartali Ward\",\"Dhaka Trunk Road, 9 No. North Pahartali Ward\",\"Dhaka Trunk Road, 9 No. North Pahartali Ward\",\"26 No. North Halishahar Ward, Halishahar\",\"28 No. Pathantooly Ward, Double Mooring\",\"25 No. Rampur Ward, Double Mooring\",\"Dhaka Trunk Road, 9 No. North Pahartali Ward\",\"Dhaka Trunk Road, 9 No. North Pahartali Ward\",\"Akbarshah Railway Colony, 9 No. North Pahartali Ward\",\"Yakub Nagar Road, 33 No. Firingee Bazaar Ward\",\"Sabujbag, Halishahar\",\"Rose Valley Residential Area, 9 No. North Pahartali Ward\",\"24 No. North Agrabad Ward, Double Mooring\",\"24 No. North Agrabad Ward, Double Mooring\",\"South Agrabad, Double Mooring\",\"South Agrabad, Double Mooring\",\"South Agrabad, Double Mooring\",\"24 No. North Agrabad Ward, Double Mooring\",\"Bahaddarhat, 4 No Chandgaon Ward\",\"Chandgaon Residential Area, 4 No Chandgaon Ward\",\"Oxygen, Bayazid\",\"Mohara, 4 No Chandgaon Ward\",\"Mohara, 4 No Chandgaon Ward\",\"Mohara, 4 No Chandgaon Ward\",\"Cosmopolitan R\\u002fA, 7 No. West Sholoshohor Ward\",\"12 No. Sarai Para Ward, Double Mooring\",\"Dewan Bazar, Bakalia\",\"Dewan Bazar, Bakalia\",\"Dewan Bazar, Bakalia\",\"12 No. Sarai Para Ward, Double Mooring\",\"Dewan Bazar, Bakalia\",\"Dewan Bazar, Bakalia\",\"Dewan Bazar, Bakalia\",\"Mayor Goli, 7 No. West Sholoshohor Ward\",\"Dewan Bazar, Bakalia\",\"Dewan Bazar, Bakalia\",\"Dewan Bazar, Bakalia\",\"Dewan Bazar, Bakalia\",\"Yakub Future Park Housing, Khulshi\",\"Munshi Pukur Par, 16 No. Chawk Bazaar Ward\",\"10 No. North Kattali Ward\",\"1 No Railway Gate, Muradpur\",\"Panchlaish Residential Area, 16 No. Chawk Bazaar Ward\",\"West Khulshi R\\u002fA, 9 No. North Pahartali Ward\",\"Badurtala, Sholokbahar\",\"O. R Nizam Road, Panchlaish\",\"West Khulshi R\\u002fA, 9 No. North Pahartali Ward\",\"26 No. North Halishahar Ward, Halishahar\",\"Yakub Future Park Housing, Khulshi\",\"Yakub Future Park Housing, Khulshi\",\"Yakub Future Park Housing, Khulshi\",\"Yakub Future Park Housing, Khulshi\",\"West Khulshi R\\u002fA, 9 No. North Pahartali Ward\",\"West Khulshi R\\u002fA, 9 No. North Pahartali Ward\",\"Hill View R\\u002fA, Bayazid\",\"City Gate, 10 No. North Kattali Ward\",\"CDA Avenue, East Nasirabad\",\"Kobi Kazi Nazrul Islam Road, 33 No. Firingee Bazaar Ward\",\"Kobi Kazi Nazrul Islam Road, 33 No. Firingee Bazaar Ward\",\"Kobi Kazi Nazrul Islam Road, 33 No. Firingee Bazaar Ward\",\"Nandan Kanan, 22 No. Enayet Bazaar Ward\",\"Ali Nagar, Bayazid\",\"26 No. North Halishahar Ward, Halishahar\",\"26 No. North Halishahar Ward, Halishahar\",\"26 No. North Halishahar Ward, Halishahar\",\"Chawk Bazar, 16 No. Chawk Bazaar Ward\",\"Akbarshah, 9 No. North Pahartali Ward\",\"Akbarshah, 9 No. North Pahartali Ward\",\"Akbarshah, 9 No. North Pahartali Ward\",\"Polytechnic, Bayazid\",\"Proshanti R\\u002fA, 10 No. North Kattali Ward\",\"Mehidibag Road, 15 No. Bagmoniram Ward\",\"Munshi Pukur Par, 16 No. Chawk Bazaar Ward\",\"Yakub Future Park Housing, Khulshi\",\"Chandgaon Residential Area, 4 No Chandgaon Ward\",\"Panchlaish Residential Area, 16 No. Chawk Bazaar Ward\",\"Somobay Residential Area, Bayazid\",\"CDA Avenue, East Nasirabad\",\"Chawk Bazar, 16 No. Chawk Bazaar Ward\",\"West Khulshi R\\u002fA, 9 No. North Pahartali Ward\",\"Rose Valley Residential Area, 9 No. North Pahartali Ward\",\"Lake Valley R\\u002fA, 9 No. North Pahartali Ward\",\"14 No. Lalkhan Bazaar Ward, Lal Khan Bazaar\",\"39 No. South Halishahar Ward, Halishahar\",\"39 No. South Halishahar Ward, Halishahar\",\"39 No. South Halishahar Ward, Halishahar\",\"Sheikh Mujib Road, Double Mooring\",\"26 No. North Halishahar Ward, Halishahar\",\"26 No. North Halishahar Ward, Halishahar\",\"14 No. Lalkhan Bazaar Ward, Lal Khan Bazaar\",\"14 No. Lalkhan Bazaar Ward, Lal Khan Bazaar\",\"26 No. North Halishahar Ward, Halishahar\",\"26 No. North Halishahar Ward, Halishahar\",\"26 No. North Halishahar Ward, Halishahar\",\"26 No. North Halishahar Ward, Halishahar\",\"26 No. North Halishahar Ward, Halishahar\",\"Sabujbag, Halishahar\",\"1 No. Goli, 29 No. West Madarbari Ward\",\"17 No West Bakalia Ward, Bakalia\",\"12 No. Sarai Para Ward, Double Mooring\",\"Dhaka Trunk Road, 9 No. North Pahartali Ward\",\"Dhaka Trunk Road, 9 No. North Pahartali Ward\",\"Dhaka Trunk Road, 9 No. North Pahartali Ward\",\"Dhaka Trunk Road, 9 No. North Pahartali Ward\",\"Dhaka Trunk Road, 9 No. North Pahartali Ward\",\"South Khulshi, Khulshi\",\"Dhaka Trunk Road, 9 No. North Pahartali Ward\",\"Dhaka Trunk Road, 9 No. North Pahartali Ward\",\"Sugandha Residential Area, Panchlaish\",\"Nasirabad Housing Society, Muradpur\",\"West Khulshi, 9 No. North Pahartali Ward\",\"Tayab Bag R\\u002fA, 7 No. West Sholoshohor Ward\",\"Zakir Hossain Road, Khulshi\",\"18 No. East Bakalia Ward, Bakalia\",\"Nasirabad Housing Society, Muradpur\",\"Oxygen, Bayazid\",\"Dewan Bazar, Bakalia\",\"Dewan Bazar, Bakalia\",\"17 No West Bakalia Ward, Bakalia\",\"Mirzapul Road, Muradpur\",\"Al-Falah Housing Society, East Nasirabad\",\"Al-Falah Housing Society, East Nasirabad\",\"Jubilee Road, 22 No. Enayet Bazaar Ward\",\"Nasirabad Housing Society, Muradpur\",\"Raufabad Residential Area, Bayazid\",\"17 No West Bakalia Ward, Bakalia\",\"17 No West Bakalia Ward, Bakalia\",\"Panchlaish Residential Area, 16 No. Chawk Bazaar Ward\",\"Chawk Bazar, 16 No. Chawk Bazaar Ward\",\"Chandgaon Residential Area, 4 No Chandgaon Ward\",\"Abdul Latif Road, Sholokbahar\",\"Mohammadpur, 7 No. West Sholoshohor Ward\",\"Chatteshwari Road, 15 No. Bagmoniram Ward\",\"Lake Valley R\\u002fA, 9 No. North Pahartali Ward\",\"Chawk Bazar, 16 No. Chawk Bazaar Ward\",\"Zakir Hossain Road, Khulshi\",\"24 No. North Agrabad Ward, Double Mooring\",\"6 No East Sholoshohor Ward, Bakalia\",\"26 No. North Halishahar Ward, Halishahar\",\"Dewan Bazar, Bakalia\",\"Chandgaon Residential Area, 4 No Chandgaon Ward\",\"39 No. South Halishahar Ward, Halishahar\",\"39 No. South Halishahar Ward, Halishahar\",\"Khulshi Green Housing Society, Khulshi\",\"Cosmopolitan R\\u002fA, 7 No. West Sholoshohor Ward\",\"Nasirabad, 15 No. Bagmoniram Ward\",\"Zakir Hossain Road, Khulshi\",\"Dewan Bazar, Bakalia\",\"Nasirabad, 15 No. Bagmoniram Ward\",\"Khulshi Green Housing Society, Khulshi\",\"Yakub Future Park Housing, Khulshi\",\"26 No. North Halishahar Ward, Halishahar\",\"26 No. North Halishahar Ward, Halishahar\",\"Sangbadik Co-operative Housing Society, Bayazid\",\"Dewan Bazar, Bakalia\",\"24 No. North Agrabad Ward, Double Mooring\",\"South Agrabad, Double Mooring\",\"Cosmopolitan R\\u002fA, 7 No. West Sholoshohor Ward\",\"Sangbadik Co-operative Housing Society, Bayazid\",\"23 No. North Pathantooly Ward, Double Mooring\",\"18 No. East Bakalia Ward, Bakalia\",\"6 No East Sholoshohor Ward, Bakalia\",\"Katalgonj, Panchlaish\",\"CDA Avenue, Sholokbahar\",\"South Khulshi, Khulshi\",\"24 No. North Agrabad Ward, Double Mooring\",\"Khulshi Green Housing Society, Khulshi\",\"Proshanti R\\u002fA, 10 No. North Kattali Ward\",\"Munshi Pukur Par, 16 No. Chawk Bazaar Ward\",\"Shershah Colony, Bayazid\",\"24 No. North Agrabad Ward, Double Mooring\",\"South Khulshi, Khulshi\",\"North Khulshi, Khulshi\",\"North Forida Para, 4 No Chandgaon Ward\",\"South Khulshi, Khulshi\",\"26 No. North Halishahar Ward, Halishahar\",\"26 No. North Halishahar Ward, Halishahar\",\"Dhaka Trunk Road, 9 No. North Pahartali Ward\",\"19 No. South Bakalia Ward, Bakalia\",\"Sangbadik Co-operative Housing Society, Bayazid\",\"Proshanti R\\u002fA, 10 No. North Kattali Ward\",\"12 No. Sarai Para Ward, Double Mooring\",\"Rahmatganj, Jamal Khan\",\"Kapasgola, 16 No. Chawk Bazaar Ward\",\"24 No. North Agrabad Ward, Double Mooring\",\"Dhaka Trunk Road, 9 No. North Pahartali Ward\",\"24 No. North Agrabad Ward, Double Mooring\",\"10 No. North Kattali Ward\",\"West Khulshi R\\u002fA, 9 No. North Pahartali Ward\",\"O. R. Nizam Road, 15 No. Bagmoniram Ward\",\"Nasirabad, 15 No. Bagmoniram Ward\",\"Bayazid Bostami Road, 15 No. Bagmoniram Ward\",\"South Agrabad, Double Mooring\",\"South Agrabad, Double Mooring\",\"South Agrabad, Double Mooring\",\"Hill Side Residential Area, Lal Khan Bazaar\",\"Hill Side Residential Area, Lal Khan Bazaar\",\"Hill Side Residential Area, Lal Khan Bazaar\",\"Hill Side Residential Area, Lal Khan Bazaar\",\"Proshanti R\\u002fA, 10 No. North Kattali Ward\",\"Chadra Nagar, Bayazid\",\"Chadra Nagar, Bayazid\",\"1 No Railway Gate, Muradpur\",\"Panchlaish Residential Area, 16 No. Chawk Bazaar Ward\",\"South Khulshi, Khulshi\",\"CDA Avenue, Lal Khan Bazaar\",\"14 No. Lalkhan Bazaar Ward, Lal Khan Bazaar\",\"14 No. Lalkhan Bazaar Ward, Lal Khan Bazaar\",\"Momin Road, Jamal Khan\",\"Habib Lane, Khulshi\",\"29 No. West Madarbari Ward\",\"Chand Mia Road, 4 No Chandgaon Ward\",\"Chandgaon Residential Area, 4 No Chandgaon Ward\",\"South Agrabad, Double Mooring\",\"Foy's Lake Approach Road, 9 No. North Pahartali Ward\",\"Abhoy Mitra Lane, 33 No. Firingee Bazaar Ward\",\"Nabab Siraj Ud Daula Road, Jamal Khan\",\"Nabab Siraj Ud Daula Road, Jamal Khan\",\"Bahaddarhat, 4 No Chandgaon Ward\",\"Bahaddarhat, 4 No Chandgaon Ward\",\"Mohara, 4 No Chandgaon Ward\",\"Nasirabad, Bayazid\",\"CDA R\\u002fA, 10 No. North Kattali Ward\",\"Bahaddarhat, 4 No Chandgaon Ward\",\"Bahaddarhat, 4 No Chandgaon Ward\",\"Bahaddarhat, 4 No Chandgaon Ward\",\"39 No. South Halishahar Ward, Halishahar\",\"39 No. South Halishahar Ward, Halishahar\",\"Mohara, 4 No Chandgaon Ward\",\"Mohara, 4 No Chandgaon Ward\",\"Chattogram DOHS, Bayazid\",\"Chattogram DOHS, Bayazid\",\"Mohara, 4 No Chandgaon Ward\",\"12 No. Sarai Para Ward, Double Mooring\",\"12 No. Sarai Para Ward, Double Mooring\",\"12 No. Sarai Para Ward, Double Mooring\",\"12 No. Sarai Para Ward, Double Mooring\",\"Nasirabad Housing Society, Muradpur\",\"Mohara, 4 No Chandgaon Ward\",\"Dewan Bazar, Bakalia\",\"Dewan Bazar, Bakalia\",\"Korbanigonj, Kotwali\",\"Korbanigonj, Kotwali\",\"Dewan Bazar, Bakalia\",\"Hamjarbag, 7 No. West Sholoshohor Ward\",\"Dewan Bazar, Bakalia\",\"18 No. East Bakalia Ward, Bakalia\",\"18 No. East Bakalia Ward, Bakalia\",\"18 No. East Bakalia Ward, Bakalia\",\"18 No. East Bakalia Ward, Bakalia\",\"18 No. East Bakalia Ward, Bakalia\",\"18 No. East Bakalia Ward, Bakalia\",\"Chand Mia Road, 4 No Chandgaon Ward\",\"Chand Mia Road, 4 No Chandgaon Ward\",\"17 No West Bakalia Ward, Bakalia\",\"Mohammed Ali Road, 15 No. Bagmoniram Ward\",\"O. R. Nizam Road, 15 No. Bagmoniram Ward\",\"Al-Madani Road, Sholokbahar\",\"Al-Madani Road, Sholokbahar\",\"Al-Madani Road, Sholokbahar\",\"West Khulshi R\\u002fA, 9 No. North Pahartali Ward\",\"Hill Side Residential Area, Lal Khan Bazaar\",\"Somobay Residential Area, Bayazid\",\"26 No. North Halishahar Ward, Halishahar\",\"Colonel Hat, 10 No. North Kattali Ward\",\"Mehidibag Road, 15 No. Bagmoniram Ward\",\"24 No. North Agrabad Ward, Double Mooring\",\"Paharicka R\\u002fA Road, South Khulsi\",\"Paharicka R\\u002fA Road, South Khulsi\",\"Zakir Hossain Road, Khulshi\",\"Alkaran Road, 31 No. Alkoron Ward\",\"Kalu Shah Bazar, 4 No Chandgaon Ward\",\"Chandgaon Residential Area, 4 No Chandgaon Ward\",\"Chandgaon Residential Area, 4 No Chandgaon Ward\",\"24 No. North Agrabad Ward, Double Mooring\",\"Cosmopolitan R\\u002fA, 7 No. West Sholoshohor Ward\",\"Mohara, 4 No Chandgaon Ward\",\"Mohara, 4 No Chandgaon Ward\",\"Dewan Bazar, Bakalia\",\"Dewan Bazar, Bakalia\",\"Kulgaon, Bayazid\",\"28 No. Pathantooly Ward, Double Mooring\",\"Chandgaon Residential Area, 4 No Chandgaon Ward\",\"Alkaran Road, 31 No. Alkoron Ward\",\"Colonel Hat, 10 No. North Kattali Ward\",\"Somobay Residential Area, Bayazid\",\"Mehidibag, 15 No. Bagmoniram Ward\",\"Abdul Hamid Road, Sholokbahar\",\"Bayazid Bostami Road, 15 No. Bagmoniram Ward\",\"Commerce College Road, Double Mooring\",\"Nandan Kanan, 22 No. Enayet Bazaar Ward\",\"Chatteshwari Road, 15 No. Bagmoniram Ward\",\"Kobi Kazi Nazrul Islam Road, 33 No. Firingee Bazaar Ward\",\"Kobi Kazi Nazrul Islam Road, 33 No. Firingee Bazaar Ward\",\"Bibirhat, 7 No. West Sholoshohor Ward\",\"Ali Nagar, Bayazid\",\"24 No. North Agrabad Ward, Double Mooring\",\"24 No. North Agrabad Ward, Double Mooring\",\"24 No. North Agrabad Ward, Double Mooring\",\"24 No. North Agrabad Ward, Double Mooring\",\"24 No. North Agrabad Ward, Double Mooring\",\"24 No. North Agrabad Ward, Double Mooring\",\"Abhoy Mitra Lane, 33 No. Firingee Bazaar Ward\",\"28 No. Pathantooly Ward, Double Mooring\",\"Bibirhat, 7 No. West Sholoshohor Ward\",\"Green View Residential Area, 11 No. South Kattali Ward\",\"Zakir Hossain By Lane, East Nasirabad\",\"Patharghata, Bakalia\",\"Patharghata, Bakalia\",\"Khulshi Green Housing Society, Khulshi\",\"Khulshi Green Housing Society, Khulshi\",\"Khulshi Green Housing Society, Khulshi\",\"Nasirabad Properties Residential Area, Khulshi\",\"Badurtala, Sholokbahar\",\"Maij Para, 11 No. South Kattali Ward\",\"25 No. Rampur Ward, Double Mooring\",\"New Monsurabad, 10 No. North Kattali Ward\",\"Chawk Bazar, 16 No. Chawk Bazaar Ward\",\"Jamal Khan By-Lane, Jamal Khan\",\"Dewan Bazar, Bakalia\",\"Dewan Bazar, Bakalia\",\"Dewan Bazar, Bakalia\",\"Dewan Bazar, Bakalia\",\"Dewan Bazar, Bakalia\",\"Chasma Hill R\\u002fA, 7 No. West Sholoshohor Ward\",\"Nasirabad, 15 No. Bagmoniram Ward\",\"17 No West Bakalia Ward, Bakalia\",\"Dewan Bazar, Bakalia\",\"17 No West Bakalia Ward, Bakalia\",\"17 No West Bakalia Ward, Bakalia\",\"Mehidibag, 15 No. Bagmoniram Ward\",\"Nasirabad, Bayazid\",\"Nasirabad, Bayazid\",\"Nasirabad, Bayazid\",\"South Khulshi, Khulshi\",\"Nasirabad, 15 No. Bagmoniram Ward\",\"Nasirabad, 15 No. Bagmoniram Ward\",\"Oxygen Kuwaish Road, Bayazid\",\"New Monsurabad, 10 No. North Kattali Ward\",\"Chandgaon Residential Area, 4 No Chandgaon Ward\",\"16 No. Chawk Bazaar Ward\",\"Mirzapul Road, Muradpur\",\"CDA Avenue, Sholokbahar\",\"R C Church Road, 33 No. Firingee Bazaar Ward\",\"West Firojshah colony, 9 No. North Pahartali Ward\",\"Alkaran Road, 31 No. Alkoron Ward\",\"Chattogram DOHS, Bayazid\",\"40 No. North Patenga Ward, Patenga\",\"Mehidibag, 15 No. Bagmoniram Ward\",\"Dakshin Kattali, 11 No. South Kattali Ward\",\"Green Valley, Bayazid\",\"Khulshi Green Housing Society, Khulshi\",\"Mehidibag, 15 No. Bagmoniram Ward\",\"24 No. North Agrabad Ward, Double Mooring\",\"Proshanti R\\u002fA, 10 No. North Kattali Ward\",\"Momin Road, Jamal Khan\",\"West Khulshi R\\u002fA, 9 No. North Pahartali Ward\",\"East Nasirabad, Muradpur\",\"Khulshi Green Housing Society, Khulshi\",\"Nasirabad Housing Society, Muradpur\",\"South Khulshi, Khulshi\",\"Katalganj Residential Area, 16 No. Chawk Bazaar Ward\",\"Panchlaish Residential Area, 16 No. Chawk Bazaar Ward\",\"West Khulshi, 9 No. North Pahartali Ward\",\"CDA Avenue, Sholokbahar\",\"CDA Avenue, Sholokbahar\",\"CDA Avenue, Sholokbahar\",\"CDA Avenue, Sholokbahar\",\"Proshanti R\\u002fA, 10 No. North Kattali Ward\",\"Mohammadpur, 7 No. West Sholoshohor Ward\",\"Kulgaon, Bayazid\",\"Shamsher Para, 4 No Chandgaon Ward\",\"26 No. North Halishahar Ward, Halishahar\",\"Chandgaon Residential Area, 4 No Chandgaon Ward\",\"Chattogram DOHS, Bayazid\",\"South Agrabad, Double Mooring\",\"South Agrabad, Double Mooring\",\"South Agrabad, Double Mooring\",\"6 No East Sholoshohor Ward, Bakalia\",\"Cosmopolitan R\\u002fA, 7 No. West Sholoshohor Ward\",\"Jangalpara, 7 No. West Sholoshohor Ward\",\"Jangalpara, 7 No. West Sholoshohor Ward\",\"6 No East Sholoshohor Ward, Bakalia\",\"6 No East Sholoshohor Ward, Bakalia\",\"Chasma Hill R\\u002fA, 7 No. West Sholoshohor Ward\",\"Chasma Hill R\\u002fA, 7 No. West Sholoshohor Ward\",\"17 No West Bakalia Ward, Bakalia\",\"CDA Avenue, East Nasirabad\",\"Dhaka Trunk Road, 9 No. North Pahartali Ward\",\"24 No. North Agrabad Ward, Double Mooring\",\"West Khulshi R\\u002fA, 9 No. North Pahartali Ward\",\"28 No. Pathantooly Ward, Double Mooring\",\"25 No. Rampur Ward, Double Mooring\",\"Dhaka Trunk Road, 9 No. North Pahartali Ward\",\"Shahid Nagar, Bayazid\",\"Shahid Nagar, Bayazid\",\"South Khulshi, Khulshi\",\"Akbarshah Railway Colony, 9 No. North Pahartali Ward\",\"Road No 1, Jalalabad Housing Society\",\"12 No. Sarai Para Ward, Double Mooring\",\"West Khulshi R\\u002fA, 9 No. North Pahartali Ward\",\"Tayab Bag R\\u002fA, 7 No. West Sholoshohor Ward\",\"Zakir Hossain Road, Khulshi\",\"East Nasirabad, Muradpur\",\"Nasirabad Housing Society, Muradpur\",\"West Khulshi, 9 No. North Pahartali Ward\",\"Nasirabad Housing Society, Muradpur\",\"South Khulshi, Khulshi\",\"Port Connecting Road, 11 No. South Kattali Ward\",\"CDA Avenue, East Nasirabad\",\"Green Valley, Bayazid\",\"Bandar, 36 Goshail Danga Ward\",\"Yakub Future Park Housing, Khulshi\",\"Yakub Future Park Housing, Khulshi\",\"Yakub Future Park Housing, Khulshi\",\"West Khulshi R\\u002fA, 9 No. North Pahartali Ward\",\"West Khulshi R\\u002fA, 9 No. North Pahartali Ward\",\"West Khulshi R\\u002fA, 9 No. North Pahartali Ward\",\"West Khulshi R\\u002fA, 9 No. North Pahartali Ward\",\"West Khulshi R\\u002fA, 9 No. North Pahartali Ward\",\"Chandgaon Residential Area, 4 No Chandgaon Ward\",\"12 No. Sarai Para Ward, Double Mooring\",\"North Khulshi, Khulshi\",\"Mehidibag, 15 No. Bagmoniram Ward\",\"Khulshi Green Housing Society, Khulshi\",\"Munshi Pukur Par, 16 No. Chawk Bazaar Ward\",\"Abhoy Mitra Lane, 33 No. Firingee Bazaar Ward\",\"South Khulshi, Khulshi\",\"Katalgonj, Panchlaish\",\"Dewan Bazar, Bakalia\",\"South Agrabad, Double Mooring\",\"South Agrabad, Double Mooring\",\"14 No. Lalkhan Bazaar Ward, Lal Khan Bazaar\",\"14 No. Lalkhan Bazaar Ward, Lal Khan Bazaar\",\"12 No. Sarai Para Ward, Double Mooring\",\"Ishan Mohajon Road, 10 No. North Kattali Ward\",\"VIP Housing Society, South Khulsi\",\"Dhaka Trunk Road, 9 No. North Pahartali Ward\",\"Momin Road, Jamal Khan\",\"Chadra Nagar, Bayazid\",\"Shahid Saifuddin Khaled Road, Kazir Dewri\",\"South Khulshi, Khulshi\",\"Chadra Nagar, Bayazid\",\"Dewan Bazar, Bakalia\",\"Dewan Bazar, Bakalia\",\"Chawk Bazar, 16 No. Chawk Bazaar Ward\",\"Nabab Siraj Ud Daula Road, Bakalia\",\"South Khulshi, Khulshi\",\"Nasirabad Housing Society, Muradpur\",\"Dhaka Trunk Road, 9 No. North Pahartali Ward\",\"Dhaka Trunk Road, 9 No. North Pahartali Ward\",\"Nasirabad, 15 No. Bagmoniram Ward\",\"Nasirabad, 15 No. Bagmoniram Ward\",\"West Firojshah colony, 9 No. North Pahartali Ward\",\"West Firojshah colony, 9 No. North Pahartali Ward\",\"Cosmopolitan R\\u002fA, 7 No. West Sholoshohor Ward\",\"Bayazid Nagar Residential Area, Bayazid\",\"South Khulshi, Khulshi\",\"Ali Nagar, Bayazid\",\"Dewan Bazar, Bakalia\",\"Sugandha Residential Area, Panchlaish\",\"Panchlaish Residential Area, 16 No. Chawk Bazaar Ward\",\"Jamal Khan Road, Jamal Khan\",\"Zakir Hossain By Lane, East Nasirabad\",\"Commerce College Road, Double Mooring\",\"Abdul Hamid Road, Sholokbahar\",\"South Agrabad, Double Mooring\",\"Dhaka Trunk Road, 9 No. North Pahartali Ward\",\"Dhaka Trunk Road, 9 No. North Pahartali Ward\",\"Dhaka Trunk Road, 9 No. North Pahartali Ward\",\"Dewan Bazar, Bakalia\",\"Yakub Future Park Housing, Khulshi\",\"South Agrabad, Double Mooring\",\"South Khulshi, Khulshi\",\"Habib Lane, Khulshi\",\"Shahid Nagar, Bayazid\",\"1 No Railway Gate, Muradpur\",\"Kobi Kazi Nazrul Islam Road, 33 No. Firingee Bazaar Ward\",\"Chadra Nagar, Bayazid\",\"Nasirabad Housing Society, Muradpur\",\"Nasirabad, 15 No. Bagmoniram Ward\",\"28 No. Pathantooly Ward, Double Mooring\",\"Bangla Bazar, Bayazid\",\"Nasirabad, Bayazid\",\"Nasirabad, Bayazid\",\"Panchlaish Residential Area, 16 No. Chawk Bazaar Ward\",\"Alkaran Road, 31 No. Alkoron Ward\",\"14 No. Lalkhan Bazaar Ward, Lal Khan Bazaar\",\"14 No. Lalkhan Bazaar Ward, Lal Khan Bazaar\",\"Mehidibag, 15 No. Bagmoniram Ward\",\"1 No Railway Gate, Muradpur\",\"West Khulshi R\\u002fA, 9 No. North Pahartali Ward\",\"West Khulshi R\\u002fA, 9 No. North Pahartali Ward\",\"26 No. North Halishahar Ward, Halishahar\",\"West Khulshi R\\u002fA, 9 No. North Pahartali Ward\",\"Nasirabad, 15 No. Bagmoniram Ward\",\"Dewan Bazar, Bakalia\",\"Al-Madani Road, Sholokbahar\",\"Al-Madani Road, Sholokbahar\",\"South Agrabad, Double Mooring\",\"Jangalpara, 7 No. West Sholoshohor Ward\",\"Dewan Bazar, Bakalia\",\"6 No East Sholoshohor Ward, Bakalia\",\"Chasma Hill R\\u002fA, 7 No. West Sholoshohor Ward\",\"South Agrabad, Double Mooring\",\"South Agrabad, Double Mooring\",\"Chandgaon Residential Area, 4 No Chandgaon Ward\",\"Dhaka Trunk Road, 9 No. North Pahartali Ward\",\"Chandgaon Residential Area, 4 No Chandgaon Ward\",\"Mehidibag, 15 No. Bagmoniram Ward\",\"Forest Institute Road, 7 No. West Sholoshohor Ward\",\"26 No. North Halishahar Ward, Halishahar\",\"26 No. North Halishahar Ward, Halishahar\",\"Mehidibag, 15 No. Bagmoniram Ward\",\"Dhaka Trunk Road, 9 No. North Pahartali Ward\",\"Dewan Bazar, Bakalia\",\"Dewan Bazar, Bakalia\",\"Nasirabad, 15 No. Bagmoniram Ward\",\"Dewan Bazar, Bakalia\",\"Dewan Bazar, Bakalia\",\"Dewan Bazar, Bakalia\",\"Dewan Bazar, Bakalia\",\"24 No. North Agrabad Ward, Double Mooring\",\"Yakub Nagar Road, 33 No. Firingee Bazaar Ward\",\"Yakub Nagar Road, 33 No. Firingee Bazaar Ward\",\"Shahid Saifuddin Khaled Road, Jamal Khan\",\"26 No. North Halishahar Ward, Halishahar\",\"14 No. Lalkhan Bazaar Ward, Lal Khan Bazaar\",\"14 No. Lalkhan Bazaar Ward, Lal Khan Bazaar\",\"Hazari Lane, 32 No. Andarkilla Ward\",\"39 No. South Halishahar Ward, Halishahar\",\"39 No. South Halishahar Ward, Halishahar\",\"39 No. South Halishahar Ward, Halishahar\",\"39 No. South Halishahar Ward, Halishahar\",\"39 No. South Halishahar Ward, Halishahar\",\"Sheikh Mujib Road, Double Mooring\",\"26 No. North Halishahar Ward, Halishahar\",\"26 No. North Halishahar Ward, Halishahar\",\"Chandgaon Residential Area, 4 No Chandgaon Ward\",\"Tayab Bag R\\u002fA, 7 No. West Sholoshohor Ward\",\"Sabujbag, Halishahar\",\"24 No. North Agrabad Ward, Double Mooring\",\"24 No. North Agrabad Ward, Double Mooring\",\"12 No. Sarai Para Ward, Double Mooring\",\"Sangbadik Co-operative Housing Society, Bayazid\",\"Sangbadik Co-operative Housing Society, Bayazid\",\"South Agrabad, Double Mooring\",\"Chandgaon Residential Area, 4 No Chandgaon Ward\",\"Foy's Lake Approach Road, 9 No. North Pahartali Ward\",\"West Khulshi, 9 No. North Pahartali Ward\",\"24 No. North Agrabad Ward, Double Mooring\",\"Nasirabad Housing Society, Muradpur\",\"South Khulshi, Khulshi\",\"24 No. North Agrabad Ward, Double Mooring\",\"Chadra Nagar, Bayazid\",\"Nasirabad Properties Residential Area, Khulshi\",\"Dewan Bazar, Bakalia\",\"Mohammad Nagar, Bayazid\",\"Korbanigonj, Kotwali\",\"Dewan Bazar, Bakalia\",\"6 No East Sholoshohor Ward, Bakalia\",\"19 No. South Bakalia Ward, Bakalia\",\"Chand Mia Road, 4 No Chandgaon Ward\",\"Chand Mia Road, 4 No Chandgaon Ward\",\"Chasma Hill R\\u002fA, 7 No. West Sholoshohor Ward\",\"18 No. East Bakalia Ward, Bakalia\",\"18 No. East Bakalia Ward, Bakalia\",\"18 No. East Bakalia Ward, Bakalia\",\"Nasirabad Housing Society, Muradpur\",\"Chand Mia Road, 4 No Chandgaon Ward\",\"Nasirabad, Bayazid\",\"Nasirabad, Bayazid\",\"Nasirabad, Bayazid\",\"Al-Madani Road, Sholokbahar\",\"Al-Madani Road, Sholokbahar\",\"Yakub Nagar Road, 33 No. Firingee Bazaar Ward\",\"Yakub Nagar Road, 33 No. Firingee Bazaar Ward\",\"Yakub Nagar Road, 33 No. Firingee Bazaar Ward\",\"Dhaka Trunk Road, 9 No. North Pahartali Ward\",\"Dhaka Trunk Road, 9 No. North Pahartali Ward\",\"Dhaka Trunk Road, 9 No. North Pahartali Ward\",\"Dhaka Trunk Road, 9 No. North Pahartali Ward\",\"Dhaka Trunk Road, 9 No. North Pahartali Ward\",\"Dhaka Trunk Road, 9 No. North Pahartali Ward\",\"CDA R\\u002fA, 10 No. North Kattali Ward\",\"Abdullah Khan Road, Sholokbahar\",\"Bahaddarhat, 4 No Chandgaon Ward\",\"Bahaddarhat, 4 No Chandgaon Ward\",\"Mohara, 4 No Chandgaon Ward\",\"Mohara, 4 No Chandgaon Ward\",\"Mohara, 4 No Chandgaon Ward\",\"Mohara, 4 No Chandgaon Ward\",\"Mohara, 4 No Chandgaon Ward\",\"12 No. Sarai Para Ward, Double Mooring\",\"12 No. Sarai Para Ward, Double Mooring\",\"12 No. Sarai Para Ward, Double Mooring\",\"12 No. Sarai Para Ward, Double Mooring\",\"12 No. Sarai Para Ward, Double Mooring\",\"Nasirabad Properties Residential Area, Khulshi\",\"Dewan Bazar, Bakalia\",\"Dewan Bazar, Bakalia\",\"Dewan Bazar, Bakalia\",\"Dhaka Trunk Road, 9 No. North Pahartali Ward\",\"Bayazid Abasic Elaka Road, Bayazid\",\"Sugandha Residential Area, Panchlaish\",\"Sugandha Residential Area, Panchlaish\",\"Sugandha Residential Area, Panchlaish\",\"Sugandha Residential Area, Panchlaish\",\"Sugandha Residential Area, Panchlaish\",\"Sugandha Residential Area, Panchlaish\",\"Sugandha Residential Area, Panchlaish\",\"Dakshin Kattali, 11 No. South Kattali Ward\",\"Dakshin Kattali, 11 No. South Kattali Ward\",\"Dakshin Kattali, 11 No. South Kattali Ward\",\"Dakshin Kattali, 11 No. South Kattali Ward\",\"Dakshin Kattali, 11 No. South Kattali Ward\"],\"type\":\"scattermapbox\"}],                        {\"template\":{\"data\":{\"histogram2dcontour\":[{\"type\":\"histogram2dcontour\",\"colorbar\":{\"outlinewidth\":0,\"ticks\":\"\"},\"colorscale\":[[0.0,\"#0d0887\"],[0.1111111111111111,\"#46039f\"],[0.2222222222222222,\"#7201a8\"],[0.3333333333333333,\"#9c179e\"],[0.4444444444444444,\"#bd3786\"],[0.5555555555555556,\"#d8576b\"],[0.6666666666666666,\"#ed7953\"],[0.7777777777777778,\"#fb9f3a\"],[0.8888888888888888,\"#fdca26\"],[1.0,\"#f0f921\"]]}],\"choropleth\":[{\"type\":\"choropleth\",\"colorbar\":{\"outlinewidth\":0,\"ticks\":\"\"}}],\"histogram2d\":[{\"type\":\"histogram2d\",\"colorbar\":{\"outlinewidth\":0,\"ticks\":\"\"},\"colorscale\":[[0.0,\"#0d0887\"],[0.1111111111111111,\"#46039f\"],[0.2222222222222222,\"#7201a8\"],[0.3333333333333333,\"#9c179e\"],[0.4444444444444444,\"#bd3786\"],[0.5555555555555556,\"#d8576b\"],[0.6666666666666666,\"#ed7953\"],[0.7777777777777778,\"#fb9f3a\"],[0.8888888888888888,\"#fdca26\"],[1.0,\"#f0f921\"]]}],\"heatmap\":[{\"type\":\"heatmap\",\"colorbar\":{\"outlinewidth\":0,\"ticks\":\"\"},\"colorscale\":[[0.0,\"#0d0887\"],[0.1111111111111111,\"#46039f\"],[0.2222222222222222,\"#7201a8\"],[0.3333333333333333,\"#9c179e\"],[0.4444444444444444,\"#bd3786\"],[0.5555555555555556,\"#d8576b\"],[0.6666666666666666,\"#ed7953\"],[0.7777777777777778,\"#fb9f3a\"],[0.8888888888888888,\"#fdca26\"],[1.0,\"#f0f921\"]]}],\"heatmapgl\":[{\"type\":\"heatmapgl\",\"colorbar\":{\"outlinewidth\":0,\"ticks\":\"\"},\"colorscale\":[[0.0,\"#0d0887\"],[0.1111111111111111,\"#46039f\"],[0.2222222222222222,\"#7201a8\"],[0.3333333333333333,\"#9c179e\"],[0.4444444444444444,\"#bd3786\"],[0.5555555555555556,\"#d8576b\"],[0.6666666666666666,\"#ed7953\"],[0.7777777777777778,\"#fb9f3a\"],[0.8888888888888888,\"#fdca26\"],[1.0,\"#f0f921\"]]}],\"contourcarpet\":[{\"type\":\"contourcarpet\",\"colorbar\":{\"outlinewidth\":0,\"ticks\":\"\"}}],\"contour\":[{\"type\":\"contour\",\"colorbar\":{\"outlinewidth\":0,\"ticks\":\"\"},\"colorscale\":[[0.0,\"#0d0887\"],[0.1111111111111111,\"#46039f\"],[0.2222222222222222,\"#7201a8\"],[0.3333333333333333,\"#9c179e\"],[0.4444444444444444,\"#bd3786\"],[0.5555555555555556,\"#d8576b\"],[0.6666666666666666,\"#ed7953\"],[0.7777777777777778,\"#fb9f3a\"],[0.8888888888888888,\"#fdca26\"],[1.0,\"#f0f921\"]]}],\"surface\":[{\"type\":\"surface\",\"colorbar\":{\"outlinewidth\":0,\"ticks\":\"\"},\"colorscale\":[[0.0,\"#0d0887\"],[0.1111111111111111,\"#46039f\"],[0.2222222222222222,\"#7201a8\"],[0.3333333333333333,\"#9c179e\"],[0.4444444444444444,\"#bd3786\"],[0.5555555555555556,\"#d8576b\"],[0.6666666666666666,\"#ed7953\"],[0.7777777777777778,\"#fb9f3a\"],[0.8888888888888888,\"#fdca26\"],[1.0,\"#f0f921\"]]}],\"mesh3d\":[{\"type\":\"mesh3d\",\"colorbar\":{\"outlinewidth\":0,\"ticks\":\"\"}}],\"scatter\":[{\"fillpattern\":{\"fillmode\":\"overlay\",\"size\":10,\"solidity\":0.2},\"type\":\"scatter\"}],\"parcoords\":[{\"type\":\"parcoords\",\"line\":{\"colorbar\":{\"outlinewidth\":0,\"ticks\":\"\"}}}],\"scatterpolargl\":[{\"type\":\"scatterpolargl\",\"marker\":{\"colorbar\":{\"outlinewidth\":0,\"ticks\":\"\"}}}],\"bar\":[{\"error_x\":{\"color\":\"#2a3f5f\"},\"error_y\":{\"color\":\"#2a3f5f\"},\"marker\":{\"line\":{\"color\":\"#E5ECF6\",\"width\":0.5},\"pattern\":{\"fillmode\":\"overlay\",\"size\":10,\"solidity\":0.2}},\"type\":\"bar\"}],\"scattergeo\":[{\"type\":\"scattergeo\",\"marker\":{\"colorbar\":{\"outlinewidth\":0,\"ticks\":\"\"}}}],\"scatterpolar\":[{\"type\":\"scatterpolar\",\"marker\":{\"colorbar\":{\"outlinewidth\":0,\"ticks\":\"\"}}}],\"histogram\":[{\"marker\":{\"pattern\":{\"fillmode\":\"overlay\",\"size\":10,\"solidity\":0.2}},\"type\":\"histogram\"}],\"scattergl\":[{\"type\":\"scattergl\",\"marker\":{\"colorbar\":{\"outlinewidth\":0,\"ticks\":\"\"}}}],\"scatter3d\":[{\"type\":\"scatter3d\",\"line\":{\"colorbar\":{\"outlinewidth\":0,\"ticks\":\"\"}},\"marker\":{\"colorbar\":{\"outlinewidth\":0,\"ticks\":\"\"}}}],\"scattermapbox\":[{\"type\":\"scattermapbox\",\"marker\":{\"colorbar\":{\"outlinewidth\":0,\"ticks\":\"\"}}}],\"scatterternary\":[{\"type\":\"scatterternary\",\"marker\":{\"colorbar\":{\"outlinewidth\":0,\"ticks\":\"\"}}}],\"scattercarpet\":[{\"type\":\"scattercarpet\",\"marker\":{\"colorbar\":{\"outlinewidth\":0,\"ticks\":\"\"}}}],\"carpet\":[{\"aaxis\":{\"endlinecolor\":\"#2a3f5f\",\"gridcolor\":\"white\",\"linecolor\":\"white\",\"minorgridcolor\":\"white\",\"startlinecolor\":\"#2a3f5f\"},\"baxis\":{\"endlinecolor\":\"#2a3f5f\",\"gridcolor\":\"white\",\"linecolor\":\"white\",\"minorgridcolor\":\"white\",\"startlinecolor\":\"#2a3f5f\"},\"type\":\"carpet\"}],\"table\":[{\"cells\":{\"fill\":{\"color\":\"#EBF0F8\"},\"line\":{\"color\":\"white\"}},\"header\":{\"fill\":{\"color\":\"#C8D4E3\"},\"line\":{\"color\":\"white\"}},\"type\":\"table\"}],\"barpolar\":[{\"marker\":{\"line\":{\"color\":\"#E5ECF6\",\"width\":0.5},\"pattern\":{\"fillmode\":\"overlay\",\"size\":10,\"solidity\":0.2}},\"type\":\"barpolar\"}],\"pie\":[{\"automargin\":true,\"type\":\"pie\"}]},\"layout\":{\"autotypenumbers\":\"strict\",\"colorway\":[\"#636efa\",\"#EF553B\",\"#00cc96\",\"#ab63fa\",\"#FFA15A\",\"#19d3f3\",\"#FF6692\",\"#B6E880\",\"#FF97FF\",\"#FECB52\"],\"font\":{\"color\":\"#2a3f5f\"},\"hovermode\":\"closest\",\"hoverlabel\":{\"align\":\"left\"},\"paper_bgcolor\":\"white\",\"plot_bgcolor\":\"#E5ECF6\",\"polar\":{\"bgcolor\":\"#E5ECF6\",\"angularaxis\":{\"gridcolor\":\"white\",\"linecolor\":\"white\",\"ticks\":\"\"},\"radialaxis\":{\"gridcolor\":\"white\",\"linecolor\":\"white\",\"ticks\":\"\"}},\"ternary\":{\"bgcolor\":\"#E5ECF6\",\"aaxis\":{\"gridcolor\":\"white\",\"linecolor\":\"white\",\"ticks\":\"\"},\"baxis\":{\"gridcolor\":\"white\",\"linecolor\":\"white\",\"ticks\":\"\"},\"caxis\":{\"gridcolor\":\"white\",\"linecolor\":\"white\",\"ticks\":\"\"}},\"coloraxis\":{\"colorbar\":{\"outlinewidth\":0,\"ticks\":\"\"}},\"colorscale\":{\"sequential\":[[0.0,\"#0d0887\"],[0.1111111111111111,\"#46039f\"],[0.2222222222222222,\"#7201a8\"],[0.3333333333333333,\"#9c179e\"],[0.4444444444444444,\"#bd3786\"],[0.5555555555555556,\"#d8576b\"],[0.6666666666666666,\"#ed7953\"],[0.7777777777777778,\"#fb9f3a\"],[0.8888888888888888,\"#fdca26\"],[1.0,\"#f0f921\"]],\"sequentialminus\":[[0.0,\"#0d0887\"],[0.1111111111111111,\"#46039f\"],[0.2222222222222222,\"#7201a8\"],[0.3333333333333333,\"#9c179e\"],[0.4444444444444444,\"#bd3786\"],[0.5555555555555556,\"#d8576b\"],[0.6666666666666666,\"#ed7953\"],[0.7777777777777778,\"#fb9f3a\"],[0.8888888888888888,\"#fdca26\"],[1.0,\"#f0f921\"]],\"diverging\":[[0,\"#8e0152\"],[0.1,\"#c51b7d\"],[0.2,\"#de77ae\"],[0.3,\"#f1b6da\"],[0.4,\"#fde0ef\"],[0.5,\"#f7f7f7\"],[0.6,\"#e6f5d0\"],[0.7,\"#b8e186\"],[0.8,\"#7fbc41\"],[0.9,\"#4d9221\"],[1,\"#276419\"]]},\"xaxis\":{\"gridcolor\":\"white\",\"linecolor\":\"white\",\"ticks\":\"\",\"title\":{\"standoff\":15},\"zerolinecolor\":\"white\",\"automargin\":true,\"zerolinewidth\":2},\"yaxis\":{\"gridcolor\":\"white\",\"linecolor\":\"white\",\"ticks\":\"\",\"title\":{\"standoff\":15},\"zerolinecolor\":\"white\",\"automargin\":true,\"zerolinewidth\":2},\"scene\":{\"xaxis\":{\"backgroundcolor\":\"#E5ECF6\",\"gridcolor\":\"white\",\"linecolor\":\"white\",\"showbackground\":true,\"ticks\":\"\",\"zerolinecolor\":\"white\",\"gridwidth\":2},\"yaxis\":{\"backgroundcolor\":\"#E5ECF6\",\"gridcolor\":\"white\",\"linecolor\":\"white\",\"showbackground\":true,\"ticks\":\"\",\"zerolinecolor\":\"white\",\"gridwidth\":2},\"zaxis\":{\"backgroundcolor\":\"#E5ECF6\",\"gridcolor\":\"white\",\"linecolor\":\"white\",\"showbackground\":true,\"ticks\":\"\",\"zerolinecolor\":\"white\",\"gridwidth\":2}},\"shapedefaults\":{\"line\":{\"color\":\"#2a3f5f\"}},\"annotationdefaults\":{\"arrowcolor\":\"#2a3f5f\",\"arrowhead\":0,\"arrowwidth\":1},\"geo\":{\"bgcolor\":\"white\",\"landcolor\":\"#E5ECF6\",\"subunitcolor\":\"white\",\"showland\":true,\"showlakes\":true,\"lakecolor\":\"white\"},\"title\":{\"x\":0.05},\"mapbox\":{\"style\":\"light\"}}},\"mapbox\":{\"domain\":{\"x\":[0.0,1.0],\"y\":[0.0,1.0]},\"center\":{\"lat\":22.34713138347261,\"lon\":91.82007520891364},\"zoom\":7,\"style\":\"open-street-map\"},\"legend\":{\"tracegroupgap\":0},\"margin\":{\"t\":60},\"height\":700,\"title\":{\"text\":\"Addresses in Chattogram(Bangladesh)\"}},                        {\"responsive\": true}                    ).then(function(){\n",
       "                            \n",
       "var gd = document.getElementById('8dd77777-54b1-4fa9-a88f-2dd8f1f84be3');\n",
       "var x = new MutationObserver(function (mutations, observer) {{\n",
       "        var display = window.getComputedStyle(gd).display;\n",
       "        if (!display || display === 'none') {{\n",
       "            console.log([gd, 'removed!']);\n",
       "            Plotly.purge(gd);\n",
       "            observer.disconnect();\n",
       "        }}\n",
       "}});\n",
       "\n",
       "// Listen for the removal of the full notebook cells\n",
       "var notebookContainer = gd.closest('#notebook-container');\n",
       "if (notebookContainer) {{\n",
       "    x.observe(notebookContainer, {childList: true});\n",
       "}}\n",
       "\n",
       "// Listen for the clearing of the current output cell\n",
       "var outputEl = gd.closest('.output');\n",
       "if (outputEl) {{\n",
       "    x.observe(outputEl, {childList: true});\n",
       "}}\n",
       "\n",
       "                        })                };                            </script>        </div>\n",
       "</body>\n",
       "</html>"
      ]
     },
     "metadata": {},
     "output_type": "display_data"
    }
   ],
   "source": [
    "fig = px.scatter_mapbox(data[data['City']=='chattogram'], \n",
    "                         lat='latitude', \n",
    "                         lon='longitude', \n",
    "                         text='Location',  # Label for the points\n",
    "                         zoom=7, \n",
    "                         height=700,\n",
    "                         color_discrete_sequence=['red'])\n",
    "\n",
    "# Update the layout for Mapbox\n",
    "fig.update_traces(marker=dict(size=9))\n",
    "fig.update_layout(mapbox_style=\"open-street-map\")\n",
    "fig.update_layout(title='Addresses in Chattogram(Bangladesh)')\n",
    "\n",
    "# Show the map\n",
    "fig.show()"
   ]
  },
  {
   "cell_type": "code",
   "execution_count": 43,
   "id": "9f310b77",
   "metadata": {
    "execution": {
     "iopub.execute_input": "2025-01-11T19:58:19.281194Z",
     "iopub.status.busy": "2025-01-11T19:58:19.280824Z",
     "iopub.status.idle": "2025-01-11T19:58:19.340043Z",
     "shell.execute_reply": "2025-01-11T19:58:19.338744Z"
    },
    "papermill": {
     "duration": 0.077462,
     "end_time": "2025-01-11T19:58:19.342030",
     "exception": false,
     "start_time": "2025-01-11T19:58:19.264568",
     "status": "completed"
    },
    "tags": []
   },
   "outputs": [
    {
     "data": {
      "text/html": [
       "<html>\n",
       "<head><meta charset=\"utf-8\" /></head>\n",
       "<body>\n",
       "    <div>            <script src=\"https://cdnjs.cloudflare.com/ajax/libs/mathjax/2.7.5/MathJax.js?config=TeX-AMS-MML_SVG\"></script><script type=\"text/javascript\">if (window.MathJax && window.MathJax.Hub && window.MathJax.Hub.Config) {window.MathJax.Hub.Config({SVG: {font: \"STIX-Web\"}});}</script>                <script type=\"text/javascript\">window.PlotlyConfig = {MathJaxConfig: 'local'};</script>\n",
       "        <script charset=\"utf-8\" src=\"https://cdn.plot.ly/plotly-2.35.2.min.js\"></script>                <div id=\"11dff51e-c4bf-4b23-aa2f-1ae134520eb1\" class=\"plotly-graph-div\" style=\"height:700px; width:100%;\"></div>            <script type=\"text/javascript\">                                    window.PLOTLYENV=window.PLOTLYENV || {};                                    if (document.getElementById(\"11dff51e-c4bf-4b23-aa2f-1ae134520eb1\")) {                    Plotly.newPlot(                        \"11dff51e-c4bf-4b23-aa2f-1ae134520eb1\",                        [{\"hovertemplate\":\"Location=%{text}\\u003cbr\\u003elatitude=%{lat}\\u003cbr\\u003elongitude=%{lon}\\u003cextra\\u003e\\u003c\\u002fextra\\u003e\",\"lat\":[23.7808875,23.746466,23.746466,23.8151,23.793,23.780546,23.8151,23.8151,23.720881,23.7638,23.7,23.7,23.7,23.8151,23.7638,23.8759,23.8759,23.8655,23.746466,23.8151,23.8151,23.7925,23.747,23.7808875,23.7665,23.804,23.86,23.76,23.747,23.8281,23.87,23.78,23.7362,23.7,23.76,23.78,23.804,23.85,23.77,23.804,23.804,23.804,23.7,23.7,23.7,23.7638,23.76,23.804,23.78,23.75,23.85,23.76,23.780546,23.78,23.78,23.777628,23.77,23.88,23.7808875,23.746466,23.8151,23.746466,23.78,23.804,23.75,23.8151,23.8281,23.75,23.78,23.804,23.8151,23.75,23.75,23.78,23.87,23.8759,23.78,23.804,23.78,23.8281,23.8583,23.804,23.804,23.86,23.75,23.75,23.8151,23.75,23.78,23.804,23.804,23.81,23.804,23.8281,23.804,23.86,23.804,23.7667,23.78,23.804,23.85,23.8151,23.804,23.7667,23.8583,23.8151,23.804,23.804,23.746466,23.8151,23.8759,23.85,23.77,23.8151,23.804,23.804,23.86,23.85,23.804,23.75,23.8151,23.75,23.7665,23.88,23.8281,23.86,23.7638,23.780546,23.88,23.7638,23.75,23.7665,23.78,23.75,23.780546,23.885,23.804,23.78,23.780546,23.85,23.780546,23.780546,23.780546,23.804,23.804,23.804,23.7638,23.88,23.75,23.804,23.8151,23.8151,23.8151,23.885,23.885,23.88,23.8151,23.780546,23.88,23.8151,23.8151,23.8151,23.821,23.8151,23.86,23.8145,23.8281,23.75,23.804,23.85,23.7465,23.75,23.804,23.8281,23.85,23.8281,23.8281,23.804,23.804,23.75,23.804,23.8759,23.804,23.804,23.804,23.804,23.804,23.86,23.75,23.804,23.804,23.8151,23.8151,23.7465,23.804,23.804,23.804,23.804,23.7805,23.8151,23.77,23.75,23.8151,23.804,23.8281,23.75,23.78,23.8281,23.88,23.804,23.78,23.78,23.821,23.8281,23.81,23.7465,23.8281,23.78,23.8151,23.885,23.78,23.8151,23.8759,23.821,23.804,23.78,23.804,23.75,23.8655,23.75,23.7638,23.7638,23.804,23.8151,23.8151,23.8759,23.85,23.8759,23.75,23.81,23.8281,23.8281,23.8151,23.8151,23.86,23.8,23.7465,23.7465,23.75,23.821,23.75,23.76,23.76,23.7465,23.804,23.747,23.804,23.75,23.8281,23.7665,23.804,23.804,23.804,23.804,23.804,23.75,23.75,23.804,23.8151,23.804,23.85,23.7,23.7,23.8281,23.804,23.75,23.7465,23.86,23.75,23.804,23.7465,23.747,23.8151,23.804,23.78,23.7465,23.804,23.78,23.804,23.804,23.804,23.78,23.78,23.7745,23.7465,23.804,23.75,23.8151,23.804,23.8281,23.804,23.804,23.804,23.8151,23.804,23.8151,23.75,23.885,23.8151,23.7465,23.7465,23.75,23.8151,23.85,23.79,23.88,23.8151,23.8281,23.804,23.78,23.81,23.85,23.85,23.85,23.85,23.804,23.804,23.804,23.8655,23.81,23.804,23.7808875,23.804,23.747,23.7465,23.804,23.804,23.7465,23.8759,23.75,23.8151,23.804,23.8151,23.780546,23.7,23.7,23.7,23.746466,23.7333,23.8281,23.78,23.8281,23.780546,23.87,23.7805,23.804,23.804,23.75,23.7465,23.8151,23.8151,23.804,23.804,23.804,23.804,23.804,23.87,23.804,23.76779,23.85,23.85,23.7465,23.78,23.804,23.804,23.8151,23.804,23.78,23.8281,23.78,23.8281,23.804,23.8151,23.78,23.7465,23.780546,23.75,23.780546,23.804,23.804,23.75,23.7805,23.81,23.7805,23.7805,23.7805,23.78,23.78,23.78,23.85,23.804,23.804,23.804,23.804,23.804,23.804,23.804,23.804,23.804,23.8151,23.804,23.8151,23.804,23.8151,23.804,23.804,23.804,23.804,23.804,23.8151,23.81,23.78,23.804,23.804,23.804,23.804,23.81,23.8281,23.8281,23.8281,23.804,23.8281,23.8281,23.8281,23.8281,23.8151,23.78,23.8151,23.780546,23.804,23.804,23.804,23.804,23.78,23.75,23.87,23.81,23.804,23.85,23.75,23.804,23.804,23.75,23.78,23.7805,23.7805,23.804,23.7465,23.7465,23.874,23.88,23.7465,23.804,23.804,23.8151,23.8151,23.874,23.78,23.78,23.804,23.75,23.804,23.75,23.85,23.85,23.85,23.85,23.8151,23.8151,23.8281,23.8151,23.75,23.75,23.747,23.75,23.804,23.86,23.8151,23.76,23.8281,23.8281,23.741,23.741,23.8281,23.747,23.75,23.75,23.7325,23.768,23.76,23.8281,23.885,23.804,23.85,23.7385,23.804,23.804,23.78,23.8151,23.81,23.804,23.78,23.804,23.822,23.78,23.86,23.746,23.804,23.804,23.873548187429005,23.81,23.85,23.78,23.75,23.780546,23.885,23.814,23.76,23.804,23.8151,23.804,23.8151,23.8151,23.8281,23.75,23.804,23.804,23.78,23.76,23.75,23.7465,23.804,23.804,23.85,23.8151,23.85,23.85,23.85,23.81,23.804,23.804,23.804,23.88,23.804,23.85,23.758,23.78,23.804,23.78,23.8281,23.804,23.78,23.8281,23.87,23.804,23.8151,23.7,23.86,23.79,23.86,23.804,23.75,23.7465,23.804,23.88,23.8151,23.804,23.804,23.804,23.780546,23.804,23.804,23.8281,23.75,23.8281,23.75,23.813,23.813,23.7925,23.758,23.7465,23.76,23.78,23.81,23.804,23.78,23.804,23.8759,23.8151,23.8151,23.804,23.7465,23.804,23.85,23.804,23.804,23.804,23.804,23.804,23.804,23.804,23.78,23.813,23.804,23.804,23.8151,23.804,23.88,23.804,23.804,23.88,23.78,23.804,23.804,23.88,23.85,23.7805,23.8151,23.8151,23.88,23.804,23.8151,23.85,23.8281,23.7805,23.76,23.804,23.7805,23.7805,23.747,23.76,23.75,23.75,23.75,23.75,23.804,23.8655,23.804,23.75,23.81,23.7465,23.81,23.88,23.747,23.804,23.75,23.8759,23.8281,23.804,23.804,23.804,23.75,23.804,23.804,23.8151,23.804,23.804,23.804,23.81,23.7805,23.75,23.780546,23.7805,23.75,23.7638,23.75,23.741,23.75,23.8151,23.78,23.804,23.7665,23.804,23.804,23.804,23.804,23.804,23.804,23.755,23.746466,23.804,23.78,23.8281,23.7638,23.780546,23.7375,23.804,23.8151,23.8151,23.7805,23.774,23.78,23.804,23.804,23.75,23.86,23.780546,23.8281,23.804,23.804,23.78,23.7665,23.75,23.75,23.78,23.8151,23.8151,23.804,23.804,23.8151,23.768,23.747,23.747,23.75,23.804,23.746,23.8281,23.75,23.75,23.804,23.8151,23.8151,23.88,23.88,23.755,23.732,23.85,23.7665,23.804,23.747,23.756,23.885,23.780546,23.780546,23.804,23.8151,23.8151,23.75,23.78,23.7638,23.814,23.78,23.7745,23.7745,23.81,23.81,23.78,23.8281,23.8281,23.8281,23.7805,23.7805,23.804,23.804,23.804,23.85,23.7805,23.780546,23.873,23.7805,23.804,23.804,23.8281,23.804,23.8151,23.804,23.804,23.8151,23.746466,23.75,23.78,23.78,23.78,23.804,23.75,23.8151,23.75,23.8151,23.797,23.797,23.76,23.7638,23.759,23.75,23.75,23.78,23.78,23.804,23.812,23.804,23.745,23.86,23.86,23.77,23.77,23.804,23.804,23.804,23.804,23.804,23.804,23.804,23.78,23.81,23.804,23.804,23.804,23.804,23.8151,23.75,23.758,23.804,23.804,23.804,23.78,23.78,23.804,23.78,23.78,23.78,23.752,23.8151,23.804,23.804,23.8281,23.86,23.804,23.8151,23.804,23.828,23.8151,23.8281,23.804,23.75,23.76,23.8759,23.7,23.804,23.804,23.804,23.804,23.709,23.709,23.709,23.804,23.804,23.7,23.8151,23.75,23.88,23.7325,23.8151,23.741,23.85,23.804,23.804,23.804,23.8281,23.81,23.804,23.804,23.804,23.815,23.804,23.804,23.8759,23.768,23.813,23.8151,23.78,23.804,23.85,23.804,23.804,23.8151,23.81,23.804,23.804,23.81,23.8151,23.78,23.88,23.804,23.7665,23.78,23.81,23.81,23.81,23.7745,23.752,23.815,23.8151,23.8151,23.78,23.7805,23.7808875,23.86,23.86,23.8151,23.8151,23.75,23.804,23.88,23.804,23.804,23.804,23.804,23.813,23.8151,23.76,23.804,23.78,23.86,23.804,23.8281,23.78,23.75,23.88,23.8151,23.85,23.8281,23.804,23.78,23.743,23.804,23.75,23.8151,23.8151,23.76,23.784,23.78,23.7465,23.7808875,23.78,23.8281,23.81,23.741,23.7745,23.7745,23.76,23.82,23.78,23.8151,23.804,23.804,23.75,23.804,23.752,23.77,23.7805,23.804,23.804,23.804,23.804,23.804,23.8151,23.747,23.804,23.804,23.804,23.804,23.737,23.86,23.8151,23.7375,23.8151,23.8151,23.780546,23.7638,23.8151,23.7465,23.75,23.85,23.8281,23.814,23.7325,23.737,23.780546,23.780546,23.7465,23.8151,23.8759,23.8759,23.8151,23.88,23.8151,23.7638,23.780546,23.75,23.7638,23.804,23.804,23.7325,23.75,23.8759,23.7965,23.4571,23.4612,23.465,23.4612,23.4612,23.4612,23.465,23.4612,23.4598,23.4598,23.4555,23.4555,23.4583,23.4612,23.4601,23.4598,23.4555,23.4612,23.4598,23.4578,23.4612,23.4555,23.4601,23.4601,23.4612,23.4612,23.4571,23.4571,23.4571,23.4562,23.4612,23.455,23.4571,23.4612,23.4601,23.4612,23.465,23.465,23.462,23.459,23.4601,23.458,23.4612,23.4605,23.4571,23.4612,23.4612,23.4612,23.458,23.4583,23.4601,23.4555,23.4612,23.4578,23.4565,23.4555,23.4612,23.4571,23.4571,23.4571,23.4562,23.4562,23.4562,23.4612,23.4598,23.4598,23.4598,23.4598,23.465,23.4612,23.4598,23.4612,23.465,23.4612,23.4555,23.455,23.455,23.4562,23.4612,23.4601,23.4571,23.4598,23.4612,23.4612,23.465,23.465,23.4612,23.458,23.4612,23.4612,23.4612,23.4558,23.458,23.4555,23.4555,23.4612,23.465,23.4598,23.4571,23.4598,23.465,23.4571,23.4571,23.4615,23.4598,23.4598,23.4598,23.4598,23.4598,23.4555,23.4612,23.4612,23.4605,23.4612,23.463,23.4555,23.4555,23.4555,23.4598,23.4555,23.4571,23.4571,23.465,23.465,23.4612,23.458,23.4571,23.4583,23.4583,23.4583,23.7745,23.720881,23.720881,23.720881,23.720881,23.87,23.87,23.8275,23.8375,23.8275,23.8275,23.8345,23.87,23.87,23.87,23.8375,23.87,23.87,23.87,23.87,23.87,23.8345,23.87,23.87,23.8345,23.8345,23.8275,23.87,23.8275,23.8275,23.8275,23.8275,23.8275,23.8275,23.8275,23.8275,23.8275,23.8275,23.8275,23.8275,23.8275,23.8275,23.8275,23.8345,23.8275,23.87,23.87,23.87,23.87,23.87,23.87,23.87,23.87,23.87,23.87,23.8345,23.8345,23.8345,23.8345,23.8345,23.8275,23.8275,23.8275,23.8275,23.8275,23.8275,23.8275,23.87,23.8275,23.8275,23.8275,23.8275,23.8275,23.8275,23.8275,23.8275,23.87,23.8275,23.8275,23.8345,23.8345,23.8345,23.87,23.8275,23.8275,23.8275,23.8275,23.8275,23.8275,23.8275,23.8275,23.8275,23.8275,23.8275,23.8275,23.8345,23.8275,23.8375,23.8375,23.87,23.8345,23.8345,23.8345,23.8345,23.8345,23.8345,23.87,23.87,23.87,23.87,23.87,23.87,23.87,23.87,23.87,23.87,23.8375,23.8345,23.8345,23.8275,23.87,23.87,23.87,23.87,23.8345,23.8345,23.8345,23.8275,23.8115,23.87,23.87,23.8275,23.8275,23.8275,23.8275,23.8275,23.8275,23.8275,23.8275,23.8275,23.8345,23.8345,23.8375,23.8275,23.8345,23.8275],\"legendgroup\":\"\",\"lon\":[90.4166401,90.376015,90.376015,90.4285,90.4043,90.426659,90.4285,90.4285,90.483269,90.4285,90.45,90.45,90.45,90.4285,90.4285,90.3795,90.3795,90.3795,90.376015,90.4285,90.4285,90.4078,90.3831,90.4166401,90.358,90.3667,90.3795,90.36,90.3831,90.3651,90.3795,90.4167,90.4142,90.4167,90.36,90.3667,90.3667,90.4,90.375,90.3667,90.3667,90.3667,90.2667,90.45,90.45,90.4285,90.36,90.3667,90.35,90.425,90.4,90.36,90.426659,90.4167,90.4,90.405449,90.375,90.3795,90.4166401,90.376015,90.4285,90.376015,90.3667,90.3667,90.425,90.4285,90.3651,90.4,90.3667,90.3667,90.4285,90.4,90.425,90.3667,90.3795,90.3795,90.3667,90.3667,90.3667,90.3651,90.2667,90.3667,90.3667,90.3795,90.425,90.425,90.4285,90.4167,90.3667,90.3667,90.3667,90.4,90.3667,90.3651,90.3667,90.3795,90.3667,90.2667,90.3667,90.3667,90.4,90.4285,90.3667,90.2667,90.2667,90.4285,90.3667,90.3667,90.376015,90.4285,90.3795,90.4,90.375,90.4285,90.3667,90.3667,90.3795,90.4,90.3667,90.425,90.4285,90.425,90.358,90.3795,90.3651,90.3795,90.4285,90.426659,90.3795,90.4285,90.425,90.358,90.3667,90.425,90.426659,90.3795,90.3667,90.3667,90.426659,90.4,90.426659,90.426659,90.426659,90.3667,90.3667,90.3667,90.4285,90.3795,90.425,90.3667,90.4285,90.4285,90.4285,90.3795,90.3795,90.3795,90.4285,90.426659,90.3795,90.4285,90.4285,90.4285,90.4,90.4285,90.3795,90.4272,90.3651,90.425,90.3667,90.4,90.376,90.425,90.3667,90.3651,90.4,90.3651,90.3651,90.3667,90.3667,90.4,90.3667,90.3795,90.3667,90.3667,90.3667,90.3667,90.3667,90.3795,90.358,90.3667,90.3667,90.4285,90.4285,90.4,90.3667,90.3667,90.3667,90.3667,90.4267,90.4285,90.375,90.425,90.4285,90.3667,90.3651,90.358,90.3667,90.3651,90.3795,90.3667,90.3667,90.3667,90.4,90.3651,90.4,90.4,90.3651,90.3667,90.4285,90.3795,90.3667,90.4285,90.3795,90.4,90.3667,90.3667,90.3667,90.358,90.3795,90.4167,90.4285,90.4285,90.3667,90.4285,90.4285,90.3795,90.4,90.3795,90.425,90.4,90.3651,90.3651,90.4285,90.4285,90.3795,90.4,90.358,90.358,90.425,90.4,90.425,90.36,90.36,90.376,90.3667,90.3831,90.3667,90.4,90.3651,90.358,90.3667,90.3667,90.3667,90.3667,90.3667,90.358,90.358,90.3667,90.4285,90.3667,90.4,90.45,90.45,90.3651,90.3667,90.425,90.358,90.3795,90.425,90.3667,90.376,90.3831,90.4285,90.3667,90.3667,90.358,90.3667,90.3667,90.3667,90.3667,90.3667,90.3667,90.35,90.3792,90.4,90.3667,90.4167,90.4285,90.3667,90.4225,90.3667,90.3667,90.3667,90.4285,90.3667,90.4285,90.4,90.3795,90.4285,90.4,90.4,90.425,90.4285,90.4,90.4,90.3795,90.4285,90.3651,90.3667,90.3667,90.4,90.45,90.45,90.45,90.45,90.3667,90.3667,90.3667,90.3795,90.4,90.3667,90.4166401,90.3667,90.3831,90.376,90.3667,90.3667,90.376,90.3795,90.3833,90.4285,90.3667,90.4285,90.426659,90.35,90.35,90.35,90.376015,90.4167,90.3651,90.3667,90.3651,90.426659,90.3795,90.4267,90.3667,90.3667,90.425,90.358,90.4285,90.4285,90.3667,90.3667,90.3667,90.3667,90.3667,90.3795,90.3667,90.3615,90.4,90.4,90.376,90.3667,90.3667,90.3667,90.4285,90.3667,90.3833,90.3651,90.3667,90.3651,90.3667,90.4285,90.4,90.376,90.426659,90.425,90.426659,90.3667,90.3667,90.358,90.4267,90.4,90.4267,90.4267,90.4267,90.3667,90.3667,90.3667,90.2667,90.3667,90.3667,90.3667,90.3667,90.3667,90.3667,90.3667,90.3667,90.3667,90.4285,90.3667,90.4285,90.3667,90.4285,90.3667,90.3667,90.3667,90.3667,90.3667,90.4285,90.425,90.3667,90.3667,90.3667,90.3667,90.3667,90.425,90.3651,90.3651,90.3651,90.3667,90.4225,90.4225,90.4225,90.4225,90.4285,90.35,90.4285,90.426659,90.3667,90.3667,90.3667,90.3667,90.3667,90.425,90.3795,90.4,90.3667,90.4,90.425,90.3667,90.3667,90.4,90.35,90.4267,90.4267,90.3667,90.4,90.4,90.3795,90.3795,90.4,90.3667,90.3667,90.4285,90.4285,90.3795,90.3667,90.3667,90.3667,90.358,90.3667,90.358,90.4,90.4,90.4,90.4,90.4285,90.4285,90.4225,90.4285,90.4167,90.4167,90.405,90.425,90.3667,90.3795,90.4285,90.36,90.3651,90.3651,90.413,90.413,90.3651,90.405,90.425,90.425,90.426,90.37,90.36,90.3651,90.3795,90.3667,90.335,90.39,90.3667,90.3667,90.4,90.4285,90.4,90.3667,90.3667,90.3667,90.38,90.3667,90.3795,90.405,90.3667,90.3667,90.40766084669878,90.4,90.4,90.3667,90.392,90.426659,90.3795,90.4275,90.39,90.3667,90.4285,90.3667,90.4285,90.4285,90.3651,90.358,90.3667,90.3667,90.3667,90.358,90.37,90.376,90.3667,90.3667,90.4,90.4285,90.4,90.4,90.4,90.4,90.3667,90.3667,90.3667,90.3795,90.3667,90.4,90.36,90.3667,90.3667,90.35,90.3651,90.3667,90.35,90.3651,90.398,90.3667,90.4285,90.4167,90.3795,90.4,90.3795,90.3667,90.425,90.39,90.3667,90.3795,90.4285,90.3667,90.3667,90.3667,90.426659,90.3667,90.3667,90.3651,90.425,90.3651,90.425,90.36,90.36,90.4078,90.36,90.383,90.39,90.3833,90.4,90.3667,90.3667,90.3667,90.3795,90.4285,90.4285,90.3667,90.358,90.3667,90.335,90.3667,90.3667,90.3667,90.3667,90.3667,90.3667,90.3667,90.3667,90.36,90.3667,90.3667,90.4285,90.3667,90.3795,90.3667,90.3667,90.3795,90.3667,90.3667,90.3667,90.3795,90.4,90.4267,90.4285,90.4285,90.3795,90.3667,90.4285,90.4,90.3651,90.4267,90.36,90.3667,90.4267,90.4267,90.405,90.358,90.425,90.37,90.37,90.36,90.3667,90.3795,90.3667,90.358,90.4,90.376,90.4,90.3795,90.405,90.3667,90.425,90.3795,90.4225,90.3667,90.3667,90.3667,90.425,90.3667,90.3667,90.4285,90.3667,90.3667,90.3667,90.4,90.4267,90.425,90.426659,90.4267,90.425,90.4285,90.425,90.413,90.425,90.4285,90.35,90.3667,90.358,90.3667,90.3667,90.3667,90.3667,90.3667,90.3667,90.426,90.376015,90.3667,90.35,90.3651,90.4285,90.426659,90.41,90.3667,90.4285,90.4285,90.4267,90.365,90.35,90.3667,90.3667,90.425,90.3795,90.426659,90.3651,90.3667,90.3667,90.3667,90.358,90.425,90.358,90.3667,90.4285,90.4285,90.3667,90.3667,90.4285,90.355,90.3831,90.3831,90.425,90.3667,90.3765,90.3651,90.425,90.425,90.3667,90.4285,90.4285,90.3795,90.3795,90.359,90.426,90.4,90.358,90.3667,90.432,90.4255,90.3795,90.426659,90.426659,90.3667,90.4285,90.4285,90.4167,90.3667,90.4285,90.398,90.3667,90.3792,90.3792,90.4,90.425,90.35,90.3651,90.3651,90.3651,90.4267,90.4267,90.3667,90.3667,90.3667,90.4,90.4267,90.426659,90.321,90.4267,90.3667,90.3667,90.3651,90.3667,90.4285,90.3667,90.3667,90.4285,90.376015,90.425,90.35,90.35,90.3667,90.3667,90.425,90.4285,90.358,90.4285,90.4045,90.4045,90.36,90.4285,90.359,90.425,90.358,90.3667,90.3667,90.3667,90.429,90.3667,90.375,90.43,90.43,90.375,90.375,90.3667,90.3667,90.3667,90.3667,90.3667,90.3667,90.3667,90.4,90.4,90.3667,90.3667,90.3667,90.3667,90.4285,90.36,90.36,90.3667,90.3667,90.3667,90.3667,90.3667,90.3667,90.4,90.3667,90.3667,90.36,90.4285,90.3667,90.3667,90.3651,90.3795,90.3667,90.4285,90.3667,90.422,90.4285,90.3651,90.3667,90.425,90.358,90.3795,90.2667,90.3667,90.3667,90.3667,90.3667,90.411,90.411,90.411,90.3667,90.3667,90.45,90.4285,90.425,90.3795,90.426,90.4285,90.4,90.4,90.3667,90.3667,90.3667,90.3651,90.4,90.3667,90.3667,90.3667,90.426,90.3667,90.3667,90.3795,90.37,90.365,90.4285,90.35,90.3667,90.4,90.3667,90.3667,90.4285,90.36,90.3667,90.3667,90.4,90.4285,90.383,90.3795,90.3667,90.358,90.3667,90.4,90.4,90.4,90.3792,90.36,90.398,90.4285,90.4285,90.3833,90.4267,90.4166401,90.4,90.3795,90.4285,90.4285,90.4167,90.3667,90.3795,90.3667,90.3667,90.3667,90.3667,90.398,90.4285,90.36,90.3667,90.4,90.3795,90.3667,90.3651,90.3667,90.425,90.3795,90.4285,90.4,90.3651,90.3667,90.3667,90.407,90.3667,90.4,90.4285,90.4285,90.36,90.425,90.3667,90.358,90.4166401,90.3667,90.3651,90.4,90.407,90.3792,90.3792,90.392,90.425,90.35,90.4285,90.3667,90.3667,90.36,90.3667,90.36,90.375,90.4267,90.3667,90.3667,90.3667,90.3667,90.3667,90.4285,90.432,90.3667,90.3667,90.3667,90.3667,90.42,90.3795,90.4285,90.41,90.4285,90.4285,90.426659,90.4285,90.4285,90.4,90.425,90.4,90.3651,90.398,90.426,90.42,90.426659,90.426659,90.4,90.4285,90.3795,90.3795,90.4285,90.3795,90.4285,90.4285,90.426659,90.4,90.4285,90.3667,90.3667,90.426,90.37,90.3795,90.43,91.1809,91.1834,91.1902,91.1834,91.1834,91.1834,91.1902,91.1834,91.1825,91.1825,91.1798,91.1798,91.1817,91.1834,91.184,91.1825,91.1798,91.1834,91.1825,91.1805,91.1834,91.1798,91.184,91.184,91.1834,91.1834,91.1809,91.1809,91.1809,91.1792,91.1834,91.1785,91.1809,91.1834,91.184,91.1834,91.1902,91.1902,91.186,91.182,91.184,91.181,91.1834,91.183,91.1809,91.1834,91.1834,91.1834,91.181,91.1817,91.184,91.1798,91.1834,91.1805,91.18,91.1798,91.1834,91.1809,91.1809,91.1809,91.1792,91.1792,91.1792,91.1834,91.1825,91.1825,91.1825,91.1825,91.1902,91.1834,91.1825,91.1834,91.1902,91.1834,91.1798,91.1785,91.1785,91.1792,91.1834,91.184,91.1809,91.1825,91.1834,91.1834,91.1902,91.1902,91.1834,91.181,91.1834,91.1834,91.1834,91.1795,91.181,91.1798,91.1798,91.1834,91.1902,91.1825,91.1809,91.1825,91.1902,91.1809,91.1809,91.1835,91.1825,91.1825,91.1825,91.1825,91.1825,91.1798,91.1834,91.1834,91.183,91.1834,91.187,91.1798,91.1798,91.1798,91.1825,91.1798,91.1809,91.1809,91.1902,91.1902,91.1834,91.181,91.1809,91.1817,91.1817,91.1817,90.7325,90.483269,90.483269,90.483269,90.483269,90.403,90.403,90.381,90.3845,90.381,90.381,90.365,90.403,90.403,90.403,90.3845,90.403,90.403,90.403,90.403,90.403,90.365,90.403,90.403,90.365,90.365,90.381,90.403,90.381,90.381,90.381,90.381,90.381,90.381,90.381,90.381,90.381,90.381,90.381,90.381,90.381,90.381,90.381,90.365,90.381,90.403,90.403,90.403,90.403,90.403,90.403,90.403,90.403,90.403,90.403,90.365,90.365,90.365,90.365,90.365,90.381,90.381,90.381,90.381,90.381,90.381,90.381,90.403,90.381,90.381,90.381,90.381,90.381,90.381,90.381,90.381,90.403,90.381,90.381,90.365,90.365,90.365,90.403,90.381,90.381,90.381,90.381,90.381,90.381,90.381,90.381,90.381,90.381,90.381,90.381,90.365,90.381,90.3845,90.3845,90.403,90.365,90.365,90.365,90.365,90.365,90.365,90.403,90.403,90.403,90.403,90.403,90.403,90.403,90.403,90.403,90.403,90.3845,90.365,90.365,90.381,90.403,90.403,90.403,90.403,90.365,90.365,90.365,90.381,90.356,90.403,90.403,90.381,90.381,90.381,90.381,90.381,90.381,90.381,90.381,90.381,90.365,90.365,90.3845,90.381,90.365,90.381],\"marker\":{\"color\":\"red\",\"size\":9},\"mode\":\"markers+text\",\"name\":\"\",\"showlegend\":false,\"subplot\":\"mapbox\",\"text\":[\"Gulshan 1, Gulshan\",\"Lake Circus Road, Kalabagan\",\"Shukrabad, Dhanmondi\",\"Block L, Bashundhara R-A\",\"Road No 25, Banani\",\"Middle Badda, Badda\",\"Block B, Bashundhara R-A\",\"Block D, Bashundhara R-A\",\"Matuail, Demra\",\"Block H, Aftab Nagar\",\"West Dolairpar, Shyampur\",\"West Dolairpar, Shyampur\",\"West Dolairpar, Shyampur\",\"Block B, Bashundhara R-A\",\"Block H, Aftab Nagar\",\"Sector 10, Uttara\",\"Sector 10, Uttara\",\"Sector 6, Uttara\",\"Lake Circus Road, Kalabagan\",\"Block H, Bashundhara R-A\",\"Block J, Bashundhara R-A\",\"Gulshan 2, Gulshan\",\"Free School Street, Kathalbagan\",\"Gulshan 1, Gulshan\",\"Baitul Aman Housing Society, Adabor\",\"Section 6, Mirpur\",\"Sector 4, Uttara\",\"Nobodoy Housing Society, Mohammadpur\",\"Free School Street, Kathalbagan\",\"Pallabi, Mirpur\",\"Sector 7, Uttara\",\"Block C, Niketan\",\"Vashani Goli, Shantinagar\",\"Gandaria, Sutrapur\",\"Dhaka Uddan, Mohammadpur\",\"West Shewrapara, Mirpur\",\"Section 1, Mirpur\",\"South Chalabon, Dakshin Khan\",\"West Agargaon, Agargaon\",\"Section 6, Mirpur\",\"Section 12, Mirpur\",\"Dakkhin Paikpara, Mirpur\",\"Keraniganj\",\"Kadamtali, Shyampur\",\"Kadamtali, Shyampur\",\"Block C, Aftab Nagar\",\"Jahuri Moholla, Mohammadpur\",\"Section 2, Mirpur\",\"Kallyanpur, Mirpur\",\"West Rampura, Rampura\",\"Madhya Ajampur, Dakshin Khan\",\"Mohammadia Housing Society, Mohammadpur\",\"Uttar Badda, Badda\",\"Block C, Niketan\",\"North Ibrahimpur, Ibrahimpur\",\"Dakhshin Para, Mohakhali\",\"West Agargaon, Agargaon\",\"Sector 11, Uttara\",\"Gulshan 1, Gulshan\",\"North Circular Road, Dhanmondi\",\"Block B, Bashundhara R-A\",\"Block B, Lalmatia\",\"West Shewrapara, Mirpur\",\"Section 15, Mirpur\",\"Block C, Khilgaon\",\"Block I, Bashundhara R-A\",\"Pallabi, Mirpur\",\"Hatir Jheel Link Road, Tejgaon\",\"Pirerbag, Mirpur\",\"Section 10, Mirpur\",\"Block J, Bashundhara R-A\",\"Boro Maghbazar, Maghbazar\",\"Block B, Banasree\",\"East Shewrapara, Mirpur\",\"Sector 7, Uttara\",\"Sector 10, Uttara\",\"Pirerbag, Mirpur\",\"East Monipur, Mirpur\",\"Pirerbag, Mirpur\",\"Pallabi, Mirpur\",\"Imandipur, Savar\",\"East Monipur, Mirpur\",\"East Monipur, Mirpur\",\"Sector 5, Uttara\",\"Block B, Banasree\",\"Block A, Banasree\",\"Block J, Bashundhara R-A\",\"Gulbag, Malibagh\",\"West Shewrapara, Mirpur\",\"Middle Monipur, Mirpur\",\"Middle Monipur, Mirpur\",\"Manikdi, Cantonment\",\"East Kazipara, Mirpur\",\"Rupnagar R\\u002fA, Mirpur\",\"West Kazipara, Mirpur\",\"Sector 4, Uttara\",\"Section 6, Mirpur\",\"Hemayetpur, Savar\",\"Pirerbag, Mirpur\",\"Section 10, Mirpur\",\"Moushair, Dakshin Khan\",\"Block F, Bashundhara R-A\",\"Ahmed Nagar, Mirpur\",\"Hemayetpur, Savar\",\"Radio Colony, Savar\",\"Block C, Bashundhara R-A\",\"Section 1, Mirpur\",\"Ahmed Nagar, Mirpur\",\"Road No 12A, Dhanmondi\",\"Block C, Bashundhara R-A\",\"Sector 9, Uttara\",\"South Chalabon, Dakshin Khan\",\"West Agargaon, Agargaon\",\"Block B, Bashundhara R-A\",\"Section 12, Mirpur\",\"Section 10, Mirpur\",\"Sector 5, Uttara\",\"Ashkona, Dakshin Khan\",\"Section 10, Mirpur\",\"East Rampura, Rampura\",\"Block D, Bashundhara R-A\",\"West Rampura, Rampura\",\"Baitul Aman Housing Society, Adabor\",\"Sector 12, Uttara\",\"Mirpur DOHS, Mirpur\",\"Sector 3, Uttara\",\"Block C, Aftab Nagar\",\"South Badda, Badda\",\"Sector 13, Uttara\",\"Block E, Aftab Nagar\",\"Block C, Banasree\",\"Mansurabad Housing Society, Adabor\",\"West Shewrapara, Mirpur\",\"Block G, Banasree\",\"Uttar Badda, Badda\",\"Sector 18, Uttara\",\"East Kazipara, Mirpur\",\"Pirerbag, Mirpur\",\"Middle Badda, Badda\",\"Moushair, Dakshin Khan\",\"Uttar Badda, Badda\",\"Uttar Badda, Badda\",\"Middle Badda, Badda\",\"Paikpara, Mirpur\",\"Section 1, Mirpur\",\"Section 1, Mirpur\",\"Block C, Aftab Nagar\",\"Sector 12, Uttara\",\"Block J, Banasree\",\"Section 6, Mirpur\",\"Block G, Bashundhara R-A\",\"Block G, Bashundhara R-A\",\"Block C, Bashundhara R-A\",\"Sector 15, Uttara\",\"Sector 15, Uttara\",\"Sector 13, Uttara\",\"Block B, Bashundhara R-A\",\"Middle Badda, Badda\",\"Sector 11, Uttara\",\"Block K, Bashundhara R-A\",\"Block E, Bashundhara R-A\",\"Block E, Bashundhara R-A\",\"Matikata, Cantonment\",\"Block B, Bashundhara R-A\",\"Sector 4, Uttara\",\"Bashundhara Road, Bashundhara R-A\",\"Pallabi, Mirpur\",\"Block G, Banasree\",\"Section 1, Mirpur\",\"South Mollartek, Dakshin Khan\",\"Circular Road, Dhanmondi\",\"Block J, Banasree\",\"Section 6, Mirpur\",\"Pallabi, Mirpur\",\"Aainusbag, Dakshin Khan\",\"Rupnagar R\\u002fA, Mirpur\",\"Rupnagar R\\u002fA, Mirpur\",\"Section 12, Mirpur\",\"Section 12, Mirpur\",\"Shiddheswari Lane, Shiddheswari\",\"Section 1, Mirpur\",\"Sector 10, Uttara\",\"Section 6, Mirpur\",\"Section 2, Mirpur\",\"Section 10, Mirpur\",\"Section 2, Mirpur\",\"Section 2, Mirpur\",\"Sector 3, Uttara\",\"Zakir Hosain Road, Mohammadpur\",\"Section 11, Mirpur\",\"Arambag Residential Area, Mirpur\",\"Block J, Bashundhara R-A\",\"Block J, Bashundhara R-A\",\"Naya Paltan, Motijheel\",\"Section 10, Mirpur\",\"Section 10, Mirpur\",\"Section 10, Mirpur\",\"Section 10, Mirpur\",\"Jagannathpur, Badda\",\"Block J, Bashundhara R-A\",\"West Agargaon, Agargaon\",\"Block B, Banasree\",\"Block I, Bashundhara R-A\",\"Dakkhin Paikpara, Mirpur\",\"Mirpur DOHS, Mirpur\",\"Bash Bari Road, Mohammadpur\",\"Taltola, Agargaon\",\"Mirpur DOHS, Mirpur\",\"Sector 12, Uttara\",\"Section 1, Mirpur\",\"West Shewrapara, Mirpur\",\"West Shewrapara, Mirpur\",\"Bagan Bari, Cantonment\",\"Rupnagar R\\u002fA, Mirpur\",\"Manikdi, Cantonment\",\"Purana Paltan, Motijheel\",\"Mirpur DOHS, Mirpur\",\"Pirerbag, Mirpur\",\"Block J, Bashundhara R-A\",\"Sector 18, Uttara\",\"Pirerbag, Mirpur\",\"Block C, Bashundhara R-A\",\"Sector 9, Uttara\",\"Goltek, Cantonment\",\"Ahmed Nagar, Mirpur\",\"West Shewrapara, Mirpur\",\"Section 12, Mirpur\",\"Katashur, Mohammadpur\",\"Sector 6, Uttara\",\"Malibag Bazar Rd, Malibagh\",\"Block E, Aftab Nagar\",\"Block E, Aftab Nagar\",\"Ahmed Nagar, Mirpur\",\"Block C, Bashundhara R-A\",\"Block I, Bashundhara R-A\",\"Sector 10, Uttara\",\"East Azampur, Dakshin Khan\",\"Sector 10, Uttara\",\"North Goran, Khilgaon\",\"Ibrahimpur Bazar Road, Ibrahimpur\",\"Rupnagar R\\u002fA, Mirpur\",\"Rupnagar R\\u002fA, Mirpur\",\"Block L, Bashundhara R-A\",\"Block C, Bashundhara R-A\",\"Sector 4, Uttara\",\"Road No 5, Banani DOHS\",\"Jigatola, Hazaribag\",\"Jigatola, Hazaribag\",\"West Rampura, Rampura\",\"Baigertek, Cantonment\",\"Block J, Banasree\",\"Jahuri Moholla, Mohammadpur\",\"Jahuri Moholla, Mohammadpur\",\"West Dhanmondi and Shangkar, Dhanmondi\",\"Ahmed Nagar, Mirpur\",\"Free School Street, Kathalbagan\",\"Ahmed Nagar, Mirpur\",\"New Eskaton Road, Eskaton\",\"Rupnagar R\\u002fA, Mirpur\",\"Baitul Aman Housing Society, Adabor\",\"Section 10, Mirpur\",\"Section 10, Mirpur\",\"Section 6, Mirpur\",\"Section 6, Mirpur\",\"Section 2, Mirpur\",\"Bochila, Mohammadpur\",\"Bochila, Mohammadpur\",\"2nd Colony, Mirpur\",\"Block C, Bashundhara R-A\",\"Section 15, Mirpur\",\"Faydabad, Dakshin Khan\",\"Doniya, Shyampur\",\"Doniya, Shyampur\",\"Mirpur DOHS, Mirpur\",\"Section 1, Mirpur\",\"Block E, Banasree\",\"Rayer Bazaar, Hazaribag\",\"Sector 5, Uttara\",\"South Banasree Project, Banasree\",\"Section 11, Mirpur\",\"Free School Street, Hatirpool\",\"Free School Street, Kathalbagan\",\"Block I, Bashundhara R-A\",\"Section 1, Mirpur\",\"Pirerbag, Mirpur\",\"Rayer Bazaar, Hazaribag\",\"Section 12, Mirpur\",\"West Shewrapara, Mirpur\",\"Middle Monipur, Mirpur\",\"Middle Paikpara, Mirpur\",\"Paikpara, Mirpur\",\"Pirerbag, Mirpur\",\"Kallyanpur, Mirpur\",\"Kutum Goli, Agargaon\",\"Purana Paltan, Motijheel\",\"West Kazipara, Mirpur\",\"Malibag Bazar Rd, Malibagh\",\"Block G, Bashundhara R-A\",\"Paikpara, Mirpur\",\"Nikunja 2, Nikunja\",\"East Kazipara, Mirpur\",\"Section 11, Mirpur\",\"Section 2, Mirpur\",\"Block D, Bashundhara R-A\",\"Section 11, Mirpur\",\"Block A, Bashundhara R-A\",\"Boro Maghbazar, Maghbazar\",\"Sector 18, Uttara\",\"Block J, Bashundhara R-A\",\"Outer Circular Road, Shiddheswari\",\"Shiddeswari Road, Shiddheswari\",\"Block H, Banasree\",\"Block C, Bashundhara R-A\",\"North Azampur, Dakshin Khan\",\"Road No 18, Banani\",\"Sector 13, Uttara\",\"Block G, Bashundhara R-A\",\"Pallabi, Mirpur\",\"Section 15, Mirpur\",\"Pirerbag, Mirpur\",\"Ashi Dag Road, Ibrahimpur\",\"Bazar Road, Dumni\",\"Bazar Road, Dumni\",\"Bazar Road, Dumni\",\"Bazar Road, Dumni\",\"Middle Paikpara, Mirpur\",\"Ahmed Nagar, Mirpur\",\"Section 1, Mirpur\",\"Sector 6, Uttara\",\"Chikha Bazar, Ibrahimpur\",\"Section 12, Mirpur\",\"Gulshan 1, Gulshan\",\"Section 11, Mirpur\",\"Free School Street, Kathalbagan\",\"West Dhanmondi and Shangkar, Dhanmondi\",\"Middle Monipur, Mirpur\",\"Middle Monipur, Mirpur\",\"Road No 7, Dhanmondi\",\"Sector 10, Uttara\",\"Rajabazar, Tejgaon\",\"Block L, Bashundhara R-A\",\"Section 1, Mirpur\",\"Block E, Bashundhara R-A\",\"Uttar Badda, Badda\",\"South Keraniganj, Keraniganj\",\"South Keraniganj, Keraniganj\",\"South Keraniganj, Keraniganj\",\"Shukrabad, Dhanmondi\",\"Gopibag, Motijheel\",\"Pallabi, Mirpur\",\"Pirerbag, Mirpur\",\"Mirpur DOHS, Mirpur\",\"Middle Badda, Badda\",\"Sector 7, Uttara\",\"Bir Uttam Rafiqul Islam Avenue, Badda\",\"Section 12, Mirpur\",\"Section 12, Mirpur\",\"Block F, Banasree\",\"Rayer Bazaar, Hazaribag\",\"Block J, Bashundhara R-A\",\"Block J, Bashundhara R-A\",\"Section 6, Mirpur\",\"Section 6, Mirpur\",\"Middle Monipur, Mirpur\",\"Middle Monipur, Mirpur\",\"Middle Monipur, Mirpur\",\"Sector 7, Uttara\",\"Darussalam, Mirpur\",\"aziz Moholla, Mohammadpur\",\"Ashkona, Dakshin Khan\",\"Ashkona, Dakshin Khan\",\"West Dhanmondi and Shangkar, Dhanmondi\",\"West Shewrapara, Mirpur\",\"Section 12, Mirpur\",\"Section 12, Mirpur\",\"Block F, Bashundhara R-A\",\"Section 12, Mirpur\",\"South Kafrul Road, Kafrul\",\"Pallabi, Mirpur\",\"West Shewrapara, Mirpur\",\"Pallabi, Mirpur\",\"Section 1, Mirpur\",\"Block F, Bashundhara R-A\",\"North Ibrahimpur, Ibrahimpur\",\"Road No 10A, Dhanmondi\",\"Uttar Badda, Badda\",\"Block F, Aftab Nagar\",\"Uttar Badda, Badda\",\"Section 6, Mirpur\",\"Ahmed Nagar, Mirpur\",\"Sat Masjid Housing, Mohammadpur\",\"Shahjadpur, Badda\",\"Kamal Khan Road, Ibrahimpur\",\"Shahjadpur, Badda\",\"Shahjadpur, Badda\",\"Shahjadpur, Badda\",\"West Shewrapara, Mirpur\",\"West Shewrapara, Mirpur\",\"West Shewrapara, Mirpur\",\"Bank Colony, Savar\",\"Middle Monipur, Mirpur\",\"Middle Monipur, Mirpur\",\"Middle Monipur, Mirpur\",\"Middle Monipur, Mirpur\",\"Middle Monipur, Mirpur\",\"1st Colony, Mirpur\",\"Section 10, Mirpur\",\"Section 10, Mirpur\",\"Section 10, Mirpur\",\"Block A, Bashundhara R-A\",\"West Kazipara, Mirpur\",\"Block H, Bashundhara R-A\",\"East Monipur, Mirpur\",\"Block I, Bashundhara R-A\",\"South Monipur, Mirpur\",\"South Monipur, Mirpur\",\"South Monipur, Mirpur\",\"Section 10, Mirpur\",\"Section 15, Mirpur\",\"Block I, Bashundhara R-A\",\"Lichu Bagan Road, Joar Sahara\",\"Pirerbag, Mirpur\",\"Section 10, Mirpur\",\"Middle Monipur, Mirpur\",\"Middle Monipur, Mirpur\",\"Middle Monipur, Mirpur\",\"Nadda Kacha Bazar Road, Nadda\",\"Pallabi, Mirpur\",\"Pallabi, Mirpur\",\"Pallabi, Mirpur\",\"Section 2, Mirpur\",\"Kha Para, Khilkhet\",\"Kha Para, Khilkhet\",\"Kha Para, Khilkhet\",\"Kha Para, Khilkhet\",\"Block H, Bashundhara R-A\",\"Kallyanpur, Mirpur\",\"Block I, Bashundhara R-A\",\"Uttar Badda, Badda\",\"Ahmed Nagar, Mirpur\",\"Section 2, Mirpur\",\"Section 2, Mirpur\",\"Section 10, Mirpur\",\"West Shewrapara, Mirpur\",\"South Banasree Project, Banasree\",\"Sector 7, Uttara\",\"Manikdi, Cantonment\",\"Section 1, Mirpur\",\"North Azampur, Dakshin Khan\",\"Tilpapara, Khilgaon\",\"1st Colony, Mirpur\",\"Section 1, Mirpur\",\"Boro Maghbazar, Maghbazar\",\"Kallyanpur, Mirpur\",\"Khilbari Tek, Badda\",\"Khilbari Tek, Badda\",\"Section 10, Mirpur\",\"Outer Circular Road, Shiddheswari\",\"Outer Circular Road, Shiddheswari\",\"Sector 1, Uttara\",\"Sector 11, Uttara\",\"Amtola Masjid Goli Road, North Shahjahanpur\",\"Section 10, Mirpur\",\"Section 12, Mirpur\",\"Block I, Bashundhara R-A\",\"Block I, Bashundhara R-A\",\"Sector 1, Uttara\",\"West Shewrapara, Mirpur\",\"West Shewrapara, Mirpur\",\"South Monipur, Mirpur\",\"Ali And Nur Real Estate, Mohammadpur\",\"2nd Colony, Mirpur\",\"Bochila, Mohammadpur\",\"Faydabad, Dakshin Khan\",\"Faydabad, Dakshin Khan\",\"Faydabad, Dakshin Khan\",\"Faydabad, Dakshin Khan\",\"Block J, Bashundhara R-A\",\"Block D, Bashundhara R-A\",\"Amtola, Khilkhet\",\"Block A, Bashundhara R-A\",\"Malibag College Road, Malibagh\",\"Malibagh Chowdhury Para, Malibagh\",\"Nayatola, Maghbazar\",\"Block B, Banasree\",\"Ahmed Nagar, Mirpur\",\"Sector 4, Uttara\",\"Block J, Bashundhara R-A\",\"Ring Road, Mohammadpur\",\"Mirpur DOHS, Mirpur\",\"Mirpur DOHS, Mirpur\",\"Shantinagar Bazar Rd, Shantinagar\",\"Shantinagar Bazar Rd, Shantinagar\",\"Mirpur DOHS, Mirpur\",\"Nayatola, Maghbazar\",\"West Rampura, Rampura\",\"Block F, Banasree\",\"Madartek, Bashabo\",\"Ring Road, Shyamoli\",\"Nobodoy Housing Society, Mohammadpur\",\"Pallabi, Mirpur\",\"Sector 15, Uttara\",\"Section 2, Mirpur\",\"Ranavola, Turag\",\"Elephant Road, Hatirpool\",\"East Monipur, Mirpur\",\"Section 10, Mirpur\",\"North Ibrahimpur, Ibrahimpur\",\"Block K, Bashundhara R-A\",\"Primary school Road, Ibrahimpur\",\"Section 12, Mirpur\",\"Pirerbag, Mirpur\",\"Section 1, Mirpur\",\"Vashantek, Cantonment\",\"Pirerbag, Mirpur\",\"Sector 3, Uttara\",\"Doctor Goli, Maghbazar\",\"Section 12, Mirpur\",\"Section 2, Mirpur\",\"Sobur khan Road, Dakshin Khan\",\"Kamal Khan Road, Ibrahimpur\",\"East Azampur, Dakshin Khan\",\"Pirerbag, Mirpur\",\"Indira Road, Tejgaon\",\"Middle Badda, Badda\",\"Sector 18, Uttara\",\"Block J, Baridhara\",\"West Nakhalpara, Tejgaon\",\"Middle Paikpara, Mirpur\",\"Block C, Bashundhara R-A\",\"Middle Paikpara, Mirpur\",\"Block J, Bashundhara R-A\",\"Block J, Bashundhara R-A\",\"Pallabi, Mirpur\",\"Iqbal Road, Mohammadpur\",\"Section 12, Mirpur\",\"West Monipur, Mirpur\",\"East Shewrapara, Mirpur\",\"Chandrima Model Town, Mohammadpur\",\"Mirpur Road, Mohammadpur\",\"Road No 11A, Dhanmondi\",\"Section 6, Mirpur\",\"Section 15, Mirpur\",\"Faydabad, Dakshin Khan\",\"Block D, Bashundhara R-A\",\"Ashkona, Dakshin Khan\",\"Ashkona, Dakshin Khan\",\"Chalabon, Dakshin Khan\",\"Manikdi, Cantonment\",\"Section 10, Mirpur\",\"Section 10, Mirpur\",\"Section 6, Mirpur\",\"Sector 13, Uttara\",\"Section 10, Mirpur\",\"Faydabad, Dakshin Khan\",\"Shekhertek, Mohammadpur\",\"East Shewrapara, Mirpur\",\"Section 12, Mirpur\",\"Kallyanpur, Mirpur\",\"Rupnagar R\\u002fA, Mirpur\",\"East Monipur, Mirpur\",\"Kallyanpur, Mirpur\",\"Rupnagar R\\u002fA, Mirpur\",\"Sector 14, Uttara\",\"Section 11, Mirpur\",\"Block K, Bashundhara R-A\",\"Gandaria, Sutrapur\",\"Sector 4, Uttara\",\"Road No 18, Banani\",\"Sector 4, Uttara\",\"Section 6, Mirpur\",\"Block G, Banasree\",\"Panthapath Main Road, Kalabagan\",\"West Kazipara, Mirpur\",\"Sector 13, Uttara\",\"Block K, Bashundhara R-A\",\"West Monipur, Mirpur\",\"West Monipur, Mirpur\",\"West Monipur, Mirpur\",\"Uttar Badda, Badda\",\"Ahmed Nagar, Mirpur\",\"Ahmed Nagar, Mirpur\",\"Pallabi, Mirpur\",\"Block F, Banasree\",\"Pallabi, Mirpur\",\"Block E, Banasree\",\"Section 7, Mirpur\",\"Section 7, Mirpur\",\"Gulshan 2, Gulshan\",\"Shekhertek, Mohammadpur\",\"Green Road, Kalabagan\",\"West Nakhalpara, Tejgaon\",\"North Kafrul Rd, Kafrul\",\"Monipuri School Road, Ibrahimpur\",\"Ahmed Nagar, Mirpur\",\"Taltola, Agargaon\",\"Section 6, Mirpur\",\"Sector 9, Uttara\",\"Block D, Bashundhara R-A\",\"Block E, Bashundhara R-A\",\"Section 1, Mirpur\",\"Jigatola, Hazaribag\",\"Section 10, Mirpur\",\"Ranavola, Turag\",\"Section 12, Mirpur\",\"Section 12, Mirpur\",\"Ahmed Nagar, Mirpur\",\"Ahmed Nagar, Mirpur\",\"Ahmed Nagar, Mirpur\",\"East Kazipara, Mirpur\",\"Ahmed Nagar, Mirpur\",\"West Shewrapara, Mirpur\",\"Section 7, Mirpur\",\"Section 1, Mirpur\",\"East Kazipara, Mirpur\",\"Block A, Bashundhara R-A\",\"East Kazipara, Mirpur\",\"Sector 12, Uttara\",\"Section 15, Mirpur\",\"Middle Monipur, Mirpur\",\"Sector 12, Uttara\",\"Taltola, Agargaon\",\"Section 1, Mirpur\",\"Section 1, Mirpur\",\"Sector 12, Uttara\",\"Faydabad, Dakshin Khan\",\"South Baridhara Residential Area,D. I. T. Project, Badda\",\"Block F, Bashundhara R-A\",\"Block F, Bashundhara R-A\",\"Sector 11, Uttara\",\"Middle Monipur, Mirpur\",\"Block F, Bashundhara R-A\",\"Madhya Ajampur, Dakshin Khan\",\"Rupnagar R\\u002fA, Mirpur\",\"Merul Badda, Badda\",\"Nobodoy Housing Society, Mohammadpur\",\"Section 10, Mirpur\",\"Merul Badda, Badda\",\"Merul Badda, Badda\",\"Outer Circular Road, Maghbazar\",\"Chandrima Model Town, Mohammadpur\",\"Block D, Aftab Nagar\",\"Block C, Lalmatia\",\"Block C, Lalmatia\",\"Babar Road, Mohammadpur\",\"Section 6, Mirpur\",\"Sector 6, Uttara\",\"2nd Colony, Mirpur\",\"Bash Bari Road, Mohammadpur\",\"North Kafrul Road, Ibrahimpur\",\"Jhigatola Road, Dhanmondi\",\"Manikdi, Cantonment\",\"Sector 11, Uttara\",\"Mirbag Notun Rasta, Maghbazar\",\"Section 1, Mirpur\",\"Block H, Banasree\",\"Sector 10, Uttara\",\"Dorji Bari Road, Khilkhet\",\"Section 1, Mirpur\",\"Section 10, Mirpur\",\"Section 10, Mirpur\",\"East Rampura, Rampura\",\"Darussalam, Mirpur\",\"Section 10, Mirpur\",\"Block C, Bashundhara R-A\",\"West Kazipara, Mirpur\",\"Section 2, Mirpur\",\"Section 6, Mirpur\",\"Manikdi, Cantonment\",\"Khilbari Tek, Badda\",\"Block J, Banasree\",\"Uttar Badda, Badda\",\"Shahjadpur, Badda\",\"Block G, Aftab Nagar\",\"Block E, Aftab Nagar\",\"Block F, Aftab Nagar\",\"Shantinagar Road, Shantinagar\",\"Taltola, Khilgaon\",\"Block I, Bashundhara R-A\",\"Kallyanpur, Mirpur\",\"Section 1, Mirpur\",\"Baitul Aman Housing Society, Adabor\",\"East Kazipara, Mirpur\",\"East Kazipara, Mirpur\",\"East Kazipara, Mirpur\",\"East Kazipara, Mirpur\",\"Section 10, Mirpur\",\"East Kazipara, Mirpur\",\"Block D, Banasree\",\"Block B, Lalmatia\",\"East Kazipara, Mirpur\",\"Kallyanpur, Mirpur\",\"Pallabi, Mirpur\",\"Block H, Aftab Nagar\",\"Uttar Badda, Badda\",\"Topkhana Road, Shegunbagicha\",\"Section 12, Mirpur\",\"Block C, Bashundhara R-A\",\"Block C, Bashundhara R-A\",\"Shahjadpur, Badda\",\"Agargaon\",\"Kallyanpur, Mirpur\",\"Arambag Residential Area, Mirpur\",\"Section 12, Mirpur\",\"Taltola, Khilgaon\",\"Sector 3, Uttara\",\"Middle Badda, Badda\",\"Mirpur DOHS, Mirpur\",\"Section 1, Mirpur\",\"Section 12, Mirpur\",\"East Shewrapara, Mirpur\",\"Baitul Aman Housing Society, Adabor\",\"East Rampura, Rampura\",\"Katashur, Mohammadpur\",\"Pirerbag, Mirpur\",\"Block K, Bashundhara R-A\",\"Block D, Bashundhara R-A\",\"Ahmed Nagar, Mirpur\",\"Ahmed Nagar, Mirpur\",\"Block K, Bashundhara R-A\",\"Dhaka Housing Main Road, Adabor\",\"Free School Street, Kathalbagan\",\"Free School Street, Kathalbagan\",\"Block J, Banasree\",\"Section 2, Mirpur\",\"Road No 5, Dhanmondi\",\"Rupnagar R\\u002fA, Mirpur\",\"Block G, Banasree\",\"Block G, Banasree\",\"Section 2, Mirpur\",\"Block K, Bashundhara R-A\",\"Block K, Bashundhara R-A\",\"Sector 12, Uttara\",\"Sector 12, Uttara\",\"Mohammadi Housing LTD., Mohammadpur\",\"East Bashabo, Bashabo\",\"South Mollartek, Dakshin Khan\",\"Baitul Aman Housing Society, Adabor\",\"Middle Monipur, Mirpur\",\"Riazbag, Khilgaon\",\"Block M, Aftab Nagar\",\"Sector 18, Uttara\",\"Uttar Badda, Badda\",\"Uttar Badda, Badda\",\"1st Colony, Mirpur\",\"Block K, Bashundhara R-A\",\"Block K, Bashundhara R-A\",\"Shahidbag, Malibagh\",\"Pirerbag, Mirpur\",\"Block H, Aftab Nagar\",\"Muslim Modern College Road, Kachukhet\",\"West Shewrapara, Mirpur\",\"Kutum Goli, Agargaon\",\"Kutum Goli, Agargaon\",\"Srjani road, Ibrahimpur\",\"Lichu Bagan Road, Joar Sahara\",\"Kallyanpur, Mirpur\",\"Pallabi, Mirpur\",\"Pallabi, Mirpur\",\"Pallabi, Mirpur\",\"Shahjadpur, Badda\",\"Shahjadpur, Badda\",\"Paikpara, Mirpur\",\"Section 12, Mirpur\",\"Section 12, Mirpur\",\"Faydabad, Dakshin Khan\",\"Jagannathpur, Badda\",\"Uttar Badda, Badda\",\"Ashulia, Savar\",\"Merul Badda, Badda\",\"Section 12, Mirpur\",\"East Monipur, Mirpur\",\"Pallabi, Mirpur\",\"East Kazipara, Mirpur\",\"Block F, Bashundhara R-A\",\"Section 12, Mirpur\",\"Middle Monipur, Mirpur\",\"Block B, Bashundhara R-A\",\"Lake Circus Road, Kalabagan\",\"Block F, Banasree\",\"Kallyanpur, Mirpur\",\"Kallyanpur, Mirpur\",\"Pirerbag, Mirpur\",\"Ahmed Nagar, Mirpur\",\"Block B, Banasree\",\"Block L, Bashundhara R-A\",\"Bochila, Mohammadpur\",\"Block H, Bashundhara R-A\",\"Road No 2, Banani DOHS\",\"Road No 2, Banani DOHS\",\"Nobodoy Housing Society, Mohammadpur\",\"Block C, Aftab Nagar\",\"Tajmahal Road, Mohammadpur\",\"Block A, Aftab Nagar\",\"Iqbal Road, Mohammadpur\",\"West Shewrapara, Mirpur\",\"West Shewrapara, Mirpur\",\"Paikpara, Mirpur\",\"Pragati Soroni, Kuril\",\"Dakkhin Paikpara, Mirpur\",\"Road No 9A, Dhanmondi\",\"Puran Para, Uttar Khan\",\"Puran Para, Uttar Khan\",\"West Agargaon, Agargaon\",\"West Agargaon, Agargaon\",\"Section 11, Mirpur\",\"Section 11, Mirpur\",\"2nd Colony, Mirpur\",\"Section 1, Mirpur\",\"Section 11, Mirpur\",\"Darussalam, Mirpur\",\"Darussalam, Mirpur\",\"North Ibrahimpur, Ibrahimpur\",\"Manikdi, Cantonment\",\"Section 1, Mirpur\",\"Section 1, Mirpur\",\"Middle Paikpara, Mirpur\",\"Middle Paikpara, Mirpur\",\"Block I, Bashundhara R-A\",\"Nurjahan Road, Mohammadpur\",\"Shekhertek, Mohammadpur\",\"West Monipur, Mirpur\",\"West Monipur, Mirpur\",\"West Monipur, Mirpur\",\"Pirerbag, Mirpur\",\"West Shewrapara, Mirpur\",\"West Monipur, Mirpur\",\"North Ibrahimpur, Ibrahimpur\",\"Taltola, Agargaon\",\"Pirerbag, Mirpur\",\"PC Culture Housing, Mohammadpur\",\"Block B, Bashundhara R-A\",\"Ahmed Nagar, Mirpur\",\"Paikpara, Mirpur\",\"Pallabi, Mirpur\",\"Sector 5, Uttara\",\"Section 10, Mirpur\",\"Block C, Bashundhara R-A\",\"Section 12, Mirpur\",\"School Road, Khilkhet\",\"Block F, Bashundhara R-A\",\"Mirpur DOHS, Mirpur\",\"Section 10, Mirpur\",\"South Banasree Project, Banasree\",\"Chandrima Model Town, Mohammadpur\",\"Sector 10, Uttara\",\"Keraniganj\",\"Section 10, Mirpur\",\"Section 10, Mirpur\",\"Dakkhin Paikpara, Mirpur\",\"Dakkhin Paikpara, Mirpur\",\"Luxmibazar, Sutrapur\",\"Luxmibazar, Sutrapur\",\"Luxmibazar, Sutrapur\",\"Ahmed Nagar, Mirpur\",\"Dakkhin Paikpara, Mirpur\",\"Kadamtali, Shyampur\",\"Block F, Bashundhara R-A\",\"Block E, Banasree\",\"Sector 13, Uttara\",\"Bashabo Madartek Road, Bashabo\",\"Block I, Bashundhara R-A\",\"Kazi Nazrul Islam Avenue, Banglamotors\",\"West Mollartek, Dakshin Khan\",\"Section 2, Mirpur\",\"Middle Paikpara, Mirpur\",\"Section 11, Mirpur\",\"Mirpur DOHS, Mirpur\",\"North Kafrul Road, Ibrahimpur\",\"Section 11, Mirpur\",\"Section 11, Mirpur\",\"Paikpara, Mirpur\",\"Block M, Bashundhara R-A\",\"Section 6, Mirpur\",\"Section 6, Mirpur\",\"Sector 10, Uttara\",\"Ring Road, Shyamoli\",\"Section 13, Mirpur\",\"Block G, Bashundhara R-A\",\"Kallyanpur, Mirpur\",\"Section 11, Mirpur\",\"Ashkona, Dakshin Khan\",\"Section 1, Mirpur\",\"Middle Monipur, Mirpur\",\"Block D, Bashundhara R-A\",\"Lalkuthi, Mirpur\",\"Section 2, Mirpur\",\"East Kazipara, Mirpur\",\"Manikdi, Cantonment\",\"Block D, Bashundhara R-A\",\"East Kafrul Road, Kafrul\",\"Sector 12, Uttara\",\"1st Colony, Mirpur\",\"Baitul Aman Housing Society, Adabor\",\"Pirerbag, Mirpur\",\"Anando Road, Ibrahimpur\",\"Anando Road, Ibrahimpur\",\"Ibrahimpur Bazar Road, Ibrahimpur\",\"Kutum Goli, Agargaon\",\"PC Culture Housing, Mohammadpur\",\"Lalasarai Road, Kachukhet\",\"Block E, Bashundhara R-A\",\"Block J, Bashundhara R-A\",\"South Kafrul Road, Kafrul\",\"Shahjadpur, Badda\",\"Gulshan 1, Gulshan\",\"Gawair, Dakshin Khan\",\"Sector 3, Uttara\",\"Block D, Bashundhara R-A\",\"Block C, Bashundhara R-A\",\"Malibagh Chowdhury Para, Malibagh\",\"East Kazipara, Mirpur\",\"Sector 11, Uttara\",\"Darussalam, Mirpur\",\"Section 11, Mirpur\",\"East Monipur, Mirpur\",\"Section 11, Mirpur\",\"Kachukhet Road, Mirpur\",\"Block D, Bashundhara R-A\",\"Salimullah Road, Mohammadpur\",\"East Kazipara, Mirpur\",\"North Ibrahimpur, Ibrahimpur\",\"Sector 5, Uttara\",\"2nd Colony, Mirpur\",\"Rupnagar R\\u002fA, Mirpur\",\"Pirerbag, Mirpur\",\"Block D, Aftab Nagar\",\"Sector 11, Uttara\",\"Block B, Bashundhara R-A\",\"South Chalabon, Dakshin Khan\",\"Mirpur DOHS, Mirpur\",\"Ahmed Nagar, Mirpur\",\"Pirerbag, Mirpur\",\"New Circular Road, Shiddheswari\",\"Section 6, Mirpur\",\"Shiddheswari Lane, Shiddheswari\",\"Block J, Bashundhara R-A\",\"Block J, Bashundhara R-A\",\"Nobodoy Housing Society, Mohammadpur\",\"Nurer Chala, Badda\",\"Pirerbag, Mirpur\",\"Jigatola, Hazaribag\",\"Gulshan 1, Gulshan\",\"West Shewrapara, Mirpur\",\"Mirpur DOHS, Mirpur\",\"Ashi Dag Road, Ibrahimpur\",\"New Baily Road, Shiddheswari\",\"Kutum Goli, Agargaon\",\"Kutum Goli, Agargaon\",\"Monipuripara, Tejgaon\",\"Kuratoli, Kuril\",\"Kallyanpur, Mirpur\",\"Block I, Bashundhara R-A\",\"Section 11, Mirpur\",\"Section 12, Mirpur\",\"Nurjahan Road, Mohammadpur\",\"Section 12, Mirpur\",\"PC Culture Housing, Mohammadpur\",\"West Agargaon, Agargaon\",\"Shahjadpur, Badda\",\"Ahmed Nagar, Mirpur\",\"Darussalam, Mirpur\",\"Darussalam, Mirpur\",\"Darussalam, Mirpur\",\"Middle Paikpara, Mirpur\",\"Block I, Bashundhara R-A\",\"Meradia, Khilgaon\",\"Section 11, Mirpur\",\"Section 11, Mirpur\",\"Darussalam, Mirpur\",\"Darussalam, Mirpur\",\"Fakirapool, Motijheel\",\"Sector 4, Uttara\",\"Block K, Bashundhara R-A\",\"Shegunbagicha Road, Shegunbagicha\",\"Block K, Bashundhara R-A\",\"Block J, Bashundhara R-A\",\"Middle Badda, Badda\",\"Block C, Aftab Nagar\",\"Block F, Bashundhara R-A\",\"Purana Paltan, Motijheel\",\"East Rampura, Rampura\",\"Moushair, Dakshin Khan\",\"Pallabi, Mirpur\",\"Muslim Modern College Road, Kachukhet\",\"Madartek, Bashabo\",\"Motijheel Road, Motijheel\",\"Uttar Badda, Badda\",\"Uttar Badda, Badda\",\"Purana Paltan, Motijheel\",\"Block D, Bashundhara R-A\",\"Sector 10, Uttara\",\"Sector 10, Uttara\",\"Block K, Bashundhara R-A\",\"Sector 11, Uttara\",\"Block A, Bashundhara R-A\",\"Block H, Aftab Nagar\",\"Uttar Badda, Badda\",\"New Eskaton Road, Eskaton\",\"Block E, Aftab Nagar\",\"Section 11, Mirpur\",\"Section 1, Mirpur\",\"Madartek, Bashabo\",\"Block G, Lalmatia\",\"Sector 10, Uttara\",\"Road No 8, Baridhara DOHS\",\"Manoharpur, Kandirpar\",\"North Bagichagaon, Bagichagaon\",\"Mogbari Choumohoni, Chotora\",\"North Bagichagaon, Bagichagaon\",\"North Bagichagaon, Bagichagaon\",\"North Bagichagaon, Bagichagaon\",\"Mogbari Choumohoni, Chotora\",\"North Bagichagaon, Bagichagaon\",\"Shahid Khawaja Nizamuddin Road, Jhautola\",\"Shahid Khawaja Nizamuddin Road, Jhautola\",\"South Thakur Para, Thakur Para\",\"South Thakur Para, Thakur Para\",\"Shah Shuja Mosque Road, Moghultoli\",\"North Bagichagaon, Bagichagaon\",\"Nazrul Avenue, Ashoktala\",\"Shahid Khawaja Nizamuddin Road, Jhautola\",\"South Thakur Para, Thakur Para\",\"North Bagichagaon, Bagichagaon\",\"Shahid Khawaja Nizamuddin Road, Jhautola\",\"AK Fazlul Haq Road, Kandirpar\",\"North Bagichagaon, Bagichagaon\",\"South Thakur Para, Thakur Para\",\"Nazrul Avenue, Ashoktala\",\"Nazrul Avenue, Ashoktala\",\"North Bagichagaon, Bagichagaon\",\"North Bagichagaon, Bagichagaon\",\"Manoharpur, Kandirpar\",\"Manoharpur, Kandirpar\",\"Manoharpur, Kandirpar\",\"Madina Masjid Road, Thakur Para\",\"North Bagichagaon, Bagichagaon\",\"Baganbari Road, Thakur Para\",\"Manoharpur, Kandirpar\",\"North Bagichagaon, Bagichagaon\",\"Nazrul Avenue, Ashoktala\",\"North Bagichagaon, Bagichagaon\",\"Mogbari Choumohoni, Chotora\",\"Mogbari Choumohoni, Chotora\",\"Wooden Pole Road, Race Course\",\"South Bagichagaon, Bagichagaon\",\"Nazrul Avenue, Ashoktala\",\"West Bagichagoun, Bagichagaon\",\"North Bagichagaon, Bagichagaon\",\"Shaheed Shamsul Haque Sarak, Jhautola\",\"Manoharpur, Kandirpar\",\"North Bagichagaon, Bagichagaon\",\"North Bagichagaon, Bagichagaon\",\"North Bagichagaon, Bagichagaon\",\"West Bagichagoun, Bagichagaon\",\"Shah Shuja Mosque Road, Moghultoli\",\"Nazrul Avenue, Ashoktala\",\"South Thakur Para, Thakur Para\",\"North Bagichagaon, Bagichagaon\",\"AK Fazlul Haq Road, Kandirpar\",\"Sadar Hospital Road, Monohorpur\",\"South Thakur Para, Thakur Para\",\"North Bagichagaon, Bagichagaon\",\"Manoharpur, Kandirpar\",\"Manoharpur, Kandirpar\",\"Manoharpur, Kandirpar\",\"Madina Masjid Road, Thakur Para\",\"Madina Masjid Road, Thakur Para\",\"Madina Masjid Road, Thakur Para\",\"North Bagichagaon, Bagichagaon\",\"Shahid Khawaja Nizamuddin Road, Jhautola\",\"Shahid Khawaja Nizamuddin Road, Jhautola\",\"Shahid Khawaja Nizamuddin Road, Jhautola\",\"Shahid Khawaja Nizamuddin Road, Jhautola\",\"Mogbari Choumohoni, Chotora\",\"North Bagichagaon, Bagichagaon\",\"Shahid Khawaja Nizamuddin Road, Jhautola\",\"North Bagichagaon, Bagichagaon\",\"Mogbari Choumohoni, Chotora\",\"North Bagichagaon, Bagichagaon\",\"South Thakur Para, Thakur Para\",\"Baganbari Road, Thakur Para\",\"Baganbari Road, Thakur Para\",\"Madina Masjid Road, Thakur Para\",\"North Bagichagaon, Bagichagaon\",\"Nazrul Avenue, Ashoktala\",\"Manoharpur, Kandirpar\",\"Shahid Khawaja Nizamuddin Road, Jhautola\",\"North Bagichagaon, Bagichagaon\",\"North Bagichagaon, Bagichagaon\",\"Mogbari Choumohoni, Chotora\",\"Mogbari Choumohoni, Chotora\",\"North Bagichagaon, Bagichagaon\",\"West Bagichagoun, Bagichagaon\",\"North Bagichagaon, Bagichagaon\",\"North Bagichagaon, Bagichagaon\",\"North Bagichagaon, Bagichagaon\",\"Thakur Para Road, Thakur Para\",\"West Bagichagoun, Bagichagaon\",\"South Thakur Para, Thakur Para\",\"South Thakur Para, Thakur Para\",\"North Bagichagaon, Bagichagaon\",\"Mogbari Choumohoni, Chotora\",\"Shahid Khawaja Nizamuddin Road, Jhautola\",\"Manoharpur, Kandirpar\",\"Shahid Khawaja Nizamuddin Road, Jhautola\",\"Mogbari Choumohoni, Chotora\",\"Manoharpur, Kandirpar\",\"Manoharpur, Kandirpar\",\"Talpokur Par, Bagichagaon\",\"Shahid Khawaja Nizamuddin Road, Jhautola\",\"Shahid Khawaja Nizamuddin Road, Jhautola\",\"Shahid Khawaja Nizamuddin Road, Jhautola\",\"Shahid Khawaja Nizamuddin Road, Jhautola\",\"Shahid Khawaja Nizamuddin Road, Jhautola\",\"South Thakur Para, Thakur Para\",\"North Bagichagaon, Bagichagaon\",\"North Bagichagaon, Bagichagaon\",\"Shaheed Shamsul Haque Sarak, Jhautola\",\"North Bagichagaon, Bagichagaon\",\"North Race Course, Race Course\",\"South Thakur Para, Thakur Para\",\"South Thakur Para, Thakur Para\",\"South Thakur Para, Thakur Para\",\"Shahid Khawaja Nizamuddin Road, Jhautola\",\"South Thakur Para, Thakur Para\",\"Manoharpur, Kandirpar\",\"Manoharpur, Kandirpar\",\"Mogbari Choumohoni, Chotora\",\"Mogbari Choumohoni, Chotora\",\"North Bagichagaon, Bagichagaon\",\"West Bagichagoun, Bagichagaon\",\"Manoharpur, Kandirpar\",\"Shah Shuja Mosque Road, Moghultoli\",\"Shah Shuja Mosque Road, Moghultoli\",\"Shah Shuja Mosque Road, Moghultoli\",\"Mizmizi, Shiddhirganj\",\"Matuail, Demra\",\"Matuail, Demra\",\"Matuail, Demra\",\"Matuail, Demra\",\"Tongi, Gazipur Sadar Upazila\",\"Tongi, Gazipur Sadar Upazila\",\"Joydebpur, Gazipur Sadar Upazila\",\"Shimultoly, Gazipur Sadar Upazila\",\"Joydebpur, Gazipur Sadar Upazila\",\"Joydebpur, Gazipur Sadar Upazila\",\"Chandana, Gazipur Sadar Upazila\",\"Tongi, Gazipur Sadar Upazila\",\"Tongi, Gazipur Sadar Upazila\",\"Tongi, Gazipur Sadar Upazila\",\"Shimultoly, Gazipur Sadar Upazila\",\"Tongi, Gazipur Sadar Upazila\",\"Tongi, Gazipur Sadar Upazila\",\"Tongi, Gazipur Sadar Upazila\",\"Tongi, Gazipur Sadar Upazila\",\"Tongi, Gazipur Sadar Upazila\",\"Chandana, Gazipur Sadar Upazila\",\"Tongi, Gazipur Sadar Upazila\",\"Tongi, Gazipur Sadar Upazila\",\"Chandana, Gazipur Sadar Upazila\",\"Chandana, Gazipur Sadar Upazila\",\"Joydebpur, Gazipur Sadar Upazila\",\"Tongi, Gazipur Sadar Upazila\",\"Joydebpur, Gazipur Sadar Upazila\",\"Joydebpur, Gazipur Sadar Upazila\",\"Joydebpur, Gazipur Sadar Upazila\",\"Joydebpur, Gazipur Sadar Upazila\",\"Joydebpur, Gazipur Sadar Upazila\",\"Joydebpur, Gazipur Sadar Upazila\",\"Joydebpur, Gazipur Sadar Upazila\",\"Joydebpur, Gazipur Sadar Upazila\",\"Joydebpur, Gazipur Sadar Upazila\",\"Joydebpur, Gazipur Sadar Upazila\",\"Joydebpur, Gazipur Sadar Upazila\",\"Joydebpur, Gazipur Sadar Upazila\",\"Joydebpur, Gazipur Sadar Upazila\",\"Joydebpur, Gazipur Sadar Upazila\",\"Joydebpur, Gazipur Sadar Upazila\",\"Chandana, Gazipur Sadar Upazila\",\"Joydebpur, Gazipur Sadar Upazila\",\"Tongi, Gazipur Sadar Upazila\",\"Tongi, Gazipur Sadar Upazila\",\"Tongi, Gazipur Sadar Upazila\",\"Tongi, Gazipur Sadar Upazila\",\"Tongi, Gazipur Sadar Upazila\",\"Tongi, Gazipur Sadar Upazila\",\"Tongi, Gazipur Sadar Upazila\",\"Tongi, Gazipur Sadar Upazila\",\"Tongi, Gazipur Sadar Upazila\",\"Tongi, Gazipur Sadar Upazila\",\"Chandana, Gazipur Sadar Upazila\",\"Chandana, Gazipur Sadar Upazila\",\"Chandana, Gazipur Sadar Upazila\",\"Chandana, Gazipur Sadar Upazila\",\"Chandana, Gazipur Sadar Upazila\",\"Joydebpur, Gazipur Sadar Upazila\",\"Joydebpur, Gazipur Sadar Upazila\",\"Joydebpur, Gazipur Sadar Upazila\",\"Joydebpur, Gazipur Sadar Upazila\",\"Joydebpur, Gazipur Sadar Upazila\",\"Joydebpur, Gazipur Sadar Upazila\",\"Joydebpur, Gazipur Sadar Upazila\",\"Tongi, Gazipur Sadar Upazila\",\"Joydebpur, Gazipur Sadar Upazila\",\"Joydebpur, Gazipur Sadar Upazila\",\"Joydebpur, Gazipur Sadar Upazila\",\"Joydebpur, Gazipur Sadar Upazila\",\"Joydebpur, Gazipur Sadar Upazila\",\"Joydebpur, Gazipur Sadar Upazila\",\"Joydebpur, Gazipur Sadar Upazila\",\"Joydebpur, Gazipur Sadar Upazila\",\"Tongi, Gazipur Sadar Upazila\",\"Joydebpur, Gazipur Sadar Upazila\",\"Joydebpur, Gazipur Sadar Upazila\",\"Chandana, Gazipur Sadar Upazila\",\"Chandana, Gazipur Sadar Upazila\",\"Chandana, Gazipur Sadar Upazila\",\"Tongi, Gazipur Sadar Upazila\",\"Joydebpur, Gazipur Sadar Upazila\",\"Joydebpur, Gazipur Sadar Upazila\",\"Joydebpur, Gazipur Sadar Upazila\",\"Joydebpur, Gazipur Sadar Upazila\",\"Joydebpur, Gazipur Sadar Upazila\",\"Joydebpur, Gazipur Sadar Upazila\",\"Joydebpur, Gazipur Sadar Upazila\",\"Joydebpur, Gazipur Sadar Upazila\",\"Joydebpur, Gazipur Sadar Upazila\",\"Joydebpur, Gazipur Sadar Upazila\",\"Joydebpur, Gazipur Sadar Upazila\",\"Joydebpur, Gazipur Sadar Upazila\",\"Chandana, Gazipur Sadar Upazila\",\"Joydebpur, Gazipur Sadar Upazila\",\"Shimultoly, Gazipur Sadar Upazila\",\"Shimultoly, Gazipur Sadar Upazila\",\"Tongi, Gazipur Sadar Upazila\",\"Chandana, Gazipur Sadar Upazila\",\"Chandana, Gazipur Sadar Upazila\",\"Chandana, Gazipur Sadar Upazila\",\"Chandana, Gazipur Sadar Upazila\",\"Chandana, Gazipur Sadar Upazila\",\"Chandana, Gazipur Sadar Upazila\",\"Tongi, Gazipur Sadar Upazila\",\"Tongi, Gazipur Sadar Upazila\",\"Tongi, Gazipur Sadar Upazila\",\"Tongi, Gazipur Sadar Upazila\",\"Tongi, Gazipur Sadar Upazila\",\"Tongi, Gazipur Sadar Upazila\",\"Tongi, Gazipur Sadar Upazila\",\"Tongi, Gazipur Sadar Upazila\",\"Tongi, Gazipur Sadar Upazila\",\"Tongi, Gazipur Sadar Upazila\",\"Shimultoly, Gazipur Sadar Upazila\",\"Chandana, Gazipur Sadar Upazila\",\"Chandana, Gazipur Sadar Upazila\",\"Joydebpur, Gazipur Sadar Upazila\",\"Tongi, Gazipur Sadar Upazila\",\"Tongi, Gazipur Sadar Upazila\",\"Tongi, Gazipur Sadar Upazila\",\"Tongi, Gazipur Sadar Upazila\",\"Chandana, Gazipur Sadar Upazila\",\"Chandana, Gazipur Sadar Upazila\",\"Chandana, Gazipur Sadar Upazila\",\"Joydebpur, Gazipur Sadar Upazila\",\"Chowrasta, Chandra\",\"Tongi, Gazipur Sadar Upazila\",\"Tongi, Gazipur Sadar Upazila\",\"Joydebpur, Gazipur Sadar Upazila\",\"Joydebpur, Gazipur Sadar Upazila\",\"Joydebpur, Gazipur Sadar Upazila\",\"Joydebpur, Gazipur Sadar Upazila\",\"Joydebpur, Gazipur Sadar Upazila\",\"Joydebpur, Gazipur Sadar Upazila\",\"Joydebpur, Gazipur Sadar Upazila\",\"Joydebpur, Gazipur Sadar Upazila\",\"Joydebpur, Gazipur Sadar Upazila\",\"Chandana, Gazipur Sadar Upazila\",\"Chandana, Gazipur Sadar Upazila\",\"Shimultoly, Gazipur Sadar Upazila\",\"Joydebpur, Gazipur Sadar Upazila\",\"Chandana, Gazipur Sadar Upazila\",\"Joydebpur, Gazipur Sadar Upazila\"],\"type\":\"scattermapbox\"}],                        {\"template\":{\"data\":{\"histogram2dcontour\":[{\"type\":\"histogram2dcontour\",\"colorbar\":{\"outlinewidth\":0,\"ticks\":\"\"},\"colorscale\":[[0.0,\"#0d0887\"],[0.1111111111111111,\"#46039f\"],[0.2222222222222222,\"#7201a8\"],[0.3333333333333333,\"#9c179e\"],[0.4444444444444444,\"#bd3786\"],[0.5555555555555556,\"#d8576b\"],[0.6666666666666666,\"#ed7953\"],[0.7777777777777778,\"#fb9f3a\"],[0.8888888888888888,\"#fdca26\"],[1.0,\"#f0f921\"]]}],\"choropleth\":[{\"type\":\"choropleth\",\"colorbar\":{\"outlinewidth\":0,\"ticks\":\"\"}}],\"histogram2d\":[{\"type\":\"histogram2d\",\"colorbar\":{\"outlinewidth\":0,\"ticks\":\"\"},\"colorscale\":[[0.0,\"#0d0887\"],[0.1111111111111111,\"#46039f\"],[0.2222222222222222,\"#7201a8\"],[0.3333333333333333,\"#9c179e\"],[0.4444444444444444,\"#bd3786\"],[0.5555555555555556,\"#d8576b\"],[0.6666666666666666,\"#ed7953\"],[0.7777777777777778,\"#fb9f3a\"],[0.8888888888888888,\"#fdca26\"],[1.0,\"#f0f921\"]]}],\"heatmap\":[{\"type\":\"heatmap\",\"colorbar\":{\"outlinewidth\":0,\"ticks\":\"\"},\"colorscale\":[[0.0,\"#0d0887\"],[0.1111111111111111,\"#46039f\"],[0.2222222222222222,\"#7201a8\"],[0.3333333333333333,\"#9c179e\"],[0.4444444444444444,\"#bd3786\"],[0.5555555555555556,\"#d8576b\"],[0.6666666666666666,\"#ed7953\"],[0.7777777777777778,\"#fb9f3a\"],[0.8888888888888888,\"#fdca26\"],[1.0,\"#f0f921\"]]}],\"heatmapgl\":[{\"type\":\"heatmapgl\",\"colorbar\":{\"outlinewidth\":0,\"ticks\":\"\"},\"colorscale\":[[0.0,\"#0d0887\"],[0.1111111111111111,\"#46039f\"],[0.2222222222222222,\"#7201a8\"],[0.3333333333333333,\"#9c179e\"],[0.4444444444444444,\"#bd3786\"],[0.5555555555555556,\"#d8576b\"],[0.6666666666666666,\"#ed7953\"],[0.7777777777777778,\"#fb9f3a\"],[0.8888888888888888,\"#fdca26\"],[1.0,\"#f0f921\"]]}],\"contourcarpet\":[{\"type\":\"contourcarpet\",\"colorbar\":{\"outlinewidth\":0,\"ticks\":\"\"}}],\"contour\":[{\"type\":\"contour\",\"colorbar\":{\"outlinewidth\":0,\"ticks\":\"\"},\"colorscale\":[[0.0,\"#0d0887\"],[0.1111111111111111,\"#46039f\"],[0.2222222222222222,\"#7201a8\"],[0.3333333333333333,\"#9c179e\"],[0.4444444444444444,\"#bd3786\"],[0.5555555555555556,\"#d8576b\"],[0.6666666666666666,\"#ed7953\"],[0.7777777777777778,\"#fb9f3a\"],[0.8888888888888888,\"#fdca26\"],[1.0,\"#f0f921\"]]}],\"surface\":[{\"type\":\"surface\",\"colorbar\":{\"outlinewidth\":0,\"ticks\":\"\"},\"colorscale\":[[0.0,\"#0d0887\"],[0.1111111111111111,\"#46039f\"],[0.2222222222222222,\"#7201a8\"],[0.3333333333333333,\"#9c179e\"],[0.4444444444444444,\"#bd3786\"],[0.5555555555555556,\"#d8576b\"],[0.6666666666666666,\"#ed7953\"],[0.7777777777777778,\"#fb9f3a\"],[0.8888888888888888,\"#fdca26\"],[1.0,\"#f0f921\"]]}],\"mesh3d\":[{\"type\":\"mesh3d\",\"colorbar\":{\"outlinewidth\":0,\"ticks\":\"\"}}],\"scatter\":[{\"fillpattern\":{\"fillmode\":\"overlay\",\"size\":10,\"solidity\":0.2},\"type\":\"scatter\"}],\"parcoords\":[{\"type\":\"parcoords\",\"line\":{\"colorbar\":{\"outlinewidth\":0,\"ticks\":\"\"}}}],\"scatterpolargl\":[{\"type\":\"scatterpolargl\",\"marker\":{\"colorbar\":{\"outlinewidth\":0,\"ticks\":\"\"}}}],\"bar\":[{\"error_x\":{\"color\":\"#2a3f5f\"},\"error_y\":{\"color\":\"#2a3f5f\"},\"marker\":{\"line\":{\"color\":\"#E5ECF6\",\"width\":0.5},\"pattern\":{\"fillmode\":\"overlay\",\"size\":10,\"solidity\":0.2}},\"type\":\"bar\"}],\"scattergeo\":[{\"type\":\"scattergeo\",\"marker\":{\"colorbar\":{\"outlinewidth\":0,\"ticks\":\"\"}}}],\"scatterpolar\":[{\"type\":\"scatterpolar\",\"marker\":{\"colorbar\":{\"outlinewidth\":0,\"ticks\":\"\"}}}],\"histogram\":[{\"marker\":{\"pattern\":{\"fillmode\":\"overlay\",\"size\":10,\"solidity\":0.2}},\"type\":\"histogram\"}],\"scattergl\":[{\"type\":\"scattergl\",\"marker\":{\"colorbar\":{\"outlinewidth\":0,\"ticks\":\"\"}}}],\"scatter3d\":[{\"type\":\"scatter3d\",\"line\":{\"colorbar\":{\"outlinewidth\":0,\"ticks\":\"\"}},\"marker\":{\"colorbar\":{\"outlinewidth\":0,\"ticks\":\"\"}}}],\"scattermapbox\":[{\"type\":\"scattermapbox\",\"marker\":{\"colorbar\":{\"outlinewidth\":0,\"ticks\":\"\"}}}],\"scatterternary\":[{\"type\":\"scatterternary\",\"marker\":{\"colorbar\":{\"outlinewidth\":0,\"ticks\":\"\"}}}],\"scattercarpet\":[{\"type\":\"scattercarpet\",\"marker\":{\"colorbar\":{\"outlinewidth\":0,\"ticks\":\"\"}}}],\"carpet\":[{\"aaxis\":{\"endlinecolor\":\"#2a3f5f\",\"gridcolor\":\"white\",\"linecolor\":\"white\",\"minorgridcolor\":\"white\",\"startlinecolor\":\"#2a3f5f\"},\"baxis\":{\"endlinecolor\":\"#2a3f5f\",\"gridcolor\":\"white\",\"linecolor\":\"white\",\"minorgridcolor\":\"white\",\"startlinecolor\":\"#2a3f5f\"},\"type\":\"carpet\"}],\"table\":[{\"cells\":{\"fill\":{\"color\":\"#EBF0F8\"},\"line\":{\"color\":\"white\"}},\"header\":{\"fill\":{\"color\":\"#C8D4E3\"},\"line\":{\"color\":\"white\"}},\"type\":\"table\"}],\"barpolar\":[{\"marker\":{\"line\":{\"color\":\"#E5ECF6\",\"width\":0.5},\"pattern\":{\"fillmode\":\"overlay\",\"size\":10,\"solidity\":0.2}},\"type\":\"barpolar\"}],\"pie\":[{\"automargin\":true,\"type\":\"pie\"}]},\"layout\":{\"autotypenumbers\":\"strict\",\"colorway\":[\"#636efa\",\"#EF553B\",\"#00cc96\",\"#ab63fa\",\"#FFA15A\",\"#19d3f3\",\"#FF6692\",\"#B6E880\",\"#FF97FF\",\"#FECB52\"],\"font\":{\"color\":\"#2a3f5f\"},\"hovermode\":\"closest\",\"hoverlabel\":{\"align\":\"left\"},\"paper_bgcolor\":\"white\",\"plot_bgcolor\":\"#E5ECF6\",\"polar\":{\"bgcolor\":\"#E5ECF6\",\"angularaxis\":{\"gridcolor\":\"white\",\"linecolor\":\"white\",\"ticks\":\"\"},\"radialaxis\":{\"gridcolor\":\"white\",\"linecolor\":\"white\",\"ticks\":\"\"}},\"ternary\":{\"bgcolor\":\"#E5ECF6\",\"aaxis\":{\"gridcolor\":\"white\",\"linecolor\":\"white\",\"ticks\":\"\"},\"baxis\":{\"gridcolor\":\"white\",\"linecolor\":\"white\",\"ticks\":\"\"},\"caxis\":{\"gridcolor\":\"white\",\"linecolor\":\"white\",\"ticks\":\"\"}},\"coloraxis\":{\"colorbar\":{\"outlinewidth\":0,\"ticks\":\"\"}},\"colorscale\":{\"sequential\":[[0.0,\"#0d0887\"],[0.1111111111111111,\"#46039f\"],[0.2222222222222222,\"#7201a8\"],[0.3333333333333333,\"#9c179e\"],[0.4444444444444444,\"#bd3786\"],[0.5555555555555556,\"#d8576b\"],[0.6666666666666666,\"#ed7953\"],[0.7777777777777778,\"#fb9f3a\"],[0.8888888888888888,\"#fdca26\"],[1.0,\"#f0f921\"]],\"sequentialminus\":[[0.0,\"#0d0887\"],[0.1111111111111111,\"#46039f\"],[0.2222222222222222,\"#7201a8\"],[0.3333333333333333,\"#9c179e\"],[0.4444444444444444,\"#bd3786\"],[0.5555555555555556,\"#d8576b\"],[0.6666666666666666,\"#ed7953\"],[0.7777777777777778,\"#fb9f3a\"],[0.8888888888888888,\"#fdca26\"],[1.0,\"#f0f921\"]],\"diverging\":[[0,\"#8e0152\"],[0.1,\"#c51b7d\"],[0.2,\"#de77ae\"],[0.3,\"#f1b6da\"],[0.4,\"#fde0ef\"],[0.5,\"#f7f7f7\"],[0.6,\"#e6f5d0\"],[0.7,\"#b8e186\"],[0.8,\"#7fbc41\"],[0.9,\"#4d9221\"],[1,\"#276419\"]]},\"xaxis\":{\"gridcolor\":\"white\",\"linecolor\":\"white\",\"ticks\":\"\",\"title\":{\"standoff\":15},\"zerolinecolor\":\"white\",\"automargin\":true,\"zerolinewidth\":2},\"yaxis\":{\"gridcolor\":\"white\",\"linecolor\":\"white\",\"ticks\":\"\",\"title\":{\"standoff\":15},\"zerolinecolor\":\"white\",\"automargin\":true,\"zerolinewidth\":2},\"scene\":{\"xaxis\":{\"backgroundcolor\":\"#E5ECF6\",\"gridcolor\":\"white\",\"linecolor\":\"white\",\"showbackground\":true,\"ticks\":\"\",\"zerolinecolor\":\"white\",\"gridwidth\":2},\"yaxis\":{\"backgroundcolor\":\"#E5ECF6\",\"gridcolor\":\"white\",\"linecolor\":\"white\",\"showbackground\":true,\"ticks\":\"\",\"zerolinecolor\":\"white\",\"gridwidth\":2},\"zaxis\":{\"backgroundcolor\":\"#E5ECF6\",\"gridcolor\":\"white\",\"linecolor\":\"white\",\"showbackground\":true,\"ticks\":\"\",\"zerolinecolor\":\"white\",\"gridwidth\":2}},\"shapedefaults\":{\"line\":{\"color\":\"#2a3f5f\"}},\"annotationdefaults\":{\"arrowcolor\":\"#2a3f5f\",\"arrowhead\":0,\"arrowwidth\":1},\"geo\":{\"bgcolor\":\"white\",\"landcolor\":\"#E5ECF6\",\"subunitcolor\":\"white\",\"showland\":true,\"showlakes\":true,\"lakecolor\":\"white\"},\"title\":{\"x\":0.05},\"mapbox\":{\"style\":\"light\"}}},\"mapbox\":{\"domain\":{\"x\":[0.0,1.0],\"y\":[0.0,1.0]},\"center\":{\"lat\":23.768017929943394,\"lon\":90.46875738256372},\"zoom\":7,\"style\":\"open-street-map\"},\"legend\":{\"tracegroupgap\":0},\"margin\":{\"t\":60},\"height\":700,\"title\":{\"text\":\"Addresses in Dhaka(Bangladesh)\"}},                        {\"responsive\": true}                    ).then(function(){\n",
       "                            \n",
       "var gd = document.getElementById('11dff51e-c4bf-4b23-aa2f-1ae134520eb1');\n",
       "var x = new MutationObserver(function (mutations, observer) {{\n",
       "        var display = window.getComputedStyle(gd).display;\n",
       "        if (!display || display === 'none') {{\n",
       "            console.log([gd, 'removed!']);\n",
       "            Plotly.purge(gd);\n",
       "            observer.disconnect();\n",
       "        }}\n",
       "}});\n",
       "\n",
       "// Listen for the removal of the full notebook cells\n",
       "var notebookContainer = gd.closest('#notebook-container');\n",
       "if (notebookContainer) {{\n",
       "    x.observe(notebookContainer, {childList: true});\n",
       "}}\n",
       "\n",
       "// Listen for the clearing of the current output cell\n",
       "var outputEl = gd.closest('.output');\n",
       "if (outputEl) {{\n",
       "    x.observe(outputEl, {childList: true});\n",
       "}}\n",
       "\n",
       "                        })                };                            </script>        </div>\n",
       "</body>\n",
       "</html>"
      ]
     },
     "metadata": {},
     "output_type": "display_data"
    }
   ],
   "source": [
    "fig = px.scatter_mapbox(data[data['City']!='chattogram'], \n",
    "                         lat='latitude', \n",
    "                         lon='longitude', \n",
    "                         text='Location',  # Label for the points\n",
    "                         zoom=7, \n",
    "                         height=700,\n",
    "                         color_discrete_sequence=['red'])\n",
    "\n",
    "# Update the layout for Mapbox\n",
    "fig.update_traces(marker=dict(size=9))\n",
    "fig.update_layout(mapbox_style=\"open-street-map\")\n",
    "fig.update_layout(title='Addresses in Dhaka(Bangladesh)')\n",
    "\n",
    "# Show the map\n",
    "fig.show()"
   ]
  },
  {
   "cell_type": "code",
   "execution_count": null,
   "id": "76089a26",
   "metadata": {
    "papermill": {
     "duration": 0.01574,
     "end_time": "2025-01-11T19:58:19.374941",
     "exception": false,
     "start_time": "2025-01-11T19:58:19.359201",
     "status": "completed"
    },
    "tags": []
   },
   "outputs": [],
   "source": []
  },
  {
   "cell_type": "code",
   "execution_count": null,
   "id": "a5907818",
   "metadata": {
    "papermill": {
     "duration": 0.015676,
     "end_time": "2025-01-11T19:58:19.406320",
     "exception": false,
     "start_time": "2025-01-11T19:58:19.390644",
     "status": "completed"
    },
    "tags": []
   },
   "outputs": [],
   "source": []
  },
  {
   "cell_type": "code",
   "execution_count": null,
   "id": "caf0ee18",
   "metadata": {
    "papermill": {
     "duration": 0.015386,
     "end_time": "2025-01-11T19:58:19.437565",
     "exception": false,
     "start_time": "2025-01-11T19:58:19.422179",
     "status": "completed"
    },
    "tags": []
   },
   "outputs": [],
   "source": []
  },
  {
   "cell_type": "code",
   "execution_count": null,
   "id": "4caaedfe",
   "metadata": {
    "papermill": {
     "duration": 0.015292,
     "end_time": "2025-01-11T19:58:19.468662",
     "exception": false,
     "start_time": "2025-01-11T19:58:19.453370",
     "status": "completed"
    },
    "tags": []
   },
   "outputs": [],
   "source": []
  }
 ],
 "metadata": {
  "kaggle": {
   "accelerator": "none",
   "dataSources": [
    {
     "datasetId": 5521749,
     "sourceId": 9142342,
     "sourceType": "datasetVersion"
    },
    {
     "datasetId": 6465705,
     "sourceId": 10445579,
     "sourceType": "datasetVersion"
    }
   ],
   "dockerImageVersionId": 30822,
   "isGpuEnabled": false,
   "isInternetEnabled": false,
   "language": "python",
   "sourceType": "notebook"
  },
  "kernelspec": {
   "display_name": "Python 3",
   "language": "python",
   "name": "python3"
  },
  "language_info": {
   "codemirror_mode": {
    "name": "ipython",
    "version": 3
   },
   "file_extension": ".py",
   "mimetype": "text/x-python",
   "name": "python",
   "nbconvert_exporter": "python",
   "pygments_lexer": "ipython3",
   "version": "3.10.12"
  },
  "papermill": {
   "default_parameters": {},
   "duration": 9.472593,
   "end_time": "2025-01-11T19:58:20.207114",
   "environment_variables": {},
   "exception": null,
   "input_path": "__notebook__.ipynb",
   "output_path": "__notebook__.ipynb",
   "parameters": {},
   "start_time": "2025-01-11T19:58:10.734521",
   "version": "2.6.0"
  }
 },
 "nbformat": 4,
 "nbformat_minor": 5
}
