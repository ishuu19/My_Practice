{
 "cells": [
  {
   "cell_type": "code",
   "execution_count": 1,
   "id": "ad581842",
   "metadata": {
    "_cell_guid": "b1076dfc-b9ad-4769-8c92-a6c4dae69d19",
    "_uuid": "8f2839f25d086af736a60e9eeb907d3b93b6e0e5",
    "execution": {
     "iopub.execute_input": "2025-01-08T13:40:51.589262Z",
     "iopub.status.busy": "2025-01-08T13:40:51.588792Z",
     "iopub.status.idle": "2025-01-08T13:40:52.061351Z",
     "shell.execute_reply": "2025-01-08T13:40:52.060139Z"
    },
    "papermill": {
     "duration": 0.479999,
     "end_time": "2025-01-08T13:40:52.063344",
     "exception": false,
     "start_time": "2025-01-08T13:40:51.583345",
     "status": "completed"
    },
    "tags": []
   },
   "outputs": [
    {
     "name": "stdout",
     "output_type": "stream",
     "text": [
      "/kaggle/input/house-price-bangladesh/house_price_bd.csv\n"
     ]
    }
   ],
   "source": [
    "# This Python 3 environment comes with many helpful analytics libraries installed\n",
    "# It is defined by the kaggle/python Docker image: https://github.com/kaggle/docker-python\n",
    "# For example, here's several helpful packages to load\n",
    "\n",
    "import numpy as np # linear algebra\n",
    "import pandas as pd # data processing, CSV file I/O (e.g. pd.read_csv)\n",
    "\n",
    "# Input data files are available in the read-only \"../input/\" directory\n",
    "# For example, running this (by clicking run or pressing Shift+Enter) will list all files under the input directory\n",
    "\n",
    "import os\n",
    "for dirname, _, filenames in os.walk('/kaggle/input'):\n",
    "    for filename in filenames:\n",
    "        print(os.path.join(dirname, filename))\n",
    "\n",
    "# You can write up to 20GB to the current directory (/kaggle/working/) that gets preserved as output when you create a version using \"Save & Run All\" \n",
    "# You can also write temporary files to /kaggle/temp/, but they won't be saved outside of the current session"
   ]
  },
  {
   "cell_type": "code",
   "execution_count": 2,
   "id": "6ef9152c",
   "metadata": {
    "execution": {
     "iopub.execute_input": "2025-01-08T13:40:52.073867Z",
     "iopub.status.busy": "2025-01-08T13:40:52.073247Z",
     "iopub.status.idle": "2025-01-08T13:40:52.121524Z",
     "shell.execute_reply": "2025-01-08T13:40:52.120317Z"
    },
    "papermill": {
     "duration": 0.05554,
     "end_time": "2025-01-08T13:40:52.123996",
     "exception": false,
     "start_time": "2025-01-08T13:40:52.068456",
     "status": "completed"
    },
    "tags": []
   },
   "outputs": [],
   "source": [
    "data = pd.read_csv(\"/kaggle/input/house-price-bangladesh/house_price_bd.csv\")"
   ]
  },
  {
   "cell_type": "code",
   "execution_count": 3,
   "id": "ff900125",
   "metadata": {
    "execution": {
     "iopub.execute_input": "2025-01-08T13:40:52.131428Z",
     "iopub.status.busy": "2025-01-08T13:40:52.131028Z",
     "iopub.status.idle": "2025-01-08T13:40:52.158413Z",
     "shell.execute_reply": "2025-01-08T13:40:52.157118Z"
    },
    "papermill": {
     "duration": 0.033329,
     "end_time": "2025-01-08T13:40:52.160550",
     "exception": false,
     "start_time": "2025-01-08T13:40:52.127221",
     "status": "completed"
    },
    "tags": []
   },
   "outputs": [
    {
     "data": {
      "text/html": [
       "<div>\n",
       "<style scoped>\n",
       "    .dataframe tbody tr th:only-of-type {\n",
       "        vertical-align: middle;\n",
       "    }\n",
       "\n",
       "    .dataframe tbody tr th {\n",
       "        vertical-align: top;\n",
       "    }\n",
       "\n",
       "    .dataframe thead th {\n",
       "        text-align: right;\n",
       "    }\n",
       "</style>\n",
       "<table border=\"1\" class=\"dataframe\">\n",
       "  <thead>\n",
       "    <tr style=\"text-align: right;\">\n",
       "      <th></th>\n",
       "      <th>Title</th>\n",
       "      <th>Bedrooms</th>\n",
       "      <th>Bathrooms</th>\n",
       "      <th>Floor_no</th>\n",
       "      <th>Occupancy_status</th>\n",
       "      <th>Floor_area</th>\n",
       "      <th>City</th>\n",
       "      <th>Price_in_taka</th>\n",
       "      <th>Location</th>\n",
       "    </tr>\n",
       "  </thead>\n",
       "  <tbody>\n",
       "    <tr>\n",
       "      <th>0</th>\n",
       "      <td>We Are Offering You A Very Spacious 1960 Sq Ft...</td>\n",
       "      <td>3.0</td>\n",
       "      <td>4.0</td>\n",
       "      <td>3</td>\n",
       "      <td>vacant</td>\n",
       "      <td>1960.0</td>\n",
       "      <td>dhaka</td>\n",
       "      <td>৳39,000,000</td>\n",
       "      <td>Gulshan 1, Gulshan</td>\n",
       "    </tr>\n",
       "    <tr>\n",
       "      <th>1</th>\n",
       "      <td>Valuable 1705 Square Feet Apartment Is Ready T...</td>\n",
       "      <td>3.0</td>\n",
       "      <td>3.0</td>\n",
       "      <td>1</td>\n",
       "      <td>vacant</td>\n",
       "      <td>1705.0</td>\n",
       "      <td>dhaka</td>\n",
       "      <td>৳16,900,000</td>\n",
       "      <td>Lake Circus Road, Kalabagan</td>\n",
       "    </tr>\n",
       "    <tr>\n",
       "      <th>2</th>\n",
       "      <td>1370 square feet apartment is ready to sale in...</td>\n",
       "      <td>3.0</td>\n",
       "      <td>3.0</td>\n",
       "      <td>6</td>\n",
       "      <td>vacant</td>\n",
       "      <td>1370.0</td>\n",
       "      <td>dhaka</td>\n",
       "      <td>৳12,500,000</td>\n",
       "      <td>Shukrabad, Dhanmondi</td>\n",
       "    </tr>\n",
       "    <tr>\n",
       "      <th>3</th>\n",
       "      <td>2125 Square Feet Apartment For Sale In Bashund...</td>\n",
       "      <td>3.0</td>\n",
       "      <td>3.0</td>\n",
       "      <td>4</td>\n",
       "      <td>vacant</td>\n",
       "      <td>2125.0</td>\n",
       "      <td>dhaka</td>\n",
       "      <td>৳20,000,000</td>\n",
       "      <td>Block L, Bashundhara R-A</td>\n",
       "    </tr>\n",
       "    <tr>\n",
       "      <th>4</th>\n",
       "      <td>Buy This 2687 Square Feet Flat In The Nice Are...</td>\n",
       "      <td>3.0</td>\n",
       "      <td>3.0</td>\n",
       "      <td>4</td>\n",
       "      <td>vacant</td>\n",
       "      <td>2687.0</td>\n",
       "      <td>dhaka</td>\n",
       "      <td>৳47,500,000</td>\n",
       "      <td>Road No 25, Banani</td>\n",
       "    </tr>\n",
       "  </tbody>\n",
       "</table>\n",
       "</div>"
      ],
      "text/plain": [
       "                                               Title  Bedrooms  Bathrooms  \\\n",
       "0  We Are Offering You A Very Spacious 1960 Sq Ft...       3.0        4.0   \n",
       "1  Valuable 1705 Square Feet Apartment Is Ready T...       3.0        3.0   \n",
       "2  1370 square feet apartment is ready to sale in...       3.0        3.0   \n",
       "3  2125 Square Feet Apartment For Sale In Bashund...       3.0        3.0   \n",
       "4  Buy This 2687 Square Feet Flat In The Nice Are...       3.0        3.0   \n",
       "\n",
       "  Floor_no Occupancy_status  Floor_area   City Price_in_taka  \\\n",
       "0        3           vacant      1960.0  dhaka   ৳39,000,000   \n",
       "1        1           vacant      1705.0  dhaka   ৳16,900,000   \n",
       "2        6           vacant      1370.0  dhaka   ৳12,500,000   \n",
       "3        4           vacant      2125.0  dhaka   ৳20,000,000   \n",
       "4        4           vacant      2687.0  dhaka   ৳47,500,000   \n",
       "\n",
       "                      Location  \n",
       "0           Gulshan 1, Gulshan  \n",
       "1  Lake Circus Road, Kalabagan  \n",
       "2         Shukrabad, Dhanmondi  \n",
       "3     Block L, Bashundhara R-A  \n",
       "4           Road No 25, Banani  "
      ]
     },
     "execution_count": 3,
     "metadata": {},
     "output_type": "execute_result"
    }
   ],
   "source": [
    "data.head(5)"
   ]
  },
  {
   "cell_type": "code",
   "execution_count": 4,
   "id": "09d5769e",
   "metadata": {
    "execution": {
     "iopub.execute_input": "2025-01-08T13:40:52.168279Z",
     "iopub.status.busy": "2025-01-08T13:40:52.167816Z",
     "iopub.status.idle": "2025-01-08T13:40:52.179694Z",
     "shell.execute_reply": "2025-01-08T13:40:52.178596Z"
    },
    "papermill": {
     "duration": 0.017603,
     "end_time": "2025-01-08T13:40:52.181532",
     "exception": false,
     "start_time": "2025-01-08T13:40:52.163929",
     "status": "completed"
    },
    "tags": []
   },
   "outputs": [
    {
     "data": {
      "text/plain": [
       "array(['We Are Offering You A Very Spacious 1960 Sq Ft Flat For Sale In Gulshan 1',\n",
       "       'Valuable 1705 Square Feet Apartment Is Ready To Sale In Kalabagan',\n",
       "       '1370 square feet apartment is ready to sale in Shukrabad', ...,\n",
       "       'Buy This 1350 Sq Ft Amazing Flat In Gazipur, Joydebpur With Modern Dwelling Advantages',\n",
       "       'Properly Designed This 1000 Square Feet Apartment Is Now Up For Sale In Chandana Next To Joydebpur Govt. Girls High School.',\n",
       "       '1240 Sq Ft Flat For Sale Is Awaiting You In Gazipur, Joydebpur'],\n",
       "      dtype=object)"
      ]
     },
     "execution_count": 4,
     "metadata": {},
     "output_type": "execute_result"
    }
   ],
   "source": [
    "data['Title'].unique()"
   ]
  },
  {
   "cell_type": "code",
   "execution_count": 5,
   "id": "9675bfa4",
   "metadata": {
    "execution": {
     "iopub.execute_input": "2025-01-08T13:40:52.189432Z",
     "iopub.status.busy": "2025-01-08T13:40:52.189074Z",
     "iopub.status.idle": "2025-01-08T13:40:52.195583Z",
     "shell.execute_reply": "2025-01-08T13:40:52.194250Z"
    },
    "papermill": {
     "duration": 0.012524,
     "end_time": "2025-01-08T13:40:52.197493",
     "exception": false,
     "start_time": "2025-01-08T13:40:52.184969",
     "status": "completed"
    },
    "tags": []
   },
   "outputs": [
    {
     "data": {
      "text/plain": [
       "3865"
      ]
     },
     "execution_count": 5,
     "metadata": {},
     "output_type": "execute_result"
    }
   ],
   "source": [
    "len(data)"
   ]
  },
  {
   "cell_type": "code",
   "execution_count": 6,
   "id": "a08f1ef6",
   "metadata": {
    "execution": {
     "iopub.execute_input": "2025-01-08T13:40:52.205607Z",
     "iopub.status.busy": "2025-01-08T13:40:52.205230Z",
     "iopub.status.idle": "2025-01-08T13:40:52.230613Z",
     "shell.execute_reply": "2025-01-08T13:40:52.229319Z"
    },
    "papermill": {
     "duration": 0.031468,
     "end_time": "2025-01-08T13:40:52.232418",
     "exception": false,
     "start_time": "2025-01-08T13:40:52.200950",
     "status": "completed"
    },
    "tags": []
   },
   "outputs": [
    {
     "data": {
      "text/html": [
       "<div>\n",
       "<style scoped>\n",
       "    .dataframe tbody tr th:only-of-type {\n",
       "        vertical-align: middle;\n",
       "    }\n",
       "\n",
       "    .dataframe tbody tr th {\n",
       "        vertical-align: top;\n",
       "    }\n",
       "\n",
       "    .dataframe thead th {\n",
       "        text-align: right;\n",
       "    }\n",
       "</style>\n",
       "<table border=\"1\" class=\"dataframe\">\n",
       "  <thead>\n",
       "    <tr style=\"text-align: right;\">\n",
       "      <th></th>\n",
       "      <th>Bedrooms</th>\n",
       "      <th>Bathrooms</th>\n",
       "      <th>Floor_area</th>\n",
       "    </tr>\n",
       "  </thead>\n",
       "  <tbody>\n",
       "    <tr>\n",
       "      <th>count</th>\n",
       "      <td>2864.000000</td>\n",
       "      <td>2864.000000</td>\n",
       "      <td>3766.000000</td>\n",
       "    </tr>\n",
       "    <tr>\n",
       "      <th>mean</th>\n",
       "      <td>3.133031</td>\n",
       "      <td>2.992668</td>\n",
       "      <td>1940.299522</td>\n",
       "    </tr>\n",
       "    <tr>\n",
       "      <th>std</th>\n",
       "      <td>2.215457</td>\n",
       "      <td>0.978434</td>\n",
       "      <td>6024.921935</td>\n",
       "    </tr>\n",
       "    <tr>\n",
       "      <th>min</th>\n",
       "      <td>1.000000</td>\n",
       "      <td>1.000000</td>\n",
       "      <td>84.000000</td>\n",
       "    </tr>\n",
       "    <tr>\n",
       "      <th>25%</th>\n",
       "      <td>3.000000</td>\n",
       "      <td>3.000000</td>\n",
       "      <td>1100.000000</td>\n",
       "    </tr>\n",
       "    <tr>\n",
       "      <th>50%</th>\n",
       "      <td>3.000000</td>\n",
       "      <td>3.000000</td>\n",
       "      <td>1380.000000</td>\n",
       "    </tr>\n",
       "    <tr>\n",
       "      <th>75%</th>\n",
       "      <td>3.000000</td>\n",
       "      <td>3.000000</td>\n",
       "      <td>1860.000000</td>\n",
       "    </tr>\n",
       "    <tr>\n",
       "      <th>max</th>\n",
       "      <td>50.000000</td>\n",
       "      <td>10.000000</td>\n",
       "      <td>195840.000000</td>\n",
       "    </tr>\n",
       "  </tbody>\n",
       "</table>\n",
       "</div>"
      ],
      "text/plain": [
       "          Bedrooms    Bathrooms     Floor_area\n",
       "count  2864.000000  2864.000000    3766.000000\n",
       "mean      3.133031     2.992668    1940.299522\n",
       "std       2.215457     0.978434    6024.921935\n",
       "min       1.000000     1.000000      84.000000\n",
       "25%       3.000000     3.000000    1100.000000\n",
       "50%       3.000000     3.000000    1380.000000\n",
       "75%       3.000000     3.000000    1860.000000\n",
       "max      50.000000    10.000000  195840.000000"
      ]
     },
     "execution_count": 6,
     "metadata": {},
     "output_type": "execute_result"
    }
   ],
   "source": [
    "data.describe()"
   ]
  },
  {
   "cell_type": "code",
   "execution_count": 7,
   "id": "97e62ff9",
   "metadata": {
    "execution": {
     "iopub.execute_input": "2025-01-08T13:40:52.240548Z",
     "iopub.status.busy": "2025-01-08T13:40:52.240153Z",
     "iopub.status.idle": "2025-01-08T13:40:52.250038Z",
     "shell.execute_reply": "2025-01-08T13:40:52.248769Z"
    },
    "papermill": {
     "duration": 0.016027,
     "end_time": "2025-01-08T13:40:52.251953",
     "exception": false,
     "start_time": "2025-01-08T13:40:52.235926",
     "status": "completed"
    },
    "tags": []
   },
   "outputs": [
    {
     "data": {
      "text/plain": [
       "Title                  0\n",
       "Bedrooms            1001\n",
       "Bathrooms           1001\n",
       "Floor_no             684\n",
       "Occupancy_status      99\n",
       "Floor_area            99\n",
       "City                   0\n",
       "Price_in_taka          0\n",
       "Location               6\n",
       "dtype: int64"
      ]
     },
     "execution_count": 7,
     "metadata": {},
     "output_type": "execute_result"
    }
   ],
   "source": [
    "data.isna().sum()"
   ]
  },
  {
   "cell_type": "code",
   "execution_count": null,
   "id": "78f47acc",
   "metadata": {
    "papermill": {
     "duration": 0.003185,
     "end_time": "2025-01-08T13:40:52.258880",
     "exception": false,
     "start_time": "2025-01-08T13:40:52.255695",
     "status": "completed"
    },
    "tags": []
   },
   "outputs": [],
   "source": []
  }
 ],
 "metadata": {
  "kaggle": {
   "accelerator": "none",
   "dataSources": [
    {
     "datasetId": 5521749,
     "sourceId": 9142342,
     "sourceType": "datasetVersion"
    }
   ],
   "dockerImageVersionId": 30822,
   "isGpuEnabled": false,
   "isInternetEnabled": false,
   "language": "python",
   "sourceType": "notebook"
  },
  "kernelspec": {
   "display_name": "Python 3",
   "language": "python",
   "name": "python3"
  },
  "language_info": {
   "codemirror_mode": {
    "name": "ipython",
    "version": 3
   },
   "file_extension": ".py",
   "mimetype": "text/x-python",
   "name": "python",
   "nbconvert_exporter": "python",
   "pygments_lexer": "ipython3",
   "version": "3.10.12"
  },
  "papermill": {
   "default_parameters": {},
   "duration": 3.71851,
   "end_time": "2025-01-08T13:40:52.984141",
   "environment_variables": {},
   "exception": null,
   "input_path": "__notebook__.ipynb",
   "output_path": "__notebook__.ipynb",
   "parameters": {},
   "start_time": "2025-01-08T13:40:49.265631",
   "version": "2.6.0"
  }
 },
 "nbformat": 4,
 "nbformat_minor": 5
}
