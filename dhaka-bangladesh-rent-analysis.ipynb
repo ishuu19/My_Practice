{
 "cells": [
  {
   "cell_type": "code",
   "execution_count": 1,
   "id": "e7b03070",
   "metadata": {
    "_cell_guid": "b1076dfc-b9ad-4769-8c92-a6c4dae69d19",
    "_uuid": "8f2839f25d086af736a60e9eeb907d3b93b6e0e5",
    "execution": {
     "iopub.execute_input": "2025-01-08T14:09:05.360366Z",
     "iopub.status.busy": "2025-01-08T14:09:05.360036Z",
     "iopub.status.idle": "2025-01-08T14:09:05.766498Z",
     "shell.execute_reply": "2025-01-08T14:09:05.764986Z"
    },
    "papermill": {
     "duration": 0.413965,
     "end_time": "2025-01-08T14:09:05.768820",
     "exception": false,
     "start_time": "2025-01-08T14:09:05.354855",
     "status": "completed"
    },
    "tags": []
   },
   "outputs": [
    {
     "name": "stdout",
     "output_type": "stream",
     "text": [
      "/kaggle/input/house-price-bangladesh/house_price_bd.csv\n"
     ]
    }
   ],
   "source": [
    "# This Python 3 environment comes with many helpful analytics libraries installed\n",
    "# It is defined by the kaggle/python Docker image: https://github.com/kaggle/docker-python\n",
    "# For example, here's several helpful packages to load\n",
    "\n",
    "import numpy as np # linear algebra\n",
    "import pandas as pd # data processing, CSV file I/O (e.g. pd.read_csv)\n",
    "\n",
    "# Input data files are available in the read-only \"../input/\" directory\n",
    "# For example, running this (by clicking run or pressing Shift+Enter) will list all files under the input directory\n",
    "\n",
    "import os\n",
    "for dirname, _, filenames in os.walk('/kaggle/input'):\n",
    "    for filename in filenames:\n",
    "        print(os.path.join(dirname, filename))\n",
    "\n",
    "# You can write up to 20GB to the current directory (/kaggle/working/) that gets preserved as output when you create a version using \"Save & Run All\" \n",
    "# You can also write temporary files to /kaggle/temp/, but they won't be saved outside of the current session"
   ]
  },
  {
   "cell_type": "code",
   "execution_count": 2,
   "id": "8362218c",
   "metadata": {
    "execution": {
     "iopub.execute_input": "2025-01-08T14:09:05.780013Z",
     "iopub.status.busy": "2025-01-08T14:09:05.779511Z",
     "iopub.status.idle": "2025-01-08T14:09:05.826070Z",
     "shell.execute_reply": "2025-01-08T14:09:05.824882Z"
    },
    "papermill": {
     "duration": 0.053512,
     "end_time": "2025-01-08T14:09:05.828008",
     "exception": false,
     "start_time": "2025-01-08T14:09:05.774496",
     "status": "completed"
    },
    "tags": []
   },
   "outputs": [],
   "source": [
    "data = pd.read_csv(\"/kaggle/input/house-price-bangladesh/house_price_bd.csv\")"
   ]
  },
  {
   "cell_type": "code",
   "execution_count": 3,
   "id": "8a459486",
   "metadata": {
    "execution": {
     "iopub.execute_input": "2025-01-08T14:09:05.836634Z",
     "iopub.status.busy": "2025-01-08T14:09:05.836250Z",
     "iopub.status.idle": "2025-01-08T14:09:05.860983Z",
     "shell.execute_reply": "2025-01-08T14:09:05.859686Z"
    },
    "papermill": {
     "duration": 0.031051,
     "end_time": "2025-01-08T14:09:05.862957",
     "exception": false,
     "start_time": "2025-01-08T14:09:05.831906",
     "status": "completed"
    },
    "tags": []
   },
   "outputs": [
    {
     "data": {
      "text/html": [
       "<div>\n",
       "<style scoped>\n",
       "    .dataframe tbody tr th:only-of-type {\n",
       "        vertical-align: middle;\n",
       "    }\n",
       "\n",
       "    .dataframe tbody tr th {\n",
       "        vertical-align: top;\n",
       "    }\n",
       "\n",
       "    .dataframe thead th {\n",
       "        text-align: right;\n",
       "    }\n",
       "</style>\n",
       "<table border=\"1\" class=\"dataframe\">\n",
       "  <thead>\n",
       "    <tr style=\"text-align: right;\">\n",
       "      <th></th>\n",
       "      <th>Title</th>\n",
       "      <th>Bedrooms</th>\n",
       "      <th>Bathrooms</th>\n",
       "      <th>Floor_no</th>\n",
       "      <th>Occupancy_status</th>\n",
       "      <th>Floor_area</th>\n",
       "      <th>City</th>\n",
       "      <th>Price_in_taka</th>\n",
       "      <th>Location</th>\n",
       "    </tr>\n",
       "  </thead>\n",
       "  <tbody>\n",
       "    <tr>\n",
       "      <th>0</th>\n",
       "      <td>We Are Offering You A Very Spacious 1960 Sq Ft...</td>\n",
       "      <td>3.0</td>\n",
       "      <td>4.0</td>\n",
       "      <td>3</td>\n",
       "      <td>vacant</td>\n",
       "      <td>1960.0</td>\n",
       "      <td>dhaka</td>\n",
       "      <td>৳39,000,000</td>\n",
       "      <td>Gulshan 1, Gulshan</td>\n",
       "    </tr>\n",
       "    <tr>\n",
       "      <th>1</th>\n",
       "      <td>Valuable 1705 Square Feet Apartment Is Ready T...</td>\n",
       "      <td>3.0</td>\n",
       "      <td>3.0</td>\n",
       "      <td>1</td>\n",
       "      <td>vacant</td>\n",
       "      <td>1705.0</td>\n",
       "      <td>dhaka</td>\n",
       "      <td>৳16,900,000</td>\n",
       "      <td>Lake Circus Road, Kalabagan</td>\n",
       "    </tr>\n",
       "    <tr>\n",
       "      <th>2</th>\n",
       "      <td>1370 square feet apartment is ready to sale in...</td>\n",
       "      <td>3.0</td>\n",
       "      <td>3.0</td>\n",
       "      <td>6</td>\n",
       "      <td>vacant</td>\n",
       "      <td>1370.0</td>\n",
       "      <td>dhaka</td>\n",
       "      <td>৳12,500,000</td>\n",
       "      <td>Shukrabad, Dhanmondi</td>\n",
       "    </tr>\n",
       "    <tr>\n",
       "      <th>3</th>\n",
       "      <td>2125 Square Feet Apartment For Sale In Bashund...</td>\n",
       "      <td>3.0</td>\n",
       "      <td>3.0</td>\n",
       "      <td>4</td>\n",
       "      <td>vacant</td>\n",
       "      <td>2125.0</td>\n",
       "      <td>dhaka</td>\n",
       "      <td>৳20,000,000</td>\n",
       "      <td>Block L, Bashundhara R-A</td>\n",
       "    </tr>\n",
       "    <tr>\n",
       "      <th>4</th>\n",
       "      <td>Buy This 2687 Square Feet Flat In The Nice Are...</td>\n",
       "      <td>3.0</td>\n",
       "      <td>3.0</td>\n",
       "      <td>4</td>\n",
       "      <td>vacant</td>\n",
       "      <td>2687.0</td>\n",
       "      <td>dhaka</td>\n",
       "      <td>৳47,500,000</td>\n",
       "      <td>Road No 25, Banani</td>\n",
       "    </tr>\n",
       "  </tbody>\n",
       "</table>\n",
       "</div>"
      ],
      "text/plain": [
       "                                               Title  Bedrooms  Bathrooms  \\\n",
       "0  We Are Offering You A Very Spacious 1960 Sq Ft...       3.0        4.0   \n",
       "1  Valuable 1705 Square Feet Apartment Is Ready T...       3.0        3.0   \n",
       "2  1370 square feet apartment is ready to sale in...       3.0        3.0   \n",
       "3  2125 Square Feet Apartment For Sale In Bashund...       3.0        3.0   \n",
       "4  Buy This 2687 Square Feet Flat In The Nice Are...       3.0        3.0   \n",
       "\n",
       "  Floor_no Occupancy_status  Floor_area   City Price_in_taka  \\\n",
       "0        3           vacant      1960.0  dhaka   ৳39,000,000   \n",
       "1        1           vacant      1705.0  dhaka   ৳16,900,000   \n",
       "2        6           vacant      1370.0  dhaka   ৳12,500,000   \n",
       "3        4           vacant      2125.0  dhaka   ৳20,000,000   \n",
       "4        4           vacant      2687.0  dhaka   ৳47,500,000   \n",
       "\n",
       "                      Location  \n",
       "0           Gulshan 1, Gulshan  \n",
       "1  Lake Circus Road, Kalabagan  \n",
       "2         Shukrabad, Dhanmondi  \n",
       "3     Block L, Bashundhara R-A  \n",
       "4           Road No 25, Banani  "
      ]
     },
     "execution_count": 3,
     "metadata": {},
     "output_type": "execute_result"
    }
   ],
   "source": [
    "data.head(5)"
   ]
  },
  {
   "cell_type": "code",
   "execution_count": 4,
   "id": "e2a6ed7f",
   "metadata": {
    "execution": {
     "iopub.execute_input": "2025-01-08T14:09:05.871998Z",
     "iopub.status.busy": "2025-01-08T14:09:05.871463Z",
     "iopub.status.idle": "2025-01-08T14:09:05.882653Z",
     "shell.execute_reply": "2025-01-08T14:09:05.881566Z"
    },
    "papermill": {
     "duration": 0.01768,
     "end_time": "2025-01-08T14:09:05.884510",
     "exception": false,
     "start_time": "2025-01-08T14:09:05.866830",
     "status": "completed"
    },
    "tags": []
   },
   "outputs": [
    {
     "data": {
      "text/plain": [
       "array(['We Are Offering You A Very Spacious 1960 Sq Ft Flat For Sale In Gulshan 1',\n",
       "       'Valuable 1705 Square Feet Apartment Is Ready To Sale In Kalabagan',\n",
       "       '1370 square feet apartment is ready to sale in Shukrabad', ...,\n",
       "       'Buy This 1350 Sq Ft Amazing Flat In Gazipur, Joydebpur With Modern Dwelling Advantages',\n",
       "       'Properly Designed This 1000 Square Feet Apartment Is Now Up For Sale In Chandana Next To Joydebpur Govt. Girls High School.',\n",
       "       '1240 Sq Ft Flat For Sale Is Awaiting You In Gazipur, Joydebpur'],\n",
       "      dtype=object)"
      ]
     },
     "execution_count": 4,
     "metadata": {},
     "output_type": "execute_result"
    }
   ],
   "source": [
    "data['Title'].unique()"
   ]
  },
  {
   "cell_type": "code",
   "execution_count": 5,
   "id": "eb857874",
   "metadata": {
    "execution": {
     "iopub.execute_input": "2025-01-08T14:09:05.893627Z",
     "iopub.status.busy": "2025-01-08T14:09:05.893282Z",
     "iopub.status.idle": "2025-01-08T14:09:05.899684Z",
     "shell.execute_reply": "2025-01-08T14:09:05.898592Z"
    },
    "papermill": {
     "duration": 0.012951,
     "end_time": "2025-01-08T14:09:05.901471",
     "exception": false,
     "start_time": "2025-01-08T14:09:05.888520",
     "status": "completed"
    },
    "tags": []
   },
   "outputs": [
    {
     "data": {
      "text/plain": [
       "(3865, 9)"
      ]
     },
     "execution_count": 5,
     "metadata": {},
     "output_type": "execute_result"
    }
   ],
   "source": [
    "data.shape"
   ]
  },
  {
   "cell_type": "code",
   "execution_count": 6,
   "id": "179f8059",
   "metadata": {
    "execution": {
     "iopub.execute_input": "2025-01-08T14:09:05.910643Z",
     "iopub.status.busy": "2025-01-08T14:09:05.910272Z",
     "iopub.status.idle": "2025-01-08T14:09:05.939785Z",
     "shell.execute_reply": "2025-01-08T14:09:05.938488Z"
    },
    "papermill": {
     "duration": 0.036221,
     "end_time": "2025-01-08T14:09:05.941771",
     "exception": false,
     "start_time": "2025-01-08T14:09:05.905550",
     "status": "completed"
    },
    "tags": []
   },
   "outputs": [
    {
     "data": {
      "text/html": [
       "<div>\n",
       "<style scoped>\n",
       "    .dataframe tbody tr th:only-of-type {\n",
       "        vertical-align: middle;\n",
       "    }\n",
       "\n",
       "    .dataframe tbody tr th {\n",
       "        vertical-align: top;\n",
       "    }\n",
       "\n",
       "    .dataframe thead th {\n",
       "        text-align: right;\n",
       "    }\n",
       "</style>\n",
       "<table border=\"1\" class=\"dataframe\">\n",
       "  <thead>\n",
       "    <tr style=\"text-align: right;\">\n",
       "      <th></th>\n",
       "      <th>Bedrooms</th>\n",
       "      <th>Bathrooms</th>\n",
       "      <th>Floor_area</th>\n",
       "    </tr>\n",
       "  </thead>\n",
       "  <tbody>\n",
       "    <tr>\n",
       "      <th>count</th>\n",
       "      <td>2864.000000</td>\n",
       "      <td>2864.000000</td>\n",
       "      <td>3766.000000</td>\n",
       "    </tr>\n",
       "    <tr>\n",
       "      <th>mean</th>\n",
       "      <td>3.133031</td>\n",
       "      <td>2.992668</td>\n",
       "      <td>1940.299522</td>\n",
       "    </tr>\n",
       "    <tr>\n",
       "      <th>std</th>\n",
       "      <td>2.215457</td>\n",
       "      <td>0.978434</td>\n",
       "      <td>6024.921935</td>\n",
       "    </tr>\n",
       "    <tr>\n",
       "      <th>min</th>\n",
       "      <td>1.000000</td>\n",
       "      <td>1.000000</td>\n",
       "      <td>84.000000</td>\n",
       "    </tr>\n",
       "    <tr>\n",
       "      <th>25%</th>\n",
       "      <td>3.000000</td>\n",
       "      <td>3.000000</td>\n",
       "      <td>1100.000000</td>\n",
       "    </tr>\n",
       "    <tr>\n",
       "      <th>50%</th>\n",
       "      <td>3.000000</td>\n",
       "      <td>3.000000</td>\n",
       "      <td>1380.000000</td>\n",
       "    </tr>\n",
       "    <tr>\n",
       "      <th>75%</th>\n",
       "      <td>3.000000</td>\n",
       "      <td>3.000000</td>\n",
       "      <td>1860.000000</td>\n",
       "    </tr>\n",
       "    <tr>\n",
       "      <th>max</th>\n",
       "      <td>50.000000</td>\n",
       "      <td>10.000000</td>\n",
       "      <td>195840.000000</td>\n",
       "    </tr>\n",
       "  </tbody>\n",
       "</table>\n",
       "</div>"
      ],
      "text/plain": [
       "          Bedrooms    Bathrooms     Floor_area\n",
       "count  2864.000000  2864.000000    3766.000000\n",
       "mean      3.133031     2.992668    1940.299522\n",
       "std       2.215457     0.978434    6024.921935\n",
       "min       1.000000     1.000000      84.000000\n",
       "25%       3.000000     3.000000    1100.000000\n",
       "50%       3.000000     3.000000    1380.000000\n",
       "75%       3.000000     3.000000    1860.000000\n",
       "max      50.000000    10.000000  195840.000000"
      ]
     },
     "execution_count": 6,
     "metadata": {},
     "output_type": "execute_result"
    }
   ],
   "source": [
    "data.describe()"
   ]
  },
  {
   "cell_type": "code",
   "execution_count": 7,
   "id": "9936e304",
   "metadata": {
    "execution": {
     "iopub.execute_input": "2025-01-08T14:09:05.951346Z",
     "iopub.status.busy": "2025-01-08T14:09:05.951007Z",
     "iopub.status.idle": "2025-01-08T14:09:05.960030Z",
     "shell.execute_reply": "2025-01-08T14:09:05.959047Z"
    },
    "papermill": {
     "duration": 0.016185,
     "end_time": "2025-01-08T14:09:05.962143",
     "exception": false,
     "start_time": "2025-01-08T14:09:05.945958",
     "status": "completed"
    },
    "tags": []
   },
   "outputs": [
    {
     "data": {
      "text/plain": [
       "Title                  0\n",
       "Bedrooms            1001\n",
       "Bathrooms           1001\n",
       "Floor_no             684\n",
       "Occupancy_status      99\n",
       "Floor_area            99\n",
       "City                   0\n",
       "Price_in_taka          0\n",
       "Location               6\n",
       "dtype: int64"
      ]
     },
     "execution_count": 7,
     "metadata": {},
     "output_type": "execute_result"
    }
   ],
   "source": [
    "data.isna().sum()"
   ]
  },
  {
   "cell_type": "code",
   "execution_count": 8,
   "id": "1f2dc1cd",
   "metadata": {
    "execution": {
     "iopub.execute_input": "2025-01-08T14:09:05.971881Z",
     "iopub.status.busy": "2025-01-08T14:09:05.971464Z",
     "iopub.status.idle": "2025-01-08T14:09:05.994372Z",
     "shell.execute_reply": "2025-01-08T14:09:05.993061Z"
    },
    "papermill": {
     "duration": 0.029839,
     "end_time": "2025-01-08T14:09:05.996283",
     "exception": false,
     "start_time": "2025-01-08T14:09:05.966444",
     "status": "completed"
    },
    "tags": []
   },
   "outputs": [
    {
     "name": "stdout",
     "output_type": "stream",
     "text": [
      "<class 'pandas.core.frame.DataFrame'>\n",
      "RangeIndex: 3865 entries, 0 to 3864\n",
      "Data columns (total 9 columns):\n",
      " #   Column            Non-Null Count  Dtype  \n",
      "---  ------            --------------  -----  \n",
      " 0   Title             3865 non-null   object \n",
      " 1   Bedrooms          2864 non-null   float64\n",
      " 2   Bathrooms         2864 non-null   float64\n",
      " 3   Floor_no          3181 non-null   object \n",
      " 4   Occupancy_status  3766 non-null   object \n",
      " 5   Floor_area        3766 non-null   float64\n",
      " 6   City              3865 non-null   object \n",
      " 7   Price_in_taka     3865 non-null   object \n",
      " 8   Location          3859 non-null   object \n",
      "dtypes: float64(3), object(6)\n",
      "memory usage: 271.9+ KB\n"
     ]
    }
   ],
   "source": [
    "data.info()"
   ]
  },
  {
   "cell_type": "code",
   "execution_count": 9,
   "id": "b26acf8d",
   "metadata": {
    "execution": {
     "iopub.execute_input": "2025-01-08T14:09:06.006116Z",
     "iopub.status.busy": "2025-01-08T14:09:06.005714Z",
     "iopub.status.idle": "2025-01-08T14:09:06.020442Z",
     "shell.execute_reply": "2025-01-08T14:09:06.019506Z"
    },
    "papermill": {
     "duration": 0.021583,
     "end_time": "2025-01-08T14:09:06.022174",
     "exception": false,
     "start_time": "2025-01-08T14:09:06.000591",
     "status": "completed"
    },
    "tags": []
   },
   "outputs": [],
   "source": [
    "data['Price_in_taka'] = pd.to_numeric(data['Price_in_taka'].str.replace(',', '').str.replace('৳', ''), errors = 'coerce')"
   ]
  },
  {
   "cell_type": "code",
   "execution_count": 10,
   "id": "989fcba7",
   "metadata": {
    "execution": {
     "iopub.execute_input": "2025-01-08T14:09:06.032461Z",
     "iopub.status.busy": "2025-01-08T14:09:06.032102Z",
     "iopub.status.idle": "2025-01-08T14:09:06.045843Z",
     "shell.execute_reply": "2025-01-08T14:09:06.044604Z"
    },
    "papermill": {
     "duration": 0.02091,
     "end_time": "2025-01-08T14:09:06.047721",
     "exception": false,
     "start_time": "2025-01-08T14:09:06.026811",
     "status": "completed"
    },
    "tags": []
   },
   "outputs": [
    {
     "data": {
      "text/html": [
       "<div>\n",
       "<style scoped>\n",
       "    .dataframe tbody tr th:only-of-type {\n",
       "        vertical-align: middle;\n",
       "    }\n",
       "\n",
       "    .dataframe tbody tr th {\n",
       "        vertical-align: top;\n",
       "    }\n",
       "\n",
       "    .dataframe thead th {\n",
       "        text-align: right;\n",
       "    }\n",
       "</style>\n",
       "<table border=\"1\" class=\"dataframe\">\n",
       "  <thead>\n",
       "    <tr style=\"text-align: right;\">\n",
       "      <th></th>\n",
       "      <th>Title</th>\n",
       "      <th>Bedrooms</th>\n",
       "      <th>Bathrooms</th>\n",
       "      <th>Floor_no</th>\n",
       "      <th>Occupancy_status</th>\n",
       "      <th>Floor_area</th>\n",
       "      <th>City</th>\n",
       "      <th>Price_in_taka</th>\n",
       "      <th>Location</th>\n",
       "    </tr>\n",
       "  </thead>\n",
       "  <tbody>\n",
       "    <tr>\n",
       "      <th>0</th>\n",
       "      <td>We Are Offering You A Very Spacious 1960 Sq Ft...</td>\n",
       "      <td>3.0</td>\n",
       "      <td>4.0</td>\n",
       "      <td>3</td>\n",
       "      <td>vacant</td>\n",
       "      <td>1960.0</td>\n",
       "      <td>dhaka</td>\n",
       "      <td>39000000</td>\n",
       "      <td>Gulshan 1, Gulshan</td>\n",
       "    </tr>\n",
       "    <tr>\n",
       "      <th>1</th>\n",
       "      <td>Valuable 1705 Square Feet Apartment Is Ready T...</td>\n",
       "      <td>3.0</td>\n",
       "      <td>3.0</td>\n",
       "      <td>1</td>\n",
       "      <td>vacant</td>\n",
       "      <td>1705.0</td>\n",
       "      <td>dhaka</td>\n",
       "      <td>16900000</td>\n",
       "      <td>Lake Circus Road, Kalabagan</td>\n",
       "    </tr>\n",
       "    <tr>\n",
       "      <th>2</th>\n",
       "      <td>1370 square feet apartment is ready to sale in...</td>\n",
       "      <td>3.0</td>\n",
       "      <td>3.0</td>\n",
       "      <td>6</td>\n",
       "      <td>vacant</td>\n",
       "      <td>1370.0</td>\n",
       "      <td>dhaka</td>\n",
       "      <td>12500000</td>\n",
       "      <td>Shukrabad, Dhanmondi</td>\n",
       "    </tr>\n",
       "    <tr>\n",
       "      <th>3</th>\n",
       "      <td>2125 Square Feet Apartment For Sale In Bashund...</td>\n",
       "      <td>3.0</td>\n",
       "      <td>3.0</td>\n",
       "      <td>4</td>\n",
       "      <td>vacant</td>\n",
       "      <td>2125.0</td>\n",
       "      <td>dhaka</td>\n",
       "      <td>20000000</td>\n",
       "      <td>Block L, Bashundhara R-A</td>\n",
       "    </tr>\n",
       "    <tr>\n",
       "      <th>4</th>\n",
       "      <td>Buy This 2687 Square Feet Flat In The Nice Are...</td>\n",
       "      <td>3.0</td>\n",
       "      <td>3.0</td>\n",
       "      <td>4</td>\n",
       "      <td>vacant</td>\n",
       "      <td>2687.0</td>\n",
       "      <td>dhaka</td>\n",
       "      <td>47500000</td>\n",
       "      <td>Road No 25, Banani</td>\n",
       "    </tr>\n",
       "  </tbody>\n",
       "</table>\n",
       "</div>"
      ],
      "text/plain": [
       "                                               Title  Bedrooms  Bathrooms  \\\n",
       "0  We Are Offering You A Very Spacious 1960 Sq Ft...       3.0        4.0   \n",
       "1  Valuable 1705 Square Feet Apartment Is Ready T...       3.0        3.0   \n",
       "2  1370 square feet apartment is ready to sale in...       3.0        3.0   \n",
       "3  2125 Square Feet Apartment For Sale In Bashund...       3.0        3.0   \n",
       "4  Buy This 2687 Square Feet Flat In The Nice Are...       3.0        3.0   \n",
       "\n",
       "  Floor_no Occupancy_status  Floor_area   City  Price_in_taka  \\\n",
       "0        3           vacant      1960.0  dhaka       39000000   \n",
       "1        1           vacant      1705.0  dhaka       16900000   \n",
       "2        6           vacant      1370.0  dhaka       12500000   \n",
       "3        4           vacant      2125.0  dhaka       20000000   \n",
       "4        4           vacant      2687.0  dhaka       47500000   \n",
       "\n",
       "                      Location  \n",
       "0           Gulshan 1, Gulshan  \n",
       "1  Lake Circus Road, Kalabagan  \n",
       "2         Shukrabad, Dhanmondi  \n",
       "3     Block L, Bashundhara R-A  \n",
       "4           Road No 25, Banani  "
      ]
     },
     "execution_count": 10,
     "metadata": {},
     "output_type": "execute_result"
    }
   ],
   "source": [
    "data.head()"
   ]
  },
  {
   "cell_type": "code",
   "execution_count": 11,
   "id": "afd44467",
   "metadata": {
    "execution": {
     "iopub.execute_input": "2025-01-08T14:09:06.058877Z",
     "iopub.status.busy": "2025-01-08T14:09:06.058483Z",
     "iopub.status.idle": "2025-01-08T14:09:06.065727Z",
     "shell.execute_reply": "2025-01-08T14:09:06.064776Z"
    },
    "papermill": {
     "duration": 0.015125,
     "end_time": "2025-01-08T14:09:06.067433",
     "exception": false,
     "start_time": "2025-01-08T14:09:06.052308",
     "status": "completed"
    },
    "tags": []
   },
   "outputs": [
    {
     "data": {
      "text/plain": [
       "Title                object\n",
       "Bedrooms            float64\n",
       "Bathrooms           float64\n",
       "Floor_no             object\n",
       "Occupancy_status     object\n",
       "Floor_area          float64\n",
       "City                 object\n",
       "Price_in_taka         int64\n",
       "Location             object\n",
       "dtype: object"
      ]
     },
     "execution_count": 11,
     "metadata": {},
     "output_type": "execute_result"
    }
   ],
   "source": [
    "data.dtypes"
   ]
  },
  {
   "cell_type": "code",
   "execution_count": 12,
   "id": "f5feff37",
   "metadata": {
    "execution": {
     "iopub.execute_input": "2025-01-08T14:09:06.077953Z",
     "iopub.status.busy": "2025-01-08T14:09:06.077568Z",
     "iopub.status.idle": "2025-01-08T14:09:06.093293Z",
     "shell.execute_reply": "2025-01-08T14:09:06.092199Z"
    },
    "papermill": {
     "duration": 0.023636,
     "end_time": "2025-01-08T14:09:06.095807",
     "exception": false,
     "start_time": "2025-01-08T14:09:06.072171",
     "status": "completed"
    },
    "tags": []
   },
   "outputs": [
    {
     "name": "stdout",
     "output_type": "stream",
     "text": [
      "Column 'Bedrooms' unique values: [ 3.  4.  2. nan 16.  8.  5.  1.  6. 18. 46.  7. 13. 33. 50. 23. 21. 22.\n",
      " 20. 27. 15.]\n",
      "Column 'Bathrooms' unique values: [ 4.  3.  2. nan  5. 10.  1.  6.  8.]\n",
      "Column 'Floor_no' unique values: ['3' '1' '6' '4' '8' '2' '5' '7' '9' '8th' nan '10' '14' 'G+7' '13' '12'\n",
      " '1st' '11' 'A1,A2,A3,A4,A5,A6,A7' '0+7' '1F' '4th to 8th Backside' '18'\n",
      " '5th' '17' 'Merin City - Purbach']\n",
      "Column 'Occupancy_status' unique values: ['vacant' 'occupied' nan]\n",
      "Column 'Floor_area' unique values: [1.9600e+03 1.7050e+03 1.3700e+03 2.1250e+03 2.6870e+03 1.1500e+03\n",
      " 2.1190e+03 2.3180e+03 1.3970e+03 2.4000e+03 1.3000e+03 1.9000e+03\n",
      " 1.5000e+03 1.4500e+03 7.5000e+02 2.3430e+03 1.1850e+03 1.6100e+03\n",
      " 2.1800e+03 3.6500e+03 5.0000e+03 2.7000e+03 1.1750e+03 6.5000e+02\n",
      " 1.3310e+03 9.0000e+02 1.3500e+03 1.2000e+03 2.0450e+03 1.4100e+03\n",
      " 1.1000e+03 1.2200e+03 1.2400e+03 1.7000e+03 1.4000e+03 1.0500e+03\n",
      " 1.6000e+04 1.5040e+03 1.9800e+03 1.5850e+03 1.4850e+03 1.5450e+03\n",
      " 5.6000e+03 1.3400e+03 1.2750e+03 1.2450e+03 8.5000e+02 1.4400e+03\n",
      " 9.4800e+02 2.6440e+03 8.0000e+02 2.0000e+03 1.5930e+03 1.0400e+03\n",
      " 1.6200e+03 1.5500e+03 1.0000e+03 1.8400e+03 7.4000e+02 1.2500e+03\n",
      " 1.4300e+03 1.6900e+03 1.3300e+03 1.2300e+03 1.2650e+03 1.5540e+03\n",
      " 1.5700e+03 8.1500e+02 2.5530e+03 1.5900e+03 9.5000e+02 8.6000e+02\n",
      " 3.3550e+03 1.3750e+03 2.1500e+04 1.0080e+03 1.0550e+03 1.8000e+03\n",
      " 2.1460e+03 1.6750e+03 2.7870e+03 5.0400e+03 9.8600e+02 9.2000e+02\n",
      " 2.2900e+03 1.0750e+03 1.1350e+03 8.5500e+02 1.4250e+03 2.3800e+03\n",
      " 2.6000e+03 1.6000e+03 2.2000e+03 3.4740e+03 2.0750e+03 1.3800e+03\n",
      " 1.4700e+03 1.0900e+03 5.8240e+03 1.6540e+03 9.7500e+02 1.3650e+03\n",
      " 1.1280e+03 1.3880e+03 1.5300e+03 4.3500e+03 2.3000e+03 3.5000e+02\n",
      " 1.4390e+03 1.5050e+03 1.6050e+03 1.5370e+03 1.8150e+03 1.2250e+03\n",
      " 1.0850e+03 1.2550e+03 1.9100e+03 2.1600e+02 1.4600e+03 1.5780e+03\n",
      " 1.5840e+03 1.7030e+03 2.7500e+03 2.1560e+03 8.8500e+03 1.3600e+03\n",
      " 1.3320e+03 3.2620e+03 1.2950e+03 2.8800e+03 1.9200e+04 1.2540e+03\n",
      " 5.2000e+03 2.8590e+03 1.1950e+03 1.8600e+03 2.9500e+03 3.7000e+03\n",
      " 1.0700e+03 1.4510e+03 9.4000e+02 3.6800e+02 1.2760e+03 3.1950e+03\n",
      " 1.3200e+03 1.5170e+03 8.7500e+02 1.6500e+03 6.3000e+02 1.5600e+03\n",
      " 1.9700e+03 1.8020e+03 4.3200e+03 2.5000e+03 1.7200e+03 9.2500e+02\n",
      " 6.3570e+03 1.5530e+03 2.9450e+03 1.5950e+03 7.0000e+02 1.4800e+03\n",
      " 9.9000e+02 6.0000e+02 1.0150e+03 1.0450e+03 2.1000e+03 2.3750e+03\n",
      " 8.2000e+02 1.1250e+03 9.7000e+02 1.5100e+03 1.2350e+03 3.6000e+03\n",
      " 3.4000e+03 8.7900e+02 1.8500e+03 1.8560e+03 1.3000e+02 6.2500e+02\n",
      " 1.3250e+03 1.8520e+03 1.2100e+03 1.9550e+03 1.6090e+03 9.2200e+02\n",
      " 2.4500e+03 2.2580e+03 1.8720e+03 9.3500e+02 9.6300e+02 9.5100e+02\n",
      " 1.2480e+03 1.0460e+03 3.2180e+03 3.2000e+03 1.3900e+03 1.3830e+03\n",
      " 2.7850e+03 2.4750e+03 2.5350e+03 1.1300e+03 1.5870e+03 3.2260e+03\n",
      " 6.1200e+02 1.0200e+03 1.3100e+03 9.3000e+02 1.2600e+03 1.3150e+03\n",
      " 1.7960e+03 1.2360e+03 1.1080e+03 1.6950e+03 6.2000e+03 1.2520e+03\n",
      " 1.6110e+03 2.0500e+03 1.4950e+03 1.4750e+03 1.1800e+03 7.8000e+02\n",
      " 1.0960e+03 2.4150e+03 8.1000e+02 4.2000e+03 1.5180e+03 2.2300e+03\n",
      " 1.3960e+03 1.2700e+03 1.1560e+03 1.8300e+03 1.6340e+03 1.9500e+03\n",
      " 1.2940e+03 2.1540e+03 1.5130e+03 1.6370e+03 2.2250e+03 2.2550e+03\n",
      " 1.4630e+03 2.0600e+03 1.2800e+03 2.6500e+03 1.2180e+03 7.8500e+02\n",
      " 1.5120e+04 1.2270e+03 1.6250e+03 1.4650e+03 1.2150e+03 1.1400e+03\n",
      " 2.3500e+03 2.2050e+04 2.0090e+03 1.5750e+03 1.1150e+03 3.1320e+03\n",
      " 2.8290e+03 9.1500e+02 2.5000e+02 2.1500e+03 1.2060e+03 1.8730e+03\n",
      " 1.5150e+03 1.0950e+03 1.6160e+03 1.1600e+03 1.7700e+03 6.8000e+02\n",
      " 2.0040e+03 1.9130e+03 1.4200e+03 1.2740e+03 4.3720e+03 6.8000e+03\n",
      " 1.8900e+03 2.1420e+03 1.6800e+03 1.2040e+03 3.6600e+03 8.4000e+02\n",
      " 2.1600e+03 1.6180e+03 2.2800e+03 1.2900e+03 7.7200e+02 1.1200e+03\n",
      " 1.0300e+03 1.1050e+03 2.3740e+03 1.2390e+03 1.6600e+03 1.4970e+03\n",
      " 1.7500e+03 8.5200e+02 1.7600e+03 2.1100e+03 2.1840e+03 1.9400e+03\n",
      " 1.3220e+03 1.6350e+03 2.0250e+03 9.8000e+02 1.2850e+03 3.6400e+03\n",
      " 1.2560e+03 1.3160e+03 1.2070e+03 3.1000e+03 1.3080e+03 2.2680e+03\n",
      " 1.5960e+03 1.6570e+03 2.4560e+03 1.5990e+03 1.3480e+03 1.4450e+03\n",
      " 8.9000e+01 9.0500e+02 1.4220e+03 2.2200e+03 2.2500e+03 1.2380e+03\n",
      " 2.4400e+03 2.1870e+03 5.5000e+02 1.3350e+03 1.1860e+03 8.9500e+02\n",
      " 7.6500e+02 1.5420e+03 9.5600e+02 8.3000e+02 4.0250e+03 2.9000e+03\n",
      " 1.9200e+03 8.8700e+02 3.0700e+02 3.0000e+03 1.1330e+03 9.9000e+03\n",
      " 1.7220e+03 1.7400e+03 8.8000e+02 1.8510e+03 2.9610e+03 1.4590e+03\n",
      " 7.2000e+03 7.2500e+02 2.1400e+03 9.5500e+02 1.4120e+03 2.4100e+02\n",
      " 1.2050e+03 1.1003e+04 3.6000e+02 1.0800e+03 6.3200e+02 2.0360e+03\n",
      " 9.6000e+02 4.6860e+03 6.8200e+02        nan 1.7250e+03 9.4500e+02\n",
      " 2.1200e+03 1.4310e+03 3.9000e+03 2.0790e+03 1.6440e+03 3.5000e+03\n",
      " 1.8060e+03 1.4740e+04 1.0890e+04 1.7750e+03 2.0000e+02 2.4000e+02\n",
      " 1.3500e+02 1.6410e+03 1.4520e+03 1.4260e+03 2.5400e+03 2.6220e+03\n",
      " 2.5300e+03 9.7200e+02 1.5000e+02 1.1500e+02 2.4500e+04 1.3520e+03\n",
      " 8.6000e+01 1.5700e+02 1.5250e+03 2.0710e+03 1.0250e+03 1.0170e+03\n",
      " 1.5650e+03 1.5490e+03 1.1620e+03 1.6650e+03 2.6360e+03 1.6850e+03\n",
      " 2.0200e+03 1.6720e+03 2.0500e+02 1.3800e+02 2.7700e+02 1.7500e+02\n",
      " 1.2000e+02 1.2800e+02 7.0000e+03 6.0000e+03 1.2500e+02 1.3550e+03\n",
      " 1.3240e+03 2.7360e+04 1.7280e+03 2.6430e+03 1.0500e+02 1.1000e+02\n",
      " 1.1800e+02 1.5600e+02 1.6380e+03 1.4000e+04 2.2000e+02 8.2500e+02\n",
      " 1.0070e+03 1.2900e+02 1.5800e+03 1.4280e+03 1.4080e+03 9.1500e+03\n",
      " 1.2220e+03 1.2260e+03 1.6220e+03 1.6900e+02 1.9400e+02 9.2000e+03\n",
      " 1.8780e+03 3.0010e+03 6.5290e+03 3.6380e+03 1.5550e+03 1.7600e+02\n",
      " 1.3370e+03 6.5090e+03 4.5090e+03 1.6300e+03 1.2780e+03 1.8100e+02\n",
      " 1.3540e+03 1.0130e+03 1.7800e+03 1.5440e+03 1.6460e+03 1.6080e+03\n",
      " 5.0500e+03 1.0500e+04 1.5880e+03 1.3360e+03 1.6990e+03 1.7390e+03\n",
      " 1.3140e+03 9.3000e+01 1.1100e+02 8.6400e+02 1.8410e+03 1.3050e+03\n",
      " 1.5920e+03 1.2620e+03 1.4500e+02 2.5200e+03 8.5400e+02 1.2530e+03\n",
      " 1.1000e+04 1.6120e+03 9.6500e+02 2.2520e+03 1.3300e+04 2.4100e+03\n",
      " 1.4550e+03 1.7560e+03 4.0000e+03 1.7440e+03 9.6600e+02 1.4150e+03\n",
      " 1.5200e+03 1.6640e+03 1.0400e+02 1.2400e+02 1.4710e+03 2.4000e+04\n",
      " 1.6920e+03 1.4620e+03 1.8000e+02 1.5400e+02 1.8470e+03 2.5600e+02\n",
      " 8.4000e+01 1.4350e+03 1.5900e+02 1.3130e+03 1.4330e+03 1.9240e+03\n",
      " 1.0120e+03 9.7800e+02 1.8010e+03 4.4400e+02 1.4528e+04 1.1200e+02\n",
      " 1.0200e+02 1.5360e+03 8.0000e+03 1.4600e+02 1.3020e+03 1.5720e+03\n",
      " 1.8350e+03 1.6860e+03 5.5500e+02 1.0030e+03 1.1030e+03 8.9000e+02\n",
      " 1.6070e+03 9.8200e+02 8.0500e+02 1.1020e+03 1.8700e+03 1.4400e+04\n",
      " 3.8880e+03 1.0000e+02 1.6300e+02 1.6100e+02 1.2200e+02 5.5250e+03\n",
      " 1.6450e+03 1.2240e+03 1.3720e+03 1.1700e+03 3.6990e+03 1.9940e+03\n",
      " 1.5240e+03 2.7750e+03 8.7400e+02 1.9000e+02 1.6200e+02 7.5600e+03\n",
      " 5.4000e+03 2.4480e+04 1.0600e+03 1.9560e+03 1.3790e+03 2.8600e+02\n",
      " 2.4700e+02 2.0610e+03 1.1100e+03 1.3600e+02 1.7520e+03 9.5000e+01\n",
      " 9.0000e+01 1.0100e+02 1.8400e+02 1.4360e+03 1.1480e+03 2.5060e+03\n",
      " 1.3400e+02 1.5100e+02 1.5300e+02 2.1480e+03 8.8000e+01 4.5000e+03\n",
      " 1.4660e+03 1.9150e+03 1.4230e+03 1.6150e+03 2.2950e+03 1.4870e+03\n",
      " 1.4930e+03 3.8000e+03 1.6210e+03 1.4290e+03 2.8000e+03 1.6000e+02\n",
      " 2.7820e+03 1.7270e+03 1.7400e+02 1.3900e+02 1.2440e+03 1.1490e+03\n",
      " 1.8800e+02 1.4100e+02 9.6900e+02 1.1650e+03 1.1450e+03 1.3820e+03\n",
      " 1.1700e+02 2.2200e+02 1.5630e+03 1.0000e+04 1.3870e+03 1.8580e+03\n",
      " 1.0540e+03 1.3040e+03 2.0380e+03 2.6800e+03 1.0300e+02 1.6280e+03\n",
      " 1.6320e+03 1.7830e+03 1.5400e+03 1.4700e+02 2.2890e+03 1.6270e+03\n",
      " 1.4900e+03 1.6040e+03 4.3500e+02 2.1200e+02 1.3010e+03 1.9580e+03\n",
      " 2.4200e+03 9.8000e+01 1.2300e+02 1.2600e+02 2.6090e+03 1.1570e+03\n",
      " 1.7900e+03 1.3380e+03 1.6400e+03 8.5000e+01 1.7800e+02 7.0200e+02\n",
      " 1.3920e+03 1.4800e+02 1.0350e+03 1.2000e+04 1.0570e+03 1.5470e+03\n",
      " 1.4380e+03 1.0100e+03 1.1830e+03 1.1900e+03 1.3580e+03 1.0280e+03\n",
      " 1.3270e+03 1.1510e+03 1.2330e+03 9.8500e+02 8.9700e+02 9.0000e+03\n",
      " 8.6400e+03 2.0160e+03 5.4720e+03 9.8100e+02 1.9584e+05 1.1740e+03\n",
      " 4.3200e+04 6.3000e+03 1.2590e+03 1.7424e+05 1.0320e+03 5.8680e+03\n",
      " 2.4436e+04 1.1808e+05 1.0800e+05 6.5000e+03 7.7300e+02 1.0040e+03\n",
      " 7.1000e+02 3.2400e+03 7.2000e+02]\n",
      "Column 'Price_in_taka' unique values: [ 39000000  16900000  12500000  20000000  47500000   8800000  19000000\n",
      "  23000000   8000000  21000000  11000000   9500000   6200000  22000000\n",
      "  13100000  17500000  78000000 110000000  55000000   8300000   3100000\n",
      "  16000000   4500000  14200000   7500000  23625000  25000000  13800000\n",
      "   4000000   4700000   5000000   7320000   6500000   8500000 120000000\n",
      "   8700000   7100000   3500000  18000000  14000000  13200000   8200000\n",
      "  32500000   4100000  11500000  15500000   4800000   5500000   7300000\n",
      "   7000000  35000000   6950000  21500000  16500000  14500000  46000000\n",
      "   7800000  12000000  14800000   7900000   7400000  17000000   6300000\n",
      "   5700000   5600000   4200000  38000000  11200000   8600000   6000000\n",
      "   6700000   7600000   4900000  12100000 220000000   4838400   5300000\n",
      "   5250000  10500000   2900000   3360000   9712500  29000000  54000000\n",
      "   3300000  22500000   9600000   4702500   9000000  31200000  45000000\n",
      "  15000000  29050000  11300000 300000000   9200000   8540000   7118000\n",
      "  57000000  13000000  16150000  22780000  14285000   5590000  13805000\n",
      "  13752000   3700000   5100000   2200000   2300000   3800000   3000000\n",
      "   8855600  26125000   7507500  10000000   9750000   5594400  75000000\n",
      "   8537500  40000000  35237500  32000000  44000000   2700000  13500000\n",
      "  11040000  34100000   9130000  80000000  65000000   6800000   5200000\n",
      " 100000000   3200000  11232000   2600000   6400000  10800000   9700000\n",
      "  16300000  11800000   8637500   5800000   4600000  57800000   5274000\n",
      "   9900000   2500000  42900000  25237500  12800000  13395000  43000000\n",
      "  28000000  12200000   6610000   2503800   2472600   3244800   2800000\n",
      "   7085000  27500000  58000000   9630000  23500000   8250000  15900000\n",
      "   9300000  30000000   9825000  26000000   5796000   8060000   9425000\n",
      "   9975000   7375000   6916000   8140000 155000000  49500000   6050000\n",
      "  19500000   4445000  15750000  15550000   8675000   8400000   2730000\n",
      "   4950000   6600000  25500000   3402000   3750000  50400000   4225000\n",
      "   5400000   6902500   6985000  27000000   7200000   9800000  11675000\n",
      "  10850000  10150000   4275000  32310000   9987500   6540000   5852000\n",
      "   4775000   4870000  18540000  19950000   7680000  10600000  18500000\n",
      "  85000000   6490000  12150000   6100000  10725000 200000000   7700000\n",
      "   4400000  19900000  42435000   3400000  18875000  18575000   4725000\n",
      "   7272000   2400000   4408000  19700000  65580000  79000000  20500000\n",
      "  20800000  13600000 109800000  42000000  34000000   4300000  24500000\n",
      "  26500000   2000000  15725000  32960000  23520000  28485000   2625000\n",
      "  14400000   5040000  19452500  31000000  11050000   5750000  21525000\n",
      "  13968000  10627500   9275000  60000000   6337500  24000000  12870000\n",
      "   8580000   7205000  46500000  12350000  72500000  22920000  47000000\n",
      "  12877500  10710000  12750000  19200000   7490000   8850000  10374000\n",
      "  22104000  15990000   5460000   6936000   6325000  14550000   4410000\n",
      "   4072500   3825000   2880000   9811800   9674000  11600000  13900000\n",
      "  25400000  67500000  39366000   6007500   5337000   5207500   3900000\n",
      "   6250000   5737500   4320000   4440000   5512500   4620000  50000000\n",
      "   3250000   5925000  21200000   9210000  21800000  34800000   8625000\n",
      "  19400000  37000000  18200000   7975000   5791500   7326000   5390000\n",
      "  13882500  52500000   3150000  12400000   6575000   5353500   7788000\n",
      "   6187500   4050000   7425000 154000000   3120000   6231500   7665000\n",
      "   8167000   5850000   4424000  12650000   6160000   2310000   4062500\n",
      " 210870000   3600000   8094000  37500000 500000000  29300000   5020000\n",
      "   5368000  24100000  11700000   6265000  23110000  14662500  59000000\n",
      " 101500000   5985000  33000000   4885000   6827500  52000000   9075000\n",
      "  12160000  12481000  90900000 105000000   7875000   2430000   5260000\n",
      "   7280000   7117000   8100000   7650000  29210000  30153000  29095000\n",
      "   5940000   1500000  70000000   6760000   6850000   1050000   5340000\n",
      "  16605000  17145000   4082000  14459000   7260000   8930000   6972000\n",
      "   7370000  20560800   9267500  14350000  10350000  16620000  13125000\n",
      "   6396000   3125000  23200000  72000000   4742500  13820000   9400000\n",
      " 532000000   3675000   3850000   2950000   7750000 350000000   4025000\n",
      "   4375000   5034000   5024000   3354000   6604000   4998000   4928000\n",
      "   5220000   7150000   4888000   4904000   1300000   5350000  48016000\n",
      " 130580000  65484000   3725000   2750000  12137500   7754600   8462200\n",
      "   7888000   5838000   7755000   7725000   8562500   9264000   9864000\n",
      "  10039120   8040000  90000000  11028200 147000000   5875000   6680000\n",
      "   8495000   8695000   6192000     54235      6669   7570000   9675000\n",
      "   5427000  14100000   2418000   3885000   6720000   8160000   5052500\n",
      "   3950000  15824000   8560000   5679000        66   5638500   5175000\n",
      "  11260000   6831000   5820000  14014000   6280000   5900000   2184000\n",
      "   2232000   1800000   2640000   3080000   2580000  12300000  14625000\n",
      "   5285000   1250000   5760000   2160000   2340000   5740000   2862000\n",
      "   7512500   9887700   9936000  10419000  13120000   7880000   7393750\n",
      "   7646400   8155200   7810000  14817700  11988000   3380000   4550000\n",
      "   7130000 363200000   3920000   3570000   3225000   9335000   5683200\n",
      "  29500000   2920000   2360000   6660000   5859000   8460000  13300000\n",
      "  10854000  11296200   6175000   5515000   5544000   5334000   3928000\n",
      "   3220000   4575000   4525000   3550000  71825000   7731500   3960000\n",
      "  21645000   8550000  14250000   7020000   6840000   4940000   4845000\n",
      "  17716000   3068000  30900000 476000000   7473000   4812500   9119000\n",
      "   7148000  20685000   8835000   8150000  11410000   2964000   4672500\n",
      "   4995000   2875000   2720000  13064000   5520000   1240000   1260000\n",
      "   6750000   2222000   3312000  16132000   5592000   6525000   2680000\n",
      "   3020000   7132000  38664000   1200000  55620000   5887000  95000000\n",
      "   7936000  11490000   7115000   8384200   3650000   9450000  21699600\n",
      "   9962000   3614000   3536000   5632000   4187500   5675125   4330000\n",
      "   6075000   3705000   4427000   3450000   6367000  14040000    434434\n",
      "   3696000       566  12738000   5998400  16800000   1350000  12250000\n",
      "  29932000   9160000  11589500  13450000   7392000  21550000   4102625\n",
      "   6520000   6705000   8822000  13310000   3749000   5025000   3575000\n",
      "   4325000  33917000   4049500   5552000   7518000   1100000   2268000\n",
      "   2848000  12636000   2100000   2320000   2440000   4347000 130000000\n",
      "   5282000   5650000   5878600   5692500   5033000   6010000   3780000\n",
      "   5244000   6190000   3914000   5510000   3535000   5805000   5674000\n",
      "   4536000   5780000   5060000   5658800   5586000   5186500   4080000\n",
      "   5160000   4636000   5320000   4205000   6510000   5642000   6965000\n",
      "   5660000   5560000   5665000   5880000   6900000   5301900   3940000\n",
      "   3139500   4753000   5225000   6505000   3047000   4123500   6188000\n",
      "   5775000   6961000   5130000   4750000   5878000   5785000   3375000\n",
      "   7625000   5625000  15250000  19062500  25156000   3990000 157500000\n",
      "  27570000   4696000   4960000   4740000   1760000   2240000   2560000\n",
      "  22100000 272000000 112500000 182000000   3906400   3815200   4043820\n",
      "   4112000   3357750]\n"
     ]
    }
   ],
   "source": [
    "# Columns of interest\n",
    "columns_of_interest = ['Bedrooms', 'Bathrooms', 'Floor_no', 'Occupancy_status', 'Floor_area', 'Price_in_taka']\n",
    "\n",
    "# Extract and analyze specific columns\n",
    "for col in columns_of_interest:\n",
    "    if col in data.columns:\n",
    "        unique_values = data[col].unique()\n",
    "        print(f\"Column '{col}' unique values: {unique_values}\")"
   ]
  },
  {
   "cell_type": "code",
   "execution_count": null,
   "id": "692364a3",
   "metadata": {
    "papermill": {
     "duration": 0.004892,
     "end_time": "2025-01-08T14:09:06.106087",
     "exception": false,
     "start_time": "2025-01-08T14:09:06.101195",
     "status": "completed"
    },
    "tags": []
   },
   "outputs": [],
   "source": []
  }
 ],
 "metadata": {
  "kaggle": {
   "accelerator": "none",
   "dataSources": [
    {
     "datasetId": 5521749,
     "sourceId": 9142342,
     "sourceType": "datasetVersion"
    }
   ],
   "dockerImageVersionId": 30822,
   "isGpuEnabled": false,
   "isInternetEnabled": false,
   "language": "python",
   "sourceType": "notebook"
  },
  "kernelspec": {
   "display_name": "Python 3",
   "language": "python",
   "name": "python3"
  },
  "language_info": {
   "codemirror_mode": {
    "name": "ipython",
    "version": 3
   },
   "file_extension": ".py",
   "mimetype": "text/x-python",
   "name": "python",
   "nbconvert_exporter": "python",
   "pygments_lexer": "ipython3",
   "version": "3.10.12"
  },
  "papermill": {
   "default_parameters": {},
   "duration": 3.705272,
   "end_time": "2025-01-08T14:09:06.730588",
   "environment_variables": {},
   "exception": null,
   "input_path": "__notebook__.ipynb",
   "output_path": "__notebook__.ipynb",
   "parameters": {},
   "start_time": "2025-01-08T14:09:03.025316",
   "version": "2.6.0"
  }
 },
 "nbformat": 4,
 "nbformat_minor": 5
}
